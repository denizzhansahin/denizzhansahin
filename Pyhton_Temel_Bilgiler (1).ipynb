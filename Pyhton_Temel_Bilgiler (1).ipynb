{
  "nbformat": 4,
  "nbformat_minor": 0,
  "metadata": {
    "colab": {
      "provenance": []
    },
    "kernelspec": {
      "name": "python3",
      "display_name": "Python 3"
    },
    "language_info": {
      "name": "python"
    }
  },
  "cells": [
    {
      "cell_type": "markdown",
      "source": [
        "# Python Yazım Kuralı\n",
        "Python'da satırlarda yer alan boşluklar ile girinti yapılmaktadır."
      ],
      "metadata": {
        "id": "o0o03PPCcLqU"
      }
    },
    {
      "cell_type": "code",
      "execution_count": null,
      "metadata": {
        "colab": {
          "base_uri": "https://localhost:8080/"
        },
        "id": "hmJzOjvocFZJ",
        "outputId": "b2593b1c-a277-4e62-9abf-2c7fb270a765"
      },
      "outputs": [
        {
          "output_type": "stream",
          "name": "stdout",
          "text": [
            "0\n",
            "1\n",
            "2\n",
            "3\n",
            "4\n",
            "5\n",
            "6\n",
            "7\n",
            "8\n",
            "9\n"
          ]
        }
      ],
      "source": [
        "#doğru örnek\n",
        "for i in range(10):\n",
        "  print(i)"
      ]
    },
    {
      "cell_type": "code",
      "source": [
        "#doğru örnek\n",
        "for i in range(10):\n",
        "  print(i)\n",
        "  print(i)"
      ],
      "metadata": {
        "colab": {
          "base_uri": "https://localhost:8080/"
        },
        "id": "zJKRFKt2dbyV",
        "outputId": "0d7871f9-d162-4943-f22f-2937f43b830d"
      },
      "execution_count": null,
      "outputs": [
        {
          "output_type": "stream",
          "name": "stdout",
          "text": [
            "0\n",
            "0\n",
            "1\n",
            "1\n",
            "2\n",
            "2\n",
            "3\n",
            "3\n",
            "4\n",
            "4\n",
            "5\n",
            "5\n",
            "6\n",
            "6\n",
            "7\n",
            "7\n",
            "8\n",
            "8\n",
            "9\n",
            "9\n"
          ]
        }
      ]
    },
    {
      "cell_type": "code",
      "source": [
        "#hatalı örnek\n",
        "for i in range(10):\n",
        "print(i)"
      ],
      "metadata": {
        "colab": {
          "base_uri": "https://localhost:8080/",
          "height": 130
        },
        "id": "R4JGnAI0cxU3",
        "outputId": "185ea5c5-697b-4d25-d90e-bd5bd25fe1ec"
      },
      "execution_count": null,
      "outputs": [
        {
          "output_type": "error",
          "ename": "IndentationError",
          "evalue": "ignored",
          "traceback": [
            "\u001b[0;36m  File \u001b[0;32m\"<ipython-input-3-834cf6626a6c>\"\u001b[0;36m, line \u001b[0;32m3\u001b[0m\n\u001b[0;31m    print(i)\u001b[0m\n\u001b[0m    ^\u001b[0m\n\u001b[0;31mIndentationError\u001b[0m\u001b[0;31m:\u001b[0m expected an indented block\n"
          ]
        }
      ]
    },
    {
      "cell_type": "code",
      "source": [
        "#hatalı örnek\n",
        "for i in range(10):\n",
        "  print(i)\n",
        "    print(i)"
      ],
      "metadata": {
        "colab": {
          "base_uri": "https://localhost:8080/",
          "height": 130
        },
        "id": "rbpw0uz4dhKA",
        "outputId": "0ac60bb1-34bb-4737-c7db-febe6f3d5c9a"
      },
      "execution_count": null,
      "outputs": [
        {
          "output_type": "error",
          "ename": "IndentationError",
          "evalue": "ignored",
          "traceback": [
            "\u001b[0;36m  File \u001b[0;32m\"<ipython-input-4-59391bbdefe8>\"\u001b[0;36m, line \u001b[0;32m4\u001b[0m\n\u001b[0;31m    print(i)\u001b[0m\n\u001b[0m    ^\u001b[0m\n\u001b[0;31mIndentationError\u001b[0m\u001b[0;31m:\u001b[0m unexpected indent\n"
          ]
        }
      ]
    },
    {
      "cell_type": "markdown",
      "source": [
        "# Python'da Yorum Satırları\n",
        "\"\"\" ve # ile yapılmaktadır."
      ],
      "metadata": {
        "id": "CCQeDinddUi9"
      }
    },
    {
      "cell_type": "code",
      "source": [
        "#merhaba bu bir yorum satırıdır.\n",
        "print(\"Ben Denizhan!\") #nerhaba bu bir yorum satırıdır.\n",
        "\n",
        "#merhaba aşağıdaki kod yorum satırı içindedir.\n",
        "#print(\"Merhaba nasılsınız?\")"
      ],
      "metadata": {
        "colab": {
          "base_uri": "https://localhost:8080/"
        },
        "id": "YLTbHIBxeFsU",
        "outputId": "b9d55883-e7f4-4a91-ce34-8ea3224c63f6"
      },
      "execution_count": null,
      "outputs": [
        {
          "output_type": "stream",
          "name": "stdout",
          "text": [
            "Ben Denizhan!\n"
          ]
        }
      ]
    },
    {
      "cell_type": "code",
      "source": [
        "\"\"\" Merhaba \"\"\"\n",
        "\n",
        "\"\"\"print(\"Merhaba\")\"\"\"\n",
        "\n",
        "\"\"\"\n",
        "\n",
        "for i in range(10):\n",
        "  print(\"Yorum satırı!\")\n",
        "\n",
        "\"\"\"\n",
        "\n",
        "print(\"Merhaba yukarıdaki kodlar yorum satırı içinde ve çalışmadı!\")"
      ],
      "metadata": {
        "colab": {
          "base_uri": "https://localhost:8080/"
        },
        "id": "ZQOrO26debji",
        "outputId": "57ae91fb-f2d2-40fe-9b64-6ec09ec2eae7"
      },
      "execution_count": null,
      "outputs": [
        {
          "output_type": "stream",
          "name": "stdout",
          "text": [
            "Merhaba yukarıdaki kodlar yorum satırı içinde ve çalışmadı!\n"
          ]
        }
      ]
    },
    {
      "cell_type": "markdown",
      "source": [
        "# Python'da Değişkenler\n",
        "Python'da değişkenler çalışma esnasında tipleri belli olur. C gibi diller gibi önceden veri tipleri belirlenmez. Bu nedenle Python'da değişkenlerin tipleri aldıkları değerlere göre kolayca değişir. type() ile veri tipleri öğrenilebilir."
      ],
      "metadata": {
        "id": "uliv__mwe2HV"
      }
    },
    {
      "cell_type": "code",
      "source": [
        "x = \"Merhaba\"\n",
        "print(x)\n",
        "print(type(x))\n",
        "y = \" Nasılsın?\"\n",
        "print(y)\n",
        "print(type(y))\n",
        "print(x+y)"
      ],
      "metadata": {
        "colab": {
          "base_uri": "https://localhost:8080/"
        },
        "id": "-yEwAgWNezEg",
        "outputId": "0cb49971-5075-4dd8-abe5-114d1f735c6e"
      },
      "execution_count": null,
      "outputs": [
        {
          "output_type": "stream",
          "name": "stdout",
          "text": [
            "Merhaba\n",
            "<class 'str'>\n",
            " Nasılsın?\n",
            "<class 'str'>\n",
            "Merhaba Nasılsın?\n"
          ]
        }
      ]
    },
    {
      "cell_type": "code",
      "source": [
        "x = 12\n",
        "print(x)\n",
        "print(type(x))\n",
        "y = 15\n",
        "print(y)\n",
        "print(type(y))\n",
        "print(x+y)"
      ],
      "metadata": {
        "colab": {
          "base_uri": "https://localhost:8080/"
        },
        "id": "OEULf7Ochmp-",
        "outputId": "de168f7b-32a1-4d5e-9435-7acae33798e3"
      },
      "execution_count": null,
      "outputs": [
        {
          "output_type": "stream",
          "name": "stdout",
          "text": [
            "12\n",
            "<class 'int'>\n",
            "15\n",
            "<class 'int'>\n",
            "27\n"
          ]
        }
      ]
    },
    {
      "cell_type": "code",
      "source": [
        "z = True\n",
        "print(z)\n",
        "print(type(z))"
      ],
      "metadata": {
        "colab": {
          "base_uri": "https://localhost:8080/"
        },
        "id": "q6kWMW04jSaj",
        "outputId": "91afb772-60f0-4e18-d60e-db2826f16660"
      },
      "execution_count": null,
      "outputs": [
        {
          "output_type": "stream",
          "name": "stdout",
          "text": [
            "True\n",
            "<class 'bool'>\n"
          ]
        }
      ]
    },
    {
      "cell_type": "code",
      "source": [
        "z = False\n",
        "print(z)\n",
        "print(type(z))"
      ],
      "metadata": {
        "colab": {
          "base_uri": "https://localhost:8080/"
        },
        "id": "0vfsfROjji1H",
        "outputId": "d4220073-c87a-46b5-ba69-4d015983e697"
      },
      "execution_count": null,
      "outputs": [
        {
          "output_type": "stream",
          "name": "stdout",
          "text": [
            "False\n",
            "<class 'bool'>\n"
          ]
        }
      ]
    },
    {
      "cell_type": "code",
      "source": [
        "z = 12\n",
        "print(z)\n",
        "print(type(z))"
      ],
      "metadata": {
        "colab": {
          "base_uri": "https://localhost:8080/"
        },
        "id": "ZkvAZsd1jkPY",
        "outputId": "bacf6f85-d038-4418-f0c2-5940df5b12eb"
      },
      "execution_count": null,
      "outputs": [
        {
          "output_type": "stream",
          "name": "stdout",
          "text": [
            "12\n",
            "<class 'int'>\n"
          ]
        }
      ]
    },
    {
      "cell_type": "markdown",
      "source": [
        "# Python'da Golbal ve Local Değişkenler\n",
        "Global değişkenler her yerden erişilen değişkendir.\n",
        "Local değişken ise sadece bulunduğu fonksiyon vb. yapılar içinde erişilen değişkendir."
      ],
      "metadata": {
        "id": "PcCajW90nvkY"
      }
    },
    {
      "cell_type": "code",
      "source": [
        "#Global değişken\n",
        "x = \"Merhaba\"\n",
        "\n",
        "#aşağıdaki fonksiyon dışarıda olan x değişkenine erişir.\n",
        "def fonksiyon_deniz():\n",
        "  print(x)\n",
        "\n",
        "fonksiyon_deniz()"
      ],
      "metadata": {
        "colab": {
          "base_uri": "https://localhost:8080/"
        },
        "id": "57NWXXVFoLHC",
        "outputId": "db8628bb-cb58-4544-f3c9-ebde9b84aad5"
      },
      "execution_count": null,
      "outputs": [
        {
          "output_type": "stream",
          "name": "stdout",
          "text": [
            "Merhaba\n"
          ]
        }
      ]
    },
    {
      "cell_type": "code",
      "source": [
        "#Bir fonksiyon, global değişkenin değerini değiştiremez.\n",
        "\n",
        "#global\n",
        "x = 15\n",
        "print(\"buradaki x fonksiyon dışındakidir.\")\n",
        "print(x)\n",
        "\n",
        "def fonksiyon_deniz():\n",
        "  #local\n",
        "  print(\"Fonksiyon içindeki local x\")\n",
        "  x = 18\n",
        "  print(x)\n",
        "fonksiyon_deniz()\n",
        "\n",
        "print(\"buradaki x fonksiyon dışındakidir.\")\n",
        "print(x)"
      ],
      "metadata": {
        "colab": {
          "base_uri": "https://localhost:8080/"
        },
        "id": "KYduCfD3opl7",
        "outputId": "820c60d2-1175-45b4-ca95-f18cbc0ac5b6"
      },
      "execution_count": null,
      "outputs": [
        {
          "output_type": "stream",
          "name": "stdout",
          "text": [
            "buradaki x fonksiyon dışındakidir.\n",
            "15\n",
            "Fonksiyon içindeki local x\n",
            "18\n",
            "buradaki x fonksiyon dışındakidir.\n",
            "15\n"
          ]
        }
      ]
    },
    {
      "cell_type": "code",
      "source": [
        "#fonksiyon içindeli local değişken dışarıdan erişilemez\n",
        "\n",
        "def deniz():\n",
        "  deger = \"Merhaba\"\n",
        "\n",
        "deniz()\n",
        "\n",
        "print(deger)"
      ],
      "metadata": {
        "colab": {
          "base_uri": "https://localhost:8080/",
          "height": 200
        },
        "id": "Oi3BQXeuqSM6",
        "outputId": "7450ff3d-e336-4726-93ef-b237cd462d47"
      },
      "execution_count": null,
      "outputs": [
        {
          "output_type": "error",
          "ename": "NameError",
          "evalue": "ignored",
          "traceback": [
            "\u001b[0;31m---------------------------------------------------------------------------\u001b[0m",
            "\u001b[0;31mNameError\u001b[0m                                 Traceback (most recent call last)",
            "\u001b[0;32m<ipython-input-14-6e1a6a327c00>\u001b[0m in \u001b[0;36m<module>\u001b[0;34m\u001b[0m\n\u001b[1;32m      6\u001b[0m \u001b[0mdeniz\u001b[0m\u001b[0;34m(\u001b[0m\u001b[0;34m)\u001b[0m\u001b[0;34m\u001b[0m\u001b[0;34m\u001b[0m\u001b[0m\n\u001b[1;32m      7\u001b[0m \u001b[0;34m\u001b[0m\u001b[0m\n\u001b[0;32m----> 8\u001b[0;31m \u001b[0mprint\u001b[0m\u001b[0;34m(\u001b[0m\u001b[0mdeger\u001b[0m\u001b[0;34m)\u001b[0m\u001b[0;34m\u001b[0m\u001b[0;34m\u001b[0m\u001b[0m\n\u001b[0m",
            "\u001b[0;31mNameError\u001b[0m: name 'deger' is not defined"
          ]
        }
      ]
    },
    {
      "cell_type": "code",
      "source": [
        "#Bir fonksiyonun içindeki değişkene erişmek için onu global olarak tanımlayın.\n",
        "\n",
        "\n",
        "def fonksiyon_deniz():\n",
        "  print(\"Fonksiyon içindeki local x\")\n",
        "\n",
        "  global x\n",
        "  x = 18\n",
        "  print(x)\n",
        "fonksiyon_deniz()\n",
        "\n",
        "print(\"buradaki x fonksiyon dışından erişilendir çünkü globaldir.\")\n",
        "print(x)"
      ],
      "metadata": {
        "colab": {
          "base_uri": "https://localhost:8080/"
        },
        "id": "ofsmJ3G_pwH6",
        "outputId": "5c1e9644-cbee-401c-ad2c-7303eed816be"
      },
      "execution_count": null,
      "outputs": [
        {
          "output_type": "stream",
          "name": "stdout",
          "text": [
            "Fonksiyon içindeki local x\n",
            "18\n",
            "buradaki x fonksiyon dışından erişilendir çünkü globaldir.\n",
            "18\n"
          ]
        }
      ]
    },
    {
      "cell_type": "code",
      "source": [
        "#Bir fonksiyon ile fonksiyon dışındaki değişkenin değerini değiştirmek için global olarak fonksiyon içinde tanımlayın.\n",
        "\n",
        "#global\n",
        "x = 15\n",
        "print(\"buradaki x fonksiyon dışındakidir.\")\n",
        "print(x)\n",
        "\n",
        "def fonksiyon_deniz():\n",
        "  #local\n",
        "  print(\"Fonksiyon içindeki local x\")\n",
        "\n",
        "  global x\n",
        "  x = \"Merhaba\"\n",
        "  print(x)\n",
        "fonksiyon_deniz()\n",
        "\n",
        "print(\"buradaki x fonksiyon dışındakidir ve fonksiyon ile değiştirilmiştir.\")\n",
        "print(x)"
      ],
      "metadata": {
        "colab": {
          "base_uri": "https://localhost:8080/"
        },
        "id": "tlW2hG9_qQRN",
        "outputId": "8290682d-83af-4895-bc5c-62559857670e"
      },
      "execution_count": null,
      "outputs": [
        {
          "output_type": "stream",
          "name": "stdout",
          "text": [
            "buradaki x fonksiyon dışındakidir.\n",
            "15\n",
            "Fonksiyon içindeki local x\n",
            "Merhaba\n",
            "buradaki x fonksiyon dışındakidir ve fonksiyon ile değiştirilmiştir.\n",
            "Merhaba\n"
          ]
        }
      ]
    },
    {
      "cell_type": "markdown",
      "source": [
        "# Python'da Tipleri ve Dönüşümleri\n",
        "\n",
        "\n",
        "1.   Bir sayı tipi başka bir sayı tipine, bir sayı tipi bir metinsel veri tipine dönüşebilir\n",
        "2.   Bir metinsel ifade sayı tipine dönüşemez.\n",
        "3.   Bool veri tipi sayısal veri tipine dönüşebilir\n",
        "4.   Bool veri tipi sayısal metinsel tipine dönüşebilir\n",
        "\n"
      ],
      "metadata": {
        "id": "eRlkaa4dgNP0"
      }
    },
    {
      "cell_type": "code",
      "source": [
        "sayi = 12.01545\n",
        "print(sayi)\n",
        "print(type(sayi))\n",
        "\n",
        "#float tipi int tipine dönüştü\n",
        "sayi = int(sayi)\n",
        "print(sayi)\n",
        "print(type(sayi))"
      ],
      "metadata": {
        "colab": {
          "base_uri": "https://localhost:8080/"
        },
        "id": "Nfr48uRcgLmQ",
        "outputId": "f41b9532-efd9-4fa1-be02-4b6e97b6cbba"
      },
      "execution_count": null,
      "outputs": [
        {
          "output_type": "stream",
          "name": "stdout",
          "text": [
            "12.01545\n",
            "<class 'float'>\n",
            "12\n",
            "<class 'int'>\n"
          ]
        }
      ]
    },
    {
      "cell_type": "code",
      "source": [
        "sayi1 = 3535\n",
        "print(sayi1)\n",
        "print(type(sayi1))\n",
        "\n",
        "#int veri tipi float veri tipine dönüşümü\n",
        "sayi1 = float(sayi1)\n",
        "print(sayi1)\n",
        "print(type(sayi1))"
      ],
      "metadata": {
        "colab": {
          "base_uri": "https://localhost:8080/"
        },
        "id": "CnSBUY9bhr6l",
        "outputId": "ddaeb89f-943c-4915-a84b-21101dfee2cc"
      },
      "execution_count": null,
      "outputs": [
        {
          "output_type": "stream",
          "name": "stdout",
          "text": [
            "3535\n",
            "<class 'int'>\n",
            "3535.0\n",
            "<class 'float'>\n"
          ]
        }
      ]
    },
    {
      "cell_type": "code",
      "source": [
        "sayi2 = 22323\n",
        "print(sayi2)\n",
        "print(type(sayi2))\n",
        "\n",
        "#int veri tipi(sayısal veri tipi) metinsel veri tipine(string) dönüşümü\n",
        "sayi2 = str(sayi2)\n",
        "print(sayi2)\n",
        "print(type(sayi2))"
      ],
      "metadata": {
        "colab": {
          "base_uri": "https://localhost:8080/"
        },
        "id": "EGUPI0vzhyxg",
        "outputId": "6c57fe16-6fb7-480b-ae1c-a7c1018d278d"
      },
      "execution_count": null,
      "outputs": [
        {
          "output_type": "stream",
          "name": "stdout",
          "text": [
            "22323\n",
            "<class 'int'>\n",
            "22323\n",
            "<class 'str'>\n"
          ]
        }
      ]
    },
    {
      "cell_type": "code",
      "source": [
        "#bool veri tipi sayısal veri tipine dönüşebilir\n",
        "z = False\n",
        "print(z)\n",
        "print(type(z))\n",
        "\n",
        "z = float(z)\n",
        "print(z)\n",
        "print(type(z))"
      ],
      "metadata": {
        "colab": {
          "base_uri": "https://localhost:8080/"
        },
        "id": "o-KxG59-j7JA",
        "outputId": "79eddc91-af30-4ccd-872a-658d763acaab"
      },
      "execution_count": null,
      "outputs": [
        {
          "output_type": "stream",
          "name": "stdout",
          "text": [
            "False\n",
            "<class 'bool'>\n",
            "0.0\n",
            "<class 'float'>\n"
          ]
        }
      ]
    },
    {
      "cell_type": "code",
      "source": [
        "#bool veri tipi sayısal veri tipine dönüşebilir\n",
        "z = True\n",
        "print(z)\n",
        "print(type(z))\n",
        "\n",
        "z = int(z)\n",
        "print(z)\n",
        "print(type(z))"
      ],
      "metadata": {
        "colab": {
          "base_uri": "https://localhost:8080/"
        },
        "id": "EZRCbr99jrtU",
        "outputId": "fdd32e50-b078-470b-f816-7c9162a1c87a"
      },
      "execution_count": null,
      "outputs": [
        {
          "output_type": "stream",
          "name": "stdout",
          "text": [
            "True\n",
            "<class 'bool'>\n",
            "1\n",
            "<class 'int'>\n"
          ]
        }
      ]
    },
    {
      "cell_type": "code",
      "source": [
        "#bool veri tipi metinsel veri tipine dönüşebilir\n",
        "z = True\n",
        "print(z)\n",
        "print(type(z))\n",
        "\n",
        "z = str(z)\n",
        "print(z)\n",
        "print(type(z))"
      ],
      "metadata": {
        "colab": {
          "base_uri": "https://localhost:8080/"
        },
        "id": "1uUEk0MQkh5J",
        "outputId": "b9f1b09e-fc1d-4c66-cc36-cca2d21f1ac4"
      },
      "execution_count": null,
      "outputs": [
        {
          "output_type": "stream",
          "name": "stdout",
          "text": [
            "True\n",
            "<class 'bool'>\n",
            "True\n",
            "<class 'str'>\n"
          ]
        }
      ]
    },
    {
      "cell_type": "code",
      "source": [
        "#bool veri tipi metinsel veri tipine dönüşebilir\n",
        "t = False\n",
        "print(t)\n",
        "print(type(t))\n",
        "\n",
        "t = str(t)\n",
        "print(t)\n",
        "print(type(t))"
      ],
      "metadata": {
        "colab": {
          "base_uri": "https://localhost:8080/"
        },
        "id": "5MdjHe-nk2tz",
        "outputId": "d453ab43-50e4-44fe-9388-8cad935a6cfb"
      },
      "execution_count": null,
      "outputs": [
        {
          "output_type": "stream",
          "name": "stdout",
          "text": [
            "False\n",
            "<class 'bool'>\n",
            "False\n",
            "<class 'str'>\n"
          ]
        }
      ]
    },
    {
      "cell_type": "code",
      "source": [
        "#str veri tipi sayısal veri tipine dönüşürse hata oluşur.\n",
        "isim = 'd'\n",
        "print(isim)\n",
        "print(type(isim))\n",
        "\n",
        "isim = int(isim)\n",
        "print(isim)\n",
        "print(type(isim))\n"
      ],
      "metadata": {
        "colab": {
          "base_uri": "https://localhost:8080/",
          "height": 269
        },
        "id": "-sILLw3DiV7P",
        "outputId": "945f2929-88f4-4090-d1ac-ee6df34414f7"
      },
      "execution_count": null,
      "outputs": [
        {
          "output_type": "stream",
          "name": "stdout",
          "text": [
            "d\n",
            "<class 'str'>\n"
          ]
        },
        {
          "output_type": "error",
          "ename": "ValueError",
          "evalue": "ignored",
          "traceback": [
            "\u001b[0;31m---------------------------------------------------------------------------\u001b[0m",
            "\u001b[0;31mValueError\u001b[0m                                Traceback (most recent call last)",
            "\u001b[0;32m<ipython-input-24-72ff5c563f55>\u001b[0m in \u001b[0;36m<module>\u001b[0;34m\u001b[0m\n\u001b[1;32m      4\u001b[0m \u001b[0mprint\u001b[0m\u001b[0;34m(\u001b[0m\u001b[0mtype\u001b[0m\u001b[0;34m(\u001b[0m\u001b[0misim\u001b[0m\u001b[0;34m)\u001b[0m\u001b[0;34m)\u001b[0m\u001b[0;34m\u001b[0m\u001b[0;34m\u001b[0m\u001b[0m\n\u001b[1;32m      5\u001b[0m \u001b[0;34m\u001b[0m\u001b[0m\n\u001b[0;32m----> 6\u001b[0;31m \u001b[0misim\u001b[0m \u001b[0;34m=\u001b[0m \u001b[0mint\u001b[0m\u001b[0;34m(\u001b[0m\u001b[0misim\u001b[0m\u001b[0;34m)\u001b[0m\u001b[0;34m\u001b[0m\u001b[0;34m\u001b[0m\u001b[0m\n\u001b[0m\u001b[1;32m      7\u001b[0m \u001b[0mprint\u001b[0m\u001b[0;34m(\u001b[0m\u001b[0misim\u001b[0m\u001b[0;34m)\u001b[0m\u001b[0;34m\u001b[0m\u001b[0;34m\u001b[0m\u001b[0m\n\u001b[1;32m      8\u001b[0m \u001b[0mprint\u001b[0m\u001b[0;34m(\u001b[0m\u001b[0mtype\u001b[0m\u001b[0;34m(\u001b[0m\u001b[0misim\u001b[0m\u001b[0;34m)\u001b[0m\u001b[0;34m)\u001b[0m\u001b[0;34m\u001b[0m\u001b[0;34m\u001b[0m\u001b[0m\n",
            "\u001b[0;31mValueError\u001b[0m: invalid literal for int() with base 10: 'd'"
          ]
        }
      ]
    },
    {
      "cell_type": "code",
      "source": [
        "#str veri tipi sayısal veri tipine dönüşürse hata oluşur.\n",
        "\n",
        "isim2 = \"merhaba\"\n",
        "print(isim2)\n",
        "print(type(isim2))\n",
        "\n",
        "isim2 = int(isim2)\n",
        "print(isim2)\n",
        "print(type(isim2))"
      ],
      "metadata": {
        "colab": {
          "base_uri": "https://localhost:8080/",
          "height": 269
        },
        "id": "kPD_igQ7izvj",
        "outputId": "8760448b-c235-45db-cc14-bb660b91a308"
      },
      "execution_count": null,
      "outputs": [
        {
          "output_type": "stream",
          "name": "stdout",
          "text": [
            "merhaba\n",
            "<class 'str'>\n"
          ]
        },
        {
          "output_type": "error",
          "ename": "ValueError",
          "evalue": "ignored",
          "traceback": [
            "\u001b[0;31m---------------------------------------------------------------------------\u001b[0m",
            "\u001b[0;31mValueError\u001b[0m                                Traceback (most recent call last)",
            "\u001b[0;32m<ipython-input-25-97a9098c78b1>\u001b[0m in \u001b[0;36m<module>\u001b[0;34m\u001b[0m\n\u001b[1;32m      5\u001b[0m \u001b[0mprint\u001b[0m\u001b[0;34m(\u001b[0m\u001b[0mtype\u001b[0m\u001b[0;34m(\u001b[0m\u001b[0misim2\u001b[0m\u001b[0;34m)\u001b[0m\u001b[0;34m)\u001b[0m\u001b[0;34m\u001b[0m\u001b[0;34m\u001b[0m\u001b[0m\n\u001b[1;32m      6\u001b[0m \u001b[0;34m\u001b[0m\u001b[0m\n\u001b[0;32m----> 7\u001b[0;31m \u001b[0misim2\u001b[0m \u001b[0;34m=\u001b[0m \u001b[0mint\u001b[0m\u001b[0;34m(\u001b[0m\u001b[0misim2\u001b[0m\u001b[0;34m)\u001b[0m\u001b[0;34m\u001b[0m\u001b[0;34m\u001b[0m\u001b[0m\n\u001b[0m\u001b[1;32m      8\u001b[0m \u001b[0mprint\u001b[0m\u001b[0;34m(\u001b[0m\u001b[0misim2\u001b[0m\u001b[0;34m)\u001b[0m\u001b[0;34m\u001b[0m\u001b[0;34m\u001b[0m\u001b[0m\n\u001b[1;32m      9\u001b[0m \u001b[0mprint\u001b[0m\u001b[0;34m(\u001b[0m\u001b[0mtype\u001b[0m\u001b[0;34m(\u001b[0m\u001b[0misim2\u001b[0m\u001b[0;34m)\u001b[0m\u001b[0;34m)\u001b[0m\u001b[0;34m\u001b[0m\u001b[0;34m\u001b[0m\u001b[0m\n",
            "\u001b[0;31mValueError\u001b[0m: invalid literal for int() with base 10: 'merhaba'"
          ]
        }
      ]
    },
    {
      "cell_type": "code",
      "source": [
        "#str veri tipi sayısal veri tipine dönüşürse hata oluşur.\n",
        "\n",
        "isim3 = \"nasılsın\"\n",
        "print(isim3)\n",
        "print(type(isim2))\n",
        "\n",
        "isim3 = float(isim3)\n",
        "print(isim3)\n",
        "print(type(isim3))"
      ],
      "metadata": {
        "colab": {
          "base_uri": "https://localhost:8080/",
          "height": 269
        },
        "id": "M_ycExQ4i55L",
        "outputId": "6dc04502-844d-41cb-ba09-cf74c8d0e9aa"
      },
      "execution_count": null,
      "outputs": [
        {
          "output_type": "stream",
          "name": "stdout",
          "text": [
            "nasılsın\n",
            "<class 'str'>\n"
          ]
        },
        {
          "output_type": "error",
          "ename": "ValueError",
          "evalue": "ignored",
          "traceback": [
            "\u001b[0;31m---------------------------------------------------------------------------\u001b[0m",
            "\u001b[0;31mValueError\u001b[0m                                Traceback (most recent call last)",
            "\u001b[0;32m<ipython-input-26-c103f8cf51fd>\u001b[0m in \u001b[0;36m<module>\u001b[0;34m\u001b[0m\n\u001b[1;32m      5\u001b[0m \u001b[0mprint\u001b[0m\u001b[0;34m(\u001b[0m\u001b[0mtype\u001b[0m\u001b[0;34m(\u001b[0m\u001b[0misim2\u001b[0m\u001b[0;34m)\u001b[0m\u001b[0;34m)\u001b[0m\u001b[0;34m\u001b[0m\u001b[0;34m\u001b[0m\u001b[0m\n\u001b[1;32m      6\u001b[0m \u001b[0;34m\u001b[0m\u001b[0m\n\u001b[0;32m----> 7\u001b[0;31m \u001b[0misim3\u001b[0m \u001b[0;34m=\u001b[0m \u001b[0mfloat\u001b[0m\u001b[0;34m(\u001b[0m\u001b[0misim3\u001b[0m\u001b[0;34m)\u001b[0m\u001b[0;34m\u001b[0m\u001b[0;34m\u001b[0m\u001b[0m\n\u001b[0m\u001b[1;32m      8\u001b[0m \u001b[0mprint\u001b[0m\u001b[0;34m(\u001b[0m\u001b[0misim3\u001b[0m\u001b[0;34m)\u001b[0m\u001b[0;34m\u001b[0m\u001b[0;34m\u001b[0m\u001b[0m\n\u001b[1;32m      9\u001b[0m \u001b[0mprint\u001b[0m\u001b[0;34m(\u001b[0m\u001b[0mtype\u001b[0m\u001b[0;34m(\u001b[0m\u001b[0misim3\u001b[0m\u001b[0;34m)\u001b[0m\u001b[0;34m)\u001b[0m\u001b[0;34m\u001b[0m\u001b[0;34m\u001b[0m\u001b[0m\n",
            "\u001b[0;31mValueError\u001b[0m: could not convert string to float: 'nasılsın'"
          ]
        }
      ]
    },
    {
      "cell_type": "code",
      "source": [
        "#str veri tipi sayısal veri tipine dönüşürse hata oluşur.\n",
        "\n",
        "isim4 = 'e'\n",
        "print(isim4)\n",
        "print(type(isim4))\n",
        "\n",
        "isim4 = int(isim4)\n",
        "print(isim4)\n",
        "print(type(isim4))"
      ],
      "metadata": {
        "colab": {
          "base_uri": "https://localhost:8080/",
          "height": 269
        },
        "id": "aJMx-i2ojCZ2",
        "outputId": "7eacdfff-b5f5-4865-a855-e42c3f6d3436"
      },
      "execution_count": null,
      "outputs": [
        {
          "output_type": "stream",
          "name": "stdout",
          "text": [
            "e\n",
            "<class 'str'>\n"
          ]
        },
        {
          "output_type": "error",
          "ename": "ValueError",
          "evalue": "ignored",
          "traceback": [
            "\u001b[0;31m---------------------------------------------------------------------------\u001b[0m",
            "\u001b[0;31mValueError\u001b[0m                                Traceback (most recent call last)",
            "\u001b[0;32m<ipython-input-27-379b5812dede>\u001b[0m in \u001b[0;36m<module>\u001b[0;34m\u001b[0m\n\u001b[1;32m      5\u001b[0m \u001b[0mprint\u001b[0m\u001b[0;34m(\u001b[0m\u001b[0mtype\u001b[0m\u001b[0;34m(\u001b[0m\u001b[0misim4\u001b[0m\u001b[0;34m)\u001b[0m\u001b[0;34m)\u001b[0m\u001b[0;34m\u001b[0m\u001b[0;34m\u001b[0m\u001b[0m\n\u001b[1;32m      6\u001b[0m \u001b[0;34m\u001b[0m\u001b[0m\n\u001b[0;32m----> 7\u001b[0;31m \u001b[0misim4\u001b[0m \u001b[0;34m=\u001b[0m \u001b[0mint\u001b[0m\u001b[0;34m(\u001b[0m\u001b[0misim4\u001b[0m\u001b[0;34m)\u001b[0m\u001b[0;34m\u001b[0m\u001b[0;34m\u001b[0m\u001b[0m\n\u001b[0m\u001b[1;32m      8\u001b[0m \u001b[0mprint\u001b[0m\u001b[0;34m(\u001b[0m\u001b[0misim4\u001b[0m\u001b[0;34m)\u001b[0m\u001b[0;34m\u001b[0m\u001b[0;34m\u001b[0m\u001b[0m\n\u001b[1;32m      9\u001b[0m \u001b[0mprint\u001b[0m\u001b[0;34m(\u001b[0m\u001b[0mtype\u001b[0m\u001b[0;34m(\u001b[0m\u001b[0misim4\u001b[0m\u001b[0;34m)\u001b[0m\u001b[0;34m)\u001b[0m\u001b[0;34m\u001b[0m\u001b[0;34m\u001b[0m\u001b[0m\n",
            "\u001b[0;31mValueError\u001b[0m: invalid literal for int() with base 10: 'e'"
          ]
        }
      ]
    },
    {
      "cell_type": "markdown",
      "source": [
        "# Python'da Karşılaştırma\n",
        "\n",
        "1. \"<\" küçüktür\n",
        "2. \">\" büyüktür\n",
        "3. \"<=\" küçük eşittir\n",
        "4. \">=\" büyük eşittir\n",
        "5. \"==\" eşittir\n",
        "6. \"!=\" eşit değildir."
      ],
      "metadata": {
        "id": "B0rcIGbllOWL"
      }
    },
    {
      "cell_type": "code",
      "source": [
        "print(4<5)"
      ],
      "metadata": {
        "colab": {
          "base_uri": "https://localhost:8080/"
        },
        "id": "q6K22DNOlTXE",
        "outputId": "c5cbccb8-8508-4ef5-e059-eb79d4aae560"
      },
      "execution_count": null,
      "outputs": [
        {
          "output_type": "stream",
          "name": "stdout",
          "text": [
            "True\n"
          ]
        }
      ]
    },
    {
      "cell_type": "code",
      "source": [
        "print(4>5)"
      ],
      "metadata": {
        "colab": {
          "base_uri": "https://localhost:8080/"
        },
        "id": "exrG-OHLl4_I",
        "outputId": "4b52065c-7f0f-42bb-a0a3-5edf71c50d3d"
      },
      "execution_count": null,
      "outputs": [
        {
          "output_type": "stream",
          "name": "stdout",
          "text": [
            "False\n"
          ]
        }
      ]
    },
    {
      "cell_type": "code",
      "source": [
        "print(4==4)"
      ],
      "metadata": {
        "colab": {
          "base_uri": "https://localhost:8080/"
        },
        "id": "lCjQsWwsl7PT",
        "outputId": "3fc6b930-8906-4beb-d300-63beaf37db3a"
      },
      "execution_count": null,
      "outputs": [
        {
          "output_type": "stream",
          "name": "stdout",
          "text": [
            "True\n"
          ]
        }
      ]
    },
    {
      "cell_type": "code",
      "source": [
        "print(5<=6)"
      ],
      "metadata": {
        "colab": {
          "base_uri": "https://localhost:8080/"
        },
        "id": "t8GebRq2mAUw",
        "outputId": "1821ae17-7c8a-4bb6-8caa-a739d52fadbf"
      },
      "execution_count": null,
      "outputs": [
        {
          "output_type": "stream",
          "name": "stdout",
          "text": [
            "True\n"
          ]
        }
      ]
    },
    {
      "cell_type": "code",
      "source": [
        "print(5<=4)"
      ],
      "metadata": {
        "colab": {
          "base_uri": "https://localhost:8080/"
        },
        "id": "2nspKYWRmK2o",
        "outputId": "3cf3ec90-be6e-441b-9944-6481395c195e"
      },
      "execution_count": null,
      "outputs": [
        {
          "output_type": "stream",
          "name": "stdout",
          "text": [
            "False\n"
          ]
        }
      ]
    },
    {
      "cell_type": "code",
      "source": [
        "print(5<=5)"
      ],
      "metadata": {
        "colab": {
          "base_uri": "https://localhost:8080/"
        },
        "id": "Dbvvo-t7mC4M",
        "outputId": "6c919763-dd36-422c-9bfa-13a2f8748b2e"
      },
      "execution_count": null,
      "outputs": [
        {
          "output_type": "stream",
          "name": "stdout",
          "text": [
            "True\n"
          ]
        }
      ]
    },
    {
      "cell_type": "code",
      "source": [
        "print(5>=2)"
      ],
      "metadata": {
        "colab": {
          "base_uri": "https://localhost:8080/"
        },
        "id": "cEJ0D2VqmFHM",
        "outputId": "ddd35a37-19e1-4cdf-aec0-09f01a304276"
      },
      "execution_count": null,
      "outputs": [
        {
          "output_type": "stream",
          "name": "stdout",
          "text": [
            "True\n"
          ]
        }
      ]
    },
    {
      "cell_type": "code",
      "source": [
        "print(5>=4)"
      ],
      "metadata": {
        "colab": {
          "base_uri": "https://localhost:8080/"
        },
        "id": "KGf9IUnUmHg0",
        "outputId": "ec0e0cfe-f67b-4658-8be5-d02bb8417473"
      },
      "execution_count": null,
      "outputs": [
        {
          "output_type": "stream",
          "name": "stdout",
          "text": [
            "True\n"
          ]
        }
      ]
    },
    {
      "cell_type": "code",
      "source": [
        "print(5>=6)"
      ],
      "metadata": {
        "colab": {
          "base_uri": "https://localhost:8080/"
        },
        "id": "TdK8dWlFmOL-",
        "outputId": "a4090fae-3bf3-4d16-e2bc-ef28b893edb4"
      },
      "execution_count": null,
      "outputs": [
        {
          "output_type": "stream",
          "name": "stdout",
          "text": [
            "False\n"
          ]
        }
      ]
    },
    {
      "cell_type": "code",
      "source": [
        "print(5!=4)"
      ],
      "metadata": {
        "colab": {
          "base_uri": "https://localhost:8080/"
        },
        "id": "iMqkqFVNmQas",
        "outputId": "743be4b4-74aa-4a19-f32e-2ceb16d3de47"
      },
      "execution_count": null,
      "outputs": [
        {
          "output_type": "stream",
          "name": "stdout",
          "text": [
            "True\n"
          ]
        }
      ]
    },
    {
      "cell_type": "code",
      "source": [
        "print(5!=5)"
      ],
      "metadata": {
        "colab": {
          "base_uri": "https://localhost:8080/"
        },
        "id": "Wgd9oxGWmS_k",
        "outputId": "89e0d162-e946-4773-95fd-86e271c88359"
      },
      "execution_count": null,
      "outputs": [
        {
          "output_type": "stream",
          "name": "stdout",
          "text": [
            "False\n"
          ]
        }
      ]
    },
    {
      "cell_type": "code",
      "source": [
        "x = 12\n",
        "y = 15\n",
        "print(x>y)\n",
        "print(x<y)\n",
        "\n",
        "print(\"---------\")\n",
        "\n",
        "x = True\n",
        "y = True\n",
        "\n",
        "print(x==y)\n",
        "print(x!=y)\n",
        "\n",
        "print(\"---------\")\n",
        "\n",
        "x = \"Merhaba\"\n",
        "y = \"Merhaba\"\n",
        "\n",
        "print(x==y)\n",
        "print(x!=y)\n",
        "\n",
        "print(\"---------\")\n",
        "\n",
        "x = \"Merhaba\"\n",
        "y = \"Nasılsın\"\n",
        "\n",
        "print(x==y)\n",
        "print(x!=y)"
      ],
      "metadata": {
        "colab": {
          "base_uri": "https://localhost:8080/"
        },
        "id": "OTu7yqOrmiy5",
        "outputId": "a7ff4e0a-77ff-46b1-f0c9-a682e1222603"
      },
      "execution_count": null,
      "outputs": [
        {
          "output_type": "stream",
          "name": "stdout",
          "text": [
            "False\n",
            "True\n",
            "---------\n",
            "True\n",
            "False\n",
            "---------\n",
            "True\n",
            "False\n",
            "---------\n",
            "False\n",
            "True\n"
          ]
        }
      ]
    },
    {
      "cell_type": "code",
      "source": [
        "#Burada ise bilgisayarlar tarafından işlenen alfabedeki harf sıraları esas alınarak karşılaştırma yapılmıştır.\n",
        "x = \"Merhaba\"\n",
        "y = \"Nasılsın\"\n",
        "\n",
        "print(x>y)\n",
        "print(x<y)\n",
        "\n",
        "print(x>=y)\n",
        "print(x<=y)\n",
        "\n",
        "print(\"---------\")\n",
        "x = \"Merhaba\"\n",
        "y = \"Merhaba\"\n",
        "\n",
        "print(x==y)\n",
        "print(x!=y)\n",
        "\n",
        "print(x>=y)\n",
        "print(x<=y)"
      ],
      "metadata": {
        "colab": {
          "base_uri": "https://localhost:8080/"
        },
        "id": "Z9M29yNZnCMX",
        "outputId": "44b0d459-6951-4c1a-dd4d-d9e81656f350"
      },
      "execution_count": null,
      "outputs": [
        {
          "output_type": "stream",
          "name": "stdout",
          "text": [
            "False\n",
            "True\n",
            "False\n",
            "True\n",
            "---------\n",
            "True\n",
            "False\n",
            "True\n",
            "True\n"
          ]
        }
      ]
    },
    {
      "cell_type": "markdown",
      "source": [
        "# Python'da Matematiksel İşlemler\n",
        "\n",
        "\n",
        "1.   Toplama +\n",
        "2.   Çıkarma -\n",
        "3.   Bölme  /\n",
        "4.   Çarpma  *\n",
        "5.   Üs Alma  **\n",
        "6.   Mod Alma %\n",
        "7.   Sonuc kısmının tam kısmını alarak bölme\n",
        "\n",
        "import math ile ilgili Matematik kütüphaneleri sisteme eklenir.\n",
        "\n",
        "abs() ile mutlak değer bulunur.\n",
        "\n"
      ],
      "metadata": {
        "id": "EiSBH_8Dq_61"
      }
    },
    {
      "cell_type": "code",
      "source": [
        "print(5+5)"
      ],
      "metadata": {
        "colab": {
          "base_uri": "https://localhost:8080/"
        },
        "id": "ghL2--Ahralm",
        "outputId": "abe050a8-54d9-45fb-c8e4-5d347abf91f7"
      },
      "execution_count": null,
      "outputs": [
        {
          "output_type": "stream",
          "name": "stdout",
          "text": [
            "10\n"
          ]
        }
      ]
    },
    {
      "cell_type": "code",
      "source": [
        "print(8-5)"
      ],
      "metadata": {
        "colab": {
          "base_uri": "https://localhost:8080/"
        },
        "id": "25j2exLkr5qW",
        "outputId": "0484f861-ac0a-4918-896b-a4f236ad8ceb"
      },
      "execution_count": null,
      "outputs": [
        {
          "output_type": "stream",
          "name": "stdout",
          "text": [
            "3\n"
          ]
        }
      ]
    },
    {
      "cell_type": "code",
      "source": [
        "print(8*7)"
      ],
      "metadata": {
        "colab": {
          "base_uri": "https://localhost:8080/"
        },
        "id": "zK3xzFYxr7Z8",
        "outputId": "04cb4c6d-7126-46f1-9d8a-8a69cfe2fc4c"
      },
      "execution_count": null,
      "outputs": [
        {
          "output_type": "stream",
          "name": "stdout",
          "text": [
            "56\n"
          ]
        }
      ]
    },
    {
      "cell_type": "code",
      "source": [
        "print(15/3)"
      ],
      "metadata": {
        "colab": {
          "base_uri": "https://localhost:8080/"
        },
        "id": "B6GulPwlr9yk",
        "outputId": "4c4b19b2-fac1-48f4-f8ca-8611bb6d8c6f"
      },
      "execution_count": null,
      "outputs": [
        {
          "output_type": "stream",
          "name": "stdout",
          "text": [
            "5.0\n"
          ]
        }
      ]
    },
    {
      "cell_type": "code",
      "source": [
        "print(8**2)"
      ],
      "metadata": {
        "colab": {
          "base_uri": "https://localhost:8080/"
        },
        "id": "ZYb_qCbCr_U2",
        "outputId": "040bd5d7-0b07-4d67-dfff-bfb3e90f77af"
      },
      "execution_count": null,
      "outputs": [
        {
          "output_type": "stream",
          "name": "stdout",
          "text": [
            "64\n"
          ]
        }
      ]
    },
    {
      "cell_type": "code",
      "source": [
        "print(8%2)"
      ],
      "metadata": {
        "colab": {
          "base_uri": "https://localhost:8080/"
        },
        "id": "EjBkM4HzsAaa",
        "outputId": "ad77495d-730b-4269-b8b9-4131e487af46"
      },
      "execution_count": null,
      "outputs": [
        {
          "output_type": "stream",
          "name": "stdout",
          "text": [
            "0\n"
          ]
        }
      ]
    },
    {
      "cell_type": "code",
      "source": [
        "print(7%5)"
      ],
      "metadata": {
        "colab": {
          "base_uri": "https://localhost:8080/"
        },
        "id": "UYR3TbjosDKu",
        "outputId": "757baf2e-5fd8-42d2-bb78-600bbc8218c8"
      },
      "execution_count": null,
      "outputs": [
        {
          "output_type": "stream",
          "name": "stdout",
          "text": [
            "2\n"
          ]
        }
      ]
    },
    {
      "cell_type": "code",
      "source": [
        "print(12/5)\n",
        "\n",
        "print(12//5)\n",
        "\n",
        "\n",
        "print(17/5)\n",
        "\n",
        "print(17//5)"
      ],
      "metadata": {
        "colab": {
          "base_uri": "https://localhost:8080/"
        },
        "id": "J2gKbpRL_mF4",
        "outputId": "27e82cd8-ffd0-4a44-f4f1-95169ba0246a"
      },
      "execution_count": null,
      "outputs": [
        {
          "output_type": "stream",
          "name": "stdout",
          "text": [
            "2.4\n",
            "2\n",
            "3.4\n",
            "3\n"
          ]
        }
      ]
    },
    {
      "cell_type": "code",
      "source": [
        "print(abs(12))"
      ],
      "metadata": {
        "colab": {
          "base_uri": "https://localhost:8080/"
        },
        "id": "BITyIzeUsF7L",
        "outputId": "0bb6d7ad-b459-40fc-f219-0fa0a464c996"
      },
      "execution_count": null,
      "outputs": [
        {
          "output_type": "stream",
          "name": "stdout",
          "text": [
            "12\n"
          ]
        }
      ]
    },
    {
      "cell_type": "code",
      "source": [
        "print(abs(-15))"
      ],
      "metadata": {
        "colab": {
          "base_uri": "https://localhost:8080/"
        },
        "id": "GfW8Wu7vsJsq",
        "outputId": "7307fb7c-877a-4f2f-dae3-ab89dfdd239e"
      },
      "execution_count": null,
      "outputs": [
        {
          "output_type": "stream",
          "name": "stdout",
          "text": [
            "15\n"
          ]
        }
      ]
    },
    {
      "cell_type": "code",
      "source": [
        "x = 15\n",
        "y = 14\n",
        "print(x+y)"
      ],
      "metadata": {
        "colab": {
          "base_uri": "https://localhost:8080/"
        },
        "id": "H0XAq9JvsO_v",
        "outputId": "840b44df-fd1f-48b3-e2c0-d148cd2ed6bc"
      },
      "execution_count": null,
      "outputs": [
        {
          "output_type": "stream",
          "name": "stdout",
          "text": [
            "29\n"
          ]
        }
      ]
    },
    {
      "cell_type": "markdown",
      "source": [
        "# Python'da Atama"
      ],
      "metadata": {
        "id": "_lAuvGjB_Bla"
      }
    },
    {
      "cell_type": "code",
      "source": [
        "deger = 0\n",
        "print(deger)"
      ],
      "metadata": {
        "colab": {
          "base_uri": "https://localhost:8080/"
        },
        "id": "8o66eszS_AmQ",
        "outputId": "dd4e0d47-d988-4a04-fd51-2b6527c494a1"
      },
      "execution_count": null,
      "outputs": [
        {
          "output_type": "stream",
          "name": "stdout",
          "text": [
            "0\n"
          ]
        }
      ]
    },
    {
      "cell_type": "code",
      "source": [
        "deger += 10\n",
        "print(deger)"
      ],
      "metadata": {
        "colab": {
          "base_uri": "https://localhost:8080/"
        },
        "id": "evGK3Zph_KMN",
        "outputId": "73110834-89f8-4133-b27d-b62ddd976113"
      },
      "execution_count": null,
      "outputs": [
        {
          "output_type": "stream",
          "name": "stdout",
          "text": [
            "10\n"
          ]
        }
      ]
    },
    {
      "cell_type": "code",
      "source": [
        "deger = 0\n",
        "deger -= 10\n",
        "print(deger)"
      ],
      "metadata": {
        "colab": {
          "base_uri": "https://localhost:8080/"
        },
        "id": "iWDhXups_QN2",
        "outputId": "1397449d-bcac-4897-e362-8f55f6a4880a"
      },
      "execution_count": null,
      "outputs": [
        {
          "output_type": "stream",
          "name": "stdout",
          "text": [
            "-10\n"
          ]
        }
      ]
    },
    {
      "cell_type": "code",
      "source": [
        "deger = 10\n",
        "deger *= 10\n",
        "print(deger)"
      ],
      "metadata": {
        "colab": {
          "base_uri": "https://localhost:8080/"
        },
        "id": "mku1_t6V_WjD",
        "outputId": "17663bd0-feb4-45aa-f599-97e4f0ad9a9f"
      },
      "execution_count": null,
      "outputs": [
        {
          "output_type": "stream",
          "name": "stdout",
          "text": [
            "100\n"
          ]
        }
      ]
    },
    {
      "cell_type": "code",
      "source": [
        "deger = 100\n",
        "deger /= 10\n",
        "print(deger)"
      ],
      "metadata": {
        "colab": {
          "base_uri": "https://localhost:8080/"
        },
        "id": "RIBgJ8pN_ZzO",
        "outputId": "4f1845bc-cb3e-4ce7-97d3-e88bfd161eb5"
      },
      "execution_count": null,
      "outputs": [
        {
          "output_type": "stream",
          "name": "stdout",
          "text": [
            "10.0\n"
          ]
        }
      ]
    },
    {
      "cell_type": "code",
      "source": [
        "deger = 111\n",
        "deger //= 10\n",
        "print(deger)"
      ],
      "metadata": {
        "colab": {
          "base_uri": "https://localhost:8080/"
        },
        "id": "s-jJgfZg_6Zd",
        "outputId": "057fcc5b-8b1b-4843-d903-dd455819ef7f"
      },
      "execution_count": null,
      "outputs": [
        {
          "output_type": "stream",
          "name": "stdout",
          "text": [
            "11\n"
          ]
        }
      ]
    },
    {
      "cell_type": "code",
      "source": [
        "deger = 10\n",
        "deger **= 10\n",
        "print(deger)"
      ],
      "metadata": {
        "colab": {
          "base_uri": "https://localhost:8080/"
        },
        "id": "-gYyZFs___ol",
        "outputId": "b460dd40-d72c-441c-eee7-ca6687d1bc0f"
      },
      "execution_count": null,
      "outputs": [
        {
          "output_type": "stream",
          "name": "stdout",
          "text": [
            "10000000000\n"
          ]
        }
      ]
    },
    {
      "cell_type": "code",
      "source": [
        "deger = 1134\n",
        "deger %= 10\n",
        "print(deger)"
      ],
      "metadata": {
        "colab": {
          "base_uri": "https://localhost:8080/"
        },
        "id": "eqpLV1ycAJ-m",
        "outputId": "c813c9f4-9f71-40d4-8905-5e7c07b26323"
      },
      "execution_count": null,
      "outputs": [
        {
          "output_type": "stream",
          "name": "stdout",
          "text": [
            "4\n"
          ]
        }
      ]
    },
    {
      "cell_type": "markdown",
      "source": [
        "# Python Listeler\n",
        "1. \"[\" ve \"]\" veya list() ile oluşturulur.\n",
        "2. Elemanları değiştirilebilir.\n",
        "3. Birden fazla eleman saklayabilir."
      ],
      "metadata": {
        "id": "Kb-nDPjCshNS"
      }
    },
    {
      "cell_type": "code",
      "source": [
        "#[ ] ile liste yapımı\n",
        "liste = [1,2,3,\"Merhaba\"]"
      ],
      "metadata": {
        "id": "iR1iDqpTsoIQ"
      },
      "execution_count": null,
      "outputs": []
    },
    {
      "cell_type": "code",
      "source": [
        "#liste elemanlarına erişmek\n",
        "print(liste[0])\n",
        "print(liste[1])\n",
        "print(liste[2])\n",
        "print(liste[3])"
      ],
      "metadata": {
        "colab": {
          "base_uri": "https://localhost:8080/"
        },
        "id": "35KsBaaysf_j",
        "outputId": "0613f5b5-a53b-478e-8951-c07ca222dd31"
      },
      "execution_count": null,
      "outputs": [
        {
          "output_type": "stream",
          "name": "stdout",
          "text": [
            "1\n",
            "2\n",
            "3\n",
            "Merhaba\n"
          ]
        }
      ]
    },
    {
      "cell_type": "code",
      "source": [
        "#list() ile liste yapımı\n",
        "liste = list([\"Merhaba\",\"Nasılsın\"])"
      ],
      "metadata": {
        "id": "rt94giRstBc4"
      },
      "execution_count": null,
      "outputs": []
    },
    {
      "cell_type": "code",
      "source": [
        "print(liste[0])\n",
        "print(liste[1])"
      ],
      "metadata": {
        "colab": {
          "base_uri": "https://localhost:8080/"
        },
        "id": "nq5a3bmatIz4",
        "outputId": "2ff39e0b-9751-4be8-a24c-32a6ad04fa63"
      },
      "execution_count": null,
      "outputs": [
        {
          "output_type": "stream",
          "name": "stdout",
          "text": [
            "Merhaba\n",
            "Nasılsın\n"
          ]
        }
      ]
    },
    {
      "cell_type": "code",
      "source": [
        "#listenin tamamını yazdırmak\n",
        "liste = [\"Python\",\"Java\",12,4.5]\n",
        "print(liste)"
      ],
      "metadata": {
        "colab": {
          "base_uri": "https://localhost:8080/"
        },
        "id": "bXYohw_6tbRx",
        "outputId": "06f337b3-a341-4f75-c281-4545eb1a6ade"
      },
      "execution_count": null,
      "outputs": [
        {
          "output_type": "stream",
          "name": "stdout",
          "text": [
            "['Python', 'Java', 12, 4.5]\n"
          ]
        }
      ]
    },
    {
      "cell_type": "code",
      "source": [
        "#list uzunluğunu öğrenmek için len() kullanılır\n",
        "liste = [\"İstanbul\",\"Ankara\",1,2,3,4]\n",
        "print(len(liste))"
      ],
      "metadata": {
        "colab": {
          "base_uri": "https://localhost:8080/"
        },
        "id": "rNJOrskCtqD5",
        "outputId": "06c012ed-f9c8-4094-fb43-fd107010d70b"
      },
      "execution_count": null,
      "outputs": [
        {
          "output_type": "stream",
          "name": "stdout",
          "text": [
            "6\n"
          ]
        }
      ]
    },
    {
      "cell_type": "code",
      "source": [
        "#Liste elemanları değiştirilebilir.\n",
        "liste = [\"Denizhan\",\"Şahin\"]\n",
        "print(liste)\n",
        "print(liste[0])\n",
        "print(liste[1])\n",
        "\n",
        "liste[0] = \"Deniz\"\n",
        "liste[1] = \"Han\"\n",
        "print(liste)\n",
        "print(liste[0])\n",
        "print(liste[1])"
      ],
      "metadata": {
        "colab": {
          "base_uri": "https://localhost:8080/"
        },
        "id": "QdX9ocQCtNwU",
        "outputId": "94e9e56e-8880-4f14-f3fe-78ea9c12d30e"
      },
      "execution_count": null,
      "outputs": [
        {
          "output_type": "stream",
          "name": "stdout",
          "text": [
            "['Denizhan', 'Şahin']\n",
            "Denizhan\n",
            "Şahin\n",
            "['Deniz', 'Han']\n",
            "Deniz\n",
            "Han\n"
          ]
        }
      ]
    },
    {
      "cell_type": "code",
      "source": [
        "#liste içinde liste saklanabilir\n",
        "liste = [1,2,3,4,5,[6,7,8,9]]\n",
        "print(len(liste))\n",
        "\n",
        "print(liste[0])\n",
        "print(liste[1])\n",
        "print(liste[2])\n",
        "print(liste[3])\n",
        "print(liste[4])\n",
        "print(liste[5])"
      ],
      "metadata": {
        "colab": {
          "base_uri": "https://localhost:8080/"
        },
        "id": "MWubwhW2u0_e",
        "outputId": "c0927c48-954f-45ae-aa8f-89e0b9950053"
      },
      "execution_count": null,
      "outputs": [
        {
          "output_type": "stream",
          "name": "stdout",
          "text": [
            "6\n",
            "1\n",
            "2\n",
            "3\n",
            "4\n",
            "5\n",
            "[6, 7, 8, 9]\n"
          ]
        }
      ]
    },
    {
      "cell_type": "code",
      "source": [
        "#liste içindeki listeye erişilebilir ve değerleri değiştirilebilir.\n",
        "print(liste[5])\n",
        "print(len(liste[5]))\n",
        "print(type(liste[5]))\n",
        "print(\"-------\")\n",
        "print(liste[5][0])\n",
        "print(liste[5][1])\n",
        "print(liste[5][2])\n",
        "print(liste[5][3])\n",
        "\n",
        "\n",
        "liste[5][0] = \"Merhaba\"\n",
        "liste[5][1] = \"Nasılsın\"\n",
        "liste[5][2] = \"Nerdesin\"\n",
        "liste[5][3] = \"Ne yapıyorsun\"\n",
        "print(\"-------\")\n",
        "print(liste[5][0])\n",
        "print(liste[5][1])\n",
        "print(liste[5][2])\n",
        "print(liste[5][3])"
      ],
      "metadata": {
        "colab": {
          "base_uri": "https://localhost:8080/"
        },
        "id": "3TmYEDlpvMnd",
        "outputId": "c5e8b4ab-12bb-4ae4-8186-2001d5e3a604"
      },
      "execution_count": null,
      "outputs": [
        {
          "output_type": "stream",
          "name": "stdout",
          "text": [
            "[6, 7, 8, 9]\n",
            "4\n",
            "<class 'list'>\n",
            "-------\n",
            "6\n",
            "7\n",
            "8\n",
            "9\n",
            "-------\n",
            "Merhaba\n",
            "Nasılsın\n",
            "Nerdesin\n",
            "Ne yapıyorsun\n"
          ]
        }
      ]
    },
    {
      "cell_type": "code",
      "source": [
        "#listenin tipi\n",
        "liste = list([1,2,3])\n",
        "print(type(liste))\n",
        "print(liste)"
      ],
      "metadata": {
        "colab": {
          "base_uri": "https://localhost:8080/"
        },
        "id": "0bQ-nSXcwA3h",
        "outputId": "731e9c9c-40be-4991-bbbd-9473937efadb"
      },
      "execution_count": null,
      "outputs": [
        {
          "output_type": "stream",
          "name": "stdout",
          "text": [
            "<class 'list'>\n",
            "[1, 2, 3]\n"
          ]
        }
      ]
    },
    {
      "cell_type": "code",
      "source": [
        "#list() fonksiyonu ise tek paramtre alır, list([1,2,3,4])(\n",
        "#list() birden fazla parametre almaz\n",
        "\n",
        "liste = list(1,2,3)"
      ],
      "metadata": {
        "colab": {
          "base_uri": "https://localhost:8080/",
          "height": 200
        },
        "id": "U9VleI_pwMOK",
        "outputId": "cd4157ae-a006-4a67-8cdc-066822bb5903"
      },
      "execution_count": null,
      "outputs": [
        {
          "output_type": "error",
          "ename": "TypeError",
          "evalue": "ignored",
          "traceback": [
            "\u001b[0;31m---------------------------------------------------------------------------\u001b[0m",
            "\u001b[0;31mTypeError\u001b[0m                                 Traceback (most recent call last)",
            "\u001b[0;32m<ipython-input-70-2dca8d5db2fc>\u001b[0m in \u001b[0;36m<module>\u001b[0;34m\u001b[0m\n\u001b[1;32m      2\u001b[0m \u001b[0;31m#list() birden fazla parametre almaz\u001b[0m\u001b[0;34m\u001b[0m\u001b[0;34m\u001b[0m\u001b[0;34m\u001b[0m\u001b[0m\n\u001b[1;32m      3\u001b[0m \u001b[0;34m\u001b[0m\u001b[0m\n\u001b[0;32m----> 4\u001b[0;31m \u001b[0mliste\u001b[0m \u001b[0;34m=\u001b[0m \u001b[0mlist\u001b[0m\u001b[0;34m(\u001b[0m\u001b[0;36m1\u001b[0m\u001b[0;34m,\u001b[0m\u001b[0;36m2\u001b[0m\u001b[0;34m,\u001b[0m\u001b[0;36m3\u001b[0m\u001b[0;34m)\u001b[0m\u001b[0;34m\u001b[0m\u001b[0;34m\u001b[0m\u001b[0m\n\u001b[0m",
            "\u001b[0;31mTypeError\u001b[0m: list expected at most 1 argument, got 3"
          ]
        }
      ]
    },
    {
      "cell_type": "markdown",
      "source": [
        "# Python'da Tuple\n",
        "\n",
        "1. Değiştirlemez\n",
        "2. Sıralıdır\n",
        "3. tuple() veya \"(\" ve \")\" ile oluşturulur."
      ],
      "metadata": {
        "id": "8gXpRliGwjZL"
      }
    },
    {
      "cell_type": "code",
      "source": [
        "#tuple() ile oluşturma\n",
        "tuple1 = tuple([1,2,3,4])\n",
        "\n",
        "print(tuple1)\n",
        "\n",
        "print(tuple1[0])\n",
        "print(tuple1[1])\n",
        "print(tuple1[2])\n",
        "print(tuple1[3])"
      ],
      "metadata": {
        "colab": {
          "base_uri": "https://localhost:8080/"
        },
        "id": "eUcewO8ywh3R",
        "outputId": "b2fc74e2-2b41-4e41-d76a-69404f06b725"
      },
      "execution_count": null,
      "outputs": [
        {
          "output_type": "stream",
          "name": "stdout",
          "text": [
            "(1, 2, 3, 4)\n",
            "1\n",
            "2\n",
            "3\n",
            "4\n"
          ]
        }
      ]
    },
    {
      "cell_type": "code",
      "source": [
        "print(type(tuple1))"
      ],
      "metadata": {
        "colab": {
          "base_uri": "https://localhost:8080/"
        },
        "id": "WNPRyUF0xk3-",
        "outputId": "041e9444-2557-49e9-a32c-815f05ea38ba"
      },
      "execution_count": null,
      "outputs": [
        {
          "output_type": "stream",
          "name": "stdout",
          "text": [
            "<class 'tuple'>\n"
          ]
        }
      ]
    },
    {
      "cell_type": "code",
      "source": [
        "print(len(tuple1))"
      ],
      "metadata": {
        "colab": {
          "base_uri": "https://localhost:8080/"
        },
        "id": "lLJTag3wxkq-",
        "outputId": "5b1ebfc7-5ecc-4f74-a4be-efae9ca8a0af"
      },
      "execution_count": null,
      "outputs": [
        {
          "output_type": "stream",
          "name": "stdout",
          "text": [
            "4\n"
          ]
        }
      ]
    },
    {
      "cell_type": "code",
      "source": [
        "# () ile tuple oluşturma\n",
        "tuple2 = (\"Merhaba\",\"Nasılsın\",1,2)\n",
        "print(tuple2)\n",
        "\n",
        "print(tuple2[0])\n",
        "print(tuple2[1])\n",
        "print(tuple2[2])\n",
        "print(tuple2[3])"
      ],
      "metadata": {
        "colab": {
          "base_uri": "https://localhost:8080/"
        },
        "id": "reEb_0CVyB4h",
        "outputId": "5ad742c0-64b0-49d3-de24-aa8674091709"
      },
      "execution_count": null,
      "outputs": [
        {
          "output_type": "stream",
          "name": "stdout",
          "text": [
            "('Merhaba', 'Nasılsın', 1, 2)\n",
            "Merhaba\n",
            "Nasılsın\n",
            "1\n",
            "2\n"
          ]
        }
      ]
    },
    {
      "cell_type": "code",
      "source": [
        "print(type(tuple2))"
      ],
      "metadata": {
        "colab": {
          "base_uri": "https://localhost:8080/"
        },
        "id": "ksuS1FhByS7s",
        "outputId": "5e2b2122-6c55-451b-fa07-43f8269dc80f"
      },
      "execution_count": null,
      "outputs": [
        {
          "output_type": "stream",
          "name": "stdout",
          "text": [
            "<class 'tuple'>\n"
          ]
        }
      ]
    },
    {
      "cell_type": "code",
      "source": [
        "print(len(tuple2))"
      ],
      "metadata": {
        "colab": {
          "base_uri": "https://localhost:8080/"
        },
        "id": "_YrOZ_JwyZ55",
        "outputId": "aab461c7-a751-4938-eecd-29fa8ce6fcee"
      },
      "execution_count": null,
      "outputs": [
        {
          "output_type": "stream",
          "name": "stdout",
          "text": [
            "4\n"
          ]
        }
      ]
    },
    {
      "cell_type": "code",
      "source": [
        "#Tuple değerleri değiştirilemez\n",
        "tuple1[0] = \"Merhaba\""
      ],
      "metadata": {
        "colab": {
          "base_uri": "https://localhost:8080/",
          "height": 183
        },
        "id": "EWvL9MNUxvay",
        "outputId": "1f38d9e4-5d30-4c08-8aea-91e626e3a4b0"
      },
      "execution_count": null,
      "outputs": [
        {
          "output_type": "error",
          "ename": "TypeError",
          "evalue": "ignored",
          "traceback": [
            "\u001b[0;31m---------------------------------------------------------------------------\u001b[0m",
            "\u001b[0;31mTypeError\u001b[0m                                 Traceback (most recent call last)",
            "\u001b[0;32m<ipython-input-77-b526d7f7017b>\u001b[0m in \u001b[0;36m<module>\u001b[0;34m\u001b[0m\n\u001b[1;32m      1\u001b[0m \u001b[0;31m#Tuple değerleri değiştirilemez\u001b[0m\u001b[0;34m\u001b[0m\u001b[0;34m\u001b[0m\u001b[0;34m\u001b[0m\u001b[0m\n\u001b[0;32m----> 2\u001b[0;31m \u001b[0mtuple1\u001b[0m\u001b[0;34m[\u001b[0m\u001b[0;36m0\u001b[0m\u001b[0;34m]\u001b[0m \u001b[0;34m=\u001b[0m \u001b[0;34m\"Merhaba\"\u001b[0m\u001b[0;34m\u001b[0m\u001b[0;34m\u001b[0m\u001b[0m\n\u001b[0m",
            "\u001b[0;31mTypeError\u001b[0m: 'tuple' object does not support item assignment"
          ]
        }
      ]
    },
    {
      "cell_type": "code",
      "source": [
        "#tuple() fonksiyonu ise tek paramtre alır, tuple([1,2,3,4])(\n",
        "#tuple() birden fazla parametre almaz\n",
        "\n",
        "liste = tuple(1,2,3)"
      ],
      "metadata": {
        "colab": {
          "base_uri": "https://localhost:8080/",
          "height": 200
        },
        "id": "6PsoXRtjzCZF",
        "outputId": "ff436f0c-d5eb-4004-96d6-d53467566730"
      },
      "execution_count": null,
      "outputs": [
        {
          "output_type": "error",
          "ename": "TypeError",
          "evalue": "ignored",
          "traceback": [
            "\u001b[0;31m---------------------------------------------------------------------------\u001b[0m",
            "\u001b[0;31mTypeError\u001b[0m                                 Traceback (most recent call last)",
            "\u001b[0;32m<ipython-input-78-907b2c3a76b9>\u001b[0m in \u001b[0;36m<module>\u001b[0;34m\u001b[0m\n\u001b[1;32m      2\u001b[0m \u001b[0;31m#tuple() birden fazla parametre almaz\u001b[0m\u001b[0;34m\u001b[0m\u001b[0;34m\u001b[0m\u001b[0;34m\u001b[0m\u001b[0m\n\u001b[1;32m      3\u001b[0m \u001b[0;34m\u001b[0m\u001b[0m\n\u001b[0;32m----> 4\u001b[0;31m \u001b[0mliste\u001b[0m \u001b[0;34m=\u001b[0m \u001b[0mtuple\u001b[0m\u001b[0;34m(\u001b[0m\u001b[0;36m1\u001b[0m\u001b[0;34m,\u001b[0m\u001b[0;36m2\u001b[0m\u001b[0;34m,\u001b[0m\u001b[0;36m3\u001b[0m\u001b[0;34m)\u001b[0m\u001b[0;34m\u001b[0m\u001b[0;34m\u001b[0m\u001b[0m\n\u001b[0m",
            "\u001b[0;31mTypeError\u001b[0m: tuple expected at most 1 argument, got 3"
          ]
        }
      ]
    },
    {
      "cell_type": "markdown",
      "source": [
        "# Python'da Set\n",
        "\n",
        "1. Sıralı değildir.\n",
        "2. Aynı değerler yer alamaz\n",
        "3. \"{\" ve \"}\" ile oluşturulur\n",
        "4. set() ile oluşturulur"
      ],
      "metadata": {
        "id": "FO6PE5PKyl21"
      }
    },
    {
      "cell_type": "code",
      "source": [
        "#set ile oluşturma\n",
        "set1 = set([1,2,3,4,5])\n",
        "\n",
        "print(set1)"
      ],
      "metadata": {
        "colab": {
          "base_uri": "https://localhost:8080/"
        },
        "id": "n2GuUq84y440",
        "outputId": "4db4dd4b-af7c-49af-b9df-0fe04aa22628"
      },
      "execution_count": null,
      "outputs": [
        {
          "output_type": "stream",
          "name": "stdout",
          "text": [
            "{1, 2, 3, 4, 5}\n"
          ]
        }
      ]
    },
    {
      "cell_type": "code",
      "source": [
        "print(type(set1))"
      ],
      "metadata": {
        "colab": {
          "base_uri": "https://localhost:8080/"
        },
        "id": "Pc7NOAK_zmf4",
        "outputId": "a94db7a8-5393-4f68-a60b-8001d8dd1e40"
      },
      "execution_count": null,
      "outputs": [
        {
          "output_type": "stream",
          "name": "stdout",
          "text": [
            "<class 'set'>\n"
          ]
        }
      ]
    },
    {
      "cell_type": "code",
      "source": [
        "#{} ile oluşturma\n",
        "set1 = {1,2,3,4}\n",
        "print(set1)\n",
        "print(type(set1))"
      ],
      "metadata": {
        "colab": {
          "base_uri": "https://localhost:8080/"
        },
        "id": "BHdzjpGYz9yL",
        "outputId": "0c33d547-2591-4f4d-f2ff-7718a028a38b"
      },
      "execution_count": null,
      "outputs": [
        {
          "output_type": "stream",
          "name": "stdout",
          "text": [
            "{1, 2, 3, 4}\n",
            "<class 'set'>\n"
          ]
        }
      ]
    },
    {
      "cell_type": "code",
      "source": [
        "#sıralı değildir ve uzunluğu yoktur\n",
        "print(len(set1[0]))"
      ],
      "metadata": {
        "colab": {
          "base_uri": "https://localhost:8080/",
          "height": 183
        },
        "id": "vMdZRB06zfGu",
        "outputId": "c8472993-dbd4-40e9-fcc2-867c34c92cd8"
      },
      "execution_count": null,
      "outputs": [
        {
          "output_type": "error",
          "ename": "TypeError",
          "evalue": "ignored",
          "traceback": [
            "\u001b[0;31m---------------------------------------------------------------------------\u001b[0m",
            "\u001b[0;31mTypeError\u001b[0m                                 Traceback (most recent call last)",
            "\u001b[0;32m<ipython-input-82-e8566fb4d1e9>\u001b[0m in \u001b[0;36m<module>\u001b[0;34m\u001b[0m\n\u001b[1;32m      1\u001b[0m \u001b[0;31m#sıralı değildir ve uzunluğu yoktur\u001b[0m\u001b[0;34m\u001b[0m\u001b[0;34m\u001b[0m\u001b[0;34m\u001b[0m\u001b[0m\n\u001b[0;32m----> 2\u001b[0;31m \u001b[0mprint\u001b[0m\u001b[0;34m(\u001b[0m\u001b[0mlen\u001b[0m\u001b[0;34m(\u001b[0m\u001b[0mset1\u001b[0m\u001b[0;34m[\u001b[0m\u001b[0;36m0\u001b[0m\u001b[0;34m]\u001b[0m\u001b[0;34m)\u001b[0m\u001b[0;34m)\u001b[0m\u001b[0;34m\u001b[0m\u001b[0;34m\u001b[0m\u001b[0m\n\u001b[0m",
            "\u001b[0;31mTypeError\u001b[0m: 'set' object is not subscriptable"
          ]
        }
      ]
    },
    {
      "cell_type": "code",
      "source": [
        "#sıralı değildir\n",
        "print(set1[0])"
      ],
      "metadata": {
        "colab": {
          "base_uri": "https://localhost:8080/",
          "height": 183
        },
        "id": "cfF8Lm96zaDG",
        "outputId": "522be2e1-f3eb-468a-a333-542d2efe4b06"
      },
      "execution_count": null,
      "outputs": [
        {
          "output_type": "error",
          "ename": "TypeError",
          "evalue": "ignored",
          "traceback": [
            "\u001b[0;31m---------------------------------------------------------------------------\u001b[0m",
            "\u001b[0;31mTypeError\u001b[0m                                 Traceback (most recent call last)",
            "\u001b[0;32m<ipython-input-84-2b70b1a154b8>\u001b[0m in \u001b[0;36m<module>\u001b[0;34m\u001b[0m\n\u001b[1;32m      1\u001b[0m \u001b[0;31m#sıralı değildir\u001b[0m\u001b[0;34m\u001b[0m\u001b[0;34m\u001b[0m\u001b[0;34m\u001b[0m\u001b[0m\n\u001b[0;32m----> 2\u001b[0;31m \u001b[0mprint\u001b[0m\u001b[0;34m(\u001b[0m\u001b[0mset1\u001b[0m\u001b[0;34m[\u001b[0m\u001b[0;36m0\u001b[0m\u001b[0;34m]\u001b[0m\u001b[0;34m)\u001b[0m\u001b[0;34m\u001b[0m\u001b[0;34m\u001b[0m\u001b[0m\n\u001b[0m",
            "\u001b[0;31mTypeError\u001b[0m: 'set' object is not subscriptable"
          ]
        }
      ]
    },
    {
      "cell_type": "code",
      "source": [
        "#aynı değerler tekrar tekrar yer alamaz\n",
        "set2 = set([1,2,3,3,3,3,2,2,2,2,4])"
      ],
      "metadata": {
        "id": "piFiEZVjzsyz"
      },
      "execution_count": null,
      "outputs": []
    },
    {
      "cell_type": "code",
      "source": [
        "print(set2)"
      ],
      "metadata": {
        "colab": {
          "base_uri": "https://localhost:8080/"
        },
        "id": "qVWDvkI7z0qZ",
        "outputId": "42651ed7-336f-4837-ff76-ee3fa4e4da07"
      },
      "execution_count": null,
      "outputs": [
        {
          "output_type": "stream",
          "name": "stdout",
          "text": [
            "{1, 2, 3, 4}\n"
          ]
        }
      ]
    },
    {
      "cell_type": "code",
      "source": [
        "#set() fonksiyonu ise tek paramtre alır, set([1,2,3,4])(\n",
        "#set() birden fazla parametre almaz\n",
        "\n",
        "set3 = set(1,2,3)"
      ],
      "metadata": {
        "colab": {
          "base_uri": "https://localhost:8080/",
          "height": 200
        },
        "id": "-mYDsooW0LTp",
        "outputId": "e34df687-3532-4c37-d362-fc0240b97f39"
      },
      "execution_count": null,
      "outputs": [
        {
          "output_type": "error",
          "ename": "TypeError",
          "evalue": "ignored",
          "traceback": [
            "\u001b[0;31m---------------------------------------------------------------------------\u001b[0m",
            "\u001b[0;31mTypeError\u001b[0m                                 Traceback (most recent call last)",
            "\u001b[0;32m<ipython-input-87-b962b3244638>\u001b[0m in \u001b[0;36m<module>\u001b[0;34m\u001b[0m\n\u001b[1;32m      2\u001b[0m \u001b[0;31m#set() birden fazla parametre almaz\u001b[0m\u001b[0;34m\u001b[0m\u001b[0;34m\u001b[0m\u001b[0;34m\u001b[0m\u001b[0m\n\u001b[1;32m      3\u001b[0m \u001b[0;34m\u001b[0m\u001b[0m\n\u001b[0;32m----> 4\u001b[0;31m \u001b[0mset3\u001b[0m \u001b[0;34m=\u001b[0m \u001b[0mset\u001b[0m\u001b[0;34m(\u001b[0m\u001b[0;36m1\u001b[0m\u001b[0;34m,\u001b[0m\u001b[0;36m2\u001b[0m\u001b[0;34m,\u001b[0m\u001b[0;36m3\u001b[0m\u001b[0;34m)\u001b[0m\u001b[0;34m\u001b[0m\u001b[0;34m\u001b[0m\u001b[0m\n\u001b[0m",
            "\u001b[0;31mTypeError\u001b[0m: set expected at most 1 argument, got 3"
          ]
        }
      ]
    },
    {
      "cell_type": "markdown",
      "source": [
        "# Python'da Sözlükler\n",
        "\n",
        "1. dict() veya \"{\" ve \"}\" ile oluşturulur.\n",
        "2. Anahtar ve değer mantığı vardır.\n",
        "3. Sıralı değildir."
      ],
      "metadata": {
        "id": "CljEKIme0YKc"
      }
    },
    {
      "cell_type": "code",
      "source": [
        "#{} ile oluşturma\n",
        "sözlük = {\"Marka\":\"Apple\",\"Model\":\"İphone 14\",\"Yıl\":\"2022\"}\n",
        "\n",
        "print(sözlük)\n",
        "print(type(sözlük))"
      ],
      "metadata": {
        "colab": {
          "base_uri": "https://localhost:8080/"
        },
        "id": "RHCr_q5S0W1J",
        "outputId": "a7d712c5-e184-43ff-d443-78f5d13d8aa4"
      },
      "execution_count": null,
      "outputs": [
        {
          "output_type": "stream",
          "name": "stdout",
          "text": [
            "{'Marka': 'Apple', 'Model': 'İphone 14', 'Yıl': '2022'}\n",
            "<class 'dict'>\n"
          ]
        }
      ]
    },
    {
      "cell_type": "code",
      "source": [
        "#{} ile oluşturma\n",
        "sözlük1 = dict(Marka =\"Apple\",Model=\"İphone 14\",Yıl=\"2022\")\n",
        "\n",
        "print(sözlük)\n",
        "print(type(sözlük))"
      ],
      "metadata": {
        "colab": {
          "base_uri": "https://localhost:8080/"
        },
        "id": "YXj2Peim1Up3",
        "outputId": "5983b798-493d-4d35-8939-e973877e1188"
      },
      "execution_count": null,
      "outputs": [
        {
          "output_type": "stream",
          "name": "stdout",
          "text": [
            "{'Marka': 'Apple', 'Model': 'İphone 14', 'Yıl': '2022'}\n",
            "<class 'dict'>\n"
          ]
        }
      ]
    },
    {
      "cell_type": "code",
      "source": [
        "#uzunluğu vardır\n",
        "print(len(sözlük))"
      ],
      "metadata": {
        "colab": {
          "base_uri": "https://localhost:8080/"
        },
        "id": "oj5XXozJ1Evp",
        "outputId": "542cd682-ddba-4cc2-cadf-0a0d95591e70"
      },
      "execution_count": null,
      "outputs": [
        {
          "output_type": "stream",
          "name": "stdout",
          "text": [
            "3\n"
          ]
        }
      ]
    },
    {
      "cell_type": "code",
      "source": [
        "#içindeki anahtarların değerlerine ulaşmak için anahtar isimleri kullanılır\n",
        "sözlük2 = {\"Marka\":\"Samsung\",\"Model\":\"S23 Ultra\",\"Yıl\":\"2022\"}\n",
        "print(sözlük2[\"Model\"])"
      ],
      "metadata": {
        "colab": {
          "base_uri": "https://localhost:8080/"
        },
        "id": "xnofdbFR2E5l",
        "outputId": "60063861-d0b7-488c-b5b6-cef2b0b53f12"
      },
      "execution_count": null,
      "outputs": [
        {
          "output_type": "stream",
          "name": "stdout",
          "text": [
            "S23 Ultra\n"
          ]
        }
      ]
    },
    {
      "cell_type": "code",
      "source": [
        "#sıralı değildir\n",
        "print(sözlük[0])"
      ],
      "metadata": {
        "colab": {
          "base_uri": "https://localhost:8080/",
          "height": 183
        },
        "id": "jx4LgcNY1NoZ",
        "outputId": "a16abcc5-ab55-428d-f614-947c068f9fdc"
      },
      "execution_count": null,
      "outputs": [
        {
          "output_type": "error",
          "ename": "KeyError",
          "evalue": "ignored",
          "traceback": [
            "\u001b[0;31m---------------------------------------------------------------------------\u001b[0m",
            "\u001b[0;31mKeyError\u001b[0m                                  Traceback (most recent call last)",
            "\u001b[0;32m<ipython-input-94-4cfe534c5715>\u001b[0m in \u001b[0;36m<module>\u001b[0;34m\u001b[0m\n\u001b[1;32m      1\u001b[0m \u001b[0;31m#sıralı değildir\u001b[0m\u001b[0;34m\u001b[0m\u001b[0;34m\u001b[0m\u001b[0;34m\u001b[0m\u001b[0m\n\u001b[0;32m----> 2\u001b[0;31m \u001b[0mprint\u001b[0m\u001b[0;34m(\u001b[0m\u001b[0msözlük\u001b[0m\u001b[0;34m[\u001b[0m\u001b[0;36m0\u001b[0m\u001b[0;34m]\u001b[0m\u001b[0;34m)\u001b[0m\u001b[0;34m\u001b[0m\u001b[0;34m\u001b[0m\u001b[0m\n\u001b[0m",
            "\u001b[0;31mKeyError\u001b[0m: 0"
          ]
        }
      ]
    },
    {
      "cell_type": "markdown",
      "source": [
        "# Python ile Çalışma Ortamına Kütüphane Eklemek\n",
        "math isimli bir kütüphane eklemek için import kullanılır.\n",
        "\n",
        "import math"
      ],
      "metadata": {
        "id": "iEpQSWZjsX4P"
      }
    },
    {
      "cell_type": "code",
      "source": [
        "import math\n",
        "\n",
        "#math içindeki abs() fonksiyonu kullanılır.\n",
        "\n",
        "\n",
        "#kütüphanede yer alan fonksiyon doğrudan kullanılabilir.\n",
        "deger = abs(-111111111)\n",
        "print(deger)"
      ],
      "metadata": {
        "colab": {
          "base_uri": "https://localhost:8080/"
        },
        "id": "naSVemy12l64",
        "outputId": "ae97e6a6-ee33-4c4a-e662-5547827431b2"
      },
      "execution_count": null,
      "outputs": [
        {
          "output_type": "stream",
          "name": "stdout",
          "text": [
            "111111111\n"
          ]
        }
      ]
    },
    {
      "cell_type": "markdown",
      "source": [
        "# Python'da Karar Yapıları\n",
        "IF ve ELSE"
      ],
      "metadata": {
        "id": "cIRYQNqu3dND"
      }
    },
    {
      "cell_type": "code",
      "source": [
        "deger = 12\n",
        "if deger == 12:\n",
        "  print(deger)\n",
        "else:\n",
        "  print(\"Hata\")"
      ],
      "metadata": {
        "colab": {
          "base_uri": "https://localhost:8080/"
        },
        "id": "fX1h_ABq4RcT",
        "outputId": "84fde3fe-e524-4d0c-b7ea-79f88917f5df"
      },
      "execution_count": null,
      "outputs": [
        {
          "output_type": "stream",
          "name": "stdout",
          "text": [
            "12\n"
          ]
        }
      ]
    },
    {
      "cell_type": "code",
      "source": [
        "deger = 13\n",
        "if deger == 12:\n",
        "  print(deger)\n",
        "else:\n",
        "  print(\"Hata\")"
      ],
      "metadata": {
        "colab": {
          "base_uri": "https://localhost:8080/"
        },
        "id": "iXMGKi724qhd",
        "outputId": "75579cf5-b476-45e6-fbcb-60a1bffd4564"
      },
      "execution_count": null,
      "outputs": [
        {
          "output_type": "stream",
          "name": "stdout",
          "text": [
            "Hata\n"
          ]
        }
      ]
    },
    {
      "cell_type": "code",
      "source": [
        "deger = 12\n",
        "\n",
        "if deger == 12:\n",
        "  print(\"Merhaba\")\n",
        "elif deger == 13:\n",
        "  print(\"Nasılsın\")\n",
        "else:\n",
        "  print(\"Hatalı\")\n",
        "  print(deger)"
      ],
      "metadata": {
        "colab": {
          "base_uri": "https://localhost:8080/"
        },
        "id": "0YVIi1BX4uZs",
        "outputId": "add77530-8a74-4fa3-f93e-17b4f868f92b"
      },
      "execution_count": null,
      "outputs": [
        {
          "output_type": "stream",
          "name": "stdout",
          "text": [
            "Merhaba\n"
          ]
        }
      ]
    },
    {
      "cell_type": "code",
      "source": [
        "deger = 13\n",
        "\n",
        "if deger == 12:\n",
        "  print(\"Merhaba\")\n",
        "elif deger == 13:\n",
        "  print(\"Nasılsın\")\n",
        "else:\n",
        "  print(\"Hatalı\")\n",
        "  print(deger)"
      ],
      "metadata": {
        "colab": {
          "base_uri": "https://localhost:8080/"
        },
        "id": "W226Q5eY5L72",
        "outputId": "88b68aa8-108a-4569-e613-5f0ef0ef975e"
      },
      "execution_count": null,
      "outputs": [
        {
          "output_type": "stream",
          "name": "stdout",
          "text": [
            "Nasılsın\n"
          ]
        }
      ]
    },
    {
      "cell_type": "code",
      "source": [
        "deger = 12341241234\n",
        "\n",
        "if deger == 12:\n",
        "  print(\"Merhaba\")\n",
        "elif deger == 13:\n",
        "  print(\"Nasılsın\")\n",
        "else:\n",
        "  print(\"Hatalı\")\n",
        "  print(deger)"
      ],
      "metadata": {
        "colab": {
          "base_uri": "https://localhost:8080/"
        },
        "id": "_mBalK3m5Nrv",
        "outputId": "e7038ccc-be57-409b-caea-143388acbf63"
      },
      "execution_count": null,
      "outputs": [
        {
          "output_type": "stream",
          "name": "stdout",
          "text": [
            "Hatalı\n",
            "12341241234\n"
          ]
        }
      ]
    },
    {
      "cell_type": "markdown",
      "source": [
        "# Python'da Döngü Yapıları\n",
        "While,For"
      ],
      "metadata": {
        "id": "oVT7fZLo3lMU"
      }
    },
    {
      "cell_type": "code",
      "source": [
        "#while ile bir koşul doğru ise her zaman ve sonsuza kadar çalışır.\n",
        "deger = 10\n",
        "while deger<100:\n",
        "  print(deger)\n",
        "  deger += 10"
      ],
      "metadata": {
        "colab": {
          "base_uri": "https://localhost:8080/"
        },
        "id": "OMrVFGmQ5TR2",
        "outputId": "69bd46e0-34ef-43e6-8ddf-d4f1e3b4aaa3"
      },
      "execution_count": null,
      "outputs": [
        {
          "output_type": "stream",
          "name": "stdout",
          "text": [
            "10\n",
            "20\n",
            "30\n",
            "40\n",
            "50\n",
            "60\n",
            "70\n",
            "80\n",
            "90\n"
          ]
        }
      ]
    },
    {
      "cell_type": "code",
      "source": [
        "#for ile istenilen değer kadar işlem yapılır\n",
        "\n",
        "#range ile 10'a kadar tekrarlı döngü\n",
        "for i in range(10):\n",
        "  print(i)"
      ],
      "metadata": {
        "colab": {
          "base_uri": "https://localhost:8080/"
        },
        "id": "pFDtH_ol5kJA",
        "outputId": "26b74b2c-c525-4513-d8a1-a658c9ae003b"
      },
      "execution_count": null,
      "outputs": [
        {
          "output_type": "stream",
          "name": "stdout",
          "text": [
            "0\n",
            "1\n",
            "2\n",
            "3\n",
            "4\n",
            "5\n",
            "6\n",
            "7\n",
            "8\n",
            "9\n"
          ]
        }
      ]
    },
    {
      "cell_type": "code",
      "source": [
        "#range ile 1'den 5'a kadar tekrarlı döngü\n",
        "for i in range(1,5):\n",
        "  print(i)"
      ],
      "metadata": {
        "colab": {
          "base_uri": "https://localhost:8080/"
        },
        "id": "gKBhqWOR52HX",
        "outputId": "cb462aa3-c7d9-4905-89af-b46ab4116529"
      },
      "execution_count": null,
      "outputs": [
        {
          "output_type": "stream",
          "name": "stdout",
          "text": [
            "1\n",
            "2\n",
            "3\n",
            "4\n"
          ]
        }
      ]
    },
    {
      "cell_type": "code",
      "source": [
        "#range ile 1'den 50'e kadar her adımda 5 artttırma yaparak tekrarlı döngü\n",
        "for i in range(1,50,5):\n",
        "  print(i)"
      ],
      "metadata": {
        "colab": {
          "base_uri": "https://localhost:8080/"
        },
        "id": "IurDkNGb58SL",
        "outputId": "a1d85730-d7da-4197-abfd-6cebe278e584"
      },
      "execution_count": null,
      "outputs": [
        {
          "output_type": "stream",
          "name": "stdout",
          "text": [
            "1\n",
            "6\n",
            "11\n",
            "16\n",
            "21\n",
            "26\n",
            "31\n",
            "36\n",
            "41\n",
            "46\n"
          ]
        }
      ]
    },
    {
      "cell_type": "code",
      "source": [
        "#break ile döngü sonlanır\n",
        "for i in range(10):\n",
        "  if i== 5:\n",
        "    break\n",
        "  else:\n",
        "    print(i)"
      ],
      "metadata": {
        "colab": {
          "base_uri": "https://localhost:8080/"
        },
        "id": "Ybj5LrpL6YwE",
        "outputId": "3c9ca57b-0762-48be-a023-397c0431b680"
      },
      "execution_count": null,
      "outputs": [
        {
          "output_type": "stream",
          "name": "stdout",
          "text": [
            "0\n",
            "1\n",
            "2\n",
            "3\n",
            "4\n"
          ]
        }
      ]
    },
    {
      "cell_type": "code",
      "source": [
        "#continue ile döngüde ilgili adım atlanır\n",
        "for i in range(10):\n",
        "  \n",
        "  if i== 5:\n",
        "    continue\n",
        "  else:\n",
        "    print(i)"
      ],
      "metadata": {
        "colab": {
          "base_uri": "https://localhost:8080/"
        },
        "id": "-ux9IKav6ow_",
        "outputId": "3c86fe2d-91e5-429f-e3ce-12b03efcf424"
      },
      "execution_count": null,
      "outputs": [
        {
          "output_type": "stream",
          "name": "stdout",
          "text": [
            "0\n",
            "1\n",
            "2\n",
            "3\n",
            "4\n",
            "6\n",
            "7\n",
            "8\n",
            "9\n"
          ]
        }
      ]
    },
    {
      "cell_type": "code",
      "source": [
        "#while döngüsü hep doğru koşul ile çalışırsa if ile break kullanabilirsin.\n",
        "kontrol = 0\n",
        "while True:\n",
        "  print(kontrol)\n",
        "  if kontrol == 20:\n",
        "    break\n",
        "  kontrol += 1"
      ],
      "metadata": {
        "colab": {
          "base_uri": "https://localhost:8080/"
        },
        "id": "o38vzJEe6MfD",
        "outputId": "54198b77-a4f4-438b-c975-186364a8b939"
      },
      "execution_count": null,
      "outputs": [
        {
          "output_type": "stream",
          "name": "stdout",
          "text": [
            "0\n",
            "1\n",
            "2\n",
            "3\n",
            "4\n",
            "5\n",
            "6\n",
            "7\n",
            "8\n",
            "9\n",
            "10\n",
            "11\n",
            "12\n",
            "13\n",
            "14\n",
            "15\n",
            "16\n",
            "17\n",
            "18\n",
            "19\n",
            "20\n"
          ]
        }
      ]
    },
    {
      "cell_type": "code",
      "source": [
        "#for ile bir dizi yazdırılabilir\n",
        "isimler = [\"Deniz\",\"Han\",\"Denizhan\"]\n",
        "for isim in isimler:\n",
        "  print(isim)"
      ],
      "metadata": {
        "colab": {
          "base_uri": "https://localhost:8080/"
        },
        "id": "RzE_5t558xZG",
        "outputId": "943f1c2f-ac36-4b93-d033-8b88d68a4387"
      },
      "execution_count": null,
      "outputs": [
        {
          "output_type": "stream",
          "name": "stdout",
          "text": [
            "Deniz\n",
            "Han\n",
            "Denizhan\n"
          ]
        }
      ]
    },
    {
      "cell_type": "code",
      "source": [
        "#for ile bir string ifadenin karakterleri yazdırılabilir\n",
        "isim = \"Denizhan\"\n",
        "\n",
        "for karakter in isim:\n",
        "  print(karakter)"
      ],
      "metadata": {
        "colab": {
          "base_uri": "https://localhost:8080/"
        },
        "id": "JQ6pcz6C8-Iu",
        "outputId": "781e6394-58e8-4748-e8a1-2d7fc284a76b"
      },
      "execution_count": null,
      "outputs": [
        {
          "output_type": "stream",
          "name": "stdout",
          "text": [
            "D\n",
            "e\n",
            "n\n",
            "i\n",
            "z\n",
            "h\n",
            "a\n",
            "n\n"
          ]
        }
      ]
    },
    {
      "cell_type": "markdown",
      "source": [
        "# Python'da String\n",
        "\n",
        "Uzunluğu vardır, birden fazla karakter içerir ve sıralıdır.\n",
        "Index değerleri değiştirilemez."
      ],
      "metadata": {
        "id": "C9rCms7j3xUi"
      }
    },
    {
      "cell_type": "code",
      "source": [
        "isim = \"Deniz\"\n",
        "\n",
        "print(isim)"
      ],
      "metadata": {
        "colab": {
          "base_uri": "https://localhost:8080/"
        },
        "id": "gAZIVuwW4PrY",
        "outputId": "6d8fe697-2b02-4d8b-a5d3-bb6325322e97"
      },
      "execution_count": null,
      "outputs": [
        {
          "output_type": "stream",
          "name": "stdout",
          "text": [
            "Deniz\n"
          ]
        }
      ]
    },
    {
      "cell_type": "code",
      "source": [
        "#sıralıdır\n",
        "print(isim[0])\n",
        "print(isim[1])\n",
        "print(isim[2])"
      ],
      "metadata": {
        "colab": {
          "base_uri": "https://localhost:8080/"
        },
        "id": "pXlcnJec9O2s",
        "outputId": "0d8f2d2f-b767-4187-829f-d2ad317ee95d"
      },
      "execution_count": null,
      "outputs": [
        {
          "output_type": "stream",
          "name": "stdout",
          "text": [
            "D\n",
            "e\n",
            "n\n"
          ]
        }
      ]
    },
    {
      "cell_type": "code",
      "source": [
        "#değeler değiştirilemez\n",
        "print(isim[0])\n",
        "\n",
        "isim[0] = 'M'"
      ],
      "metadata": {
        "colab": {
          "base_uri": "https://localhost:8080/",
          "height": 217
        },
        "id": "_HVovHeL9X4a",
        "outputId": "1c2cb1c6-54c9-4771-dee0-0b848dc23774"
      },
      "execution_count": null,
      "outputs": [
        {
          "output_type": "stream",
          "name": "stdout",
          "text": [
            "D\n"
          ]
        },
        {
          "output_type": "error",
          "ename": "TypeError",
          "evalue": "ignored",
          "traceback": [
            "\u001b[0;31m---------------------------------------------------------------------------\u001b[0m",
            "\u001b[0;31mTypeError\u001b[0m                                 Traceback (most recent call last)",
            "\u001b[0;32m<ipython-input-112-7c8f40ca1668>\u001b[0m in \u001b[0;36m<module>\u001b[0;34m\u001b[0m\n\u001b[1;32m      2\u001b[0m \u001b[0mprint\u001b[0m\u001b[0;34m(\u001b[0m\u001b[0misim\u001b[0m\u001b[0;34m[\u001b[0m\u001b[0;36m0\u001b[0m\u001b[0;34m]\u001b[0m\u001b[0;34m)\u001b[0m\u001b[0;34m\u001b[0m\u001b[0;34m\u001b[0m\u001b[0m\n\u001b[1;32m      3\u001b[0m \u001b[0;34m\u001b[0m\u001b[0m\n\u001b[0;32m----> 4\u001b[0;31m \u001b[0misim\u001b[0m\u001b[0;34m[\u001b[0m\u001b[0;36m0\u001b[0m\u001b[0;34m]\u001b[0m \u001b[0;34m=\u001b[0m \u001b[0;34m'M'\u001b[0m\u001b[0;34m\u001b[0m\u001b[0;34m\u001b[0m\u001b[0m\n\u001b[0m",
            "\u001b[0;31mTypeError\u001b[0m: 'str' object does not support item assignment"
          ]
        }
      ]
    },
    {
      "cell_type": "markdown",
      "source": [
        "# Python'da print() Fonksiyonu"
      ],
      "metadata": {
        "id": "VBcnbcNm7C_G"
      }
    },
    {
      "cell_type": "code",
      "source": [
        "print(1)"
      ],
      "metadata": {
        "colab": {
          "base_uri": "https://localhost:8080/"
        },
        "id": "ph0fNOl46_F_",
        "outputId": "e9bc3c44-b61a-4ed9-e3bd-79c72fefe408"
      },
      "execution_count": null,
      "outputs": [
        {
          "output_type": "stream",
          "name": "stdout",
          "text": [
            "1\n"
          ]
        }
      ]
    },
    {
      "cell_type": "code",
      "source": [
        "print(5+6)"
      ],
      "metadata": {
        "colab": {
          "base_uri": "https://localhost:8080/"
        },
        "id": "cXG_SYOK7ZVh",
        "outputId": "302359bc-e299-4112-d680-d54cd0ed74d7"
      },
      "execution_count": null,
      "outputs": [
        {
          "output_type": "stream",
          "name": "stdout",
          "text": [
            "11\n"
          ]
        }
      ]
    },
    {
      "cell_type": "code",
      "source": [
        "#print() ile aynı veri tipine sahip değişkenler yazılabilir\n",
        "sayi = 15\n",
        "sayi2 = 16\n",
        "print(sayi+sayi2)"
      ],
      "metadata": {
        "colab": {
          "base_uri": "https://localhost:8080/"
        },
        "id": "34HmUbEb7bp8",
        "outputId": "c58c903c-54e9-4e4d-aef3-122d425dd168"
      },
      "execution_count": null,
      "outputs": [
        {
          "output_type": "stream",
          "name": "stdout",
          "text": [
            "31\n"
          ]
        }
      ]
    },
    {
      "cell_type": "code",
      "source": [
        "deger = \"Merhaba\"\n",
        "print(deger)"
      ],
      "metadata": {
        "colab": {
          "base_uri": "https://localhost:8080/"
        },
        "id": "b_Ggu-TR7Khe",
        "outputId": "47d069cc-95e1-4ccf-96bd-8928c2787473"
      },
      "execution_count": null,
      "outputs": [
        {
          "output_type": "stream",
          "name": "stdout",
          "text": [
            "Merhaba\n"
          ]
        }
      ]
    },
    {
      "cell_type": "code",
      "source": [
        "#print() ile aynı veri tipine sahip değişkenler yazılabilir\n",
        "isim = \"Deniz\"\n",
        "soyisim = \"Sahin\"\n",
        "\n",
        "print(isim+soyisim)\n",
        "print(isim+\" \"+soyisim)"
      ],
      "metadata": {
        "colab": {
          "base_uri": "https://localhost:8080/"
        },
        "id": "odfx-DDT7PV6",
        "outputId": "4d5faf4e-acf4-486d-b482-7e528cac5d03"
      },
      "execution_count": null,
      "outputs": [
        {
          "output_type": "stream",
          "name": "stdout",
          "text": [
            "DenizSahin\n",
            "Deniz Sahin\n"
          ]
        }
      ]
    },
    {
      "cell_type": "code",
      "source": [
        "#print() ile farklı veri tipine sahip değişkenler yazılamaz\n",
        "isim = \"Deniz\"\n",
        "tarih = 2023\n",
        "\n",
        "print(isim+tarih)"
      ],
      "metadata": {
        "colab": {
          "base_uri": "https://localhost:8080/",
          "height": 200
        },
        "id": "WIwRDP2u7vB8",
        "outputId": "c66c9d25-dd08-488c-e19e-2b9d2aabfee5"
      },
      "execution_count": null,
      "outputs": [
        {
          "output_type": "error",
          "ename": "TypeError",
          "evalue": "ignored",
          "traceback": [
            "\u001b[0;31m---------------------------------------------------------------------------\u001b[0m",
            "\u001b[0;31mTypeError\u001b[0m                                 Traceback (most recent call last)",
            "\u001b[0;32m<ipython-input-125-7c12d1dba7f2>\u001b[0m in \u001b[0;36m<module>\u001b[0;34m\u001b[0m\n\u001b[1;32m      3\u001b[0m \u001b[0mtarih\u001b[0m \u001b[0;34m=\u001b[0m \u001b[0;36m2023\u001b[0m\u001b[0;34m\u001b[0m\u001b[0;34m\u001b[0m\u001b[0m\n\u001b[1;32m      4\u001b[0m \u001b[0;34m\u001b[0m\u001b[0m\n\u001b[0;32m----> 5\u001b[0;31m \u001b[0mprint\u001b[0m\u001b[0;34m(\u001b[0m\u001b[0misim\u001b[0m\u001b[0;34m+\u001b[0m\u001b[0mtarih\u001b[0m\u001b[0;34m)\u001b[0m\u001b[0;34m\u001b[0m\u001b[0;34m\u001b[0m\u001b[0m\n\u001b[0m",
            "\u001b[0;31mTypeError\u001b[0m: can only concatenate str (not \"int\") to str"
          ]
        }
      ]
    },
    {
      "cell_type": "code",
      "source": [
        "#print() ile farklı veri tipine sahip değişkenler birbirine uygun veri tipi dönüşümü yapılırsa yazılabilir\n",
        "isim = \"Deniz\"\n",
        "tarih = 2023\n",
        "\n",
        "print(isim+str(tarih))"
      ],
      "metadata": {
        "colab": {
          "base_uri": "https://localhost:8080/"
        },
        "id": "rWzqhqzw8K9I",
        "outputId": "3530f1d9-d31d-44d7-d970-9eefc08c40cb"
      },
      "execution_count": null,
      "outputs": [
        {
          "output_type": "stream",
          "name": "stdout",
          "text": [
            "Deniz2023\n"
          ]
        }
      ]
    },
    {
      "cell_type": "markdown",
      "source": [
        "# Python'da Fonksiyon Oluşturmak"
      ],
      "metadata": {
        "id": "1Y8dqErj4FjF"
      }
    },
    {
      "cell_type": "code",
      "source": [
        "def yazdir():\n",
        "  print(\"Merhaba\")"
      ],
      "metadata": {
        "id": "HVsjIkfR4O2B"
      },
      "execution_count": null,
      "outputs": []
    },
    {
      "cell_type": "code",
      "source": [
        "def islem():\n",
        "  x = 0\n",
        "  print(x+50)"
      ],
      "metadata": {
        "id": "NbwVaM-S9qUO"
      },
      "execution_count": null,
      "outputs": []
    },
    {
      "cell_type": "code",
      "source": [
        "#fonksiyon çağırmak\n",
        "yazdir()"
      ],
      "metadata": {
        "colab": {
          "base_uri": "https://localhost:8080/"
        },
        "id": "w3SKKt329y_U",
        "outputId": "698bffe2-6c8c-4608-d75b-4e97248b8097"
      },
      "execution_count": null,
      "outputs": [
        {
          "output_type": "stream",
          "name": "stdout",
          "text": [
            "Merhaba\n"
          ]
        }
      ]
    },
    {
      "cell_type": "code",
      "source": [
        "islem()"
      ],
      "metadata": {
        "colab": {
          "base_uri": "https://localhost:8080/"
        },
        "id": "_i8VRNIr99sn",
        "outputId": "b3358f45-3e30-472c-c15b-91542bee2a13"
      },
      "execution_count": null,
      "outputs": [
        {
          "output_type": "stream",
          "name": "stdout",
          "text": [
            "50\n"
          ]
        }
      ]
    },
    {
      "cell_type": "code",
      "source": [
        "#hatalı -değer döndürme(return) yoktur\n",
        "deger_islem = islem()\n",
        "\n",
        "print(deger_islem)"
      ],
      "metadata": {
        "colab": {
          "base_uri": "https://localhost:8080/"
        },
        "id": "ahs6qvKT-Ivr",
        "outputId": "175c6be0-24dd-4967-99c9-1351e64f598f"
      },
      "execution_count": null,
      "outputs": [
        {
          "output_type": "stream",
          "name": "stdout",
          "text": [
            "50\n",
            "None\n"
          ]
        }
      ]
    },
    {
      "cell_type": "code",
      "source": [
        "#return ile fonksiyondan kullanılabilir değer alma amacıyla kullanılması - değer döndürme\n",
        "def islem():\n",
        "  x = 0\n",
        "  print(x+50)\n",
        "  #fonksiyondan kullanılabilir bir değer alınmasını sağlar\n",
        "  return x+50\n",
        "\n",
        "#fonksiyondan kullanılabilir bir değer alındı ve ataması yapıldı\n",
        "deger_islem = islem()\n",
        "\n",
        "#fonksiyondan alınan değer yazdırıldı\n",
        "print(\"-----------\")\n",
        "print(deger_islem)"
      ],
      "metadata": {
        "colab": {
          "base_uri": "https://localhost:8080/"
        },
        "id": "TltgWKx7-ArY",
        "outputId": "693797cd-3d05-4f78-aaf1-c6e1a1c7c25b"
      },
      "execution_count": null,
      "outputs": [
        {
          "output_type": "stream",
          "name": "stdout",
          "text": [
            "50\n",
            "-----------\n",
            "50\n"
          ]
        }
      ]
    },
    {
      "cell_type": "code",
      "source": [
        "def islem():\n",
        "  x = 0\n",
        "  x += 84897\n",
        "  print(x)\n",
        "  return x\n",
        "\n",
        "deger_islem = islem()\n",
        "\n",
        "print(deger_islem)"
      ],
      "metadata": {
        "colab": {
          "base_uri": "https://localhost:8080/"
        },
        "id": "-QfSY4I2-qvW",
        "outputId": "76fa9076-23d9-49be-b2fe-d748d7f8b81f"
      },
      "execution_count": null,
      "outputs": [
        {
          "output_type": "stream",
          "name": "stdout",
          "text": [
            "84897\n",
            "84897\n"
          ]
        }
      ]
    },
    {
      "cell_type": "code",
      "source": [
        "#fonksiyon parametresi\n",
        "#fonksiyona değer gönder sonuç elde et\n",
        "\n",
        "def kare_alma(sayi):\n",
        "  sonuc = sayi * sayi\n",
        "  print(sonuc)\n",
        "  return sonuc"
      ],
      "metadata": {
        "id": "8FypVL7a-lvY"
      },
      "execution_count": null,
      "outputs": []
    },
    {
      "cell_type": "code",
      "source": [
        "#fonksiyon çağırma ve parametreye değer verme\n",
        "kare = kare_alma(5)"
      ],
      "metadata": {
        "colab": {
          "base_uri": "https://localhost:8080/"
        },
        "id": "sH0w8-22A6qh",
        "outputId": "e7f938c6-695b-49aa-8e7b-c324b0cdee5e"
      },
      "execution_count": null,
      "outputs": [
        {
          "output_type": "stream",
          "name": "stdout",
          "text": [
            "25\n"
          ]
        }
      ]
    },
    {
      "cell_type": "code",
      "source": [
        "#fonksiyon parametresi, birden fazla parametre\n",
        "#fonksiyona değer gönder sonuç elde et"
      ],
      "metadata": {
        "id": "IizrwxUAA_s-"
      },
      "execution_count": null,
      "outputs": []
    },
    {
      "cell_type": "code",
      "source": [
        "def carpma(sayi1,sayi2):\n",
        "  return sayi1*sayi2"
      ],
      "metadata": {
        "id": "p406yJ8qBDym"
      },
      "execution_count": null,
      "outputs": []
    },
    {
      "cell_type": "code",
      "source": [
        "#fonksiyon çağırma ve parametreye değer verme\n",
        "deger = carpma(4,5)\n",
        "print(deger)"
      ],
      "metadata": {
        "colab": {
          "base_uri": "https://localhost:8080/"
        },
        "id": "FM3jbHnMBMK8",
        "outputId": "4388605a-89a0-4433-812f-1e115c656aec"
      },
      "execution_count": null,
      "outputs": [
        {
          "output_type": "stream",
          "name": "stdout",
          "text": [
            "20\n"
          ]
        }
      ]
    },
    {
      "cell_type": "code",
      "source": [
        "def merhaba(parametre):\n",
        "  print(parametre)"
      ],
      "metadata": {
        "id": "n0vItx7ABbpo"
      },
      "execution_count": null,
      "outputs": []
    },
    {
      "cell_type": "code",
      "source": [
        "merhaba(\"Nasıslın\")"
      ],
      "metadata": {
        "colab": {
          "base_uri": "https://localhost:8080/"
        },
        "id": "Bp9xywICBlhq",
        "outputId": "247c0d4e-22a2-4308-9f14-b2b1a9e4055c"
      },
      "execution_count": null,
      "outputs": [
        {
          "output_type": "stream",
          "name": "stdout",
          "text": [
            "Nasıslın\n"
          ]
        }
      ]
    }
  ]
}