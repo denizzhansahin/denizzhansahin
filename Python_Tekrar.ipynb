{
  "cells": [
    {
      "cell_type": "markdown",
      "metadata": {
        "id": "57Pr5V1BiGl3"
      },
      "source": [
        "CLASS OLUŞTURMA ve ÖZELLİKLERİNİ KULLANMA"
      ]
    },
    {
      "cell_type": "code",
      "execution_count": 41,
      "metadata": {
        "id": "aZDgMJGEU_z6"
      },
      "outputs": [],
      "source": [
        "#isim ve soyisim özelliklerine sahip insan sınıfı oluşturulması\n",
        "class insan():\n",
        "  isim = None\n",
        "  soyisim = None"
      ]
    },
    {
      "cell_type": "code",
      "execution_count": 42,
      "metadata": {
        "colab": {
          "base_uri": "https://localhost:8080/"
        },
        "id": "oJhmjrw0VOvD",
        "outputId": "96a3ca69-32c4-4da7-852a-439316090c6d"
      },
      "outputs": [
        {
          "name": "stdout",
          "output_type": "stream",
          "text": [
            "None\n",
            "None\n"
          ]
        }
      ],
      "source": [
        "#insan sınıfının özelliklerinin yazdırılması\n",
        "print(insan.isim)\n",
        "print(insan.soyisim)"
      ]
    },
    {
      "cell_type": "code",
      "execution_count": 43,
      "metadata": {
        "colab": {
          "base_uri": "https://localhost:8080/"
        },
        "id": "gQf1KV-BVWyc",
        "outputId": "c8298ccd-5d48-4c49-8edc-32e376a6a055"
      },
      "outputs": [
        {
          "name": "stdout",
          "output_type": "stream",
          "text": [
            "Denizhan\n",
            "ŞAHİN\n"
          ]
        }
      ],
      "source": [
        "#insan sınfının özelliklerine değerler atanması ve yazdırılması\n",
        "insan.isim = \"Denizhan\"\n",
        "insan.soyisim = \"ŞAHİN\"\n",
        "print(insan.isim)\n",
        "print(insan.soyisim)"
      ]
    },
    {
      "cell_type": "code",
      "execution_count": 44,
      "metadata": {
        "colab": {
          "base_uri": "https://localhost:8080/"
        },
        "id": "XmBlTU1IVpPw",
        "outputId": "88b41e88-a008-4a7c-c3a8-f52f86d996d6"
      },
      "outputs": [
        {
          "name": "stdout",
          "output_type": "stream",
          "text": [
            "Denizhan\n",
            "ŞAHİN\n"
          ]
        }
      ],
      "source": [
        "#insan sınıfı kullanılıp insan1 nesnesi oluşturulması ve insan1 nesnesinin özelliklerinin yazdırılması\n",
        "insan1 = insan()\n",
        "print(insan1.isim)\n",
        "print(insan1.soyisim)"
      ]
    },
    {
      "cell_type": "code",
      "execution_count": 45,
      "metadata": {
        "colab": {
          "base_uri": "https://localhost:8080/"
        },
        "id": "0fl7mX12b3XU",
        "outputId": "f12d02cc-0b4b-4542-a181-700b2c926519"
      },
      "outputs": [
        {
          "name": "stdout",
          "output_type": "stream",
          "text": [
            "Denizhan\n",
            "ŞAHİN\n"
          ]
        }
      ],
      "source": [
        "#insan sınıfı kullanılıp insan2 nesnesi oluşturulması ve insan2 nesnesinin özelliklerinin yazdırılması\n",
        "insan2 = insan()\n",
        "print(insan2.isim)\n",
        "print(insan2.soyisim)"
      ]
    },
    {
      "cell_type": "code",
      "execution_count": 46,
      "metadata": {
        "colab": {
          "base_uri": "https://localhost:8080/"
        },
        "id": "9Ra4MzpoXdaG",
        "outputId": "9b77dbef-5142-424b-fe53-87701faa12db"
      },
      "outputs": [
        {
          "name": "stdout",
          "output_type": "stream",
          "text": [
            "Deniz\n",
            "Han\n"
          ]
        }
      ],
      "source": [
        "#insan1 nesnesinin özelliklerinin değiştirilmesi ve yazdırılması\n",
        "insan1.isim = \"Deniz\"\n",
        "insan1.soyisim = \"Han\"\n",
        "print(insan1.isim)\n",
        "print(insan1.soyisim)"
      ]
    },
    {
      "cell_type": "code",
      "execution_count": 47,
      "metadata": {
        "colab": {
          "base_uri": "https://localhost:8080/"
        },
        "id": "YQekSukHcJgx",
        "outputId": "082a4af2-aa72-49d6-ce76-6260feb5e437"
      },
      "outputs": [
        {
          "name": "stdout",
          "output_type": "stream",
          "text": [
            "Anıl\n",
            "Yılmaz\n"
          ]
        }
      ],
      "source": [
        "#insan2 nesnesinin özelliklerinin değiştirilmesi ve yazdırılması\n",
        "\n",
        "insan2.isim = \"Anıl\"\n",
        "insan2.soyisim = \"Yılmaz\"\n",
        "\n",
        "print(insan2.isim)\n",
        "print(insan2.soyisim)"
      ]
    },
    {
      "cell_type": "code",
      "execution_count": 48,
      "metadata": {
        "colab": {
          "base_uri": "https://localhost:8080/"
        },
        "id": "b9rW55o4caCM",
        "outputId": "a46ec2d9-020b-495b-ce9c-86238e20cc35"
      },
      "outputs": [
        {
          "name": "stdout",
          "output_type": "stream",
          "text": [
            "Denizhan\n"
          ]
        }
      ],
      "source": [
        "#insan sınıfının isim özelliğinin yazdırılması\n",
        "print(insan.isim)"
      ]
    },
    {
      "cell_type": "markdown",
      "metadata": {
        "id": "eBPeTkAPiUwx"
      },
      "source": [
        "SELF YAPISI ile CLASS OLUŞTURMA"
      ]
    },
    {
      "cell_type": "code",
      "execution_count": 49,
      "metadata": {
        "id": "PPsG4pemV17h"
      },
      "outputs": [],
      "source": [
        "#self yapısı ve __init__ fonksiyonu ile meyve sınıfının oluşturulması\n",
        "class meyve():\n",
        "  #Burada yer alan isim ve fiyat fonksiyon parametresidir, class özelliği değildir.\n",
        "  def __init__(self,isim,fiyat): \n",
        "    self.isim = isim\n",
        "    self.fiyat = fiyat\n",
        "    #self.isim ve self.soyisim class özelliğidir."
      ]
    },
    {
      "cell_type": "code",
      "execution_count": 50,
      "metadata": {
        "colab": {
          "base_uri": "https://localhost:8080/"
        },
        "id": "Mb2ulWOtXEBr",
        "outputId": "46fce67f-01bb-46d9-ab00-b19479e1794c"
      },
      "outputs": [
        {
          "name": "stdout",
          "output_type": "stream",
          "text": [
            "Elma\n",
            "10\n"
          ]
        }
      ],
      "source": [
        "#meyve sınıfı ile elma nesnesi oluşturulması ve sırası ile isim ve fiyat bilgisinin atanması\n",
        "elma = meyve(\"Elma\",10)\n",
        "\n",
        "#elma nesnesinin değerlerinin yazdırılması\n",
        "print(elma.isim)\n",
        "print(elma.fiyat)"
      ]
    },
    {
      "cell_type": "code",
      "execution_count": 51,
      "metadata": {
        "colab": {
          "base_uri": "https://localhost:8080/",
          "height": 165
        },
        "id": "34ReWI4cXNrA",
        "outputId": "0cedcd69-7c06-43a6-b18d-e33ab6173263"
      },
      "outputs": [
        {
          "ename": "AttributeError",
          "evalue": "ignored",
          "output_type": "error",
          "traceback": [
            "\u001b[0;31m---------------------------------------------------------------------------\u001b[0m",
            "\u001b[0;31mAttributeError\u001b[0m                            Traceback (most recent call last)",
            "\u001b[0;32m<ipython-input-51-91bb76a07f98>\u001b[0m in \u001b[0;36m<module>\u001b[0;34m\u001b[0m\n\u001b[0;32m----> 1\u001b[0;31m \u001b[0mprint\u001b[0m\u001b[0;34m(\u001b[0m\u001b[0mmeyve\u001b[0m\u001b[0;34m.\u001b[0m\u001b[0misim\u001b[0m\u001b[0;34m)\u001b[0m\u001b[0;34m\u001b[0m\u001b[0;34m\u001b[0m\u001b[0m\n\u001b[0m",
            "\u001b[0;31mAttributeError\u001b[0m: type object 'meyve' has no attribute 'isim'"
          ]
        }
      ],
      "source": [
        "#meyve sınıfı self yapısı ile yazıldığı için özellikleri değer almaz. self yapısı ile özellikleri değer almayan sınıflar yazılır.\n",
        "#özellikleri değer almayan sınıflar ile nesneler oluşturulur ve bu nesnelerin özellikleri değer alır.\n",
        "print(meyve.isim)"
      ]
    },
    {
      "cell_type": "code",
      "execution_count": 52,
      "metadata": {
        "id": "R5ek9TWtdWfO"
      },
      "outputs": [],
      "source": [
        "armut = meyve(\"Armut\",20)"
      ]
    },
    {
      "cell_type": "code",
      "execution_count": 53,
      "metadata": {
        "colab": {
          "base_uri": "https://localhost:8080/"
        },
        "id": "3RQk8HK1dcYm",
        "outputId": "70df771f-8a02-4626-e28f-19baeadcde99"
      },
      "outputs": [
        {
          "name": "stdout",
          "output_type": "stream",
          "text": [
            "Armut\n",
            "20\n"
          ]
        }
      ],
      "source": [
        "print(armut.isim)\n",
        "print(armut.fiyat)"
      ]
    },
    {
      "cell_type": "code",
      "execution_count": 54,
      "metadata": {
        "colab": {
          "base_uri": "https://localhost:8080/",
          "height": 165
        },
        "id": "ddPZwdeNdswe",
        "outputId": "c85d93e1-6b3d-4d2b-919c-7c799e6511cb"
      },
      "outputs": [
        {
          "ename": "AttributeError",
          "evalue": "ignored",
          "output_type": "error",
          "traceback": [
            "\u001b[0;31m---------------------------------------------------------------------------\u001b[0m",
            "\u001b[0;31mAttributeError\u001b[0m                            Traceback (most recent call last)",
            "\u001b[0;32m<ipython-input-54-91bb76a07f98>\u001b[0m in \u001b[0;36m<module>\u001b[0;34m\u001b[0m\n\u001b[0;32m----> 1\u001b[0;31m \u001b[0mprint\u001b[0m\u001b[0;34m(\u001b[0m\u001b[0mmeyve\u001b[0m\u001b[0;34m.\u001b[0m\u001b[0misim\u001b[0m\u001b[0;34m)\u001b[0m\u001b[0;34m\u001b[0m\u001b[0;34m\u001b[0m\u001b[0m\n\u001b[0m",
            "\u001b[0;31mAttributeError\u001b[0m: type object 'meyve' has no attribute 'isim'"
          ]
        }
      ],
      "source": [
        "print(meyve.isim)"
      ]
    },
    {
      "cell_type": "markdown",
      "metadata": {
        "id": "k47XIHK6if96"
      },
      "source": [
        "CLASS İÇİNE FONKSİYON TANIMLAMA"
      ]
    },
    {
      "cell_type": "code",
      "execution_count": 57,
      "metadata": {
        "id": "HyOBItMCX4eo"
      },
      "outputs": [],
      "source": [
        "class meyve_yeni():\n",
        "  #değer1 ve değer2 __init__ fonksiyonu için parametredir.\n",
        "  #değer1 ve değer2 fonksiyon parametreleri olan self.isim ve self.fiyat olan sınıf özelliklerine atanır.\n",
        "  def __init__(self,deger1,deger2):\n",
        "    self.isim = deger1\n",
        "    self.fiyat = deger2\n",
        "  \n",
        "  #sınıflar içinde fonksiyonlar yazılabilir.\n",
        "  #fonksiyonların parametresi self ise böylece sınıfın özellikleri kullanılabilir.\n",
        "  def goster(self):\n",
        "    #sınıf özellikleri kullanılır ve yazdırılır.\n",
        "    print(\"Meyve ismi : \" + self.isim)\n",
        "    print(\"Meyve fiyat : \" + str(self.fiyat))"
      ]
    },
    {
      "cell_type": "code",
      "execution_count": 58,
      "metadata": {
        "id": "76B6LtMfYMRV"
      },
      "outputs": [],
      "source": [
        "portakal = meyve_yeni(\"Portakal\",30)"
      ]
    },
    {
      "cell_type": "code",
      "execution_count": 65,
      "metadata": {
        "colab": {
          "base_uri": "https://localhost:8080/",
          "height": 35
        },
        "id": "x6XkW8lXfDes",
        "outputId": "2fcd371e-4886-4f15-deb0-172f75f02d78"
      },
      "outputs": [
        {
          "data": {
            "application/vnd.google.colaboratory.intrinsic+json": {
              "type": "string"
            },
            "text/plain": [
              "'Portakal'"
            ]
          },
          "execution_count": 65,
          "metadata": {},
          "output_type": "execute_result"
        }
      ],
      "source": [
        "portakal.isim"
      ]
    },
    {
      "cell_type": "code",
      "execution_count": 63,
      "metadata": {
        "colab": {
          "base_uri": "https://localhost:8080/"
        },
        "id": "JU_Ail3JYVJZ",
        "outputId": "6bd134d3-6d4d-4d1e-e57f-1edec2b57ecc"
      },
      "outputs": [
        {
          "data": {
            "text/plain": [
              "30"
            ]
          },
          "execution_count": 63,
          "metadata": {},
          "output_type": "execute_result"
        }
      ],
      "source": [
        "portakal.fiyat"
      ]
    },
    {
      "cell_type": "code",
      "execution_count": 62,
      "metadata": {
        "colab": {
          "base_uri": "https://localhost:8080/"
        },
        "id": "JZBdKvX9e3Im",
        "outputId": "50c7d5b3-47a7-4e3f-cd12-dbbf046264c2"
      },
      "outputs": [
        {
          "name": "stdout",
          "output_type": "stream",
          "text": [
            "Meyve ismi : Portakal\n",
            "Meyve fiyat : 30\n"
          ]
        }
      ],
      "source": [
        "#portakal nesnesi içinde yer alan goster() isimli fonksiyonun çalıştırılması ve portakal nesne özelliklerinin yazdırılması\n",
        "portakal.goster()"
      ]
    },
    {
      "cell_type": "markdown",
      "metadata": {
        "id": "rQVlFVOIfJDh"
      },
      "source": [
        "MİRAS ALMA\n",
        "\n"
      ]
    },
    {
      "cell_type": "code",
      "execution_count": 68,
      "metadata": {
        "id": "xewPyYKPfHZq"
      },
      "outputs": [],
      "source": [
        "class kisi():\n",
        "  def __init__(self,yas,isim,meslek):\n",
        "    self.yas = yas\n",
        "    self.isim = isim\n",
        "    self.meslek = meslek\n",
        "  \n",
        "  def yazdir(self):\n",
        "    print(self.yas)\n",
        "    print(self.isim)\n",
        "    print(self.meslek)"
      ]
    },
    {
      "cell_type": "code",
      "execution_count": 69,
      "metadata": {
        "id": "T7xTatDJfxCe"
      },
      "outputs": [],
      "source": [
        "#personel sınıfı kisi sınıfını parametre olarak alır ve personel sınıfı içine kisi sınıfı özellikleri eklenir.\n",
        "class personel(kisi):\n",
        "  # __init__ fonksiyonu self yapısına uygun olarak parametreler alır.\n",
        "  def __init__(self,yas,isim,meslek,bolum):\n",
        "    #super fonksiyonu ile kisi sınıfına ait özellikler kullanılabilir duruma getirilir.\n",
        "    #yeniden personel içinde oluşturulması engellenir.\n",
        "    super().__init__(yas,isim,meslek)\n",
        "    #self.bolum ise sadece personel sınıfına ait bir ozelliktir.\n",
        "    self.bolum = bolum"
      ]
    },
    {
      "cell_type": "code",
      "execution_count": 70,
      "metadata": {
        "id": "kFhJ7C6EgQFE"
      },
      "outputs": [],
      "source": [
        "#patron sınıfı kisi sınıfını parametre olarak alır ve patron sınıfı içine kisi sınıfı özellikleri eklenir.\n",
        "\n",
        "class patron(kisi):\n",
        "  # __init__ fonksiyonu self yapısına uygun olarak parametreler alır.\n",
        "  def __init__(self, yas, isim, meslek,sirket_adi):\n",
        "    #super fonksiyonu ile kisi sınıfına ait özellikler kullanılabilir duruma getirilir.\n",
        "    #yeniden personel içinde oluşturulması engellenir.    \n",
        "    super().__init__(yas, isim, meslek)\n",
        "    #self.sirket_adi ise sadece patron sınıfına ait bir ozelliktir.\n",
        "    self.sirket_adi = sirket_adi"
      ]
    },
    {
      "cell_type": "code",
      "execution_count": 71,
      "metadata": {
        "id": "rU4YMkeRgfRU"
      },
      "outputs": [],
      "source": [
        "#personel sınfı ile personel1 nesnesi oluşturulması\n",
        "personel1 = personel(20,\"Mahmut\",\"Yazılımcı\",\"Yapay Zeka\")"
      ]
    },
    {
      "cell_type": "code",
      "execution_count": 75,
      "metadata": {
        "colab": {
          "base_uri": "https://localhost:8080/",
          "height": 35
        },
        "id": "cbR40pnRgxLz",
        "outputId": "9ff4e5e7-f232-4a4d-da86-fdbbb2b4500e"
      },
      "outputs": [
        {
          "data": {
            "application/vnd.google.colaboratory.intrinsic+json": {
              "type": "string"
            },
            "text/plain": [
              "'Mahmut'"
            ]
          },
          "execution_count": 75,
          "metadata": {},
          "output_type": "execute_result"
        }
      ],
      "source": [
        "#personel sınıfı ile oluşturulan personel1 nesnesi içinde yer alan, kisi sınıfından miras alınıp personel1 içine eklenmiş olan isim özelliği\n",
        "personel1.isim"
      ]
    },
    {
      "cell_type": "code",
      "execution_count": 78,
      "metadata": {
        "colab": {
          "base_uri": "https://localhost:8080/"
        },
        "id": "Fph0lBV0g9-k",
        "outputId": "2ca520e8-e37f-43e9-dd50-39ff96dfbce1"
      },
      "outputs": [
        {
          "name": "stdout",
          "output_type": "stream",
          "text": [
            "20\n",
            "Mahmut\n",
            "Yazılımcı\n"
          ]
        }
      ],
      "source": [
        "#personel sınıfı ile oluşturulan personel1 nesnesi içinde yer alan, kisi sınıfından miras alınıp personel1 içine eklenmiş olan yazdir fonksiyonu\n",
        "personel1.yazdir()"
      ]
    },
    {
      "cell_type": "code",
      "execution_count": 79,
      "metadata": {
        "id": "uAZCwzgghRcc"
      },
      "outputs": [],
      "source": [
        "patron_kisi = patron(25,\"Aylin\",\"CEO\",\"Google\")"
      ]
    },
    {
      "cell_type": "code",
      "execution_count": 80,
      "metadata": {
        "colab": {
          "base_uri": "https://localhost:8080/",
          "height": 35
        },
        "id": "Y380JJhGhh2f",
        "outputId": "3dbc78f2-6600-42ce-f1d1-2fdaae5bf84b"
      },
      "outputs": [
        {
          "data": {
            "application/vnd.google.colaboratory.intrinsic+json": {
              "type": "string"
            },
            "text/plain": [
              "'Google'"
            ]
          },
          "execution_count": 80,
          "metadata": {},
          "output_type": "execute_result"
        }
      ],
      "source": [
        "patron_kisi.sirket_adi"
      ]
    },
    {
      "cell_type": "code",
      "execution_count": 81,
      "metadata": {
        "colab": {
          "base_uri": "https://localhost:8080/"
        },
        "id": "a--Kkdc4hk4B",
        "outputId": "718b05bf-0db0-4012-bf3f-946e757f4cd5"
      },
      "outputs": [
        {
          "name": "stdout",
          "output_type": "stream",
          "text": [
            "25\n",
            "Aylin\n",
            "CEO\n"
          ]
        }
      ],
      "source": [
        "patron_kisi.yazdir()"
      ]
    }
  ],
  "metadata": {
    "colab": {
      "provenance": []
    },
    "kernelspec": {
      "display_name": "Python 3",
      "name": "python3"
    },
    "language_info": {
      "name": "python"
    }
  },
  "nbformat": 4,
  "nbformat_minor": 0
}
