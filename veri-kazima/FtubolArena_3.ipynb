{
  "nbformat": 4,
  "nbformat_minor": 0,
  "metadata": {
    "colab": {
      "provenance": []
    },
    "kernelspec": {
      "name": "python3",
      "display_name": "Python 3"
    },
    "language_info": {
      "name": "python"
    }
  },
  "cells": [
    {
      "cell_type": "code",
      "execution_count": null,
      "metadata": {
        "id": "Mwsqs9uZp4lN",
        "colab": {
          "base_uri": "https://localhost:8080/"
        },
        "outputId": "7c33069b-7a29-4284-e586-abcfa99f3a54"
      },
      "outputs": [
        {
          "output_type": "stream",
          "name": "stdout",
          "text": [
            "Mounted at /content/drive\n"
          ]
        }
      ],
      "source": [
        "from google.colab import drive\n",
        "drive.mount('/content/drive')"
      ]
    },
    {
      "cell_type": "code",
      "source": [
        "%cd /content/drive/MyDrive/Veri-Kazima"
      ],
      "metadata": {
        "id": "n3aB4L3ItNvs",
        "colab": {
          "base_uri": "https://localhost:8080/"
        },
        "outputId": "355072f0-a25f-455a-978d-4207d14b5527"
      },
      "execution_count": null,
      "outputs": [
        {
          "output_type": "stream",
          "name": "stdout",
          "text": [
            "/content/drive/MyDrive/Veri-Kazima\n"
          ]
        }
      ]
    },
    {
      "cell_type": "code",
      "source": [
        "!pip install selenium"
      ],
      "metadata": {
        "id": "BL_dkwmdtdHp",
        "colab": {
          "base_uri": "https://localhost:8080/"
        },
        "outputId": "902add67-2c4f-42c7-a705-16b6d29b05d2"
      },
      "execution_count": null,
      "outputs": [
        {
          "output_type": "stream",
          "name": "stdout",
          "text": [
            "Collecting selenium\n",
            "  Downloading selenium-4.20.0-py3-none-any.whl (9.5 MB)\n",
            "\u001b[2K     \u001b[90m━━━━━━━━━━━━━━━━━━━━━━━━━━━━━━━━━━━━━━━━\u001b[0m \u001b[32m9.5/9.5 MB\u001b[0m \u001b[31m20.1 MB/s\u001b[0m eta \u001b[36m0:00:00\u001b[0m\n",
            "\u001b[?25hRequirement already satisfied: urllib3[socks]<3,>=1.26 in /usr/local/lib/python3.10/dist-packages (from selenium) (2.0.7)\n",
            "Collecting trio~=0.17 (from selenium)\n",
            "  Downloading trio-0.25.0-py3-none-any.whl (467 kB)\n",
            "\u001b[2K     \u001b[90m━━━━━━━━━━━━━━━━━━━━━━━━━━━━━━━━━━━━━━━━\u001b[0m \u001b[32m467.2/467.2 kB\u001b[0m \u001b[31m32.6 MB/s\u001b[0m eta \u001b[36m0:00:00\u001b[0m\n",
            "\u001b[?25hCollecting trio-websocket~=0.9 (from selenium)\n",
            "  Downloading trio_websocket-0.11.1-py3-none-any.whl (17 kB)\n",
            "Requirement already satisfied: certifi>=2021.10.8 in /usr/local/lib/python3.10/dist-packages (from selenium) (2024.2.2)\n",
            "Requirement already satisfied: typing_extensions>=4.9.0 in /usr/local/lib/python3.10/dist-packages (from selenium) (4.11.0)\n",
            "Requirement already satisfied: attrs>=23.2.0 in /usr/local/lib/python3.10/dist-packages (from trio~=0.17->selenium) (23.2.0)\n",
            "Requirement already satisfied: sortedcontainers in /usr/local/lib/python3.10/dist-packages (from trio~=0.17->selenium) (2.4.0)\n",
            "Requirement already satisfied: idna in /usr/local/lib/python3.10/dist-packages (from trio~=0.17->selenium) (3.7)\n",
            "Collecting outcome (from trio~=0.17->selenium)\n",
            "  Downloading outcome-1.3.0.post0-py2.py3-none-any.whl (10 kB)\n",
            "Requirement already satisfied: sniffio>=1.3.0 in /usr/local/lib/python3.10/dist-packages (from trio~=0.17->selenium) (1.3.1)\n",
            "Requirement already satisfied: exceptiongroup in /usr/local/lib/python3.10/dist-packages (from trio~=0.17->selenium) (1.2.1)\n",
            "Collecting wsproto>=0.14 (from trio-websocket~=0.9->selenium)\n",
            "  Downloading wsproto-1.2.0-py3-none-any.whl (24 kB)\n",
            "Requirement already satisfied: pysocks!=1.5.7,<2.0,>=1.5.6 in /usr/local/lib/python3.10/dist-packages (from urllib3[socks]<3,>=1.26->selenium) (1.7.1)\n",
            "Collecting h11<1,>=0.9.0 (from wsproto>=0.14->trio-websocket~=0.9->selenium)\n",
            "  Downloading h11-0.14.0-py3-none-any.whl (58 kB)\n",
            "\u001b[2K     \u001b[90m━━━━━━━━━━━━━━━━━━━━━━━━━━━━━━━━━━━━━━━━\u001b[0m \u001b[32m58.3/58.3 kB\u001b[0m \u001b[31m6.2 MB/s\u001b[0m eta \u001b[36m0:00:00\u001b[0m\n",
            "\u001b[?25hInstalling collected packages: outcome, h11, wsproto, trio, trio-websocket, selenium\n",
            "Successfully installed h11-0.14.0 outcome-1.3.0.post0 selenium-4.20.0 trio-0.25.0 trio-websocket-0.11.1 wsproto-1.2.0\n"
          ]
        }
      ]
    },
    {
      "cell_type": "code",
      "source": [
        "from selenium import webdriver\n",
        "from selenium.webdriver.common.keys import Keys\n",
        "from selenium.webdriver.common.by import By\n",
        "options = webdriver.ChromeOptions()\n",
        "\n",
        "from selenium.webdriver.support.ui import WebDriverWait\n",
        "from selenium.webdriver.support import expected_conditions as EC\n",
        "\n",
        "import pandas as pd\n",
        "from time import sleep\n",
        "from datetime import datetime\n",
        "\n",
        "options.add_argument('--no-sandbox')\n",
        "options.add_argument('--headless')\n",
        "options.add_argument('--disable-gpu')\n",
        "options.add_argument('--diable-dve-shm-uage')\n",
        "\n",
        "def text_al(deger):\n",
        "  return deger.text\n",
        "\n",
        "def link_al(deger):\n",
        "  return deger.get_attribute(\"href\")\n",
        "\n",
        "def list_str_yap(deger):\n",
        "  return ' '.join(list(map(lambda bilgi : text_al(bilgi),deger)))\n",
        "\n",
        "def kelime_sayisi(dosya_adi):\n",
        "  with open(dosya_adi, \"r\") as dosya:\n",
        "    metin = dosya.read()\n",
        "  kelimeler = metin.split()\n",
        "  return len(kelimeler)\n",
        "\n",
        "def site_veri_getir(site_veri):\n",
        "  browser = webdriver.Chrome(options=options)\n",
        "  browser.get(site_veri)\n",
        "  #sleep(0.5)\n",
        "  #browser.maximize_window()\n",
        "  #bekle = WebDriverWait(browser, 10)\n",
        "  #bekle.until(EC.presence_of_element_located((By.TAG_NAME, \"body\")))\n",
        "  #sleep(0.5)\n",
        "\n",
        "\n",
        "  try:\n",
        "    metin = browser.find_elements(By.XPATH,'(//div[@class=\"mm-page mm-slideout\"]/div[@class=\"container content custom1 mod1 mt5\"]/div[@class=\"row\"]/div[@class=\"col-md-8\"]')\n",
        "  except:\n",
        "    try:\n",
        "      metin = browser.find_elements(By.XPATH,'(//div[@class=\"mm-page mm-slideout\"]/div[@class=\"container content custom1 mod1 mt5\"]/div[@class=\"row\"]')\n",
        "    except:\n",
        "      try:\n",
        "        metin = browser.find_elements(By.XPATH,'(//div[@class=\"mm-page mm-slideout\"]/div[@class=\"container content custom1 mod1 mt5\"]')\n",
        "      except:\n",
        "        try:\n",
        "          metin = browser.find_elements(By.XPATH,'(/html/body/div[2]/div[2]/div[2]/div[1]/div/div[1]/div[3]')\n",
        "        except:\n",
        "          try:\n",
        "            metin = browser.find_elements(By.XPATH,'(/html/body/div[2]/div[2]/div/div[1]/div')\n",
        "          except:\n",
        "            metin = browser.find_elements(By.XPATH,'(//div[@class=\"mm-page mm-slideout\"])')\n",
        "\n",
        "  \"\"\"\n",
        "  bos_liste = []\n",
        "  for i in metin:\n",
        "    bos_liste.append(i.text)\n",
        "  \"\"\"\n",
        "  list_str_yap(metin)\n",
        "  #print(list_str_yap(metin))\n",
        "\n",
        "  return list_str_yap(metin)\n",
        "  browser.close()"
      ],
      "metadata": {
        "id": "DJz1SKhpte10"
      },
      "execution_count": null,
      "outputs": []
    },
    {
      "cell_type": "code",
      "source": [
        "\"\"\"\n",
        "#her sayfanın kendisine özel element yolları var, bunu da ekleme yap\n",
        "sayfa_listesi = {\n",
        "    \"Ozel Haber\":[\"https://www.futbolarena.com/ozel-haber/\",100],\n",
        "    \"Transfer Haberleri\":[\"https://www.futbolarena.com/transfer-haberleri/\",100],\n",
        "    \"Türk Futbolu\":[\"https://www.futbolarena.com/turk-futbolu/\",100],\n",
        "    \"Süper Lig\":[\"https://www.futbolarena.com/turkiye-super-lig/\",100],\n",
        "    \"TFF 1.Lig\":[\"https://www.futbolarena.com/tff-1-lig/\",100],\n",
        "\n",
        "    \"Alt Ligler\":[\"https://www.futbolarena.com/turkiye-alt-ligler/\",100],\n",
        "    \"Türkiye Kupası\":[\"https://www.futbolarena.com/turkiye-kupasi/\",100],\n",
        "    \"Milli Takım\":[\"https://www.futbolarena.com/milli-takim/\",100],\n",
        "    \"Dünyadan Futbol\":[\"https://www.futbolarena.com/dunyadan-futbol/\",100],\n",
        "    \"La Liga\":[\"https://www.futbolarena.com/ispanya-la-liga/\",100],\n",
        "    \"Bundes Liga\":[\"https://www.futbolarena.com/almanya-bundesliga/\",100],\n",
        "    \"Premier Lig\":[\"https://www.futbolarena.com/ingiltere-premier-lig/\",100],\n",
        "\n",
        "    \"Serie A\":[\"https://www.futbolarena.com/italya-serie-a/\",100],\n",
        "    \"Fransa Lig 1\":[\"https://www.futbolarena.com/fransa-lig-1/\",100],\n",
        "    \"Uefa Şampiyonlar Ligi\":[\"https://www.futbolarena.com/sampiyonlar-ligi/\",100],\n",
        "    \"Uefa Avrupa Ligi\":[\"https://www.futbolarena.com/uefa-avrupa-ligi/\",100],\n",
        "    \"Dünya Ligleri\":[\"https://www.futbolarena.com/dunya-ligleri/\",100],\n",
        "    \"Fan Token\":[\"https://www.futbolarena.com/fan-token/\",7],\n",
        "    \"Premier Lig\":[\"https://www.futbolarena.com/ingiltere-premier-lig/\",100],\n",
        "}\n",
        "\n",
        "for i in sayfa_listesi:\n",
        "  print(i)\n",
        "  print(sayfa_listesi[i])\n",
        "\"\"\"\n",
        "\n",
        "#her sayfanın kendisine özel element yolları var, bunu da ekleme yap\n",
        "sayfa_listesi = {\n",
        "    \"Türkiye Kupası\":[\n",
        "        \"https://www.futbolarena.com/turkiye-kupasi/\",100,\n",
        "        \"/html/body/div/div/div/div/div[@class='row'][2]/div/a/span/h3\",#baslik\n",
        "        \"/html/body/div/div/div/div/div[@class='row'][2]/div/a/span/u\",#ozet\n",
        "        \"/html/body/div/div/div/div/div[@class='row'][2]/div/a\"#link\n",
        "        ],\n",
        "    \"Milli Takım\":[\n",
        "        \"https://www.futbolarena.com/milli-takim/\",100,\n",
        "        \"/html/body/div/div/div/div/div[@class='row'][2]/div/a/span/h3\",#baslik\n",
        "        \"/html/body/div/div/div/div/div[@class='row'][2]/div/a/span/u\",#ozet\n",
        "        \"/html/body/div/div/div/div/div[@class='row'][2]/div/a\"#link\n",
        "        ],\n",
        "    \"Dünyadan Futbol\":[\n",
        "        \"https://www.futbolarena.com/dunyadan-futbol/\",100,\n",
        "        \"/html/body/div/div/div/div/div[@class='row'][2]/div/a/span/h3\",#baslik\n",
        "        \"/html/body/div/div/div/div/div[@class='row'][2]/div/a/span/u\",#ozet\n",
        "        \"/html/body/div/div/div/div/div[@class='row'][2]/div/a\"#link\n",
        "        ],\n",
        "    \"La Liga\":[\n",
        "        \"https://www.futbolarena.com/ispanya-la-liga/\",100,\n",
        "        \"/html/body/div/div/div/div/div[@class='row'][2]/div/a/span/h3\",#baslik\n",
        "        \"/html/body/div/div/div/div/div[@class='row'][2]/div/a/span/u\",#ozet\n",
        "        \"/html/body/div/div/div/div/div[@class='row'][2]/div/a\"#link\n",
        "        ],\n",
        "    \"Bundes Liga\":[\n",
        "        \"https://www.futbolarena.com/almanya-bundesliga/\",100,\n",
        "        \"/html/body/div/div/div/div/div[@class='row'][2]/div/a/span/h3\",#baslik\n",
        "        \"/html/body/div/div/div/div/div[@class='row'][2]/div/a/span/u\",#ozet\n",
        "        \"/html/body/div/div/div/div/div[@class='row'][2]/div/a\"#link\n",
        "        ],\n",
        "    \"Premier Lig\":[\n",
        "        \"https://www.futbolarena.com/ingiltere-premier-lig/\",100,\n",
        "        \"/html/body/div/div/div/div/div[@class='row'][2]/div/a/span/h3\",#baslik\n",
        "        \"/html/body/div/div/div/div/div[@class='row'][2]/div/a/span/u\",#ozet\n",
        "        \"/html/body/div/div/div/div/div[@class='row'][2]/div/a\"#link\n",
        "        ],\n",
        "\n",
        "\n",
        "\n",
        "\n",
        "}\n",
        "\n",
        "for i in sayfa_listesi:\n",
        "  #print(i)\n",
        "  #print(sayfa_listesi[i])\n",
        "  #print(len(sayfa_listesi[i]))\n",
        "  print(sayfa_listesi[i][0])\n",
        "  print(sayfa_listesi[i][1])\n",
        "  print(sayfa_listesi[i][2])\n",
        "  print(sayfa_listesi[i][3])\n",
        "  print(sayfa_listesi[i][4])\n",
        "  #print(f'{sayfa_listesi[i]}')\n",
        "  print(\"\\n\\n\")\n",
        "\n",
        "\"\"\"\n",
        "İLK\n",
        "    \"Ozel Haber\":[\n",
        "        \"https://www.futbolarena.com/ozel-haber/\",100,\n",
        "        \"//div[@class='mm-page mm-slideout']/div[@class='container content custom1 mod1']/div/div[@class='col-md-8']/div[@class='row']/div/a/span/h3\",#baslik\n",
        "        \"//div[@class='mm-page mm-slideout']/div[@class='container content custom1 mod1']/div/div[@class='col-md-8']/div[@class='row']/div/a/span/u\",#ozet\n",
        "        \"//div[@class='mm-page mm-slideout']/div[@class='container content custom1 mod1']/div/div[@class='col-md-8']/div[@class='row']/div/a\"#link\n",
        "        ],\n",
        "    \"Transfer Haberleri\":[\n",
        "        \"https://www.futbolarena.com/transfer-haberleri/\",100,\n",
        "        \"//div[@class='mm-page mm-slideout']/div[@class='container content custom1 mod1']/div/div[@class='col-md-8']/div[@class='row']/div/a/span/h3\",#baslik\n",
        "        \"//div[@class='mm-page mm-slideout']/div[@class='container content custom1 mod1']/div/div[@class='col-md-8']/div[@class='row']/div/a/span/u\",#ozet\n",
        "        \"//div[@class='mm-page mm-slideout']/div[@class='container content custom1 mod1']/div/div[@class='col-md-8']/div[@class='row']/div/a\"#link\n",
        "        ],\n",
        "    \"Türk Futbolu\":[\n",
        "        \"https://www.futbolarena.com/turk-futbolu/\",100,\n",
        "        \"/html/body/div/div/div/div/div[@class='row']/div/a/span/h3\",#baslik\n",
        "        \"/html/body/div/div/div/div/div[@class='row']/div/a/span/u\",#ozet\n",
        "        \"/html/body/div/div/div/div/div[@class='row']/div/a\"#link\n",
        "        ],\n",
        "    \"Süper Lig\":[\n",
        "        \"https://www.futbolarena.com/turkiye-super-lig/\",100,\n",
        "        \"//div[@class='mm-page mm-slideout']/div[@class='container content custom1 mod1 mt5']/div[@class='row']/div[@class='col-md-8']/div[@class='row']/div/a/span/h3\",#baslik\n",
        "        \"//div[@class='mm-page mm-slideout']/div[@class='container content custom1 mod1 mt5']/div[@class='row']/div[@class='col-md-8']/div[@class='row']/div/a/span/u\",#ozet\n",
        "        \"//div[@class='mm-page mm-slideout']/div[@class='container content custom1 mod1 mt5']/div[@class='row']/div[@class='col-md-8']/div[@class='row']/div/a\"#link\n",
        "        ],\n",
        "    \"TFF 1.Lig\":[\n",
        "        \"https://www.futbolarena.com/tff-1-lig/\",100,\n",
        "        \"/html/body/div/div/div/div/div[@class='row'][2]/div/a/span/h3\",#baslik\n",
        "        \"/html/body/div/div/div/div/div[@class='row'][2]/div/a/span/h3\",#ozet\n",
        "        \"/html/body/div/div/div/div/div[@class='row'][2]/div/a/span/h3\"#link\n",
        "        ],\n",
        "    \"Alt Ligler\":[\n",
        "        \"https://www.futbolarena.com/turkiye-alt-ligler/\",100,\n",
        "        \"/html/body/div/div/div/div/div[@class='row'][2]/div/a/span/h3\",#baslik\n",
        "        \"/html/body/div/div/div/div/div[@class='row'][2]/div/a/span/u\",#ozet\n",
        "        \"/html/body/div/div/div/div/div[@class='row'][2]/div/a\"#link\n",
        "        ],\n",
        "\"\"\"\n",
        "\n",
        "\"\"\"\n",
        "Üçüncü\n",
        "    \"Serie A\":[\n",
        "        \"https://www.futbolarena.com/italya-serie-a/\",100,\n",
        "        \"/html/body/div/div/div/div/div[@class='row'][2]/div/a/span/h3\",#baslik\n",
        "        \"/html/body/div/div/div/div/div[@class='row'][2]/div/a/span/u\",#ozet\n",
        "        \"/html/body/div/div/div/div/div[@class='row'][2]/div/a\"#link\n",
        "        ],\n",
        "    \"Fransa Lig 1\":[\n",
        "        \"https://www.futbolarena.com/fransa-lig-1/\",100,\n",
        "        \"/html/body/div/div/div/div/div[@class='row'][2]/div/a/span/h3\",#baslik\n",
        "        \"/html/body/div/div/div/div/div[@class='row'][2]/div/a/span/u\",#ozet\n",
        "        \"/html/body/div/div/div/div/div[@class='row'][2]/div/a\"#link\n",
        "        ],\n",
        "    \"Uefa Şampiyonlar Ligi\":[\n",
        "        \"https://www.futbolarena.com/sampiyonlar-ligi/\",100,\n",
        "        \"/html/body/div/div/div/div/div[@class='row'][2]/div/a/span/h3\",#baslik\n",
        "        \"/html/body/div/div/div/div/div[@class='row'][2]/div/a/span/u\",#ozet\n",
        "        \"/html/body/div/div/div/div/div[@class='row'][2]/div/a\"#link\n",
        "        ],\n",
        "    \"Uefa Avrupa Ligi\":[\n",
        "        \"https://www.futbolarena.com/uefa-avrupa-ligi/\",100,\n",
        "        \"/html/body/div/div/div/div/div[@class='row'][2]/div/a/span/h3\",#baslik\n",
        "        \"/html/body/div/div/div/div/div[@class='row'][2]/div/a/span/u\",#ozet\n",
        "        \"/html/body/div/div/div/div/div[@class='row'][2]/div/a\"#link\n",
        "        ],\n",
        "    \"Dünya Ligleri\":[\n",
        "        \"https://www.futbolarena.com/dunya-ligleri/\",100,\n",
        "        \"/html/body/div/div/div/div/div[@class='row'][2]/div/a/span/h3\",#baslik\n",
        "        \"/html/body/div/div/div/div/div[@class='row'][2]/div/a/span/u\",#ozet\n",
        "        \"/html/body/div/div/div/div/div[@class='row'][2]/div/a\"#link\n",
        "        ],\n",
        "    \"Fan Token\":[\n",
        "        \"https://www.futbolarena.com/fan-token/\",7,\n",
        "        \"/html/body/div/div/div/div/div[@class='row'][2]/div/a/span/h3\",#baslik\n",
        "        \"/html/body/div/div/div/div/div[@class='row'][2]/div/a/span/u\",#ozet\n",
        "        \"/html/body/div/div/div/div/div[@class='row'][2]/div/a\"#link\n",
        "        ],\n",
        "\"\"\"\n",
        "\n",
        "\n",
        "\"\"\"\n",
        "İkinci\n",
        "    \"Türkiye Kupası\":[\n",
        "        \"https://www.futbolarena.com/turkiye-kupasi/\",100,\n",
        "        \"/html/body/div/div/div/div/div[@class='row'][2]/div/a/span/h3\",#baslik\n",
        "        \"/html/body/div/div/div/div/div[@class='row'][2]/div/a/span/u\",#ozet\n",
        "        \"/html/body/div/div/div/div/div[@class='row'][2]/div/a\"#link\n",
        "        ],\n",
        "    \"Milli Takım\":[\n",
        "        \"https://www.futbolarena.com/milli-takim/\",100,\n",
        "        \"/html/body/div/div/div/div/div[@class='row'][2]/div/a/span/h3\",#baslik\n",
        "        \"/html/body/div/div/div/div/div[@class='row'][2]/div/a/span/u\",#ozet\n",
        "        \"/html/body/div/div/div/div/div[@class='row'][2]/div/a\"#link\n",
        "        ],\n",
        "    \"Dünyadan Futbol\":[\n",
        "        \"https://www.futbolarena.com/dunyadan-futbol/\",100,\n",
        "        \"/html/body/div/div/div/div/div[@class='row'][2]/div/a/span/h3\",#baslik\n",
        "        \"/html/body/div/div/div/div/div[@class='row'][2]/div/a/span/u\",#ozet\n",
        "        \"/html/body/div/div/div/div/div[@class='row'][2]/div/a\"#link\n",
        "        ],\n",
        "    \"La Liga\":[\n",
        "        \"https://www.futbolarena.com/ispanya-la-liga/\",100,\n",
        "        \"/html/body/div/div/div/div/div[@class='row'][2]/div/a/span/h3\",#baslik\n",
        "        \"/html/body/div/div/div/div/div[@class='row'][2]/div/a/span/u\",#ozet\n",
        "        \"/html/body/div/div/div/div/div[@class='row'][2]/div/a\"#link\n",
        "        ],\n",
        "    \"Bundes Liga\":[\n",
        "        \"https://www.futbolarena.com/almanya-bundesliga/\",100,\n",
        "        \"/html/body/div/div/div/div/div[@class='row'][2]/div/a/span/h3\",#baslik\n",
        "        \"/html/body/div/div/div/div/div[@class='row'][2]/div/a/span/u\",#ozet\n",
        "        \"/html/body/div/div/div/div/div[@class='row'][2]/div/a\"#link\n",
        "        ],\n",
        "    \"Premier Lig\":[\n",
        "        \"https://www.futbolarena.com/ingiltere-premier-lig/\",100,\n",
        "        \"/html/body/div/div/div/div/div[@class='row'][2]/div/a/span/h3\",#baslik\n",
        "        \"/html/body/div/div/div/div/div[@class='row'][2]/div/a/span/u\",#ozet\n",
        "        \"/html/body/div/div/div/div/div[@class='row'][2]/div/a\"#link\n",
        "        ],\n",
        "\n",
        "\"\"\"\n"
      ],
      "metadata": {
        "id": "X6f_MMA5tg1w",
        "colab": {
          "base_uri": "https://localhost:8080/",
          "height": 1000
        },
        "outputId": "ac73c8f3-9c88-4d95-f302-4a130d0e6763"
      },
      "execution_count": null,
      "outputs": [
        {
          "output_type": "stream",
          "name": "stdout",
          "text": [
            "https://www.futbolarena.com/turkiye-kupasi/\n",
            "100\n",
            "/html/body/div/div/div/div/div[@class='row'][2]/div/a/span/h3\n",
            "/html/body/div/div/div/div/div[@class='row'][2]/div/a/span/u\n",
            "/html/body/div/div/div/div/div[@class='row'][2]/div/a\n",
            "\n",
            "\n",
            "\n",
            "https://www.futbolarena.com/milli-takim/\n",
            "100\n",
            "/html/body/div/div/div/div/div[@class='row'][2]/div/a/span/h3\n",
            "/html/body/div/div/div/div/div[@class='row'][2]/div/a/span/u\n",
            "/html/body/div/div/div/div/div[@class='row'][2]/div/a\n",
            "\n",
            "\n",
            "\n",
            "https://www.futbolarena.com/dunyadan-futbol/\n",
            "100\n",
            "/html/body/div/div/div/div/div[@class='row'][2]/div/a/span/h3\n",
            "/html/body/div/div/div/div/div[@class='row'][2]/div/a/span/u\n",
            "/html/body/div/div/div/div/div[@class='row'][2]/div/a\n",
            "\n",
            "\n",
            "\n",
            "https://www.futbolarena.com/ispanya-la-liga/\n",
            "100\n",
            "/html/body/div/div/div/div/div[@class='row'][2]/div/a/span/h3\n",
            "/html/body/div/div/div/div/div[@class='row'][2]/div/a/span/u\n",
            "/html/body/div/div/div/div/div[@class='row'][2]/div/a\n",
            "\n",
            "\n",
            "\n",
            "https://www.futbolarena.com/almanya-bundesliga/\n",
            "100\n",
            "/html/body/div/div/div/div/div[@class='row'][2]/div/a/span/h3\n",
            "/html/body/div/div/div/div/div[@class='row'][2]/div/a/span/u\n",
            "/html/body/div/div/div/div/div[@class='row'][2]/div/a\n",
            "\n",
            "\n",
            "\n",
            "https://www.futbolarena.com/ingiltere-premier-lig/\n",
            "100\n",
            "/html/body/div/div/div/div/div[@class='row'][2]/div/a/span/h3\n",
            "/html/body/div/div/div/div/div[@class='row'][2]/div/a/span/u\n",
            "/html/body/div/div/div/div/div[@class='row'][2]/div/a\n",
            "\n",
            "\n",
            "\n"
          ]
        },
        {
          "output_type": "execute_result",
          "data": {
            "text/plain": [
              "'\\nİkinci\\n    \"Türkiye Kupası\":[\\n        \"https://www.futbolarena.com/turkiye-kupasi/\",100,\\n        \"/html/body/div/div/div/div/div[@class=\\'row\\'][2]/div/a/span/h3\",#baslik\\n        \"/html/body/div/div/div/div/div[@class=\\'row\\'][2]/div/a/span/u\",#ozet\\n        \"/html/body/div/div/div/div/div[@class=\\'row\\'][2]/div/a\"#link\\n        ],\\n    \"Milli Takım\":[\\n        \"https://www.futbolarena.com/milli-takim/\",100,\\n        \"/html/body/div/div/div/div/div[@class=\\'row\\'][2]/div/a/span/h3\",#baslik\\n        \"/html/body/div/div/div/div/div[@class=\\'row\\'][2]/div/a/span/u\",#ozet\\n        \"/html/body/div/div/div/div/div[@class=\\'row\\'][2]/div/a\"#link\\n        ],\\n    \"Dünyadan Futbol\":[\\n        \"https://www.futbolarena.com/dunyadan-futbol/\",100,\\n        \"/html/body/div/div/div/div/div[@class=\\'row\\'][2]/div/a/span/h3\",#baslik\\n        \"/html/body/div/div/div/div/div[@class=\\'row\\'][2]/div/a/span/u\",#ozet\\n        \"/html/body/div/div/div/div/div[@class=\\'row\\'][2]/div/a\"#link\\n        ],\\n    \"La Liga\":[\\n        \"https://www.futbolarena.com/ispanya-la-liga/\",100,\\n        \"/html/body/div/div/div/div/div[@class=\\'row\\'][2]/div/a/span/h3\",#baslik\\n        \"/html/body/div/div/div/div/div[@class=\\'row\\'][2]/div/a/span/u\",#ozet\\n        \"/html/body/div/div/div/div/div[@class=\\'row\\'][2]/div/a\"#link\\n        ],\\n    \"Bundes Liga\":[\\n        \"https://www.futbolarena.com/almanya-bundesliga/\",100,\\n        \"/html/body/div/div/div/div/div[@class=\\'row\\'][2]/div/a/span/h3\",#baslik\\n        \"/html/body/div/div/div/div/div[@class=\\'row\\'][2]/div/a/span/u\",#ozet\\n        \"/html/body/div/div/div/div/div[@class=\\'row\\'][2]/div/a\"#link\\n        ],\\n    \"Premier Lig\":[\\n        \"https://www.futbolarena.com/ingiltere-premier-lig/\",100,\\n        \"/html/body/div/div/div/div/div[@class=\\'row\\'][2]/div/a/span/h3\",#baslik\\n        \"/html/body/div/div/div/div/div[@class=\\'row\\'][2]/div/a/span/u\",#ozet\\n        \"/html/body/div/div/div/div/div[@class=\\'row\\'][2]/div/a\"#link\\n        ],\\n\\n'"
            ],
            "application/vnd.google.colaboratory.intrinsic+json": {
              "type": "string"
            }
          },
          "metadata": {},
          "execution_count": 18
        }
      ]
    },
    {
      "cell_type": "code",
      "source": [
        "#haberler_DataFrame = pd.DataFrame({\"Baslik\":[],\"Ozet\":[],\"Kategori\":[],\"Link\":[]})\n",
        "haberler_DataFrame = pd.DataFrame({\"Baslik\":[],\"Ozet\":[],\"Kategori\":[],\"Link\":[],\"Icerik\":[]})\n",
        "simdi = datetime.now()\n",
        "saat, dakika, saniye, gun, ay, yil = simdi.hour, simdi.minute, simdi.second, simdi.day, simdi.month, simdi.year\n",
        "dosya_kaydet = str(gun)+\"_\"+str(ay)+\"_\"+str(yil)+\"+\"+str(saat)+\"-\"+str(dakika)+\"-\"+str(saniye)+\"_\"+\"İKİNCİ_futbolarena\"+\"_\"+\".csv\"\n",
        "#haberler_DataFrame.to_csv(dosya_kaydet)\n",
        "\n",
        "#sayfa_listesi[sayfa][1]\n",
        "for sayfa in sayfa_listesi:\n",
        "  for a in range(sayfa_listesi[sayfa][1]):\n",
        "      browser = webdriver.Chrome(options=options)\n",
        "      site_adi = sayfa_listesi[sayfa][0]+str(a)+\"/\"\n",
        "      print(site_adi)\n",
        "      browser.get(site_adi)\n",
        "      sleep(0.1)\n",
        "      browser.maximize_window()\n",
        "      sleep(0.1)\n",
        "      print(\"Sıra : \" + str(a)+\" / \"+ site_adi)\n",
        "      browser.execute_script(\"window.scrollTo(0, document.body.scrollHeight);\")\n",
        "      bekle = WebDriverWait(browser, 10)\n",
        "      bekle.until(EC.presence_of_element_located((By.TAG_NAME, \"body\")))\n",
        "      sleep(0.1)\n",
        "\n",
        "\n",
        "      baslik = browser.find_elements(By.XPATH,\n",
        "      f'({sayfa_listesi[sayfa][2]})')\n",
        "      ozet = browser.find_elements(By.XPATH,\n",
        "      f'({sayfa_listesi[sayfa][3]})')\n",
        "      kategoriler = sayfa\n",
        "\n",
        "      linkler = browser.find_elements(By.XPATH,\n",
        "      f'({sayfa_listesi[sayfa][4]})')\n",
        "\n",
        "\n",
        "      baslik = list(map(lambda bilgi : text_al(bilgi),baslik))\n",
        "\n",
        "      print(\"Baslik : \" + str(len(baslik)))\n",
        "      print(\"Ozet : \" + str(len(ozet)))\n",
        "      print(\"Linkler : \" + str(len(linkler)))\n",
        "\n",
        "\n",
        "      ozetler = []\n",
        "      for element in ozet:\n",
        "          ozet = browser.execute_script(\"return arguments[0].textContent;\", element)\n",
        "          ozetler.append(ozet)\n",
        "\n",
        "      print(ozetler)\n",
        "\n",
        "      ozet = ozetler\n",
        "      #kategoriler = list(map(lambda bilgi : text_al(bilgi),kategoriler))\n",
        "      linkler = list(map(lambda bilgi : link_al(bilgi),linkler))\n",
        "\n",
        "      kisitlama = min(len(baslik),len(ozet),len(linkler))\n",
        "      print(\"Kısıtlama : \"+str(kisitlama))\n",
        "\n",
        "\n",
        "      try:\n",
        "        haberler_DataFrame = pd.concat([haberler_DataFrame,pd.DataFrame({\"Baslik\": baslik[0:kisitlama], \"Ozet\": ozet[0:kisitlama], \"Kategori\": kategoriler,\"Link\":linkler[0:kisitlama]})], ignore_index=True)\n",
        "      except:\n",
        "        pass\n",
        "      try:\n",
        "        haberler_DataFrame.drop(\"Unnamed: 0.\"+str(a),axis=1,inplace=True)\n",
        "      except:\n",
        "        pass\n",
        "        print(\"Hata\")\n",
        "\n",
        "      #haberler_DataFrame.drop(\"Unnamed: 0\",axis=1,inplace=True)\n",
        "      haberler_DataFrame.to_csv(dosya_kaydet)\n",
        "      \"\"\"\n",
        "      print(str(i)+\"sayfa------------------------ START\")\n",
        "      for deger in range(kisitlama):\n",
        "        print(str(i)+\" sayfa için\"+str(deger)+\" adım : \")\n",
        "\n",
        "        print(\"Başlık : \\n\"+baslik[deger]+\"\\n\"+\"Özet : \\n\"+ozet[deger]+\"\\n\"+\"Kategori : \\n\"+kategoriler[deger])\n",
        "      print(str(i)+\"sayfa------------------------ END\")\n",
        "      \"\"\"\n",
        "      print(\"Baslik : \" + str(len(baslik)))\n",
        "      print(\"Ozet : \" + str(len(ozet)))\n",
        "      print(\"Linkler : \" + str(len(linkler)))\n",
        "\n",
        "  bekle = WebDriverWait(browser, 500)\n",
        "  bekle.until(\n",
        "    EC.presence_of_element_located((By.TAG_NAME, \"body\"))\n",
        "  )\n",
        "\n"
      ],
      "metadata": {
        "colab": {
          "base_uri": "https://localhost:8080/"
        },
        "id": "d4-GNthQ5rO0",
        "outputId": "5a1ea898-0a3c-4d83-c98c-633587b65207"
      },
      "execution_count": null,
      "outputs": [
        {
          "output_type": "stream",
          "name": "stdout",
          "text": [
            "https://www.futbolarena.com/turkiye-kupasi/0/\n",
            "Sıra : 0 / https://www.futbolarena.com/turkiye-kupasi/0/\n",
            "Baslik : 6\n",
            "Ozet : 6\n",
            "Linkler : 6\n",
            "[\"Galatasaray, Ziraat Türkiye Kupası'nda ağırladığı Bandırmaspor'u 4-2 yenerek çeyrek finale yükseldi.\", \"Ziraat Türkiye Kupası'nda son 16 turuna kalan takımlar belli oldu. Galatasaray, Fenerbahçe, Beşiktaş ve Trabzonspor bu turda seri başı olacaklar.\\xa0\", \"Galatasaray, Ziraat Türkiye Kupası'nda ağırladığı Ümraniyespor'u 4-1 mağlup ederek son 16 turuna yükseldi.\", \"Trabzonspor, Ziraat Türkiye Kupası'nda ağırladığı Manisa FK'yı 3-1 mağlup ederek son 16 turuna yükseldi.\", \"Fenerbahçe, Ziraat Türkiye Kupası'nda ağırladığı Adanaspor'u 6-0 mağlup ederek son 16 turuna yükseldi.\", \"Beşiktaş, Ziraat Türkiye Kupası'nda konuk ettiği Eyüpspor'u 4-0 yenerek son 16 turuna yükseldi.\"]\n",
            "Kısıtlama : 6\n",
            "Hata\n",
            "Baslik : 6\n",
            "Ozet : 6\n",
            "Linkler : 6\n",
            "https://www.futbolarena.com/turkiye-kupasi/1/\n",
            "Sıra : 1 / https://www.futbolarena.com/turkiye-kupasi/1/\n",
            "Baslik : 6\n",
            "Ozet : 6\n",
            "Linkler : 6\n",
            "[\"Galatasaray, Ziraat Türkiye Kupası'nda ağırladığı Bandırmaspor'u 4-2 yenerek çeyrek finale yükseldi.\", \"Ziraat Türkiye Kupası'nda son 16 turuna kalan takımlar belli oldu. Galatasaray, Fenerbahçe, Beşiktaş ve Trabzonspor bu turda seri başı olacaklar.\\xa0\", \"Galatasaray, Ziraat Türkiye Kupası'nda ağırladığı Ümraniyespor'u 4-1 mağlup ederek son 16 turuna yükseldi.\", \"Trabzonspor, Ziraat Türkiye Kupası'nda ağırladığı Manisa FK'yı 3-1 mağlup ederek son 16 turuna yükseldi.\", \"Fenerbahçe, Ziraat Türkiye Kupası'nda ağırladığı Adanaspor'u 6-0 mağlup ederek son 16 turuna yükseldi.\", \"Beşiktaş, Ziraat Türkiye Kupası'nda konuk ettiği Eyüpspor'u 4-0 yenerek son 16 turuna yükseldi.\"]\n",
            "Kısıtlama : 6\n",
            "Hata\n",
            "Baslik : 6\n",
            "Ozet : 6\n",
            "Linkler : 6\n",
            "https://www.futbolarena.com/turkiye-kupasi/2/\n",
            "Sıra : 2 / https://www.futbolarena.com/turkiye-kupasi/2/\n",
            "Baslik : 6\n",
            "Ozet : 6\n",
            "Linkler : 6\n",
            "['Fenerbahçeli İsmail Yüksek, Galatasaray derbisi öncesindeki açıklamalarıyla ilgili olarak, \"Geçen hafta maçtan önce yaptığım açıklamalar yanlış anlaşıldı. Milli takımdaki arkadaşlarımın sağladığı başarıyı yanlış şekilde söyleyen biri değilim. Kötü niyetli olmadım hiç. Üzgünüm bundan dolayı\" ifadelerini kullandı.\\xa0', \"Fenerbahçe, İzmir'deki final maçında Başakşehir'i 2-0 mağlup ederek Ziraat Türkiye Kupası'nda şampiyon oldu.\", \"Fenerbahçe ile Başakşehir, Ziraat Türkiye Kupası finalinde İzmir'de karşı karşıya geliyor.\", \"Fenerbahçe Teknik Direktörü Jorge Jesus geleceğiyle ilgili kararı Başkan Ali Koç'a söylediğini açıkladı.\\xa0\", 'Başakşehir Teknik Direktörü Emre Belözoğlu, Türkiye Kupası\\'nda Fenerbahçe ile oynayacakları final hakkında \"Kendimi hep Fenerbahçeli Emre hissettim. Çok güzel günler geçirdim. Şampiyonluklar kazandım. Üzüntülerim de çok oldu. Fenerbahçe\\'yi hep kalbimin en güzel yerinde hatırlıyorum. Ancak Fenerbahçe\\'yi eleyip kupayı kazanmak istiyoruz. Çok çalışacağız.\" dedi.\\xa0', \"Türkiye Kupası finalinde Fenerbahçe ile Başakşehir karşılaşacak. Müsabaka 11 Haziran Pazar günü saat 20:45'te İzmir'de, Gürsel Aksel Stadı'nda oynanacak.\\xa0\"]\n",
            "Kısıtlama : 6\n",
            "Hata\n",
            "Baslik : 6\n",
            "Ozet : 6\n",
            "Linkler : 6\n",
            "https://www.futbolarena.com/turkiye-kupasi/3/\n",
            "Sıra : 3 / https://www.futbolarena.com/turkiye-kupasi/3/\n",
            "Baslik : 6\n",
            "Ozet : 6\n",
            "Linkler : 6\n",
            "[\"2022/23 sezonunda Türkiye Kupası finali 11 Haziran Pazar günü saat 20:45'te İzmir'de oynanacak.\", \"Fenerbahçe, Ziraat Türkiye Kupası rövanş maçında Sivasspor'u 3-0 mağlup ederek ilk finalist oldu.\", 'Fenerbahçe Teknik Direktörü Jorge Jesus, Türkiye Kupası\\'ndaki Sivasspor maçının ardından \"VAR nasıl bizim penaltımızı vermez?\" şeklinde tepki gösterdi.\\xa0', \"Fenerbahçe, Ziraat Türkiye Kupası yarı final ilk maçında Sivasspor'a konuk oldu. Mücadele 0-0 sona erdi.\", 'Kayserispor Teknik Direktörü Çağdaş Atan, \"Fenerbahçe hak ettiği bir galibiyet aldı. Onları tebrik ediyorum.\" diye konuştu.', 'Fenerbahçe Teknik Direktörü Jorge Jesus, Kayserispor maçının ardından taraftarlara seslenerek, \"Bir ricam var. Birlik olalım.\\xa0Bazılarına sevgi, bazılarını eleştirmesinler. Portekiz\\'de şöyle deriz. Çirkin ördek yavrusu yapmasınlar hiçbir oyuncuyu. Hedeflerimize ulaşmak için birlik olmalıyız.\" dedi.\\xa0']\n",
            "Kısıtlama : 6\n",
            "Hata\n",
            "Baslik : 6\n",
            "Ozet : 6\n",
            "Linkler : 6\n",
            "https://www.futbolarena.com/turkiye-kupasi/4/\n",
            "Sıra : 4 / https://www.futbolarena.com/turkiye-kupasi/4/\n",
            "Baslik : 6\n",
            "Ozet : 6\n",
            "Linkler : 6\n",
            "['Willian Arao, Fenerbahçe taraftarlarının kendisine tepki vermesi üzerine \"Röportajdaki sözlerim yanlış anlaşıldı. Bana bir soru soruldu ve ben de cevap verdim. Eğer yanlış anlaşıldıysa özür dilerim.\" dedi.\\xa0', \"Fenerbahçe, Kayserispor'u Kadıköy'de 4-1 yenerek Ziraat Türkiye Kupası yarı finalinde Sivasspor ile eşleşti.\", \"GS TV'de Başakşehir maçı sonrası hakem Kadir Sağlam'a penaltı beklenen pozisyonlarla ilgili devam kararı verilmesine yönelik sert tepki gösterildi.\\xa0\", 'Galatasaray Teknik Direktörü Okan Buruk, Başakşehir maçının ardından \"Baskılı oynadık. Fiziksel olarak üstündük ama pozisyonları değerlendiremedik. Penaltı pozisyonları var. Ancak bunları çok fazla konuşamıyoruz. Çünkü PFDK\\'ya sevk ediyorlar.\" dedi.\\xa0', 'Galatasaray ile Başakşehir, Ziraat Türkiye Kupası çeyrek final maçında kozlarını paylaştı.', \"Trabzonspor Teknik Direktörü Orhan Ak, Türkiye Kupası'nda Ankaragücü'ne elendikleri maç sonrası istifasını verdi.\"]\n",
            "Kısıtlama : 6\n",
            "Hata\n",
            "Baslik : 6\n",
            "Ozet : 6\n",
            "Linkler : 6\n",
            "https://www.futbolarena.com/turkiye-kupasi/5/\n",
            "Sıra : 5 / https://www.futbolarena.com/turkiye-kupasi/5/\n",
            "Baslik : 6\n",
            "Ozet : 6\n",
            "Linkler : 6\n",
            "[\"Trabzonspor, Ziraat Türkiye Kupası çeyrek final maçında Ankaragücü'ne 3-1 yenilerek elendi.\", 'Fenerbahçe yöneticisi Selahattin Baki, Beşiktaş Asbaşkanı Emre Kocadağ\\'ın Gaziantep FK-Fenerbahçe karşılaşması uzatma süresiyle ilgili açıklamalarına yönelik olarak, \"Ofsaytımsı diye skandal yaşanan Türk futbolunda onda dahi ağzını açmayanlar, Fenerbahçe\\'nin Gaziantep maçının uzatma dakikalarıyla ilgili polemik yaratmaya çalışıyor. Kendi camialarını haklarını korumaya davet ediyorum.\" dedi.\\xa0', 'Fenerbahçe Teknik Direktörü Jorge Jesus, Çaykur Rizespor maçının ardından \"Zor maç olmasını bekliyordum ama bazen futbolda böyle anlar yaşanıyor. Çok pozisyon ürettik. Sonucunda kazandık.\" dedi. Jorge Jesus, Ümraniyespor maçıyla ilgili olarak, \"Süper Lig\\'de bu tarz statlarda maç oynanmamalı.\" dedi.\\xa0', \"Ziraat Türkiye Kupası'nda çeyrek finale yükselen takımlar belli oldu. Kura çekimi öncesi seri başı takımlar netleşti.\", 'Fenerbahçe ile Çaykur Rizespor, Ziraat Türkiye Kupası son 16 turunda karşılaştı. Fenerbahçe maçı 2-1 kazanarak çeyrek finalist oldu.', \"Fenerbahçe, Ziraat Türkiye Kupası son 16 turu maçında Çaykur Rizespor'u konuk ediyor.\"]\n",
            "Kısıtlama : 6\n",
            "Hata\n",
            "Baslik : 6\n",
            "Ozet : 6\n",
            "Linkler : 6\n",
            "https://www.futbolarena.com/turkiye-kupasi/6/\n",
            "Sıra : 6 / https://www.futbolarena.com/turkiye-kupasi/6/\n",
            "Baslik : 6\n",
            "Ozet : 6\n",
            "Linkler : 6\n",
            "[\"Trabzonspor, Ziraat Türkiye Kupası'nda Ümraniyespor'u uzatmalarda attığı gollerle 4-1 yendi ve çeyrek finale yükseldi.\", 'Beşiktaş Teknik Direktörü Şenol Güneş, Ankaragücü maçının ardından \"İkinci yarı ve uzatmalarda üstündük. Kazanabileceğimiz maçı penaltılarda kaybettik. Şimdi bizim için ayakta durma zamanı.\" dedi.\\xa0', \"Beşiktaş, Ziraat Türkiye Kupası'nda Ankaragücü'e deplasmanda penaltılarla elendi. Ankaragücü çeyrek finale yükseldi.\", 'Galatasaray Teknik Direktörü Okan Buruk, Alanyaspor maçının ardından \"Rakibe fazla pozisyon verdik. Oyunu kontrol edemediğimiz anlar oldu. Ancak günün sonunda önemli olan turu geçmekti ve kazanma alışkanlığımızla devam ediyoruz. Oyundaki eksiklerimizi giderip daha iyisini yapabilecek güçte bir takım olarak bunu yapacağız.\" dedi.\\xa0', \"Ankaragücü ile Beşiktaş, Ziraat Türkiye Kupası son 16 turu maçında Ankara'da karşı karşıya geliyor.\", \"Galatasaray, Ziraat Türkiye Kupası son 16 turu maçında Alanyaspor'u deplasmanda 2-1 mağlup ederek çeyrek finale yükseldi.\"]\n",
            "Kısıtlama : 6\n",
            "Hata\n",
            "Baslik : 6\n",
            "Ozet : 6\n",
            "Linkler : 6\n",
            "https://www.futbolarena.com/turkiye-kupasi/7/\n",
            "Sıra : 7 / https://www.futbolarena.com/turkiye-kupasi/7/\n",
            "Baslik : 6\n",
            "Ozet : 6\n",
            "Linkler : 6\n",
            "[\"Alanyaspor ile Galatasaray, Ziraat Türkiye Kupası son 16 turu maçında Alanya'da karşı karşıya geliyor.\", \"Galatasaray, Ziraat Türkiye Kupası'nda ağırladığı Keçiörengücü'nü eleyerek son 16 turuna yükseldi.\", 'Şenol Güneş, Şanlıurfaspor maçının ardından \"Kötü başlayıp iyi bitirdik. İkinci yarı daha temaslı ve kazanma hırsıyla oynadık.\" dedi.\\xa0', \"Beşiktaş, Ziraat Türkiye Kupası'nda 2-0 geriye düştüğü maçta Şanlıurfaspor'u 4-2 yenerek son 16 turuna yükseldi.\", \"Trabzonspor, Ziraat Türkiye Kupası 5. Tur maçında ağırladığı Samsunspor'u 3-0 yenerek son 16 turuna yüksedi.\", \"Fenerbahçe, Ziraat Türkiye Kupası 5. Tur maçında İstanbulspor'u 3-1 mağlup ederek son 16'ya kaldı.\"]\n",
            "Kısıtlama : 6\n",
            "Hata\n",
            "Baslik : 6\n",
            "Ozet : 6\n",
            "Linkler : 6\n",
            "https://www.futbolarena.com/turkiye-kupasi/8/\n",
            "Sıra : 8 / https://www.futbolarena.com/turkiye-kupasi/8/\n",
            "Baslik : 6\n",
            "Ozet : 6\n",
            "Linkler : 6\n",
            "['Serik Belediyespor teknik direktörü Cem Kavçak, Beşiktaş maçında yenilen erken gollerle oyundan düştüklerini söyledi.', 'Beşiktaş Teknik Direktörü Şenol Güneş, Serik Belediyespor maçının ardından, \"', \"Beşiktaş, Ziraat Türkiye Kupası'nda ağırladığı 2. Lig ekibi Serik Belediyespor'u 3-1 mağlup ederek 5. tura yükseldi.\", \"Beşiktaş, Ziraat Türkiye Kupası 4. Tur maçında TFF 2. Lig ekibi Serik Belediyespor'u konuk etti.\", 'Yeşilyurt D.Ç Ofspor Teknik Direktörü Tolgay Kerimoğlu, \"Biz kendimizi Galatasaray ile kıyaslayamayız. Sonuçta Galatasaray dünyanın en büyük takımı.\" diye konuştu.', 'Galatasaray Teknik Direktörü Okan Buruk, Ofspor maçının ardından \"Ofspor\\'u kutluyorum. Çok iyi mücadele ettiler. Biz ise çok gol kaçırdık ve sonrasında top bir yere girecekti ve girdi. Şimdi Başakşehir maçına konsantre olacağız ve kazanmak istiyoruz.\" dedi.\\xa0']\n",
            "Kısıtlama : 6\n",
            "Hata\n",
            "Baslik : 6\n",
            "Ozet : 6\n",
            "Linkler : 6\n",
            "https://www.futbolarena.com/turkiye-kupasi/9/\n",
            "Sıra : 9 / https://www.futbolarena.com/turkiye-kupasi/9/\n",
            "Baslik : 6\n",
            "Ozet : 6\n",
            "Linkler : 6\n",
            "[\"Galatasaray, Ziraat Türkiye Kupası 4. Tur maçında\\xa0Yeşilyurt D. Ç. Ofspor'u 2-1 mağlup ederek eledi.\", 'Galatasaray ile Ofspor, Ziraat Türkiye Kupası 4. Tur maçında karşılaşıyor.\\xa0Galatasaray - Ofspor maçı canlı yayın bilgisi haberimizde.', \"Beşiktaş ve Galatasaray'ın Ziraat Türkiye Kupası 4. Eleme Turu'ndaki rakipleri belli oldu.\\xa0Fenerbahçe ve Trabzonspor turnuvaya 5. Eleme Turu'nda dahil olacak.\", 'Galatasaray Teknik Direktörü Okan Buruk, Kastamonuspor maçının ardından rakibe saygı duyarak 90 dakika aynı konsantrasyonla oynadıklarını söylerken, geniş ve iyi kadronun haftada tek maç oynamalarından dolayı kendilerini zorladığını dile getirdi.\\xa0', \"Galatasaray, Türkiye Kupası'nda Kastamonuspor'u 7-0 mağlup ederek bir üst tura yükseldi.\\xa0\", \"Galatasaray, Ziraat Türkiye Kupası 3. Tur maçında 2. Lig ekibi Kastamonuspor'u ağırlıyor.\"]\n",
            "Kısıtlama : 6\n",
            "Hata\n",
            "Baslik : 6\n",
            "Ozet : 6\n",
            "Linkler : 6\n",
            "https://www.futbolarena.com/turkiye-kupasi/10/\n",
            "Sıra : 10 / https://www.futbolarena.com/turkiye-kupasi/10/\n",
            "Baslik : 6\n",
            "Ozet : 6\n",
            "Linkler : 6\n",
            "['Sivasspor teknik direktörü Rıza Çalımbay, Türkiye Kupası şampiyonluğunun ardından milli takım kadrosuna tepki gösterdi.', \"İstanbul Atatürk Olimpiyat Stadyumu'nda oynanan 2021-22 sezonu Ziraat Türkiye Kupası finalinde Sivasspor şampiyon oldu.\", 'Ziraat Türkiye Kupası finalinde Kayserispor ile Sivasspor şampiyonluk için kozlarını paylaşacak.', \"Ziraat Türkiye Kupası finalinde Kayserispor'un rakibi Sivasspor oldu.\", \"Kayserispor teknik direktörü Hikmet Karaman,\\xa0Beşiktaş, Fenerbahçe ve son olarak Trabzonspor'u yenerek finale çıkma başarısı gösterdiklerini ifade etti.\", \"Kayserispor, Ziraat Türkiye Kupası yarı final rövanş maçında Trabzonspor'u eleyerek finale yükseldi.\"]\n",
            "Kısıtlama : 6\n",
            "Hata\n",
            "Baslik : 6\n",
            "Ozet : 6\n",
            "Linkler : 6\n",
            "https://www.futbolarena.com/turkiye-kupasi/11/\n",
            "Sıra : 11 / https://www.futbolarena.com/turkiye-kupasi/11/\n",
            "Baslik : 6\n",
            "Ozet : 6\n",
            "Linkler : 6\n",
            "[\"Sivasspor, Ziraat Türkiye Kupası yarı final ilk maçında 10 kişi kalmasına rağmen Alanyaspor'u deplasmanda 2-1 yendi.\", \"Trabzonspor, Ziraat Türkiye Kupası yarı final ilk maçında Kayserispor'u 1-0 mağlup etti.\", 'Gaziantep FK Teknik Direktörü Erol Bulut, Alanyaspor maçından sonra \"Benim dönemimde kadro dışı bıraktığımız bir futbolcu, bugün karaktersizliğini bir kez daha ispat etti.\" diye konuştu.', 'Beşiktaş Teknik Direktörü Önder Karaveli, Kayserispor maçı sonrası kaçırdıkları fırsatlara dikkat çekerek, \"Topu içeri atamama sorunumuz devam etti. Rakibe ikinci yarı verdiğimiz tek pozisyon gol oldu. Çok üzgünüm.\" dedi.\\xa0', 'Kayserispor teknik direktörü Hikmet Karaman, Beşiktaş maçından sonra \"Almanların bir sözü var. \\'Ende gut, alles gut!\\' Sonu iyi olan her şey iyidir.\" diye konuştu.', \"Sivasspor, Ziraat Türkiye Kupası'nda Fatih Karagümrük'ü mağlup ederek yarı finale yükseldi.\"]\n",
            "Kısıtlama : 6\n",
            "Hata\n",
            "Baslik : 6\n",
            "Ozet : 6\n",
            "Linkler : 6\n",
            "https://www.futbolarena.com/turkiye-kupasi/12/\n",
            "Sıra : 12 / https://www.futbolarena.com/turkiye-kupasi/12/\n",
            "Baslik : 6\n",
            "Ozet : 6\n",
            "Linkler : 6\n",
            "['Trabzonspor\\'un teknik direktörü Abdullah Avcı, \"Trabzonspor, bu kupayı çok kazandı. 2 sene önce de kazanmıştı. Bu sene her şeyi kazanmak istiyoruz.\"\\xa0dedi.', \"Trabzonspor, Antalyaspor'u 2-0 yenerek Ziraat Türkiye Kupası'nda yarı finale yükselen ilk takım oldu.\", 'Trabzonsporlu Nwakaeme, 83 yaşındaki Trabzonspor taraftarı Nedim Aygün\\'e forma hediye ederek \"Sizi büyükbabam gibi görüyorum.\" dedi.\\xa0', \"Ziraat Türkiye Kupası'nda çeyrek ve yarı final eşleşmeleri belli oldu. Çeyrek finalde Beşiktaş, Kayserispor ile, Trabzonspor da Antalyaspor'la eşleşti.\", 'Beşiktaş Teknik Direktörü Önder Karaveli, Göztepe maçının ardından açıklamalarda bulundu.\\xa0', \"Ziraat Türkiye Kupası'nın çeyrek finalistleri ve gerçekleşecek kura çekimi hakkındaki detaylar haberimizde.\"]\n",
            "Kısıtlama : 6\n",
            "Hata\n",
            "Baslik : 6\n",
            "Ozet : 6\n",
            "Linkler : 6\n",
            "https://www.futbolarena.com/turkiye-kupasi/13/\n",
            "Sıra : 13 / https://www.futbolarena.com/turkiye-kupasi/13/\n",
            "Baslik : 6\n",
            "Ozet : 6\n",
            "Linkler : 6\n",
            "[\"Beşiktaş ile Göztepe, Ziraat Türkiye Kupası'nda çeyrek final için kozlarını paylaştı. Beşiktaş-Göztepe maç özeti bilgisi haberimizde.\", \"Ziraat Türkiye Kupası'nda Alanyaspor ile Adana Demirspor çeyrek finale yükselmek için mücadele etti.\", 'Trabzonspor teknik direktörü Abdullah Avcı, Denizlispor maçının ardından açıklamalarda bulundu.', \"Beşiktaş'ta Valentin Rosier sakatlığı nedeniyle kupadaki Göztepe maçının kadrosundan çıkartıldı.\", \"Trabzonspor ile Denizlispor, Ziraat Türkiye Kupası'nde çeyrek final mücadelesi verdi. Kazanan Trabzonspor oldu.\", \"Fenerbahçe ile Kayserispor, Türkiye Kupası'nda kozlarını paylaştı. Fenerbahçe-Kayserispor maç özeti izle için detaylar haberimizde.\"]\n",
            "Kısıtlama : 6\n",
            "Hata\n",
            "Baslik : 6\n",
            "Ozet : 6\n",
            "Linkler : 6\n",
            "https://www.futbolarena.com/turkiye-kupasi/14/\n",
            "Sıra : 14 / https://www.futbolarena.com/turkiye-kupasi/14/\n",
            "Baslik : 6\n",
            "Ozet : 6\n",
            "Linkler : 6\n",
            "[\"Fatih Karagümrük, Türkiye Kupası'nda çeyrek finale yükseldi. Karagümrük-Konyaspor maç özeti bilgisi haberimizde.\", \"Türkiye Kupası'nda son 16 turu eşleşmeleri belli oldu.\", 'Altay Başkanı Özgür Ekmekcioğlu, Beşiktaş maçının ardından hakem kararları hakkında sitem dolu ifadeler kullandı.\\xa0', \"Vodafone Park'ta Altay'ı mağlup eden\\xa0Beşiktaş, Türkiye Kupası'nda son 16 turuna yükseldi.\", \"Fenerbahçe, Ziraat Türkiye Kupası'nda Afjet Afyonspor'u eleyerek son 16 turuna kaldı.\\xa0\", 'Denizlispor teknik direktörü Fatih Tekke, Galatasaray galibiyetinin ardından açıklamalarda bulundu.']\n",
            "Kısıtlama : 6\n",
            "Hata\n",
            "Baslik : 6\n",
            "Ozet : 6\n",
            "Linkler : 6\n",
            "https://www.futbolarena.com/turkiye-kupasi/15/\n",
            "Sıra : 15 / https://www.futbolarena.com/turkiye-kupasi/15/\n",
            "Baslik : 6\n",
            "Ozet : 6\n",
            "Linkler : 6\n",
            "['Galatasaray Teknik Direktörü Fatih Terim, Denizlispor maçının ardından açıklamalarda bulundu.\\xa0', \"Galatasaray - Denizlispor Ziraat Türkiye Kupası maçında Denizlispor'un genç kalecisi Abdülkadir Sünger, yaptığı kurtarışlarla ön plana çıkan isim oldu.\\xa0\", \"Boluspor'u 1-0 mağlup eden\\xa0Trabzonspor, Türkiye Kupası'nda son 16 turuna yükseldi.\", \"Ziraat Türkiye Kupası'nda 5. Tur kura çekimi gerçekleştirildi.\", 'Vansporlu futbolcuların sakatlık nedeniyle duraksadığı anlarda gol atan Konyaspor, pozisyon sonrası centilmenlik örneğine imza attı.', 'Hatayspor - Eyüpspor Ziraat Türkiye Kupası maçı futbol tarihine geçen anlara tanık oldu.\\xa0']\n",
            "Kısıtlama : 6\n",
            "Hata\n",
            "Baslik : 6\n",
            "Ozet : 6\n",
            "Linkler : 6\n",
            "https://www.futbolarena.com/turkiye-kupasi/16/\n",
            "Sıra : 16 / https://www.futbolarena.com/turkiye-kupasi/16/\n",
            "Baslik : 6\n",
            "Ozet : 6\n",
            "Linkler : 6\n",
            "[\"Bodrumspor, normal süresi ve uzatmaları 1-1 biten maçta Başakşehir'i Türkiye Kupası'ndan penaltılarla eledi.\", \"Antalyaspor'un kulüp başkanı Mustafa Yılmaz, Beşiktaş finalinden sonra TFF'ye tepki gösterdi.\", \"Beşiktaş, Ziraat Türkiye Kupası'nda İzmir'de oynadığı son 5 finalin tamamında şampiyonluğa ulaştı.\", 'Beşiktaşlı futbolcular, Ziraat Türkiye Kupası şampiyonluğunun ardından duygularını paylaştı.\\xa0\\xa0', \"Beşiktaş, Ziraat Türkiye Kupası'nda şampiyon oldu. Antalyaspor 0-2 Beşiktaş final maçı özeti ve golleri izle için detaylar haberimizde.\", 'Lukas Podolski, Beşiktaş ile oynanacak olan final maçı öncesinde iddialı açıklamalarda bulundu.\\xa0']\n",
            "Kısıtlama : 6\n",
            "Hata\n",
            "Baslik : 6\n",
            "Ozet : 6\n",
            "Linkler : 6\n",
            "https://www.futbolarena.com/turkiye-kupasi/17/\n",
            "Sıra : 17 / https://www.futbolarena.com/turkiye-kupasi/17/\n",
            "Baslik : 6\n",
            "Ozet : 6\n",
            "Linkler : 6\n",
            "[\"Beşiktaş, Ziraat Türkiye Kupası finalinde Antalyaspor'u yenerek şampiyon oldu.\\xa0Antalyaspor - Beşiktaş final maç özeti bilgisi haberimizde.\", \"Fraport TAV Antalyaspor Başkanı Mustafa Yılmaz, Ziraat Türkiye Kupası'ndaki Beşiktaş finali hakkında konuştu.\", 'Antalyaspor teknik direktörü Ersun Yanal, Alanyaspor maçından sonra Beşiktaş finali hakkında konuştu.', \"Beşiktaş'ın Ziraat Türkiye Kupası finalindeki rakibi Antalyaspor oldu. Antalyaspor 2-0 Alanyaspor maç özeti izle için detaylar haberimizde.\", 'Medipol Başakşehir Teknik Direktörü Aykut Kocaman, Beşiktaş kupadaki yenilgisinin ardından konuştu.', 'Ziraat Türkiye Kupası yarı finalinde Beşiktaş ile Medipol Başakşehir karşılaştı. Beşiktaş - Başakşehir maç özeti ve golleri izle için detaylar haberimizde.']\n",
            "Kısıtlama : 6\n",
            "Hata\n",
            "Baslik : 6\n",
            "Ozet : 6\n",
            "Linkler : 6\n",
            "https://www.futbolarena.com/turkiye-kupasi/18/\n",
            "Sıra : 18 / https://www.futbolarena.com/turkiye-kupasi/18/\n",
            "Baslik : 6\n",
            "Ozet : 6\n",
            "Linkler : 6\n",
            "['Ziraat Türkiye Kupası yarı finalinde Antalyaspor ile Alanyaspor karşılaşıyor. Antalyaspor - Alanyaspor maçı canlı yayın bilgisi haberimizde.', \"Beşiktaş'ın Başakşehir ile oynadığı karşılaşmanın devre arasında oyundan çıkan Vincent Aboubakar'ın durumu belli oldu.\", 'Türkiye Kupası yarı final maçında Beşiktaş ile Medipol Başakşehir karşı karşıya geldi Beşiktaş - Başakşehir maç özeti bilgisi haberimizde.', \"Beşiktaş'ta büyükannesi vefat eden Bernard Mensah, özel izin aldı ve bu sebeple Başakşehir maçı kadrosunda yer almadı. Cenk Tosun ve Gökhan Töre de kadroda olmayan diğer isimler.\\xa0\", \"Konyaspor ile Beşiktaş, Türkiye Kupası'nda karşılaştı. Konyaspor - Beşiktaş maç özeti izle için detaylar haberimizde.\", \"Antalyaspor, Ziraat Türkiye Kupası yarı finalinde Alanyaspor'un rakibi oldu.\\xa0Sivasspor 0-1 Antalyaspor maç özeti izle için detaylar haberimizde.\"]\n",
            "Kısıtlama : 6\n",
            "Hata\n",
            "Baslik : 6\n",
            "Ozet : 6\n",
            "Linkler : 6\n",
            "https://www.futbolarena.com/turkiye-kupasi/19/\n",
            "Sıra : 19 / https://www.futbolarena.com/turkiye-kupasi/19/\n",
            "Baslik : 6\n",
            "Ozet : 6\n",
            "Linkler : 6\n",
            "[\"Aytemiz Alanyaspor'un teknik sorumlusu Semih Tokatlı, basın toplantısında açıklamalarda bulundu.\", \"Alanyaspor mağlubiyetiyle kupaya veda eden Galatasaray'ın son 8 golünün 7'si yeni transferlerden geldi.\", 'Galatasaray Teknik Direktörü Fatih Terim, Alanyaspor maçının ardından açıklamalarda bulundu.\\xa0', \"Galatasaray, Ziraat Türkiye Kupası'nda sahasında Alanyaspor'a 3-2 kaybederek elendi. Galatasaray 2-3 Alanyaspor maç özeti ve golleri izle için detaylar haberimizde.\", 'Konyaspor ile Beşiktaş, Ziraat Türkiye Kupası çeyrek finalinde karşılaşıyor. Konyaspor - Beşiktaş maçı canlı yayın bilgisi haberimizde.', 'Konyaspor Teknik Direktörü İlhan Palut, Beşiktaş maçı öncesi açıklamalarda bulundu.']\n",
            "Kısıtlama : 6\n",
            "Hata\n",
            "Baslik : 6\n",
            "Ozet : 6\n",
            "Linkler : 6\n",
            "https://www.futbolarena.com/turkiye-kupasi/20/\n",
            "Sıra : 20 / https://www.futbolarena.com/turkiye-kupasi/20/\n",
            "Baslik : 6\n",
            "Ozet : 6\n",
            "Linkler : 6\n",
            "['Galatasaray ile Alanyaspor, Ziraat Türkiye Kupası çeyrek finalinde karşılaşacaklar. Galatasaray - Alanyaspor maçı canlı yayın bilgisi haberimizde.', 'Başakşehir Teknik Direktör Aykut Kocaman, Fenerbahçe maçının ardından açıklamalarda bulundu.\\xa0', \"Ziraat Türkiye Kupası Çeyrek final maçında Fenerbahçe, sahasında Başakşehir'i ağırladı. Fenerbahçe - Başakşehir maç özeti ve gollerine haberimizin devamından ulaşabilirsiniz.\\xa0\", \"Türkiye Kupası'nda Fenerbahçe ile Başakşehir çeyrek final maçında karşılaşacak.\", \"Türkiye Kupası'nda çeyrek final karşılaşmaları bu hafta arasında oynanacak.\", \"TFF Süper Kupa'da Medipol Başakşehir ile Trabzonspor karşı karşıya geliyor.\\xa0\"]\n",
            "Kısıtlama : 6\n",
            "Hata\n",
            "Baslik : 6\n",
            "Ozet : 6\n",
            "Linkler : 6\n",
            "https://www.futbolarena.com/turkiye-kupasi/21/\n",
            "Sıra : 21 / https://www.futbolarena.com/turkiye-kupasi/21/\n",
            "Baslik : 6\n",
            "Ozet : 6\n",
            "Linkler : 6\n",
            "[\"Türkiye Kupası'nda çeyrek final ve muhtemel yarı final kura çekimi gerçekleştirildi.\", 'Fenerbahçe Teknik Direktörü Erol Bulut, Kasımpaşa maçının ardından transfer hakkında açıklamalarda bulundu.\\xa0', \"Türkiye Kupası'nda çeyrek finalistler belli oldu. Türkiye Kupası çeyrek final kura çekimi ne zaman? Türkiye Kupası çeyrek final kura çekiminde seri başı olan ve seri başı olmayan takımlar hangileri? İşte detaylar.\\xa0\", \"Fenerbahçe, Ziraat Türkiye Kupası'nda çeyrek finale yükseldi. Fenerbahçe - Kasımpaşa maç özeti izle için detaylar haberimizde.\", \"Beşiktaş Teknik Direktörü Sergen Yalçın, Türkiye Kupası'nda Rizespor ile oynanan maçın ardından açıklamalarda bulundu.\\xa0\", \"Beşiktaş, Türkiye Kupası'nda Rizespor 1-0 yenerek eledi. Beşiktaş - Çaykur Rizespor maç özeti ve golü izle için detaylar haberimizde.\"]\n",
            "Kısıtlama : 6\n",
            "Hata\n",
            "Baslik : 6\n",
            "Ozet : 6\n",
            "Linkler : 6\n",
            "https://www.futbolarena.com/turkiye-kupasi/22/\n",
            "Sıra : 22 / https://www.futbolarena.com/turkiye-kupasi/22/\n",
            "Baslik : 6\n",
            "Ozet : 6\n",
            "Linkler : 6\n",
            "[\"Fenerbahçe ile Kasımpaşa, Ziraat Türkiye Kupası'nda karşılaşacak. Fenerbahçe - Kasımpaşa maçı muhtemel 11'ler ve canlı yayın bilgisi haberimizde.\", \"Medipol Başakşehir, Türkiye Kupası'nda Tuzlaspor'u eledi. Tuzlaspor - Başakşehir maç özeti ve golleri izle için detaylar haberimizde.\", \"Konyaspor ile Gaziantep FK, Türkiye Kupası'nda karşılaştı. Konyaspor 2-1 Gaziantep FK maç özeti ve golleri izle için detaylar haberimizde.\", \"Ziraat Türkiye Kupası'nda Yeni Malatyaspor ile Galatasaray kozlarını paylaşıyor. Yeni Malatyaspor - Galatasaray maçı 11'ler ve canlı yayın bilgisi haberimizde.\", \"Ziraat Türkiye Kupası'nda son 16 turu eşleşmeleri belli oldu.\", \"Beşiktaş ile Tarsus İdman Yurdu, Ziraat Türkiye Kupası'nda karşılaştı. Beşiktaş 3-1 Tarsus İdman Yurdu maç özeti ve golleri izle için detaylar haberimizde.\"]\n",
            "Kısıtlama : 6\n",
            "Hata\n",
            "Baslik : 6\n",
            "Ozet : 6\n",
            "Linkler : 6\n",
            "https://www.futbolarena.com/turkiye-kupasi/23/\n",
            "Sıra : 23 / https://www.futbolarena.com/turkiye-kupasi/23/\n",
            "Baslik : 6\n",
            "Ozet : 6\n",
            "Linkler : 6\n",
            "['Tarsus İdman Yurdu kalecisi Anıl Demir, Beşiktaş maçının 11. dakikasında penaltı kurtardı.\\xa0', 'Fenerbahçe Teknik Direktörü Erol Bulut, Karacabey Belediyespor maçında kırmızı kart gören kaleci Altay hakkında konuştu.', \"Fenerbahçe, Ziraat Türkiye Kupası'nda Karacabey Belediyespor'u eledi.\\xa0Fenerbahçe 1-0 Karacabey Belediyespor maç özeti izle için detaylar haberimizde.\", 'Abdullah Avcı, Trabzonspor\\'un Adana Demirspor\\'a elendiği maçtan sonra \"Kadro mühendisliğiyle ilgili sıkıntı var.\" ifadelerini kullandı.', \"Beşiktaş ile Tarsus İdman Yurdu, Ziraat Türkiye Kupası'nda karşılaşıyor. Beşiktaş - Tarsus İdman Yurdu maçının ilk 11'leri ve canlı yayın bilgisi haberimizde.\", \"Trabzonspor, Ziraat Türkiye Kupası'nda Adana Demirspor ile karşılaştı. Trabzonspor - Adana Demirspor maç özeti ve golleri haberimizde.\"]\n",
            "Kısıtlama : 6\n",
            "Hata\n",
            "Baslik : 6\n",
            "Ozet : 6\n",
            "Linkler : 6\n",
            "https://www.futbolarena.com/turkiye-kupasi/24/\n",
            "Sıra : 24 / https://www.futbolarena.com/turkiye-kupasi/24/\n",
            "Baslik : 6\n",
            "Ozet : 6\n",
            "Linkler : 6\n",
            "[\"Adana Demirspor'un 22 yaşındaki kalecisi Vedat Karakuş, Trabzonspor deplasmanında 90+9'da kariyerinin ilk penaltısını kurtardı.\\xa0\", \"Fenerbahçe ile Karacabey Belediyespor, Ziraat Türkiye Kupası'nda karşılaşıyor. Fenerbahçe - Karacabey Belediyespor maçı ilk 11'ler ve canlı yayın bilgisi haberimizde.\", 'Fatih Terim, Galatasaray - Darıca Gençlerbirliği maçının ardından değerlendirmelerde bulundu.', \"Galatasaray, Ziraat Türkiye Kupası'nda Darıca Gençlerbirliği'ni mağlup ederek son 16 turuna yükseldi.\", \"Bursaspor, 19 yaşındaki futbolcusu Batuhan Kör'ün 4 gol attığı Göztepe maçını uzatmalarda 5-4 kazandı ve son 16 turuna yükseldi.\", 'Galatasaray ile Darıca Gençlerbirliği, Ziraat Türkiye Kupası 5. Tur maçında karşılaşıyor. Galatasaray - Darıca Gençlerbirliği, A Spor canlı izle için detaylar haberimizde.']\n",
            "Kısıtlama : 6\n",
            "Hata\n",
            "Baslik : 6\n",
            "Ozet : 6\n",
            "Linkler : 6\n",
            "https://www.futbolarena.com/turkiye-kupasi/25/\n",
            "Sıra : 25 / https://www.futbolarena.com/turkiye-kupasi/25/\n",
            "Baslik : 6\n",
            "Ozet : 6\n",
            "Linkler : 6\n",
            "['Eskişehirspor, Çaykur Rizesporlu\\xa0Samudio ile Buğra Çağlıyan arasında yaşanan forma değiştirme olayına açıklama getirdi.', \"Ziraat Türkiye Kupası'nda 5. tur kura çekimi gerçekleştirildi.\", \"Eskişehirspor'a Ziraat Türkiye Kupası 4. Tur maçında 2-0’lık skorla yenilen Kastamonuspor'da Teknik Direktör Levent Eriş, hakemlere ve Türk futbolunun duayen isimlerine serzenişte bulundu.\", \"Fenerbahçe, Ziraat Türkiye Kupası'nda Sivas Belediyespor'u eledi. Fenerbahçe 4-0 Sivas Belediyespor maç özeti ve golleri izle için detaylar haberimizde.\", \"Ligdeki kötü gidişini kupadaya taşıyan Denizlispor'da Prosinecki maçın ardından veda sinyali verdi.\", \"Fenerbahçe, Ziraat Türkiye Kupası'nda Sivas Belediyespor ile karşılaşıyor.\\xa0Fenerbahçe - Sivas Belediyespor maçı bilgileri haberimizde.\"]\n",
            "Kısıtlama : 6\n",
            "Hata\n",
            "Baslik : 6\n",
            "Ozet : 6\n",
            "Linkler : 6\n",
            "https://www.futbolarena.com/turkiye-kupasi/26/\n",
            "Sıra : 26 / https://www.futbolarena.com/turkiye-kupasi/26/\n",
            "Baslik : 6\n",
            "Ozet : 6\n",
            "Linkler : 6\n",
            "['Ankara Demirspor, Türkiye Kupası maçına 12 kişilik kadroya çıkarak rakibini eledi.\\xa0Kaleci Ömercan, forvet olarak oyuna dahil oldu.', \"Trabzonspor Başkanı Ahmet Ağaoğlu'nun, Ziraat Türkiye Kupası maçı sonrası yaptığı açıklamalar ve gol sevinci geceye damga vurdu.\\xa0\", \"Trabzonspor, Aytemiz Alanyaspor'u 2-0 yenerek Ziraat Türkiye Kupası'nı kazandı ve 9. kez bu kupayı müzesine götürdü.\\xa0\", \"Türkiye Kupası'nda Trabzonspor ile Alanyaspor arasında oynanacak final maçı öncesi basın toplantısı düzenlendi.\", 'Trabzonspor ile Aytemiz Alanyaspor arasında oynanacak Ziraat Türkiye Kupası finalinin yeri ve tarihi belli oldu', 'Türkiye Kupası finalinde Trabzonspor ile Aytemiz Alanyaspor mücadele edecek. Peki Ziraat Türkiye Kupası finali ne zaman, nerede oynanacak? Detaylar haberimizde.']\n",
            "Kısıtlama : 6\n",
            "Hata\n",
            "Baslik : 6\n",
            "Ozet : 6\n",
            "Linkler : 6\n",
            "https://www.futbolarena.com/turkiye-kupasi/27/\n",
            "Sıra : 27 / https://www.futbolarena.com/turkiye-kupasi/27/\n",
            "Baslik : 6\n",
            "Ozet : 6\n",
            "Linkler : 6\n",
            "[\"Ziraat Türkiye Kupası'nda Aytemiz Alanyaspor finale yükseldi ve Trabzonspor'un rakibi oldu. Aytemiz Alanyaspor 4-0 Antalyaspor maç özeti izle için detaylar haberimizde.\", \"Fenerbahçe ile Trabzonspor, Kadıköy'de tarihi maç oynadı. Trabzonspor, Fenerbahçe'yi 23 yıl aradan sonra deplasmanda mağlup etti.\", \"Fenerbahçe ile Trabzonspor, Ziraat Türkiye Kupası rövanşında karşı karşıya geldi. Trabzonspor, Kadıköy'de 3-1 galip gelerek finale yükseldi. Fenerbahçe - Trabzonspor maç özeti izle için detaylar haberimizde.\", \"Fenerbahçeli futbolcu Emre Belözoğlu, Ziraat Türkiye Kupası'nda Trabzonspor maçında yedek kulübesinde üst üste gördüğü iki sarı kart nedeniyle oyundan atıldı.\\xa0\", 'Alman Sportdigital kanalı, Türkiye Kupası maçlarının yayın hakkını satın aldı.\\xa0', 'Aytemiz Alanyasporlu Efecan Karaca, \"Takım otobüsünün camını taşladılar.\" açıklamasını yaparken, 2 antrenör hafif yaralandı.']\n",
            "Kısıtlama : 6\n",
            "Hata\n",
            "Baslik : 6\n",
            "Ozet : 6\n",
            "Linkler : 6\n",
            "https://www.futbolarena.com/turkiye-kupasi/28/\n",
            "Sıra : 28 / https://www.futbolarena.com/turkiye-kupasi/28/\n",
            "Baslik : 6\n",
            "Ozet : 6\n",
            "Linkler : 6\n",
            "['Aytemiz Alanyaspor Teknik Direktörü Erol Bulut, 10 kişi kalmalarına rağmen kazandıkları için mutlu olduğunu kaydetti.', 'Antalyaspor ile Aytemiz Alanyaspor, Ziraat Türkiye Kupası yarı final ilk maçında karşılaştı. Alanyaspor sondakika golüyle maçı 1-0 kazandı. Antalyaspor 0-1 Alanyaspor, A Spor maç özeti izle için detaylar haberimizde.', 'Ersun Yanal, basın toplantısı bitiminde hakkındaki tazminat iddialarına çok sert yanıt verdi.\\xa0', \"Vedat Muriqi ve Luiz Gustavo, Ersun Yanal'ın ayrılışıyla ilgili olarak önemli açıklamalarda bulundu.\\xa0\", 'Trabzonspor bu sezon Fenerbahçe ile oynadığı 3 maçı kaybetmedi. Hüseyin Çimşir, Trabzonspor ile 11 resmi maçtan 9 galibiyet elde etti.', 'Ersun Yanal, Trabzonspor maçı sonrası basın toplantısında yaptığı veda konuşmasında, özellikle tazminat haberlerine büyük tepki gösterirken, görevden ayrılma kararıyla ilgili olarak yaşanan süreci anlattı.\\xa0']\n",
            "Kısıtlama : 6\n",
            "Hata\n",
            "Baslik : 6\n",
            "Ozet : 6\n",
            "Linkler : 6\n",
            "https://www.futbolarena.com/turkiye-kupasi/29/\n",
            "Sıra : 29 / https://www.futbolarena.com/turkiye-kupasi/29/\n",
            "Baslik : 6\n",
            "Ozet : 6\n",
            "Linkler : 6\n",
            "[\"Trabzonspor, Ziraat Türkiye Kupası yarı final ilk maçında sahasında Fenerbahçe'yi 2-1 mağlup etti. Başkan Ahmet Ağaoğlu maçın ardından konuştu.\\xa0\", \"Trabzonspor, Ziraat Türkiye Kupası yarı final ilk maçında Fenerbahçe'yi 2-1 mağlup etti. Trabzonspor 2-1 Fenerbahçe, ATV maç özeti ve golleri izle için detaylar haberimizde.\", 'Trabzonspor - Fenerbahçe maçı öncesi sarı lacivertli takımda son maçına çıkan Ersun Yanal, ayrılık kararının ardından konuştu.\\xa0', \"Trabzonspor, Ziraat Türkiye Kupası'nda Fenerbahçe'yi konuk ediyor. Trabzonspor - Fenerbahçe maçı canlı yayın, 11'ler ve detaylar haberimizde.\", 'Trabzonspor - Fenerbahçe, Türkiye Kupası yarı final ilk maçını hakem Yaşar Kemal Uğurlu yönetecek.', 'Trabzonspor, Fenerbahçe taraftarlarının alınmayacağı Ziraat Türkiye Kupası maçı öncesi bilet fiyatlarını açıkladı.']\n",
            "Kısıtlama : 6\n",
            "Hata\n",
            "Baslik : 6\n",
            "Ozet : 6\n",
            "Linkler : 6\n",
            "https://www.futbolarena.com/turkiye-kupasi/30/\n",
            "Sıra : 30 / https://www.futbolarena.com/turkiye-kupasi/30/\n",
            "Baslik : 6\n",
            "Ozet : 6\n",
            "Linkler : 6\n",
            "['Trabzon İl Spor Güvenlik Kurulu,\\xa0Trabzonspor-Fenerbahçe kupa maçına sarı lacivertli taraftarların alınmamasına karar verdi.', 'Trabzonspor ile Fenerbahçe, Ziraat Türkiye Kupası yarı finalinde karşı karşıya gelecekler.\\xa0Trabzonspor - Fenerbahçe, Türkiye Kupası yarı final maçları ne zaman, saat kaçta? Türkiye Futbol Federasyonu açıkladı.', \"Ziraat Türkiye Kupası finali 15 yıl sonra yeniden İstanbul'a verdi. TFF final maçının tarihini erkene çekti.\", \"Solgar Vitamin Türkiye Kupası Final mücadelesinde Darüşşafaka Tekfen'i 74-71 mağlup eden Fenerbahçe Beko kupaya uzanan taraf oldu.\", \"Sivasspor, Türkiye Kupası'ndan elendi. Antalyaspor 0-0 biten ilk maçın rövanşında Sivasspor ile deplasmanda 1-1 berabere kalarak yarı finale yükseldi. Sivasspor 1-1 Antalyaspor maç özeti izle için detaylar haberimizde.\", 'Alexander\\xa0Sörloth\\'un iki maç ceza almasıyla ilgili görüşlerini açıklayan Hüseyin Çimşir, “Hakemin vermediği bir faulden sonra oluşan bir tepkiydi.\" dedi.']\n",
            "Kısıtlama : 6\n",
            "Hata\n",
            "Baslik : 6\n",
            "Ozet : 6\n",
            "Linkler : 6\n",
            "https://www.futbolarena.com/turkiye-kupasi/31/\n",
            "Sıra : 31 / https://www.futbolarena.com/turkiye-kupasi/31/\n",
            "Baslik : 6\n",
            "Ozet : 6\n",
            "Linkler : 6\n",
            "['Ziraat Türkiye Kupası yarı finalinde Trabzonspor ile Fenerbahçe eşleşti. Peki Türkiye Kupası yarı final maçları ne zaman? Trabzonspor - Fenerbahçe Türkiye Kupası maçları ne zaman, hangi tarihte oynanacak? İşte tüm bu soruların yanıtları.\\xa0', \"Trabzonspor, Türkiye Kupası rövanş maçında BB Erzurumspor'u 4-1 mağlup ederek yarı finalde Fenerbahçe ile eşleşti. BB Erzurumspor 1-4 Trabzonspor maç özeti izle için detaylar haberimizde.\", 'Demir Grup Sivasspor ile Fraport TAV Antalyaspor arasında oynanacak Ziraat Türkiye Kupası Çeyrek Final rövanş maçı için kentteki kar yağışının durumu bekleniyor.', 'Adem Büyük, Aytemiz Alanyaspor maçında attığı gollerle formunu yükseltmeye devam ederken, rakip takım futbolcularına ise sitemde bulundu.\\xa0', 'Galatasaray - Aytemiz Alanyaspor maçının devre arasında Hasan Şaş ile Erol Bulut arasında çıkan tartışmayı kulüp yetkilileri sakinleştirdi.', \"Ziraat Türkiye Kupası'nda Galatasaray'ı eleyerek yarı finale yükselen Aytemiz Alanyaspor'da teknik direktör Erol Bulut maçın ardından FutbolArena'ya açıklamalarda bulundu.\\xa0\"]\n",
            "Kısıtlama : 6\n",
            "Hata\n",
            "Baslik : 6\n",
            "Ozet : 6\n",
            "Linkler : 6\n",
            "https://www.futbolarena.com/turkiye-kupasi/32/\n",
            "Sıra : 32 / https://www.futbolarena.com/turkiye-kupasi/32/\n",
            "Baslik : 6\n",
            "Ozet : 6\n",
            "Linkler : 6\n",
            "['Galatasaray Teknik Direktörü Fatih Terim, Aytemiz Alanyaspor maçının ardından açıklamalarda bulundu.\\xa0', \"Galatasaray, Ziraat Türkiye Kupası rövanş maçında Aytemiz Alanyaspor'u 3-1 mağlup etmesine rağmen çeyrek finalde elendi. Aytemiz Alanyaspor yarı finale yükseldi.\\xa0Galatasaray - Alanyaspor, A Spor maç özeti izle için detaylar haberimizde.\", \"Galatasaray - Aytemiz Alanyaspor maçında Seri'nin iptal edilen golüne teknik heyet ve taraftarlar büyük tepki gösterdi. Devre bitiminde sarı kırmızılı taraftarlar, maçın hakemini protesto etti.\\xa0\", \"Türkiye Kupası'nda Galatasaray ile Alanyaspor karşı karşıya gelecek. Galatasaray - Alanyaspor maçı saat 20:30'da başlayacak.\\xa0Galatasaray - Alanyaspor maçını canlı ve şifresiz izlemek için\\xa0Galatasaray - Alanyaspor A Spor canlı izle şeklinde arama yapanlar için\\xa0Galatasaray - Alanyaspor canlı yayın bilgilerine haberimizin devamından ulaşabilirsiniz.\\xa0\", \"Fenerbahçe teknik direktörü Ersun Yanal, Kırklarelispor'u 1-0 mağlup ettikleri maçtan sonra açıklamalarda bulundu.\", \"Fenerbahçe, Ziraat Türkiye Kupası çeyrek final rövanş maçında Kırklarelispor'u 1-0 mağlup ederek yarı finale yükseldi.\\xa0Fenerbahçe 1-0 Kırklarelispor maç özeti izle için detaylar haberimizde.\"]\n",
            "Kısıtlama : 6\n",
            "Hata\n",
            "Baslik : 6\n",
            "Ozet : 6\n",
            "Linkler : 6\n",
            "https://www.futbolarena.com/turkiye-kupasi/33/\n",
            "Sıra : 33 / https://www.futbolarena.com/turkiye-kupasi/33/\n",
            "Baslik : 6\n",
            "Ozet : 6\n",
            "Linkler : 6\n",
            "['Fenerbahçe futbolcuları Kırklarelispor ile oynanan Ziraat Türkiye Kupası çeyrek final rövanş maçına \"Türk futbolu için uyanma zamanı\" pankartıyla çıktı.', \"Türkiye Kupası'nda Fenerbahçe ile Kırklarelispor karşı karşıya gelecek. Fenerbahçe - Kırklarelispor maçı saat 20:30'da başlayacak.\\xa0Fenerbahçe - Kırklarelispor maçını canlı ve şifresiz izlemek için\\xa0Kasımpaşa - Galatasaray A Spor canlı izle şeklinde arama yapanlar için\\xa0Fenerbahçe - Kırklarelispor canlı yayın bilgilerine haberimizin devamından ulaşabilirsiniz.\\xa0\", \"Galatasaray ile Aytemiz Alanyaspor, Ziraat Türkiye Kupası çeyrek final rövanş maçında karşılaşacak. Galatasaray - Aytemiz Alanyaspor maçı ne zaman, saat kaçta, hangi kanalda?\\xa0Galatasaray - Aytemiz Alanyaspor maçı muhtemel 11'ler haberimizde.\", \"Türkiye Kupası'nda Fenerbahçe ile karşılaşacak olan Kırklarelispor, Trabzon'da mahsur kaldı.\", 'Sivasspor Teknik Direktörü Rıza Çalımbay, Antalyaspor maçının ardından yaptığı açıklamada kupa ve lig maçı saatlerinin yanlış olduğunu belirtti.', 'Antalyaspor ile Sivasspor, Ziraat Türkiye Kupası çeyrek final ilk maçında golsüz berabere kaldı.\\xa0Antalyaspor 0-0 Sivasspor, A Spor maç özeti izle için detaylar haberimizde.']\n",
            "Kısıtlama : 6\n",
            "Hata\n",
            "Baslik : 6\n",
            "Ozet : 6\n",
            "Linkler : 6\n",
            "https://www.futbolarena.com/turkiye-kupasi/34/\n",
            "Sıra : 34 / https://www.futbolarena.com/turkiye-kupasi/34/\n",
            "Baslik : 6\n",
            "Ozet : 6\n",
            "Linkler : 6\n",
            "[\"Galatasaray, Türkiye Kupası'nda Aytemiz Alanyaspor'a 2-0 mağlup oldu. Aytemiz Alanyaspor çeyrek final ilk maçında avantaj sağladı.\\xa0Aytemiz Alanyaspor 2-0 Galatasaray maç özeti ve golleri izle için detaylar haberimizde.\", \"Galatasaray Teknik Direktörü Fatih Terim, Aytemiz Alanyaspor maçının ilk yarısında Belhanda'nın pas hatasına yedek kulübesinde çok sinirlendi.\\xa0\", 'Fenerbahçe’de Teknik Direktör Ersun Yanal maçın ardından konuştu. Yanal, Van’da yaşanan çığ felaketi nedeniyle futbol konuşmak istemediğini ifade etti.', \"Trabzonspor, Ziraat Türkiye Kupası çeyrek final ilk maçında BB Erzurumspor'u 5-0 ile geçti. Trabzonspor 5-0 BB Erzurumspor maç özeti ve golü izle için detaylar haberimizde.\", \"Kırklarelispor ile Fenerbahçe, Ziraat Türkiye Kupası'nda karşılaşacak. Kırklarelispor - Fenerbahçe maçı ne zaman, saat kaçta, hangi kanalda?\\xa0Kırklarelispor - Fenerbahçe maçı ilk 11'ler ve detaylar haberimizde.\", \"Aytemiz Alanyaspor, Ziraat Türkiye Kupası'nda Galatasaray'ı konuk edecek.\\xa0Aytemiz Alanyaspor - Galatasaray maçı ne zaman, saat kaçta, hangi kanalda?\\xa0Aytemiz Alanyaspor - Galatasaray maçı muhtemel 11'ler ve detaylar haberimizde.\"]\n",
            "Kısıtlama : 6\n",
            "Hata\n",
            "Baslik : 6\n",
            "Ozet : 6\n",
            "Linkler : 6\n",
            "https://www.futbolarena.com/turkiye-kupasi/35/\n",
            "Sıra : 35 / https://www.futbolarena.com/turkiye-kupasi/35/\n",
            "Baslik : 6\n",
            "Ozet : 6\n",
            "Linkler : 6\n",
            "[\"Ziraat Türkiye Kupası'nda kura çekimi heyecanı yaşandı. Fenerbahçe, Galatasaray ve Trabzonspor'un çeyrek final ile yarı finaldeki rakipleri belli oldu.\", 'Trabzonspor Kulübü Başkanı Ahmet Ağaoğlu, Denizlispor maçı sonrası VAR hakkında eleştirilerde bulundu.', 'Türkiye Kupası çeyrek finalistleri netleşti.\\xa0Türkiye Kupası çeyrek final kura çekimi saat kaçta, hangi kanalda?\\xa0Türkiye Kupası kura çekimi seri başı\\xa0takımlar hangileri? Detaylar haberimizde.', \"Galatasaray, Ziraat Türkiye Kupası rövanşında Çaykur Rizespor'u 2-1 mağlup ederek çeyrek finale çıktı. Galatasaray 2-1 Rizespor maç özeti ve golleri izle için haberimize göz atabilirsiniz.\", 'Gazetecilerin \"Hakemi nasıl değerlendiriyorsunuz?\" sorusuna Hüseyin Çimşir, \"Maçın geneli itibari ile iyi bir maç ortaya koymadı performans anlamında.\" dedi.', \"Trabzonspor, Ziraat Türkiye Kupası rövanş maçında Denizlispor'u penaltılarla eledi. Denizlispor normal süre ve uzatmaları 2-0 galip tamamladı. Denizlispor - Trabzonspor maç özeti ve golleri haberimizde.\"]\n",
            "Kısıtlama : 6\n",
            "Hata\n",
            "Baslik : 6\n",
            "Ozet : 6\n",
            "Linkler : 6\n",
            "https://www.futbolarena.com/turkiye-kupasi/36/\n",
            "Sıra : 36 / https://www.futbolarena.com/turkiye-kupasi/36/\n",
            "Baslik : 6\n",
            "Ozet : 6\n",
            "Linkler : 6\n",
            "[\"Mert Hakan Yandaş golü izle,\\xa0Mert Hakan Yandaş gol,\\xa0Mert Hakan Yandaş Malatyaspor'a attığı golle sosyal medyada gündem oldu.\", \"Beşiktaş'ın yediği son golde top kaybı yapan ve mevkisinden kontra atak yiyen Caner Erkin'e Mohamed Elneny'den sert tepki geldi. İkili saha içinde kavga etti.\", 'BB Erzurumspor kupa tarihinde ilk kez çeyrek finale çıktı. Beşiktaş son 8 maçta 7 mağlubiyet alarak taraftarlarını isyan ettirdi.', \"Erzurumspor Teknik Direktörü Erkan Sözeri, Beşiktaş galibiyetinin ardından teknik direktör Abdullah Avcı'ya göndermerde bulundu.\\xa0\", \"Beşiktaş, Türkiye Kupası rövanş maçında Erzurumspor'a 3-2 mağlup olarak elendi. BB Erzurumspor çeyrek finale yükseldi. Beşiktaş 2-3 BB Erzurumspor maç özeti ve golleri izle için haberimize göz atabilirsiniz.\", \"Beşiktaş Teknik Direktörü Abdullah Avcı'nın BB Erzurumspor maçında yenilen goldeki tepkisi sosyal medyada gündem yarattı.\\xa0\"]\n",
            "Kısıtlama : 6\n",
            "Hata\n",
            "Baslik : 6\n",
            "Ozet : 6\n",
            "Linkler : 6\n",
            "https://www.futbolarena.com/turkiye-kupasi/37/\n",
            "Sıra : 37 / https://www.futbolarena.com/turkiye-kupasi/37/\n",
            "Baslik : 6\n",
            "Ozet : 6\n",
            "Linkler : 6\n",
            "[\"Galatasaray ile Rizespor, Türkiye Kupası rövanş maçında karşı karşıya gelecek. Fatih Terim yönetimindeki Galatasaray, İstanbul'da tur peşinde olacak.\\xa0Galatasaray - Çaykur Rizespor maçı ne zaman, saat kaçta, hangi kanalda? Muhtemel 11'ler haberimizde.\", 'Beşiktaş ile BB Erzurumspor, Türkiye Kupası rövanş maçında karşılaşıyor. Abdullah Avcı yönetimindeki Beşiktaş tur arıyor.\\xa0Beşiktaş - BB Erzurumspor maçı saat kaçta, hangi kanalda? Detaylar haberimizde.', \"Kırklarelispor, Türkiye Kupası'nda Başakşehir'i eleyerek tarihi bir başarıya imza attı.\", \"Fenerbahçe ile Kayserispor, Türkiye Kupası rövanşında karşı karşıya gelecek. Fenerbahçe - Kayserispor rövanş maçı saat kaçta, hangi kanalda? Fenerbahçe - Kayserispor maçı muhtemel 11'ler ve merak edilenler haberimizde.\", 'Erman Toroğlu, Galatasaray yönetiminin tepki gösterdiği Rizespor maçındaki hakem kararlarını yorumladı.\\xa0', 'Trabzonspor Başkanı Ahmet Ağaoğlu, Denizlispor maçının ardından önemli açıklamalarda bulundu.\\xa0']\n",
            "Kısıtlama : 6\n",
            "Hata\n",
            "Baslik : 6\n",
            "Ozet : 6\n",
            "Linkler : 6\n",
            "https://www.futbolarena.com/turkiye-kupasi/38/\n",
            "Sıra : 38 / https://www.futbolarena.com/turkiye-kupasi/38/\n",
            "Baslik : 6\n",
            "Ozet : 6\n",
            "Linkler : 6\n",
            "[\"Ziraat Türkiye Kupası son 16 turu ilk maçında Trabzonspor, Denizlispor'u 2-0 mağlup ederken maçın ardından Denizlispor Teknik Direktörü Mehmet Özdilek hakem hakkında sitemde bulundu.\\xa0\", \"Ziraat Türkiye Kupası son 16 turu ilk maçında Trabzonspor, sahasında Denizlispor'u 2-0 mağlup etti. Trabzonspor - Denizlispor maç\", 'Adem Büyük, Emre Mor\\'un VAR\\'da iptal edilen golünden önce faul yapmadığını söylerken, \"Anlaşıldı ki, bu sezon böyle geçecek\" ifadelerini kullandu.', 'Çaykur Rizespor Teknik Direktörü İsmail Kartal, Galatasaray maçının ardından yaptığı açıklamada final paslarında daha etkili olmaları durumunda skorun daha farklı olabileceğini söyledi.', \"Ziraat Türkiye Kupası'nda Galatasaray, son 16 turu ilk maçında deplasmanda Rizespor ile 1-1 berabere kaldı. Galatasaray Teknik Direktörü Fatih Terim maçın ardından yayıncı kuruluş A Spor'a konuştu.\\xa0\", \"Galatasaray, Türkiye Kupası'nda Çaykur Rizespor ile 1-1 berabere kaldı. Emre Mor'un son dakikada attığı gol faul gerekçesiyle VAR'da iptal edildi. Çaykur Rizespor 1-1 Galatasaray maç özeti ve golleri izle için haberimize göz atabilirsiniz.\"]\n",
            "Kısıtlama : 6\n",
            "Hata\n",
            "Baslik : 6\n",
            "Ozet : 6\n",
            "Linkler : 6\n",
            "https://www.futbolarena.com/turkiye-kupasi/39/\n",
            "Sıra : 39 / https://www.futbolarena.com/turkiye-kupasi/39/\n",
            "Baslik : 6\n",
            "Ozet : 6\n",
            "Linkler : 6\n",
            "[\"Galatasaray'ın, Çaykur Rizespor ile deplasmanda 1-1 berabere kaldığı maçta 90+3'te Emre Mor'un attığı golün VAR'da iptal edilmesine çok sinirlenen Fatih Terim, maçın bitmesini beklemeden soyunma odasına gitti. Galatasaraylı futbolcular ve teknik heyet de karara tepki gösterdi.\\xa0\", \"Emre Akbaba, 249 gün sonra sahalara golle geri döndü. Emre Akbaba'nın Çaykur Rizespor maçında attığı golü izle,\\xa0Emre Akbaba'nın golü izle, Rizespor-Galatasaray Emre Akbaba'nın golünü izle şeklinde arama yapanlar için\\xa0Emre Akbaba'nın Çaykur Rizespor'a attığı golü izlemek için gerekli bilgilere haberimizinden ulaşabilirsiniz.\\xa0\", \"Beşiktaş Teknik Direktörü Abdullah Avcı, Erzurumspor maçının ardından A Spor muhabirinin müsabakanın 18:30'da oynanmasıyla ilgili açıklamasına tepki gösterdi.\\xa0\", \"Beşiktaş ile Erzurumspor, Türkiye Kupası'nda karşılaştı. BB Erzurumspor, Beşiktaş'ı 3-2 mağlup etti. Erzurumspor 3-2 Beşiktaş maç özeti ve golleri izle için haberimize göz atabilirsiniz.\", \"Erzurumspor - Beşiktaş maçının ilk yarısında siyah beyazlı futbolcular, N'Koudou'nun penaltı pozisyonunda yoğun bir şekilde kırmızı kart itirazında bulundu. Bu pozisyon sosyal medyada da uzun süre tartışıldı.\\xa0\", 'Kayserispor Başkanı Berna Gözbaşı, yeni transferlerin lisansının çıkarılamaması konusunda hainlik hikayesi olduğunu fakat sorunu 15 Ocak 2019 Çarşamba günü çözeceklerini açıkladı.\\xa0']\n",
            "Kısıtlama : 6\n",
            "Hata\n",
            "Baslik : 6\n",
            "Ozet : 6\n",
            "Linkler : 6\n",
            "https://www.futbolarena.com/turkiye-kupasi/40/\n",
            "Sıra : 40 / https://www.futbolarena.com/turkiye-kupasi/40/\n",
            "Baslik : 6\n",
            "Ozet : 6\n",
            "Linkler : 6\n",
            "[\"Kayserispor, Türkiye Kupası'nda Fenerbahçe ile golsüz berabere kaldı. Son dönemde 4 farklı teknik direktörle Fenerbahçe karşısına çıkan Kayserispor, hiçbirinde mağlup olmadı.\", \"Fenerbahçe, Ziraat Türkiye Kupası'nda Kayserispor deplasmanına konuk oldu. Mücadele 0-0 beraberlikle sona erdi. Kayserispor 0-0 Fenerbahçe maç özetini izlemek için haberimize göz atabilirsiniz.\", \"Sivasspor, Türkiye Kupası'nda Yeni Malatyaspor'u 4-0 mağlup etti. Süper Lig'in lideri Sivasspor, Türkiye Kupası'nda tur kapısını araladı.\\xa0Sivasspor 4-0 Yeni Malatyaspor maç özeti ve golleri izle için haberimize göz atabilirsiniz.\", 'Fenerbahçe Teknik Direktörü Ersun Yanal, gribal enfeksiyon nedeniyle Kayserispor ile oynanan kupa maçında takımının başında olamadı.\\xa0', \"Çaykur Rizespor ile Galatasaray, Türkiye Kupası'nda karşılaşacak. Çaykur Rizespor - Galatasaray maçı saat kaçta, hangi kanalda? Çaykur Rizespor - Galatasaray\\xa0 maçı 11'ler haberimizde.\", \"Beşiktaş ile BB Erzurumspor, Türkiye Kupası'nda karşılaşacak.\\xa0Erzurumspor - Beşiktaş maçı saat kaçta, hangi kanalda? BB Erzurumspor - Beşiktaş maçı muhtemel 11'ler haberimizde.\"]\n",
            "Kısıtlama : 6\n",
            "Hata\n",
            "Baslik : 6\n",
            "Ozet : 6\n",
            "Linkler : 6\n",
            "https://www.futbolarena.com/turkiye-kupasi/41/\n",
            "Sıra : 41 / https://www.futbolarena.com/turkiye-kupasi/41/\n",
            "Baslik : 6\n",
            "Ozet : 6\n",
            "Linkler : 6\n",
            "[\"Türkiye Kupası'nda Erzurumspor ile deplasmanda karşılaşacak olan Beşiktaş'ta tam 9 futbolcu kadroda yer almadı.\", \"Kayserispor ile Fenerbahçe, Türkiye Kupası'nda karşılaşacak. Kayserispor - Fenerbahçe maçı saat kaçta, hangi kanalda? Kayserispor - Fenerbahçe maçı muhtemel 11'ler ve merak edilen detaylar haberimizde.\", \"Kayserispor'un ara transfer döneminde kadrosuna kattığı futbolcular, Fenerbahçe ile oynanacak Türkiye Kupası maçında forma giyemeyecek.\", \"PFDK'nın Tuzlaspor - Galatasaray maçı kararları resmi siteden yayınlandı.\\xa0Galatasaray oyuncusu Jimmy Durmaz'a 3 maç ceza verildi.\", \"Türkiye Kupası'nda son 16 turu eşleşmeleri belli oldu.\\xa0Türkiye Kupası eşleşmeleri haberimizde.\", \"Ziraat Türkiye Kupası'nda son 16 turuna kalan takımlar belli oldu. İşte kura çekimi tarihi ve seribaşı olan kulüpler.\\xa0\"]\n",
            "Kısıtlama : 6\n",
            "Hata\n",
            "Baslik : 6\n",
            "Ozet : 6\n",
            "Linkler : 6\n",
            "https://www.futbolarena.com/turkiye-kupasi/42/\n",
            "Sıra : 42 / https://www.futbolarena.com/turkiye-kupasi/42/\n",
            "Baslik : 6\n",
            "Ozet : 6\n",
            "Linkler : 6\n",
            "[\"Ziraat Türkiye Kupası'nda oynanan olaylı Tuzlaspor - Galatasaray maçının ardından PFDK raporu açıklandı. İki kulübün yanı sıra toplamda 6 kişi Disiplin Kurulu'na sevk edildi.\\xa0\", \"Fenerbahçe deplasmanda İstanbulspor'u 2-0 yenerek Türkiye Kupası'nda tur atladı.\\xa0İstanbulspor 0-2 Fenerbahçe maç özeti ve golleri izle için haberimize göz atabilirsiniz.\", \"Galatasaray maçından sonra Muslera ile gerginlik yaşayan ve Fatih Terim'i hedef alan Tuzlasporlu Gökhan Çıra özür diledi.\", \"Galatasaray Başkanı Mustafa Cengiz, Tuzlaspor maçından sonra çıkan olaylarda adı geçen Gökhan Çıra'ya tepki gösterdi.\", 'Yeni Malatyaspor\\'da Teknik Direktör Sergen Yalçın, \"Milyon Euro’lar verip aldığımız futbolcular böyle buz gibi bir zeminde, sürekli kayan, düşen, pas atamayan sprint atamayan, istenen pas organizasyonunu bir türlü kurulamayan bir zeminde TFF’nin maç oynatması bana göre yanlış\" edi.', \"Türkiye Kupası'nda 24Erzincanspor sahasında konuk ettiği Beşiktaş'ı 2-0 mağlup etti. 24Erzincanspor Beşiktaş maç özeti ve golleri haberimizde.\"]\n",
            "Kısıtlama : 6\n",
            "Hata\n",
            "Baslik : 6\n",
            "Ozet : 6\n",
            "Linkler : 6\n",
            "https://www.futbolarena.com/turkiye-kupasi/43/\n",
            "Sıra : 43 / https://www.futbolarena.com/turkiye-kupasi/43/\n",
            "Baslik : 6\n",
            "Ozet : 6\n",
            "Linkler : 6\n",
            "[\"Tuzlaspor futbolcusu\\xa0Muhammed Akarslan maç sonu Gökhan Çıra ile gerginlik yaşayan Fernando Muslera'nın küfür ettiğini söyledi.\", 'Muslera, \"Eğer birisi \\'Muslera gitti, birisine vurdu\\' diyorsa görüntüsünü göstermesi gerekiyor. Ama gösteremez. Çünkü öyle bir görüntü yok. Zaten söylenen şey benim yapıma uygun bir olay da değil, benim karakterim buna müsaade etmez\" diye konuştu.', 'Abdurrahim Albayrak, Tuzlaspor - Galatasaray maçının ardından açıklamalarda bulundu.\\xa0', 'Tuzlasporlu Gökhan Çıra, Galatasaray maçının ardından sarı kırmızılı takım, Fatih Terim ve Muslera hakkında çok sert açıklamalarda bulundu.\\xa0', 'Tuzlaspor - Galatasaray maçının ardından çıkan olayların ardından Tuzlaspor Teknik Direktörü Gürses Kılıç çok sert açıklamalarda bulundu.\\xa0', 'Galatasaray Futbol Takımı Medya Direktörü Hande Sümertaş, Tuzlaspor maçının ardından çıkan yumruklu kavgada zor anlar yaşadı.']\n",
            "Kısıtlama : 6\n",
            "Hata\n",
            "Baslik : 6\n",
            "Ozet : 6\n",
            "Linkler : 6\n",
            "https://www.futbolarena.com/turkiye-kupasi/44/\n",
            "Sıra : 44 / https://www.futbolarena.com/turkiye-kupasi/44/\n",
            "Baslik : 6\n",
            "Ozet : 6\n",
            "Linkler : 6\n",
            "[\"Tuzlaspor - Galatasaray Ziraat Türkiye Kupası maçının ardından iki takım futbolcuları arasında kavga çıktı. Muslera, Gökhan Çıra'nın üzerine yürüdü ve bu esnadan sonra yumruklaşmalar başladı.\\xa0\", \"Galatasaray, Ziraat Türkiye Kupası rövanş maçında Tuzlaspor'u 4-0 yenerek bir üst tura yükseldi. Radamel Falcao maçta 1 gol attı.\\xa0Tuzlaspor 0-4 Galatasaray maç özeti ve golleri izle için haberimize göz atabilirsiniz.\", \"İstanbulspor ile Fenerbahçe, Türkiye Kupası rövanş maçında karşılaşacak. İstanbulspor - Fenerbahçe maçı saat kaçta, hangi kanalda?\\xa0İstanbulspor - Fenerbahçe maçı muhtemel 11'ler ve merak edilen detaylar haberimizde.\", \"Erzincanspor ile Beşiktaş, Türkiye Kupası rövanş maçında karşılaşacak. 24 Erzincanspor - Beşiktaş maçı saat kaçta, hangi kanalda?\\xa024 Erzincanspor - Beşiktaş maçı muhtemel 11'ler ve merak edilen detaylar haberimizde.\", \"Galatasaray, Tuzlaspor ile Türkiye Kupası'nda rövanş maçına çıkıyor. Tuzlaspor - Galatasaray maçı saat kaçta, hangi kanalda? Tuzlaspor - Galatasaray maçı muhtemel 11'ler ve merak edilen detaylar haberimizde.\", \"Galatasaray'ın, Ziraat Türkiye Kupası'nda Tuzlaspor ile oynayacağı rövanş maçının kadrosu belli oldu. Falcao maç kafilesinde yer aldı.\\xa0\"]\n",
            "Kısıtlama : 6\n",
            "Hata\n",
            "Baslik : 6\n",
            "Ozet : 6\n",
            "Linkler : 6\n",
            "https://www.futbolarena.com/turkiye-kupasi/45/\n",
            "Sıra : 45 / https://www.futbolarena.com/turkiye-kupasi/45/\n",
            "Baslik : 6\n",
            "Ozet : 6\n",
            "Linkler : 6\n",
            "['Beşiktaş Teknik Direktörü Abdullah Avcı, 24 Erzincanspor maçının ardından açıklamalarda bulundu.\\xa0', 'Tuzlaspor mağlubiyetinin ardından futbolcularıyla konuşan Galatasaray teknik direktörü Fatih Terim sert ifadeler kullandı.', \"Galatasaray'ın Tuzlaspor ile oynadığı Türkiye Kupası maçını FutbolArena yazarı Sinan Yılmaz kaleme aldı.\", \"Beşiktaş ile Erzincanspor, Türkiye Kupası'nda karşı karşıya gelecek.\\xa0Beşiktaş - Erzincanspor maçı ne zaman, saat kaçta, hangi kanalda?\\xa0Beşiktaş - Erzincanspor maçı muhtemel 11'ler ve merak edilen detaylar haberimizde.\", 'Galatasaray Teknik Direktörü Fatih Terim, Tuzlaspor mağlubiyetinin ardından çarpıcı açıklamalarda bulundu.\\xa0', \"Galatasaray - Tuzlaspor maçında sarı kırmızılı formayla ilk resmi maçına çıkan 16 yaşındaki Emin Bayram, performansıyla tam not ve teknik direktör Fatih Terim'den maç sonu övgü aldı.\\xa0\"]\n",
            "Kısıtlama : 6\n",
            "Hata\n",
            "Baslik : 6\n",
            "Ozet : 6\n",
            "Linkler : 6\n",
            "https://www.futbolarena.com/turkiye-kupasi/46/\n",
            "Sıra : 46 / https://www.futbolarena.com/turkiye-kupasi/46/\n",
            "Baslik : 6\n",
            "Ozet : 6\n",
            "Linkler : 6\n",
            "[\"Ziraat Türkiye Kupası 5. tur ilk maçında Galatasaray, sahasında Tuzlaspor'a 2-0 mağlup oldu. Galatasaray 0-2 Tuzlaspor maç özeti ve gollerini izlemek için detaylar haberimizde.\\xa0\", \"Trabzonspor, Ziraat Türkiye Kupası 5. tur ilk maçında deplasmanda Altay'ı 2-1 mağlup etti.\\xa0\", 'Emin Bayram kimdir? Emin Bayram kaç yaşında? Emin Bayram nereli? Emin Bayram kariyeri ve Emin Bayram mevkisi ile birlikte Emin Bayram transfermarkt verileri hakkında bilgi araştırması yapan Galatasaray taraftarları için Emin Bayram hakkında merak ettiklerinizi haberimizde bulabilirsiniz.\\xa0\\xa0', \"Tolgay Arslan, Fenerbahçe'nin İstanbulspor'u 4-0 mağlup ettiği maçın ardından daha fazla forma şansı bulamadığı için mutsuz olduğunu söyledi.\", 'İstanbulspor karşısında üstün bir oyunla sahadan 4-0’lık galibiyetle ayrılan Fenerbahçe’de Teknik Direktör Ersun Yanal maçın ardından konuştu.', \"Galatasaray ile Tuzlaspor\\xa0, Türkiye Kupası'nda karşı karşıya gelecek. Galatasaray - Tuzlaspor\\xa0maçı ne zaman, saat kaçta, hangi kanalda?\\xa0Galatasaray - Tuzlaspor\\xa0maçı muhtemel 11'ler ve merak edilen detaylar haberimizde.\"]\n",
            "Kısıtlama : 6\n",
            "Hata\n",
            "Baslik : 6\n",
            "Ozet : 6\n",
            "Linkler : 6\n",
            "https://www.futbolarena.com/turkiye-kupasi/47/\n",
            "Sıra : 47 / https://www.futbolarena.com/turkiye-kupasi/47/\n",
            "Baslik : 6\n",
            "Ozet : 6\n",
            "Linkler : 6\n",
            "[\"Fenerbahçe, Ziraat Türkiye Kupası'nda İstanbulspor'u 4-0 mağlup etti. Fenerbahçe rövanş maçı öncesi tur kapısını araladı.\\xa0Fenerbahçe 4-0 İstanbulspor maç özeti ve golleri izle için haberimize göz atabilirsiniz.\", 'Ferdi Kadıoğlu, İstanbulspor maçında 1 dakika içinde 1 gol ve 1 asist kaydetti. 52 saniyede 1 gol ve 1 asiste imza atan Fenerbahçeli Ferdi Kadıoğlu, performansıyla alkış topladı.', \"Fenerbahçe - İstanbulspor Türkiye Kupası'nda\\xa0oynanacak maç saat 20:45'te başlayacak.\\xa0Fenerbahçe - İstanbulspor maçını A Spor yayınlayacak.\\xa0Fenerbahçe - İstanbulspor maçını canlı ve şifresiz izlemek için gerekli olan bilgiler haberimizde.\", 'Türkiye Kupası canlı,\\xa0Türkiye Kupası canlı izle,\\xa0Türkiye Kupası maç sonuçları gibi aramaların yanıtları haberimizde.', \"Fenerbahçe ile İstanbulspor, Türkiye Kupası'nda karşı karşıya gelecek. Fenerbahçe - İstanbulspor maçı ne zaman, saat kaçta, hangi kanalda?\\xa0Fenerbahçe - İstanbulspor maçı muhtemel 11'ler ve merak edilen detaylar haberimizde.\", 'Fenerbahçe İstanbulspor maçı ne zaman, Fenerbahçe İstanbulspor tarihi, Fenerbahçe İstanbulspor hangi gün gibi aramaların yanıtlarını derledik.']\n",
            "Kısıtlama : 6\n",
            "Hata\n",
            "Baslik : 6\n",
            "Ozet : 6\n",
            "Linkler : 6\n",
            "https://www.futbolarena.com/turkiye-kupasi/48/\n",
            "Sıra : 48 / https://www.futbolarena.com/turkiye-kupasi/48/\n",
            "Baslik : 6\n",
            "Ozet : 6\n",
            "Linkler : 6\n",
            "['Galatasaray Tuzlaspor maçı ne zaman, Galatasaray Tuzlaspor tarihi, Galatasaray Tuzlaspor hangi gün gibi aramaların yanıtlarını derledik.', 'Beşiktaş Erzincanspor maçı ne zaman,\\xa0Beşiktaş Erzincanspor tarihi,\\xa0Beşiktaş Erzincanspor hangi gün gibi aramaların yanıtlarını derledik.', \"Ziraat Türkiye Kupası'nda 5. tur eşlemeleri belli oldu. Galatasaray, Fenerbahçe, Beşiktaş ve Trabzonspor'un Türkiye Kupası 5. turundaki rakipleri belirlendi.\", \"Fenerbahçe, Ziraat Türkiye Kupası 4. tur maçında deplasmanda Tarsus İdman Yurdu'nu 3-1 yenerek bir üst tura yükseldi. Fenerbahçe'nin gollerini Sadık, Deniz Türüç ve Tolgay Arslan kaydetti.\\xa0\", \"Tarsus İdman Yurdu ile Fenerbahçe, Ziraat Türkiye Kupası'nda karşı karşıya gelecek. Tarsus İdman Yurdu - Fenerbahçe maçı ne zaman, saat kaçta, hangi kanalda?\\xa0Tarsus İdman Yurdu - Fenerbahçe maçı muhtemel 11'ler ve merak edilen detaylar haberimizde.\", 'Konyaspor Teknik Direktörü Aykut Kocaman, Eyüpspor karşısında tur adına hiçbir çaba gösteremediklerini altını çizerek, bu mağlubiyetin bedelini ya futbolcular ya da antrenörün bir şekilde ödemesi gerektiğini ifade etti.']\n",
            "Kısıtlama : 6\n",
            "Hata\n",
            "Baslik : 6\n",
            "Ozet : 6\n",
            "Linkler : 6\n",
            "https://www.futbolarena.com/turkiye-kupasi/49/\n",
            "Sıra : 49 / https://www.futbolarena.com/turkiye-kupasi/49/\n",
            "Baslik : 6\n",
            "Ozet : 6\n",
            "Linkler : 6\n",
            "[\"Türkiye Kupası'nda TFF 2. Lig temsilcisi Eyüpspor, Konyaspor'u mağlup ederek bir üst tura yükseldi.\", 'PSG futbolcusu Kimpembe, Galatasaray maçı sonrası Türk Telekom Stadı atmosferi ve Ryan Babel hakkında konuştu.\\xa0', \"Türkiye Kupası'nda 4. eleme turu kuraları çekildi. Fenerbahçe'nin bu turdaki rakibi de belli oldu.\", 'Akhisarspor - Galatasaray maçındaki penaltı pozisyonlarını hakem yorumcuları Erman Toroğlu ile Bünyamin Gezer yorumladı.\\xa0', 'Akhisarsporlu futbolcular Güray Vural ve Caner, Galatasaray maçının ardından hakem Suat Arslanboğa hakkında çok sert konuştu.\\xa0', \"Galatasaraylı futbolcualar Ziraat Türkiye Kupası şampiyonluğunun ardından yayıncı kuruluş A Spor'a konuştu.\\xa0\"]\n",
            "Kısıtlama : 6\n",
            "Hata\n",
            "Baslik : 6\n",
            "Ozet : 6\n",
            "Linkler : 6\n",
            "https://www.futbolarena.com/turkiye-kupasi/50/\n",
            "Sıra : 50 / https://www.futbolarena.com/turkiye-kupasi/50/\n",
            "Baslik : 6\n",
            "Ozet : 6\n",
            "Linkler : 6\n",
            "[\"Ziraat Türkiye Kupası'nda bu akşam Sivas 4 Eylül Stadyumu'nda oynanan mücadeleden 3-1'lik skor ile galip ayrılan Galatasaray kupayı müzesine götürdü.\", \"Ziraat Türkiye Kupası finalinde Akhisarspor'u Sivas'ta 3-1 mağlup eden Galatasaray, 57. Ziraat Türkiye Kupası'nın sahibi oldu.\", 'Akhisarspor 1-3 Galatasaray maç özeti ve golleri izle. Türkiye Kupası Akhisarspor - Galatasaray maçı golleri izle.', \"Akhisarspor - Galatasaray Türkiye Kupası finalinin ardından maç özeti ve golleriyle birlikte maça dair tüm gelişmeler canlı yayında FutbolArena'da.\\xa0\", \"Akhisarspor - Galatasaray Türkiye Kupası finalinde hakem Suat Arslanboğa'nın Galatasaray lehine verdiği 2 penaltı kararı sonrasında Akhisarsporlu futbolcular karara büyük tepki gösterdi. Miguel Lopes kırmızı kart gördü.\\xa0\", \"Galatasaray, Ziraat Türkiye Kupası finalinde Akhisarspor ile karşılaşacak. Saat 20:45'te başlayacak olan Akhisarspor - Galatasaray Türkiye Kupası finali öncesinde canlı yayında tüm gelişmeler FutbolArena'da.\\xa0\"]\n",
            "Kısıtlama : 6\n",
            "Hata\n",
            "Baslik : 6\n",
            "Ozet : 6\n",
            "Linkler : 6\n",
            "https://www.futbolarena.com/turkiye-kupasi/51/\n",
            "Sıra : 51 / https://www.futbolarena.com/turkiye-kupasi/51/\n",
            "Baslik : 6\n",
            "Ozet : 6\n",
            "Linkler : 6\n",
            "[\"Türkiye Kupası'nda Akhisarspor - Galatasaray finali bu akşam oynanacak. Türkiye Kupası'nı en çok hangi takım kazandı? Türkiye Kupası finallerini en çok kazanan takımlar ve kupa tarihi hakkında merak edilen haberimizde.\", \"Ziraat Türkiye Kupası'nda Akhisarspor ile Galatasaray karşı karşıya geldi. Galatasaray, Akhisarspor'u 3-1'lik skor ile mağlup etti ve Türkiye Kupası'nın sahibi oldu.\", 'Galatasaray yönetimi çifte kupa için tüm şartları zorlarken, Akhisarspor ile oynanacak kupa finalinde de özel prim tarifesi uygulanacak.\\xa0', 'Galatasaray Teknik Direktörü Fatih Terim, Akhisarspor ile oynanacak olan Ziraat Türkiye Kupası öncesi ezeli rakiplerine çarpıcı bir göndermede bulundu.\\xa0', 'Galatasaray\\'a elenen Yeni Malatyaspor\\'un teknik direktörü Erol Bulut, Taraftarımızdan özür diliyoruz. Ekibimle önümüzdeki 1-2 gün içerisinde konuşup, kendimle ilgili radikal bir karar alabilirim. O yüzden ekibimle oturup bunu 1-2 gün içerisinde konuşacağız\" dedi.\\xa0', \"Ziraat Türkiye Kupası finalinde Akhisarspor'un rakibi olan Galatasaray, bu köklü turnuvaya damgasını vurdu. Türkiye Kupası'nda en çok final oynayan takımlar,\\xa0Türkiye Kupası'nda en çok şampiyon olan takımlar ve\\xa0Türkiye Kupası'nda son 20 yılda finale çıkan takımları sizler için derledik.\"]\n",
            "Kısıtlama : 6\n",
            "Hata\n",
            "Baslik : 6\n",
            "Ozet : 6\n",
            "Linkler : 6\n",
            "https://www.futbolarena.com/turkiye-kupasi/52/\n",
            "Sıra : 52 / https://www.futbolarena.com/turkiye-kupasi/52/\n",
            "Baslik : 6\n",
            "Ozet : 6\n",
            "Linkler : 6\n",
            "['Galatasaray Teknik Direktörü Fatih Terim, Yeni Malatyaspor maçının ardından konuştu.\\xa0', \"Ziraat Türkiye Kupası'nda final eşleşmesi belli oldu. Akhisarspor'un rakibi Galatasaray oldu. Galatasaray - Akhisarspor finali öncesi iki takımı kupa heyecanı sardı. Peki\\xa0Galatasaray - Akhisarspor Türkiye Kupası finali ne zaman, nerede oynanacak? Merak edilen detaylar haberimizde.\", \"Galatasaray deplasmandaki rövanş maçında Yeni Malatyaspor'u 5-2 yenerek Ziraat Türkiye Kupası'nda finale yükseldi. Finalin adı Galatasaray - Akhisarspor oldu. Yeni Malatyaspor - Galatasaray maçının özeti, golleri ve detayları haberimizde.\", \"Yeni Malatyaspor - Galatasaray Ziraat Türkiye Kupası maçında VAR kontrol sürelerinin 8 dakika sürmesine tepki geldi. Peki Şampiyonlar Ligi'nde bu süre ne kadar?\\xa0\", 'Yeni Malatyaspor - Galatasaray Ziraat Türkiye Kupası yarı final rövanş maçında Feghouli attığı golle kariyer rekorunu kırdı.\\xa0', \"Galatasaray'ın başarılı savunma oyuncusu Marcao, Ziraat Türkiye Kupası'nda oynanan Yeni Malatyaspor maçında sakatlandı.\\xa0\"]\n",
            "Kısıtlama : 6\n",
            "Hata\n",
            "Baslik : 6\n",
            "Ozet : 6\n",
            "Linkler : 6\n",
            "https://www.futbolarena.com/turkiye-kupasi/53/\n",
            "Sıra : 53 / https://www.futbolarena.com/turkiye-kupasi/53/\n",
            "Baslik : 6\n",
            "Ozet : 6\n",
            "Linkler : 6\n",
            "[\"Martin Linnes, Ziraat Türkiye Kupası'nda Yeni Malatyaspor karşısında attığı golle sarı kırmızılı formayla en golcü sezonunu yaşarken, 2013/14'ten bu yana yine en skorer dönemine ulaştı.\\xa0\", \"Yeni Malatyaspor - Galatasaray rövanş maçı öncesi ilk 11'de olacağı açıklanan Younes Belhanda son anda kadrodan çıkartıldı. Belhanda'nın yerine Ryan Donk ilk 11'e alındı.\\xa0Belhanda sakatlandı mı? Belhanda'nın sağlık durumu Fatih Terim açıkladı\", \"Yeni Malatyaspor - Galatasaray rövanş maçı öncesi ilk 11'ler belli oldu.\\xa0Galatasaray teknik direktörü Fatih Terim, Türkiye Kupası için beklenen tercihlerde bulundu.\", \"Ziraat Türkiye Kupası'nda Yeni Malatyaspor, Galatasaray'ı ağırlayacak. Akhisarspor ile oynanacak final müsabakasının diğer takımını belirleyecek Yeni Malatyaspor - Galatasaray mücadelesi öncesinde son dakika gelişmeleri haberimizde.\", 'Türkiye Kupası Final maçı nerede? Türkiye Kupası Final maçı ne zaman? Türkiye Kupası Final maçı nerede oynanacak?', \"Ziraat Türkiye Kupası'nda ilk finalist Akhisarspor. Akhisarspor - Ümraniyespor maç özeti ve golü haberimizde.\"]\n",
            "Kısıtlama : 6\n",
            "Hata\n",
            "Baslik : 6\n",
            "Ozet : 6\n",
            "Linkler : 6\n",
            "https://www.futbolarena.com/turkiye-kupasi/54/\n",
            "Sıra : 54 / https://www.futbolarena.com/turkiye-kupasi/54/\n",
            "Baslik : 6\n",
            "Ozet : 6\n",
            "Linkler : 6\n",
            "[\"Türkiye Kupası ile Avrupa'nın önde gelen ülkelerinde kupa organizasyonlarında dağıtılan para ödüllerini inceledik.\", \"Galatasaray taraftarları Yeni Malatyaspor maçında etkisiz kalan Mbaye Diagne ve Henry Onyekuru'yu oyundan çıkarken yuhaladı. Fatih Terim'in basın toplantısındaki tepkisi sert oldu.\", 'Fatih Terim, Yeni Malatyaspor maçının ardından yayıncı kuruluş ve basın toplantısında önemli açıklamalarda bulundu.\\xa0', 'Yeni Malatyaspor Teknik Direktörü Erol Bulut, Galatasaray maçının ardından konuştu.\\xa0', \"Galatasaraylı futbolcular Mariano ve Marcao, hakem Halil Umut Meler'in Yeni Malatyaspor maçındaki kararlarına tepki gösterdi. Adem Büyük ise Galatasaray taraftarlarına serzenişte bulundu.\", \"Galatasaray - Yeni Malatyaspor maç özeti ve golleriyle birliikte maç sonu stattan canlı bağlantılarla tüm gelişmeler FutbolArena TV'de.\\xa0\"]\n",
            "Kısıtlama : 6\n",
            "Hata\n",
            "Baslik : 6\n",
            "Ozet : 6\n",
            "Linkler : 6\n",
            "https://www.futbolarena.com/turkiye-kupasi/55/\n",
            "Sıra : 55 / https://www.futbolarena.com/turkiye-kupasi/55/\n",
            "Baslik : 6\n",
            "Ozet : 6\n",
            "Linkler : 6\n",
            "[\"Galatasaray, Ziraat Türkiye Kupası'nda Yeni Malatyaspor ile 0-0 berabere kaldı. Galatasaray - Yeni Malatyaspor maçının özeti ve detayları haberimizde.\", \"Galatasaray taraftar grubu ultrAslan, Ziraat Türkiye Kupası'nda oynanan Yeni Malatyaspor maçında başkan Mustafa Cengiz'in ibra edilmemesi üzerine tepkilerini pankartla dile getirdi.\\xa0\", 'Fatih Terim, Yeni Malatyaspor maçı öncesi milli maç arasının kendilerine iyi gelmediğini söyledi.\\xa0', \"Galatasaray teknik direktörü Fatih Terim, Ziraat Türkiye Kupası yarı finalinde Yeni Malatyaspor ile oynanacak maçın ilk 11'ini belirledi.\", \"Galatasaray - Yeni Malatyaspor Ziraat Türkiye Kupası maçı saat 20:00'da başlayacak. Galatasaray - Yeni Malatyaspor Ziraat Türkiye Kupası maçı öncesinde Türk Telekom Stadı'ndan canlı yayınla tüm gelişmeler FutbolArena'da.\\xa0\", \"Fernando 47 gün sonra sahaya çıkıyor. Galatasaray teknik direktörü Fatih Terim, Yeni Malatyaspor maçında Fernando'yu ilk 11'e alacak.\"]\n",
            "Kısıtlama : 6\n",
            "Hata\n",
            "Baslik : 6\n",
            "Ozet : 6\n",
            "Linkler : 6\n",
            "https://www.futbolarena.com/turkiye-kupasi/56/\n",
            "Sıra : 56 / https://www.futbolarena.com/turkiye-kupasi/56/\n",
            "Baslik : 6\n",
            "Ozet : 6\n",
            "Linkler : 6\n",
            "[\"Türkiye Kupası'nda bu akşam Galatasaray ile Yeni Malatyaspor arasında Yarı Final müsabakası heyecanı yaşanacak.\\xa0Bu mücadele öncesinde Türkiye Kupası'nın geçmişini sizler için derledik.\", \"Galatasaray - Yeni Malatyaspor maçı öncesi Younes Belhanda gıda zehirlenmesi yaşarken, Fernando Muslera'nın belinde ağrı olduğu açıklandı.\", 'Galatasaray ile Yeni Malatyaspor, Ziraat Türkiye Kupası yarı finali ilk maçında karşılaştı. Galatasaray ve Yeni Malatyaspor 0-0 berabere kaldı. Maçın özeti ve detayları haberimizde.', 'Ziraat Türkiye Kupası çeyrek final maçları tamamlandı. Kupanın yarı finalistleri Galatasaray, Yeni Malatyaspor, Ümraniyespor ve Akhisarspor oldu.\\xa0Galatasaray hangi takımla eşleşti? Ziraat Türkiye Kupası yarı final maçları ne zaman? Merak edilen detaylar haberimizde.', \"Kasımpaşa sahasında Akhisarspor'a 2-1 yenilerek elendi. Akhisarspor yarı finalde Ümraniyespor'un rakibi oldu. Kasımpaşa - Akhisarspor, Ziraat Türkiye Kupası maçının özeti, golleri ve detayları haberimizde.\", \"Evkur Yeni Malatyaspor’da Teknik Direktör Erol Bulut, Göztepe maçından sonra VAR'a isyan ederken, Galatasaray'a mesaj gönderdi.\"]\n",
            "Kısıtlama : 6\n",
            "Hata\n",
            "Baslik : 6\n",
            "Ozet : 6\n",
            "Linkler : 6\n",
            "https://www.futbolarena.com/turkiye-kupasi/57/\n",
            "Sıra : 57 / https://www.futbolarena.com/turkiye-kupasi/57/\n",
            "Baslik : 6\n",
            "Ozet : 6\n",
            "Linkler : 6\n",
            "[\"Göztepe - Yeni Malatyaspor mücadelesi ev sahibi Göztepe'nin 1-0'lık üstünlüğü ile tamamlandı ve mücadele uzatmalara gitti. Uzatmalarda da gol sesi çıkmayınca mücadelenin galibini seri penaltı atışları belirledi.\", \"Galatasaray maçında alkış toplayan Hataysporlu Caner Hüseyin Bağ, maç sonu FutbolArena muhabiri Ertan Süzgün'e konuştu.\", 'Hatayspor Teknik Direktörü İlhan Palut, \"Gerçekten Galatasaray gibi bir takıma karşı turun bitti denildiği anda kısa sürede 4 gol birden atmayı başardık. Bunu sadece söylemesi kolay, gerisi kolay değil.\" dedi.', \"Ümraniyespor Türkiye Kupası'nda 16 yıl aradan sonra adını yarı finale yazdıran ilk 2. lig takımı oldu.\\xa02. ligde oynarken Türkiye Kupası'nda yarı finale yükselen takımları sizler için derledik.\", 'Ümraniyespor - Trabzonspor maç özeti.\\xa0Ümraniyespor - Trabzonspor maç özeti Aspor,\\xa0Ümraniyespor - Trabzonspor maçı golleri izlemek için haberimize göz atabilirsiniz.', \"Ümraniyespor ile Trabzonspor arasında oynanan Türkiye Kupası rövanş maçına hakem Alper Ulusoy'un VAR kararları damga vurdu.\"]\n",
            "Kısıtlama : 6\n",
            "Hata\n",
            "Baslik : 6\n",
            "Ozet : 6\n",
            "Linkler : 6\n",
            "https://www.futbolarena.com/turkiye-kupasi/58/\n",
            "Sıra : 58 / https://www.futbolarena.com/turkiye-kupasi/58/\n",
            "Baslik : 6\n",
            "Ozet : 6\n",
            "Linkler : 6\n",
            "['Kasımpaşa teknik direktör Mustafa Denizli, gol yollarındaki sıkıntılarının Mbaye Diagne’nin transferinden kaynaklanıp kaynaklanmadığı yönündeki soruya yanıt verdi.', \"Akhisarspor, Ziraat Türkiye Kupası Çeyrek Final maçında Kasımpaşa'yı 3-1'lik skor ile mağlup etti. Akhisarspor - Kasımpaşa maç özeti haberimizde.\", \"Hatayspor cephesi, Galatasaray maçının ardından 2-0'lık mağlubiyete rağmen rövanş öncesinde umutlu konuştular.\\xa0\", \"Galatasaray sahasında Hatayspor'u 2-0 yenerek Ziraat Türkiye Kupası'nda avantaj elde etti. Galatasaray Hatayspor maçının özeti, golleri ve detayları haberimizde.\", \"Galatasaray ile Hatayspor arasında oynanan Ziraat Türkiye Kupası maçında\\xa0Fernando ve Luyindama'nın VAR pozisyonları tartışmalara neden oldu.\", \"Galatasaray'ın yeni transferi Christian Luyindama sarı kırmızılı formayla ilk golünü Ziraat Türkiye Kupası'nda Hatayspor'a attı.\"]\n",
            "Kısıtlama : 6\n",
            "Hata\n",
            "Baslik : 6\n",
            "Ozet : 6\n",
            "Linkler : 6\n",
            "https://www.futbolarena.com/turkiye-kupasi/59/\n",
            "Sıra : 59 / https://www.futbolarena.com/turkiye-kupasi/59/\n",
            "Baslik : 6\n",
            "Ozet : 6\n",
            "Linkler : 6\n",
            "[\"Yeni Malatyaspor sahasında Göztepe'yi 1-0 yenerek Ziraat Türkiye Kupası'nda avantaj sağladı. Yeni Malatyaspor - Göztepe maçının özeti, golü ve merak edilenler detaylar bu haberde.\", \"Galatasaray'ın Hatayspor maçı öncesi ilk 11'i resmen açıklandı. Galatasaray teknik heyeti hem as hem de yedek oyuncuların yer aldığı bir kadro tercihinde bulundu.\", \"Galatasaray bu akşam Ziraat Türkiye Kupası'nda Hatayspor ile karşı karşıya gelecek. Galatasaray - Hatayspor maç öncesi son dakika gelişmeleri haberimizde.\", \"Trabzonspor sahasında Medical Park Stadyumu'nda ağırladığı Ümraniyespor ile 0-0 berabere kaldı.\\xa0\", \"Ziraat Türkiye Kupası'nda çeyrek final ve yarı final eşleşmeleri gerçekleşti. Galatasaray, Trabzonspor ve kura çekimine katılan diğer 6 kulübün rakipleri belli oldu. TFF'nin düzenlediği kura çekimi sonrası oluşan eşleşmeler haberimizde.\", \"Galatasaray - Boluspor maçında ilk 11'de sahaya çıkan Yunus Akgün, hat-trick sonrası gözyaşlarını tutamadı. Yunus Akgün'ün Galatasaray Boluspor maçında attığı goller ve genç futbolcunun duygusal açıklamaları haberimizde.\"]\n",
            "Kısıtlama : 6\n",
            "Hata\n",
            "Baslik : 6\n",
            "Ozet : 6\n",
            "Linkler : 6\n",
            "https://www.futbolarena.com/turkiye-kupasi/60/\n",
            "Sıra : 60 / https://www.futbolarena.com/turkiye-kupasi/60/\n",
            "Baslik : 6\n",
            "Ozet : 6\n",
            "Linkler : 6\n",
            "[\"Ziraat Türkiye Kupası'nda çeyrek finale yükselen takımlar belli oldu. Ziraat Türkiye Kupası çeyrek final ve yarı final kura çekiminin aynı anda yapılacağı organizasyon hakkında merak edilenler bu haberde.\", \"Galatasaray genç futbolcusu Yunus Akgün'ün hat-trick yaptığı maçta Boluspor'u 4-1 mağlup etti ve çeyrek finale yükseldi. Galatasaray - Boluspor, Ziraat Türkiye Kupası rövanş maçının özeti, golleri ve detayları haberimizde.\", \"Galatasaray - Boluspor maçında forvet transferini sabırsızlıkla bekleyen sarı kırmızılı taraftarlar Abdurrahim Albayrak'a tepki gösterdi.\", \"PFDK kararları açıklandı. PFDK yaptığı açıklama ile Ümraniyespor maçında kırmızı kart gören Martin Skrtel'in 3 maç ceza aldığını açıkladı.\", \"Galatasaray, Ziraat Türkiye Kupası Son 16 Turu maçında Boluspor ile bu akşam Türk Telekom Stadyumu'nda karşı karşıya gelecek.\", \"Ziraat Türkiye Kupası çeyrek ve yarı final kuraları için TFF'den açıklama geldi. Kupada 7 çeyrek finalist belli oldu. Peki\\xa0Ziraat Türkiye Kupası çeyrek ve yarı final kura çekimi ne zaman, saat kaçta? Detaylar bu haberde.\"]\n",
            "Kısıtlama : 6\n",
            "Hata\n",
            "Baslik : 6\n",
            "Ozet : 6\n",
            "Linkler : 6\n",
            "https://www.futbolarena.com/turkiye-kupasi/61/\n",
            "Sıra : 61 / https://www.futbolarena.com/turkiye-kupasi/61/\n",
            "Baslik : 6\n",
            "Ozet : 6\n",
            "Linkler : 6\n",
            "[\"Fenerbahçe, Ziraat Türkiye Kupası'nda Ümraniyespor'a ikili maçlar sonucunda elenerek kupaya veda etti. Spor yazarları Fenerbahçe - Ümraniyespor maçını yorumladı.\", \"Ümraniyespor Teknik Direktörü Ahmet Taşyürek, Fenerbahçe'yi eledikleri maçın ardından, “Bizim avantajımız bu tür maçlarda hoca olarak bir şey yapmanıza gerek kalmıyor, kendiliğinden motivasyon oluyor” dedi\", \"Fenerbahçe - Ümraniyespor maçının bitiş düdüğü ile büyük sevinç yaşayan Ümraniyespor ekibine Ülker Staydumu'nda ışık şoku yaşandı.\", \"Fenerbahçe Teknik Direktörü Ersun Yanal'ın Ümraniyespor maçı sonrasında basın toplantısı 1 dakika 10 saniye sürdü.\", \"Ersun Yanal, Fenerbahçe'nin Ümraniyespor'a elendiği maçın ardından basın toplantısında soru almadı ve yönetime transfer mesajı gönderdi.\", \"Fenerbahçe'ye Ziraat Türkiye Kupası'nda büyük şok. Fenerbahçe, Ümraniyespor 0-1 mağlup oldu ve Ziraat Türkiye Kupası'na veda etti.\"]\n",
            "Kısıtlama : 6\n",
            "Hata\n",
            "Baslik : 6\n",
            "Ozet : 6\n",
            "Linkler : 6\n",
            "https://www.futbolarena.com/turkiye-kupasi/62/\n",
            "Sıra : 62 / https://www.futbolarena.com/turkiye-kupasi/62/\n",
            "Baslik : 6\n",
            "Ozet : 6\n",
            "Linkler : 6\n",
            "[\"Ziraat Türkiye Kupası Son 16 Turu maçında Kasımpaşa normal süresi 0-0 eşitlikle tamamlanan mücadelede Alanyaspor'u 1-0 mağlup etti. Kasımpaşa - Alanyaspor maç özeti haberimizde.\", \"Fenerbahçe'nin Ziraat Türkiye Kupası'nda oynayacağı Ümraniyespor maçının ilk 11'i belli oldu.\", \"Türkiye Kupası'nda Hatayspor sahasında konuk ettiği Başakşehir'i 4-1 mağlup ederek çeyrek finale yükseldi. Hatayspor Başakşehir maçının golleri haberimizde.\", \"Ziraat Türkiye Kupası Son 16 Turu rövanş maçında Balıkesirspor Baltok, Trabzonspor'u konuk etti. Balıkesir Baltok - Trabzonspor maç özeti ve golleri haberimizde.\", \"Ziraat Türkiye Kupası Son 16 Turu maçında Göztepe, Antalyaspor'u farklı mağlup etti. Göztepe 3-0 Antalyaspor maç özeti ve golleri haberimizde.\", \"Boluspor deplasmanından 1-0 galip dönen Galatasaray, kupada tur avantajını elde etti. Boluspor - Galatasaray, Ziraat Türkiye Kupası maçının özeti, golü ve tüm detayları FutbolArena'da.\"]\n",
            "Kısıtlama : 6\n",
            "Hata\n",
            "Baslik : 6\n",
            "Ozet : 6\n",
            "Linkler : 6\n",
            "https://www.futbolarena.com/turkiye-kupasi/63/\n",
            "Sıra : 63 / https://www.futbolarena.com/turkiye-kupasi/63/\n",
            "Baslik : 6\n",
            "Ozet : 6\n",
            "Linkler : 6\n",
            "[\"Kayserispor deplasmanda Akhisarspor ile 0-0 berabere kalarak elendi. Akhisarspor - Kayserispor, Ziraat Türkiye Kupası maçının özeti, ilk 11'leri ve tüm detaylar haberimizde.\", \"Galatasaray teknik direktörü Fatih Terim, Boluspor maçında yedek ağırlıklı bir kadro sahaya sürerken, Younes Belhanda'yı da 11'e dahil etti.\", 'Fenerbahçe teknik direktörü Ersun Yanal, Ümraniyespor yenilgisinden sonra transfer açıklamalarında bulundu.', \"Fenerbahçe, Ziraat Türkiye Kupası Son 16 Turu maçında Ümraniyespor'a 1-0 mağlup oldu. Ümraniyespor - Fenerbahçe maç özeti ve gollü haberimizde.\", 'Fenerbahçe, Ümraniyesppor maçında Islam Slimani ve Nabil Dirar ile iki gol bulmasına karşılık goller maçın hakemi tarafından iptal edildi.', 'Aytemiz Alanyaspor, Ziraat Türkiye Kupası Son 16 Turu maçında Kasımpaşa ile karşı karşıya geldi.']\n",
            "Kısıtlama : 6\n",
            "Hata\n",
            "Baslik : 6\n",
            "Ozet : 6\n",
            "Linkler : 6\n",
            "https://www.futbolarena.com/turkiye-kupasi/64/\n",
            "Sıra : 64 / https://www.futbolarena.com/turkiye-kupasi/64/\n",
            "Baslik : 6\n",
            "Ozet : 6\n",
            "Linkler : 6\n",
            "[\"Volkan Demirel, Ümraniyespor - Fenerbahçe kupa maçı ile 5 ay sonra yeniden ilk 11'de forma giydi.\", \"Trabzonspor, Medical Park Stadyumu'nda Balıkesir Baltok ile Ziraat Türkiye Kupası'nda karşı karşıya geldi.\", \"Yeni Malatyaspor'dan muhteşem geri dönüş. Evkur Yeni Malatyaspor sahasında Bordumspor'u 3-2 mağlup etmeyi başardı.\", 'Boluspor - Galatasaray maçı ileri bir tarihe ertelendi. Boluspor Kulüp Başkanı Necip Çarıkcı, \"Federasyon doğru bir karar verdi\" dedi.\\xa0İleri bir tarihe ertelenen Boluspor-Galatasaray maçı sonrası sarı-kırmızılı kafile Bolu’dan ayrıldı.\\xa0', \"Boluspor - Galatasaray Ziraat Türkiye Kupası maçı ertelendi. Yoğun kar yağışından dolayı ertelenen Boluspor - Galatasaray maçıyla ilgili yetkililer son açıklamayı müsabakanın başlama saati olan 19:50'de yaptı.\\xa0\", 'Antalyaspor sahasında Göztepe ile 3-3 berabere kaldı. Antalyaspor - Göztepe, Ziraat Türkiye Kupası maçının özeti, golleri ve detayları haberimizde.']\n",
            "Kısıtlama : 6\n",
            "Hata\n",
            "Baslik : 6\n",
            "Ozet : 6\n",
            "Linkler : 6\n",
            "https://www.futbolarena.com/turkiye-kupasi/65/\n",
            "Sıra : 65 / https://www.futbolarena.com/turkiye-kupasi/65/\n",
            "Baslik : 6\n",
            "Ozet : 6\n",
            "Linkler : 6\n",
            "['Galatasaray kaleci antrenörü Taffarel, Boluspor - Galatasaray maçının ertelendiğini instagram hesabından duyurduktan sonra paylaşımını sildi.\\xa0', \"Kayserispor sahasında Akhisarspor'a 2-1 yenildi. Kayserispor - Akhisarspor, Ziraat Türkiye Kupası maçının özeti, golleri ve detayları haberimizde.\", \"Ziraat Türkiye Kupası'nda Boluspor - Galatasaray maçı oynanacak mı? Gün boyu devam eden yoğun kar yağışından dolayı Boluspor - Galatasaray maçının ertelenme ihtimali söz konusu. Boluspor - Galatasaray maçı öncesi son bilgileri derledik.\\xa0\", 'Boluspor - Galatasaray maçı ertelendi mi,\\xa0Boluspor - Galatasaray ertelenecek mi,\\xa0Boluspor - Galatasaray oynanacak mı,\\xa0Boluspor - Galatasaraykar yağışı nedeniyle maçın ertelenebileceği konuşuluyor.\\xa0Boluspor - Galatasaray maçı öncesi son durum ne?', \"Galatasaray Boluspor ile oynayacağı kupa maçının kadrosunu açıklarken, Fernando Muslera'nın kadroda olmaması dikkat çekti.\", 'Roberto Soldado, Giresunspor - Fenerbahçe maçının ardından Ersun Yanal ile ilgili konuştu.\\xa0']\n",
            "Kısıtlama : 6\n",
            "Hata\n",
            "Baslik : 6\n",
            "Ozet : 6\n",
            "Linkler : 6\n",
            "https://www.futbolarena.com/turkiye-kupasi/66/\n",
            "Sıra : 66 / https://www.futbolarena.com/turkiye-kupasi/66/\n",
            "Baslik : 6\n",
            "Ozet : 6\n",
            "Linkler : 6\n",
            "[\"Fenerbahçe, Ziraat Türkiye Kupası'nda deplasmanda Giresunspor'u 5-2 mağlup etti. Ersun Yanal maçın ardından açıklamalarda bulundu.\\xa0\", 'Fenerbahçe, Giresunspor deplasmanında 5-2 kazanarak Ersun Yanal yönetiminde ilk galibiyetini aldı.\\xa0', 'Emre Bol, Giresunspor - Fenerbahçe maçını yorumladı.\\xa0', \"Ziraat Türkiye Kupası'nda 5. Tur maçları tamamlandı ve 16 takım turu geçti. Karşılaşmaların tamamlanmasının ardından kura çekimi tarihi merak konusu oldu. Peki\\xa0Ziraat Türkiye Kupası kura çekimi ne zaman, saat kaçta, hangi kanalda? Detaylar haberimizde.\", \"Fenerbahçe deplasmanda Giresunspor'u 5-2 yenerek Ziraat Türkiye Kupası'nda tur atladı. Giresunspor - Fenerbahçe, Ziraat Türkiye Kupası rövanş maçı özeti, golleri ve detayları haberimizde.\", \"Giresunspor - Fenerbahçe maçının ilk 15 dakikasında Fenerbahçeli futbolcular, Giresunspor'un golünde ofsayt itrirazında bulunurken, Soldado'nun golünden önce ise penaltı beklenen pozisyonda İspanyol futbolcu büyük tepki gösterdi.\\xa0\"]\n",
            "Kısıtlama : 6\n",
            "Hata\n",
            "Baslik : 6\n",
            "Ozet : 6\n",
            "Linkler : 6\n"
          ]
        }
      ]
    },
    {
      "cell_type": "code",
      "source": [
        "haberler_DataFrame"
      ],
      "metadata": {
        "colab": {
          "base_uri": "https://localhost:8080/",
          "height": 6918
        },
        "id": "SZCVf2GsH7Qg",
        "outputId": "4a3ed6a6-255d-4fe0-8d9d-4948a27e3c75"
      },
      "execution_count": null,
      "outputs": [
        {
          "output_type": "execute_result",
          "data": {
            "text/plain": [
              "                                                 Baslik  \\\n",
              "0     \"Trabzonspor'un cezası CAS'tan dönebilir\" Emin...   \n",
              "1     Cenk Tosun FutbolArena'ya konuştu: 'Beşiktaş v...   \n",
              "2     Acun Ilıcalı mı satın alıyor? Başkan FutbolAre...   \n",
              "3     Galatasaray Caner Erkin için beklemede! Kritik...   \n",
              "4     Kayserispor cephesi: \"Bu ortamda ligler nasıl ...   \n",
              "...                                                 ...   \n",
              "4141  Trabzonspor 2-0 Ankaragücü maç özeti ve goller...   \n",
              "4142            Valerien Ismael'den Beşiktaş açıklaması   \n",
              "4143  İrfan Buz'dan Fenerbahçe maçı sözleri: \"Müthiş...   \n",
              "4144  İrfan Can'dan tepki! \"Nedir bu Fenerbahçe düşm...   \n",
              "4145                        Jorge Jesus: \"İyi değildik\"   \n",
              "\n",
              "                                                   Ozet      Kategori  \\\n",
              "0     Spor Hukukçusu Avukat Emin Özkurt, Trabzonspor...    Ozel Haber   \n",
              "1     Cenk Tosun Premier Lig'de Türkiye'nin en öneml...    Ozel Haber   \n",
              "2     Fortuna Sittard Başkanı Işıtan Gün, Acun Ilıca...    Ozel Haber   \n",
              "3     Galatasaray, Caner Erkin için beklemede. Beşik...    Ozel Haber   \n",
              "4     Kayserispor yönetimi liglerin yeniden oynanma ...    Ozel Haber   \n",
              "...                                                 ...           ...   \n",
              "4141  Trabzonspor, Spor Toto Süper Lig'in 33. haftas...  Türk Futbolu   \n",
              "4142  Valerien Ismael, Beşiktaş'ta günleriyle ilgili...  Türk Futbolu   \n",
              "4143  Giresunspor teknik direktörü İrfan Buz, Fenerb...  Türk Futbolu   \n",
              "4144  Fenerbahçeli futbolculardan İrfan Can Eğribaya...  Türk Futbolu   \n",
              "4145  Fenerbahçe Teknik Direktörü Jorge Jesus, Gires...  Türk Futbolu   \n",
              "\n",
              "                                                   Link  Icerik  \n",
              "0     https://www.futbolarena.com/trabzonspor/trabzo...     NaN  \n",
              "1     https://www.futbolarena.com/besiktas/cenk-tosu...     NaN  \n",
              "2     https://www.futbolarena.com/acun-ilicali-mi-sa...     NaN  \n",
              "3     https://www.futbolarena.com/besiktas/galatasar...     NaN  \n",
              "4     https://www.futbolarena.com/kayserispor/kayser...     NaN  \n",
              "...                                                 ...     ...  \n",
              "4141  https://www.futbolarena.com/trabzonspor/trabzo...     NaN  \n",
              "4142  https://www.futbolarena.com/besiktas/valerien-...     NaN  \n",
              "4143  https://www.futbolarena.com/fenerbahce/irfan-b...     NaN  \n",
              "4144  https://www.futbolarena.com/fenerbahce/irfan-c...     NaN  \n",
              "4145  https://www.futbolarena.com/fenerbahce/jorge-j...     NaN  \n",
              "\n",
              "[4146 rows x 5 columns]"
            ],
            "text/html": [
              "\n",
              "  <div id=\"df-2af81761-cbd8-447b-b89c-e1d48cbebaea\" class=\"colab-df-container\">\n",
              "    <div>\n",
              "<style scoped>\n",
              "    .dataframe tbody tr th:only-of-type {\n",
              "        vertical-align: middle;\n",
              "    }\n",
              "\n",
              "    .dataframe tbody tr th {\n",
              "        vertical-align: top;\n",
              "    }\n",
              "\n",
              "    .dataframe thead th {\n",
              "        text-align: right;\n",
              "    }\n",
              "</style>\n",
              "<table border=\"1\" class=\"dataframe\">\n",
              "  <thead>\n",
              "    <tr style=\"text-align: right;\">\n",
              "      <th></th>\n",
              "      <th>Baslik</th>\n",
              "      <th>Ozet</th>\n",
              "      <th>Kategori</th>\n",
              "      <th>Link</th>\n",
              "      <th>Icerik</th>\n",
              "    </tr>\n",
              "  </thead>\n",
              "  <tbody>\n",
              "    <tr>\n",
              "      <th>0</th>\n",
              "      <td>\"Trabzonspor'un cezası CAS'tan dönebilir\" Emin...</td>\n",
              "      <td>Spor Hukukçusu Avukat Emin Özkurt, Trabzonspor...</td>\n",
              "      <td>Ozel Haber</td>\n",
              "      <td>https://www.futbolarena.com/trabzonspor/trabzo...</td>\n",
              "      <td>NaN</td>\n",
              "    </tr>\n",
              "    <tr>\n",
              "      <th>1</th>\n",
              "      <td>Cenk Tosun FutbolArena'ya konuştu: 'Beşiktaş v...</td>\n",
              "      <td>Cenk Tosun Premier Lig'de Türkiye'nin en öneml...</td>\n",
              "      <td>Ozel Haber</td>\n",
              "      <td>https://www.futbolarena.com/besiktas/cenk-tosu...</td>\n",
              "      <td>NaN</td>\n",
              "    </tr>\n",
              "    <tr>\n",
              "      <th>2</th>\n",
              "      <td>Acun Ilıcalı mı satın alıyor? Başkan FutbolAre...</td>\n",
              "      <td>Fortuna Sittard Başkanı Işıtan Gün, Acun Ilıca...</td>\n",
              "      <td>Ozel Haber</td>\n",
              "      <td>https://www.futbolarena.com/acun-ilicali-mi-sa...</td>\n",
              "      <td>NaN</td>\n",
              "    </tr>\n",
              "    <tr>\n",
              "      <th>3</th>\n",
              "      <td>Galatasaray Caner Erkin için beklemede! Kritik...</td>\n",
              "      <td>Galatasaray, Caner Erkin için beklemede. Beşik...</td>\n",
              "      <td>Ozel Haber</td>\n",
              "      <td>https://www.futbolarena.com/besiktas/galatasar...</td>\n",
              "      <td>NaN</td>\n",
              "    </tr>\n",
              "    <tr>\n",
              "      <th>4</th>\n",
              "      <td>Kayserispor cephesi: \"Bu ortamda ligler nasıl ...</td>\n",
              "      <td>Kayserispor yönetimi liglerin yeniden oynanma ...</td>\n",
              "      <td>Ozel Haber</td>\n",
              "      <td>https://www.futbolarena.com/kayserispor/kayser...</td>\n",
              "      <td>NaN</td>\n",
              "    </tr>\n",
              "    <tr>\n",
              "      <th>...</th>\n",
              "      <td>...</td>\n",
              "      <td>...</td>\n",
              "      <td>...</td>\n",
              "      <td>...</td>\n",
              "      <td>...</td>\n",
              "    </tr>\n",
              "    <tr>\n",
              "      <th>4141</th>\n",
              "      <td>Trabzonspor 2-0 Ankaragücü maç özeti ve goller...</td>\n",
              "      <td>Trabzonspor, Spor Toto Süper Lig'in 33. haftas...</td>\n",
              "      <td>Türk Futbolu</td>\n",
              "      <td>https://www.futbolarena.com/trabzonspor/trabzo...</td>\n",
              "      <td>NaN</td>\n",
              "    </tr>\n",
              "    <tr>\n",
              "      <th>4142</th>\n",
              "      <td>Valerien Ismael'den Beşiktaş açıklaması</td>\n",
              "      <td>Valerien Ismael, Beşiktaş'ta günleriyle ilgili...</td>\n",
              "      <td>Türk Futbolu</td>\n",
              "      <td>https://www.futbolarena.com/besiktas/valerien-...</td>\n",
              "      <td>NaN</td>\n",
              "    </tr>\n",
              "    <tr>\n",
              "      <th>4143</th>\n",
              "      <td>İrfan Buz'dan Fenerbahçe maçı sözleri: \"Müthiş...</td>\n",
              "      <td>Giresunspor teknik direktörü İrfan Buz, Fenerb...</td>\n",
              "      <td>Türk Futbolu</td>\n",
              "      <td>https://www.futbolarena.com/fenerbahce/irfan-b...</td>\n",
              "      <td>NaN</td>\n",
              "    </tr>\n",
              "    <tr>\n",
              "      <th>4144</th>\n",
              "      <td>İrfan Can'dan tepki! \"Nedir bu Fenerbahçe düşm...</td>\n",
              "      <td>Fenerbahçeli futbolculardan İrfan Can Eğribaya...</td>\n",
              "      <td>Türk Futbolu</td>\n",
              "      <td>https://www.futbolarena.com/fenerbahce/irfan-c...</td>\n",
              "      <td>NaN</td>\n",
              "    </tr>\n",
              "    <tr>\n",
              "      <th>4145</th>\n",
              "      <td>Jorge Jesus: \"İyi değildik\"</td>\n",
              "      <td>Fenerbahçe Teknik Direktörü Jorge Jesus, Gires...</td>\n",
              "      <td>Türk Futbolu</td>\n",
              "      <td>https://www.futbolarena.com/fenerbahce/jorge-j...</td>\n",
              "      <td>NaN</td>\n",
              "    </tr>\n",
              "  </tbody>\n",
              "</table>\n",
              "<p>4146 rows × 5 columns</p>\n",
              "</div>\n",
              "    <div class=\"colab-df-buttons\">\n",
              "\n",
              "  <div class=\"colab-df-container\">\n",
              "    <button class=\"colab-df-convert\" onclick=\"convertToInteractive('df-2af81761-cbd8-447b-b89c-e1d48cbebaea')\"\n",
              "            title=\"Convert this dataframe to an interactive table.\"\n",
              "            style=\"display:none;\">\n",
              "\n",
              "  <svg xmlns=\"http://www.w3.org/2000/svg\" height=\"24px\" viewBox=\"0 -960 960 960\">\n",
              "    <path d=\"M120-120v-720h720v720H120Zm60-500h600v-160H180v160Zm220 220h160v-160H400v160Zm0 220h160v-160H400v160ZM180-400h160v-160H180v160Zm440 0h160v-160H620v160ZM180-180h160v-160H180v160Zm440 0h160v-160H620v160Z\"/>\n",
              "  </svg>\n",
              "    </button>\n",
              "\n",
              "  <style>\n",
              "    .colab-df-container {\n",
              "      display:flex;\n",
              "      gap: 12px;\n",
              "    }\n",
              "\n",
              "    .colab-df-convert {\n",
              "      background-color: #E8F0FE;\n",
              "      border: none;\n",
              "      border-radius: 50%;\n",
              "      cursor: pointer;\n",
              "      display: none;\n",
              "      fill: #1967D2;\n",
              "      height: 32px;\n",
              "      padding: 0 0 0 0;\n",
              "      width: 32px;\n",
              "    }\n",
              "\n",
              "    .colab-df-convert:hover {\n",
              "      background-color: #E2EBFA;\n",
              "      box-shadow: 0px 1px 2px rgba(60, 64, 67, 0.3), 0px 1px 3px 1px rgba(60, 64, 67, 0.15);\n",
              "      fill: #174EA6;\n",
              "    }\n",
              "\n",
              "    .colab-df-buttons div {\n",
              "      margin-bottom: 4px;\n",
              "    }\n",
              "\n",
              "    [theme=dark] .colab-df-convert {\n",
              "      background-color: #3B4455;\n",
              "      fill: #D2E3FC;\n",
              "    }\n",
              "\n",
              "    [theme=dark] .colab-df-convert:hover {\n",
              "      background-color: #434B5C;\n",
              "      box-shadow: 0px 1px 3px 1px rgba(0, 0, 0, 0.15);\n",
              "      filter: drop-shadow(0px 1px 2px rgba(0, 0, 0, 0.3));\n",
              "      fill: #FFFFFF;\n",
              "    }\n",
              "  </style>\n",
              "\n",
              "    <script>\n",
              "      const buttonEl =\n",
              "        document.querySelector('#df-2af81761-cbd8-447b-b89c-e1d48cbebaea button.colab-df-convert');\n",
              "      buttonEl.style.display =\n",
              "        google.colab.kernel.accessAllowed ? 'block' : 'none';\n",
              "\n",
              "      async function convertToInteractive(key) {\n",
              "        const element = document.querySelector('#df-2af81761-cbd8-447b-b89c-e1d48cbebaea');\n",
              "        const dataTable =\n",
              "          await google.colab.kernel.invokeFunction('convertToInteractive',\n",
              "                                                    [key], {});\n",
              "        if (!dataTable) return;\n",
              "\n",
              "        const docLinkHtml = 'Like what you see? Visit the ' +\n",
              "          '<a target=\"_blank\" href=https://colab.research.google.com/notebooks/data_table.ipynb>data table notebook</a>'\n",
              "          + ' to learn more about interactive tables.';\n",
              "        element.innerHTML = '';\n",
              "        dataTable['output_type'] = 'display_data';\n",
              "        await google.colab.output.renderOutput(dataTable, element);\n",
              "        const docLink = document.createElement('div');\n",
              "        docLink.innerHTML = docLinkHtml;\n",
              "        element.appendChild(docLink);\n",
              "      }\n",
              "    </script>\n",
              "  </div>\n",
              "\n",
              "\n",
              "<div id=\"df-fb668f47-2d35-4828-9867-e3cfccccf461\">\n",
              "  <button class=\"colab-df-quickchart\" onclick=\"quickchart('df-fb668f47-2d35-4828-9867-e3cfccccf461')\"\n",
              "            title=\"Suggest charts\"\n",
              "            style=\"display:none;\">\n",
              "\n",
              "<svg xmlns=\"http://www.w3.org/2000/svg\" height=\"24px\"viewBox=\"0 0 24 24\"\n",
              "     width=\"24px\">\n",
              "    <g>\n",
              "        <path d=\"M19 3H5c-1.1 0-2 .9-2 2v14c0 1.1.9 2 2 2h14c1.1 0 2-.9 2-2V5c0-1.1-.9-2-2-2zM9 17H7v-7h2v7zm4 0h-2V7h2v10zm4 0h-2v-4h2v4z\"/>\n",
              "    </g>\n",
              "</svg>\n",
              "  </button>\n",
              "\n",
              "<style>\n",
              "  .colab-df-quickchart {\n",
              "      --bg-color: #E8F0FE;\n",
              "      --fill-color: #1967D2;\n",
              "      --hover-bg-color: #E2EBFA;\n",
              "      --hover-fill-color: #174EA6;\n",
              "      --disabled-fill-color: #AAA;\n",
              "      --disabled-bg-color: #DDD;\n",
              "  }\n",
              "\n",
              "  [theme=dark] .colab-df-quickchart {\n",
              "      --bg-color: #3B4455;\n",
              "      --fill-color: #D2E3FC;\n",
              "      --hover-bg-color: #434B5C;\n",
              "      --hover-fill-color: #FFFFFF;\n",
              "      --disabled-bg-color: #3B4455;\n",
              "      --disabled-fill-color: #666;\n",
              "  }\n",
              "\n",
              "  .colab-df-quickchart {\n",
              "    background-color: var(--bg-color);\n",
              "    border: none;\n",
              "    border-radius: 50%;\n",
              "    cursor: pointer;\n",
              "    display: none;\n",
              "    fill: var(--fill-color);\n",
              "    height: 32px;\n",
              "    padding: 0;\n",
              "    width: 32px;\n",
              "  }\n",
              "\n",
              "  .colab-df-quickchart:hover {\n",
              "    background-color: var(--hover-bg-color);\n",
              "    box-shadow: 0 1px 2px rgba(60, 64, 67, 0.3), 0 1px 3px 1px rgba(60, 64, 67, 0.15);\n",
              "    fill: var(--button-hover-fill-color);\n",
              "  }\n",
              "\n",
              "  .colab-df-quickchart-complete:disabled,\n",
              "  .colab-df-quickchart-complete:disabled:hover {\n",
              "    background-color: var(--disabled-bg-color);\n",
              "    fill: var(--disabled-fill-color);\n",
              "    box-shadow: none;\n",
              "  }\n",
              "\n",
              "  .colab-df-spinner {\n",
              "    border: 2px solid var(--fill-color);\n",
              "    border-color: transparent;\n",
              "    border-bottom-color: var(--fill-color);\n",
              "    animation:\n",
              "      spin 1s steps(1) infinite;\n",
              "  }\n",
              "\n",
              "  @keyframes spin {\n",
              "    0% {\n",
              "      border-color: transparent;\n",
              "      border-bottom-color: var(--fill-color);\n",
              "      border-left-color: var(--fill-color);\n",
              "    }\n",
              "    20% {\n",
              "      border-color: transparent;\n",
              "      border-left-color: var(--fill-color);\n",
              "      border-top-color: var(--fill-color);\n",
              "    }\n",
              "    30% {\n",
              "      border-color: transparent;\n",
              "      border-left-color: var(--fill-color);\n",
              "      border-top-color: var(--fill-color);\n",
              "      border-right-color: var(--fill-color);\n",
              "    }\n",
              "    40% {\n",
              "      border-color: transparent;\n",
              "      border-right-color: var(--fill-color);\n",
              "      border-top-color: var(--fill-color);\n",
              "    }\n",
              "    60% {\n",
              "      border-color: transparent;\n",
              "      border-right-color: var(--fill-color);\n",
              "    }\n",
              "    80% {\n",
              "      border-color: transparent;\n",
              "      border-right-color: var(--fill-color);\n",
              "      border-bottom-color: var(--fill-color);\n",
              "    }\n",
              "    90% {\n",
              "      border-color: transparent;\n",
              "      border-bottom-color: var(--fill-color);\n",
              "    }\n",
              "  }\n",
              "</style>\n",
              "\n",
              "  <script>\n",
              "    async function quickchart(key) {\n",
              "      const quickchartButtonEl =\n",
              "        document.querySelector('#' + key + ' button');\n",
              "      quickchartButtonEl.disabled = true;  // To prevent multiple clicks.\n",
              "      quickchartButtonEl.classList.add('colab-df-spinner');\n",
              "      try {\n",
              "        const charts = await google.colab.kernel.invokeFunction(\n",
              "            'suggestCharts', [key], {});\n",
              "      } catch (error) {\n",
              "        console.error('Error during call to suggestCharts:', error);\n",
              "      }\n",
              "      quickchartButtonEl.classList.remove('colab-df-spinner');\n",
              "      quickchartButtonEl.classList.add('colab-df-quickchart-complete');\n",
              "    }\n",
              "    (() => {\n",
              "      let quickchartButtonEl =\n",
              "        document.querySelector('#df-fb668f47-2d35-4828-9867-e3cfccccf461 button');\n",
              "      quickchartButtonEl.style.display =\n",
              "        google.colab.kernel.accessAllowed ? 'block' : 'none';\n",
              "    })();\n",
              "  </script>\n",
              "</div>\n",
              "\n",
              "  <div id=\"id_4ff03c0e-9c67-4377-bf5c-94bf477a6cf9\">\n",
              "    <style>\n",
              "      .colab-df-generate {\n",
              "        background-color: #E8F0FE;\n",
              "        border: none;\n",
              "        border-radius: 50%;\n",
              "        cursor: pointer;\n",
              "        display: none;\n",
              "        fill: #1967D2;\n",
              "        height: 32px;\n",
              "        padding: 0 0 0 0;\n",
              "        width: 32px;\n",
              "      }\n",
              "\n",
              "      .colab-df-generate:hover {\n",
              "        background-color: #E2EBFA;\n",
              "        box-shadow: 0px 1px 2px rgba(60, 64, 67, 0.3), 0px 1px 3px 1px rgba(60, 64, 67, 0.15);\n",
              "        fill: #174EA6;\n",
              "      }\n",
              "\n",
              "      [theme=dark] .colab-df-generate {\n",
              "        background-color: #3B4455;\n",
              "        fill: #D2E3FC;\n",
              "      }\n",
              "\n",
              "      [theme=dark] .colab-df-generate:hover {\n",
              "        background-color: #434B5C;\n",
              "        box-shadow: 0px 1px 3px 1px rgba(0, 0, 0, 0.15);\n",
              "        filter: drop-shadow(0px 1px 2px rgba(0, 0, 0, 0.3));\n",
              "        fill: #FFFFFF;\n",
              "      }\n",
              "    </style>\n",
              "    <button class=\"colab-df-generate\" onclick=\"generateWithVariable('haberler_DataFrame')\"\n",
              "            title=\"Generate code using this dataframe.\"\n",
              "            style=\"display:none;\">\n",
              "\n",
              "  <svg xmlns=\"http://www.w3.org/2000/svg\" height=\"24px\"viewBox=\"0 0 24 24\"\n",
              "       width=\"24px\">\n",
              "    <path d=\"M7,19H8.4L18.45,9,17,7.55,7,17.6ZM5,21V16.75L18.45,3.32a2,2,0,0,1,2.83,0l1.4,1.43a1.91,1.91,0,0,1,.58,1.4,1.91,1.91,0,0,1-.58,1.4L9.25,21ZM18.45,9,17,7.55Zm-12,3A5.31,5.31,0,0,0,4.9,8.1,5.31,5.31,0,0,0,1,6.5,5.31,5.31,0,0,0,4.9,4.9,5.31,5.31,0,0,0,6.5,1,5.31,5.31,0,0,0,8.1,4.9,5.31,5.31,0,0,0,12,6.5,5.46,5.46,0,0,0,6.5,12Z\"/>\n",
              "  </svg>\n",
              "    </button>\n",
              "    <script>\n",
              "      (() => {\n",
              "      const buttonEl =\n",
              "        document.querySelector('#id_4ff03c0e-9c67-4377-bf5c-94bf477a6cf9 button.colab-df-generate');\n",
              "      buttonEl.style.display =\n",
              "        google.colab.kernel.accessAllowed ? 'block' : 'none';\n",
              "\n",
              "      buttonEl.onclick = () => {\n",
              "        google.colab.notebook.generateWithVariable('haberler_DataFrame');\n",
              "      }\n",
              "      })();\n",
              "    </script>\n",
              "  </div>\n",
              "\n",
              "    </div>\n",
              "  </div>\n"
            ],
            "application/vnd.google.colaboratory.intrinsic+json": {
              "type": "dataframe",
              "variable_name": "haberler_DataFrame",
              "summary": "{\n  \"name\": \"haberler_DataFrame\",\n  \"rows\": 4146,\n  \"fields\": [\n    {\n      \"column\": \"Baslik\",\n      \"properties\": {\n        \"dtype\": \"string\",\n        \"num_unique_values\": 4012,\n        \"samples\": [\n          \"Galatasaray'da s\\u00fcrpriz transfer g\\u00fcndemi\",\n          \"Lider Galatasaray, \\u0130stanbulspor'u 2 golle yendi (\\u0130ZLE)\",\n          \"Galatasaray'da teknik heyet ve personele m\\u00fcjde\"\n        ],\n        \"semantic_type\": \"\",\n        \"description\": \"\"\n      }\n    },\n    {\n      \"column\": \"Ozet\",\n      \"properties\": {\n        \"dtype\": \"string\",\n        \"num_unique_values\": 4020,\n        \"samples\": [\n          \"\\u0130talyan bas\\u0131n\\u0131, Edin Dzeko'yu transfer etmek isteyen kul\\u00fcpleri yazd\\u0131. Be\\u015fikta\\u015f'\\u0131n bu transferde di\\u015fli rakipleri bulunuyor.\",\n          \"G\\u00f6ztepe deplasman\\u0131ndan 1 puan almas\\u0131 halinde \\u015fampiyon olacak olan Galatasaray'da y\\u00f6netim 5 ayr\\u0131 ti\\u015f\\u00f6rt\\u00fc sat\\u0131\\u015fa \\u00e7\\u0131karacak.\",\n          \"Benfica Ba\\u015fkan\\u0131 Rui Costa, A Spor'a Gedson Fernandes transferiyle ilgili konu\\u015ftu ve oyuncu i\\u00e7in kimseden ayr\\u0131lmayacaklar\\u0131n\\u0131,\\u00a0\"\n        ],\n        \"semantic_type\": \"\",\n        \"description\": \"\"\n      }\n    },\n    {\n      \"column\": \"Kategori\",\n      \"properties\": {\n        \"dtype\": \"category\",\n        \"num_unique_values\": 3,\n        \"samples\": [\n          \"Ozel Haber\",\n          \"Transfer Haberleri\",\n          \"T\\u00fcrk Futbolu\"\n        ],\n        \"semantic_type\": \"\",\n        \"description\": \"\"\n      }\n    },\n    {\n      \"column\": \"Link\",\n      \"properties\": {\n        \"dtype\": \"string\",\n        \"num_unique_values\": 4022,\n        \"samples\": [\n          \"https://www.futbolarena.com/besiktas/wout-weghorstdan-besiktas-yaniti-henuz-anlasma-yok-391001h/\",\n          \"https://www.futbolarena.com/galatasaray/gs-haberi-galatasarayda-sampiyonluk-icin-5-ayri-tisort-349748h/\",\n          \"https://www.futbolarena.com/galatasaray/rui-costadan-aciklama-gedson-icin-anlasmadik-388277h/\"\n        ],\n        \"semantic_type\": \"\",\n        \"description\": \"\"\n      }\n    },\n    {\n      \"column\": \"Icerik\",\n      \"properties\": {\n        \"dtype\": \"number\",\n        \"std\": null,\n        \"min\": null,\n        \"max\": null,\n        \"num_unique_values\": 0,\n        \"samples\": [],\n        \"semantic_type\": \"\",\n        \"description\": \"\"\n      }\n    }\n  ]\n}"
            }
          },
          "metadata": {},
          "execution_count": 14
        }
      ]
    },
    {
      "cell_type": "code",
      "source": [
        "import pandas as pd\n",
        "\n",
        "dosya_kaydet = \"/content/drive/MyDrive/Veri-Kazima/28_4_2024+11-28-9_UCUNCU_futbolarena_.csv\"\n",
        "\n",
        "data = pd.read_csv(dosya_kaydet)\n",
        "data = pd.DataFrame(data)"
      ],
      "metadata": {
        "id": "nn1AK3zDIE4A"
      },
      "execution_count": null,
      "outputs": []
    },
    {
      "cell_type": "code",
      "source": [
        "#yeni dosya oluştur\n",
        "data_csv = pd.read_csv(dosya_kaydet)\n",
        "data_csv = pd.DataFrame(data_csv)\n",
        "for i in range(len(data_csv)):\n",
        "  print(\"Sıra : \" + str(i) + \"/\" + str(len(data_csv)))\n",
        "  data = pd.read_csv(dosya_kaydet)\n",
        "  data = pd.DataFrame(data)\n",
        "  try:\n",
        "    data[\"Icerik\"][i]=site_veri_getir(str(data_csv[\"Link\"][i]))\n",
        "  except:\n",
        "    data[\"Icerik\"][i]=\"Veri Yok\"\n",
        "\n",
        "  try:\n",
        "    data.drop(\"Unnamed: 0.\"+str(i),axis=1,inplace=True)\n",
        "  except:\n",
        "    pass\n",
        "    print(\"Hata\")\n",
        "  data.drop(\"Unnamed: 0\",axis=1,inplace=True)\n",
        "  data.to_csv(dosya_kaydet)"
      ],
      "metadata": {
        "id": "l41fu7L6IHBS",
        "colab": {
          "base_uri": "https://localhost:8080/"
        },
        "outputId": "e4b4b9fa-9817-4caa-aae9-76ffa3f763f8"
      },
      "execution_count": null,
      "outputs": [
        {
          "output_type": "stream",
          "name": "stderr",
          "text": [
            "<ipython-input-10-06dd2b37a1f1>:9: SettingWithCopyWarning: \n",
            "A value is trying to be set on a copy of a slice from a DataFrame\n",
            "\n",
            "See the caveats in the documentation: https://pandas.pydata.org/pandas-docs/stable/user_guide/indexing.html#returning-a-view-versus-a-copy\n",
            "  data[\"Icerik\"][i]=site_veri_getir(str(data_csv[\"Link\"][i]))\n"
          ]
        },
        {
          "output_type": "stream",
          "name": "stdout",
          "text": [
            "Hata\n",
            "Sıra : 2729/3042\n"
          ]
        },
        {
          "output_type": "stream",
          "name": "stderr",
          "text": [
            "<ipython-input-10-06dd2b37a1f1>:9: SettingWithCopyWarning: \n",
            "A value is trying to be set on a copy of a slice from a DataFrame\n",
            "\n",
            "See the caveats in the documentation: https://pandas.pydata.org/pandas-docs/stable/user_guide/indexing.html#returning-a-view-versus-a-copy\n",
            "  data[\"Icerik\"][i]=site_veri_getir(str(data_csv[\"Link\"][i]))\n"
          ]
        },
        {
          "output_type": "stream",
          "name": "stdout",
          "text": [
            "Hata\n",
            "Sıra : 2730/3042\n"
          ]
        },
        {
          "output_type": "stream",
          "name": "stderr",
          "text": [
            "<ipython-input-10-06dd2b37a1f1>:9: SettingWithCopyWarning: \n",
            "A value is trying to be set on a copy of a slice from a DataFrame\n",
            "\n",
            "See the caveats in the documentation: https://pandas.pydata.org/pandas-docs/stable/user_guide/indexing.html#returning-a-view-versus-a-copy\n",
            "  data[\"Icerik\"][i]=site_veri_getir(str(data_csv[\"Link\"][i]))\n"
          ]
        },
        {
          "output_type": "stream",
          "name": "stdout",
          "text": [
            "Hata\n",
            "Sıra : 2731/3042\n"
          ]
        },
        {
          "output_type": "stream",
          "name": "stderr",
          "text": [
            "<ipython-input-10-06dd2b37a1f1>:9: SettingWithCopyWarning: \n",
            "A value is trying to be set on a copy of a slice from a DataFrame\n",
            "\n",
            "See the caveats in the documentation: https://pandas.pydata.org/pandas-docs/stable/user_guide/indexing.html#returning-a-view-versus-a-copy\n",
            "  data[\"Icerik\"][i]=site_veri_getir(str(data_csv[\"Link\"][i]))\n"
          ]
        },
        {
          "output_type": "stream",
          "name": "stdout",
          "text": [
            "Hata\n",
            "Sıra : 2732/3042\n"
          ]
        },
        {
          "output_type": "stream",
          "name": "stderr",
          "text": [
            "<ipython-input-10-06dd2b37a1f1>:9: SettingWithCopyWarning: \n",
            "A value is trying to be set on a copy of a slice from a DataFrame\n",
            "\n",
            "See the caveats in the documentation: https://pandas.pydata.org/pandas-docs/stable/user_guide/indexing.html#returning-a-view-versus-a-copy\n",
            "  data[\"Icerik\"][i]=site_veri_getir(str(data_csv[\"Link\"][i]))\n"
          ]
        },
        {
          "output_type": "stream",
          "name": "stdout",
          "text": [
            "Hata\n",
            "Sıra : 2733/3042\n"
          ]
        },
        {
          "output_type": "stream",
          "name": "stderr",
          "text": [
            "<ipython-input-10-06dd2b37a1f1>:9: SettingWithCopyWarning: \n",
            "A value is trying to be set on a copy of a slice from a DataFrame\n",
            "\n",
            "See the caveats in the documentation: https://pandas.pydata.org/pandas-docs/stable/user_guide/indexing.html#returning-a-view-versus-a-copy\n",
            "  data[\"Icerik\"][i]=site_veri_getir(str(data_csv[\"Link\"][i]))\n"
          ]
        },
        {
          "output_type": "stream",
          "name": "stdout",
          "text": [
            "Hata\n",
            "Sıra : 2734/3042\n"
          ]
        },
        {
          "output_type": "stream",
          "name": "stderr",
          "text": [
            "<ipython-input-10-06dd2b37a1f1>:9: SettingWithCopyWarning: \n",
            "A value is trying to be set on a copy of a slice from a DataFrame\n",
            "\n",
            "See the caveats in the documentation: https://pandas.pydata.org/pandas-docs/stable/user_guide/indexing.html#returning-a-view-versus-a-copy\n",
            "  data[\"Icerik\"][i]=site_veri_getir(str(data_csv[\"Link\"][i]))\n"
          ]
        },
        {
          "output_type": "stream",
          "name": "stdout",
          "text": [
            "Hata\n",
            "Sıra : 2735/3042\n"
          ]
        },
        {
          "output_type": "stream",
          "name": "stderr",
          "text": [
            "<ipython-input-10-06dd2b37a1f1>:9: SettingWithCopyWarning: \n",
            "A value is trying to be set on a copy of a slice from a DataFrame\n",
            "\n",
            "See the caveats in the documentation: https://pandas.pydata.org/pandas-docs/stable/user_guide/indexing.html#returning-a-view-versus-a-copy\n",
            "  data[\"Icerik\"][i]=site_veri_getir(str(data_csv[\"Link\"][i]))\n"
          ]
        },
        {
          "output_type": "stream",
          "name": "stdout",
          "text": [
            "Hata\n",
            "Sıra : 2736/3042\n"
          ]
        },
        {
          "output_type": "stream",
          "name": "stderr",
          "text": [
            "<ipython-input-10-06dd2b37a1f1>:9: SettingWithCopyWarning: \n",
            "A value is trying to be set on a copy of a slice from a DataFrame\n",
            "\n",
            "See the caveats in the documentation: https://pandas.pydata.org/pandas-docs/stable/user_guide/indexing.html#returning-a-view-versus-a-copy\n",
            "  data[\"Icerik\"][i]=site_veri_getir(str(data_csv[\"Link\"][i]))\n"
          ]
        },
        {
          "output_type": "stream",
          "name": "stdout",
          "text": [
            "Hata\n",
            "Sıra : 2737/3042\n"
          ]
        },
        {
          "output_type": "stream",
          "name": "stderr",
          "text": [
            "<ipython-input-10-06dd2b37a1f1>:9: SettingWithCopyWarning: \n",
            "A value is trying to be set on a copy of a slice from a DataFrame\n",
            "\n",
            "See the caveats in the documentation: https://pandas.pydata.org/pandas-docs/stable/user_guide/indexing.html#returning-a-view-versus-a-copy\n",
            "  data[\"Icerik\"][i]=site_veri_getir(str(data_csv[\"Link\"][i]))\n"
          ]
        },
        {
          "output_type": "stream",
          "name": "stdout",
          "text": [
            "Hata\n",
            "Sıra : 2738/3042\n"
          ]
        },
        {
          "output_type": "stream",
          "name": "stderr",
          "text": [
            "<ipython-input-10-06dd2b37a1f1>:9: SettingWithCopyWarning: \n",
            "A value is trying to be set on a copy of a slice from a DataFrame\n",
            "\n",
            "See the caveats in the documentation: https://pandas.pydata.org/pandas-docs/stable/user_guide/indexing.html#returning-a-view-versus-a-copy\n",
            "  data[\"Icerik\"][i]=site_veri_getir(str(data_csv[\"Link\"][i]))\n"
          ]
        },
        {
          "output_type": "stream",
          "name": "stdout",
          "text": [
            "Hata\n",
            "Sıra : 2739/3042\n"
          ]
        },
        {
          "output_type": "stream",
          "name": "stderr",
          "text": [
            "<ipython-input-10-06dd2b37a1f1>:9: SettingWithCopyWarning: \n",
            "A value is trying to be set on a copy of a slice from a DataFrame\n",
            "\n",
            "See the caveats in the documentation: https://pandas.pydata.org/pandas-docs/stable/user_guide/indexing.html#returning-a-view-versus-a-copy\n",
            "  data[\"Icerik\"][i]=site_veri_getir(str(data_csv[\"Link\"][i]))\n"
          ]
        },
        {
          "output_type": "stream",
          "name": "stdout",
          "text": [
            "Hata\n",
            "Sıra : 2740/3042\n"
          ]
        },
        {
          "output_type": "stream",
          "name": "stderr",
          "text": [
            "<ipython-input-10-06dd2b37a1f1>:9: SettingWithCopyWarning: \n",
            "A value is trying to be set on a copy of a slice from a DataFrame\n",
            "\n",
            "See the caveats in the documentation: https://pandas.pydata.org/pandas-docs/stable/user_guide/indexing.html#returning-a-view-versus-a-copy\n",
            "  data[\"Icerik\"][i]=site_veri_getir(str(data_csv[\"Link\"][i]))\n"
          ]
        },
        {
          "output_type": "stream",
          "name": "stdout",
          "text": [
            "Hata\n",
            "Sıra : 2741/3042\n"
          ]
        },
        {
          "output_type": "stream",
          "name": "stderr",
          "text": [
            "<ipython-input-10-06dd2b37a1f1>:9: SettingWithCopyWarning: \n",
            "A value is trying to be set on a copy of a slice from a DataFrame\n",
            "\n",
            "See the caveats in the documentation: https://pandas.pydata.org/pandas-docs/stable/user_guide/indexing.html#returning-a-view-versus-a-copy\n",
            "  data[\"Icerik\"][i]=site_veri_getir(str(data_csv[\"Link\"][i]))\n"
          ]
        },
        {
          "output_type": "stream",
          "name": "stdout",
          "text": [
            "Hata\n",
            "Sıra : 2742/3042\n"
          ]
        },
        {
          "output_type": "stream",
          "name": "stderr",
          "text": [
            "<ipython-input-10-06dd2b37a1f1>:9: SettingWithCopyWarning: \n",
            "A value is trying to be set on a copy of a slice from a DataFrame\n",
            "\n",
            "See the caveats in the documentation: https://pandas.pydata.org/pandas-docs/stable/user_guide/indexing.html#returning-a-view-versus-a-copy\n",
            "  data[\"Icerik\"][i]=site_veri_getir(str(data_csv[\"Link\"][i]))\n"
          ]
        },
        {
          "output_type": "stream",
          "name": "stdout",
          "text": [
            "Hata\n",
            "Sıra : 2743/3042\n"
          ]
        },
        {
          "output_type": "stream",
          "name": "stderr",
          "text": [
            "<ipython-input-10-06dd2b37a1f1>:9: SettingWithCopyWarning: \n",
            "A value is trying to be set on a copy of a slice from a DataFrame\n",
            "\n",
            "See the caveats in the documentation: https://pandas.pydata.org/pandas-docs/stable/user_guide/indexing.html#returning-a-view-versus-a-copy\n",
            "  data[\"Icerik\"][i]=site_veri_getir(str(data_csv[\"Link\"][i]))\n"
          ]
        },
        {
          "output_type": "stream",
          "name": "stdout",
          "text": [
            "Hata\n",
            "Sıra : 2744/3042\n"
          ]
        },
        {
          "output_type": "stream",
          "name": "stderr",
          "text": [
            "<ipython-input-10-06dd2b37a1f1>:9: SettingWithCopyWarning: \n",
            "A value is trying to be set on a copy of a slice from a DataFrame\n",
            "\n",
            "See the caveats in the documentation: https://pandas.pydata.org/pandas-docs/stable/user_guide/indexing.html#returning-a-view-versus-a-copy\n",
            "  data[\"Icerik\"][i]=site_veri_getir(str(data_csv[\"Link\"][i]))\n"
          ]
        },
        {
          "output_type": "stream",
          "name": "stdout",
          "text": [
            "Hata\n",
            "Sıra : 2745/3042\n"
          ]
        },
        {
          "output_type": "stream",
          "name": "stderr",
          "text": [
            "<ipython-input-10-06dd2b37a1f1>:9: SettingWithCopyWarning: \n",
            "A value is trying to be set on a copy of a slice from a DataFrame\n",
            "\n",
            "See the caveats in the documentation: https://pandas.pydata.org/pandas-docs/stable/user_guide/indexing.html#returning-a-view-versus-a-copy\n",
            "  data[\"Icerik\"][i]=site_veri_getir(str(data_csv[\"Link\"][i]))\n"
          ]
        },
        {
          "output_type": "stream",
          "name": "stdout",
          "text": [
            "Hata\n",
            "Sıra : 2746/3042\n"
          ]
        },
        {
          "output_type": "stream",
          "name": "stderr",
          "text": [
            "<ipython-input-10-06dd2b37a1f1>:9: SettingWithCopyWarning: \n",
            "A value is trying to be set on a copy of a slice from a DataFrame\n",
            "\n",
            "See the caveats in the documentation: https://pandas.pydata.org/pandas-docs/stable/user_guide/indexing.html#returning-a-view-versus-a-copy\n",
            "  data[\"Icerik\"][i]=site_veri_getir(str(data_csv[\"Link\"][i]))\n"
          ]
        },
        {
          "output_type": "stream",
          "name": "stdout",
          "text": [
            "Hata\n",
            "Sıra : 2747/3042\n"
          ]
        },
        {
          "output_type": "stream",
          "name": "stderr",
          "text": [
            "<ipython-input-10-06dd2b37a1f1>:9: SettingWithCopyWarning: \n",
            "A value is trying to be set on a copy of a slice from a DataFrame\n",
            "\n",
            "See the caveats in the documentation: https://pandas.pydata.org/pandas-docs/stable/user_guide/indexing.html#returning-a-view-versus-a-copy\n",
            "  data[\"Icerik\"][i]=site_veri_getir(str(data_csv[\"Link\"][i]))\n"
          ]
        },
        {
          "output_type": "stream",
          "name": "stdout",
          "text": [
            "Hata\n",
            "Sıra : 2748/3042\n"
          ]
        },
        {
          "output_type": "stream",
          "name": "stderr",
          "text": [
            "<ipython-input-10-06dd2b37a1f1>:9: SettingWithCopyWarning: \n",
            "A value is trying to be set on a copy of a slice from a DataFrame\n",
            "\n",
            "See the caveats in the documentation: https://pandas.pydata.org/pandas-docs/stable/user_guide/indexing.html#returning-a-view-versus-a-copy\n",
            "  data[\"Icerik\"][i]=site_veri_getir(str(data_csv[\"Link\"][i]))\n"
          ]
        },
        {
          "output_type": "stream",
          "name": "stdout",
          "text": [
            "Hata\n",
            "Sıra : 2749/3042\n"
          ]
        },
        {
          "output_type": "stream",
          "name": "stderr",
          "text": [
            "<ipython-input-10-06dd2b37a1f1>:9: SettingWithCopyWarning: \n",
            "A value is trying to be set on a copy of a slice from a DataFrame\n",
            "\n",
            "See the caveats in the documentation: https://pandas.pydata.org/pandas-docs/stable/user_guide/indexing.html#returning-a-view-versus-a-copy\n",
            "  data[\"Icerik\"][i]=site_veri_getir(str(data_csv[\"Link\"][i]))\n"
          ]
        },
        {
          "output_type": "stream",
          "name": "stdout",
          "text": [
            "Hata\n",
            "Sıra : 2750/3042\n"
          ]
        },
        {
          "output_type": "stream",
          "name": "stderr",
          "text": [
            "<ipython-input-10-06dd2b37a1f1>:9: SettingWithCopyWarning: \n",
            "A value is trying to be set on a copy of a slice from a DataFrame\n",
            "\n",
            "See the caveats in the documentation: https://pandas.pydata.org/pandas-docs/stable/user_guide/indexing.html#returning-a-view-versus-a-copy\n",
            "  data[\"Icerik\"][i]=site_veri_getir(str(data_csv[\"Link\"][i]))\n"
          ]
        },
        {
          "output_type": "stream",
          "name": "stdout",
          "text": [
            "Hata\n",
            "Sıra : 2751/3042\n"
          ]
        },
        {
          "output_type": "stream",
          "name": "stderr",
          "text": [
            "<ipython-input-10-06dd2b37a1f1>:9: SettingWithCopyWarning: \n",
            "A value is trying to be set on a copy of a slice from a DataFrame\n",
            "\n",
            "See the caveats in the documentation: https://pandas.pydata.org/pandas-docs/stable/user_guide/indexing.html#returning-a-view-versus-a-copy\n",
            "  data[\"Icerik\"][i]=site_veri_getir(str(data_csv[\"Link\"][i]))\n"
          ]
        },
        {
          "output_type": "stream",
          "name": "stdout",
          "text": [
            "Hata\n",
            "Sıra : 2752/3042\n"
          ]
        },
        {
          "output_type": "stream",
          "name": "stderr",
          "text": [
            "<ipython-input-10-06dd2b37a1f1>:9: SettingWithCopyWarning: \n",
            "A value is trying to be set on a copy of a slice from a DataFrame\n",
            "\n",
            "See the caveats in the documentation: https://pandas.pydata.org/pandas-docs/stable/user_guide/indexing.html#returning-a-view-versus-a-copy\n",
            "  data[\"Icerik\"][i]=site_veri_getir(str(data_csv[\"Link\"][i]))\n"
          ]
        },
        {
          "output_type": "stream",
          "name": "stdout",
          "text": [
            "Hata\n",
            "Sıra : 2753/3042\n"
          ]
        },
        {
          "output_type": "stream",
          "name": "stderr",
          "text": [
            "<ipython-input-10-06dd2b37a1f1>:9: SettingWithCopyWarning: \n",
            "A value is trying to be set on a copy of a slice from a DataFrame\n",
            "\n",
            "See the caveats in the documentation: https://pandas.pydata.org/pandas-docs/stable/user_guide/indexing.html#returning-a-view-versus-a-copy\n",
            "  data[\"Icerik\"][i]=site_veri_getir(str(data_csv[\"Link\"][i]))\n"
          ]
        },
        {
          "output_type": "stream",
          "name": "stdout",
          "text": [
            "Hata\n",
            "Sıra : 2754/3042\n"
          ]
        },
        {
          "output_type": "stream",
          "name": "stderr",
          "text": [
            "<ipython-input-10-06dd2b37a1f1>:9: SettingWithCopyWarning: \n",
            "A value is trying to be set on a copy of a slice from a DataFrame\n",
            "\n",
            "See the caveats in the documentation: https://pandas.pydata.org/pandas-docs/stable/user_guide/indexing.html#returning-a-view-versus-a-copy\n",
            "  data[\"Icerik\"][i]=site_veri_getir(str(data_csv[\"Link\"][i]))\n"
          ]
        },
        {
          "output_type": "stream",
          "name": "stdout",
          "text": [
            "Hata\n",
            "Sıra : 2755/3042\n"
          ]
        },
        {
          "output_type": "stream",
          "name": "stderr",
          "text": [
            "<ipython-input-10-06dd2b37a1f1>:9: SettingWithCopyWarning: \n",
            "A value is trying to be set on a copy of a slice from a DataFrame\n",
            "\n",
            "See the caveats in the documentation: https://pandas.pydata.org/pandas-docs/stable/user_guide/indexing.html#returning-a-view-versus-a-copy\n",
            "  data[\"Icerik\"][i]=site_veri_getir(str(data_csv[\"Link\"][i]))\n"
          ]
        },
        {
          "output_type": "stream",
          "name": "stdout",
          "text": [
            "Hata\n",
            "Sıra : 2756/3042\n"
          ]
        },
        {
          "output_type": "stream",
          "name": "stderr",
          "text": [
            "<ipython-input-10-06dd2b37a1f1>:9: SettingWithCopyWarning: \n",
            "A value is trying to be set on a copy of a slice from a DataFrame\n",
            "\n",
            "See the caveats in the documentation: https://pandas.pydata.org/pandas-docs/stable/user_guide/indexing.html#returning-a-view-versus-a-copy\n",
            "  data[\"Icerik\"][i]=site_veri_getir(str(data_csv[\"Link\"][i]))\n"
          ]
        },
        {
          "output_type": "stream",
          "name": "stdout",
          "text": [
            "Hata\n",
            "Sıra : 2757/3042\n"
          ]
        },
        {
          "output_type": "stream",
          "name": "stderr",
          "text": [
            "<ipython-input-10-06dd2b37a1f1>:9: SettingWithCopyWarning: \n",
            "A value is trying to be set on a copy of a slice from a DataFrame\n",
            "\n",
            "See the caveats in the documentation: https://pandas.pydata.org/pandas-docs/stable/user_guide/indexing.html#returning-a-view-versus-a-copy\n",
            "  data[\"Icerik\"][i]=site_veri_getir(str(data_csv[\"Link\"][i]))\n"
          ]
        },
        {
          "output_type": "stream",
          "name": "stdout",
          "text": [
            "Hata\n",
            "Sıra : 2758/3042\n"
          ]
        },
        {
          "output_type": "stream",
          "name": "stderr",
          "text": [
            "<ipython-input-10-06dd2b37a1f1>:9: SettingWithCopyWarning: \n",
            "A value is trying to be set on a copy of a slice from a DataFrame\n",
            "\n",
            "See the caveats in the documentation: https://pandas.pydata.org/pandas-docs/stable/user_guide/indexing.html#returning-a-view-versus-a-copy\n",
            "  data[\"Icerik\"][i]=site_veri_getir(str(data_csv[\"Link\"][i]))\n"
          ]
        },
        {
          "output_type": "stream",
          "name": "stdout",
          "text": [
            "Hata\n",
            "Sıra : 2759/3042\n"
          ]
        },
        {
          "output_type": "stream",
          "name": "stderr",
          "text": [
            "<ipython-input-10-06dd2b37a1f1>:9: SettingWithCopyWarning: \n",
            "A value is trying to be set on a copy of a slice from a DataFrame\n",
            "\n",
            "See the caveats in the documentation: https://pandas.pydata.org/pandas-docs/stable/user_guide/indexing.html#returning-a-view-versus-a-copy\n",
            "  data[\"Icerik\"][i]=site_veri_getir(str(data_csv[\"Link\"][i]))\n"
          ]
        },
        {
          "output_type": "stream",
          "name": "stdout",
          "text": [
            "Hata\n",
            "Sıra : 2760/3042\n"
          ]
        },
        {
          "output_type": "stream",
          "name": "stderr",
          "text": [
            "<ipython-input-10-06dd2b37a1f1>:9: SettingWithCopyWarning: \n",
            "A value is trying to be set on a copy of a slice from a DataFrame\n",
            "\n",
            "See the caveats in the documentation: https://pandas.pydata.org/pandas-docs/stable/user_guide/indexing.html#returning-a-view-versus-a-copy\n",
            "  data[\"Icerik\"][i]=site_veri_getir(str(data_csv[\"Link\"][i]))\n"
          ]
        },
        {
          "output_type": "stream",
          "name": "stdout",
          "text": [
            "Hata\n",
            "Sıra : 2761/3042\n"
          ]
        },
        {
          "output_type": "stream",
          "name": "stderr",
          "text": [
            "<ipython-input-10-06dd2b37a1f1>:9: SettingWithCopyWarning: \n",
            "A value is trying to be set on a copy of a slice from a DataFrame\n",
            "\n",
            "See the caveats in the documentation: https://pandas.pydata.org/pandas-docs/stable/user_guide/indexing.html#returning-a-view-versus-a-copy\n",
            "  data[\"Icerik\"][i]=site_veri_getir(str(data_csv[\"Link\"][i]))\n"
          ]
        },
        {
          "output_type": "stream",
          "name": "stdout",
          "text": [
            "Hata\n",
            "Sıra : 2762/3042\n"
          ]
        },
        {
          "output_type": "stream",
          "name": "stderr",
          "text": [
            "<ipython-input-10-06dd2b37a1f1>:9: SettingWithCopyWarning: \n",
            "A value is trying to be set on a copy of a slice from a DataFrame\n",
            "\n",
            "See the caveats in the documentation: https://pandas.pydata.org/pandas-docs/stable/user_guide/indexing.html#returning-a-view-versus-a-copy\n",
            "  data[\"Icerik\"][i]=site_veri_getir(str(data_csv[\"Link\"][i]))\n"
          ]
        },
        {
          "output_type": "stream",
          "name": "stdout",
          "text": [
            "Hata\n",
            "Sıra : 2763/3042\n"
          ]
        },
        {
          "output_type": "stream",
          "name": "stderr",
          "text": [
            "<ipython-input-10-06dd2b37a1f1>:9: SettingWithCopyWarning: \n",
            "A value is trying to be set on a copy of a slice from a DataFrame\n",
            "\n",
            "See the caveats in the documentation: https://pandas.pydata.org/pandas-docs/stable/user_guide/indexing.html#returning-a-view-versus-a-copy\n",
            "  data[\"Icerik\"][i]=site_veri_getir(str(data_csv[\"Link\"][i]))\n"
          ]
        },
        {
          "output_type": "stream",
          "name": "stdout",
          "text": [
            "Hata\n",
            "Sıra : 2764/3042\n"
          ]
        },
        {
          "output_type": "stream",
          "name": "stderr",
          "text": [
            "<ipython-input-10-06dd2b37a1f1>:9: SettingWithCopyWarning: \n",
            "A value is trying to be set on a copy of a slice from a DataFrame\n",
            "\n",
            "See the caveats in the documentation: https://pandas.pydata.org/pandas-docs/stable/user_guide/indexing.html#returning-a-view-versus-a-copy\n",
            "  data[\"Icerik\"][i]=site_veri_getir(str(data_csv[\"Link\"][i]))\n"
          ]
        },
        {
          "output_type": "stream",
          "name": "stdout",
          "text": [
            "Hata\n",
            "Sıra : 2765/3042\n"
          ]
        },
        {
          "output_type": "stream",
          "name": "stderr",
          "text": [
            "<ipython-input-10-06dd2b37a1f1>:9: SettingWithCopyWarning: \n",
            "A value is trying to be set on a copy of a slice from a DataFrame\n",
            "\n",
            "See the caveats in the documentation: https://pandas.pydata.org/pandas-docs/stable/user_guide/indexing.html#returning-a-view-versus-a-copy\n",
            "  data[\"Icerik\"][i]=site_veri_getir(str(data_csv[\"Link\"][i]))\n"
          ]
        },
        {
          "output_type": "stream",
          "name": "stdout",
          "text": [
            "Hata\n",
            "Sıra : 2766/3042\n"
          ]
        },
        {
          "output_type": "stream",
          "name": "stderr",
          "text": [
            "<ipython-input-10-06dd2b37a1f1>:9: SettingWithCopyWarning: \n",
            "A value is trying to be set on a copy of a slice from a DataFrame\n",
            "\n",
            "See the caveats in the documentation: https://pandas.pydata.org/pandas-docs/stable/user_guide/indexing.html#returning-a-view-versus-a-copy\n",
            "  data[\"Icerik\"][i]=site_veri_getir(str(data_csv[\"Link\"][i]))\n"
          ]
        },
        {
          "output_type": "stream",
          "name": "stdout",
          "text": [
            "Hata\n",
            "Sıra : 2767/3042\n"
          ]
        },
        {
          "output_type": "stream",
          "name": "stderr",
          "text": [
            "<ipython-input-10-06dd2b37a1f1>:9: SettingWithCopyWarning: \n",
            "A value is trying to be set on a copy of a slice from a DataFrame\n",
            "\n",
            "See the caveats in the documentation: https://pandas.pydata.org/pandas-docs/stable/user_guide/indexing.html#returning-a-view-versus-a-copy\n",
            "  data[\"Icerik\"][i]=site_veri_getir(str(data_csv[\"Link\"][i]))\n"
          ]
        },
        {
          "output_type": "stream",
          "name": "stdout",
          "text": [
            "Hata\n",
            "Sıra : 2768/3042\n"
          ]
        },
        {
          "output_type": "stream",
          "name": "stderr",
          "text": [
            "<ipython-input-10-06dd2b37a1f1>:9: SettingWithCopyWarning: \n",
            "A value is trying to be set on a copy of a slice from a DataFrame\n",
            "\n",
            "See the caveats in the documentation: https://pandas.pydata.org/pandas-docs/stable/user_guide/indexing.html#returning-a-view-versus-a-copy\n",
            "  data[\"Icerik\"][i]=site_veri_getir(str(data_csv[\"Link\"][i]))\n"
          ]
        },
        {
          "output_type": "stream",
          "name": "stdout",
          "text": [
            "Hata\n",
            "Sıra : 2769/3042\n"
          ]
        },
        {
          "output_type": "stream",
          "name": "stderr",
          "text": [
            "<ipython-input-10-06dd2b37a1f1>:9: SettingWithCopyWarning: \n",
            "A value is trying to be set on a copy of a slice from a DataFrame\n",
            "\n",
            "See the caveats in the documentation: https://pandas.pydata.org/pandas-docs/stable/user_guide/indexing.html#returning-a-view-versus-a-copy\n",
            "  data[\"Icerik\"][i]=site_veri_getir(str(data_csv[\"Link\"][i]))\n"
          ]
        },
        {
          "output_type": "stream",
          "name": "stdout",
          "text": [
            "Hata\n",
            "Sıra : 2770/3042\n"
          ]
        },
        {
          "output_type": "stream",
          "name": "stderr",
          "text": [
            "<ipython-input-10-06dd2b37a1f1>:9: SettingWithCopyWarning: \n",
            "A value is trying to be set on a copy of a slice from a DataFrame\n",
            "\n",
            "See the caveats in the documentation: https://pandas.pydata.org/pandas-docs/stable/user_guide/indexing.html#returning-a-view-versus-a-copy\n",
            "  data[\"Icerik\"][i]=site_veri_getir(str(data_csv[\"Link\"][i]))\n"
          ]
        },
        {
          "output_type": "stream",
          "name": "stdout",
          "text": [
            "Hata\n",
            "Sıra : 2771/3042\n"
          ]
        },
        {
          "output_type": "stream",
          "name": "stderr",
          "text": [
            "<ipython-input-10-06dd2b37a1f1>:9: SettingWithCopyWarning: \n",
            "A value is trying to be set on a copy of a slice from a DataFrame\n",
            "\n",
            "See the caveats in the documentation: https://pandas.pydata.org/pandas-docs/stable/user_guide/indexing.html#returning-a-view-versus-a-copy\n",
            "  data[\"Icerik\"][i]=site_veri_getir(str(data_csv[\"Link\"][i]))\n"
          ]
        },
        {
          "output_type": "stream",
          "name": "stdout",
          "text": [
            "Hata\n",
            "Sıra : 2772/3042\n"
          ]
        },
        {
          "output_type": "stream",
          "name": "stderr",
          "text": [
            "<ipython-input-10-06dd2b37a1f1>:9: SettingWithCopyWarning: \n",
            "A value is trying to be set on a copy of a slice from a DataFrame\n",
            "\n",
            "See the caveats in the documentation: https://pandas.pydata.org/pandas-docs/stable/user_guide/indexing.html#returning-a-view-versus-a-copy\n",
            "  data[\"Icerik\"][i]=site_veri_getir(str(data_csv[\"Link\"][i]))\n"
          ]
        },
        {
          "output_type": "stream",
          "name": "stdout",
          "text": [
            "Hata\n",
            "Sıra : 2773/3042\n"
          ]
        },
        {
          "output_type": "stream",
          "name": "stderr",
          "text": [
            "<ipython-input-10-06dd2b37a1f1>:9: SettingWithCopyWarning: \n",
            "A value is trying to be set on a copy of a slice from a DataFrame\n",
            "\n",
            "See the caveats in the documentation: https://pandas.pydata.org/pandas-docs/stable/user_guide/indexing.html#returning-a-view-versus-a-copy\n",
            "  data[\"Icerik\"][i]=site_veri_getir(str(data_csv[\"Link\"][i]))\n"
          ]
        },
        {
          "output_type": "stream",
          "name": "stdout",
          "text": [
            "Hata\n",
            "Sıra : 2774/3042\n"
          ]
        },
        {
          "output_type": "stream",
          "name": "stderr",
          "text": [
            "<ipython-input-10-06dd2b37a1f1>:9: SettingWithCopyWarning: \n",
            "A value is trying to be set on a copy of a slice from a DataFrame\n",
            "\n",
            "See the caveats in the documentation: https://pandas.pydata.org/pandas-docs/stable/user_guide/indexing.html#returning-a-view-versus-a-copy\n",
            "  data[\"Icerik\"][i]=site_veri_getir(str(data_csv[\"Link\"][i]))\n"
          ]
        },
        {
          "output_type": "stream",
          "name": "stdout",
          "text": [
            "Hata\n",
            "Sıra : 2775/3042\n"
          ]
        },
        {
          "output_type": "stream",
          "name": "stderr",
          "text": [
            "<ipython-input-10-06dd2b37a1f1>:9: SettingWithCopyWarning: \n",
            "A value is trying to be set on a copy of a slice from a DataFrame\n",
            "\n",
            "See the caveats in the documentation: https://pandas.pydata.org/pandas-docs/stable/user_guide/indexing.html#returning-a-view-versus-a-copy\n",
            "  data[\"Icerik\"][i]=site_veri_getir(str(data_csv[\"Link\"][i]))\n"
          ]
        },
        {
          "output_type": "stream",
          "name": "stdout",
          "text": [
            "Hata\n",
            "Sıra : 2776/3042\n"
          ]
        },
        {
          "output_type": "stream",
          "name": "stderr",
          "text": [
            "<ipython-input-10-06dd2b37a1f1>:9: SettingWithCopyWarning: \n",
            "A value is trying to be set on a copy of a slice from a DataFrame\n",
            "\n",
            "See the caveats in the documentation: https://pandas.pydata.org/pandas-docs/stable/user_guide/indexing.html#returning-a-view-versus-a-copy\n",
            "  data[\"Icerik\"][i]=site_veri_getir(str(data_csv[\"Link\"][i]))\n"
          ]
        },
        {
          "output_type": "stream",
          "name": "stdout",
          "text": [
            "Hata\n",
            "Sıra : 2777/3042\n"
          ]
        },
        {
          "output_type": "stream",
          "name": "stderr",
          "text": [
            "<ipython-input-10-06dd2b37a1f1>:9: SettingWithCopyWarning: \n",
            "A value is trying to be set on a copy of a slice from a DataFrame\n",
            "\n",
            "See the caveats in the documentation: https://pandas.pydata.org/pandas-docs/stable/user_guide/indexing.html#returning-a-view-versus-a-copy\n",
            "  data[\"Icerik\"][i]=site_veri_getir(str(data_csv[\"Link\"][i]))\n"
          ]
        },
        {
          "output_type": "stream",
          "name": "stdout",
          "text": [
            "Hata\n",
            "Sıra : 2778/3042\n"
          ]
        },
        {
          "output_type": "stream",
          "name": "stderr",
          "text": [
            "<ipython-input-10-06dd2b37a1f1>:9: SettingWithCopyWarning: \n",
            "A value is trying to be set on a copy of a slice from a DataFrame\n",
            "\n",
            "See the caveats in the documentation: https://pandas.pydata.org/pandas-docs/stable/user_guide/indexing.html#returning-a-view-versus-a-copy\n",
            "  data[\"Icerik\"][i]=site_veri_getir(str(data_csv[\"Link\"][i]))\n"
          ]
        },
        {
          "output_type": "stream",
          "name": "stdout",
          "text": [
            "Hata\n",
            "Sıra : 2779/3042\n"
          ]
        },
        {
          "output_type": "stream",
          "name": "stderr",
          "text": [
            "<ipython-input-10-06dd2b37a1f1>:9: SettingWithCopyWarning: \n",
            "A value is trying to be set on a copy of a slice from a DataFrame\n",
            "\n",
            "See the caveats in the documentation: https://pandas.pydata.org/pandas-docs/stable/user_guide/indexing.html#returning-a-view-versus-a-copy\n",
            "  data[\"Icerik\"][i]=site_veri_getir(str(data_csv[\"Link\"][i]))\n"
          ]
        },
        {
          "output_type": "stream",
          "name": "stdout",
          "text": [
            "Hata\n",
            "Sıra : 2780/3042\n"
          ]
        },
        {
          "output_type": "stream",
          "name": "stderr",
          "text": [
            "<ipython-input-10-06dd2b37a1f1>:9: SettingWithCopyWarning: \n",
            "A value is trying to be set on a copy of a slice from a DataFrame\n",
            "\n",
            "See the caveats in the documentation: https://pandas.pydata.org/pandas-docs/stable/user_guide/indexing.html#returning-a-view-versus-a-copy\n",
            "  data[\"Icerik\"][i]=site_veri_getir(str(data_csv[\"Link\"][i]))\n"
          ]
        },
        {
          "output_type": "stream",
          "name": "stdout",
          "text": [
            "Hata\n",
            "Sıra : 2781/3042\n"
          ]
        },
        {
          "output_type": "stream",
          "name": "stderr",
          "text": [
            "<ipython-input-10-06dd2b37a1f1>:9: SettingWithCopyWarning: \n",
            "A value is trying to be set on a copy of a slice from a DataFrame\n",
            "\n",
            "See the caveats in the documentation: https://pandas.pydata.org/pandas-docs/stable/user_guide/indexing.html#returning-a-view-versus-a-copy\n",
            "  data[\"Icerik\"][i]=site_veri_getir(str(data_csv[\"Link\"][i]))\n"
          ]
        },
        {
          "output_type": "stream",
          "name": "stdout",
          "text": [
            "Hata\n",
            "Sıra : 2782/3042\n"
          ]
        },
        {
          "output_type": "stream",
          "name": "stderr",
          "text": [
            "<ipython-input-10-06dd2b37a1f1>:9: SettingWithCopyWarning: \n",
            "A value is trying to be set on a copy of a slice from a DataFrame\n",
            "\n",
            "See the caveats in the documentation: https://pandas.pydata.org/pandas-docs/stable/user_guide/indexing.html#returning-a-view-versus-a-copy\n",
            "  data[\"Icerik\"][i]=site_veri_getir(str(data_csv[\"Link\"][i]))\n"
          ]
        },
        {
          "output_type": "stream",
          "name": "stdout",
          "text": [
            "Hata\n",
            "Sıra : 2783/3042\n"
          ]
        },
        {
          "output_type": "stream",
          "name": "stderr",
          "text": [
            "<ipython-input-10-06dd2b37a1f1>:9: SettingWithCopyWarning: \n",
            "A value is trying to be set on a copy of a slice from a DataFrame\n",
            "\n",
            "See the caveats in the documentation: https://pandas.pydata.org/pandas-docs/stable/user_guide/indexing.html#returning-a-view-versus-a-copy\n",
            "  data[\"Icerik\"][i]=site_veri_getir(str(data_csv[\"Link\"][i]))\n"
          ]
        },
        {
          "output_type": "stream",
          "name": "stdout",
          "text": [
            "Hata\n",
            "Sıra : 2784/3042\n"
          ]
        },
        {
          "output_type": "stream",
          "name": "stderr",
          "text": [
            "<ipython-input-10-06dd2b37a1f1>:9: SettingWithCopyWarning: \n",
            "A value is trying to be set on a copy of a slice from a DataFrame\n",
            "\n",
            "See the caveats in the documentation: https://pandas.pydata.org/pandas-docs/stable/user_guide/indexing.html#returning-a-view-versus-a-copy\n",
            "  data[\"Icerik\"][i]=site_veri_getir(str(data_csv[\"Link\"][i]))\n"
          ]
        },
        {
          "output_type": "stream",
          "name": "stdout",
          "text": [
            "Hata\n",
            "Sıra : 2785/3042\n"
          ]
        },
        {
          "output_type": "stream",
          "name": "stderr",
          "text": [
            "<ipython-input-10-06dd2b37a1f1>:9: SettingWithCopyWarning: \n",
            "A value is trying to be set on a copy of a slice from a DataFrame\n",
            "\n",
            "See the caveats in the documentation: https://pandas.pydata.org/pandas-docs/stable/user_guide/indexing.html#returning-a-view-versus-a-copy\n",
            "  data[\"Icerik\"][i]=site_veri_getir(str(data_csv[\"Link\"][i]))\n"
          ]
        },
        {
          "output_type": "stream",
          "name": "stdout",
          "text": [
            "Hata\n",
            "Sıra : 2786/3042\n"
          ]
        },
        {
          "output_type": "stream",
          "name": "stderr",
          "text": [
            "<ipython-input-10-06dd2b37a1f1>:9: SettingWithCopyWarning: \n",
            "A value is trying to be set on a copy of a slice from a DataFrame\n",
            "\n",
            "See the caveats in the documentation: https://pandas.pydata.org/pandas-docs/stable/user_guide/indexing.html#returning-a-view-versus-a-copy\n",
            "  data[\"Icerik\"][i]=site_veri_getir(str(data_csv[\"Link\"][i]))\n"
          ]
        },
        {
          "output_type": "stream",
          "name": "stdout",
          "text": [
            "Hata\n",
            "Sıra : 2787/3042\n"
          ]
        },
        {
          "output_type": "stream",
          "name": "stderr",
          "text": [
            "<ipython-input-10-06dd2b37a1f1>:9: SettingWithCopyWarning: \n",
            "A value is trying to be set on a copy of a slice from a DataFrame\n",
            "\n",
            "See the caveats in the documentation: https://pandas.pydata.org/pandas-docs/stable/user_guide/indexing.html#returning-a-view-versus-a-copy\n",
            "  data[\"Icerik\"][i]=site_veri_getir(str(data_csv[\"Link\"][i]))\n"
          ]
        },
        {
          "output_type": "stream",
          "name": "stdout",
          "text": [
            "Hata\n",
            "Sıra : 2788/3042\n"
          ]
        },
        {
          "output_type": "stream",
          "name": "stderr",
          "text": [
            "<ipython-input-10-06dd2b37a1f1>:9: SettingWithCopyWarning: \n",
            "A value is trying to be set on a copy of a slice from a DataFrame\n",
            "\n",
            "See the caveats in the documentation: https://pandas.pydata.org/pandas-docs/stable/user_guide/indexing.html#returning-a-view-versus-a-copy\n",
            "  data[\"Icerik\"][i]=site_veri_getir(str(data_csv[\"Link\"][i]))\n"
          ]
        },
        {
          "output_type": "stream",
          "name": "stdout",
          "text": [
            "Hata\n",
            "Sıra : 2789/3042\n"
          ]
        },
        {
          "output_type": "stream",
          "name": "stderr",
          "text": [
            "<ipython-input-10-06dd2b37a1f1>:9: SettingWithCopyWarning: \n",
            "A value is trying to be set on a copy of a slice from a DataFrame\n",
            "\n",
            "See the caveats in the documentation: https://pandas.pydata.org/pandas-docs/stable/user_guide/indexing.html#returning-a-view-versus-a-copy\n",
            "  data[\"Icerik\"][i]=site_veri_getir(str(data_csv[\"Link\"][i]))\n"
          ]
        },
        {
          "output_type": "stream",
          "name": "stdout",
          "text": [
            "Hata\n",
            "Sıra : 2790/3042\n"
          ]
        },
        {
          "output_type": "stream",
          "name": "stderr",
          "text": [
            "<ipython-input-10-06dd2b37a1f1>:9: SettingWithCopyWarning: \n",
            "A value is trying to be set on a copy of a slice from a DataFrame\n",
            "\n",
            "See the caveats in the documentation: https://pandas.pydata.org/pandas-docs/stable/user_guide/indexing.html#returning-a-view-versus-a-copy\n",
            "  data[\"Icerik\"][i]=site_veri_getir(str(data_csv[\"Link\"][i]))\n"
          ]
        },
        {
          "output_type": "stream",
          "name": "stdout",
          "text": [
            "Hata\n",
            "Sıra : 2791/3042\n"
          ]
        },
        {
          "output_type": "stream",
          "name": "stderr",
          "text": [
            "<ipython-input-10-06dd2b37a1f1>:9: SettingWithCopyWarning: \n",
            "A value is trying to be set on a copy of a slice from a DataFrame\n",
            "\n",
            "See the caveats in the documentation: https://pandas.pydata.org/pandas-docs/stable/user_guide/indexing.html#returning-a-view-versus-a-copy\n",
            "  data[\"Icerik\"][i]=site_veri_getir(str(data_csv[\"Link\"][i]))\n"
          ]
        },
        {
          "output_type": "stream",
          "name": "stdout",
          "text": [
            "Hata\n",
            "Sıra : 2792/3042\n"
          ]
        },
        {
          "output_type": "stream",
          "name": "stderr",
          "text": [
            "<ipython-input-10-06dd2b37a1f1>:9: SettingWithCopyWarning: \n",
            "A value is trying to be set on a copy of a slice from a DataFrame\n",
            "\n",
            "See the caveats in the documentation: https://pandas.pydata.org/pandas-docs/stable/user_guide/indexing.html#returning-a-view-versus-a-copy\n",
            "  data[\"Icerik\"][i]=site_veri_getir(str(data_csv[\"Link\"][i]))\n"
          ]
        },
        {
          "output_type": "stream",
          "name": "stdout",
          "text": [
            "Hata\n",
            "Sıra : 2793/3042\n"
          ]
        },
        {
          "output_type": "stream",
          "name": "stderr",
          "text": [
            "<ipython-input-10-06dd2b37a1f1>:9: SettingWithCopyWarning: \n",
            "A value is trying to be set on a copy of a slice from a DataFrame\n",
            "\n",
            "See the caveats in the documentation: https://pandas.pydata.org/pandas-docs/stable/user_guide/indexing.html#returning-a-view-versus-a-copy\n",
            "  data[\"Icerik\"][i]=site_veri_getir(str(data_csv[\"Link\"][i]))\n"
          ]
        },
        {
          "output_type": "stream",
          "name": "stdout",
          "text": [
            "Hata\n",
            "Sıra : 2794/3042\n"
          ]
        },
        {
          "output_type": "stream",
          "name": "stderr",
          "text": [
            "<ipython-input-10-06dd2b37a1f1>:9: SettingWithCopyWarning: \n",
            "A value is trying to be set on a copy of a slice from a DataFrame\n",
            "\n",
            "See the caveats in the documentation: https://pandas.pydata.org/pandas-docs/stable/user_guide/indexing.html#returning-a-view-versus-a-copy\n",
            "  data[\"Icerik\"][i]=site_veri_getir(str(data_csv[\"Link\"][i]))\n"
          ]
        },
        {
          "output_type": "stream",
          "name": "stdout",
          "text": [
            "Hata\n",
            "Sıra : 2795/3042\n"
          ]
        },
        {
          "output_type": "stream",
          "name": "stderr",
          "text": [
            "<ipython-input-10-06dd2b37a1f1>:9: SettingWithCopyWarning: \n",
            "A value is trying to be set on a copy of a slice from a DataFrame\n",
            "\n",
            "See the caveats in the documentation: https://pandas.pydata.org/pandas-docs/stable/user_guide/indexing.html#returning-a-view-versus-a-copy\n",
            "  data[\"Icerik\"][i]=site_veri_getir(str(data_csv[\"Link\"][i]))\n"
          ]
        },
        {
          "output_type": "stream",
          "name": "stdout",
          "text": [
            "Hata\n",
            "Sıra : 2796/3042\n"
          ]
        },
        {
          "output_type": "stream",
          "name": "stderr",
          "text": [
            "<ipython-input-10-06dd2b37a1f1>:9: SettingWithCopyWarning: \n",
            "A value is trying to be set on a copy of a slice from a DataFrame\n",
            "\n",
            "See the caveats in the documentation: https://pandas.pydata.org/pandas-docs/stable/user_guide/indexing.html#returning-a-view-versus-a-copy\n",
            "  data[\"Icerik\"][i]=site_veri_getir(str(data_csv[\"Link\"][i]))\n"
          ]
        },
        {
          "output_type": "stream",
          "name": "stdout",
          "text": [
            "Hata\n",
            "Sıra : 2797/3042\n"
          ]
        },
        {
          "output_type": "stream",
          "name": "stderr",
          "text": [
            "<ipython-input-10-06dd2b37a1f1>:9: SettingWithCopyWarning: \n",
            "A value is trying to be set on a copy of a slice from a DataFrame\n",
            "\n",
            "See the caveats in the documentation: https://pandas.pydata.org/pandas-docs/stable/user_guide/indexing.html#returning-a-view-versus-a-copy\n",
            "  data[\"Icerik\"][i]=site_veri_getir(str(data_csv[\"Link\"][i]))\n"
          ]
        },
        {
          "output_type": "stream",
          "name": "stdout",
          "text": [
            "Hata\n",
            "Sıra : 2798/3042\n"
          ]
        },
        {
          "output_type": "stream",
          "name": "stderr",
          "text": [
            "<ipython-input-10-06dd2b37a1f1>:9: SettingWithCopyWarning: \n",
            "A value is trying to be set on a copy of a slice from a DataFrame\n",
            "\n",
            "See the caveats in the documentation: https://pandas.pydata.org/pandas-docs/stable/user_guide/indexing.html#returning-a-view-versus-a-copy\n",
            "  data[\"Icerik\"][i]=site_veri_getir(str(data_csv[\"Link\"][i]))\n"
          ]
        },
        {
          "output_type": "stream",
          "name": "stdout",
          "text": [
            "Hata\n",
            "Sıra : 2799/3042\n"
          ]
        },
        {
          "output_type": "stream",
          "name": "stderr",
          "text": [
            "<ipython-input-10-06dd2b37a1f1>:9: SettingWithCopyWarning: \n",
            "A value is trying to be set on a copy of a slice from a DataFrame\n",
            "\n",
            "See the caveats in the documentation: https://pandas.pydata.org/pandas-docs/stable/user_guide/indexing.html#returning-a-view-versus-a-copy\n",
            "  data[\"Icerik\"][i]=site_veri_getir(str(data_csv[\"Link\"][i]))\n"
          ]
        },
        {
          "output_type": "stream",
          "name": "stdout",
          "text": [
            "Hata\n",
            "Sıra : 2800/3042\n"
          ]
        },
        {
          "output_type": "stream",
          "name": "stderr",
          "text": [
            "<ipython-input-10-06dd2b37a1f1>:9: SettingWithCopyWarning: \n",
            "A value is trying to be set on a copy of a slice from a DataFrame\n",
            "\n",
            "See the caveats in the documentation: https://pandas.pydata.org/pandas-docs/stable/user_guide/indexing.html#returning-a-view-versus-a-copy\n",
            "  data[\"Icerik\"][i]=site_veri_getir(str(data_csv[\"Link\"][i]))\n"
          ]
        },
        {
          "output_type": "stream",
          "name": "stdout",
          "text": [
            "Hata\n",
            "Sıra : 2801/3042\n"
          ]
        },
        {
          "output_type": "stream",
          "name": "stderr",
          "text": [
            "<ipython-input-10-06dd2b37a1f1>:9: SettingWithCopyWarning: \n",
            "A value is trying to be set on a copy of a slice from a DataFrame\n",
            "\n",
            "See the caveats in the documentation: https://pandas.pydata.org/pandas-docs/stable/user_guide/indexing.html#returning-a-view-versus-a-copy\n",
            "  data[\"Icerik\"][i]=site_veri_getir(str(data_csv[\"Link\"][i]))\n"
          ]
        },
        {
          "output_type": "stream",
          "name": "stdout",
          "text": [
            "Hata\n",
            "Sıra : 2802/3042\n"
          ]
        },
        {
          "output_type": "stream",
          "name": "stderr",
          "text": [
            "<ipython-input-10-06dd2b37a1f1>:9: SettingWithCopyWarning: \n",
            "A value is trying to be set on a copy of a slice from a DataFrame\n",
            "\n",
            "See the caveats in the documentation: https://pandas.pydata.org/pandas-docs/stable/user_guide/indexing.html#returning-a-view-versus-a-copy\n",
            "  data[\"Icerik\"][i]=site_veri_getir(str(data_csv[\"Link\"][i]))\n"
          ]
        },
        {
          "output_type": "stream",
          "name": "stdout",
          "text": [
            "Hata\n",
            "Sıra : 2803/3042\n"
          ]
        },
        {
          "output_type": "stream",
          "name": "stderr",
          "text": [
            "<ipython-input-10-06dd2b37a1f1>:9: SettingWithCopyWarning: \n",
            "A value is trying to be set on a copy of a slice from a DataFrame\n",
            "\n",
            "See the caveats in the documentation: https://pandas.pydata.org/pandas-docs/stable/user_guide/indexing.html#returning-a-view-versus-a-copy\n",
            "  data[\"Icerik\"][i]=site_veri_getir(str(data_csv[\"Link\"][i]))\n"
          ]
        },
        {
          "output_type": "stream",
          "name": "stdout",
          "text": [
            "Hata\n",
            "Sıra : 2804/3042\n"
          ]
        },
        {
          "output_type": "stream",
          "name": "stderr",
          "text": [
            "<ipython-input-10-06dd2b37a1f1>:9: SettingWithCopyWarning: \n",
            "A value is trying to be set on a copy of a slice from a DataFrame\n",
            "\n",
            "See the caveats in the documentation: https://pandas.pydata.org/pandas-docs/stable/user_guide/indexing.html#returning-a-view-versus-a-copy\n",
            "  data[\"Icerik\"][i]=site_veri_getir(str(data_csv[\"Link\"][i]))\n"
          ]
        },
        {
          "output_type": "stream",
          "name": "stdout",
          "text": [
            "Hata\n",
            "Sıra : 2805/3042\n"
          ]
        },
        {
          "output_type": "stream",
          "name": "stderr",
          "text": [
            "<ipython-input-10-06dd2b37a1f1>:9: SettingWithCopyWarning: \n",
            "A value is trying to be set on a copy of a slice from a DataFrame\n",
            "\n",
            "See the caveats in the documentation: https://pandas.pydata.org/pandas-docs/stable/user_guide/indexing.html#returning-a-view-versus-a-copy\n",
            "  data[\"Icerik\"][i]=site_veri_getir(str(data_csv[\"Link\"][i]))\n"
          ]
        },
        {
          "output_type": "stream",
          "name": "stdout",
          "text": [
            "Hata\n",
            "Sıra : 2806/3042\n"
          ]
        },
        {
          "output_type": "stream",
          "name": "stderr",
          "text": [
            "<ipython-input-10-06dd2b37a1f1>:9: SettingWithCopyWarning: \n",
            "A value is trying to be set on a copy of a slice from a DataFrame\n",
            "\n",
            "See the caveats in the documentation: https://pandas.pydata.org/pandas-docs/stable/user_guide/indexing.html#returning-a-view-versus-a-copy\n",
            "  data[\"Icerik\"][i]=site_veri_getir(str(data_csv[\"Link\"][i]))\n"
          ]
        },
        {
          "output_type": "stream",
          "name": "stdout",
          "text": [
            "Hata\n",
            "Sıra : 2807/3042\n"
          ]
        },
        {
          "output_type": "stream",
          "name": "stderr",
          "text": [
            "<ipython-input-10-06dd2b37a1f1>:9: SettingWithCopyWarning: \n",
            "A value is trying to be set on a copy of a slice from a DataFrame\n",
            "\n",
            "See the caveats in the documentation: https://pandas.pydata.org/pandas-docs/stable/user_guide/indexing.html#returning-a-view-versus-a-copy\n",
            "  data[\"Icerik\"][i]=site_veri_getir(str(data_csv[\"Link\"][i]))\n"
          ]
        },
        {
          "output_type": "stream",
          "name": "stdout",
          "text": [
            "Hata\n",
            "Sıra : 2808/3042\n"
          ]
        },
        {
          "output_type": "stream",
          "name": "stderr",
          "text": [
            "<ipython-input-10-06dd2b37a1f1>:9: SettingWithCopyWarning: \n",
            "A value is trying to be set on a copy of a slice from a DataFrame\n",
            "\n",
            "See the caveats in the documentation: https://pandas.pydata.org/pandas-docs/stable/user_guide/indexing.html#returning-a-view-versus-a-copy\n",
            "  data[\"Icerik\"][i]=site_veri_getir(str(data_csv[\"Link\"][i]))\n"
          ]
        },
        {
          "output_type": "stream",
          "name": "stdout",
          "text": [
            "Hata\n",
            "Sıra : 2809/3042\n"
          ]
        },
        {
          "output_type": "stream",
          "name": "stderr",
          "text": [
            "<ipython-input-10-06dd2b37a1f1>:9: SettingWithCopyWarning: \n",
            "A value is trying to be set on a copy of a slice from a DataFrame\n",
            "\n",
            "See the caveats in the documentation: https://pandas.pydata.org/pandas-docs/stable/user_guide/indexing.html#returning-a-view-versus-a-copy\n",
            "  data[\"Icerik\"][i]=site_veri_getir(str(data_csv[\"Link\"][i]))\n"
          ]
        },
        {
          "output_type": "stream",
          "name": "stdout",
          "text": [
            "Hata\n",
            "Sıra : 2810/3042\n"
          ]
        },
        {
          "output_type": "stream",
          "name": "stderr",
          "text": [
            "<ipython-input-10-06dd2b37a1f1>:9: SettingWithCopyWarning: \n",
            "A value is trying to be set on a copy of a slice from a DataFrame\n",
            "\n",
            "See the caveats in the documentation: https://pandas.pydata.org/pandas-docs/stable/user_guide/indexing.html#returning-a-view-versus-a-copy\n",
            "  data[\"Icerik\"][i]=site_veri_getir(str(data_csv[\"Link\"][i]))\n"
          ]
        },
        {
          "output_type": "stream",
          "name": "stdout",
          "text": [
            "Hata\n",
            "Sıra : 2811/3042\n"
          ]
        },
        {
          "output_type": "stream",
          "name": "stderr",
          "text": [
            "<ipython-input-10-06dd2b37a1f1>:9: SettingWithCopyWarning: \n",
            "A value is trying to be set on a copy of a slice from a DataFrame\n",
            "\n",
            "See the caveats in the documentation: https://pandas.pydata.org/pandas-docs/stable/user_guide/indexing.html#returning-a-view-versus-a-copy\n",
            "  data[\"Icerik\"][i]=site_veri_getir(str(data_csv[\"Link\"][i]))\n"
          ]
        },
        {
          "output_type": "stream",
          "name": "stdout",
          "text": [
            "Hata\n",
            "Sıra : 2812/3042\n"
          ]
        },
        {
          "output_type": "stream",
          "name": "stderr",
          "text": [
            "<ipython-input-10-06dd2b37a1f1>:9: SettingWithCopyWarning: \n",
            "A value is trying to be set on a copy of a slice from a DataFrame\n",
            "\n",
            "See the caveats in the documentation: https://pandas.pydata.org/pandas-docs/stable/user_guide/indexing.html#returning-a-view-versus-a-copy\n",
            "  data[\"Icerik\"][i]=site_veri_getir(str(data_csv[\"Link\"][i]))\n"
          ]
        },
        {
          "output_type": "stream",
          "name": "stdout",
          "text": [
            "Hata\n",
            "Sıra : 2813/3042\n"
          ]
        },
        {
          "output_type": "stream",
          "name": "stderr",
          "text": [
            "<ipython-input-10-06dd2b37a1f1>:9: SettingWithCopyWarning: \n",
            "A value is trying to be set on a copy of a slice from a DataFrame\n",
            "\n",
            "See the caveats in the documentation: https://pandas.pydata.org/pandas-docs/stable/user_guide/indexing.html#returning-a-view-versus-a-copy\n",
            "  data[\"Icerik\"][i]=site_veri_getir(str(data_csv[\"Link\"][i]))\n"
          ]
        },
        {
          "output_type": "stream",
          "name": "stdout",
          "text": [
            "Hata\n",
            "Sıra : 2814/3042\n"
          ]
        },
        {
          "output_type": "stream",
          "name": "stderr",
          "text": [
            "<ipython-input-10-06dd2b37a1f1>:9: SettingWithCopyWarning: \n",
            "A value is trying to be set on a copy of a slice from a DataFrame\n",
            "\n",
            "See the caveats in the documentation: https://pandas.pydata.org/pandas-docs/stable/user_guide/indexing.html#returning-a-view-versus-a-copy\n",
            "  data[\"Icerik\"][i]=site_veri_getir(str(data_csv[\"Link\"][i]))\n"
          ]
        },
        {
          "output_type": "stream",
          "name": "stdout",
          "text": [
            "Hata\n",
            "Sıra : 2815/3042\n"
          ]
        },
        {
          "output_type": "stream",
          "name": "stderr",
          "text": [
            "<ipython-input-10-06dd2b37a1f1>:9: SettingWithCopyWarning: \n",
            "A value is trying to be set on a copy of a slice from a DataFrame\n",
            "\n",
            "See the caveats in the documentation: https://pandas.pydata.org/pandas-docs/stable/user_guide/indexing.html#returning-a-view-versus-a-copy\n",
            "  data[\"Icerik\"][i]=site_veri_getir(str(data_csv[\"Link\"][i]))\n"
          ]
        },
        {
          "output_type": "stream",
          "name": "stdout",
          "text": [
            "Hata\n",
            "Sıra : 2816/3042\n"
          ]
        },
        {
          "output_type": "stream",
          "name": "stderr",
          "text": [
            "<ipython-input-10-06dd2b37a1f1>:9: SettingWithCopyWarning: \n",
            "A value is trying to be set on a copy of a slice from a DataFrame\n",
            "\n",
            "See the caveats in the documentation: https://pandas.pydata.org/pandas-docs/stable/user_guide/indexing.html#returning-a-view-versus-a-copy\n",
            "  data[\"Icerik\"][i]=site_veri_getir(str(data_csv[\"Link\"][i]))\n"
          ]
        },
        {
          "output_type": "stream",
          "name": "stdout",
          "text": [
            "Hata\n",
            "Sıra : 2817/3042\n"
          ]
        },
        {
          "output_type": "stream",
          "name": "stderr",
          "text": [
            "<ipython-input-10-06dd2b37a1f1>:9: SettingWithCopyWarning: \n",
            "A value is trying to be set on a copy of a slice from a DataFrame\n",
            "\n",
            "See the caveats in the documentation: https://pandas.pydata.org/pandas-docs/stable/user_guide/indexing.html#returning-a-view-versus-a-copy\n",
            "  data[\"Icerik\"][i]=site_veri_getir(str(data_csv[\"Link\"][i]))\n"
          ]
        },
        {
          "output_type": "stream",
          "name": "stdout",
          "text": [
            "Hata\n",
            "Sıra : 2818/3042\n"
          ]
        },
        {
          "output_type": "stream",
          "name": "stderr",
          "text": [
            "<ipython-input-10-06dd2b37a1f1>:9: SettingWithCopyWarning: \n",
            "A value is trying to be set on a copy of a slice from a DataFrame\n",
            "\n",
            "See the caveats in the documentation: https://pandas.pydata.org/pandas-docs/stable/user_guide/indexing.html#returning-a-view-versus-a-copy\n",
            "  data[\"Icerik\"][i]=site_veri_getir(str(data_csv[\"Link\"][i]))\n"
          ]
        },
        {
          "output_type": "stream",
          "name": "stdout",
          "text": [
            "Hata\n",
            "Sıra : 2819/3042\n"
          ]
        },
        {
          "output_type": "stream",
          "name": "stderr",
          "text": [
            "<ipython-input-10-06dd2b37a1f1>:9: SettingWithCopyWarning: \n",
            "A value is trying to be set on a copy of a slice from a DataFrame\n",
            "\n",
            "See the caveats in the documentation: https://pandas.pydata.org/pandas-docs/stable/user_guide/indexing.html#returning-a-view-versus-a-copy\n",
            "  data[\"Icerik\"][i]=site_veri_getir(str(data_csv[\"Link\"][i]))\n"
          ]
        },
        {
          "output_type": "stream",
          "name": "stdout",
          "text": [
            "Hata\n",
            "Sıra : 2820/3042\n"
          ]
        },
        {
          "output_type": "stream",
          "name": "stderr",
          "text": [
            "<ipython-input-10-06dd2b37a1f1>:9: SettingWithCopyWarning: \n",
            "A value is trying to be set on a copy of a slice from a DataFrame\n",
            "\n",
            "See the caveats in the documentation: https://pandas.pydata.org/pandas-docs/stable/user_guide/indexing.html#returning-a-view-versus-a-copy\n",
            "  data[\"Icerik\"][i]=site_veri_getir(str(data_csv[\"Link\"][i]))\n"
          ]
        },
        {
          "output_type": "stream",
          "name": "stdout",
          "text": [
            "Hata\n",
            "Sıra : 2821/3042\n"
          ]
        },
        {
          "output_type": "stream",
          "name": "stderr",
          "text": [
            "<ipython-input-10-06dd2b37a1f1>:9: SettingWithCopyWarning: \n",
            "A value is trying to be set on a copy of a slice from a DataFrame\n",
            "\n",
            "See the caveats in the documentation: https://pandas.pydata.org/pandas-docs/stable/user_guide/indexing.html#returning-a-view-versus-a-copy\n",
            "  data[\"Icerik\"][i]=site_veri_getir(str(data_csv[\"Link\"][i]))\n"
          ]
        },
        {
          "output_type": "stream",
          "name": "stdout",
          "text": [
            "Hata\n",
            "Sıra : 2822/3042\n"
          ]
        },
        {
          "output_type": "stream",
          "name": "stderr",
          "text": [
            "<ipython-input-10-06dd2b37a1f1>:9: SettingWithCopyWarning: \n",
            "A value is trying to be set on a copy of a slice from a DataFrame\n",
            "\n",
            "See the caveats in the documentation: https://pandas.pydata.org/pandas-docs/stable/user_guide/indexing.html#returning-a-view-versus-a-copy\n",
            "  data[\"Icerik\"][i]=site_veri_getir(str(data_csv[\"Link\"][i]))\n"
          ]
        },
        {
          "output_type": "stream",
          "name": "stdout",
          "text": [
            "Hata\n",
            "Sıra : 2823/3042\n"
          ]
        },
        {
          "output_type": "stream",
          "name": "stderr",
          "text": [
            "<ipython-input-10-06dd2b37a1f1>:9: SettingWithCopyWarning: \n",
            "A value is trying to be set on a copy of a slice from a DataFrame\n",
            "\n",
            "See the caveats in the documentation: https://pandas.pydata.org/pandas-docs/stable/user_guide/indexing.html#returning-a-view-versus-a-copy\n",
            "  data[\"Icerik\"][i]=site_veri_getir(str(data_csv[\"Link\"][i]))\n"
          ]
        },
        {
          "output_type": "stream",
          "name": "stdout",
          "text": [
            "Hata\n",
            "Sıra : 2824/3042\n"
          ]
        },
        {
          "output_type": "stream",
          "name": "stderr",
          "text": [
            "<ipython-input-10-06dd2b37a1f1>:9: SettingWithCopyWarning: \n",
            "A value is trying to be set on a copy of a slice from a DataFrame\n",
            "\n",
            "See the caveats in the documentation: https://pandas.pydata.org/pandas-docs/stable/user_guide/indexing.html#returning-a-view-versus-a-copy\n",
            "  data[\"Icerik\"][i]=site_veri_getir(str(data_csv[\"Link\"][i]))\n"
          ]
        },
        {
          "output_type": "stream",
          "name": "stdout",
          "text": [
            "Hata\n",
            "Sıra : 2825/3042\n"
          ]
        },
        {
          "output_type": "stream",
          "name": "stderr",
          "text": [
            "<ipython-input-10-06dd2b37a1f1>:9: SettingWithCopyWarning: \n",
            "A value is trying to be set on a copy of a slice from a DataFrame\n",
            "\n",
            "See the caveats in the documentation: https://pandas.pydata.org/pandas-docs/stable/user_guide/indexing.html#returning-a-view-versus-a-copy\n",
            "  data[\"Icerik\"][i]=site_veri_getir(str(data_csv[\"Link\"][i]))\n"
          ]
        },
        {
          "output_type": "stream",
          "name": "stdout",
          "text": [
            "Hata\n",
            "Sıra : 2826/3042\n"
          ]
        },
        {
          "output_type": "stream",
          "name": "stderr",
          "text": [
            "<ipython-input-10-06dd2b37a1f1>:9: SettingWithCopyWarning: \n",
            "A value is trying to be set on a copy of a slice from a DataFrame\n",
            "\n",
            "See the caveats in the documentation: https://pandas.pydata.org/pandas-docs/stable/user_guide/indexing.html#returning-a-view-versus-a-copy\n",
            "  data[\"Icerik\"][i]=site_veri_getir(str(data_csv[\"Link\"][i]))\n"
          ]
        },
        {
          "output_type": "stream",
          "name": "stdout",
          "text": [
            "Hata\n",
            "Sıra : 2827/3042\n"
          ]
        },
        {
          "output_type": "stream",
          "name": "stderr",
          "text": [
            "<ipython-input-10-06dd2b37a1f1>:9: SettingWithCopyWarning: \n",
            "A value is trying to be set on a copy of a slice from a DataFrame\n",
            "\n",
            "See the caveats in the documentation: https://pandas.pydata.org/pandas-docs/stable/user_guide/indexing.html#returning-a-view-versus-a-copy\n",
            "  data[\"Icerik\"][i]=site_veri_getir(str(data_csv[\"Link\"][i]))\n"
          ]
        },
        {
          "output_type": "stream",
          "name": "stdout",
          "text": [
            "Hata\n",
            "Sıra : 2828/3042\n"
          ]
        },
        {
          "output_type": "stream",
          "name": "stderr",
          "text": [
            "<ipython-input-10-06dd2b37a1f1>:9: SettingWithCopyWarning: \n",
            "A value is trying to be set on a copy of a slice from a DataFrame\n",
            "\n",
            "See the caveats in the documentation: https://pandas.pydata.org/pandas-docs/stable/user_guide/indexing.html#returning-a-view-versus-a-copy\n",
            "  data[\"Icerik\"][i]=site_veri_getir(str(data_csv[\"Link\"][i]))\n"
          ]
        },
        {
          "output_type": "stream",
          "name": "stdout",
          "text": [
            "Hata\n",
            "Sıra : 2829/3042\n"
          ]
        },
        {
          "output_type": "stream",
          "name": "stderr",
          "text": [
            "<ipython-input-10-06dd2b37a1f1>:9: SettingWithCopyWarning: \n",
            "A value is trying to be set on a copy of a slice from a DataFrame\n",
            "\n",
            "See the caveats in the documentation: https://pandas.pydata.org/pandas-docs/stable/user_guide/indexing.html#returning-a-view-versus-a-copy\n",
            "  data[\"Icerik\"][i]=site_veri_getir(str(data_csv[\"Link\"][i]))\n"
          ]
        },
        {
          "output_type": "stream",
          "name": "stdout",
          "text": [
            "Hata\n",
            "Sıra : 2830/3042\n"
          ]
        },
        {
          "output_type": "stream",
          "name": "stderr",
          "text": [
            "<ipython-input-10-06dd2b37a1f1>:9: SettingWithCopyWarning: \n",
            "A value is trying to be set on a copy of a slice from a DataFrame\n",
            "\n",
            "See the caveats in the documentation: https://pandas.pydata.org/pandas-docs/stable/user_guide/indexing.html#returning-a-view-versus-a-copy\n",
            "  data[\"Icerik\"][i]=site_veri_getir(str(data_csv[\"Link\"][i]))\n"
          ]
        },
        {
          "output_type": "stream",
          "name": "stdout",
          "text": [
            "Hata\n",
            "Sıra : 2831/3042\n"
          ]
        },
        {
          "output_type": "stream",
          "name": "stderr",
          "text": [
            "<ipython-input-10-06dd2b37a1f1>:9: SettingWithCopyWarning: \n",
            "A value is trying to be set on a copy of a slice from a DataFrame\n",
            "\n",
            "See the caveats in the documentation: https://pandas.pydata.org/pandas-docs/stable/user_guide/indexing.html#returning-a-view-versus-a-copy\n",
            "  data[\"Icerik\"][i]=site_veri_getir(str(data_csv[\"Link\"][i]))\n"
          ]
        },
        {
          "output_type": "stream",
          "name": "stdout",
          "text": [
            "Hata\n",
            "Sıra : 2832/3042\n"
          ]
        },
        {
          "output_type": "stream",
          "name": "stderr",
          "text": [
            "<ipython-input-10-06dd2b37a1f1>:9: SettingWithCopyWarning: \n",
            "A value is trying to be set on a copy of a slice from a DataFrame\n",
            "\n",
            "See the caveats in the documentation: https://pandas.pydata.org/pandas-docs/stable/user_guide/indexing.html#returning-a-view-versus-a-copy\n",
            "  data[\"Icerik\"][i]=site_veri_getir(str(data_csv[\"Link\"][i]))\n"
          ]
        },
        {
          "output_type": "stream",
          "name": "stdout",
          "text": [
            "Hata\n",
            "Sıra : 2833/3042\n"
          ]
        },
        {
          "output_type": "stream",
          "name": "stderr",
          "text": [
            "<ipython-input-10-06dd2b37a1f1>:9: SettingWithCopyWarning: \n",
            "A value is trying to be set on a copy of a slice from a DataFrame\n",
            "\n",
            "See the caveats in the documentation: https://pandas.pydata.org/pandas-docs/stable/user_guide/indexing.html#returning-a-view-versus-a-copy\n",
            "  data[\"Icerik\"][i]=site_veri_getir(str(data_csv[\"Link\"][i]))\n"
          ]
        },
        {
          "output_type": "stream",
          "name": "stdout",
          "text": [
            "Hata\n",
            "Sıra : 2834/3042\n"
          ]
        },
        {
          "output_type": "stream",
          "name": "stderr",
          "text": [
            "<ipython-input-10-06dd2b37a1f1>:9: SettingWithCopyWarning: \n",
            "A value is trying to be set on a copy of a slice from a DataFrame\n",
            "\n",
            "See the caveats in the documentation: https://pandas.pydata.org/pandas-docs/stable/user_guide/indexing.html#returning-a-view-versus-a-copy\n",
            "  data[\"Icerik\"][i]=site_veri_getir(str(data_csv[\"Link\"][i]))\n"
          ]
        },
        {
          "output_type": "stream",
          "name": "stdout",
          "text": [
            "Hata\n",
            "Sıra : 2835/3042\n"
          ]
        },
        {
          "output_type": "stream",
          "name": "stderr",
          "text": [
            "<ipython-input-10-06dd2b37a1f1>:9: SettingWithCopyWarning: \n",
            "A value is trying to be set on a copy of a slice from a DataFrame\n",
            "\n",
            "See the caveats in the documentation: https://pandas.pydata.org/pandas-docs/stable/user_guide/indexing.html#returning-a-view-versus-a-copy\n",
            "  data[\"Icerik\"][i]=site_veri_getir(str(data_csv[\"Link\"][i]))\n"
          ]
        },
        {
          "output_type": "stream",
          "name": "stdout",
          "text": [
            "Hata\n",
            "Sıra : 2836/3042\n"
          ]
        },
        {
          "output_type": "stream",
          "name": "stderr",
          "text": [
            "<ipython-input-10-06dd2b37a1f1>:9: SettingWithCopyWarning: \n",
            "A value is trying to be set on a copy of a slice from a DataFrame\n",
            "\n",
            "See the caveats in the documentation: https://pandas.pydata.org/pandas-docs/stable/user_guide/indexing.html#returning-a-view-versus-a-copy\n",
            "  data[\"Icerik\"][i]=site_veri_getir(str(data_csv[\"Link\"][i]))\n"
          ]
        },
        {
          "output_type": "stream",
          "name": "stdout",
          "text": [
            "Hata\n",
            "Sıra : 2837/3042\n"
          ]
        },
        {
          "output_type": "stream",
          "name": "stderr",
          "text": [
            "<ipython-input-10-06dd2b37a1f1>:9: SettingWithCopyWarning: \n",
            "A value is trying to be set on a copy of a slice from a DataFrame\n",
            "\n",
            "See the caveats in the documentation: https://pandas.pydata.org/pandas-docs/stable/user_guide/indexing.html#returning-a-view-versus-a-copy\n",
            "  data[\"Icerik\"][i]=site_veri_getir(str(data_csv[\"Link\"][i]))\n"
          ]
        },
        {
          "output_type": "stream",
          "name": "stdout",
          "text": [
            "Hata\n",
            "Sıra : 2838/3042\n"
          ]
        },
        {
          "output_type": "stream",
          "name": "stderr",
          "text": [
            "<ipython-input-10-06dd2b37a1f1>:9: SettingWithCopyWarning: \n",
            "A value is trying to be set on a copy of a slice from a DataFrame\n",
            "\n",
            "See the caveats in the documentation: https://pandas.pydata.org/pandas-docs/stable/user_guide/indexing.html#returning-a-view-versus-a-copy\n",
            "  data[\"Icerik\"][i]=site_veri_getir(str(data_csv[\"Link\"][i]))\n"
          ]
        },
        {
          "output_type": "stream",
          "name": "stdout",
          "text": [
            "Hata\n",
            "Sıra : 2839/3042\n"
          ]
        },
        {
          "output_type": "stream",
          "name": "stderr",
          "text": [
            "<ipython-input-10-06dd2b37a1f1>:9: SettingWithCopyWarning: \n",
            "A value is trying to be set on a copy of a slice from a DataFrame\n",
            "\n",
            "See the caveats in the documentation: https://pandas.pydata.org/pandas-docs/stable/user_guide/indexing.html#returning-a-view-versus-a-copy\n",
            "  data[\"Icerik\"][i]=site_veri_getir(str(data_csv[\"Link\"][i]))\n"
          ]
        },
        {
          "output_type": "stream",
          "name": "stdout",
          "text": [
            "Hata\n",
            "Sıra : 2840/3042\n"
          ]
        },
        {
          "output_type": "stream",
          "name": "stderr",
          "text": [
            "<ipython-input-10-06dd2b37a1f1>:9: SettingWithCopyWarning: \n",
            "A value is trying to be set on a copy of a slice from a DataFrame\n",
            "\n",
            "See the caveats in the documentation: https://pandas.pydata.org/pandas-docs/stable/user_guide/indexing.html#returning-a-view-versus-a-copy\n",
            "  data[\"Icerik\"][i]=site_veri_getir(str(data_csv[\"Link\"][i]))\n"
          ]
        },
        {
          "output_type": "stream",
          "name": "stdout",
          "text": [
            "Hata\n",
            "Sıra : 2841/3042\n"
          ]
        },
        {
          "output_type": "stream",
          "name": "stderr",
          "text": [
            "<ipython-input-10-06dd2b37a1f1>:9: SettingWithCopyWarning: \n",
            "A value is trying to be set on a copy of a slice from a DataFrame\n",
            "\n",
            "See the caveats in the documentation: https://pandas.pydata.org/pandas-docs/stable/user_guide/indexing.html#returning-a-view-versus-a-copy\n",
            "  data[\"Icerik\"][i]=site_veri_getir(str(data_csv[\"Link\"][i]))\n"
          ]
        },
        {
          "output_type": "stream",
          "name": "stdout",
          "text": [
            "Hata\n",
            "Sıra : 2842/3042\n"
          ]
        },
        {
          "output_type": "stream",
          "name": "stderr",
          "text": [
            "<ipython-input-10-06dd2b37a1f1>:9: SettingWithCopyWarning: \n",
            "A value is trying to be set on a copy of a slice from a DataFrame\n",
            "\n",
            "See the caveats in the documentation: https://pandas.pydata.org/pandas-docs/stable/user_guide/indexing.html#returning-a-view-versus-a-copy\n",
            "  data[\"Icerik\"][i]=site_veri_getir(str(data_csv[\"Link\"][i]))\n"
          ]
        },
        {
          "output_type": "stream",
          "name": "stdout",
          "text": [
            "Hata\n",
            "Sıra : 2843/3042\n"
          ]
        },
        {
          "output_type": "stream",
          "name": "stderr",
          "text": [
            "<ipython-input-10-06dd2b37a1f1>:9: SettingWithCopyWarning: \n",
            "A value is trying to be set on a copy of a slice from a DataFrame\n",
            "\n",
            "See the caveats in the documentation: https://pandas.pydata.org/pandas-docs/stable/user_guide/indexing.html#returning-a-view-versus-a-copy\n",
            "  data[\"Icerik\"][i]=site_veri_getir(str(data_csv[\"Link\"][i]))\n"
          ]
        },
        {
          "output_type": "stream",
          "name": "stdout",
          "text": [
            "Hata\n",
            "Sıra : 2844/3042\n"
          ]
        },
        {
          "output_type": "stream",
          "name": "stderr",
          "text": [
            "<ipython-input-10-06dd2b37a1f1>:9: SettingWithCopyWarning: \n",
            "A value is trying to be set on a copy of a slice from a DataFrame\n",
            "\n",
            "See the caveats in the documentation: https://pandas.pydata.org/pandas-docs/stable/user_guide/indexing.html#returning-a-view-versus-a-copy\n",
            "  data[\"Icerik\"][i]=site_veri_getir(str(data_csv[\"Link\"][i]))\n"
          ]
        },
        {
          "output_type": "stream",
          "name": "stdout",
          "text": [
            "Hata\n",
            "Sıra : 2845/3042\n"
          ]
        },
        {
          "output_type": "stream",
          "name": "stderr",
          "text": [
            "<ipython-input-10-06dd2b37a1f1>:9: SettingWithCopyWarning: \n",
            "A value is trying to be set on a copy of a slice from a DataFrame\n",
            "\n",
            "See the caveats in the documentation: https://pandas.pydata.org/pandas-docs/stable/user_guide/indexing.html#returning-a-view-versus-a-copy\n",
            "  data[\"Icerik\"][i]=site_veri_getir(str(data_csv[\"Link\"][i]))\n"
          ]
        },
        {
          "output_type": "stream",
          "name": "stdout",
          "text": [
            "Hata\n",
            "Sıra : 2846/3042\n"
          ]
        },
        {
          "output_type": "stream",
          "name": "stderr",
          "text": [
            "<ipython-input-10-06dd2b37a1f1>:9: SettingWithCopyWarning: \n",
            "A value is trying to be set on a copy of a slice from a DataFrame\n",
            "\n",
            "See the caveats in the documentation: https://pandas.pydata.org/pandas-docs/stable/user_guide/indexing.html#returning-a-view-versus-a-copy\n",
            "  data[\"Icerik\"][i]=site_veri_getir(str(data_csv[\"Link\"][i]))\n"
          ]
        },
        {
          "output_type": "stream",
          "name": "stdout",
          "text": [
            "Hata\n",
            "Sıra : 2847/3042\n"
          ]
        },
        {
          "output_type": "stream",
          "name": "stderr",
          "text": [
            "<ipython-input-10-06dd2b37a1f1>:9: SettingWithCopyWarning: \n",
            "A value is trying to be set on a copy of a slice from a DataFrame\n",
            "\n",
            "See the caveats in the documentation: https://pandas.pydata.org/pandas-docs/stable/user_guide/indexing.html#returning-a-view-versus-a-copy\n",
            "  data[\"Icerik\"][i]=site_veri_getir(str(data_csv[\"Link\"][i]))\n"
          ]
        },
        {
          "output_type": "stream",
          "name": "stdout",
          "text": [
            "Hata\n",
            "Sıra : 2848/3042\n"
          ]
        },
        {
          "output_type": "stream",
          "name": "stderr",
          "text": [
            "<ipython-input-10-06dd2b37a1f1>:9: SettingWithCopyWarning: \n",
            "A value is trying to be set on a copy of a slice from a DataFrame\n",
            "\n",
            "See the caveats in the documentation: https://pandas.pydata.org/pandas-docs/stable/user_guide/indexing.html#returning-a-view-versus-a-copy\n",
            "  data[\"Icerik\"][i]=site_veri_getir(str(data_csv[\"Link\"][i]))\n"
          ]
        },
        {
          "output_type": "stream",
          "name": "stdout",
          "text": [
            "Hata\n",
            "Sıra : 2849/3042\n"
          ]
        },
        {
          "output_type": "stream",
          "name": "stderr",
          "text": [
            "<ipython-input-10-06dd2b37a1f1>:9: SettingWithCopyWarning: \n",
            "A value is trying to be set on a copy of a slice from a DataFrame\n",
            "\n",
            "See the caveats in the documentation: https://pandas.pydata.org/pandas-docs/stable/user_guide/indexing.html#returning-a-view-versus-a-copy\n",
            "  data[\"Icerik\"][i]=site_veri_getir(str(data_csv[\"Link\"][i]))\n"
          ]
        },
        {
          "output_type": "stream",
          "name": "stdout",
          "text": [
            "Hata\n",
            "Sıra : 2850/3042\n"
          ]
        },
        {
          "output_type": "stream",
          "name": "stderr",
          "text": [
            "<ipython-input-10-06dd2b37a1f1>:9: SettingWithCopyWarning: \n",
            "A value is trying to be set on a copy of a slice from a DataFrame\n",
            "\n",
            "See the caveats in the documentation: https://pandas.pydata.org/pandas-docs/stable/user_guide/indexing.html#returning-a-view-versus-a-copy\n",
            "  data[\"Icerik\"][i]=site_veri_getir(str(data_csv[\"Link\"][i]))\n"
          ]
        },
        {
          "output_type": "stream",
          "name": "stdout",
          "text": [
            "Hata\n",
            "Sıra : 2851/3042\n"
          ]
        },
        {
          "output_type": "stream",
          "name": "stderr",
          "text": [
            "<ipython-input-10-06dd2b37a1f1>:9: SettingWithCopyWarning: \n",
            "A value is trying to be set on a copy of a slice from a DataFrame\n",
            "\n",
            "See the caveats in the documentation: https://pandas.pydata.org/pandas-docs/stable/user_guide/indexing.html#returning-a-view-versus-a-copy\n",
            "  data[\"Icerik\"][i]=site_veri_getir(str(data_csv[\"Link\"][i]))\n"
          ]
        },
        {
          "output_type": "stream",
          "name": "stdout",
          "text": [
            "Hata\n",
            "Sıra : 2852/3042\n"
          ]
        },
        {
          "output_type": "stream",
          "name": "stderr",
          "text": [
            "<ipython-input-10-06dd2b37a1f1>:9: SettingWithCopyWarning: \n",
            "A value is trying to be set on a copy of a slice from a DataFrame\n",
            "\n",
            "See the caveats in the documentation: https://pandas.pydata.org/pandas-docs/stable/user_guide/indexing.html#returning-a-view-versus-a-copy\n",
            "  data[\"Icerik\"][i]=site_veri_getir(str(data_csv[\"Link\"][i]))\n"
          ]
        },
        {
          "output_type": "stream",
          "name": "stdout",
          "text": [
            "Hata\n",
            "Sıra : 2853/3042\n"
          ]
        },
        {
          "output_type": "stream",
          "name": "stderr",
          "text": [
            "<ipython-input-10-06dd2b37a1f1>:9: SettingWithCopyWarning: \n",
            "A value is trying to be set on a copy of a slice from a DataFrame\n",
            "\n",
            "See the caveats in the documentation: https://pandas.pydata.org/pandas-docs/stable/user_guide/indexing.html#returning-a-view-versus-a-copy\n",
            "  data[\"Icerik\"][i]=site_veri_getir(str(data_csv[\"Link\"][i]))\n"
          ]
        },
        {
          "output_type": "stream",
          "name": "stdout",
          "text": [
            "Hata\n",
            "Sıra : 2854/3042\n"
          ]
        },
        {
          "output_type": "stream",
          "name": "stderr",
          "text": [
            "<ipython-input-10-06dd2b37a1f1>:9: SettingWithCopyWarning: \n",
            "A value is trying to be set on a copy of a slice from a DataFrame\n",
            "\n",
            "See the caveats in the documentation: https://pandas.pydata.org/pandas-docs/stable/user_guide/indexing.html#returning-a-view-versus-a-copy\n",
            "  data[\"Icerik\"][i]=site_veri_getir(str(data_csv[\"Link\"][i]))\n"
          ]
        },
        {
          "output_type": "stream",
          "name": "stdout",
          "text": [
            "Hata\n",
            "Sıra : 2855/3042\n"
          ]
        },
        {
          "output_type": "stream",
          "name": "stderr",
          "text": [
            "<ipython-input-10-06dd2b37a1f1>:9: SettingWithCopyWarning: \n",
            "A value is trying to be set on a copy of a slice from a DataFrame\n",
            "\n",
            "See the caveats in the documentation: https://pandas.pydata.org/pandas-docs/stable/user_guide/indexing.html#returning-a-view-versus-a-copy\n",
            "  data[\"Icerik\"][i]=site_veri_getir(str(data_csv[\"Link\"][i]))\n"
          ]
        },
        {
          "output_type": "stream",
          "name": "stdout",
          "text": [
            "Hata\n",
            "Sıra : 2856/3042\n"
          ]
        },
        {
          "output_type": "stream",
          "name": "stderr",
          "text": [
            "<ipython-input-10-06dd2b37a1f1>:9: SettingWithCopyWarning: \n",
            "A value is trying to be set on a copy of a slice from a DataFrame\n",
            "\n",
            "See the caveats in the documentation: https://pandas.pydata.org/pandas-docs/stable/user_guide/indexing.html#returning-a-view-versus-a-copy\n",
            "  data[\"Icerik\"][i]=site_veri_getir(str(data_csv[\"Link\"][i]))\n"
          ]
        },
        {
          "output_type": "stream",
          "name": "stdout",
          "text": [
            "Hata\n",
            "Sıra : 2857/3042\n"
          ]
        },
        {
          "output_type": "stream",
          "name": "stderr",
          "text": [
            "<ipython-input-10-06dd2b37a1f1>:9: SettingWithCopyWarning: \n",
            "A value is trying to be set on a copy of a slice from a DataFrame\n",
            "\n",
            "See the caveats in the documentation: https://pandas.pydata.org/pandas-docs/stable/user_guide/indexing.html#returning-a-view-versus-a-copy\n",
            "  data[\"Icerik\"][i]=site_veri_getir(str(data_csv[\"Link\"][i]))\n"
          ]
        },
        {
          "output_type": "stream",
          "name": "stdout",
          "text": [
            "Hata\n",
            "Sıra : 2858/3042\n"
          ]
        },
        {
          "output_type": "stream",
          "name": "stderr",
          "text": [
            "<ipython-input-10-06dd2b37a1f1>:9: SettingWithCopyWarning: \n",
            "A value is trying to be set on a copy of a slice from a DataFrame\n",
            "\n",
            "See the caveats in the documentation: https://pandas.pydata.org/pandas-docs/stable/user_guide/indexing.html#returning-a-view-versus-a-copy\n",
            "  data[\"Icerik\"][i]=site_veri_getir(str(data_csv[\"Link\"][i]))\n"
          ]
        },
        {
          "output_type": "stream",
          "name": "stdout",
          "text": [
            "Hata\n",
            "Sıra : 2859/3042\n"
          ]
        },
        {
          "output_type": "stream",
          "name": "stderr",
          "text": [
            "<ipython-input-10-06dd2b37a1f1>:9: SettingWithCopyWarning: \n",
            "A value is trying to be set on a copy of a slice from a DataFrame\n",
            "\n",
            "See the caveats in the documentation: https://pandas.pydata.org/pandas-docs/stable/user_guide/indexing.html#returning-a-view-versus-a-copy\n",
            "  data[\"Icerik\"][i]=site_veri_getir(str(data_csv[\"Link\"][i]))\n"
          ]
        },
        {
          "output_type": "stream",
          "name": "stdout",
          "text": [
            "Hata\n",
            "Sıra : 2860/3042\n"
          ]
        },
        {
          "output_type": "stream",
          "name": "stderr",
          "text": [
            "<ipython-input-10-06dd2b37a1f1>:9: SettingWithCopyWarning: \n",
            "A value is trying to be set on a copy of a slice from a DataFrame\n",
            "\n",
            "See the caveats in the documentation: https://pandas.pydata.org/pandas-docs/stable/user_guide/indexing.html#returning-a-view-versus-a-copy\n",
            "  data[\"Icerik\"][i]=site_veri_getir(str(data_csv[\"Link\"][i]))\n"
          ]
        },
        {
          "output_type": "stream",
          "name": "stdout",
          "text": [
            "Hata\n",
            "Sıra : 2861/3042\n"
          ]
        },
        {
          "output_type": "stream",
          "name": "stderr",
          "text": [
            "<ipython-input-10-06dd2b37a1f1>:9: SettingWithCopyWarning: \n",
            "A value is trying to be set on a copy of a slice from a DataFrame\n",
            "\n",
            "See the caveats in the documentation: https://pandas.pydata.org/pandas-docs/stable/user_guide/indexing.html#returning-a-view-versus-a-copy\n",
            "  data[\"Icerik\"][i]=site_veri_getir(str(data_csv[\"Link\"][i]))\n"
          ]
        },
        {
          "output_type": "stream",
          "name": "stdout",
          "text": [
            "Hata\n",
            "Sıra : 2862/3042\n"
          ]
        },
        {
          "output_type": "stream",
          "name": "stderr",
          "text": [
            "<ipython-input-10-06dd2b37a1f1>:9: SettingWithCopyWarning: \n",
            "A value is trying to be set on a copy of a slice from a DataFrame\n",
            "\n",
            "See the caveats in the documentation: https://pandas.pydata.org/pandas-docs/stable/user_guide/indexing.html#returning-a-view-versus-a-copy\n",
            "  data[\"Icerik\"][i]=site_veri_getir(str(data_csv[\"Link\"][i]))\n"
          ]
        },
        {
          "output_type": "stream",
          "name": "stdout",
          "text": [
            "Hata\n",
            "Sıra : 2863/3042\n"
          ]
        },
        {
          "output_type": "stream",
          "name": "stderr",
          "text": [
            "<ipython-input-10-06dd2b37a1f1>:9: SettingWithCopyWarning: \n",
            "A value is trying to be set on a copy of a slice from a DataFrame\n",
            "\n",
            "See the caveats in the documentation: https://pandas.pydata.org/pandas-docs/stable/user_guide/indexing.html#returning-a-view-versus-a-copy\n",
            "  data[\"Icerik\"][i]=site_veri_getir(str(data_csv[\"Link\"][i]))\n"
          ]
        },
        {
          "output_type": "stream",
          "name": "stdout",
          "text": [
            "Hata\n",
            "Sıra : 2864/3042\n"
          ]
        },
        {
          "output_type": "stream",
          "name": "stderr",
          "text": [
            "<ipython-input-10-06dd2b37a1f1>:9: SettingWithCopyWarning: \n",
            "A value is trying to be set on a copy of a slice from a DataFrame\n",
            "\n",
            "See the caveats in the documentation: https://pandas.pydata.org/pandas-docs/stable/user_guide/indexing.html#returning-a-view-versus-a-copy\n",
            "  data[\"Icerik\"][i]=site_veri_getir(str(data_csv[\"Link\"][i]))\n"
          ]
        },
        {
          "output_type": "stream",
          "name": "stdout",
          "text": [
            "Hata\n",
            "Sıra : 2865/3042\n"
          ]
        },
        {
          "output_type": "stream",
          "name": "stderr",
          "text": [
            "<ipython-input-10-06dd2b37a1f1>:9: SettingWithCopyWarning: \n",
            "A value is trying to be set on a copy of a slice from a DataFrame\n",
            "\n",
            "See the caveats in the documentation: https://pandas.pydata.org/pandas-docs/stable/user_guide/indexing.html#returning-a-view-versus-a-copy\n",
            "  data[\"Icerik\"][i]=site_veri_getir(str(data_csv[\"Link\"][i]))\n"
          ]
        },
        {
          "output_type": "stream",
          "name": "stdout",
          "text": [
            "Hata\n",
            "Sıra : 2866/3042\n"
          ]
        },
        {
          "output_type": "stream",
          "name": "stderr",
          "text": [
            "<ipython-input-10-06dd2b37a1f1>:9: SettingWithCopyWarning: \n",
            "A value is trying to be set on a copy of a slice from a DataFrame\n",
            "\n",
            "See the caveats in the documentation: https://pandas.pydata.org/pandas-docs/stable/user_guide/indexing.html#returning-a-view-versus-a-copy\n",
            "  data[\"Icerik\"][i]=site_veri_getir(str(data_csv[\"Link\"][i]))\n"
          ]
        },
        {
          "output_type": "stream",
          "name": "stdout",
          "text": [
            "Hata\n",
            "Sıra : 2867/3042\n"
          ]
        },
        {
          "output_type": "stream",
          "name": "stderr",
          "text": [
            "<ipython-input-10-06dd2b37a1f1>:9: SettingWithCopyWarning: \n",
            "A value is trying to be set on a copy of a slice from a DataFrame\n",
            "\n",
            "See the caveats in the documentation: https://pandas.pydata.org/pandas-docs/stable/user_guide/indexing.html#returning-a-view-versus-a-copy\n",
            "  data[\"Icerik\"][i]=site_veri_getir(str(data_csv[\"Link\"][i]))\n"
          ]
        },
        {
          "output_type": "stream",
          "name": "stdout",
          "text": [
            "Hata\n",
            "Sıra : 2868/3042\n"
          ]
        },
        {
          "output_type": "stream",
          "name": "stderr",
          "text": [
            "<ipython-input-10-06dd2b37a1f1>:9: SettingWithCopyWarning: \n",
            "A value is trying to be set on a copy of a slice from a DataFrame\n",
            "\n",
            "See the caveats in the documentation: https://pandas.pydata.org/pandas-docs/stable/user_guide/indexing.html#returning-a-view-versus-a-copy\n",
            "  data[\"Icerik\"][i]=site_veri_getir(str(data_csv[\"Link\"][i]))\n"
          ]
        },
        {
          "output_type": "stream",
          "name": "stdout",
          "text": [
            "Hata\n",
            "Sıra : 2869/3042\n"
          ]
        },
        {
          "output_type": "stream",
          "name": "stderr",
          "text": [
            "<ipython-input-10-06dd2b37a1f1>:9: SettingWithCopyWarning: \n",
            "A value is trying to be set on a copy of a slice from a DataFrame\n",
            "\n",
            "See the caveats in the documentation: https://pandas.pydata.org/pandas-docs/stable/user_guide/indexing.html#returning-a-view-versus-a-copy\n",
            "  data[\"Icerik\"][i]=site_veri_getir(str(data_csv[\"Link\"][i]))\n"
          ]
        },
        {
          "output_type": "stream",
          "name": "stdout",
          "text": [
            "Hata\n",
            "Sıra : 2870/3042\n"
          ]
        },
        {
          "output_type": "stream",
          "name": "stderr",
          "text": [
            "<ipython-input-10-06dd2b37a1f1>:9: SettingWithCopyWarning: \n",
            "A value is trying to be set on a copy of a slice from a DataFrame\n",
            "\n",
            "See the caveats in the documentation: https://pandas.pydata.org/pandas-docs/stable/user_guide/indexing.html#returning-a-view-versus-a-copy\n",
            "  data[\"Icerik\"][i]=site_veri_getir(str(data_csv[\"Link\"][i]))\n"
          ]
        },
        {
          "output_type": "stream",
          "name": "stdout",
          "text": [
            "Hata\n",
            "Sıra : 2871/3042\n"
          ]
        },
        {
          "output_type": "stream",
          "name": "stderr",
          "text": [
            "<ipython-input-10-06dd2b37a1f1>:9: SettingWithCopyWarning: \n",
            "A value is trying to be set on a copy of a slice from a DataFrame\n",
            "\n",
            "See the caveats in the documentation: https://pandas.pydata.org/pandas-docs/stable/user_guide/indexing.html#returning-a-view-versus-a-copy\n",
            "  data[\"Icerik\"][i]=site_veri_getir(str(data_csv[\"Link\"][i]))\n"
          ]
        },
        {
          "output_type": "stream",
          "name": "stdout",
          "text": [
            "Hata\n",
            "Sıra : 2872/3042\n"
          ]
        },
        {
          "output_type": "stream",
          "name": "stderr",
          "text": [
            "<ipython-input-10-06dd2b37a1f1>:9: SettingWithCopyWarning: \n",
            "A value is trying to be set on a copy of a slice from a DataFrame\n",
            "\n",
            "See the caveats in the documentation: https://pandas.pydata.org/pandas-docs/stable/user_guide/indexing.html#returning-a-view-versus-a-copy\n",
            "  data[\"Icerik\"][i]=site_veri_getir(str(data_csv[\"Link\"][i]))\n"
          ]
        },
        {
          "output_type": "stream",
          "name": "stdout",
          "text": [
            "Hata\n",
            "Sıra : 2873/3042\n"
          ]
        },
        {
          "output_type": "stream",
          "name": "stderr",
          "text": [
            "<ipython-input-10-06dd2b37a1f1>:9: SettingWithCopyWarning: \n",
            "A value is trying to be set on a copy of a slice from a DataFrame\n",
            "\n",
            "See the caveats in the documentation: https://pandas.pydata.org/pandas-docs/stable/user_guide/indexing.html#returning-a-view-versus-a-copy\n",
            "  data[\"Icerik\"][i]=site_veri_getir(str(data_csv[\"Link\"][i]))\n"
          ]
        },
        {
          "output_type": "stream",
          "name": "stdout",
          "text": [
            "Hata\n",
            "Sıra : 2874/3042\n"
          ]
        },
        {
          "output_type": "stream",
          "name": "stderr",
          "text": [
            "<ipython-input-10-06dd2b37a1f1>:9: SettingWithCopyWarning: \n",
            "A value is trying to be set on a copy of a slice from a DataFrame\n",
            "\n",
            "See the caveats in the documentation: https://pandas.pydata.org/pandas-docs/stable/user_guide/indexing.html#returning-a-view-versus-a-copy\n",
            "  data[\"Icerik\"][i]=site_veri_getir(str(data_csv[\"Link\"][i]))\n"
          ]
        },
        {
          "output_type": "stream",
          "name": "stdout",
          "text": [
            "Hata\n",
            "Sıra : 2875/3042\n"
          ]
        },
        {
          "output_type": "stream",
          "name": "stderr",
          "text": [
            "<ipython-input-10-06dd2b37a1f1>:9: SettingWithCopyWarning: \n",
            "A value is trying to be set on a copy of a slice from a DataFrame\n",
            "\n",
            "See the caveats in the documentation: https://pandas.pydata.org/pandas-docs/stable/user_guide/indexing.html#returning-a-view-versus-a-copy\n",
            "  data[\"Icerik\"][i]=site_veri_getir(str(data_csv[\"Link\"][i]))\n"
          ]
        },
        {
          "output_type": "stream",
          "name": "stdout",
          "text": [
            "Hata\n",
            "Sıra : 2876/3042\n"
          ]
        },
        {
          "output_type": "stream",
          "name": "stderr",
          "text": [
            "<ipython-input-10-06dd2b37a1f1>:9: SettingWithCopyWarning: \n",
            "A value is trying to be set on a copy of a slice from a DataFrame\n",
            "\n",
            "See the caveats in the documentation: https://pandas.pydata.org/pandas-docs/stable/user_guide/indexing.html#returning-a-view-versus-a-copy\n",
            "  data[\"Icerik\"][i]=site_veri_getir(str(data_csv[\"Link\"][i]))\n"
          ]
        },
        {
          "output_type": "stream",
          "name": "stdout",
          "text": [
            "Hata\n",
            "Sıra : 2877/3042\n"
          ]
        },
        {
          "output_type": "stream",
          "name": "stderr",
          "text": [
            "<ipython-input-10-06dd2b37a1f1>:9: SettingWithCopyWarning: \n",
            "A value is trying to be set on a copy of a slice from a DataFrame\n",
            "\n",
            "See the caveats in the documentation: https://pandas.pydata.org/pandas-docs/stable/user_guide/indexing.html#returning-a-view-versus-a-copy\n",
            "  data[\"Icerik\"][i]=site_veri_getir(str(data_csv[\"Link\"][i]))\n"
          ]
        },
        {
          "output_type": "stream",
          "name": "stdout",
          "text": [
            "Hata\n",
            "Sıra : 2878/3042\n"
          ]
        },
        {
          "output_type": "stream",
          "name": "stderr",
          "text": [
            "<ipython-input-10-06dd2b37a1f1>:9: SettingWithCopyWarning: \n",
            "A value is trying to be set on a copy of a slice from a DataFrame\n",
            "\n",
            "See the caveats in the documentation: https://pandas.pydata.org/pandas-docs/stable/user_guide/indexing.html#returning-a-view-versus-a-copy\n",
            "  data[\"Icerik\"][i]=site_veri_getir(str(data_csv[\"Link\"][i]))\n"
          ]
        },
        {
          "output_type": "stream",
          "name": "stdout",
          "text": [
            "Hata\n",
            "Sıra : 2879/3042\n"
          ]
        },
        {
          "output_type": "stream",
          "name": "stderr",
          "text": [
            "<ipython-input-10-06dd2b37a1f1>:9: SettingWithCopyWarning: \n",
            "A value is trying to be set on a copy of a slice from a DataFrame\n",
            "\n",
            "See the caveats in the documentation: https://pandas.pydata.org/pandas-docs/stable/user_guide/indexing.html#returning-a-view-versus-a-copy\n",
            "  data[\"Icerik\"][i]=site_veri_getir(str(data_csv[\"Link\"][i]))\n"
          ]
        },
        {
          "output_type": "stream",
          "name": "stdout",
          "text": [
            "Hata\n",
            "Sıra : 2880/3042\n"
          ]
        },
        {
          "output_type": "stream",
          "name": "stderr",
          "text": [
            "<ipython-input-10-06dd2b37a1f1>:9: SettingWithCopyWarning: \n",
            "A value is trying to be set on a copy of a slice from a DataFrame\n",
            "\n",
            "See the caveats in the documentation: https://pandas.pydata.org/pandas-docs/stable/user_guide/indexing.html#returning-a-view-versus-a-copy\n",
            "  data[\"Icerik\"][i]=site_veri_getir(str(data_csv[\"Link\"][i]))\n"
          ]
        },
        {
          "output_type": "stream",
          "name": "stdout",
          "text": [
            "Hata\n",
            "Sıra : 2881/3042\n"
          ]
        },
        {
          "output_type": "stream",
          "name": "stderr",
          "text": [
            "<ipython-input-10-06dd2b37a1f1>:9: SettingWithCopyWarning: \n",
            "A value is trying to be set on a copy of a slice from a DataFrame\n",
            "\n",
            "See the caveats in the documentation: https://pandas.pydata.org/pandas-docs/stable/user_guide/indexing.html#returning-a-view-versus-a-copy\n",
            "  data[\"Icerik\"][i]=site_veri_getir(str(data_csv[\"Link\"][i]))\n"
          ]
        },
        {
          "output_type": "stream",
          "name": "stdout",
          "text": [
            "Hata\n",
            "Sıra : 2882/3042\n"
          ]
        },
        {
          "output_type": "stream",
          "name": "stderr",
          "text": [
            "<ipython-input-10-06dd2b37a1f1>:9: SettingWithCopyWarning: \n",
            "A value is trying to be set on a copy of a slice from a DataFrame\n",
            "\n",
            "See the caveats in the documentation: https://pandas.pydata.org/pandas-docs/stable/user_guide/indexing.html#returning-a-view-versus-a-copy\n",
            "  data[\"Icerik\"][i]=site_veri_getir(str(data_csv[\"Link\"][i]))\n"
          ]
        },
        {
          "output_type": "stream",
          "name": "stdout",
          "text": [
            "Hata\n",
            "Sıra : 2883/3042\n"
          ]
        },
        {
          "output_type": "stream",
          "name": "stderr",
          "text": [
            "<ipython-input-10-06dd2b37a1f1>:9: SettingWithCopyWarning: \n",
            "A value is trying to be set on a copy of a slice from a DataFrame\n",
            "\n",
            "See the caveats in the documentation: https://pandas.pydata.org/pandas-docs/stable/user_guide/indexing.html#returning-a-view-versus-a-copy\n",
            "  data[\"Icerik\"][i]=site_veri_getir(str(data_csv[\"Link\"][i]))\n"
          ]
        },
        {
          "output_type": "stream",
          "name": "stdout",
          "text": [
            "Hata\n",
            "Sıra : 2884/3042\n"
          ]
        },
        {
          "output_type": "stream",
          "name": "stderr",
          "text": [
            "<ipython-input-10-06dd2b37a1f1>:9: SettingWithCopyWarning: \n",
            "A value is trying to be set on a copy of a slice from a DataFrame\n",
            "\n",
            "See the caveats in the documentation: https://pandas.pydata.org/pandas-docs/stable/user_guide/indexing.html#returning-a-view-versus-a-copy\n",
            "  data[\"Icerik\"][i]=site_veri_getir(str(data_csv[\"Link\"][i]))\n"
          ]
        },
        {
          "output_type": "stream",
          "name": "stdout",
          "text": [
            "Hata\n",
            "Sıra : 2885/3042\n"
          ]
        },
        {
          "output_type": "stream",
          "name": "stderr",
          "text": [
            "<ipython-input-10-06dd2b37a1f1>:9: SettingWithCopyWarning: \n",
            "A value is trying to be set on a copy of a slice from a DataFrame\n",
            "\n",
            "See the caveats in the documentation: https://pandas.pydata.org/pandas-docs/stable/user_guide/indexing.html#returning-a-view-versus-a-copy\n",
            "  data[\"Icerik\"][i]=site_veri_getir(str(data_csv[\"Link\"][i]))\n"
          ]
        },
        {
          "output_type": "stream",
          "name": "stdout",
          "text": [
            "Hata\n",
            "Sıra : 2886/3042\n"
          ]
        },
        {
          "output_type": "stream",
          "name": "stderr",
          "text": [
            "<ipython-input-10-06dd2b37a1f1>:9: SettingWithCopyWarning: \n",
            "A value is trying to be set on a copy of a slice from a DataFrame\n",
            "\n",
            "See the caveats in the documentation: https://pandas.pydata.org/pandas-docs/stable/user_guide/indexing.html#returning-a-view-versus-a-copy\n",
            "  data[\"Icerik\"][i]=site_veri_getir(str(data_csv[\"Link\"][i]))\n"
          ]
        },
        {
          "output_type": "stream",
          "name": "stdout",
          "text": [
            "Hata\n",
            "Sıra : 2887/3042\n"
          ]
        },
        {
          "output_type": "stream",
          "name": "stderr",
          "text": [
            "<ipython-input-10-06dd2b37a1f1>:9: SettingWithCopyWarning: \n",
            "A value is trying to be set on a copy of a slice from a DataFrame\n",
            "\n",
            "See the caveats in the documentation: https://pandas.pydata.org/pandas-docs/stable/user_guide/indexing.html#returning-a-view-versus-a-copy\n",
            "  data[\"Icerik\"][i]=site_veri_getir(str(data_csv[\"Link\"][i]))\n"
          ]
        },
        {
          "output_type": "stream",
          "name": "stdout",
          "text": [
            "Hata\n",
            "Sıra : 2888/3042\n"
          ]
        },
        {
          "output_type": "stream",
          "name": "stderr",
          "text": [
            "<ipython-input-10-06dd2b37a1f1>:9: SettingWithCopyWarning: \n",
            "A value is trying to be set on a copy of a slice from a DataFrame\n",
            "\n",
            "See the caveats in the documentation: https://pandas.pydata.org/pandas-docs/stable/user_guide/indexing.html#returning-a-view-versus-a-copy\n",
            "  data[\"Icerik\"][i]=site_veri_getir(str(data_csv[\"Link\"][i]))\n"
          ]
        },
        {
          "output_type": "stream",
          "name": "stdout",
          "text": [
            "Hata\n",
            "Sıra : 2889/3042\n"
          ]
        },
        {
          "output_type": "stream",
          "name": "stderr",
          "text": [
            "<ipython-input-10-06dd2b37a1f1>:9: SettingWithCopyWarning: \n",
            "A value is trying to be set on a copy of a slice from a DataFrame\n",
            "\n",
            "See the caveats in the documentation: https://pandas.pydata.org/pandas-docs/stable/user_guide/indexing.html#returning-a-view-versus-a-copy\n",
            "  data[\"Icerik\"][i]=site_veri_getir(str(data_csv[\"Link\"][i]))\n"
          ]
        },
        {
          "output_type": "stream",
          "name": "stdout",
          "text": [
            "Hata\n",
            "Sıra : 2890/3042\n"
          ]
        },
        {
          "output_type": "stream",
          "name": "stderr",
          "text": [
            "<ipython-input-10-06dd2b37a1f1>:9: SettingWithCopyWarning: \n",
            "A value is trying to be set on a copy of a slice from a DataFrame\n",
            "\n",
            "See the caveats in the documentation: https://pandas.pydata.org/pandas-docs/stable/user_guide/indexing.html#returning-a-view-versus-a-copy\n",
            "  data[\"Icerik\"][i]=site_veri_getir(str(data_csv[\"Link\"][i]))\n"
          ]
        },
        {
          "output_type": "stream",
          "name": "stdout",
          "text": [
            "Hata\n",
            "Sıra : 2891/3042\n"
          ]
        },
        {
          "output_type": "stream",
          "name": "stderr",
          "text": [
            "<ipython-input-10-06dd2b37a1f1>:9: SettingWithCopyWarning: \n",
            "A value is trying to be set on a copy of a slice from a DataFrame\n",
            "\n",
            "See the caveats in the documentation: https://pandas.pydata.org/pandas-docs/stable/user_guide/indexing.html#returning-a-view-versus-a-copy\n",
            "  data[\"Icerik\"][i]=site_veri_getir(str(data_csv[\"Link\"][i]))\n"
          ]
        },
        {
          "output_type": "stream",
          "name": "stdout",
          "text": [
            "Hata\n",
            "Sıra : 2892/3042\n"
          ]
        },
        {
          "output_type": "stream",
          "name": "stderr",
          "text": [
            "<ipython-input-10-06dd2b37a1f1>:9: SettingWithCopyWarning: \n",
            "A value is trying to be set on a copy of a slice from a DataFrame\n",
            "\n",
            "See the caveats in the documentation: https://pandas.pydata.org/pandas-docs/stable/user_guide/indexing.html#returning-a-view-versus-a-copy\n",
            "  data[\"Icerik\"][i]=site_veri_getir(str(data_csv[\"Link\"][i]))\n"
          ]
        },
        {
          "output_type": "stream",
          "name": "stdout",
          "text": [
            "Hata\n",
            "Sıra : 2893/3042\n"
          ]
        },
        {
          "output_type": "stream",
          "name": "stderr",
          "text": [
            "<ipython-input-10-06dd2b37a1f1>:9: SettingWithCopyWarning: \n",
            "A value is trying to be set on a copy of a slice from a DataFrame\n",
            "\n",
            "See the caveats in the documentation: https://pandas.pydata.org/pandas-docs/stable/user_guide/indexing.html#returning-a-view-versus-a-copy\n",
            "  data[\"Icerik\"][i]=site_veri_getir(str(data_csv[\"Link\"][i]))\n"
          ]
        },
        {
          "output_type": "stream",
          "name": "stdout",
          "text": [
            "Hata\n",
            "Sıra : 2894/3042\n"
          ]
        },
        {
          "output_type": "stream",
          "name": "stderr",
          "text": [
            "<ipython-input-10-06dd2b37a1f1>:9: SettingWithCopyWarning: \n",
            "A value is trying to be set on a copy of a slice from a DataFrame\n",
            "\n",
            "See the caveats in the documentation: https://pandas.pydata.org/pandas-docs/stable/user_guide/indexing.html#returning-a-view-versus-a-copy\n",
            "  data[\"Icerik\"][i]=site_veri_getir(str(data_csv[\"Link\"][i]))\n"
          ]
        },
        {
          "output_type": "stream",
          "name": "stdout",
          "text": [
            "Hata\n",
            "Sıra : 2895/3042\n"
          ]
        },
        {
          "output_type": "stream",
          "name": "stderr",
          "text": [
            "<ipython-input-10-06dd2b37a1f1>:9: SettingWithCopyWarning: \n",
            "A value is trying to be set on a copy of a slice from a DataFrame\n",
            "\n",
            "See the caveats in the documentation: https://pandas.pydata.org/pandas-docs/stable/user_guide/indexing.html#returning-a-view-versus-a-copy\n",
            "  data[\"Icerik\"][i]=site_veri_getir(str(data_csv[\"Link\"][i]))\n"
          ]
        },
        {
          "output_type": "stream",
          "name": "stdout",
          "text": [
            "Hata\n",
            "Sıra : 2896/3042\n"
          ]
        },
        {
          "output_type": "stream",
          "name": "stderr",
          "text": [
            "<ipython-input-10-06dd2b37a1f1>:9: SettingWithCopyWarning: \n",
            "A value is trying to be set on a copy of a slice from a DataFrame\n",
            "\n",
            "See the caveats in the documentation: https://pandas.pydata.org/pandas-docs/stable/user_guide/indexing.html#returning-a-view-versus-a-copy\n",
            "  data[\"Icerik\"][i]=site_veri_getir(str(data_csv[\"Link\"][i]))\n"
          ]
        },
        {
          "output_type": "stream",
          "name": "stdout",
          "text": [
            "Hata\n",
            "Sıra : 2897/3042\n"
          ]
        },
        {
          "output_type": "stream",
          "name": "stderr",
          "text": [
            "<ipython-input-10-06dd2b37a1f1>:9: SettingWithCopyWarning: \n",
            "A value is trying to be set on a copy of a slice from a DataFrame\n",
            "\n",
            "See the caveats in the documentation: https://pandas.pydata.org/pandas-docs/stable/user_guide/indexing.html#returning-a-view-versus-a-copy\n",
            "  data[\"Icerik\"][i]=site_veri_getir(str(data_csv[\"Link\"][i]))\n"
          ]
        },
        {
          "output_type": "stream",
          "name": "stdout",
          "text": [
            "Hata\n",
            "Sıra : 2898/3042\n"
          ]
        },
        {
          "output_type": "stream",
          "name": "stderr",
          "text": [
            "<ipython-input-10-06dd2b37a1f1>:9: SettingWithCopyWarning: \n",
            "A value is trying to be set on a copy of a slice from a DataFrame\n",
            "\n",
            "See the caveats in the documentation: https://pandas.pydata.org/pandas-docs/stable/user_guide/indexing.html#returning-a-view-versus-a-copy\n",
            "  data[\"Icerik\"][i]=site_veri_getir(str(data_csv[\"Link\"][i]))\n"
          ]
        },
        {
          "output_type": "stream",
          "name": "stdout",
          "text": [
            "Hata\n",
            "Sıra : 2899/3042\n"
          ]
        },
        {
          "output_type": "stream",
          "name": "stderr",
          "text": [
            "<ipython-input-10-06dd2b37a1f1>:9: SettingWithCopyWarning: \n",
            "A value is trying to be set on a copy of a slice from a DataFrame\n",
            "\n",
            "See the caveats in the documentation: https://pandas.pydata.org/pandas-docs/stable/user_guide/indexing.html#returning-a-view-versus-a-copy\n",
            "  data[\"Icerik\"][i]=site_veri_getir(str(data_csv[\"Link\"][i]))\n"
          ]
        },
        {
          "output_type": "stream",
          "name": "stdout",
          "text": [
            "Hata\n",
            "Sıra : 2900/3042\n"
          ]
        },
        {
          "output_type": "stream",
          "name": "stderr",
          "text": [
            "<ipython-input-10-06dd2b37a1f1>:9: SettingWithCopyWarning: \n",
            "A value is trying to be set on a copy of a slice from a DataFrame\n",
            "\n",
            "See the caveats in the documentation: https://pandas.pydata.org/pandas-docs/stable/user_guide/indexing.html#returning-a-view-versus-a-copy\n",
            "  data[\"Icerik\"][i]=site_veri_getir(str(data_csv[\"Link\"][i]))\n"
          ]
        },
        {
          "output_type": "stream",
          "name": "stdout",
          "text": [
            "Hata\n",
            "Sıra : 2901/3042\n"
          ]
        },
        {
          "output_type": "stream",
          "name": "stderr",
          "text": [
            "<ipython-input-10-06dd2b37a1f1>:9: SettingWithCopyWarning: \n",
            "A value is trying to be set on a copy of a slice from a DataFrame\n",
            "\n",
            "See the caveats in the documentation: https://pandas.pydata.org/pandas-docs/stable/user_guide/indexing.html#returning-a-view-versus-a-copy\n",
            "  data[\"Icerik\"][i]=site_veri_getir(str(data_csv[\"Link\"][i]))\n"
          ]
        },
        {
          "output_type": "stream",
          "name": "stdout",
          "text": [
            "Hata\n",
            "Sıra : 2902/3042\n"
          ]
        },
        {
          "output_type": "stream",
          "name": "stderr",
          "text": [
            "<ipython-input-10-06dd2b37a1f1>:9: SettingWithCopyWarning: \n",
            "A value is trying to be set on a copy of a slice from a DataFrame\n",
            "\n",
            "See the caveats in the documentation: https://pandas.pydata.org/pandas-docs/stable/user_guide/indexing.html#returning-a-view-versus-a-copy\n",
            "  data[\"Icerik\"][i]=site_veri_getir(str(data_csv[\"Link\"][i]))\n"
          ]
        },
        {
          "output_type": "stream",
          "name": "stdout",
          "text": [
            "Hata\n",
            "Sıra : 2903/3042\n"
          ]
        },
        {
          "output_type": "stream",
          "name": "stderr",
          "text": [
            "<ipython-input-10-06dd2b37a1f1>:9: SettingWithCopyWarning: \n",
            "A value is trying to be set on a copy of a slice from a DataFrame\n",
            "\n",
            "See the caveats in the documentation: https://pandas.pydata.org/pandas-docs/stable/user_guide/indexing.html#returning-a-view-versus-a-copy\n",
            "  data[\"Icerik\"][i]=site_veri_getir(str(data_csv[\"Link\"][i]))\n"
          ]
        },
        {
          "output_type": "stream",
          "name": "stdout",
          "text": [
            "Hata\n",
            "Sıra : 2904/3042\n"
          ]
        },
        {
          "output_type": "stream",
          "name": "stderr",
          "text": [
            "<ipython-input-10-06dd2b37a1f1>:9: SettingWithCopyWarning: \n",
            "A value is trying to be set on a copy of a slice from a DataFrame\n",
            "\n",
            "See the caveats in the documentation: https://pandas.pydata.org/pandas-docs/stable/user_guide/indexing.html#returning-a-view-versus-a-copy\n",
            "  data[\"Icerik\"][i]=site_veri_getir(str(data_csv[\"Link\"][i]))\n"
          ]
        },
        {
          "output_type": "stream",
          "name": "stdout",
          "text": [
            "Hata\n",
            "Sıra : 2905/3042\n"
          ]
        },
        {
          "output_type": "stream",
          "name": "stderr",
          "text": [
            "<ipython-input-10-06dd2b37a1f1>:9: SettingWithCopyWarning: \n",
            "A value is trying to be set on a copy of a slice from a DataFrame\n",
            "\n",
            "See the caveats in the documentation: https://pandas.pydata.org/pandas-docs/stable/user_guide/indexing.html#returning-a-view-versus-a-copy\n",
            "  data[\"Icerik\"][i]=site_veri_getir(str(data_csv[\"Link\"][i]))\n"
          ]
        },
        {
          "output_type": "stream",
          "name": "stdout",
          "text": [
            "Hata\n",
            "Sıra : 2906/3042\n"
          ]
        },
        {
          "output_type": "stream",
          "name": "stderr",
          "text": [
            "<ipython-input-10-06dd2b37a1f1>:9: SettingWithCopyWarning: \n",
            "A value is trying to be set on a copy of a slice from a DataFrame\n",
            "\n",
            "See the caveats in the documentation: https://pandas.pydata.org/pandas-docs/stable/user_guide/indexing.html#returning-a-view-versus-a-copy\n",
            "  data[\"Icerik\"][i]=site_veri_getir(str(data_csv[\"Link\"][i]))\n"
          ]
        },
        {
          "output_type": "stream",
          "name": "stdout",
          "text": [
            "Hata\n",
            "Sıra : 2907/3042\n"
          ]
        },
        {
          "output_type": "stream",
          "name": "stderr",
          "text": [
            "<ipython-input-10-06dd2b37a1f1>:9: SettingWithCopyWarning: \n",
            "A value is trying to be set on a copy of a slice from a DataFrame\n",
            "\n",
            "See the caveats in the documentation: https://pandas.pydata.org/pandas-docs/stable/user_guide/indexing.html#returning-a-view-versus-a-copy\n",
            "  data[\"Icerik\"][i]=site_veri_getir(str(data_csv[\"Link\"][i]))\n"
          ]
        },
        {
          "output_type": "stream",
          "name": "stdout",
          "text": [
            "Hata\n",
            "Sıra : 2908/3042\n"
          ]
        },
        {
          "output_type": "stream",
          "name": "stderr",
          "text": [
            "<ipython-input-10-06dd2b37a1f1>:9: SettingWithCopyWarning: \n",
            "A value is trying to be set on a copy of a slice from a DataFrame\n",
            "\n",
            "See the caveats in the documentation: https://pandas.pydata.org/pandas-docs/stable/user_guide/indexing.html#returning-a-view-versus-a-copy\n",
            "  data[\"Icerik\"][i]=site_veri_getir(str(data_csv[\"Link\"][i]))\n"
          ]
        },
        {
          "output_type": "stream",
          "name": "stdout",
          "text": [
            "Hata\n",
            "Sıra : 2909/3042\n"
          ]
        },
        {
          "output_type": "stream",
          "name": "stderr",
          "text": [
            "<ipython-input-10-06dd2b37a1f1>:9: SettingWithCopyWarning: \n",
            "A value is trying to be set on a copy of a slice from a DataFrame\n",
            "\n",
            "See the caveats in the documentation: https://pandas.pydata.org/pandas-docs/stable/user_guide/indexing.html#returning-a-view-versus-a-copy\n",
            "  data[\"Icerik\"][i]=site_veri_getir(str(data_csv[\"Link\"][i]))\n"
          ]
        },
        {
          "output_type": "stream",
          "name": "stdout",
          "text": [
            "Hata\n",
            "Sıra : 2910/3042\n"
          ]
        },
        {
          "output_type": "stream",
          "name": "stderr",
          "text": [
            "<ipython-input-10-06dd2b37a1f1>:9: SettingWithCopyWarning: \n",
            "A value is trying to be set on a copy of a slice from a DataFrame\n",
            "\n",
            "See the caveats in the documentation: https://pandas.pydata.org/pandas-docs/stable/user_guide/indexing.html#returning-a-view-versus-a-copy\n",
            "  data[\"Icerik\"][i]=site_veri_getir(str(data_csv[\"Link\"][i]))\n"
          ]
        },
        {
          "output_type": "stream",
          "name": "stdout",
          "text": [
            "Hata\n",
            "Sıra : 2911/3042\n"
          ]
        },
        {
          "output_type": "stream",
          "name": "stderr",
          "text": [
            "<ipython-input-10-06dd2b37a1f1>:9: SettingWithCopyWarning: \n",
            "A value is trying to be set on a copy of a slice from a DataFrame\n",
            "\n",
            "See the caveats in the documentation: https://pandas.pydata.org/pandas-docs/stable/user_guide/indexing.html#returning-a-view-versus-a-copy\n",
            "  data[\"Icerik\"][i]=site_veri_getir(str(data_csv[\"Link\"][i]))\n"
          ]
        },
        {
          "output_type": "stream",
          "name": "stdout",
          "text": [
            "Hata\n",
            "Sıra : 2912/3042\n"
          ]
        },
        {
          "output_type": "stream",
          "name": "stderr",
          "text": [
            "<ipython-input-10-06dd2b37a1f1>:9: SettingWithCopyWarning: \n",
            "A value is trying to be set on a copy of a slice from a DataFrame\n",
            "\n",
            "See the caveats in the documentation: https://pandas.pydata.org/pandas-docs/stable/user_guide/indexing.html#returning-a-view-versus-a-copy\n",
            "  data[\"Icerik\"][i]=site_veri_getir(str(data_csv[\"Link\"][i]))\n"
          ]
        },
        {
          "output_type": "stream",
          "name": "stdout",
          "text": [
            "Hata\n",
            "Sıra : 2913/3042\n"
          ]
        },
        {
          "output_type": "stream",
          "name": "stderr",
          "text": [
            "<ipython-input-10-06dd2b37a1f1>:9: SettingWithCopyWarning: \n",
            "A value is trying to be set on a copy of a slice from a DataFrame\n",
            "\n",
            "See the caveats in the documentation: https://pandas.pydata.org/pandas-docs/stable/user_guide/indexing.html#returning-a-view-versus-a-copy\n",
            "  data[\"Icerik\"][i]=site_veri_getir(str(data_csv[\"Link\"][i]))\n"
          ]
        },
        {
          "output_type": "stream",
          "name": "stdout",
          "text": [
            "Hata\n",
            "Sıra : 2914/3042\n"
          ]
        },
        {
          "output_type": "stream",
          "name": "stderr",
          "text": [
            "<ipython-input-10-06dd2b37a1f1>:9: SettingWithCopyWarning: \n",
            "A value is trying to be set on a copy of a slice from a DataFrame\n",
            "\n",
            "See the caveats in the documentation: https://pandas.pydata.org/pandas-docs/stable/user_guide/indexing.html#returning-a-view-versus-a-copy\n",
            "  data[\"Icerik\"][i]=site_veri_getir(str(data_csv[\"Link\"][i]))\n"
          ]
        },
        {
          "output_type": "stream",
          "name": "stdout",
          "text": [
            "Hata\n",
            "Sıra : 2915/3042\n"
          ]
        },
        {
          "output_type": "stream",
          "name": "stderr",
          "text": [
            "<ipython-input-10-06dd2b37a1f1>:9: SettingWithCopyWarning: \n",
            "A value is trying to be set on a copy of a slice from a DataFrame\n",
            "\n",
            "See the caveats in the documentation: https://pandas.pydata.org/pandas-docs/stable/user_guide/indexing.html#returning-a-view-versus-a-copy\n",
            "  data[\"Icerik\"][i]=site_veri_getir(str(data_csv[\"Link\"][i]))\n"
          ]
        },
        {
          "output_type": "stream",
          "name": "stdout",
          "text": [
            "Hata\n",
            "Sıra : 2916/3042\n"
          ]
        },
        {
          "output_type": "stream",
          "name": "stderr",
          "text": [
            "<ipython-input-10-06dd2b37a1f1>:9: SettingWithCopyWarning: \n",
            "A value is trying to be set on a copy of a slice from a DataFrame\n",
            "\n",
            "See the caveats in the documentation: https://pandas.pydata.org/pandas-docs/stable/user_guide/indexing.html#returning-a-view-versus-a-copy\n",
            "  data[\"Icerik\"][i]=site_veri_getir(str(data_csv[\"Link\"][i]))\n"
          ]
        },
        {
          "output_type": "stream",
          "name": "stdout",
          "text": [
            "Hata\n",
            "Sıra : 2917/3042\n"
          ]
        },
        {
          "output_type": "stream",
          "name": "stderr",
          "text": [
            "<ipython-input-10-06dd2b37a1f1>:9: SettingWithCopyWarning: \n",
            "A value is trying to be set on a copy of a slice from a DataFrame\n",
            "\n",
            "See the caveats in the documentation: https://pandas.pydata.org/pandas-docs/stable/user_guide/indexing.html#returning-a-view-versus-a-copy\n",
            "  data[\"Icerik\"][i]=site_veri_getir(str(data_csv[\"Link\"][i]))\n"
          ]
        },
        {
          "output_type": "stream",
          "name": "stdout",
          "text": [
            "Hata\n",
            "Sıra : 2918/3042\n"
          ]
        },
        {
          "output_type": "stream",
          "name": "stderr",
          "text": [
            "<ipython-input-10-06dd2b37a1f1>:9: SettingWithCopyWarning: \n",
            "A value is trying to be set on a copy of a slice from a DataFrame\n",
            "\n",
            "See the caveats in the documentation: https://pandas.pydata.org/pandas-docs/stable/user_guide/indexing.html#returning-a-view-versus-a-copy\n",
            "  data[\"Icerik\"][i]=site_veri_getir(str(data_csv[\"Link\"][i]))\n"
          ]
        },
        {
          "output_type": "stream",
          "name": "stdout",
          "text": [
            "Hata\n",
            "Sıra : 2919/3042\n"
          ]
        },
        {
          "output_type": "stream",
          "name": "stderr",
          "text": [
            "<ipython-input-10-06dd2b37a1f1>:9: SettingWithCopyWarning: \n",
            "A value is trying to be set on a copy of a slice from a DataFrame\n",
            "\n",
            "See the caveats in the documentation: https://pandas.pydata.org/pandas-docs/stable/user_guide/indexing.html#returning-a-view-versus-a-copy\n",
            "  data[\"Icerik\"][i]=site_veri_getir(str(data_csv[\"Link\"][i]))\n"
          ]
        },
        {
          "output_type": "stream",
          "name": "stdout",
          "text": [
            "Hata\n",
            "Sıra : 2920/3042\n"
          ]
        },
        {
          "output_type": "stream",
          "name": "stderr",
          "text": [
            "<ipython-input-10-06dd2b37a1f1>:9: SettingWithCopyWarning: \n",
            "A value is trying to be set on a copy of a slice from a DataFrame\n",
            "\n",
            "See the caveats in the documentation: https://pandas.pydata.org/pandas-docs/stable/user_guide/indexing.html#returning-a-view-versus-a-copy\n",
            "  data[\"Icerik\"][i]=site_veri_getir(str(data_csv[\"Link\"][i]))\n"
          ]
        },
        {
          "output_type": "stream",
          "name": "stdout",
          "text": [
            "Hata\n",
            "Sıra : 2921/3042\n"
          ]
        },
        {
          "output_type": "stream",
          "name": "stderr",
          "text": [
            "<ipython-input-10-06dd2b37a1f1>:9: SettingWithCopyWarning: \n",
            "A value is trying to be set on a copy of a slice from a DataFrame\n",
            "\n",
            "See the caveats in the documentation: https://pandas.pydata.org/pandas-docs/stable/user_guide/indexing.html#returning-a-view-versus-a-copy\n",
            "  data[\"Icerik\"][i]=site_veri_getir(str(data_csv[\"Link\"][i]))\n"
          ]
        },
        {
          "output_type": "stream",
          "name": "stdout",
          "text": [
            "Hata\n",
            "Sıra : 2922/3042\n"
          ]
        },
        {
          "output_type": "stream",
          "name": "stderr",
          "text": [
            "<ipython-input-10-06dd2b37a1f1>:9: SettingWithCopyWarning: \n",
            "A value is trying to be set on a copy of a slice from a DataFrame\n",
            "\n",
            "See the caveats in the documentation: https://pandas.pydata.org/pandas-docs/stable/user_guide/indexing.html#returning-a-view-versus-a-copy\n",
            "  data[\"Icerik\"][i]=site_veri_getir(str(data_csv[\"Link\"][i]))\n"
          ]
        },
        {
          "output_type": "stream",
          "name": "stdout",
          "text": [
            "Hata\n",
            "Sıra : 2923/3042\n"
          ]
        },
        {
          "output_type": "stream",
          "name": "stderr",
          "text": [
            "<ipython-input-10-06dd2b37a1f1>:9: SettingWithCopyWarning: \n",
            "A value is trying to be set on a copy of a slice from a DataFrame\n",
            "\n",
            "See the caveats in the documentation: https://pandas.pydata.org/pandas-docs/stable/user_guide/indexing.html#returning-a-view-versus-a-copy\n",
            "  data[\"Icerik\"][i]=site_veri_getir(str(data_csv[\"Link\"][i]))\n"
          ]
        },
        {
          "output_type": "stream",
          "name": "stdout",
          "text": [
            "Hata\n",
            "Sıra : 2924/3042\n"
          ]
        },
        {
          "output_type": "stream",
          "name": "stderr",
          "text": [
            "<ipython-input-10-06dd2b37a1f1>:9: SettingWithCopyWarning: \n",
            "A value is trying to be set on a copy of a slice from a DataFrame\n",
            "\n",
            "See the caveats in the documentation: https://pandas.pydata.org/pandas-docs/stable/user_guide/indexing.html#returning-a-view-versus-a-copy\n",
            "  data[\"Icerik\"][i]=site_veri_getir(str(data_csv[\"Link\"][i]))\n"
          ]
        },
        {
          "output_type": "stream",
          "name": "stdout",
          "text": [
            "Hata\n",
            "Sıra : 2925/3042\n"
          ]
        },
        {
          "output_type": "stream",
          "name": "stderr",
          "text": [
            "<ipython-input-10-06dd2b37a1f1>:9: SettingWithCopyWarning: \n",
            "A value is trying to be set on a copy of a slice from a DataFrame\n",
            "\n",
            "See the caveats in the documentation: https://pandas.pydata.org/pandas-docs/stable/user_guide/indexing.html#returning-a-view-versus-a-copy\n",
            "  data[\"Icerik\"][i]=site_veri_getir(str(data_csv[\"Link\"][i]))\n"
          ]
        },
        {
          "output_type": "stream",
          "name": "stdout",
          "text": [
            "Hata\n",
            "Sıra : 2926/3042\n"
          ]
        },
        {
          "output_type": "stream",
          "name": "stderr",
          "text": [
            "<ipython-input-10-06dd2b37a1f1>:9: SettingWithCopyWarning: \n",
            "A value is trying to be set on a copy of a slice from a DataFrame\n",
            "\n",
            "See the caveats in the documentation: https://pandas.pydata.org/pandas-docs/stable/user_guide/indexing.html#returning-a-view-versus-a-copy\n",
            "  data[\"Icerik\"][i]=site_veri_getir(str(data_csv[\"Link\"][i]))\n"
          ]
        },
        {
          "output_type": "stream",
          "name": "stdout",
          "text": [
            "Hata\n",
            "Sıra : 2927/3042\n"
          ]
        },
        {
          "output_type": "stream",
          "name": "stderr",
          "text": [
            "<ipython-input-10-06dd2b37a1f1>:9: SettingWithCopyWarning: \n",
            "A value is trying to be set on a copy of a slice from a DataFrame\n",
            "\n",
            "See the caveats in the documentation: https://pandas.pydata.org/pandas-docs/stable/user_guide/indexing.html#returning-a-view-versus-a-copy\n",
            "  data[\"Icerik\"][i]=site_veri_getir(str(data_csv[\"Link\"][i]))\n"
          ]
        },
        {
          "output_type": "stream",
          "name": "stdout",
          "text": [
            "Hata\n",
            "Sıra : 2928/3042\n"
          ]
        },
        {
          "output_type": "stream",
          "name": "stderr",
          "text": [
            "<ipython-input-10-06dd2b37a1f1>:9: SettingWithCopyWarning: \n",
            "A value is trying to be set on a copy of a slice from a DataFrame\n",
            "\n",
            "See the caveats in the documentation: https://pandas.pydata.org/pandas-docs/stable/user_guide/indexing.html#returning-a-view-versus-a-copy\n",
            "  data[\"Icerik\"][i]=site_veri_getir(str(data_csv[\"Link\"][i]))\n"
          ]
        },
        {
          "output_type": "stream",
          "name": "stdout",
          "text": [
            "Hata\n",
            "Sıra : 2929/3042\n"
          ]
        },
        {
          "output_type": "stream",
          "name": "stderr",
          "text": [
            "<ipython-input-10-06dd2b37a1f1>:9: SettingWithCopyWarning: \n",
            "A value is trying to be set on a copy of a slice from a DataFrame\n",
            "\n",
            "See the caveats in the documentation: https://pandas.pydata.org/pandas-docs/stable/user_guide/indexing.html#returning-a-view-versus-a-copy\n",
            "  data[\"Icerik\"][i]=site_veri_getir(str(data_csv[\"Link\"][i]))\n"
          ]
        },
        {
          "output_type": "stream",
          "name": "stdout",
          "text": [
            "Hata\n",
            "Sıra : 2930/3042\n"
          ]
        },
        {
          "output_type": "stream",
          "name": "stderr",
          "text": [
            "<ipython-input-10-06dd2b37a1f1>:9: SettingWithCopyWarning: \n",
            "A value is trying to be set on a copy of a slice from a DataFrame\n",
            "\n",
            "See the caveats in the documentation: https://pandas.pydata.org/pandas-docs/stable/user_guide/indexing.html#returning-a-view-versus-a-copy\n",
            "  data[\"Icerik\"][i]=site_veri_getir(str(data_csv[\"Link\"][i]))\n"
          ]
        },
        {
          "output_type": "stream",
          "name": "stdout",
          "text": [
            "Hata\n",
            "Sıra : 2931/3042\n"
          ]
        },
        {
          "output_type": "stream",
          "name": "stderr",
          "text": [
            "<ipython-input-10-06dd2b37a1f1>:9: SettingWithCopyWarning: \n",
            "A value is trying to be set on a copy of a slice from a DataFrame\n",
            "\n",
            "See the caveats in the documentation: https://pandas.pydata.org/pandas-docs/stable/user_guide/indexing.html#returning-a-view-versus-a-copy\n",
            "  data[\"Icerik\"][i]=site_veri_getir(str(data_csv[\"Link\"][i]))\n"
          ]
        },
        {
          "output_type": "stream",
          "name": "stdout",
          "text": [
            "Hata\n",
            "Sıra : 2932/3042\n"
          ]
        },
        {
          "output_type": "stream",
          "name": "stderr",
          "text": [
            "<ipython-input-10-06dd2b37a1f1>:9: SettingWithCopyWarning: \n",
            "A value is trying to be set on a copy of a slice from a DataFrame\n",
            "\n",
            "See the caveats in the documentation: https://pandas.pydata.org/pandas-docs/stable/user_guide/indexing.html#returning-a-view-versus-a-copy\n",
            "  data[\"Icerik\"][i]=site_veri_getir(str(data_csv[\"Link\"][i]))\n"
          ]
        },
        {
          "output_type": "stream",
          "name": "stdout",
          "text": [
            "Hata\n",
            "Sıra : 2933/3042\n"
          ]
        },
        {
          "output_type": "stream",
          "name": "stderr",
          "text": [
            "<ipython-input-10-06dd2b37a1f1>:9: SettingWithCopyWarning: \n",
            "A value is trying to be set on a copy of a slice from a DataFrame\n",
            "\n",
            "See the caveats in the documentation: https://pandas.pydata.org/pandas-docs/stable/user_guide/indexing.html#returning-a-view-versus-a-copy\n",
            "  data[\"Icerik\"][i]=site_veri_getir(str(data_csv[\"Link\"][i]))\n"
          ]
        },
        {
          "output_type": "stream",
          "name": "stdout",
          "text": [
            "Hata\n",
            "Sıra : 2934/3042\n"
          ]
        },
        {
          "output_type": "stream",
          "name": "stderr",
          "text": [
            "<ipython-input-10-06dd2b37a1f1>:9: SettingWithCopyWarning: \n",
            "A value is trying to be set on a copy of a slice from a DataFrame\n",
            "\n",
            "See the caveats in the documentation: https://pandas.pydata.org/pandas-docs/stable/user_guide/indexing.html#returning-a-view-versus-a-copy\n",
            "  data[\"Icerik\"][i]=site_veri_getir(str(data_csv[\"Link\"][i]))\n"
          ]
        },
        {
          "output_type": "stream",
          "name": "stdout",
          "text": [
            "Hata\n",
            "Sıra : 2935/3042\n"
          ]
        },
        {
          "output_type": "stream",
          "name": "stderr",
          "text": [
            "<ipython-input-10-06dd2b37a1f1>:9: SettingWithCopyWarning: \n",
            "A value is trying to be set on a copy of a slice from a DataFrame\n",
            "\n",
            "See the caveats in the documentation: https://pandas.pydata.org/pandas-docs/stable/user_guide/indexing.html#returning-a-view-versus-a-copy\n",
            "  data[\"Icerik\"][i]=site_veri_getir(str(data_csv[\"Link\"][i]))\n"
          ]
        },
        {
          "output_type": "stream",
          "name": "stdout",
          "text": [
            "Hata\n",
            "Sıra : 2936/3042\n"
          ]
        },
        {
          "output_type": "stream",
          "name": "stderr",
          "text": [
            "<ipython-input-10-06dd2b37a1f1>:9: SettingWithCopyWarning: \n",
            "A value is trying to be set on a copy of a slice from a DataFrame\n",
            "\n",
            "See the caveats in the documentation: https://pandas.pydata.org/pandas-docs/stable/user_guide/indexing.html#returning-a-view-versus-a-copy\n",
            "  data[\"Icerik\"][i]=site_veri_getir(str(data_csv[\"Link\"][i]))\n"
          ]
        },
        {
          "output_type": "stream",
          "name": "stdout",
          "text": [
            "Hata\n",
            "Sıra : 2937/3042\n"
          ]
        },
        {
          "output_type": "stream",
          "name": "stderr",
          "text": [
            "<ipython-input-10-06dd2b37a1f1>:9: SettingWithCopyWarning: \n",
            "A value is trying to be set on a copy of a slice from a DataFrame\n",
            "\n",
            "See the caveats in the documentation: https://pandas.pydata.org/pandas-docs/stable/user_guide/indexing.html#returning-a-view-versus-a-copy\n",
            "  data[\"Icerik\"][i]=site_veri_getir(str(data_csv[\"Link\"][i]))\n"
          ]
        },
        {
          "output_type": "stream",
          "name": "stdout",
          "text": [
            "Hata\n",
            "Sıra : 2938/3042\n"
          ]
        },
        {
          "output_type": "stream",
          "name": "stderr",
          "text": [
            "<ipython-input-10-06dd2b37a1f1>:9: SettingWithCopyWarning: \n",
            "A value is trying to be set on a copy of a slice from a DataFrame\n",
            "\n",
            "See the caveats in the documentation: https://pandas.pydata.org/pandas-docs/stable/user_guide/indexing.html#returning-a-view-versus-a-copy\n",
            "  data[\"Icerik\"][i]=site_veri_getir(str(data_csv[\"Link\"][i]))\n"
          ]
        },
        {
          "output_type": "stream",
          "name": "stdout",
          "text": [
            "Hata\n",
            "Sıra : 2939/3042\n"
          ]
        },
        {
          "output_type": "stream",
          "name": "stderr",
          "text": [
            "<ipython-input-10-06dd2b37a1f1>:9: SettingWithCopyWarning: \n",
            "A value is trying to be set on a copy of a slice from a DataFrame\n",
            "\n",
            "See the caveats in the documentation: https://pandas.pydata.org/pandas-docs/stable/user_guide/indexing.html#returning-a-view-versus-a-copy\n",
            "  data[\"Icerik\"][i]=site_veri_getir(str(data_csv[\"Link\"][i]))\n"
          ]
        },
        {
          "output_type": "stream",
          "name": "stdout",
          "text": [
            "Hata\n",
            "Sıra : 2940/3042\n"
          ]
        },
        {
          "output_type": "stream",
          "name": "stderr",
          "text": [
            "<ipython-input-10-06dd2b37a1f1>:9: SettingWithCopyWarning: \n",
            "A value is trying to be set on a copy of a slice from a DataFrame\n",
            "\n",
            "See the caveats in the documentation: https://pandas.pydata.org/pandas-docs/stable/user_guide/indexing.html#returning-a-view-versus-a-copy\n",
            "  data[\"Icerik\"][i]=site_veri_getir(str(data_csv[\"Link\"][i]))\n"
          ]
        },
        {
          "output_type": "stream",
          "name": "stdout",
          "text": [
            "Hata\n",
            "Sıra : 2941/3042\n"
          ]
        },
        {
          "output_type": "stream",
          "name": "stderr",
          "text": [
            "<ipython-input-10-06dd2b37a1f1>:9: SettingWithCopyWarning: \n",
            "A value is trying to be set on a copy of a slice from a DataFrame\n",
            "\n",
            "See the caveats in the documentation: https://pandas.pydata.org/pandas-docs/stable/user_guide/indexing.html#returning-a-view-versus-a-copy\n",
            "  data[\"Icerik\"][i]=site_veri_getir(str(data_csv[\"Link\"][i]))\n"
          ]
        },
        {
          "output_type": "stream",
          "name": "stdout",
          "text": [
            "Hata\n",
            "Sıra : 2942/3042\n"
          ]
        },
        {
          "output_type": "stream",
          "name": "stderr",
          "text": [
            "<ipython-input-10-06dd2b37a1f1>:9: SettingWithCopyWarning: \n",
            "A value is trying to be set on a copy of a slice from a DataFrame\n",
            "\n",
            "See the caveats in the documentation: https://pandas.pydata.org/pandas-docs/stable/user_guide/indexing.html#returning-a-view-versus-a-copy\n",
            "  data[\"Icerik\"][i]=site_veri_getir(str(data_csv[\"Link\"][i]))\n"
          ]
        },
        {
          "output_type": "stream",
          "name": "stdout",
          "text": [
            "Hata\n",
            "Sıra : 2943/3042\n"
          ]
        },
        {
          "output_type": "stream",
          "name": "stderr",
          "text": [
            "<ipython-input-10-06dd2b37a1f1>:9: SettingWithCopyWarning: \n",
            "A value is trying to be set on a copy of a slice from a DataFrame\n",
            "\n",
            "See the caveats in the documentation: https://pandas.pydata.org/pandas-docs/stable/user_guide/indexing.html#returning-a-view-versus-a-copy\n",
            "  data[\"Icerik\"][i]=site_veri_getir(str(data_csv[\"Link\"][i]))\n"
          ]
        },
        {
          "output_type": "stream",
          "name": "stdout",
          "text": [
            "Hata\n",
            "Sıra : 2944/3042\n"
          ]
        },
        {
          "output_type": "stream",
          "name": "stderr",
          "text": [
            "<ipython-input-10-06dd2b37a1f1>:9: SettingWithCopyWarning: \n",
            "A value is trying to be set on a copy of a slice from a DataFrame\n",
            "\n",
            "See the caveats in the documentation: https://pandas.pydata.org/pandas-docs/stable/user_guide/indexing.html#returning-a-view-versus-a-copy\n",
            "  data[\"Icerik\"][i]=site_veri_getir(str(data_csv[\"Link\"][i]))\n"
          ]
        },
        {
          "output_type": "stream",
          "name": "stdout",
          "text": [
            "Hata\n",
            "Sıra : 2945/3042\n"
          ]
        },
        {
          "output_type": "stream",
          "name": "stderr",
          "text": [
            "<ipython-input-10-06dd2b37a1f1>:9: SettingWithCopyWarning: \n",
            "A value is trying to be set on a copy of a slice from a DataFrame\n",
            "\n",
            "See the caveats in the documentation: https://pandas.pydata.org/pandas-docs/stable/user_guide/indexing.html#returning-a-view-versus-a-copy\n",
            "  data[\"Icerik\"][i]=site_veri_getir(str(data_csv[\"Link\"][i]))\n"
          ]
        },
        {
          "output_type": "stream",
          "name": "stdout",
          "text": [
            "Hata\n",
            "Sıra : 2946/3042\n"
          ]
        },
        {
          "output_type": "stream",
          "name": "stderr",
          "text": [
            "<ipython-input-10-06dd2b37a1f1>:9: SettingWithCopyWarning: \n",
            "A value is trying to be set on a copy of a slice from a DataFrame\n",
            "\n",
            "See the caveats in the documentation: https://pandas.pydata.org/pandas-docs/stable/user_guide/indexing.html#returning-a-view-versus-a-copy\n",
            "  data[\"Icerik\"][i]=site_veri_getir(str(data_csv[\"Link\"][i]))\n"
          ]
        },
        {
          "output_type": "stream",
          "name": "stdout",
          "text": [
            "Hata\n",
            "Sıra : 2947/3042\n"
          ]
        },
        {
          "output_type": "stream",
          "name": "stderr",
          "text": [
            "<ipython-input-10-06dd2b37a1f1>:9: SettingWithCopyWarning: \n",
            "A value is trying to be set on a copy of a slice from a DataFrame\n",
            "\n",
            "See the caveats in the documentation: https://pandas.pydata.org/pandas-docs/stable/user_guide/indexing.html#returning-a-view-versus-a-copy\n",
            "  data[\"Icerik\"][i]=site_veri_getir(str(data_csv[\"Link\"][i]))\n"
          ]
        },
        {
          "output_type": "stream",
          "name": "stdout",
          "text": [
            "Hata\n",
            "Sıra : 2948/3042\n"
          ]
        },
        {
          "output_type": "stream",
          "name": "stderr",
          "text": [
            "<ipython-input-10-06dd2b37a1f1>:9: SettingWithCopyWarning: \n",
            "A value is trying to be set on a copy of a slice from a DataFrame\n",
            "\n",
            "See the caveats in the documentation: https://pandas.pydata.org/pandas-docs/stable/user_guide/indexing.html#returning-a-view-versus-a-copy\n",
            "  data[\"Icerik\"][i]=site_veri_getir(str(data_csv[\"Link\"][i]))\n"
          ]
        },
        {
          "output_type": "stream",
          "name": "stdout",
          "text": [
            "Hata\n",
            "Sıra : 2949/3042\n"
          ]
        },
        {
          "output_type": "stream",
          "name": "stderr",
          "text": [
            "<ipython-input-10-06dd2b37a1f1>:9: SettingWithCopyWarning: \n",
            "A value is trying to be set on a copy of a slice from a DataFrame\n",
            "\n",
            "See the caveats in the documentation: https://pandas.pydata.org/pandas-docs/stable/user_guide/indexing.html#returning-a-view-versus-a-copy\n",
            "  data[\"Icerik\"][i]=site_veri_getir(str(data_csv[\"Link\"][i]))\n"
          ]
        },
        {
          "output_type": "stream",
          "name": "stdout",
          "text": [
            "Hata\n",
            "Sıra : 2950/3042\n"
          ]
        },
        {
          "output_type": "stream",
          "name": "stderr",
          "text": [
            "<ipython-input-10-06dd2b37a1f1>:9: SettingWithCopyWarning: \n",
            "A value is trying to be set on a copy of a slice from a DataFrame\n",
            "\n",
            "See the caveats in the documentation: https://pandas.pydata.org/pandas-docs/stable/user_guide/indexing.html#returning-a-view-versus-a-copy\n",
            "  data[\"Icerik\"][i]=site_veri_getir(str(data_csv[\"Link\"][i]))\n"
          ]
        },
        {
          "output_type": "stream",
          "name": "stdout",
          "text": [
            "Hata\n",
            "Sıra : 2951/3042\n"
          ]
        },
        {
          "output_type": "stream",
          "name": "stderr",
          "text": [
            "<ipython-input-10-06dd2b37a1f1>:9: SettingWithCopyWarning: \n",
            "A value is trying to be set on a copy of a slice from a DataFrame\n",
            "\n",
            "See the caveats in the documentation: https://pandas.pydata.org/pandas-docs/stable/user_guide/indexing.html#returning-a-view-versus-a-copy\n",
            "  data[\"Icerik\"][i]=site_veri_getir(str(data_csv[\"Link\"][i]))\n"
          ]
        },
        {
          "output_type": "stream",
          "name": "stdout",
          "text": [
            "Hata\n",
            "Sıra : 2952/3042\n"
          ]
        },
        {
          "output_type": "stream",
          "name": "stderr",
          "text": [
            "<ipython-input-10-06dd2b37a1f1>:9: SettingWithCopyWarning: \n",
            "A value is trying to be set on a copy of a slice from a DataFrame\n",
            "\n",
            "See the caveats in the documentation: https://pandas.pydata.org/pandas-docs/stable/user_guide/indexing.html#returning-a-view-versus-a-copy\n",
            "  data[\"Icerik\"][i]=site_veri_getir(str(data_csv[\"Link\"][i]))\n"
          ]
        },
        {
          "output_type": "stream",
          "name": "stdout",
          "text": [
            "Hata\n",
            "Sıra : 2953/3042\n"
          ]
        },
        {
          "output_type": "stream",
          "name": "stderr",
          "text": [
            "<ipython-input-10-06dd2b37a1f1>:9: SettingWithCopyWarning: \n",
            "A value is trying to be set on a copy of a slice from a DataFrame\n",
            "\n",
            "See the caveats in the documentation: https://pandas.pydata.org/pandas-docs/stable/user_guide/indexing.html#returning-a-view-versus-a-copy\n",
            "  data[\"Icerik\"][i]=site_veri_getir(str(data_csv[\"Link\"][i]))\n"
          ]
        },
        {
          "output_type": "stream",
          "name": "stdout",
          "text": [
            "Hata\n",
            "Sıra : 2954/3042\n"
          ]
        },
        {
          "output_type": "stream",
          "name": "stderr",
          "text": [
            "<ipython-input-10-06dd2b37a1f1>:9: SettingWithCopyWarning: \n",
            "A value is trying to be set on a copy of a slice from a DataFrame\n",
            "\n",
            "See the caveats in the documentation: https://pandas.pydata.org/pandas-docs/stable/user_guide/indexing.html#returning-a-view-versus-a-copy\n",
            "  data[\"Icerik\"][i]=site_veri_getir(str(data_csv[\"Link\"][i]))\n"
          ]
        },
        {
          "output_type": "stream",
          "name": "stdout",
          "text": [
            "Hata\n",
            "Sıra : 2955/3042\n"
          ]
        },
        {
          "output_type": "stream",
          "name": "stderr",
          "text": [
            "<ipython-input-10-06dd2b37a1f1>:9: SettingWithCopyWarning: \n",
            "A value is trying to be set on a copy of a slice from a DataFrame\n",
            "\n",
            "See the caveats in the documentation: https://pandas.pydata.org/pandas-docs/stable/user_guide/indexing.html#returning-a-view-versus-a-copy\n",
            "  data[\"Icerik\"][i]=site_veri_getir(str(data_csv[\"Link\"][i]))\n"
          ]
        },
        {
          "output_type": "stream",
          "name": "stdout",
          "text": [
            "Hata\n",
            "Sıra : 2956/3042\n"
          ]
        },
        {
          "output_type": "stream",
          "name": "stderr",
          "text": [
            "<ipython-input-10-06dd2b37a1f1>:9: SettingWithCopyWarning: \n",
            "A value is trying to be set on a copy of a slice from a DataFrame\n",
            "\n",
            "See the caveats in the documentation: https://pandas.pydata.org/pandas-docs/stable/user_guide/indexing.html#returning-a-view-versus-a-copy\n",
            "  data[\"Icerik\"][i]=site_veri_getir(str(data_csv[\"Link\"][i]))\n"
          ]
        },
        {
          "output_type": "stream",
          "name": "stdout",
          "text": [
            "Hata\n",
            "Sıra : 2957/3042\n"
          ]
        },
        {
          "output_type": "stream",
          "name": "stderr",
          "text": [
            "<ipython-input-10-06dd2b37a1f1>:9: SettingWithCopyWarning: \n",
            "A value is trying to be set on a copy of a slice from a DataFrame\n",
            "\n",
            "See the caveats in the documentation: https://pandas.pydata.org/pandas-docs/stable/user_guide/indexing.html#returning-a-view-versus-a-copy\n",
            "  data[\"Icerik\"][i]=site_veri_getir(str(data_csv[\"Link\"][i]))\n"
          ]
        },
        {
          "output_type": "stream",
          "name": "stdout",
          "text": [
            "Hata\n",
            "Sıra : 2958/3042\n"
          ]
        },
        {
          "output_type": "stream",
          "name": "stderr",
          "text": [
            "<ipython-input-10-06dd2b37a1f1>:9: SettingWithCopyWarning: \n",
            "A value is trying to be set on a copy of a slice from a DataFrame\n",
            "\n",
            "See the caveats in the documentation: https://pandas.pydata.org/pandas-docs/stable/user_guide/indexing.html#returning-a-view-versus-a-copy\n",
            "  data[\"Icerik\"][i]=site_veri_getir(str(data_csv[\"Link\"][i]))\n"
          ]
        },
        {
          "output_type": "stream",
          "name": "stdout",
          "text": [
            "Hata\n",
            "Sıra : 2959/3042\n"
          ]
        },
        {
          "output_type": "stream",
          "name": "stderr",
          "text": [
            "<ipython-input-10-06dd2b37a1f1>:9: SettingWithCopyWarning: \n",
            "A value is trying to be set on a copy of a slice from a DataFrame\n",
            "\n",
            "See the caveats in the documentation: https://pandas.pydata.org/pandas-docs/stable/user_guide/indexing.html#returning-a-view-versus-a-copy\n",
            "  data[\"Icerik\"][i]=site_veri_getir(str(data_csv[\"Link\"][i]))\n"
          ]
        },
        {
          "output_type": "stream",
          "name": "stdout",
          "text": [
            "Hata\n",
            "Sıra : 2960/3042\n"
          ]
        },
        {
          "output_type": "stream",
          "name": "stderr",
          "text": [
            "<ipython-input-10-06dd2b37a1f1>:9: SettingWithCopyWarning: \n",
            "A value is trying to be set on a copy of a slice from a DataFrame\n",
            "\n",
            "See the caveats in the documentation: https://pandas.pydata.org/pandas-docs/stable/user_guide/indexing.html#returning-a-view-versus-a-copy\n",
            "  data[\"Icerik\"][i]=site_veri_getir(str(data_csv[\"Link\"][i]))\n"
          ]
        },
        {
          "output_type": "stream",
          "name": "stdout",
          "text": [
            "Hata\n",
            "Sıra : 2961/3042\n"
          ]
        },
        {
          "output_type": "stream",
          "name": "stderr",
          "text": [
            "<ipython-input-10-06dd2b37a1f1>:9: SettingWithCopyWarning: \n",
            "A value is trying to be set on a copy of a slice from a DataFrame\n",
            "\n",
            "See the caveats in the documentation: https://pandas.pydata.org/pandas-docs/stable/user_guide/indexing.html#returning-a-view-versus-a-copy\n",
            "  data[\"Icerik\"][i]=site_veri_getir(str(data_csv[\"Link\"][i]))\n"
          ]
        },
        {
          "output_type": "stream",
          "name": "stdout",
          "text": [
            "Hata\n",
            "Sıra : 2962/3042\n"
          ]
        },
        {
          "output_type": "stream",
          "name": "stderr",
          "text": [
            "<ipython-input-10-06dd2b37a1f1>:9: SettingWithCopyWarning: \n",
            "A value is trying to be set on a copy of a slice from a DataFrame\n",
            "\n",
            "See the caveats in the documentation: https://pandas.pydata.org/pandas-docs/stable/user_guide/indexing.html#returning-a-view-versus-a-copy\n",
            "  data[\"Icerik\"][i]=site_veri_getir(str(data_csv[\"Link\"][i]))\n"
          ]
        },
        {
          "output_type": "stream",
          "name": "stdout",
          "text": [
            "Hata\n",
            "Sıra : 2963/3042\n"
          ]
        },
        {
          "output_type": "stream",
          "name": "stderr",
          "text": [
            "<ipython-input-10-06dd2b37a1f1>:9: SettingWithCopyWarning: \n",
            "A value is trying to be set on a copy of a slice from a DataFrame\n",
            "\n",
            "See the caveats in the documentation: https://pandas.pydata.org/pandas-docs/stable/user_guide/indexing.html#returning-a-view-versus-a-copy\n",
            "  data[\"Icerik\"][i]=site_veri_getir(str(data_csv[\"Link\"][i]))\n"
          ]
        },
        {
          "output_type": "stream",
          "name": "stdout",
          "text": [
            "Hata\n",
            "Sıra : 2964/3042\n"
          ]
        },
        {
          "output_type": "stream",
          "name": "stderr",
          "text": [
            "<ipython-input-10-06dd2b37a1f1>:9: SettingWithCopyWarning: \n",
            "A value is trying to be set on a copy of a slice from a DataFrame\n",
            "\n",
            "See the caveats in the documentation: https://pandas.pydata.org/pandas-docs/stable/user_guide/indexing.html#returning-a-view-versus-a-copy\n",
            "  data[\"Icerik\"][i]=site_veri_getir(str(data_csv[\"Link\"][i]))\n"
          ]
        },
        {
          "output_type": "stream",
          "name": "stdout",
          "text": [
            "Hata\n",
            "Sıra : 2965/3042\n"
          ]
        },
        {
          "output_type": "stream",
          "name": "stderr",
          "text": [
            "<ipython-input-10-06dd2b37a1f1>:9: SettingWithCopyWarning: \n",
            "A value is trying to be set on a copy of a slice from a DataFrame\n",
            "\n",
            "See the caveats in the documentation: https://pandas.pydata.org/pandas-docs/stable/user_guide/indexing.html#returning-a-view-versus-a-copy\n",
            "  data[\"Icerik\"][i]=site_veri_getir(str(data_csv[\"Link\"][i]))\n"
          ]
        },
        {
          "output_type": "stream",
          "name": "stdout",
          "text": [
            "Hata\n",
            "Sıra : 2966/3042\n"
          ]
        },
        {
          "output_type": "stream",
          "name": "stderr",
          "text": [
            "<ipython-input-10-06dd2b37a1f1>:9: SettingWithCopyWarning: \n",
            "A value is trying to be set on a copy of a slice from a DataFrame\n",
            "\n",
            "See the caveats in the documentation: https://pandas.pydata.org/pandas-docs/stable/user_guide/indexing.html#returning-a-view-versus-a-copy\n",
            "  data[\"Icerik\"][i]=site_veri_getir(str(data_csv[\"Link\"][i]))\n"
          ]
        },
        {
          "output_type": "stream",
          "name": "stdout",
          "text": [
            "Hata\n",
            "Sıra : 2967/3042\n"
          ]
        },
        {
          "output_type": "stream",
          "name": "stderr",
          "text": [
            "<ipython-input-10-06dd2b37a1f1>:9: SettingWithCopyWarning: \n",
            "A value is trying to be set on a copy of a slice from a DataFrame\n",
            "\n",
            "See the caveats in the documentation: https://pandas.pydata.org/pandas-docs/stable/user_guide/indexing.html#returning-a-view-versus-a-copy\n",
            "  data[\"Icerik\"][i]=site_veri_getir(str(data_csv[\"Link\"][i]))\n"
          ]
        },
        {
          "output_type": "stream",
          "name": "stdout",
          "text": [
            "Hata\n",
            "Sıra : 2968/3042\n"
          ]
        },
        {
          "output_type": "stream",
          "name": "stderr",
          "text": [
            "<ipython-input-10-06dd2b37a1f1>:9: SettingWithCopyWarning: \n",
            "A value is trying to be set on a copy of a slice from a DataFrame\n",
            "\n",
            "See the caveats in the documentation: https://pandas.pydata.org/pandas-docs/stable/user_guide/indexing.html#returning-a-view-versus-a-copy\n",
            "  data[\"Icerik\"][i]=site_veri_getir(str(data_csv[\"Link\"][i]))\n"
          ]
        },
        {
          "output_type": "stream",
          "name": "stdout",
          "text": [
            "Hata\n",
            "Sıra : 2969/3042\n"
          ]
        },
        {
          "output_type": "stream",
          "name": "stderr",
          "text": [
            "<ipython-input-10-06dd2b37a1f1>:9: SettingWithCopyWarning: \n",
            "A value is trying to be set on a copy of a slice from a DataFrame\n",
            "\n",
            "See the caveats in the documentation: https://pandas.pydata.org/pandas-docs/stable/user_guide/indexing.html#returning-a-view-versus-a-copy\n",
            "  data[\"Icerik\"][i]=site_veri_getir(str(data_csv[\"Link\"][i]))\n"
          ]
        },
        {
          "output_type": "stream",
          "name": "stdout",
          "text": [
            "Hata\n",
            "Sıra : 2970/3042\n"
          ]
        },
        {
          "output_type": "stream",
          "name": "stderr",
          "text": [
            "<ipython-input-10-06dd2b37a1f1>:9: SettingWithCopyWarning: \n",
            "A value is trying to be set on a copy of a slice from a DataFrame\n",
            "\n",
            "See the caveats in the documentation: https://pandas.pydata.org/pandas-docs/stable/user_guide/indexing.html#returning-a-view-versus-a-copy\n",
            "  data[\"Icerik\"][i]=site_veri_getir(str(data_csv[\"Link\"][i]))\n"
          ]
        },
        {
          "output_type": "stream",
          "name": "stdout",
          "text": [
            "Hata\n",
            "Sıra : 2971/3042\n"
          ]
        },
        {
          "output_type": "stream",
          "name": "stderr",
          "text": [
            "<ipython-input-10-06dd2b37a1f1>:9: SettingWithCopyWarning: \n",
            "A value is trying to be set on a copy of a slice from a DataFrame\n",
            "\n",
            "See the caveats in the documentation: https://pandas.pydata.org/pandas-docs/stable/user_guide/indexing.html#returning-a-view-versus-a-copy\n",
            "  data[\"Icerik\"][i]=site_veri_getir(str(data_csv[\"Link\"][i]))\n"
          ]
        },
        {
          "output_type": "stream",
          "name": "stdout",
          "text": [
            "Hata\n",
            "Sıra : 2972/3042\n"
          ]
        },
        {
          "output_type": "stream",
          "name": "stderr",
          "text": [
            "<ipython-input-10-06dd2b37a1f1>:9: SettingWithCopyWarning: \n",
            "A value is trying to be set on a copy of a slice from a DataFrame\n",
            "\n",
            "See the caveats in the documentation: https://pandas.pydata.org/pandas-docs/stable/user_guide/indexing.html#returning-a-view-versus-a-copy\n",
            "  data[\"Icerik\"][i]=site_veri_getir(str(data_csv[\"Link\"][i]))\n"
          ]
        },
        {
          "output_type": "stream",
          "name": "stdout",
          "text": [
            "Hata\n",
            "Sıra : 2973/3042\n"
          ]
        },
        {
          "output_type": "stream",
          "name": "stderr",
          "text": [
            "<ipython-input-10-06dd2b37a1f1>:9: SettingWithCopyWarning: \n",
            "A value is trying to be set on a copy of a slice from a DataFrame\n",
            "\n",
            "See the caveats in the documentation: https://pandas.pydata.org/pandas-docs/stable/user_guide/indexing.html#returning-a-view-versus-a-copy\n",
            "  data[\"Icerik\"][i]=site_veri_getir(str(data_csv[\"Link\"][i]))\n"
          ]
        },
        {
          "output_type": "stream",
          "name": "stdout",
          "text": [
            "Hata\n",
            "Sıra : 2974/3042\n"
          ]
        },
        {
          "output_type": "stream",
          "name": "stderr",
          "text": [
            "<ipython-input-10-06dd2b37a1f1>:9: SettingWithCopyWarning: \n",
            "A value is trying to be set on a copy of a slice from a DataFrame\n",
            "\n",
            "See the caveats in the documentation: https://pandas.pydata.org/pandas-docs/stable/user_guide/indexing.html#returning-a-view-versus-a-copy\n",
            "  data[\"Icerik\"][i]=site_veri_getir(str(data_csv[\"Link\"][i]))\n"
          ]
        },
        {
          "output_type": "stream",
          "name": "stdout",
          "text": [
            "Hata\n",
            "Sıra : 2975/3042\n"
          ]
        },
        {
          "output_type": "stream",
          "name": "stderr",
          "text": [
            "<ipython-input-10-06dd2b37a1f1>:9: SettingWithCopyWarning: \n",
            "A value is trying to be set on a copy of a slice from a DataFrame\n",
            "\n",
            "See the caveats in the documentation: https://pandas.pydata.org/pandas-docs/stable/user_guide/indexing.html#returning-a-view-versus-a-copy\n",
            "  data[\"Icerik\"][i]=site_veri_getir(str(data_csv[\"Link\"][i]))\n"
          ]
        },
        {
          "output_type": "stream",
          "name": "stdout",
          "text": [
            "Hata\n",
            "Sıra : 2976/3042\n"
          ]
        },
        {
          "output_type": "stream",
          "name": "stderr",
          "text": [
            "<ipython-input-10-06dd2b37a1f1>:9: SettingWithCopyWarning: \n",
            "A value is trying to be set on a copy of a slice from a DataFrame\n",
            "\n",
            "See the caveats in the documentation: https://pandas.pydata.org/pandas-docs/stable/user_guide/indexing.html#returning-a-view-versus-a-copy\n",
            "  data[\"Icerik\"][i]=site_veri_getir(str(data_csv[\"Link\"][i]))\n"
          ]
        },
        {
          "output_type": "stream",
          "name": "stdout",
          "text": [
            "Hata\n",
            "Sıra : 2977/3042\n"
          ]
        },
        {
          "output_type": "stream",
          "name": "stderr",
          "text": [
            "<ipython-input-10-06dd2b37a1f1>:9: SettingWithCopyWarning: \n",
            "A value is trying to be set on a copy of a slice from a DataFrame\n",
            "\n",
            "See the caveats in the documentation: https://pandas.pydata.org/pandas-docs/stable/user_guide/indexing.html#returning-a-view-versus-a-copy\n",
            "  data[\"Icerik\"][i]=site_veri_getir(str(data_csv[\"Link\"][i]))\n"
          ]
        },
        {
          "output_type": "stream",
          "name": "stdout",
          "text": [
            "Hata\n",
            "Sıra : 2978/3042\n"
          ]
        },
        {
          "output_type": "stream",
          "name": "stderr",
          "text": [
            "<ipython-input-10-06dd2b37a1f1>:9: SettingWithCopyWarning: \n",
            "A value is trying to be set on a copy of a slice from a DataFrame\n",
            "\n",
            "See the caveats in the documentation: https://pandas.pydata.org/pandas-docs/stable/user_guide/indexing.html#returning-a-view-versus-a-copy\n",
            "  data[\"Icerik\"][i]=site_veri_getir(str(data_csv[\"Link\"][i]))\n"
          ]
        },
        {
          "output_type": "stream",
          "name": "stdout",
          "text": [
            "Hata\n",
            "Sıra : 2979/3042\n"
          ]
        },
        {
          "output_type": "stream",
          "name": "stderr",
          "text": [
            "<ipython-input-10-06dd2b37a1f1>:9: SettingWithCopyWarning: \n",
            "A value is trying to be set on a copy of a slice from a DataFrame\n",
            "\n",
            "See the caveats in the documentation: https://pandas.pydata.org/pandas-docs/stable/user_guide/indexing.html#returning-a-view-versus-a-copy\n",
            "  data[\"Icerik\"][i]=site_veri_getir(str(data_csv[\"Link\"][i]))\n"
          ]
        },
        {
          "output_type": "stream",
          "name": "stdout",
          "text": [
            "Hata\n",
            "Sıra : 2980/3042\n"
          ]
        },
        {
          "output_type": "stream",
          "name": "stderr",
          "text": [
            "<ipython-input-10-06dd2b37a1f1>:9: SettingWithCopyWarning: \n",
            "A value is trying to be set on a copy of a slice from a DataFrame\n",
            "\n",
            "See the caveats in the documentation: https://pandas.pydata.org/pandas-docs/stable/user_guide/indexing.html#returning-a-view-versus-a-copy\n",
            "  data[\"Icerik\"][i]=site_veri_getir(str(data_csv[\"Link\"][i]))\n"
          ]
        },
        {
          "output_type": "stream",
          "name": "stdout",
          "text": [
            "Hata\n",
            "Sıra : 2981/3042\n"
          ]
        },
        {
          "output_type": "stream",
          "name": "stderr",
          "text": [
            "<ipython-input-10-06dd2b37a1f1>:9: SettingWithCopyWarning: \n",
            "A value is trying to be set on a copy of a slice from a DataFrame\n",
            "\n",
            "See the caveats in the documentation: https://pandas.pydata.org/pandas-docs/stable/user_guide/indexing.html#returning-a-view-versus-a-copy\n",
            "  data[\"Icerik\"][i]=site_veri_getir(str(data_csv[\"Link\"][i]))\n"
          ]
        },
        {
          "output_type": "stream",
          "name": "stdout",
          "text": [
            "Hata\n",
            "Sıra : 2982/3042\n"
          ]
        },
        {
          "output_type": "stream",
          "name": "stderr",
          "text": [
            "<ipython-input-10-06dd2b37a1f1>:9: SettingWithCopyWarning: \n",
            "A value is trying to be set on a copy of a slice from a DataFrame\n",
            "\n",
            "See the caveats in the documentation: https://pandas.pydata.org/pandas-docs/stable/user_guide/indexing.html#returning-a-view-versus-a-copy\n",
            "  data[\"Icerik\"][i]=site_veri_getir(str(data_csv[\"Link\"][i]))\n"
          ]
        },
        {
          "output_type": "stream",
          "name": "stdout",
          "text": [
            "Hata\n",
            "Sıra : 2983/3042\n"
          ]
        },
        {
          "output_type": "stream",
          "name": "stderr",
          "text": [
            "<ipython-input-10-06dd2b37a1f1>:9: SettingWithCopyWarning: \n",
            "A value is trying to be set on a copy of a slice from a DataFrame\n",
            "\n",
            "See the caveats in the documentation: https://pandas.pydata.org/pandas-docs/stable/user_guide/indexing.html#returning-a-view-versus-a-copy\n",
            "  data[\"Icerik\"][i]=site_veri_getir(str(data_csv[\"Link\"][i]))\n"
          ]
        },
        {
          "output_type": "stream",
          "name": "stdout",
          "text": [
            "Hata\n",
            "Sıra : 2984/3042\n"
          ]
        },
        {
          "output_type": "stream",
          "name": "stderr",
          "text": [
            "<ipython-input-10-06dd2b37a1f1>:9: SettingWithCopyWarning: \n",
            "A value is trying to be set on a copy of a slice from a DataFrame\n",
            "\n",
            "See the caveats in the documentation: https://pandas.pydata.org/pandas-docs/stable/user_guide/indexing.html#returning-a-view-versus-a-copy\n",
            "  data[\"Icerik\"][i]=site_veri_getir(str(data_csv[\"Link\"][i]))\n"
          ]
        },
        {
          "output_type": "stream",
          "name": "stdout",
          "text": [
            "Hata\n",
            "Sıra : 2985/3042\n"
          ]
        },
        {
          "output_type": "stream",
          "name": "stderr",
          "text": [
            "<ipython-input-10-06dd2b37a1f1>:9: SettingWithCopyWarning: \n",
            "A value is trying to be set on a copy of a slice from a DataFrame\n",
            "\n",
            "See the caveats in the documentation: https://pandas.pydata.org/pandas-docs/stable/user_guide/indexing.html#returning-a-view-versus-a-copy\n",
            "  data[\"Icerik\"][i]=site_veri_getir(str(data_csv[\"Link\"][i]))\n"
          ]
        },
        {
          "output_type": "stream",
          "name": "stdout",
          "text": [
            "Hata\n",
            "Sıra : 2986/3042\n"
          ]
        },
        {
          "output_type": "stream",
          "name": "stderr",
          "text": [
            "<ipython-input-10-06dd2b37a1f1>:9: SettingWithCopyWarning: \n",
            "A value is trying to be set on a copy of a slice from a DataFrame\n",
            "\n",
            "See the caveats in the documentation: https://pandas.pydata.org/pandas-docs/stable/user_guide/indexing.html#returning-a-view-versus-a-copy\n",
            "  data[\"Icerik\"][i]=site_veri_getir(str(data_csv[\"Link\"][i]))\n"
          ]
        },
        {
          "output_type": "stream",
          "name": "stdout",
          "text": [
            "Hata\n",
            "Sıra : 2987/3042\n"
          ]
        },
        {
          "output_type": "stream",
          "name": "stderr",
          "text": [
            "<ipython-input-10-06dd2b37a1f1>:9: SettingWithCopyWarning: \n",
            "A value is trying to be set on a copy of a slice from a DataFrame\n",
            "\n",
            "See the caveats in the documentation: https://pandas.pydata.org/pandas-docs/stable/user_guide/indexing.html#returning-a-view-versus-a-copy\n",
            "  data[\"Icerik\"][i]=site_veri_getir(str(data_csv[\"Link\"][i]))\n"
          ]
        },
        {
          "output_type": "stream",
          "name": "stdout",
          "text": [
            "Hata\n",
            "Sıra : 2988/3042\n"
          ]
        },
        {
          "output_type": "stream",
          "name": "stderr",
          "text": [
            "<ipython-input-10-06dd2b37a1f1>:9: SettingWithCopyWarning: \n",
            "A value is trying to be set on a copy of a slice from a DataFrame\n",
            "\n",
            "See the caveats in the documentation: https://pandas.pydata.org/pandas-docs/stable/user_guide/indexing.html#returning-a-view-versus-a-copy\n",
            "  data[\"Icerik\"][i]=site_veri_getir(str(data_csv[\"Link\"][i]))\n"
          ]
        },
        {
          "output_type": "stream",
          "name": "stdout",
          "text": [
            "Hata\n",
            "Sıra : 2989/3042\n"
          ]
        },
        {
          "output_type": "stream",
          "name": "stderr",
          "text": [
            "<ipython-input-10-06dd2b37a1f1>:9: SettingWithCopyWarning: \n",
            "A value is trying to be set on a copy of a slice from a DataFrame\n",
            "\n",
            "See the caveats in the documentation: https://pandas.pydata.org/pandas-docs/stable/user_guide/indexing.html#returning-a-view-versus-a-copy\n",
            "  data[\"Icerik\"][i]=site_veri_getir(str(data_csv[\"Link\"][i]))\n"
          ]
        },
        {
          "output_type": "stream",
          "name": "stdout",
          "text": [
            "Hata\n",
            "Sıra : 2990/3042\n"
          ]
        },
        {
          "output_type": "stream",
          "name": "stderr",
          "text": [
            "<ipython-input-10-06dd2b37a1f1>:9: SettingWithCopyWarning: \n",
            "A value is trying to be set on a copy of a slice from a DataFrame\n",
            "\n",
            "See the caveats in the documentation: https://pandas.pydata.org/pandas-docs/stable/user_guide/indexing.html#returning-a-view-versus-a-copy\n",
            "  data[\"Icerik\"][i]=site_veri_getir(str(data_csv[\"Link\"][i]))\n"
          ]
        },
        {
          "output_type": "stream",
          "name": "stdout",
          "text": [
            "Hata\n",
            "Sıra : 2991/3042\n"
          ]
        },
        {
          "output_type": "stream",
          "name": "stderr",
          "text": [
            "<ipython-input-10-06dd2b37a1f1>:9: SettingWithCopyWarning: \n",
            "A value is trying to be set on a copy of a slice from a DataFrame\n",
            "\n",
            "See the caveats in the documentation: https://pandas.pydata.org/pandas-docs/stable/user_guide/indexing.html#returning-a-view-versus-a-copy\n",
            "  data[\"Icerik\"][i]=site_veri_getir(str(data_csv[\"Link\"][i]))\n"
          ]
        },
        {
          "output_type": "stream",
          "name": "stdout",
          "text": [
            "Hata\n",
            "Sıra : 2992/3042\n"
          ]
        },
        {
          "output_type": "stream",
          "name": "stderr",
          "text": [
            "<ipython-input-10-06dd2b37a1f1>:9: SettingWithCopyWarning: \n",
            "A value is trying to be set on a copy of a slice from a DataFrame\n",
            "\n",
            "See the caveats in the documentation: https://pandas.pydata.org/pandas-docs/stable/user_guide/indexing.html#returning-a-view-versus-a-copy\n",
            "  data[\"Icerik\"][i]=site_veri_getir(str(data_csv[\"Link\"][i]))\n"
          ]
        },
        {
          "output_type": "stream",
          "name": "stdout",
          "text": [
            "Hata\n",
            "Sıra : 2993/3042\n"
          ]
        },
        {
          "output_type": "stream",
          "name": "stderr",
          "text": [
            "<ipython-input-10-06dd2b37a1f1>:9: SettingWithCopyWarning: \n",
            "A value is trying to be set on a copy of a slice from a DataFrame\n",
            "\n",
            "See the caveats in the documentation: https://pandas.pydata.org/pandas-docs/stable/user_guide/indexing.html#returning-a-view-versus-a-copy\n",
            "  data[\"Icerik\"][i]=site_veri_getir(str(data_csv[\"Link\"][i]))\n"
          ]
        },
        {
          "output_type": "stream",
          "name": "stdout",
          "text": [
            "Hata\n",
            "Sıra : 2994/3042\n"
          ]
        },
        {
          "output_type": "stream",
          "name": "stderr",
          "text": [
            "<ipython-input-10-06dd2b37a1f1>:9: SettingWithCopyWarning: \n",
            "A value is trying to be set on a copy of a slice from a DataFrame\n",
            "\n",
            "See the caveats in the documentation: https://pandas.pydata.org/pandas-docs/stable/user_guide/indexing.html#returning-a-view-versus-a-copy\n",
            "  data[\"Icerik\"][i]=site_veri_getir(str(data_csv[\"Link\"][i]))\n"
          ]
        },
        {
          "output_type": "stream",
          "name": "stdout",
          "text": [
            "Hata\n",
            "Sıra : 2995/3042\n"
          ]
        },
        {
          "output_type": "stream",
          "name": "stderr",
          "text": [
            "<ipython-input-10-06dd2b37a1f1>:9: SettingWithCopyWarning: \n",
            "A value is trying to be set on a copy of a slice from a DataFrame\n",
            "\n",
            "See the caveats in the documentation: https://pandas.pydata.org/pandas-docs/stable/user_guide/indexing.html#returning-a-view-versus-a-copy\n",
            "  data[\"Icerik\"][i]=site_veri_getir(str(data_csv[\"Link\"][i]))\n"
          ]
        },
        {
          "output_type": "stream",
          "name": "stdout",
          "text": [
            "Hata\n",
            "Sıra : 2996/3042\n"
          ]
        },
        {
          "output_type": "stream",
          "name": "stderr",
          "text": [
            "<ipython-input-10-06dd2b37a1f1>:9: SettingWithCopyWarning: \n",
            "A value is trying to be set on a copy of a slice from a DataFrame\n",
            "\n",
            "See the caveats in the documentation: https://pandas.pydata.org/pandas-docs/stable/user_guide/indexing.html#returning-a-view-versus-a-copy\n",
            "  data[\"Icerik\"][i]=site_veri_getir(str(data_csv[\"Link\"][i]))\n"
          ]
        },
        {
          "output_type": "stream",
          "name": "stdout",
          "text": [
            "Hata\n",
            "Sıra : 2997/3042\n"
          ]
        },
        {
          "output_type": "stream",
          "name": "stderr",
          "text": [
            "<ipython-input-10-06dd2b37a1f1>:9: SettingWithCopyWarning: \n",
            "A value is trying to be set on a copy of a slice from a DataFrame\n",
            "\n",
            "See the caveats in the documentation: https://pandas.pydata.org/pandas-docs/stable/user_guide/indexing.html#returning-a-view-versus-a-copy\n",
            "  data[\"Icerik\"][i]=site_veri_getir(str(data_csv[\"Link\"][i]))\n"
          ]
        },
        {
          "output_type": "stream",
          "name": "stdout",
          "text": [
            "Hata\n",
            "Sıra : 2998/3042\n"
          ]
        },
        {
          "output_type": "stream",
          "name": "stderr",
          "text": [
            "<ipython-input-10-06dd2b37a1f1>:9: SettingWithCopyWarning: \n",
            "A value is trying to be set on a copy of a slice from a DataFrame\n",
            "\n",
            "See the caveats in the documentation: https://pandas.pydata.org/pandas-docs/stable/user_guide/indexing.html#returning-a-view-versus-a-copy\n",
            "  data[\"Icerik\"][i]=site_veri_getir(str(data_csv[\"Link\"][i]))\n"
          ]
        },
        {
          "output_type": "stream",
          "name": "stdout",
          "text": [
            "Hata\n",
            "Sıra : 2999/3042\n"
          ]
        },
        {
          "output_type": "stream",
          "name": "stderr",
          "text": [
            "<ipython-input-10-06dd2b37a1f1>:9: SettingWithCopyWarning: \n",
            "A value is trying to be set on a copy of a slice from a DataFrame\n",
            "\n",
            "See the caveats in the documentation: https://pandas.pydata.org/pandas-docs/stable/user_guide/indexing.html#returning-a-view-versus-a-copy\n",
            "  data[\"Icerik\"][i]=site_veri_getir(str(data_csv[\"Link\"][i]))\n"
          ]
        },
        {
          "output_type": "stream",
          "name": "stdout",
          "text": [
            "Hata\n",
            "Sıra : 3000/3042\n"
          ]
        },
        {
          "output_type": "stream",
          "name": "stderr",
          "text": [
            "<ipython-input-10-06dd2b37a1f1>:9: SettingWithCopyWarning: \n",
            "A value is trying to be set on a copy of a slice from a DataFrame\n",
            "\n",
            "See the caveats in the documentation: https://pandas.pydata.org/pandas-docs/stable/user_guide/indexing.html#returning-a-view-versus-a-copy\n",
            "  data[\"Icerik\"][i]=site_veri_getir(str(data_csv[\"Link\"][i]))\n"
          ]
        },
        {
          "output_type": "stream",
          "name": "stdout",
          "text": [
            "Hata\n",
            "Sıra : 3001/3042\n"
          ]
        },
        {
          "output_type": "stream",
          "name": "stderr",
          "text": [
            "<ipython-input-10-06dd2b37a1f1>:9: SettingWithCopyWarning: \n",
            "A value is trying to be set on a copy of a slice from a DataFrame\n",
            "\n",
            "See the caveats in the documentation: https://pandas.pydata.org/pandas-docs/stable/user_guide/indexing.html#returning-a-view-versus-a-copy\n",
            "  data[\"Icerik\"][i]=site_veri_getir(str(data_csv[\"Link\"][i]))\n"
          ]
        },
        {
          "output_type": "stream",
          "name": "stdout",
          "text": [
            "Hata\n",
            "Sıra : 3002/3042\n"
          ]
        },
        {
          "output_type": "stream",
          "name": "stderr",
          "text": [
            "<ipython-input-10-06dd2b37a1f1>:9: SettingWithCopyWarning: \n",
            "A value is trying to be set on a copy of a slice from a DataFrame\n",
            "\n",
            "See the caveats in the documentation: https://pandas.pydata.org/pandas-docs/stable/user_guide/indexing.html#returning-a-view-versus-a-copy\n",
            "  data[\"Icerik\"][i]=site_veri_getir(str(data_csv[\"Link\"][i]))\n"
          ]
        },
        {
          "output_type": "stream",
          "name": "stdout",
          "text": [
            "Hata\n",
            "Sıra : 3003/3042\n"
          ]
        },
        {
          "output_type": "stream",
          "name": "stderr",
          "text": [
            "<ipython-input-10-06dd2b37a1f1>:9: SettingWithCopyWarning: \n",
            "A value is trying to be set on a copy of a slice from a DataFrame\n",
            "\n",
            "See the caveats in the documentation: https://pandas.pydata.org/pandas-docs/stable/user_guide/indexing.html#returning-a-view-versus-a-copy\n",
            "  data[\"Icerik\"][i]=site_veri_getir(str(data_csv[\"Link\"][i]))\n"
          ]
        },
        {
          "output_type": "stream",
          "name": "stdout",
          "text": [
            "Hata\n",
            "Sıra : 3004/3042\n"
          ]
        },
        {
          "output_type": "stream",
          "name": "stderr",
          "text": [
            "<ipython-input-10-06dd2b37a1f1>:9: SettingWithCopyWarning: \n",
            "A value is trying to be set on a copy of a slice from a DataFrame\n",
            "\n",
            "See the caveats in the documentation: https://pandas.pydata.org/pandas-docs/stable/user_guide/indexing.html#returning-a-view-versus-a-copy\n",
            "  data[\"Icerik\"][i]=site_veri_getir(str(data_csv[\"Link\"][i]))\n"
          ]
        },
        {
          "output_type": "stream",
          "name": "stdout",
          "text": [
            "Hata\n",
            "Sıra : 3005/3042\n"
          ]
        },
        {
          "output_type": "stream",
          "name": "stderr",
          "text": [
            "<ipython-input-10-06dd2b37a1f1>:9: SettingWithCopyWarning: \n",
            "A value is trying to be set on a copy of a slice from a DataFrame\n",
            "\n",
            "See the caveats in the documentation: https://pandas.pydata.org/pandas-docs/stable/user_guide/indexing.html#returning-a-view-versus-a-copy\n",
            "  data[\"Icerik\"][i]=site_veri_getir(str(data_csv[\"Link\"][i]))\n"
          ]
        },
        {
          "output_type": "stream",
          "name": "stdout",
          "text": [
            "Hata\n",
            "Sıra : 3006/3042\n"
          ]
        },
        {
          "output_type": "stream",
          "name": "stderr",
          "text": [
            "<ipython-input-10-06dd2b37a1f1>:9: SettingWithCopyWarning: \n",
            "A value is trying to be set on a copy of a slice from a DataFrame\n",
            "\n",
            "See the caveats in the documentation: https://pandas.pydata.org/pandas-docs/stable/user_guide/indexing.html#returning-a-view-versus-a-copy\n",
            "  data[\"Icerik\"][i]=site_veri_getir(str(data_csv[\"Link\"][i]))\n"
          ]
        },
        {
          "output_type": "stream",
          "name": "stdout",
          "text": [
            "Hata\n",
            "Sıra : 3007/3042\n"
          ]
        },
        {
          "output_type": "stream",
          "name": "stderr",
          "text": [
            "<ipython-input-10-06dd2b37a1f1>:9: SettingWithCopyWarning: \n",
            "A value is trying to be set on a copy of a slice from a DataFrame\n",
            "\n",
            "See the caveats in the documentation: https://pandas.pydata.org/pandas-docs/stable/user_guide/indexing.html#returning-a-view-versus-a-copy\n",
            "  data[\"Icerik\"][i]=site_veri_getir(str(data_csv[\"Link\"][i]))\n"
          ]
        },
        {
          "output_type": "stream",
          "name": "stdout",
          "text": [
            "Hata\n",
            "Sıra : 3008/3042\n"
          ]
        },
        {
          "output_type": "stream",
          "name": "stderr",
          "text": [
            "<ipython-input-10-06dd2b37a1f1>:9: SettingWithCopyWarning: \n",
            "A value is trying to be set on a copy of a slice from a DataFrame\n",
            "\n",
            "See the caveats in the documentation: https://pandas.pydata.org/pandas-docs/stable/user_guide/indexing.html#returning-a-view-versus-a-copy\n",
            "  data[\"Icerik\"][i]=site_veri_getir(str(data_csv[\"Link\"][i]))\n"
          ]
        },
        {
          "output_type": "stream",
          "name": "stdout",
          "text": [
            "Hata\n",
            "Sıra : 3009/3042\n"
          ]
        },
        {
          "output_type": "stream",
          "name": "stderr",
          "text": [
            "<ipython-input-10-06dd2b37a1f1>:9: SettingWithCopyWarning: \n",
            "A value is trying to be set on a copy of a slice from a DataFrame\n",
            "\n",
            "See the caveats in the documentation: https://pandas.pydata.org/pandas-docs/stable/user_guide/indexing.html#returning-a-view-versus-a-copy\n",
            "  data[\"Icerik\"][i]=site_veri_getir(str(data_csv[\"Link\"][i]))\n"
          ]
        },
        {
          "output_type": "stream",
          "name": "stdout",
          "text": [
            "Hata\n",
            "Sıra : 3010/3042\n"
          ]
        },
        {
          "output_type": "stream",
          "name": "stderr",
          "text": [
            "<ipython-input-10-06dd2b37a1f1>:9: SettingWithCopyWarning: \n",
            "A value is trying to be set on a copy of a slice from a DataFrame\n",
            "\n",
            "See the caveats in the documentation: https://pandas.pydata.org/pandas-docs/stable/user_guide/indexing.html#returning-a-view-versus-a-copy\n",
            "  data[\"Icerik\"][i]=site_veri_getir(str(data_csv[\"Link\"][i]))\n"
          ]
        },
        {
          "output_type": "stream",
          "name": "stdout",
          "text": [
            "Hata\n",
            "Sıra : 3011/3042\n"
          ]
        },
        {
          "output_type": "stream",
          "name": "stderr",
          "text": [
            "<ipython-input-10-06dd2b37a1f1>:9: SettingWithCopyWarning: \n",
            "A value is trying to be set on a copy of a slice from a DataFrame\n",
            "\n",
            "See the caveats in the documentation: https://pandas.pydata.org/pandas-docs/stable/user_guide/indexing.html#returning-a-view-versus-a-copy\n",
            "  data[\"Icerik\"][i]=site_veri_getir(str(data_csv[\"Link\"][i]))\n"
          ]
        },
        {
          "output_type": "stream",
          "name": "stdout",
          "text": [
            "Hata\n",
            "Sıra : 3012/3042\n"
          ]
        },
        {
          "output_type": "stream",
          "name": "stderr",
          "text": [
            "<ipython-input-10-06dd2b37a1f1>:9: SettingWithCopyWarning: \n",
            "A value is trying to be set on a copy of a slice from a DataFrame\n",
            "\n",
            "See the caveats in the documentation: https://pandas.pydata.org/pandas-docs/stable/user_guide/indexing.html#returning-a-view-versus-a-copy\n",
            "  data[\"Icerik\"][i]=site_veri_getir(str(data_csv[\"Link\"][i]))\n"
          ]
        },
        {
          "output_type": "stream",
          "name": "stdout",
          "text": [
            "Hata\n",
            "Sıra : 3013/3042\n"
          ]
        },
        {
          "output_type": "stream",
          "name": "stderr",
          "text": [
            "<ipython-input-10-06dd2b37a1f1>:9: SettingWithCopyWarning: \n",
            "A value is trying to be set on a copy of a slice from a DataFrame\n",
            "\n",
            "See the caveats in the documentation: https://pandas.pydata.org/pandas-docs/stable/user_guide/indexing.html#returning-a-view-versus-a-copy\n",
            "  data[\"Icerik\"][i]=site_veri_getir(str(data_csv[\"Link\"][i]))\n"
          ]
        },
        {
          "output_type": "stream",
          "name": "stdout",
          "text": [
            "Hata\n",
            "Sıra : 3014/3042\n"
          ]
        },
        {
          "output_type": "stream",
          "name": "stderr",
          "text": [
            "<ipython-input-10-06dd2b37a1f1>:9: SettingWithCopyWarning: \n",
            "A value is trying to be set on a copy of a slice from a DataFrame\n",
            "\n",
            "See the caveats in the documentation: https://pandas.pydata.org/pandas-docs/stable/user_guide/indexing.html#returning-a-view-versus-a-copy\n",
            "  data[\"Icerik\"][i]=site_veri_getir(str(data_csv[\"Link\"][i]))\n"
          ]
        },
        {
          "output_type": "stream",
          "name": "stdout",
          "text": [
            "Hata\n",
            "Sıra : 3015/3042\n"
          ]
        },
        {
          "output_type": "stream",
          "name": "stderr",
          "text": [
            "<ipython-input-10-06dd2b37a1f1>:9: SettingWithCopyWarning: \n",
            "A value is trying to be set on a copy of a slice from a DataFrame\n",
            "\n",
            "See the caveats in the documentation: https://pandas.pydata.org/pandas-docs/stable/user_guide/indexing.html#returning-a-view-versus-a-copy\n",
            "  data[\"Icerik\"][i]=site_veri_getir(str(data_csv[\"Link\"][i]))\n"
          ]
        },
        {
          "output_type": "stream",
          "name": "stdout",
          "text": [
            "Hata\n",
            "Sıra : 3016/3042\n"
          ]
        },
        {
          "output_type": "stream",
          "name": "stderr",
          "text": [
            "<ipython-input-10-06dd2b37a1f1>:9: SettingWithCopyWarning: \n",
            "A value is trying to be set on a copy of a slice from a DataFrame\n",
            "\n",
            "See the caveats in the documentation: https://pandas.pydata.org/pandas-docs/stable/user_guide/indexing.html#returning-a-view-versus-a-copy\n",
            "  data[\"Icerik\"][i]=site_veri_getir(str(data_csv[\"Link\"][i]))\n"
          ]
        },
        {
          "output_type": "stream",
          "name": "stdout",
          "text": [
            "Hata\n",
            "Sıra : 3017/3042\n"
          ]
        },
        {
          "output_type": "stream",
          "name": "stderr",
          "text": [
            "<ipython-input-10-06dd2b37a1f1>:9: SettingWithCopyWarning: \n",
            "A value is trying to be set on a copy of a slice from a DataFrame\n",
            "\n",
            "See the caveats in the documentation: https://pandas.pydata.org/pandas-docs/stable/user_guide/indexing.html#returning-a-view-versus-a-copy\n",
            "  data[\"Icerik\"][i]=site_veri_getir(str(data_csv[\"Link\"][i]))\n"
          ]
        },
        {
          "output_type": "stream",
          "name": "stdout",
          "text": [
            "Hata\n",
            "Sıra : 3018/3042\n"
          ]
        },
        {
          "output_type": "stream",
          "name": "stderr",
          "text": [
            "<ipython-input-10-06dd2b37a1f1>:9: SettingWithCopyWarning: \n",
            "A value is trying to be set on a copy of a slice from a DataFrame\n",
            "\n",
            "See the caveats in the documentation: https://pandas.pydata.org/pandas-docs/stable/user_guide/indexing.html#returning-a-view-versus-a-copy\n",
            "  data[\"Icerik\"][i]=site_veri_getir(str(data_csv[\"Link\"][i]))\n"
          ]
        },
        {
          "output_type": "stream",
          "name": "stdout",
          "text": [
            "Hata\n",
            "Sıra : 3019/3042\n"
          ]
        },
        {
          "output_type": "stream",
          "name": "stderr",
          "text": [
            "<ipython-input-10-06dd2b37a1f1>:9: SettingWithCopyWarning: \n",
            "A value is trying to be set on a copy of a slice from a DataFrame\n",
            "\n",
            "See the caveats in the documentation: https://pandas.pydata.org/pandas-docs/stable/user_guide/indexing.html#returning-a-view-versus-a-copy\n",
            "  data[\"Icerik\"][i]=site_veri_getir(str(data_csv[\"Link\"][i]))\n"
          ]
        },
        {
          "output_type": "stream",
          "name": "stdout",
          "text": [
            "Hata\n",
            "Sıra : 3020/3042\n"
          ]
        },
        {
          "output_type": "stream",
          "name": "stderr",
          "text": [
            "<ipython-input-10-06dd2b37a1f1>:9: SettingWithCopyWarning: \n",
            "A value is trying to be set on a copy of a slice from a DataFrame\n",
            "\n",
            "See the caveats in the documentation: https://pandas.pydata.org/pandas-docs/stable/user_guide/indexing.html#returning-a-view-versus-a-copy\n",
            "  data[\"Icerik\"][i]=site_veri_getir(str(data_csv[\"Link\"][i]))\n"
          ]
        },
        {
          "output_type": "stream",
          "name": "stdout",
          "text": [
            "Hata\n",
            "Sıra : 3021/3042\n"
          ]
        },
        {
          "output_type": "stream",
          "name": "stderr",
          "text": [
            "<ipython-input-10-06dd2b37a1f1>:9: SettingWithCopyWarning: \n",
            "A value is trying to be set on a copy of a slice from a DataFrame\n",
            "\n",
            "See the caveats in the documentation: https://pandas.pydata.org/pandas-docs/stable/user_guide/indexing.html#returning-a-view-versus-a-copy\n",
            "  data[\"Icerik\"][i]=site_veri_getir(str(data_csv[\"Link\"][i]))\n"
          ]
        },
        {
          "output_type": "stream",
          "name": "stdout",
          "text": [
            "Hata\n",
            "Sıra : 3022/3042\n"
          ]
        },
        {
          "output_type": "stream",
          "name": "stderr",
          "text": [
            "<ipython-input-10-06dd2b37a1f1>:9: SettingWithCopyWarning: \n",
            "A value is trying to be set on a copy of a slice from a DataFrame\n",
            "\n",
            "See the caveats in the documentation: https://pandas.pydata.org/pandas-docs/stable/user_guide/indexing.html#returning-a-view-versus-a-copy\n",
            "  data[\"Icerik\"][i]=site_veri_getir(str(data_csv[\"Link\"][i]))\n"
          ]
        },
        {
          "output_type": "stream",
          "name": "stdout",
          "text": [
            "Hata\n",
            "Sıra : 3023/3042\n"
          ]
        },
        {
          "output_type": "stream",
          "name": "stderr",
          "text": [
            "<ipython-input-10-06dd2b37a1f1>:9: SettingWithCopyWarning: \n",
            "A value is trying to be set on a copy of a slice from a DataFrame\n",
            "\n",
            "See the caveats in the documentation: https://pandas.pydata.org/pandas-docs/stable/user_guide/indexing.html#returning-a-view-versus-a-copy\n",
            "  data[\"Icerik\"][i]=site_veri_getir(str(data_csv[\"Link\"][i]))\n"
          ]
        },
        {
          "output_type": "stream",
          "name": "stdout",
          "text": [
            "Hata\n",
            "Sıra : 3024/3042\n"
          ]
        },
        {
          "output_type": "stream",
          "name": "stderr",
          "text": [
            "<ipython-input-10-06dd2b37a1f1>:9: SettingWithCopyWarning: \n",
            "A value is trying to be set on a copy of a slice from a DataFrame\n",
            "\n",
            "See the caveats in the documentation: https://pandas.pydata.org/pandas-docs/stable/user_guide/indexing.html#returning-a-view-versus-a-copy\n",
            "  data[\"Icerik\"][i]=site_veri_getir(str(data_csv[\"Link\"][i]))\n"
          ]
        },
        {
          "output_type": "stream",
          "name": "stdout",
          "text": [
            "Hata\n",
            "Sıra : 3025/3042\n"
          ]
        },
        {
          "output_type": "stream",
          "name": "stderr",
          "text": [
            "<ipython-input-10-06dd2b37a1f1>:9: SettingWithCopyWarning: \n",
            "A value is trying to be set on a copy of a slice from a DataFrame\n",
            "\n",
            "See the caveats in the documentation: https://pandas.pydata.org/pandas-docs/stable/user_guide/indexing.html#returning-a-view-versus-a-copy\n",
            "  data[\"Icerik\"][i]=site_veri_getir(str(data_csv[\"Link\"][i]))\n"
          ]
        },
        {
          "output_type": "stream",
          "name": "stdout",
          "text": [
            "Hata\n",
            "Sıra : 3026/3042\n"
          ]
        },
        {
          "output_type": "stream",
          "name": "stderr",
          "text": [
            "<ipython-input-10-06dd2b37a1f1>:9: SettingWithCopyWarning: \n",
            "A value is trying to be set on a copy of a slice from a DataFrame\n",
            "\n",
            "See the caveats in the documentation: https://pandas.pydata.org/pandas-docs/stable/user_guide/indexing.html#returning-a-view-versus-a-copy\n",
            "  data[\"Icerik\"][i]=site_veri_getir(str(data_csv[\"Link\"][i]))\n"
          ]
        },
        {
          "output_type": "stream",
          "name": "stdout",
          "text": [
            "Hata\n",
            "Sıra : 3027/3042\n"
          ]
        },
        {
          "output_type": "stream",
          "name": "stderr",
          "text": [
            "<ipython-input-10-06dd2b37a1f1>:9: SettingWithCopyWarning: \n",
            "A value is trying to be set on a copy of a slice from a DataFrame\n",
            "\n",
            "See the caveats in the documentation: https://pandas.pydata.org/pandas-docs/stable/user_guide/indexing.html#returning-a-view-versus-a-copy\n",
            "  data[\"Icerik\"][i]=site_veri_getir(str(data_csv[\"Link\"][i]))\n"
          ]
        },
        {
          "output_type": "stream",
          "name": "stdout",
          "text": [
            "Hata\n",
            "Sıra : 3028/3042\n"
          ]
        },
        {
          "output_type": "stream",
          "name": "stderr",
          "text": [
            "<ipython-input-10-06dd2b37a1f1>:9: SettingWithCopyWarning: \n",
            "A value is trying to be set on a copy of a slice from a DataFrame\n",
            "\n",
            "See the caveats in the documentation: https://pandas.pydata.org/pandas-docs/stable/user_guide/indexing.html#returning-a-view-versus-a-copy\n",
            "  data[\"Icerik\"][i]=site_veri_getir(str(data_csv[\"Link\"][i]))\n"
          ]
        },
        {
          "output_type": "stream",
          "name": "stdout",
          "text": [
            "Hata\n",
            "Sıra : 3029/3042\n"
          ]
        },
        {
          "output_type": "stream",
          "name": "stderr",
          "text": [
            "<ipython-input-10-06dd2b37a1f1>:9: SettingWithCopyWarning: \n",
            "A value is trying to be set on a copy of a slice from a DataFrame\n",
            "\n",
            "See the caveats in the documentation: https://pandas.pydata.org/pandas-docs/stable/user_guide/indexing.html#returning-a-view-versus-a-copy\n",
            "  data[\"Icerik\"][i]=site_veri_getir(str(data_csv[\"Link\"][i]))\n"
          ]
        },
        {
          "output_type": "stream",
          "name": "stdout",
          "text": [
            "Hata\n",
            "Sıra : 3030/3042\n"
          ]
        },
        {
          "output_type": "stream",
          "name": "stderr",
          "text": [
            "<ipython-input-10-06dd2b37a1f1>:9: SettingWithCopyWarning: \n",
            "A value is trying to be set on a copy of a slice from a DataFrame\n",
            "\n",
            "See the caveats in the documentation: https://pandas.pydata.org/pandas-docs/stable/user_guide/indexing.html#returning-a-view-versus-a-copy\n",
            "  data[\"Icerik\"][i]=site_veri_getir(str(data_csv[\"Link\"][i]))\n"
          ]
        },
        {
          "output_type": "stream",
          "name": "stdout",
          "text": [
            "Hata\n",
            "Sıra : 3031/3042\n"
          ]
        },
        {
          "output_type": "stream",
          "name": "stderr",
          "text": [
            "<ipython-input-10-06dd2b37a1f1>:9: SettingWithCopyWarning: \n",
            "A value is trying to be set on a copy of a slice from a DataFrame\n",
            "\n",
            "See the caveats in the documentation: https://pandas.pydata.org/pandas-docs/stable/user_guide/indexing.html#returning-a-view-versus-a-copy\n",
            "  data[\"Icerik\"][i]=site_veri_getir(str(data_csv[\"Link\"][i]))\n"
          ]
        },
        {
          "output_type": "stream",
          "name": "stdout",
          "text": [
            "Hata\n",
            "Sıra : 3032/3042\n"
          ]
        },
        {
          "output_type": "stream",
          "name": "stderr",
          "text": [
            "<ipython-input-10-06dd2b37a1f1>:9: SettingWithCopyWarning: \n",
            "A value is trying to be set on a copy of a slice from a DataFrame\n",
            "\n",
            "See the caveats in the documentation: https://pandas.pydata.org/pandas-docs/stable/user_guide/indexing.html#returning-a-view-versus-a-copy\n",
            "  data[\"Icerik\"][i]=site_veri_getir(str(data_csv[\"Link\"][i]))\n"
          ]
        },
        {
          "output_type": "stream",
          "name": "stdout",
          "text": [
            "Hata\n",
            "Sıra : 3033/3042\n"
          ]
        },
        {
          "output_type": "stream",
          "name": "stderr",
          "text": [
            "<ipython-input-10-06dd2b37a1f1>:9: SettingWithCopyWarning: \n",
            "A value is trying to be set on a copy of a slice from a DataFrame\n",
            "\n",
            "See the caveats in the documentation: https://pandas.pydata.org/pandas-docs/stable/user_guide/indexing.html#returning-a-view-versus-a-copy\n",
            "  data[\"Icerik\"][i]=site_veri_getir(str(data_csv[\"Link\"][i]))\n"
          ]
        },
        {
          "output_type": "stream",
          "name": "stdout",
          "text": [
            "Hata\n",
            "Sıra : 3034/3042\n"
          ]
        },
        {
          "output_type": "stream",
          "name": "stderr",
          "text": [
            "<ipython-input-10-06dd2b37a1f1>:9: SettingWithCopyWarning: \n",
            "A value is trying to be set on a copy of a slice from a DataFrame\n",
            "\n",
            "See the caveats in the documentation: https://pandas.pydata.org/pandas-docs/stable/user_guide/indexing.html#returning-a-view-versus-a-copy\n",
            "  data[\"Icerik\"][i]=site_veri_getir(str(data_csv[\"Link\"][i]))\n"
          ]
        },
        {
          "output_type": "stream",
          "name": "stdout",
          "text": [
            "Hata\n",
            "Sıra : 3035/3042\n"
          ]
        },
        {
          "output_type": "stream",
          "name": "stderr",
          "text": [
            "<ipython-input-10-06dd2b37a1f1>:9: SettingWithCopyWarning: \n",
            "A value is trying to be set on a copy of a slice from a DataFrame\n",
            "\n",
            "See the caveats in the documentation: https://pandas.pydata.org/pandas-docs/stable/user_guide/indexing.html#returning-a-view-versus-a-copy\n",
            "  data[\"Icerik\"][i]=site_veri_getir(str(data_csv[\"Link\"][i]))\n"
          ]
        },
        {
          "output_type": "stream",
          "name": "stdout",
          "text": [
            "Hata\n",
            "Sıra : 3036/3042\n"
          ]
        },
        {
          "output_type": "stream",
          "name": "stderr",
          "text": [
            "<ipython-input-10-06dd2b37a1f1>:9: SettingWithCopyWarning: \n",
            "A value is trying to be set on a copy of a slice from a DataFrame\n",
            "\n",
            "See the caveats in the documentation: https://pandas.pydata.org/pandas-docs/stable/user_guide/indexing.html#returning-a-view-versus-a-copy\n",
            "  data[\"Icerik\"][i]=site_veri_getir(str(data_csv[\"Link\"][i]))\n"
          ]
        },
        {
          "output_type": "stream",
          "name": "stdout",
          "text": [
            "Hata\n",
            "Sıra : 3037/3042\n"
          ]
        },
        {
          "output_type": "stream",
          "name": "stderr",
          "text": [
            "<ipython-input-10-06dd2b37a1f1>:9: SettingWithCopyWarning: \n",
            "A value is trying to be set on a copy of a slice from a DataFrame\n",
            "\n",
            "See the caveats in the documentation: https://pandas.pydata.org/pandas-docs/stable/user_guide/indexing.html#returning-a-view-versus-a-copy\n",
            "  data[\"Icerik\"][i]=site_veri_getir(str(data_csv[\"Link\"][i]))\n"
          ]
        },
        {
          "output_type": "stream",
          "name": "stdout",
          "text": [
            "Hata\n",
            "Sıra : 3038/3042\n"
          ]
        },
        {
          "output_type": "stream",
          "name": "stderr",
          "text": [
            "<ipython-input-10-06dd2b37a1f1>:9: SettingWithCopyWarning: \n",
            "A value is trying to be set on a copy of a slice from a DataFrame\n",
            "\n",
            "See the caveats in the documentation: https://pandas.pydata.org/pandas-docs/stable/user_guide/indexing.html#returning-a-view-versus-a-copy\n",
            "  data[\"Icerik\"][i]=site_veri_getir(str(data_csv[\"Link\"][i]))\n"
          ]
        },
        {
          "output_type": "stream",
          "name": "stdout",
          "text": [
            "Hata\n",
            "Sıra : 3039/3042\n"
          ]
        },
        {
          "output_type": "stream",
          "name": "stderr",
          "text": [
            "<ipython-input-10-06dd2b37a1f1>:9: SettingWithCopyWarning: \n",
            "A value is trying to be set on a copy of a slice from a DataFrame\n",
            "\n",
            "See the caveats in the documentation: https://pandas.pydata.org/pandas-docs/stable/user_guide/indexing.html#returning-a-view-versus-a-copy\n",
            "  data[\"Icerik\"][i]=site_veri_getir(str(data_csv[\"Link\"][i]))\n"
          ]
        },
        {
          "output_type": "stream",
          "name": "stdout",
          "text": [
            "Hata\n",
            "Sıra : 3040/3042\n"
          ]
        },
        {
          "output_type": "stream",
          "name": "stderr",
          "text": [
            "<ipython-input-10-06dd2b37a1f1>:9: SettingWithCopyWarning: \n",
            "A value is trying to be set on a copy of a slice from a DataFrame\n",
            "\n",
            "See the caveats in the documentation: https://pandas.pydata.org/pandas-docs/stable/user_guide/indexing.html#returning-a-view-versus-a-copy\n",
            "  data[\"Icerik\"][i]=site_veri_getir(str(data_csv[\"Link\"][i]))\n"
          ]
        },
        {
          "output_type": "stream",
          "name": "stdout",
          "text": [
            "Hata\n",
            "Sıra : 3041/3042\n"
          ]
        },
        {
          "output_type": "stream",
          "name": "stderr",
          "text": [
            "<ipython-input-10-06dd2b37a1f1>:9: SettingWithCopyWarning: \n",
            "A value is trying to be set on a copy of a slice from a DataFrame\n",
            "\n",
            "See the caveats in the documentation: https://pandas.pydata.org/pandas-docs/stable/user_guide/indexing.html#returning-a-view-versus-a-copy\n",
            "  data[\"Icerik\"][i]=site_veri_getir(str(data_csv[\"Link\"][i]))\n"
          ]
        },
        {
          "output_type": "stream",
          "name": "stdout",
          "text": [
            "Hata\n"
          ]
        }
      ]
    },
    {
      "cell_type": "code",
      "source": [
        "import pandas as pd\n",
        "\n",
        "#kodu devam ettir\n",
        "dosya_kaydet = \"/content/drive/MyDrive/Veri-Kazima/28_4_2024+11-28-9_UCUNCU_futbolarena_.csv\"\n",
        "data = pd.read_csv(dosya_kaydet)\n",
        "data = pd.DataFrame(data)\n",
        "data.Icerik.count()"
      ],
      "metadata": {
        "id": "WcAq_D5iIJVK",
        "colab": {
          "base_uri": "https://localhost:8080/"
        },
        "outputId": "481c45a0-53e3-4311-81c5-8226a2f10de4"
      },
      "execution_count": null,
      "outputs": [
        {
          "output_type": "execute_result",
          "data": {
            "text/plain": [
              "3042"
            ]
          },
          "metadata": {},
          "execution_count": 11
        }
      ]
    },
    {
      "cell_type": "code",
      "source": [
        "kelime_sayisi(dosya_kaydet)"
      ],
      "metadata": {
        "id": "wXYADNdMINIA",
        "colab": {
          "base_uri": "https://localhost:8080/"
        },
        "outputId": "f793d4d5-0c21-4cad-cac0-d1b268e3415a"
      },
      "execution_count": null,
      "outputs": [
        {
          "output_type": "execute_result",
          "data": {
            "text/plain": [
              "820683"
            ]
          },
          "metadata": {},
          "execution_count": 12
        }
      ]
    },
    {
      "cell_type": "code",
      "source": [
        "len(data)"
      ],
      "metadata": {
        "id": "fA9cRIEPIQw_",
        "colab": {
          "base_uri": "https://localhost:8080/"
        },
        "outputId": "9cfe4a3b-b512-4090-9437-6cf6ed17c87d"
      },
      "execution_count": null,
      "outputs": [
        {
          "output_type": "execute_result",
          "data": {
            "text/plain": [
              "3042"
            ]
          },
          "metadata": {},
          "execution_count": 13
        }
      ]
    },
    {
      "cell_type": "code",
      "source": [
        "data"
      ],
      "metadata": {
        "colab": {
          "base_uri": "https://localhost:8080/",
          "height": 15105
        },
        "id": "XCmkDM5ODTG7",
        "outputId": "3512033e-0b92-4da4-c5bc-1a37055d81a0"
      },
      "execution_count": null,
      "outputs": [
        {
          "output_type": "execute_result",
          "data": {
            "text/plain": [
              "      Unnamed: 0                                             Baslik  \\\n",
              "0              0  Juventus'a \"mali işlemlerde usulsüzlük\" soruşt...   \n",
              "1              1    Allegri açıkladı! Ronaldo, Juventus'tan ayrıldı   \n",
              "2              2  Hakan Çalhanoğlu'dan Inter ile ilk maçında 1 g...   \n",
              "3              3  Dortmund, Merih Demiral'ı istiyor! Juventus'un...   \n",
              "4              4  Zeki Çelik'e transferde Inter ve Fiorentina ka...   \n",
              "...          ...                                                ...   \n",
              "3037        3037  Bybit Türkiye Kullanıcılarına Özel Çekilebilir...   \n",
              "3038        3038  Türk taraftarların %65'i kendini 'fanatik' ola...   \n",
              "3039        3039  Mertens'in forma numarası 76 farklı ülkeden ta...   \n",
              "3040        3040  Göztepe'de Yasin Öztekin'in forma numarasını t...   \n",
              "3041        3041  Türkiye'nin en büyük taraftarlık anketi sonuçl...   \n",
              "\n",
              "                                                   Ozet   Kategori  \\\n",
              "0     İtalyan mali polis ekipleri, kulübün Torino ve...    Serie A   \n",
              "1     Juventus Teknik Direktörü Allegri, Cristiano R...    Serie A   \n",
              "2     Hakan Çalhanoğlu, Inter formasıyla İtalya Seri...    Serie A   \n",
              "3     Borussia Dortmund, Merih Demiral için Juventus...    Serie A   \n",
              "4     İtalya basınında yer bulan habere göre Inter v...    Serie A   \n",
              "...                                                 ...        ...   \n",
              "3037  Yeni nesil kripto para borsası Bybit; birbirin...  Fan Token   \n",
              "3038  Socios.com Türkiye'de bugüne kadar yapılmış en...  Fan Token   \n",
              "3039  Galatasaray'ın yeni transferi Dries Mertens'in...  Fan Token   \n",
              "3040  Göztepe'de Yasin Öztekin'in forma numarasını t...  Fan Token   \n",
              "3041  Dünyanın en büyük taraftar etkileşim platformu...  Fan Token   \n",
              "\n",
              "                                                   Link  \\\n",
              "0     https://www.futbolarena.com/juventus/juventusa...   \n",
              "1     https://www.futbolarena.com/juventus/allegri-a...   \n",
              "2     https://www.futbolarena.com/inter/hakan-calhan...   \n",
              "3     https://www.futbolarena.com/juventus/dortmund-...   \n",
              "4     https://www.futbolarena.com/inter/zeki-celike-...   \n",
              "...                                                 ...   \n",
              "3037  https://www.futbolarena.com/bybit-turkiye-kull...   \n",
              "3038  https://www.futbolarena.com/turk-taraftarlarin...   \n",
              "3039  https://www.futbolarena.com/mertensin-forma-nu...   \n",
              "3040  https://www.futbolarena.com/goztepede-yasin-oz...   \n",
              "3041  https://www.futbolarena.com/turkiyenin-en-buyu...   \n",
              "\n",
              "                                                 Icerik  \n",
              "0     Juventus\\nFutbol Haberleri\\nSerie A\\nJuventus\\...  \n",
              "1     Juventus\\nFutbol Haberleri\\nSerie A\\nJuventus\\...  \n",
              "2     Inter\\nFutbol Haberleri\\nSerie A\\nInter\\nHakan...  \n",
              "3     Juventus\\nFutbol Haberleri\\nSerie A\\nJuventus\\...  \n",
              "4     Inter\\nFutbol Haberleri\\nSerie A\\nInter\\nZeki ...  \n",
              "...                                                 ...  \n",
              "3037  Bybit Türkiye Kullanıcılarına Özel Çekilebilir...  \n",
              "3038  Türk taraftarların %65'i kendini 'fanatik' ola...  \n",
              "3039  Mertens'in forma numarası 76 farklı ülkeden ta...  \n",
              "3040  Göztepe'de Yasin Öztekin'in forma numarasını t...  \n",
              "3041  Türkiye'nin en büyük taraftarlık anketi sonuçl...  \n",
              "\n",
              "[3042 rows x 6 columns]"
            ],
            "text/html": [
              "\n",
              "  <div id=\"df-83d08387-3084-4551-852a-9032101e2df7\" class=\"colab-df-container\">\n",
              "    <div>\n",
              "<style scoped>\n",
              "    .dataframe tbody tr th:only-of-type {\n",
              "        vertical-align: middle;\n",
              "    }\n",
              "\n",
              "    .dataframe tbody tr th {\n",
              "        vertical-align: top;\n",
              "    }\n",
              "\n",
              "    .dataframe thead th {\n",
              "        text-align: right;\n",
              "    }\n",
              "</style>\n",
              "<table border=\"1\" class=\"dataframe\">\n",
              "  <thead>\n",
              "    <tr style=\"text-align: right;\">\n",
              "      <th></th>\n",
              "      <th>Unnamed: 0</th>\n",
              "      <th>Baslik</th>\n",
              "      <th>Ozet</th>\n",
              "      <th>Kategori</th>\n",
              "      <th>Link</th>\n",
              "      <th>Icerik</th>\n",
              "    </tr>\n",
              "  </thead>\n",
              "  <tbody>\n",
              "    <tr>\n",
              "      <th>0</th>\n",
              "      <td>0</td>\n",
              "      <td>Juventus'a \"mali işlemlerde usulsüzlük\" soruşt...</td>\n",
              "      <td>İtalyan mali polis ekipleri, kulübün Torino ve...</td>\n",
              "      <td>Serie A</td>\n",
              "      <td>https://www.futbolarena.com/juventus/juventusa...</td>\n",
              "      <td>Juventus\\nFutbol Haberleri\\nSerie A\\nJuventus\\...</td>\n",
              "    </tr>\n",
              "    <tr>\n",
              "      <th>1</th>\n",
              "      <td>1</td>\n",
              "      <td>Allegri açıkladı! Ronaldo, Juventus'tan ayrıldı</td>\n",
              "      <td>Juventus Teknik Direktörü Allegri, Cristiano R...</td>\n",
              "      <td>Serie A</td>\n",
              "      <td>https://www.futbolarena.com/juventus/allegri-a...</td>\n",
              "      <td>Juventus\\nFutbol Haberleri\\nSerie A\\nJuventus\\...</td>\n",
              "    </tr>\n",
              "    <tr>\n",
              "      <th>2</th>\n",
              "      <td>2</td>\n",
              "      <td>Hakan Çalhanoğlu'dan Inter ile ilk maçında 1 g...</td>\n",
              "      <td>Hakan Çalhanoğlu, Inter formasıyla İtalya Seri...</td>\n",
              "      <td>Serie A</td>\n",
              "      <td>https://www.futbolarena.com/inter/hakan-calhan...</td>\n",
              "      <td>Inter\\nFutbol Haberleri\\nSerie A\\nInter\\nHakan...</td>\n",
              "    </tr>\n",
              "    <tr>\n",
              "      <th>3</th>\n",
              "      <td>3</td>\n",
              "      <td>Dortmund, Merih Demiral'ı istiyor! Juventus'un...</td>\n",
              "      <td>Borussia Dortmund, Merih Demiral için Juventus...</td>\n",
              "      <td>Serie A</td>\n",
              "      <td>https://www.futbolarena.com/juventus/dortmund-...</td>\n",
              "      <td>Juventus\\nFutbol Haberleri\\nSerie A\\nJuventus\\...</td>\n",
              "    </tr>\n",
              "    <tr>\n",
              "      <th>4</th>\n",
              "      <td>4</td>\n",
              "      <td>Zeki Çelik'e transferde Inter ve Fiorentina ka...</td>\n",
              "      <td>İtalya basınında yer bulan habere göre Inter v...</td>\n",
              "      <td>Serie A</td>\n",
              "      <td>https://www.futbolarena.com/inter/zeki-celike-...</td>\n",
              "      <td>Inter\\nFutbol Haberleri\\nSerie A\\nInter\\nZeki ...</td>\n",
              "    </tr>\n",
              "    <tr>\n",
              "      <th>...</th>\n",
              "      <td>...</td>\n",
              "      <td>...</td>\n",
              "      <td>...</td>\n",
              "      <td>...</td>\n",
              "      <td>...</td>\n",
              "      <td>...</td>\n",
              "    </tr>\n",
              "    <tr>\n",
              "      <th>3037</th>\n",
              "      <td>3037</td>\n",
              "      <td>Bybit Türkiye Kullanıcılarına Özel Çekilebilir...</td>\n",
              "      <td>Yeni nesil kripto para borsası Bybit; birbirin...</td>\n",
              "      <td>Fan Token</td>\n",
              "      <td>https://www.futbolarena.com/bybit-turkiye-kull...</td>\n",
              "      <td>Bybit Türkiye Kullanıcılarına Özel Çekilebilir...</td>\n",
              "    </tr>\n",
              "    <tr>\n",
              "      <th>3038</th>\n",
              "      <td>3038</td>\n",
              "      <td>Türk taraftarların %65'i kendini 'fanatik' ola...</td>\n",
              "      <td>Socios.com Türkiye'de bugüne kadar yapılmış en...</td>\n",
              "      <td>Fan Token</td>\n",
              "      <td>https://www.futbolarena.com/turk-taraftarlarin...</td>\n",
              "      <td>Türk taraftarların %65'i kendini 'fanatik' ola...</td>\n",
              "    </tr>\n",
              "    <tr>\n",
              "      <th>3039</th>\n",
              "      <td>3039</td>\n",
              "      <td>Mertens'in forma numarası 76 farklı ülkeden ta...</td>\n",
              "      <td>Galatasaray'ın yeni transferi Dries Mertens'in...</td>\n",
              "      <td>Fan Token</td>\n",
              "      <td>https://www.futbolarena.com/mertensin-forma-nu...</td>\n",
              "      <td>Mertens'in forma numarası 76 farklı ülkeden ta...</td>\n",
              "    </tr>\n",
              "    <tr>\n",
              "      <th>3040</th>\n",
              "      <td>3040</td>\n",
              "      <td>Göztepe'de Yasin Öztekin'in forma numarasını t...</td>\n",
              "      <td>Göztepe'de Yasin Öztekin'in forma numarasını t...</td>\n",
              "      <td>Fan Token</td>\n",
              "      <td>https://www.futbolarena.com/goztepede-yasin-oz...</td>\n",
              "      <td>Göztepe'de Yasin Öztekin'in forma numarasını t...</td>\n",
              "    </tr>\n",
              "    <tr>\n",
              "      <th>3041</th>\n",
              "      <td>3041</td>\n",
              "      <td>Türkiye'nin en büyük taraftarlık anketi sonuçl...</td>\n",
              "      <td>Dünyanın en büyük taraftar etkileşim platformu...</td>\n",
              "      <td>Fan Token</td>\n",
              "      <td>https://www.futbolarena.com/turkiyenin-en-buyu...</td>\n",
              "      <td>Türkiye'nin en büyük taraftarlık anketi sonuçl...</td>\n",
              "    </tr>\n",
              "  </tbody>\n",
              "</table>\n",
              "<p>3042 rows × 6 columns</p>\n",
              "</div>\n",
              "    <div class=\"colab-df-buttons\">\n",
              "\n",
              "  <div class=\"colab-df-container\">\n",
              "    <button class=\"colab-df-convert\" onclick=\"convertToInteractive('df-83d08387-3084-4551-852a-9032101e2df7')\"\n",
              "            title=\"Convert this dataframe to an interactive table.\"\n",
              "            style=\"display:none;\">\n",
              "\n",
              "  <svg xmlns=\"http://www.w3.org/2000/svg\" height=\"24px\" viewBox=\"0 -960 960 960\">\n",
              "    <path d=\"M120-120v-720h720v720H120Zm60-500h600v-160H180v160Zm220 220h160v-160H400v160Zm0 220h160v-160H400v160ZM180-400h160v-160H180v160Zm440 0h160v-160H620v160ZM180-180h160v-160H180v160Zm440 0h160v-160H620v160Z\"/>\n",
              "  </svg>\n",
              "    </button>\n",
              "\n",
              "  <style>\n",
              "    .colab-df-container {\n",
              "      display:flex;\n",
              "      gap: 12px;\n",
              "    }\n",
              "\n",
              "    .colab-df-convert {\n",
              "      background-color: #E8F0FE;\n",
              "      border: none;\n",
              "      border-radius: 50%;\n",
              "      cursor: pointer;\n",
              "      display: none;\n",
              "      fill: #1967D2;\n",
              "      height: 32px;\n",
              "      padding: 0 0 0 0;\n",
              "      width: 32px;\n",
              "    }\n",
              "\n",
              "    .colab-df-convert:hover {\n",
              "      background-color: #E2EBFA;\n",
              "      box-shadow: 0px 1px 2px rgba(60, 64, 67, 0.3), 0px 1px 3px 1px rgba(60, 64, 67, 0.15);\n",
              "      fill: #174EA6;\n",
              "    }\n",
              "\n",
              "    .colab-df-buttons div {\n",
              "      margin-bottom: 4px;\n",
              "    }\n",
              "\n",
              "    [theme=dark] .colab-df-convert {\n",
              "      background-color: #3B4455;\n",
              "      fill: #D2E3FC;\n",
              "    }\n",
              "\n",
              "    [theme=dark] .colab-df-convert:hover {\n",
              "      background-color: #434B5C;\n",
              "      box-shadow: 0px 1px 3px 1px rgba(0, 0, 0, 0.15);\n",
              "      filter: drop-shadow(0px 1px 2px rgba(0, 0, 0, 0.3));\n",
              "      fill: #FFFFFF;\n",
              "    }\n",
              "  </style>\n",
              "\n",
              "    <script>\n",
              "      const buttonEl =\n",
              "        document.querySelector('#df-83d08387-3084-4551-852a-9032101e2df7 button.colab-df-convert');\n",
              "      buttonEl.style.display =\n",
              "        google.colab.kernel.accessAllowed ? 'block' : 'none';\n",
              "\n",
              "      async function convertToInteractive(key) {\n",
              "        const element = document.querySelector('#df-83d08387-3084-4551-852a-9032101e2df7');\n",
              "        const dataTable =\n",
              "          await google.colab.kernel.invokeFunction('convertToInteractive',\n",
              "                                                    [key], {});\n",
              "        if (!dataTable) return;\n",
              "\n",
              "        const docLinkHtml = 'Like what you see? Visit the ' +\n",
              "          '<a target=\"_blank\" href=https://colab.research.google.com/notebooks/data_table.ipynb>data table notebook</a>'\n",
              "          + ' to learn more about interactive tables.';\n",
              "        element.innerHTML = '';\n",
              "        dataTable['output_type'] = 'display_data';\n",
              "        await google.colab.output.renderOutput(dataTable, element);\n",
              "        const docLink = document.createElement('div');\n",
              "        docLink.innerHTML = docLinkHtml;\n",
              "        element.appendChild(docLink);\n",
              "      }\n",
              "    </script>\n",
              "  </div>\n",
              "\n",
              "\n",
              "<div id=\"df-333c53ce-f861-44da-8c06-331bc5b80df0\">\n",
              "  <button class=\"colab-df-quickchart\" onclick=\"quickchart('df-333c53ce-f861-44da-8c06-331bc5b80df0')\"\n",
              "            title=\"Suggest charts\"\n",
              "            style=\"display:none;\">\n",
              "\n",
              "<svg xmlns=\"http://www.w3.org/2000/svg\" height=\"24px\"viewBox=\"0 0 24 24\"\n",
              "     width=\"24px\">\n",
              "    <g>\n",
              "        <path d=\"M19 3H5c-1.1 0-2 .9-2 2v14c0 1.1.9 2 2 2h14c1.1 0 2-.9 2-2V5c0-1.1-.9-2-2-2zM9 17H7v-7h2v7zm4 0h-2V7h2v10zm4 0h-2v-4h2v4z\"/>\n",
              "    </g>\n",
              "</svg>\n",
              "  </button>\n",
              "\n",
              "<style>\n",
              "  .colab-df-quickchart {\n",
              "      --bg-color: #E8F0FE;\n",
              "      --fill-color: #1967D2;\n",
              "      --hover-bg-color: #E2EBFA;\n",
              "      --hover-fill-color: #174EA6;\n",
              "      --disabled-fill-color: #AAA;\n",
              "      --disabled-bg-color: #DDD;\n",
              "  }\n",
              "\n",
              "  [theme=dark] .colab-df-quickchart {\n",
              "      --bg-color: #3B4455;\n",
              "      --fill-color: #D2E3FC;\n",
              "      --hover-bg-color: #434B5C;\n",
              "      --hover-fill-color: #FFFFFF;\n",
              "      --disabled-bg-color: #3B4455;\n",
              "      --disabled-fill-color: #666;\n",
              "  }\n",
              "\n",
              "  .colab-df-quickchart {\n",
              "    background-color: var(--bg-color);\n",
              "    border: none;\n",
              "    border-radius: 50%;\n",
              "    cursor: pointer;\n",
              "    display: none;\n",
              "    fill: var(--fill-color);\n",
              "    height: 32px;\n",
              "    padding: 0;\n",
              "    width: 32px;\n",
              "  }\n",
              "\n",
              "  .colab-df-quickchart:hover {\n",
              "    background-color: var(--hover-bg-color);\n",
              "    box-shadow: 0 1px 2px rgba(60, 64, 67, 0.3), 0 1px 3px 1px rgba(60, 64, 67, 0.15);\n",
              "    fill: var(--button-hover-fill-color);\n",
              "  }\n",
              "\n",
              "  .colab-df-quickchart-complete:disabled,\n",
              "  .colab-df-quickchart-complete:disabled:hover {\n",
              "    background-color: var(--disabled-bg-color);\n",
              "    fill: var(--disabled-fill-color);\n",
              "    box-shadow: none;\n",
              "  }\n",
              "\n",
              "  .colab-df-spinner {\n",
              "    border: 2px solid var(--fill-color);\n",
              "    border-color: transparent;\n",
              "    border-bottom-color: var(--fill-color);\n",
              "    animation:\n",
              "      spin 1s steps(1) infinite;\n",
              "  }\n",
              "\n",
              "  @keyframes spin {\n",
              "    0% {\n",
              "      border-color: transparent;\n",
              "      border-bottom-color: var(--fill-color);\n",
              "      border-left-color: var(--fill-color);\n",
              "    }\n",
              "    20% {\n",
              "      border-color: transparent;\n",
              "      border-left-color: var(--fill-color);\n",
              "      border-top-color: var(--fill-color);\n",
              "    }\n",
              "    30% {\n",
              "      border-color: transparent;\n",
              "      border-left-color: var(--fill-color);\n",
              "      border-top-color: var(--fill-color);\n",
              "      border-right-color: var(--fill-color);\n",
              "    }\n",
              "    40% {\n",
              "      border-color: transparent;\n",
              "      border-right-color: var(--fill-color);\n",
              "      border-top-color: var(--fill-color);\n",
              "    }\n",
              "    60% {\n",
              "      border-color: transparent;\n",
              "      border-right-color: var(--fill-color);\n",
              "    }\n",
              "    80% {\n",
              "      border-color: transparent;\n",
              "      border-right-color: var(--fill-color);\n",
              "      border-bottom-color: var(--fill-color);\n",
              "    }\n",
              "    90% {\n",
              "      border-color: transparent;\n",
              "      border-bottom-color: var(--fill-color);\n",
              "    }\n",
              "  }\n",
              "</style>\n",
              "\n",
              "  <script>\n",
              "    async function quickchart(key) {\n",
              "      const quickchartButtonEl =\n",
              "        document.querySelector('#' + key + ' button');\n",
              "      quickchartButtonEl.disabled = true;  // To prevent multiple clicks.\n",
              "      quickchartButtonEl.classList.add('colab-df-spinner');\n",
              "      try {\n",
              "        const charts = await google.colab.kernel.invokeFunction(\n",
              "            'suggestCharts', [key], {});\n",
              "      } catch (error) {\n",
              "        console.error('Error during call to suggestCharts:', error);\n",
              "      }\n",
              "      quickchartButtonEl.classList.remove('colab-df-spinner');\n",
              "      quickchartButtonEl.classList.add('colab-df-quickchart-complete');\n",
              "    }\n",
              "    (() => {\n",
              "      let quickchartButtonEl =\n",
              "        document.querySelector('#df-333c53ce-f861-44da-8c06-331bc5b80df0 button');\n",
              "      quickchartButtonEl.style.display =\n",
              "        google.colab.kernel.accessAllowed ? 'block' : 'none';\n",
              "    })();\n",
              "  </script>\n",
              "</div>\n",
              "\n",
              "  <div id=\"id_1e88a5ea-d413-4cc3-a79a-69838a92376b\">\n",
              "    <style>\n",
              "      .colab-df-generate {\n",
              "        background-color: #E8F0FE;\n",
              "        border: none;\n",
              "        border-radius: 50%;\n",
              "        cursor: pointer;\n",
              "        display: none;\n",
              "        fill: #1967D2;\n",
              "        height: 32px;\n",
              "        padding: 0 0 0 0;\n",
              "        width: 32px;\n",
              "      }\n",
              "\n",
              "      .colab-df-generate:hover {\n",
              "        background-color: #E2EBFA;\n",
              "        box-shadow: 0px 1px 2px rgba(60, 64, 67, 0.3), 0px 1px 3px 1px rgba(60, 64, 67, 0.15);\n",
              "        fill: #174EA6;\n",
              "      }\n",
              "\n",
              "      [theme=dark] .colab-df-generate {\n",
              "        background-color: #3B4455;\n",
              "        fill: #D2E3FC;\n",
              "      }\n",
              "\n",
              "      [theme=dark] .colab-df-generate:hover {\n",
              "        background-color: #434B5C;\n",
              "        box-shadow: 0px 1px 3px 1px rgba(0, 0, 0, 0.15);\n",
              "        filter: drop-shadow(0px 1px 2px rgba(0, 0, 0, 0.3));\n",
              "        fill: #FFFFFF;\n",
              "      }\n",
              "    </style>\n",
              "    <button class=\"colab-df-generate\" onclick=\"generateWithVariable('data')\"\n",
              "            title=\"Generate code using this dataframe.\"\n",
              "            style=\"display:none;\">\n",
              "\n",
              "  <svg xmlns=\"http://www.w3.org/2000/svg\" height=\"24px\"viewBox=\"0 0 24 24\"\n",
              "       width=\"24px\">\n",
              "    <path d=\"M7,19H8.4L18.45,9,17,7.55,7,17.6ZM5,21V16.75L18.45,3.32a2,2,0,0,1,2.83,0l1.4,1.43a1.91,1.91,0,0,1,.58,1.4,1.91,1.91,0,0,1-.58,1.4L9.25,21ZM18.45,9,17,7.55Zm-12,3A5.31,5.31,0,0,0,4.9,8.1,5.31,5.31,0,0,0,1,6.5,5.31,5.31,0,0,0,4.9,4.9,5.31,5.31,0,0,0,6.5,1,5.31,5.31,0,0,0,8.1,4.9,5.31,5.31,0,0,0,12,6.5,5.46,5.46,0,0,0,6.5,12Z\"/>\n",
              "  </svg>\n",
              "    </button>\n",
              "    <script>\n",
              "      (() => {\n",
              "      const buttonEl =\n",
              "        document.querySelector('#id_1e88a5ea-d413-4cc3-a79a-69838a92376b button.colab-df-generate');\n",
              "      buttonEl.style.display =\n",
              "        google.colab.kernel.accessAllowed ? 'block' : 'none';\n",
              "\n",
              "      buttonEl.onclick = () => {\n",
              "        google.colab.notebook.generateWithVariable('data');\n",
              "      }\n",
              "      })();\n",
              "    </script>\n",
              "  </div>\n",
              "\n",
              "    </div>\n",
              "  </div>\n"
            ],
            "application/vnd.google.colaboratory.intrinsic+json": {
              "type": "dataframe",
              "variable_name": "data",
              "summary": "{\n  \"name\": \"data\",\n  \"rows\": 3042,\n  \"fields\": [\n    {\n      \"column\": \"Unnamed: 0\",\n      \"properties\": {\n        \"dtype\": \"number\",\n        \"std\": 878,\n        \"min\": 0,\n        \"max\": 3041,\n        \"num_unique_values\": 3042,\n        \"samples\": [\n          298,\n          2791,\n          139\n        ],\n        \"semantic_type\": \"\",\n        \"description\": \"\"\n      }\n    },\n    {\n      \"column\": \"Baslik\",\n      \"properties\": {\n        \"dtype\": \"string\",\n        \"num_unique_values\": 2991,\n        \"samples\": [\n          \"\\u015eampiyonlar Ligi'nin \\u0130stanbul finali i\\u00e7in \\u0130ngiltere'den yeni hamle\",\n          \"Jorge Jesus: \\\"\\u015eimdi s\\u0131ra liderlikte!\\\"\",\n          \"Monaco Caen canl\\u0131 skor, ma\\u00e7 sonucu - Ma\\u00e7 hangi kanalda?\"\n        ],\n        \"semantic_type\": \"\",\n        \"description\": \"\"\n      }\n    },\n    {\n      \"column\": \"Ozet\",\n      \"properties\": {\n        \"dtype\": \"string\",\n        \"num_unique_values\": 2997,\n        \"samples\": [\n          \"PSV Eindhoven'\\u0131n Teknik Direkt\\u00f6r\\u00fc Roger Schmidt, Galatasaray ma\\u00e7\\u0131 \\u00f6ncesi Fenerbah\\u00e7e sorusuna yan\\u0131t verdi.\",\n          \"Fransa Ligue 1'de ak\\u0131llara durgunluk veren bir olay ya\\u015fand\\u0131.\",\n          \"Cengiz \\u00dcnder'in tak\\u0131m\\u0131 Roma'da teknik direkt\\u00f6r Di Francesco'nun g\\u00f6revine son verildi.\\u00a0\"\n        ],\n        \"semantic_type\": \"\",\n        \"description\": \"\"\n      }\n    },\n    {\n      \"column\": \"Kategori\",\n      \"properties\": {\n        \"dtype\": \"category\",\n        \"num_unique_values\": 6,\n        \"samples\": [\n          \"Serie A\",\n          \"Fransa Lig 1\",\n          \"Fan Token\"\n        ],\n        \"semantic_type\": \"\",\n        \"description\": \"\"\n      }\n    },\n    {\n      \"column\": \"Link\",\n      \"properties\": {\n        \"dtype\": \"string\",\n        \"num_unique_values\": 3006,\n        \"samples\": [\n          \"https://www.futbolarena.com/neymar-sikayetci-rakipler-cok-sert-giriyor-339039h/\",\n          \"https://www.futbolarena.com/neymardan-real-madrid-transfer-aciklamasi-geldi-356996h/\",\n          \"https://www.futbolarena.com/besiktas/wolverhampton-40-besiktas-mac-ozeti-ve-golleri-izle-376908h/\"\n        ],\n        \"semantic_type\": \"\",\n        \"description\": \"\"\n      }\n    },\n    {\n      \"column\": \"Icerik\",\n      \"properties\": {\n        \"dtype\": \"string\",\n        \"num_unique_values\": 3006,\n        \"samples\": [\n          \"Neymar \\u015fikayet\\u00e7i! \\\"Rakipler \\u00e7ok sert giriyor.\\\"\\n25 Ocak 2018, Per\\u015fembe 00:26\\nPAYLA\\u015e\\nPSG'nin y\\u0131ld\\u0131z futbolcusu Neymar, Fransa Ligi'nde oynanan futboldan \\u015fikayet\\u00e7i. \\nFutbolArena D\\u0131\\u015f Haberler - PSG'nin rekor \\u00fccretle transfer etti\\u011fi Neymar, Fransa Ligi'ndeki futboldan rahats\\u0131z. Zaman zaman ayr\\u0131lmak istedi\\u011fi ve yeniden La Liga'ya d\\u00f6nmeyi hedefledi\\u011fi iddia edilen Brezilyal\\u0131 y\\u0131ld\\u0131z bu kez ligdeki sert futboldan rahats\\u0131z. \\n\\nPSG'e transfer oldu\\u011fu g\\u00fcnden bu yana bir\\u00e7ok konuda g\\u00fcndem olan Neymar'\\u0131n bu kez rakiplerin kendisine s\\u00fcrekli olarak sert girmesinden \\u015fikayet\\u00e7i. Frans\\u0131z bas\\u0131n\\u0131nda RMC Sport'un haberine g\\u00f6re, PSG'e transfer oldu\\u011fu g\\u00fcnden bu yana ligdeki futboldan dert yanan Neymar'\\u0131n daha \\u00f6nce Lique 1'in La Liga kadar heyecanl\\u0131 bir lig olmad\\u0131\\u011f\\u0131ndan sitem etti\\u011fi ve bu yz\\u00fcden PSG'e transfer oldu\\u011fu i\\u00e7in pi\\u015fman oldu\\u011fu \\u00f6ne s\\u00fcr\\u00fclm\\u00fc\\u015ft\\u00fc. \\nBU KEZ SERT G\\u0130R\\u0130LMES\\u0130NDEN \\u015e\\u0130KAYET\\u00c7\\u0130\\n\\nNeymar'\\u0131n ise bu kez Fransa Lig 1 ma\\u00e7lar\\u0131nda rakiplerinin kendisine \\u00e7ok sert girmesinden \\u015fikayet\\u00e7i. Ligdeki sert futboldan veryans\\u0131n eden Neymar'\\u0131n, \\\"Rakipler bana kas\\u0131tl\\u0131 olarak sert m\\u00fcdahalelerde bulunuyor ve hakemler de buna izin veriyor. Bu durumu hakemlere ilettim. Daha dikkatli olmal\\u0131lar.\\\" dedi\\u011fi kaydedildi. \\n\\nNeymar PSG'de ka\\u00e7 gol att\\u0131?\\n\\nNeymar bu sezon PSG formas\\u0131yla ligde 15 ma\\u00e7ta 15 gol att\\u0131 ve 12 asist yapt\\u0131. \\u015eampiyonlar Ligi'nde ise 6 ma\\u00e7ta 6 gol at\\u0131p, 4 asist kaydeden Brezilyal\\u0131 y\\u0131ld\\u0131z toplamda 24 gol, 16 asistlik performans sergiledi. \\n\\nFransa Lig 1 Haberleri FutbolArena'da!\\n\\nARKADA\\u015eINI GET\\u0130R 50 TL B\\u0130LYONPUAN AL!\\nPSG\\nNeymar\\nParis Saint-Germain\\nLionel Messi\\u2019ye PSG Fan Token ile \\u00f6deme yap\\u0131lacak\",\n          \"Neymar'dan Real Madrid transfer a\\u00e7\\u0131klamas\\u0131 geldi\\n27 A\\u011fustos 2018, Pazartesi 19:19\\nPAYLA\\u015e\\n00:00 / 00:00\\nNeymar, Real Madrid'e transfer olaca\\u011f\\u0131 y\\u00f6n\\u00fcndeki s\\u00f6ylentiler hakk\\u0131nda a\\u00e7\\u0131klamalarda bulundu. \\nFutbolArena D\\u0131\\u015f Haberler - PSG'nin y\\u0131ld\\u0131z futbolcusu Neymar, uzun s\\u00fcredir hakk\\u0131nda konu\\u015fulan Real Madrid'e transfer olaca\\u011f\\u0131 y\\u00f6n\\u00fcndeki s\\u00f6ylentilere dair a\\u00e7\\u0131klamada bulundu. \\n\\nBarcelona'dan eski tak\\u0131m arkada\\u015flar\\u0131n\\u0131 ziyaret etmek i\\u00e7in \\u0130spanya'ya gelen ve Katalan ekibinin antrenman\\u0131na kat\\u0131lan Brezilyal\\u0131 futbolcu, bas\\u0131n mensuplar\\u0131n\\u0131n sorular\\u0131n\\u0131 yan\\u0131tlad\\u0131. \\n\\\"PSG'DE KALACA\\u011eIM\\\"\\n\\nNeymar bas\\u0131n mensuplar\\u0131dan gelen Real Madrid'e transfer olup olmayaca\\u011f\\u0131 y\\u00f6n\\u00fcndeki soruya, \\\"Real Madrid mi? PSG ile devam eden s\\u00f6zle\\u015fmem var. Paris'te kalaca\\u011f\\u0131m. Barcelona'dan eski tak\\u0131m arkada\\u015flar\\u0131m\\u0131 g\\u00f6rmek i\\u00e7in \\u0130spanya'ya geldim.\\\" yan\\u0131t\\u0131n\\u0131 verdi. \\n\\nNeymar PSG'de ka\\u00e7 gol att\\u0131?\\n\\nNeymar, PSG formas\\u0131yla bu sezon Fransa Lig 1'de oynad\\u0131\\u011f\\u0131 3 ma\\u00e7ta 3 gol att\\u0131 ve 1 asist yapt\\u0131. Y\\u0131ld\\u0131z futbolcu toplamda oynad\\u0131\\u011f\\u0131 4 ma\\u00e7ta ise 3 gol, 1 asistlik performans sergiledi. \\n\\nTransfer Haberleri FutbolArena'da!\\n\\nARKADA\\u015eINI GET\\u0130R 50 TL B\\u0130LYONPUAN AL!\\nPSG\\nNeymar\\nReal Madrid\\nParis Saint-Germain\\nLionel Messi\\u2019ye PSG Fan Token ile \\u00f6deme yap\\u0131lacak\",\n          \"Be\\u015fikta\\u015f\\nFutbol Haberleri\\nUefa Avrupa Ligi\\nBe\\u015fikta\\u015f\\nWolverhampton 4-0 Be\\u015fikta\\u015f ma\\u00e7 \\u00f6zeti ve golleri (\\u0130ZLE)\\nWolverhampton 4-0 Be\\u015fikta\\u015f ma\\u00e7 \\u00f6zeti ve golleri (\\u0130ZLE)\\n13 Aral\\u0131k 2019, Cuma 00:53\\nPAYLA\\u015e\\nBe\\u015fikta\\u015f, \\u0130ngiltere deplasman\\u0131nda Wolverhampton'a 4-0 yenildi. Siyah beyazl\\u0131lar UEFA Avrupa Ligi grubunu sonuncu s\\u0131rada bitirdi. Wolverhampton 4-0 Be\\u015fikta\\u015f ma\\u00e7 \\u00f6zeti ve golleri izle i\\u00e7in haberimize g\\u00f6z atabilirsiniz.\\nFutbolArena - Be\\u015fikta\\u015f, UEFA Avrupa Ligi grup etab\\u0131 son ma\\u00e7\\u0131nda Wolverhampton'a 4-0 yenildi. Be\\u015fikta\\u015f bu sonucun ard\\u0131ndan UEFA Avrupa Ligi grubunu son s\\u0131rada bitirdi. Be\\u015fikta\\u015f teknik direkt\\u00f6r\\u00fc Abdullah Avc\\u0131, bu ma\\u00e7ta yedek ve gen\\u00e7 a\\u011f\\u0131rl\\u0131kl\\u0131 bir kadro sahaya s\\u00fcrd\\u00fc. Wolverhampton 4-0 Be\\u015fikta\\u015f ma\\u00e7 \\u00f6zeti ve golleri izle i\\u00e7in haberimize g\\u00f6z atabilirsiniz.\\n Wolverhampton - Be\\u015fikta\\u015f ma\\u00e7 \\u00f6zeti izle\\n\\n1' \\u0130ngiltere'de ilk d\\u00fcd\\u00fck \\u00e7ald\\u0131 ve Wolverhampton - Be\\u015fikta\\u015f ma\\u00e7\\u0131 ba\\u015flad\\u0131.\\n\\n18' Wolves'te Cutrone topu Be\\u015fikta\\u015f a\\u011flar\\u0131na g\\u00f6nderdi ancak \\u00f6ncesinde pozisyonun ofsayt oldu\\u011fu tespit edildi.\\n21' Wolves frikik kazand\\u0131. Neves'in serbest vuru\\u015funu gen\\u00e7 kaleci Utku kontrol etti.\\n\\n30' Wolverhampton - Be\\u015fikta\\u015f ma\\u00e7\\u0131 d\\u00fc\\u015f\\u00fck tempoda ge\\u00e7iyor.\\n\\n32' Ceza sahas\\u0131 d\\u0131\\u015f\\u0131 sol \\u00e7apraz\\u0131nda topla bulu\\u015fan Rebocho'nun yerden sert yapt\\u0131\\u011f\\u0131 vuru\\u015fta me\\u015fin yuvarlak uzak direk taraf\\u0131ndan d\\u0131\\u015far\\u0131 gitti.\\n\\n42' Ceza yay\\u0131 \\u00f6n\\u00fcnde topla bulu\\u015fan Neves'in \\u015futunda me\\u015fin yuvarlak \\u00fcstten auta gitti.\\n\\nDEVRE | Wolverhampton 0-0 Be\\u015fikta\\u015f\\n\\n57' Wolves'te az \\u00f6nce oyuna giren Jota, kafa gol\\u00fcyle tak\\u0131m\\u0131n\\u0131 Be\\u015fikta\\u015f kar\\u015f\\u0131s\\u0131nda \\u00f6ne ge\\u00e7irdi. 1-0\\n\\n63' Wolves ikinci gol\\u00fc att\\u0131. Dendocker'in direkten d\\u00f6nen \\u015futunu Jota a\\u011flarla bulu\\u015fturdu. 2-0\\n\\n67' Wolves \\u00fc\\u00e7\\u00fcnc\\u00fc gol\\u00fc buldu. Leander Dendoncker kornerden gelen topu kafayla a\\u011flara g\\u00f6nderdi. 3-0\\n\\n68' Wolves'te Jota hat-trick yapt\\u0131. Be\\u015fikta\\u015f sadece 12 dakika i\\u00e7in 4 gole engel olamad\\u0131. 4-0\\n\\n72' Kerem sa\\u011f kanattan ortalad\\u0131 Umut'un dokunu\\u015funda top auta gitti.\\n\\nMA\\u00c7 SONUCU | Wolverhampton 4-0 Be\\u015fikta\\u015f\\n\\nBE\\u0130N SPORTS MA\\u00c7 \\u00d6ZETLER\\u0130 \\u0130\\u00c7\\u0130N TIKLAYIN\\n Wolverhampton - Be\\u015fikta\\u015f ma\\u00e7\\u0131 ilk 11'ler\\n\\nBe\\u015fikta\\u015f'ta Karius, G\\u00f6khan G\\u00f6n\\u00fcl, Vida, Caner Erkin, Atiba, Adem Ljajic ve Burak Y\\u0131lmaz dinlendirilme ama\\u00e7l\\u0131 kadroya al\\u0131nmad\\u0131. Douglas, Dorukhan, Victor Ruiz, Kartal Y\\u0131lmaz ve N'Koudou ise sakatl\\u0131klar\\u0131 nedeniyle kadroda yer almad\\u0131.\\n\\nWolverhampton ilk 11'i: Ruddy, Coady, Bennett, Kilman, Buur, Dendoncker, Neves, Moutinho, Vinagre, Cutrone, Pedro Neto\\n\\nBe\\u015fikta\\u015f ilk 11'i: Utku, Kerem Kalafat, Necip Uysal, Erdo\\u011fan Kaya, Rebocho, Erdem Se\\u00e7gin, O\\u011fuzhan, Lens, G\\u00fcven Yal\\u00e7\\u0131n, Tyler Boyd, Umut Nayir\\n\\nSon dakika Be\\u015fikta\\u015f Haberleri FutbolArena'da!\\n\\n\\nARKADA\\u015eINI GET\\u0130R 50 TL B\\u0130LYONPUAN AL!\\nBe\\u015fikta\\u015f\\nWolverhampton\\nUEFA Avrupa Ligi\\nwolves be\\u015fikta\\u015f ma\\u00e7 \\u00f6zeti\\nBe\\u015fikta\\u015f\\nBe\\u015fikta\\u015f 0-1 Galatasaray ma\\u00e7 \\u00f6zeti ve gol\\u00fc (\\u0130ZLE)\"\n        ],\n        \"semantic_type\": \"\",\n        \"description\": \"\"\n      }\n    }\n  ]\n}"
            }
          },
          "metadata": {},
          "execution_count": 15
        }
      ]
    },
    {
      "cell_type": "code",
      "source": [
        "data_csv = pd.read_csv(dosya_kaydet)\n",
        "data_csv = pd.DataFrame(data_csv)\n",
        "for i in range(data_csv.Icerik.count(),len(data_csv)):\n",
        "  print(\"Sıra : \" + str(i) + \"/\" + str(len(data_csv)))\n",
        "  data = pd.read_csv(dosya_kaydet)\n",
        "  data = pd.DataFrame(data)\n",
        "  try:\n",
        "    data[\"Icerik\"][i]=site_veri_getir(str(data_csv[\"Link\"][i]))\n",
        "  except:\n",
        "    try:\n",
        "      data[\"Icerik\"][i]=site_veri_getir(str(data_csv[\"Link\"][i]))\n",
        "    except:\n",
        "      data[\"Icerik\"][i]=\"Veri Yok\"\n",
        "\n",
        "  try:\n",
        "    data.drop(\"Unnamed: 0.\"+str(i),axis=1,inplace=True)\n",
        "  except:\n",
        "    pass\n",
        "    print(\"Hata\")\n",
        "  data.drop(\"Unnamed: 0\",axis=1,inplace=True)\n",
        "  data.to_csv(dosya_kaydet)"
      ],
      "metadata": {
        "id": "vxSw1zfpISIk",
        "colab": {
          "base_uri": "https://localhost:8080/"
        },
        "outputId": "191a2514-1e13-4438-801a-6e1d89d44b5e"
      },
      "execution_count": null,
      "outputs": [
        {
          "output_type": "stream",
          "name": "stdout",
          "text": [
            "Sıra : 0/3042\n"
          ]
        },
        {
          "output_type": "stream",
          "name": "stderr",
          "text": [
            "<ipython-input-10-0e6423613f30>:13: SettingWithCopyWarning: \n",
            "A value is trying to be set on a copy of a slice from a DataFrame\n",
            "\n",
            "See the caveats in the documentation: https://pandas.pydata.org/pandas-docs/stable/user_guide/indexing.html#returning-a-view-versus-a-copy\n",
            "  data[\"Icerik\"][i]=\"Veri Yok\"\n"
          ]
        },
        {
          "output_type": "stream",
          "name": "stdout",
          "text": [
            "Hata\n",
            "Sıra : 1/3042\n"
          ]
        },
        {
          "output_type": "stream",
          "name": "stderr",
          "text": [
            "<ipython-input-10-0e6423613f30>:13: SettingWithCopyWarning: \n",
            "A value is trying to be set on a copy of a slice from a DataFrame\n",
            "\n",
            "See the caveats in the documentation: https://pandas.pydata.org/pandas-docs/stable/user_guide/indexing.html#returning-a-view-versus-a-copy\n",
            "  data[\"Icerik\"][i]=\"Veri Yok\"\n"
          ]
        },
        {
          "output_type": "stream",
          "name": "stdout",
          "text": [
            "Hata\n",
            "Sıra : 2/3042\n"
          ]
        }
      ]
    },
    {
      "cell_type": "markdown",
      "source": [
        "Veri Birleştirme"
      ],
      "metadata": {
        "id": "OdjTgpDrxoWw"
      }
    },
    {
      "cell_type": "code",
      "source": [
        "import pandas as pd\n",
        "\n",
        "dosya_kaydet = \"/content/drive/MyDrive/Veri-Kazima/28_4_2024+10-54-10_İKİNCİ_futbolarena_.csv\"\n",
        "data = pd.read_csv(dosya_kaydet)\n",
        "data = pd.DataFrame(data)\n",
        "\n",
        "dosya_kaydet1 = \"/content/drive/MyDrive/Veri-Kazima/ILK_futbolhaber.csv\"\n",
        "data1 = pd.read_csv(dosya_kaydet1)\n",
        "data1 = pd.DataFrame(data1)\n",
        "\n",
        "dosya_kaydet2 = \"/content/drive/MyDrive/Veri-Kazima/28_4_2024+11-28-9_UCUNCU_futbolarena_.csv\"\n",
        "data2 = pd.read_csv(dosya_kaydet2)\n",
        "data2 = pd.DataFrame(data2)"
      ],
      "metadata": {
        "id": "SdTVviOqxnUR"
      },
      "execution_count": null,
      "outputs": []
    },
    {
      "cell_type": "code",
      "source": [
        "data"
      ],
      "metadata": {
        "colab": {
          "base_uri": "https://localhost:8080/",
          "height": 615
        },
        "id": "bCvuDrPLyK95",
        "outputId": "f9f43bf4-9822-4e06-f1a8-c879351f957b"
      },
      "execution_count": null,
      "outputs": [
        {
          "output_type": "execute_result",
          "data": {
            "text/plain": [
              "      Unnamed: 0                                             Baslik  \\\n",
              "0              0  Galatasaray 4-2 Bandırmaspor maç özeti ve goll...   \n",
              "1              1         Türkiye Kupası'nda seri başı olan takımlar   \n",
              "2              2  Galatasaray 4-1 Ümraniyespor maç özeti ve goll...   \n",
              "3              3  Trabzonspor 3-1 Manisa FK maç özeti ve golleri...   \n",
              "4              4  Fenerbahçe 6-0 Adanaspor maç özeti ve golleri ...   \n",
              "...          ...                                                ...   \n",
              "3595        3595            İlkay Gündoğan Sterling'e elini öptürdü   \n",
              "3596        3596  Tottenham 1-3 Manchester City maç özeti ve gol...   \n",
              "3597        3597            Wolverhampton Wanderers, Premier Lig'de   \n",
              "3598        3598  Muhammed Salah, İngiltere Premier Lig rekorunu...   \n",
              "3599        3599      Tottenham-Manchester City canlı şifresiz izle   \n",
              "\n",
              "                                                   Ozet        Kategori  \\\n",
              "0     Galatasaray, Ziraat Türkiye Kupası'nda ağırlad...  Türkiye Kupası   \n",
              "1     Ziraat Türkiye Kupası'nda son 16 turuna kalan ...  Türkiye Kupası   \n",
              "2     Galatasaray, Ziraat Türkiye Kupası'nda ağırlad...  Türkiye Kupası   \n",
              "3     Trabzonspor, Ziraat Türkiye Kupası'nda ağırlad...  Türkiye Kupası   \n",
              "4     Fenerbahçe, Ziraat Türkiye Kupası'nda ağırladı...  Türkiye Kupası   \n",
              "...                                                 ...             ...   \n",
              "3595  Manchester City'nin Türk asıllı Alman yıldızı ...     Premier Lig   \n",
              "3596  Manchester City, Tottenham'ı 3-1 mağlup etti. ...     Premier Lig   \n",
              "3597  Wolverhampton Wanderers 2011-2012 sezonunda kü...     Premier Lig   \n",
              "3598  İngiltere Premier Lig'de Liverpool, sahasında ...     Premier Lig   \n",
              "3599  Tottenham-Manchester City karşı karşıya geliyo...     Premier Lig   \n",
              "\n",
              "                                                   Link  \\\n",
              "0     https://www.futbolarena.com/galatasaray/galata...   \n",
              "1     https://www.futbolarena.com/galatasaray/turkiy...   \n",
              "2     https://www.futbolarena.com/galatasaray/galata...   \n",
              "3     https://www.futbolarena.com/trabzonspor/trabzo...   \n",
              "4     https://www.futbolarena.com/fenerbahce/fenerba...   \n",
              "...                                                 ...   \n",
              "3595  https://www.futbolarena.com/manchester-city/il...   \n",
              "3596  https://www.futbolarena.com/tottenham/tottenha...   \n",
              "3597  https://www.futbolarena.com/wolverhampton-wand...   \n",
              "3598  https://www.futbolarena.com/liverpool/muhammed...   \n",
              "3599  https://www.futbolarena.com/tottenham/tottenha...   \n",
              "\n",
              "                                                 Icerik  \n",
              "0     Galatasaray\\nFutbol Haberleri\\nTürkiye Kupası\\...  \n",
              "1     Galatasaray\\nFutbol Haberleri\\nTürkiye Kupası\\...  \n",
              "2     Galatasaray\\nFutbol Haberleri\\nTürkiye Kupası\\...  \n",
              "3     Trabzonspor\\nFutbol Haberleri\\nTürkiye Kupası\\...  \n",
              "4     Fenerbahçe\\nFutbol Haberleri\\nTürkiye Kupası\\n...  \n",
              "...                                                 ...  \n",
              "3595  Manchester City\\nFutbol Haberleri\\nPremier Lig...  \n",
              "3596  Tottenham\\nFutbol Haberleri\\nPremier Lig\\nTott...  \n",
              "3597  Wolverhampton Wanderers, Premier Lig'de\\n14 Ni...  \n",
              "3598  Liverpool\\nFutbol Haberleri\\nPremier Lig\\nLive...  \n",
              "3599  Tottenham\\nFutbol Haberleri\\nPremier Lig\\nTott...  \n",
              "\n",
              "[3600 rows x 6 columns]"
            ],
            "text/html": [
              "\n",
              "  <div id=\"df-7a8c9f33-da9b-4465-a2f3-3c9ec92dab9a\" class=\"colab-df-container\">\n",
              "    <div>\n",
              "<style scoped>\n",
              "    .dataframe tbody tr th:only-of-type {\n",
              "        vertical-align: middle;\n",
              "    }\n",
              "\n",
              "    .dataframe tbody tr th {\n",
              "        vertical-align: top;\n",
              "    }\n",
              "\n",
              "    .dataframe thead th {\n",
              "        text-align: right;\n",
              "    }\n",
              "</style>\n",
              "<table border=\"1\" class=\"dataframe\">\n",
              "  <thead>\n",
              "    <tr style=\"text-align: right;\">\n",
              "      <th></th>\n",
              "      <th>Unnamed: 0</th>\n",
              "      <th>Baslik</th>\n",
              "      <th>Ozet</th>\n",
              "      <th>Kategori</th>\n",
              "      <th>Link</th>\n",
              "      <th>Icerik</th>\n",
              "    </tr>\n",
              "  </thead>\n",
              "  <tbody>\n",
              "    <tr>\n",
              "      <th>0</th>\n",
              "      <td>0</td>\n",
              "      <td>Galatasaray 4-2 Bandırmaspor maç özeti ve goll...</td>\n",
              "      <td>Galatasaray, Ziraat Türkiye Kupası'nda ağırlad...</td>\n",
              "      <td>Türkiye Kupası</td>\n",
              "      <td>https://www.futbolarena.com/galatasaray/galata...</td>\n",
              "      <td>Galatasaray\\nFutbol Haberleri\\nTürkiye Kupası\\...</td>\n",
              "    </tr>\n",
              "    <tr>\n",
              "      <th>1</th>\n",
              "      <td>1</td>\n",
              "      <td>Türkiye Kupası'nda seri başı olan takımlar</td>\n",
              "      <td>Ziraat Türkiye Kupası'nda son 16 turuna kalan ...</td>\n",
              "      <td>Türkiye Kupası</td>\n",
              "      <td>https://www.futbolarena.com/galatasaray/turkiy...</td>\n",
              "      <td>Galatasaray\\nFutbol Haberleri\\nTürkiye Kupası\\...</td>\n",
              "    </tr>\n",
              "    <tr>\n",
              "      <th>2</th>\n",
              "      <td>2</td>\n",
              "      <td>Galatasaray 4-1 Ümraniyespor maç özeti ve goll...</td>\n",
              "      <td>Galatasaray, Ziraat Türkiye Kupası'nda ağırlad...</td>\n",
              "      <td>Türkiye Kupası</td>\n",
              "      <td>https://www.futbolarena.com/galatasaray/galata...</td>\n",
              "      <td>Galatasaray\\nFutbol Haberleri\\nTürkiye Kupası\\...</td>\n",
              "    </tr>\n",
              "    <tr>\n",
              "      <th>3</th>\n",
              "      <td>3</td>\n",
              "      <td>Trabzonspor 3-1 Manisa FK maç özeti ve golleri...</td>\n",
              "      <td>Trabzonspor, Ziraat Türkiye Kupası'nda ağırlad...</td>\n",
              "      <td>Türkiye Kupası</td>\n",
              "      <td>https://www.futbolarena.com/trabzonspor/trabzo...</td>\n",
              "      <td>Trabzonspor\\nFutbol Haberleri\\nTürkiye Kupası\\...</td>\n",
              "    </tr>\n",
              "    <tr>\n",
              "      <th>4</th>\n",
              "      <td>4</td>\n",
              "      <td>Fenerbahçe 6-0 Adanaspor maç özeti ve golleri ...</td>\n",
              "      <td>Fenerbahçe, Ziraat Türkiye Kupası'nda ağırladı...</td>\n",
              "      <td>Türkiye Kupası</td>\n",
              "      <td>https://www.futbolarena.com/fenerbahce/fenerba...</td>\n",
              "      <td>Fenerbahçe\\nFutbol Haberleri\\nTürkiye Kupası\\n...</td>\n",
              "    </tr>\n",
              "    <tr>\n",
              "      <th>...</th>\n",
              "      <td>...</td>\n",
              "      <td>...</td>\n",
              "      <td>...</td>\n",
              "      <td>...</td>\n",
              "      <td>...</td>\n",
              "      <td>...</td>\n",
              "    </tr>\n",
              "    <tr>\n",
              "      <th>3595</th>\n",
              "      <td>3595</td>\n",
              "      <td>İlkay Gündoğan Sterling'e elini öptürdü</td>\n",
              "      <td>Manchester City'nin Türk asıllı Alman yıldızı ...</td>\n",
              "      <td>Premier Lig</td>\n",
              "      <td>https://www.futbolarena.com/manchester-city/il...</td>\n",
              "      <td>Manchester City\\nFutbol Haberleri\\nPremier Lig...</td>\n",
              "    </tr>\n",
              "    <tr>\n",
              "      <th>3596</th>\n",
              "      <td>3596</td>\n",
              "      <td>Tottenham 1-3 Manchester City maç özeti ve gol...</td>\n",
              "      <td>Manchester City, Tottenham'ı 3-1 mağlup etti. ...</td>\n",
              "      <td>Premier Lig</td>\n",
              "      <td>https://www.futbolarena.com/tottenham/tottenha...</td>\n",
              "      <td>Tottenham\\nFutbol Haberleri\\nPremier Lig\\nTott...</td>\n",
              "    </tr>\n",
              "    <tr>\n",
              "      <th>3597</th>\n",
              "      <td>3597</td>\n",
              "      <td>Wolverhampton Wanderers, Premier Lig'de</td>\n",
              "      <td>Wolverhampton Wanderers 2011-2012 sezonunda kü...</td>\n",
              "      <td>Premier Lig</td>\n",
              "      <td>https://www.futbolarena.com/wolverhampton-wand...</td>\n",
              "      <td>Wolverhampton Wanderers, Premier Lig'de\\n14 Ni...</td>\n",
              "    </tr>\n",
              "    <tr>\n",
              "      <th>3598</th>\n",
              "      <td>3598</td>\n",
              "      <td>Muhammed Salah, İngiltere Premier Lig rekorunu...</td>\n",
              "      <td>İngiltere Premier Lig'de Liverpool, sahasında ...</td>\n",
              "      <td>Premier Lig</td>\n",
              "      <td>https://www.futbolarena.com/liverpool/muhammed...</td>\n",
              "      <td>Liverpool\\nFutbol Haberleri\\nPremier Lig\\nLive...</td>\n",
              "    </tr>\n",
              "    <tr>\n",
              "      <th>3599</th>\n",
              "      <td>3599</td>\n",
              "      <td>Tottenham-Manchester City canlı şifresiz izle</td>\n",
              "      <td>Tottenham-Manchester City karşı karşıya geliyo...</td>\n",
              "      <td>Premier Lig</td>\n",
              "      <td>https://www.futbolarena.com/tottenham/tottenha...</td>\n",
              "      <td>Tottenham\\nFutbol Haberleri\\nPremier Lig\\nTott...</td>\n",
              "    </tr>\n",
              "  </tbody>\n",
              "</table>\n",
              "<p>3600 rows × 6 columns</p>\n",
              "</div>\n",
              "    <div class=\"colab-df-buttons\">\n",
              "\n",
              "  <div class=\"colab-df-container\">\n",
              "    <button class=\"colab-df-convert\" onclick=\"convertToInteractive('df-7a8c9f33-da9b-4465-a2f3-3c9ec92dab9a')\"\n",
              "            title=\"Convert this dataframe to an interactive table.\"\n",
              "            style=\"display:none;\">\n",
              "\n",
              "  <svg xmlns=\"http://www.w3.org/2000/svg\" height=\"24px\" viewBox=\"0 -960 960 960\">\n",
              "    <path d=\"M120-120v-720h720v720H120Zm60-500h600v-160H180v160Zm220 220h160v-160H400v160Zm0 220h160v-160H400v160ZM180-400h160v-160H180v160Zm440 0h160v-160H620v160ZM180-180h160v-160H180v160Zm440 0h160v-160H620v160Z\"/>\n",
              "  </svg>\n",
              "    </button>\n",
              "\n",
              "  <style>\n",
              "    .colab-df-container {\n",
              "      display:flex;\n",
              "      gap: 12px;\n",
              "    }\n",
              "\n",
              "    .colab-df-convert {\n",
              "      background-color: #E8F0FE;\n",
              "      border: none;\n",
              "      border-radius: 50%;\n",
              "      cursor: pointer;\n",
              "      display: none;\n",
              "      fill: #1967D2;\n",
              "      height: 32px;\n",
              "      padding: 0 0 0 0;\n",
              "      width: 32px;\n",
              "    }\n",
              "\n",
              "    .colab-df-convert:hover {\n",
              "      background-color: #E2EBFA;\n",
              "      box-shadow: 0px 1px 2px rgba(60, 64, 67, 0.3), 0px 1px 3px 1px rgba(60, 64, 67, 0.15);\n",
              "      fill: #174EA6;\n",
              "    }\n",
              "\n",
              "    .colab-df-buttons div {\n",
              "      margin-bottom: 4px;\n",
              "    }\n",
              "\n",
              "    [theme=dark] .colab-df-convert {\n",
              "      background-color: #3B4455;\n",
              "      fill: #D2E3FC;\n",
              "    }\n",
              "\n",
              "    [theme=dark] .colab-df-convert:hover {\n",
              "      background-color: #434B5C;\n",
              "      box-shadow: 0px 1px 3px 1px rgba(0, 0, 0, 0.15);\n",
              "      filter: drop-shadow(0px 1px 2px rgba(0, 0, 0, 0.3));\n",
              "      fill: #FFFFFF;\n",
              "    }\n",
              "  </style>\n",
              "\n",
              "    <script>\n",
              "      const buttonEl =\n",
              "        document.querySelector('#df-7a8c9f33-da9b-4465-a2f3-3c9ec92dab9a button.colab-df-convert');\n",
              "      buttonEl.style.display =\n",
              "        google.colab.kernel.accessAllowed ? 'block' : 'none';\n",
              "\n",
              "      async function convertToInteractive(key) {\n",
              "        const element = document.querySelector('#df-7a8c9f33-da9b-4465-a2f3-3c9ec92dab9a');\n",
              "        const dataTable =\n",
              "          await google.colab.kernel.invokeFunction('convertToInteractive',\n",
              "                                                    [key], {});\n",
              "        if (!dataTable) return;\n",
              "\n",
              "        const docLinkHtml = 'Like what you see? Visit the ' +\n",
              "          '<a target=\"_blank\" href=https://colab.research.google.com/notebooks/data_table.ipynb>data table notebook</a>'\n",
              "          + ' to learn more about interactive tables.';\n",
              "        element.innerHTML = '';\n",
              "        dataTable['output_type'] = 'display_data';\n",
              "        await google.colab.output.renderOutput(dataTable, element);\n",
              "        const docLink = document.createElement('div');\n",
              "        docLink.innerHTML = docLinkHtml;\n",
              "        element.appendChild(docLink);\n",
              "      }\n",
              "    </script>\n",
              "  </div>\n",
              "\n",
              "\n",
              "<div id=\"df-06eccc97-6999-4f5f-997c-7d911063fc71\">\n",
              "  <button class=\"colab-df-quickchart\" onclick=\"quickchart('df-06eccc97-6999-4f5f-997c-7d911063fc71')\"\n",
              "            title=\"Suggest charts\"\n",
              "            style=\"display:none;\">\n",
              "\n",
              "<svg xmlns=\"http://www.w3.org/2000/svg\" height=\"24px\"viewBox=\"0 0 24 24\"\n",
              "     width=\"24px\">\n",
              "    <g>\n",
              "        <path d=\"M19 3H5c-1.1 0-2 .9-2 2v14c0 1.1.9 2 2 2h14c1.1 0 2-.9 2-2V5c0-1.1-.9-2-2-2zM9 17H7v-7h2v7zm4 0h-2V7h2v10zm4 0h-2v-4h2v4z\"/>\n",
              "    </g>\n",
              "</svg>\n",
              "  </button>\n",
              "\n",
              "<style>\n",
              "  .colab-df-quickchart {\n",
              "      --bg-color: #E8F0FE;\n",
              "      --fill-color: #1967D2;\n",
              "      --hover-bg-color: #E2EBFA;\n",
              "      --hover-fill-color: #174EA6;\n",
              "      --disabled-fill-color: #AAA;\n",
              "      --disabled-bg-color: #DDD;\n",
              "  }\n",
              "\n",
              "  [theme=dark] .colab-df-quickchart {\n",
              "      --bg-color: #3B4455;\n",
              "      --fill-color: #D2E3FC;\n",
              "      --hover-bg-color: #434B5C;\n",
              "      --hover-fill-color: #FFFFFF;\n",
              "      --disabled-bg-color: #3B4455;\n",
              "      --disabled-fill-color: #666;\n",
              "  }\n",
              "\n",
              "  .colab-df-quickchart {\n",
              "    background-color: var(--bg-color);\n",
              "    border: none;\n",
              "    border-radius: 50%;\n",
              "    cursor: pointer;\n",
              "    display: none;\n",
              "    fill: var(--fill-color);\n",
              "    height: 32px;\n",
              "    padding: 0;\n",
              "    width: 32px;\n",
              "  }\n",
              "\n",
              "  .colab-df-quickchart:hover {\n",
              "    background-color: var(--hover-bg-color);\n",
              "    box-shadow: 0 1px 2px rgba(60, 64, 67, 0.3), 0 1px 3px 1px rgba(60, 64, 67, 0.15);\n",
              "    fill: var(--button-hover-fill-color);\n",
              "  }\n",
              "\n",
              "  .colab-df-quickchart-complete:disabled,\n",
              "  .colab-df-quickchart-complete:disabled:hover {\n",
              "    background-color: var(--disabled-bg-color);\n",
              "    fill: var(--disabled-fill-color);\n",
              "    box-shadow: none;\n",
              "  }\n",
              "\n",
              "  .colab-df-spinner {\n",
              "    border: 2px solid var(--fill-color);\n",
              "    border-color: transparent;\n",
              "    border-bottom-color: var(--fill-color);\n",
              "    animation:\n",
              "      spin 1s steps(1) infinite;\n",
              "  }\n",
              "\n",
              "  @keyframes spin {\n",
              "    0% {\n",
              "      border-color: transparent;\n",
              "      border-bottom-color: var(--fill-color);\n",
              "      border-left-color: var(--fill-color);\n",
              "    }\n",
              "    20% {\n",
              "      border-color: transparent;\n",
              "      border-left-color: var(--fill-color);\n",
              "      border-top-color: var(--fill-color);\n",
              "    }\n",
              "    30% {\n",
              "      border-color: transparent;\n",
              "      border-left-color: var(--fill-color);\n",
              "      border-top-color: var(--fill-color);\n",
              "      border-right-color: var(--fill-color);\n",
              "    }\n",
              "    40% {\n",
              "      border-color: transparent;\n",
              "      border-right-color: var(--fill-color);\n",
              "      border-top-color: var(--fill-color);\n",
              "    }\n",
              "    60% {\n",
              "      border-color: transparent;\n",
              "      border-right-color: var(--fill-color);\n",
              "    }\n",
              "    80% {\n",
              "      border-color: transparent;\n",
              "      border-right-color: var(--fill-color);\n",
              "      border-bottom-color: var(--fill-color);\n",
              "    }\n",
              "    90% {\n",
              "      border-color: transparent;\n",
              "      border-bottom-color: var(--fill-color);\n",
              "    }\n",
              "  }\n",
              "</style>\n",
              "\n",
              "  <script>\n",
              "    async function quickchart(key) {\n",
              "      const quickchartButtonEl =\n",
              "        document.querySelector('#' + key + ' button');\n",
              "      quickchartButtonEl.disabled = true;  // To prevent multiple clicks.\n",
              "      quickchartButtonEl.classList.add('colab-df-spinner');\n",
              "      try {\n",
              "        const charts = await google.colab.kernel.invokeFunction(\n",
              "            'suggestCharts', [key], {});\n",
              "      } catch (error) {\n",
              "        console.error('Error during call to suggestCharts:', error);\n",
              "      }\n",
              "      quickchartButtonEl.classList.remove('colab-df-spinner');\n",
              "      quickchartButtonEl.classList.add('colab-df-quickchart-complete');\n",
              "    }\n",
              "    (() => {\n",
              "      let quickchartButtonEl =\n",
              "        document.querySelector('#df-06eccc97-6999-4f5f-997c-7d911063fc71 button');\n",
              "      quickchartButtonEl.style.display =\n",
              "        google.colab.kernel.accessAllowed ? 'block' : 'none';\n",
              "    })();\n",
              "  </script>\n",
              "</div>\n",
              "\n",
              "  <div id=\"id_c361756f-ef6f-4a7a-98e9-01329ee98302\">\n",
              "    <style>\n",
              "      .colab-df-generate {\n",
              "        background-color: #E8F0FE;\n",
              "        border: none;\n",
              "        border-radius: 50%;\n",
              "        cursor: pointer;\n",
              "        display: none;\n",
              "        fill: #1967D2;\n",
              "        height: 32px;\n",
              "        padding: 0 0 0 0;\n",
              "        width: 32px;\n",
              "      }\n",
              "\n",
              "      .colab-df-generate:hover {\n",
              "        background-color: #E2EBFA;\n",
              "        box-shadow: 0px 1px 2px rgba(60, 64, 67, 0.3), 0px 1px 3px 1px rgba(60, 64, 67, 0.15);\n",
              "        fill: #174EA6;\n",
              "      }\n",
              "\n",
              "      [theme=dark] .colab-df-generate {\n",
              "        background-color: #3B4455;\n",
              "        fill: #D2E3FC;\n",
              "      }\n",
              "\n",
              "      [theme=dark] .colab-df-generate:hover {\n",
              "        background-color: #434B5C;\n",
              "        box-shadow: 0px 1px 3px 1px rgba(0, 0, 0, 0.15);\n",
              "        filter: drop-shadow(0px 1px 2px rgba(0, 0, 0, 0.3));\n",
              "        fill: #FFFFFF;\n",
              "      }\n",
              "    </style>\n",
              "    <button class=\"colab-df-generate\" onclick=\"generateWithVariable('data')\"\n",
              "            title=\"Generate code using this dataframe.\"\n",
              "            style=\"display:none;\">\n",
              "\n",
              "  <svg xmlns=\"http://www.w3.org/2000/svg\" height=\"24px\"viewBox=\"0 0 24 24\"\n",
              "       width=\"24px\">\n",
              "    <path d=\"M7,19H8.4L18.45,9,17,7.55,7,17.6ZM5,21V16.75L18.45,3.32a2,2,0,0,1,2.83,0l1.4,1.43a1.91,1.91,0,0,1,.58,1.4,1.91,1.91,0,0,1-.58,1.4L9.25,21ZM18.45,9,17,7.55Zm-12,3A5.31,5.31,0,0,0,4.9,8.1,5.31,5.31,0,0,0,1,6.5,5.31,5.31,0,0,0,4.9,4.9,5.31,5.31,0,0,0,6.5,1,5.31,5.31,0,0,0,8.1,4.9,5.31,5.31,0,0,0,12,6.5,5.46,5.46,0,0,0,6.5,12Z\"/>\n",
              "  </svg>\n",
              "    </button>\n",
              "    <script>\n",
              "      (() => {\n",
              "      const buttonEl =\n",
              "        document.querySelector('#id_c361756f-ef6f-4a7a-98e9-01329ee98302 button.colab-df-generate');\n",
              "      buttonEl.style.display =\n",
              "        google.colab.kernel.accessAllowed ? 'block' : 'none';\n",
              "\n",
              "      buttonEl.onclick = () => {\n",
              "        google.colab.notebook.generateWithVariable('data');\n",
              "      }\n",
              "      })();\n",
              "    </script>\n",
              "  </div>\n",
              "\n",
              "    </div>\n",
              "  </div>\n"
            ],
            "application/vnd.google.colaboratory.intrinsic+json": {
              "type": "dataframe",
              "variable_name": "data",
              "summary": "{\n  \"name\": \"data\",\n  \"rows\": 3600,\n  \"fields\": [\n    {\n      \"column\": \"Unnamed: 0\",\n      \"properties\": {\n        \"dtype\": \"number\",\n        \"std\": 1039,\n        \"min\": 0,\n        \"max\": 3599,\n        \"num_unique_values\": 3600,\n        \"samples\": [\n          1340,\n          1601,\n          3549\n        ],\n        \"semantic_type\": \"\",\n        \"description\": \"\"\n      }\n    },\n    {\n      \"column\": \"Baslik\",\n      \"properties\": {\n        \"dtype\": \"string\",\n        \"num_unique_values\": 3500,\n        \"samples\": [\n          \"Burak Y\\u0131lmaz'\\u0131n 90+6'da gol\\u00fc \\u0130ZLE | Metz 3-3 Lille\",\n          \"Bayern M\\u00fcnih evinde Bayer Leverkusen'i 3-1 ile ge\\u00e7ti (Bayern M\\u00fcnih Leverkusen ma\\u00e7 \\u00f6zeti)\",\n          \"Cristiano Ronaldo: \\\"Futbol tarihinin en iyi futbolcusu benim\\\"\"\n        ],\n        \"semantic_type\": \"\",\n        \"description\": \"\"\n      }\n    },\n    {\n      \"column\": \"Ozet\",\n      \"properties\": {\n        \"dtype\": \"string\",\n        \"num_unique_values\": 3499,\n        \"samples\": [\n          \"Messi'nin PSG'e transferi olmas\\u0131 halinde Mbappe'nin ayr\\u0131l\\u0131k olas\\u0131l\\u0131\\u011f\\u0131 artt\\u0131. Real Madrid Ba\\u015fkan\\u0131 Florentino Perez, Frans\\u0131z kul\\u00fcb\\u00fcyle ileti\\u015fime ge\\u00e7erek haber bekledi\\u011fini s\\u00f6yledi.\\u00a0\",\n          \"Bayern M\\u00fcnih Ba\\u015fkan\\u0131 Uli Hoeness, Mesut \\u00d6zil ile ilgili yapt\\u0131\\u011f\\u0131 olay a\\u00e7\\u0131klaman\\u0131n arkas\\u0131nda oldu\\u011funu s\\u00f6yledi.\",\n          \"Barcelona sahas\\u0131nda a\\u011f\\u0131rlad\\u0131\\u011f\\u0131 Celta Vigo ile 2-2 berabere kald\\u0131.\\u00a0Barcelona 2-2 Celta Vigo ma\\u00e7\\u0131 \\u00f6zeti ve gollerini haberimizde izleyebilirisniz.\"\n        ],\n        \"semantic_type\": \"\",\n        \"description\": \"\"\n      }\n    },\n    {\n      \"column\": \"Kategori\",\n      \"properties\": {\n        \"dtype\": \"category\",\n        \"num_unique_values\": 6,\n        \"samples\": [\n          \"T\\u00fcrkiye Kupas\\u0131\",\n          \"Milli Tak\\u0131m\",\n          \"Premier Lig\"\n        ],\n        \"semantic_type\": \"\",\n        \"description\": \"\"\n      }\n    },\n    {\n      \"column\": \"Link\",\n      \"properties\": {\n        \"dtype\": \"string\",\n        \"num_unique_values\": 3509,\n        \"samples\": [\n          \"https://www.futbolarena.com/liverpool/klopptan-dortmunda-darbe-5-milyon-euro-369954h/\",\n          \"https://www.futbolarena.com/yeni-malatyaspor/yeni-malatyaspor-galatasaray-maci-muhtemel-ilk-11ler-369256h/\",\n          \"https://www.futbolarena.com/real-sociedad/real-sociedad-barcelona-maci-saat-kacta-hangi-kanalda-iddaa-canli-skor-338021h/\"\n        ],\n        \"semantic_type\": \"\",\n        \"description\": \"\"\n      }\n    },\n    {\n      \"column\": \"Icerik\",\n      \"properties\": {\n        \"dtype\": \"string\",\n        \"num_unique_values\": 3509,\n        \"samples\": [\n          \"Liverpool\\nFutbol Haberleri\\nPremier Lig\\nLiverpool\\nKlopp\\u2019tan Dortmund\\u2019a darbe! 5 milyon euro\\nKlopp'tan Dortmund'a darbe! 5 milyon euro\\n09 May\\u0131s 2019, Per\\u015fembe 10:17\\nPAYLA\\u015e\\nLiverpool'un ba\\u015f\\u0131nda Barcelona'y\\u0131 eleyen J\\u00fcrgen Klopp, eski kul\\u00fcb\\u00fc Dortmund'un transfer gelirine de mani oldu.\\nFutbolArena D\\u0131\\u015f Haberler - UEFA \\u015eampiyonlar Ligi yar\\u0131 finalinde ilk ma\\u00e7ta Barcelona'ya 3-0 ma\\u011flup olan Liverpool, deplasmanda Mohamed Salah ve Roberto Firmino gibi y\\u0131ld\\u0131zlar\\u0131ndan yoksun \\u00e7\\u0131kt\\u0131\\u011f\\u0131 ma\\u00e7ta rakibini 4-0 ma\\u011flup ederek tarihi bir skorla ad\\u0131n\\u0131 finale yazd\\u0131rd\\u0131. Liverpool'un ba\\u015f\\u0131nda 4 y\\u0131l i\\u00e7erisinde 3. kez Avrupa kupalar\\u0131nda finale \\u00e7\\u0131kma ba\\u015far\\u0131s\\u0131 g\\u00f6steren teknik direkt\\u00f6r J\\u00fcrgen Klopp, eski kul\\u00fcb\\u00fc Borussia Dortmund'un da daha fazla para kazanmas\\u0131na engel oldu. \\n\\nDEMBELE TRANSFER\\u0130NDE \\u015eAMP\\u0130YONLAR L\\u0130G\\u0130 \\u015eARTI\\nBorussia Dortmund'un Barcelona'ya satt\\u0131\\u011f\\u0131 Ousmane Dembele transferinde s\\u00f6zle\\u015fmeye konulan bir maddeye g\\u00f6re, Barcelona bu y\\u0131l \\u015eampiyonlar Ligi'ni kazansayd\\u0131 Dortmund'a 5 milyon euro daha ekstra \\u00f6deme yapacakt\\u0131. Bild Gazetesi'nde yer alan haberde, Klopp'un Barcelona'y\\u0131 eleyerek eski kul\\u00fcb\\u00fc Dortmund'un olas\\u0131 5 milyon euroluk gelir elde etme ihtimalini ortadan kald\\u0131rd\\u0131. \\n\\nKLOPP, BARCELONA SONRASI NELER S\\u00d6YLED\\u0130?\\n\\n\\\"\\u00c7ocuklara ma\\u00e7tan \\u00f6nce hi\\u00e7bir \\u015feyin imkans\\u0131z olmad\\u0131\\u011f\\u0131n\\u0131 s\\u00f6yledim. Bu \\u00e7ocuklar lanet olas\\u0131 bir mentaliteye sahip. \\u0130nan\\u0131lmaz bir \\u015fey. James Milner'\\u0131n ma\\u00e7tan sonra sahada a\\u011flad\\u0131\\u011f\\u0131n\\u0131 g\\u00f6rd\\u00fcm. Potansiyel ve cesaretin birle\\u015fimi, hi\\u00e7 g\\u00f6rmedi\\u011fim bir kombinasyon elde ettik. Barcelona'ya kar\\u015f\\u0131 \\u00f6ng\\u00f6r\\u00fclemez olmak gerekiyordu. \\u0130nan\\u0131lmazd\\u0131k.\\\"\\n \\u015eampiyonlar Ligi finali ne zaman?\\n\\nUEFA \\u015eampiyonlar Ligi'nde bu y\\u0131l final tarihi 1 Haziran 2019 olarak belirlendi. \\u015eampiyonlar Ligi 2019'un finali \\u0130spanya'n\\u0131n Madrid kentinde oynanacak. \\u0130spanya'da oynanacak finalde Liverpool ile Tottenham kar\\u015f\\u0131 kar\\u015f\\u0131ya gelecek. Barcelona'y\\u0131 eleyen Liverpool, Ajax'\\u0131 eleyen Tottenham ile \\u0130spanya'da kar\\u015f\\u0131 kar\\u015f\\u0131ya gelecek.\\n\\n\\u0130NG\\u0130L\\u0130Z KUL\\u00dcPLER\\u0130 TAR\\u0130HE GE\\u00c7T\\u0130\\n\\n\\u015eampiyonlar Ligi'nde bu zamana kadar finale en fazla tak\\u0131m g\\u00f6nderen \\u00fclkeler 4'er kul\\u00fcple \\u0130spanya ve \\u0130ngiltere'ydi. Tottenham'\\u0131n Ajax'\\u0131 elemesinin ard\\u0131ndan \\u0130ngiltere'den \\u015eampiyonlar Ligi'nde finale kalan 5. kul\\u00fcp Tottenham oldu ve \\u0130ngilizler bu anlamda tarihe ge\\u00e7ti. \\n\\n\\nSon dakika Liverpool Haberleri FutbolArena'da!\\n\\n\\nARKADA\\u015eINI GET\\u0130R 50 TL B\\u0130LYONPUAN AL!\\nBarcelona\\nLiverpool\\nJ\\u00fcrgen Klopp\\nOusmane Dembele\\nLiverpool\\nPremier Lig notlar\\u0131: Moyes\\u2019un dehas\\u0131 Liverpool\\u2019u durdurdu\",\n          \"Yeni Malatyaspor\\nFutbol Haberleri\\nT\\u00fcrkiye Kupas\\u0131\\nYeni Malatyaspor\\nYeni Malatyaspor - Galatasaray ma\\u00e7\\u0131 muhtemel ilk 11\\u2019ler\\nYeni Malatyaspor - Galatasaray ma\\u00e7\\u0131 muhtemel ilk 11'ler\\n24 Nisan 2019, \\u00c7ar\\u015famba 22:22\\nPAYLA\\u015e\\nZiraat T\\u00fcrkiye Kupas\\u0131'nda Yeni Malatyaspor, Galatasaray'\\u0131 a\\u011f\\u0131rlayacak. Akhisarspor ile oynanacak final m\\u00fcsabakas\\u0131n\\u0131n di\\u011fer tak\\u0131m\\u0131n\\u0131 belirleyecek Yeni Malatyaspor - Galatasaray m\\u00fccadelesi \\u00f6ncesinde son dakika geli\\u015fmeleri haberimizde.\\nFutbolArena - Ziraat T\\u00fcrkiye Kupas\\u0131'nda Yeni Malatyaspor, Galatasaray'\\u0131 a\\u011f\\u0131rlayacak. T\\u00fcrk Telekom Stadyumu'nda oynanan ve 0-0 beraberlik ile sonu\\u00e7lanan m\\u00fccadelenin r\\u00f6van\\u015f\\u0131nda Malatyaspor sahas\\u0131nda Galatasaray'\\u0131 a\\u011f\\u0131rlayacak. Yeni Malatyaspor - Galatasaray ma\\u00e7\\u0131 \\u00f6ncesinde son dakika geli\\u015fmeleri, muhtemel ilk 11'leri haberimizde.\\n\\nYeni Malatyaspor - Galatasaray ma\\u00e7\\u0131 muhtemel ilk 11'leri\\n\\nYeni Malatyaspor'un Galatasaray ma\\u00e7\\u0131 muhtemel ilk 11'i: Farnolle, Issam Chebake, Murat Ak\\u00e7a, Robin Yal\\u00e7\\u0131n, B\\u00fclent Cevahir, Donald, Guilherme, Daniel Aleksic, Bifouma, Adem B\\u00fcy\\u00fck, Aboubakar Kamara\\n\\nGalatasaray'\\u0131n Yeni Malatyaspor ma\\u00e7\\u0131 muhtemel ilk 11'i: Fernando Muslera, Mariano, Ryan Donk, Marcao, Nagatomo, Fernando, Ndiaye, Belhanda, Feghouli, Onyekuru, Mbaye Diagne\\nYeni Malatyaspor - Galatasaray ma\\u00e7\\u0131 ne zaman, saat ka\\u00e7ta?\\n\\nZiraat T\\u00fcrkiye Kupas\\u0131 yar\\u0131 final ilk ma\\u00e7\\u0131nda Galatasaray sahas\\u0131nda Yeni Malatyaspor ile gols\\u00fcz berabere kalm\\u0131\\u015ft\\u0131. Bu ma\\u00e7\\u0131n r\\u00f6van\\u015f\\u0131 Malatya'da oynanacak. Yeni Malatyaspor - Galatasaray ma\\u00e7\\u0131 25 Nisan Per\\u015fembe g\\u00fcn\\u00fc saat 20.00'de ba\\u015flayacak ve A Spor'dan naklen yay\\u0131nlanacak.\\n A Spor canl\\u0131 T\\u00fcrkiye Kupas\\u0131 ma\\u00e7lar\\u0131 (A Spor nas\\u0131l izlenir, A Spor frekanslar\\u0131)\\n\\nZiraat T\\u00fcrkiye Kupas\\u0131 ma\\u00e7lar\\u0131n\\u0131 ge\\u00e7ti\\u011fimiz y\\u0131l oldu\\u011fu gibi bu y\\u0131l da A Spor canl\\u0131 yay\\u0131nl\\u0131yor. T\\u00fcrkiye Kupas\\u0131 Yar\\u0131 Final m\\u00fcsabakas\\u0131 Yeni Malatyaspor - Galatasaray m\\u00fccadelesi A Spor ekranlar\\u0131ndan yay\\u0131nlanacak. A Spor uydu frekanslar\\u0131n\\u0131 girererek veya Digit\\u00fcrk kolay kurulum yaparak A Spor canl\\u0131 izle \\u00fczerinden ma\\u00e7lar\\u0131 takip edebilirsiniz. \\n\\nFREKANS: 12053 Mhz\\nSYMBOL RATE: 27500\\nPOLAR\\u0130ZASYON: H ( Yatay )\\nFEC: 5/6\\nDIGITURK: 88. kanal\\nT\\u0130V\\u0130BU: 81. kanal\\nD-SMART: 80. kanal\\nKABLO TV: 142 ve 143 . Kanal\\n T\\u00dcRK\\u0130YE KUPASI MA\\u00c7 \\u00d6ZETLER\\u0130 \\u0130\\u00c7\\u0130N TIKLAYIN\\n T\\u00fcrkiye Kupas\\u0131'n\\u0131 en \\u00e7ok kazanan tak\\u0131m hangisi?\\n\\nT\\u00fcrkiye Kupas\\u0131 heyecan\\u0131 oynanacak Galatasaray - Yeni Malatyaspor ma\\u00e7\\u0131 ile devam edecek. T\\u00fcrkiye Kupas\\u0131 Yar\\u0131 Final m\\u00fcsabakas\\u0131 olan Galatasaray - Yeni Malatyaspor m\\u00fccadelesi \\u00f6ncesinde T\\u00fcrkiye Kupas\\u0131 ge\\u00e7mi\\u015fini sizler i\\u00e7in derledik.\\n\\nGALATASARAY KUPADA A\\u00c7IK ARA \\u00d6NDE\\n\\nT\\u00fcrkiye Kupas\\u0131'nda yar\\u0131 final m\\u00fcsabakalar\\u0131 Galatasaray, Yeni Malatyaspor, \\u00dcmraniyespor ve Akhisarspor tak\\u0131mlar\\u0131 aras\\u0131nda oynanacak m\\u00fccadele ile devam edecek. T\\u00fcrkiye Kupas\\u0131'nda oynanacak Yar\\u0131 Final m\\u00fcsabakalar\\u0131 \\u00f6ncesinde kupay\\u0131 en \\u00e7ok kazanan tak\\u0131m \\u00fcnvan\\u0131 Galatasaray'\\u0131n elinde bulunuyor. Sar\\u0131 k\\u0131rm\\u0131z\\u0131l\\u0131 tak\\u0131m kupay\\u0131 m\\u00fczesine T\\u00fcrkiye Kupas\\u0131'n\\u0131 17 kez g\\u00f6t\\u00fcr\\u00fcrken sar\\u0131 k\\u0131rm\\u0131z\\u0131l\\u0131 tak\\u0131m\\u0131 Be\\u015fikta\\u015f 9 kez, Trabzonspor 8 ve Fenerbah\\u00e7e 6 kez zafere ula\\u015farak takip etti.\\n\\nT\\u00dcRK\\u0130YE KUPASINI EN \\u00c7OK KAZANAN TAKIMLAR\\n\\nGalatasaray: 17\\nBe\\u015fikta\\u015f: 9\\nTrabzonspor: 8\\nFenerbah\\u00e7e: 6\\n\\nFenerbah\\u00e7e, T\\u00fcrkiye Kupas\\u0131'n\\u0131 toplamda 6 kez m\\u00fczesine g\\u00f6t\\u00fcrmesine kar\\u015f\\u0131l\\u0131k son 20 y\\u0131lda 9 kez finale \\u00e7\\u0131kma ba\\u015far\\u0131s\\u0131 g\\u00f6sterdi. Ancak Fenerbah\\u00e7e bu ba\\u015far\\u0131s\\u0131n\\u0131 finallere yans\\u0131tamad\\u0131.\\n\\nFenerbah\\u00e7e son 20 y\\u0131lda \\u00e7\\u0131kt\\u0131\\u011f\\u0131 9 finalin 8'ini kaybetti. Sar\\u0131 lacivertli tak\\u0131m ge\\u00e7ti\\u011fimiz sezon finalde Akhisarspor'a ma\\u011flup olarak kupay\\u0131 m\\u00fczesine g\\u00f6t\\u00fcrememi\\u015fti. \\n\\nFenerbah\\u00e7e s\\u0131ras\\u0131 ile \\u00e7\\u0131kt\\u0131\\u011f\\u0131 finallerden Gen\\u00e7lerbirli\\u011fi, Galatasaray(2), Be\\u015fikta\\u015f (3), Trabzonspor, Akhisarspor tak\\u0131mlar\\u0131na kupay\\u0131 verdi. \\n\\nT\\u00dcRK\\u0130YE KUPASI'NDA SON 20 YILDA F\\u0130NALE \\u00c7IKAN TAKIMLAR\\n\\nFenerbah\\u00e7e: 9 (2 \\u015fampiyonluk)\\nGalatasaray: 6 (6 \\u015fampiyonluk)\\nBe\\u015fikta\\u015f: 6 (4 \\u015fampiyonluk)\\nTrabzonspor: 4 (3 \\u015fampiyonluk)\\n\\nGALATASARAY SON 10 YILINA DAMGA VURDU\\n\\nBu ak\\u015fam Yeni Malatyaspor kar\\u015f\\u0131s\\u0131nda Yar\\u0131 Final m\\u00fccadelesi verecek olan T\\u00fcrkiye Kupas\\u0131'nda son 10 y\\u0131lda 5 kez finale \\u00e7\\u0131kan Galatasaray, \\u00e7\\u0131kt\\u0131\\u011f\\u0131 5 finali kazanarak kupan\\u0131n son 10 y\\u0131lna damga vurdu.\\n\\nSon dakika Ziraat T\\u00fcrkiye Kupas\\u0131 Haberleri FutbolArena'da.\\n\\nARKADA\\u015eINI GET\\u0130R 50 TL B\\u0130LYONPUAN AL!\\nGalatasaray\\nYeni Malatyaspor\\nYeni Malatyaspor\\nYeni Malatyaspor\\u2019da yaprak d\\u00f6k\\u00fcm\\u00fc\\nMurat Y\\u0131ld\\u0131r\\u0131m\\u2019a k\\u0131rm\\u0131z\\u0131 \\u00e7\\u0131kmad\\u0131, sosyal medya patlad\\u0131!\",\n          \"Real Sociedad\\nFutbol Haberleri\\nLa Liga\\nReal Sociedad\\nReal Sociedad - Barcelona ma\\u00e7\\u0131 saat ka\\u00e7ta, hangi kanalda? (\\u0130ddaa Canl\\u0131 Skor)\\nReal Sociedad - Barcelona ma\\u00e7\\u0131 saat ka\\u00e7ta, hangi kanalda? (\\u0130ddaa Canl\\u0131 Skor)\\n13 Ocak 2018, Cumartesi 19:36\\nPAYLA\\u015e\\nReal Sociedad - Barcelona ma\\u00e7\\u0131 saat ka\\u00e7ta ba\\u015flayacak ve hangi kanaldan yay\\u0131nlanacak. Real Sociedad - Barcelona canl\\u0131 iddaa skoru ve ma\\u00e7la ilgili t\\u00fcm detaylar haberimizde yer al\\u0131yor.\\nFutbolArena - Real Sociedad - Barcelona canl\\u0131 izle! Real Sociedad - Barcelona aras\\u0131nda oynanacak kar\\u015f\\u0131la\\u015fma hakk\\u0131nda t\\u00fcm bilgiler haberimizde yer al\\u0131yor. Real Sociedad - Barcelona ma\\u00e7\\u0131 hangi kanalda yay\\u0131nlanacak ve saat ka\\u00e7ta ba\\u015flayacak? \\u0130ki tak\\u0131mdan son haberler, sakat ve cezal\\u0131 oyuncular\\u0131 haberimizden inceleyebilirsiniz.\\n\\nReal Sociedad - Barcelona sakat, cezal\\u0131 oyuncular\\n\\nEv sahibi tak\\u0131m Real Sociedad'ta Carlos Martinez ve Inigo Martinez, misafir tak\\u0131m Barcelona'da ise Philippe Coutinho ve Samuel Umtiti sakatl\\u0131klar\\u0131 nedeniyle kar\\u015f\\u0131la\\u015fmada forma giyemeyecekler.\\n\\nReal Sociedad - Barcelona ma\\u00e7 sonu\\u00e7lar\\u0131\\n\\n\\u0130ki tak\\u0131m aras\\u0131nda oynanan son 10 resmi ma\\u00e7ta Real Sociedad 3, Barcelona 5 galibiyet elde ederken 2 ma\\u00e7 beraberlikle sonu\\u00e7land\\u0131. Real Sociedad 11 gol atarken, Barcelona 18 golle kar\\u015f\\u0131l\\u0131k verdi.\\n\\n12/02/14    \\u0130SPK    R. Sociedad    1 - 1    Barcelona    (0 - 1)\\n22/02/14    \\u0130S1    R. Sociedad    3 - 1    Barcelona    (1 - 1)\\n04/01/15    \\u0130S1    R. Sociedad    1 - 0    Barcelona    (1 - 0)\\n09/05/15    \\u0130S1    Barcelona    2 - 0    R. Sociedad    (0 - 0)\\n28/11/15    \\u0130S1    Barcelona    4 - 0    R. Sociedad    (2 - 0)\\n09/04/16    \\u0130S1    R. Sociedad    1 - 0    Barcelona    (1 - 0)\\n27/11/16    \\u0130S1    R. Sociedad    1 - 1    Barcelona    (0 - 0)\\n19/01/17    \\u0130SPK    R. Sociedad    0 - 1    Barcelona    (0 - 1)\\n26/01/17    \\u0130SPK    Barcelona    5 - 2    R. Sociedad    (1 - 0)\\n15/04/17    \\u0130S1    Barcelona    3 - 2    R. Sociedad    (3 - 2)\\n\\nReal Sociedad - Barcelona ma\\u00e7\\u0131 ne zaman? Canl\\u0131 Skor\\n Real Sociedad ile Barcelona ligin 19. hafta ma\\u00e7\\u0131nda kar\\u015f\\u0131 ka\\u015fr\\u0131ya gelecek. Real Sociedad - Barcelona ma\\u00e7\\u0131 14 Ocak Pazar g\\u00fcn\\u00fc saat 22.45'te ba\\u015flayacak ve beIN Sports 1 ekranlar\\u0131ndan naklen yay\\u0131nlanacak. 32.076 ki\\u015fi kapasiteli Anoeta Stad\\u0131'nda oynanacak kar\\u015f\\u0131la\\u015fmay\\u0131 hakem Jose Luis Gonzalez Gonzalez y\\u00f6netecek.\\n\\u00d6te yandan Real Sociedad - Barcelona ma\\u00e7\\u0131 canl\\u0131 skor takibini FutbolArena sayfalar\\u0131ndan yapabilirsiniz.\\nReal Sociedad Barcelona Canl\\u0131 skor iddaa\\n\\nARKADA\\u015eINI GET\\u0130R 50 TL B\\u0130LYONPUAN AL!\\nLa Liga\\nBarcelona\\nReal Sociedad\"\n        ],\n        \"semantic_type\": \"\",\n        \"description\": \"\"\n      }\n    }\n  ]\n}"
            }
          },
          "metadata": {},
          "execution_count": 5
        }
      ]
    },
    {
      "cell_type": "code",
      "source": [
        "data1"
      ],
      "metadata": {
        "colab": {
          "base_uri": "https://localhost:8080/",
          "height": 615
        },
        "id": "-btRqZDlyLvW",
        "outputId": "69d26dab-e98a-4188-db6d-dc6af3edcfc9"
      },
      "execution_count": null,
      "outputs": [
        {
          "output_type": "execute_result",
          "data": {
            "text/plain": [
              "      Unnamed: 0.1  Unnamed: 0  \\\n",
              "0                0           0   \n",
              "1                1           1   \n",
              "2                2           2   \n",
              "3                3           3   \n",
              "4                4           4   \n",
              "...            ...         ...   \n",
              "4795          4795        4795   \n",
              "4796          4796        4796   \n",
              "4797          4797        4797   \n",
              "4798          4798        4798   \n",
              "4799          4799        4799   \n",
              "\n",
              "                                                 Baslik  \\\n",
              "0     \"Trabzonspor'un cezası CAS'tan dönebilir\" Emin...   \n",
              "1     Cenk Tosun FutbolArena'ya konuştu: 'Beşiktaş v...   \n",
              "2     Acun Ilıcalı mı satın alıyor? Başkan FutbolAre...   \n",
              "3     Galatasaray Caner Erkin için beklemede! Kritik...   \n",
              "4     Kayserispor cephesi: \"Bu ortamda ligler nasıl ...   \n",
              "...                                                 ...   \n",
              "4795                Fenerbahçe'de Altay Bayındır kararı   \n",
              "4796                    Süper Lig'de haftanın hakemleri   \n",
              "4797     İrfan Can Eğribayat'tan Galatasaray'a gönderme   \n",
              "4798     Beşiktaş, Arthur Masuaku'nun bonservisini aldı   \n",
              "4799  Uğurcan Çakır'dan Mert Günok açıklaması: \"Fark...   \n",
              "\n",
              "                                                   Ozet    Kategori  \\\n",
              "0     Spor Hukukçusu Avukat Emin Özkurt, Trabzonspor...  Ozel Haber   \n",
              "1     Cenk Tosun Premier Lig'de Türkiye'nin en öneml...  Ozel Haber   \n",
              "2     Fortuna Sittard Başkanı Işıtan Gün, Acun Ilıca...  Ozel Haber   \n",
              "3     Galatasaray, Caner Erkin için beklemede. Beşik...  Ozel Haber   \n",
              "4     Kayserispor yönetimi liglerin yeniden oynanma ...  Ozel Haber   \n",
              "...                                                 ...         ...   \n",
              "4795  Fenerbahçe kalecisi Altay Bayındır ameliyat ed...   Süper Lig   \n",
              "4796  Spor Toto Süper Lig'de 30. haftanın hakemleri ...   Süper Lig   \n",
              "4797  Fenerbahçe kalecisi İrfan Can Eğribayat şampiy...   Süper Lig   \n",
              "4798  Beşiktaş, Masuaku'nun bonservisini aldığını aç...   Süper Lig   \n",
              "4799  Trabzonspor kalecisi Uğurcan Çakır, A Milli Ta...   Süper Lig   \n",
              "\n",
              "                                                   Link  \\\n",
              "0     https://www.futbolarena.com/trabzonspor/trabzo...   \n",
              "1     https://www.futbolarena.com/besiktas/cenk-tosu...   \n",
              "2     https://www.futbolarena.com/acun-ilicali-mi-sa...   \n",
              "3     https://www.futbolarena.com/besiktas/galatasar...   \n",
              "4     https://www.futbolarena.com/kayserispor/kayser...   \n",
              "...                                                 ...   \n",
              "4795  https://www.futbolarena.com/fenerbahce/fenerba...   \n",
              "4796  https://www.futbolarena.com/fenerbahce/super-l...   \n",
              "4797  https://www.futbolarena.com/fenerbahce/irfan-c...   \n",
              "4798  https://www.futbolarena.com/besiktas/besiktas-...   \n",
              "4799  https://www.futbolarena.com/besiktas/ugurcan-c...   \n",
              "\n",
              "                                                 Icerik  \n",
              "0     Trabzonspor\\nFutbol Haberleri\\nSüper Lig\\nTrab...  \n",
              "1     Beşiktaş\\nFutbol Haberleri\\nSüper Lig\\nBeşikta...  \n",
              "2     Acun Ilıcalı mı satın alıyor? Başkan FutbolAre...  \n",
              "3     Beşiktaş\\nFutbol Haberleri\\nSüper Lig\\nBeşikta...  \n",
              "4     Kayserispor\\nFutbol Haberleri\\nSüper Lig\\nKays...  \n",
              "...                                                 ...  \n",
              "4795  Fenerbahçe\\nFutbol Haberleri\\nSüper Lig\\nFener...  \n",
              "4796  Fenerbahçe\\nFutbol Haberleri\\nSüper Lig\\nFener...  \n",
              "4797  Fenerbahçe\\nFutbol Haberleri\\nSüper Lig\\nFener...  \n",
              "4798  Beşiktaş\\nFutbol Haberleri\\nSüper Lig\\nBeşikta...  \n",
              "4799  Beşiktaş\\nFutbol Haberleri\\nSüper Lig\\nBeşikta...  \n",
              "\n",
              "[4800 rows x 7 columns]"
            ],
            "text/html": [
              "\n",
              "  <div id=\"df-7d66c5c4-ee74-4958-b20d-3440b4fd441f\" class=\"colab-df-container\">\n",
              "    <div>\n",
              "<style scoped>\n",
              "    .dataframe tbody tr th:only-of-type {\n",
              "        vertical-align: middle;\n",
              "    }\n",
              "\n",
              "    .dataframe tbody tr th {\n",
              "        vertical-align: top;\n",
              "    }\n",
              "\n",
              "    .dataframe thead th {\n",
              "        text-align: right;\n",
              "    }\n",
              "</style>\n",
              "<table border=\"1\" class=\"dataframe\">\n",
              "  <thead>\n",
              "    <tr style=\"text-align: right;\">\n",
              "      <th></th>\n",
              "      <th>Unnamed: 0.1</th>\n",
              "      <th>Unnamed: 0</th>\n",
              "      <th>Baslik</th>\n",
              "      <th>Ozet</th>\n",
              "      <th>Kategori</th>\n",
              "      <th>Link</th>\n",
              "      <th>Icerik</th>\n",
              "    </tr>\n",
              "  </thead>\n",
              "  <tbody>\n",
              "    <tr>\n",
              "      <th>0</th>\n",
              "      <td>0</td>\n",
              "      <td>0</td>\n",
              "      <td>\"Trabzonspor'un cezası CAS'tan dönebilir\" Emin...</td>\n",
              "      <td>Spor Hukukçusu Avukat Emin Özkurt, Trabzonspor...</td>\n",
              "      <td>Ozel Haber</td>\n",
              "      <td>https://www.futbolarena.com/trabzonspor/trabzo...</td>\n",
              "      <td>Trabzonspor\\nFutbol Haberleri\\nSüper Lig\\nTrab...</td>\n",
              "    </tr>\n",
              "    <tr>\n",
              "      <th>1</th>\n",
              "      <td>1</td>\n",
              "      <td>1</td>\n",
              "      <td>Cenk Tosun FutbolArena'ya konuştu: 'Beşiktaş v...</td>\n",
              "      <td>Cenk Tosun Premier Lig'de Türkiye'nin en öneml...</td>\n",
              "      <td>Ozel Haber</td>\n",
              "      <td>https://www.futbolarena.com/besiktas/cenk-tosu...</td>\n",
              "      <td>Beşiktaş\\nFutbol Haberleri\\nSüper Lig\\nBeşikta...</td>\n",
              "    </tr>\n",
              "    <tr>\n",
              "      <th>2</th>\n",
              "      <td>2</td>\n",
              "      <td>2</td>\n",
              "      <td>Acun Ilıcalı mı satın alıyor? Başkan FutbolAre...</td>\n",
              "      <td>Fortuna Sittard Başkanı Işıtan Gün, Acun Ilıca...</td>\n",
              "      <td>Ozel Haber</td>\n",
              "      <td>https://www.futbolarena.com/acun-ilicali-mi-sa...</td>\n",
              "      <td>Acun Ilıcalı mı satın alıyor? Başkan FutbolAre...</td>\n",
              "    </tr>\n",
              "    <tr>\n",
              "      <th>3</th>\n",
              "      <td>3</td>\n",
              "      <td>3</td>\n",
              "      <td>Galatasaray Caner Erkin için beklemede! Kritik...</td>\n",
              "      <td>Galatasaray, Caner Erkin için beklemede. Beşik...</td>\n",
              "      <td>Ozel Haber</td>\n",
              "      <td>https://www.futbolarena.com/besiktas/galatasar...</td>\n",
              "      <td>Beşiktaş\\nFutbol Haberleri\\nSüper Lig\\nBeşikta...</td>\n",
              "    </tr>\n",
              "    <tr>\n",
              "      <th>4</th>\n",
              "      <td>4</td>\n",
              "      <td>4</td>\n",
              "      <td>Kayserispor cephesi: \"Bu ortamda ligler nasıl ...</td>\n",
              "      <td>Kayserispor yönetimi liglerin yeniden oynanma ...</td>\n",
              "      <td>Ozel Haber</td>\n",
              "      <td>https://www.futbolarena.com/kayserispor/kayser...</td>\n",
              "      <td>Kayserispor\\nFutbol Haberleri\\nSüper Lig\\nKays...</td>\n",
              "    </tr>\n",
              "    <tr>\n",
              "      <th>...</th>\n",
              "      <td>...</td>\n",
              "      <td>...</td>\n",
              "      <td>...</td>\n",
              "      <td>...</td>\n",
              "      <td>...</td>\n",
              "      <td>...</td>\n",
              "      <td>...</td>\n",
              "    </tr>\n",
              "    <tr>\n",
              "      <th>4795</th>\n",
              "      <td>4795</td>\n",
              "      <td>4795</td>\n",
              "      <td>Fenerbahçe'de Altay Bayındır kararı</td>\n",
              "      <td>Fenerbahçe kalecisi Altay Bayındır ameliyat ed...</td>\n",
              "      <td>Süper Lig</td>\n",
              "      <td>https://www.futbolarena.com/fenerbahce/fenerba...</td>\n",
              "      <td>Fenerbahçe\\nFutbol Haberleri\\nSüper Lig\\nFener...</td>\n",
              "    </tr>\n",
              "    <tr>\n",
              "      <th>4796</th>\n",
              "      <td>4796</td>\n",
              "      <td>4796</td>\n",
              "      <td>Süper Lig'de haftanın hakemleri</td>\n",
              "      <td>Spor Toto Süper Lig'de 30. haftanın hakemleri ...</td>\n",
              "      <td>Süper Lig</td>\n",
              "      <td>https://www.futbolarena.com/fenerbahce/super-l...</td>\n",
              "      <td>Fenerbahçe\\nFutbol Haberleri\\nSüper Lig\\nFener...</td>\n",
              "    </tr>\n",
              "    <tr>\n",
              "      <th>4797</th>\n",
              "      <td>4797</td>\n",
              "      <td>4797</td>\n",
              "      <td>İrfan Can Eğribayat'tan Galatasaray'a gönderme</td>\n",
              "      <td>Fenerbahçe kalecisi İrfan Can Eğribayat şampiy...</td>\n",
              "      <td>Süper Lig</td>\n",
              "      <td>https://www.futbolarena.com/fenerbahce/irfan-c...</td>\n",
              "      <td>Fenerbahçe\\nFutbol Haberleri\\nSüper Lig\\nFener...</td>\n",
              "    </tr>\n",
              "    <tr>\n",
              "      <th>4798</th>\n",
              "      <td>4798</td>\n",
              "      <td>4798</td>\n",
              "      <td>Beşiktaş, Arthur Masuaku'nun bonservisini aldı</td>\n",
              "      <td>Beşiktaş, Masuaku'nun bonservisini aldığını aç...</td>\n",
              "      <td>Süper Lig</td>\n",
              "      <td>https://www.futbolarena.com/besiktas/besiktas-...</td>\n",
              "      <td>Beşiktaş\\nFutbol Haberleri\\nSüper Lig\\nBeşikta...</td>\n",
              "    </tr>\n",
              "    <tr>\n",
              "      <th>4799</th>\n",
              "      <td>4799</td>\n",
              "      <td>4799</td>\n",
              "      <td>Uğurcan Çakır'dan Mert Günok açıklaması: \"Fark...</td>\n",
              "      <td>Trabzonspor kalecisi Uğurcan Çakır, A Milli Ta...</td>\n",
              "      <td>Süper Lig</td>\n",
              "      <td>https://www.futbolarena.com/besiktas/ugurcan-c...</td>\n",
              "      <td>Beşiktaş\\nFutbol Haberleri\\nSüper Lig\\nBeşikta...</td>\n",
              "    </tr>\n",
              "  </tbody>\n",
              "</table>\n",
              "<p>4800 rows × 7 columns</p>\n",
              "</div>\n",
              "    <div class=\"colab-df-buttons\">\n",
              "\n",
              "  <div class=\"colab-df-container\">\n",
              "    <button class=\"colab-df-convert\" onclick=\"convertToInteractive('df-7d66c5c4-ee74-4958-b20d-3440b4fd441f')\"\n",
              "            title=\"Convert this dataframe to an interactive table.\"\n",
              "            style=\"display:none;\">\n",
              "\n",
              "  <svg xmlns=\"http://www.w3.org/2000/svg\" height=\"24px\" viewBox=\"0 -960 960 960\">\n",
              "    <path d=\"M120-120v-720h720v720H120Zm60-500h600v-160H180v160Zm220 220h160v-160H400v160Zm0 220h160v-160H400v160ZM180-400h160v-160H180v160Zm440 0h160v-160H620v160ZM180-180h160v-160H180v160Zm440 0h160v-160H620v160Z\"/>\n",
              "  </svg>\n",
              "    </button>\n",
              "\n",
              "  <style>\n",
              "    .colab-df-container {\n",
              "      display:flex;\n",
              "      gap: 12px;\n",
              "    }\n",
              "\n",
              "    .colab-df-convert {\n",
              "      background-color: #E8F0FE;\n",
              "      border: none;\n",
              "      border-radius: 50%;\n",
              "      cursor: pointer;\n",
              "      display: none;\n",
              "      fill: #1967D2;\n",
              "      height: 32px;\n",
              "      padding: 0 0 0 0;\n",
              "      width: 32px;\n",
              "    }\n",
              "\n",
              "    .colab-df-convert:hover {\n",
              "      background-color: #E2EBFA;\n",
              "      box-shadow: 0px 1px 2px rgba(60, 64, 67, 0.3), 0px 1px 3px 1px rgba(60, 64, 67, 0.15);\n",
              "      fill: #174EA6;\n",
              "    }\n",
              "\n",
              "    .colab-df-buttons div {\n",
              "      margin-bottom: 4px;\n",
              "    }\n",
              "\n",
              "    [theme=dark] .colab-df-convert {\n",
              "      background-color: #3B4455;\n",
              "      fill: #D2E3FC;\n",
              "    }\n",
              "\n",
              "    [theme=dark] .colab-df-convert:hover {\n",
              "      background-color: #434B5C;\n",
              "      box-shadow: 0px 1px 3px 1px rgba(0, 0, 0, 0.15);\n",
              "      filter: drop-shadow(0px 1px 2px rgba(0, 0, 0, 0.3));\n",
              "      fill: #FFFFFF;\n",
              "    }\n",
              "  </style>\n",
              "\n",
              "    <script>\n",
              "      const buttonEl =\n",
              "        document.querySelector('#df-7d66c5c4-ee74-4958-b20d-3440b4fd441f button.colab-df-convert');\n",
              "      buttonEl.style.display =\n",
              "        google.colab.kernel.accessAllowed ? 'block' : 'none';\n",
              "\n",
              "      async function convertToInteractive(key) {\n",
              "        const element = document.querySelector('#df-7d66c5c4-ee74-4958-b20d-3440b4fd441f');\n",
              "        const dataTable =\n",
              "          await google.colab.kernel.invokeFunction('convertToInteractive',\n",
              "                                                    [key], {});\n",
              "        if (!dataTable) return;\n",
              "\n",
              "        const docLinkHtml = 'Like what you see? Visit the ' +\n",
              "          '<a target=\"_blank\" href=https://colab.research.google.com/notebooks/data_table.ipynb>data table notebook</a>'\n",
              "          + ' to learn more about interactive tables.';\n",
              "        element.innerHTML = '';\n",
              "        dataTable['output_type'] = 'display_data';\n",
              "        await google.colab.output.renderOutput(dataTable, element);\n",
              "        const docLink = document.createElement('div');\n",
              "        docLink.innerHTML = docLinkHtml;\n",
              "        element.appendChild(docLink);\n",
              "      }\n",
              "    </script>\n",
              "  </div>\n",
              "\n",
              "\n",
              "<div id=\"df-c75a74c4-4ae9-4f4c-a246-9de25ce4c25e\">\n",
              "  <button class=\"colab-df-quickchart\" onclick=\"quickchart('df-c75a74c4-4ae9-4f4c-a246-9de25ce4c25e')\"\n",
              "            title=\"Suggest charts\"\n",
              "            style=\"display:none;\">\n",
              "\n",
              "<svg xmlns=\"http://www.w3.org/2000/svg\" height=\"24px\"viewBox=\"0 0 24 24\"\n",
              "     width=\"24px\">\n",
              "    <g>\n",
              "        <path d=\"M19 3H5c-1.1 0-2 .9-2 2v14c0 1.1.9 2 2 2h14c1.1 0 2-.9 2-2V5c0-1.1-.9-2-2-2zM9 17H7v-7h2v7zm4 0h-2V7h2v10zm4 0h-2v-4h2v4z\"/>\n",
              "    </g>\n",
              "</svg>\n",
              "  </button>\n",
              "\n",
              "<style>\n",
              "  .colab-df-quickchart {\n",
              "      --bg-color: #E8F0FE;\n",
              "      --fill-color: #1967D2;\n",
              "      --hover-bg-color: #E2EBFA;\n",
              "      --hover-fill-color: #174EA6;\n",
              "      --disabled-fill-color: #AAA;\n",
              "      --disabled-bg-color: #DDD;\n",
              "  }\n",
              "\n",
              "  [theme=dark] .colab-df-quickchart {\n",
              "      --bg-color: #3B4455;\n",
              "      --fill-color: #D2E3FC;\n",
              "      --hover-bg-color: #434B5C;\n",
              "      --hover-fill-color: #FFFFFF;\n",
              "      --disabled-bg-color: #3B4455;\n",
              "      --disabled-fill-color: #666;\n",
              "  }\n",
              "\n",
              "  .colab-df-quickchart {\n",
              "    background-color: var(--bg-color);\n",
              "    border: none;\n",
              "    border-radius: 50%;\n",
              "    cursor: pointer;\n",
              "    display: none;\n",
              "    fill: var(--fill-color);\n",
              "    height: 32px;\n",
              "    padding: 0;\n",
              "    width: 32px;\n",
              "  }\n",
              "\n",
              "  .colab-df-quickchart:hover {\n",
              "    background-color: var(--hover-bg-color);\n",
              "    box-shadow: 0 1px 2px rgba(60, 64, 67, 0.3), 0 1px 3px 1px rgba(60, 64, 67, 0.15);\n",
              "    fill: var(--button-hover-fill-color);\n",
              "  }\n",
              "\n",
              "  .colab-df-quickchart-complete:disabled,\n",
              "  .colab-df-quickchart-complete:disabled:hover {\n",
              "    background-color: var(--disabled-bg-color);\n",
              "    fill: var(--disabled-fill-color);\n",
              "    box-shadow: none;\n",
              "  }\n",
              "\n",
              "  .colab-df-spinner {\n",
              "    border: 2px solid var(--fill-color);\n",
              "    border-color: transparent;\n",
              "    border-bottom-color: var(--fill-color);\n",
              "    animation:\n",
              "      spin 1s steps(1) infinite;\n",
              "  }\n",
              "\n",
              "  @keyframes spin {\n",
              "    0% {\n",
              "      border-color: transparent;\n",
              "      border-bottom-color: var(--fill-color);\n",
              "      border-left-color: var(--fill-color);\n",
              "    }\n",
              "    20% {\n",
              "      border-color: transparent;\n",
              "      border-left-color: var(--fill-color);\n",
              "      border-top-color: var(--fill-color);\n",
              "    }\n",
              "    30% {\n",
              "      border-color: transparent;\n",
              "      border-left-color: var(--fill-color);\n",
              "      border-top-color: var(--fill-color);\n",
              "      border-right-color: var(--fill-color);\n",
              "    }\n",
              "    40% {\n",
              "      border-color: transparent;\n",
              "      border-right-color: var(--fill-color);\n",
              "      border-top-color: var(--fill-color);\n",
              "    }\n",
              "    60% {\n",
              "      border-color: transparent;\n",
              "      border-right-color: var(--fill-color);\n",
              "    }\n",
              "    80% {\n",
              "      border-color: transparent;\n",
              "      border-right-color: var(--fill-color);\n",
              "      border-bottom-color: var(--fill-color);\n",
              "    }\n",
              "    90% {\n",
              "      border-color: transparent;\n",
              "      border-bottom-color: var(--fill-color);\n",
              "    }\n",
              "  }\n",
              "</style>\n",
              "\n",
              "  <script>\n",
              "    async function quickchart(key) {\n",
              "      const quickchartButtonEl =\n",
              "        document.querySelector('#' + key + ' button');\n",
              "      quickchartButtonEl.disabled = true;  // To prevent multiple clicks.\n",
              "      quickchartButtonEl.classList.add('colab-df-spinner');\n",
              "      try {\n",
              "        const charts = await google.colab.kernel.invokeFunction(\n",
              "            'suggestCharts', [key], {});\n",
              "      } catch (error) {\n",
              "        console.error('Error during call to suggestCharts:', error);\n",
              "      }\n",
              "      quickchartButtonEl.classList.remove('colab-df-spinner');\n",
              "      quickchartButtonEl.classList.add('colab-df-quickchart-complete');\n",
              "    }\n",
              "    (() => {\n",
              "      let quickchartButtonEl =\n",
              "        document.querySelector('#df-c75a74c4-4ae9-4f4c-a246-9de25ce4c25e button');\n",
              "      quickchartButtonEl.style.display =\n",
              "        google.colab.kernel.accessAllowed ? 'block' : 'none';\n",
              "    })();\n",
              "  </script>\n",
              "</div>\n",
              "\n",
              "  <div id=\"id_b5047f15-70b4-4ff5-874c-d1c86e6fc9f0\">\n",
              "    <style>\n",
              "      .colab-df-generate {\n",
              "        background-color: #E8F0FE;\n",
              "        border: none;\n",
              "        border-radius: 50%;\n",
              "        cursor: pointer;\n",
              "        display: none;\n",
              "        fill: #1967D2;\n",
              "        height: 32px;\n",
              "        padding: 0 0 0 0;\n",
              "        width: 32px;\n",
              "      }\n",
              "\n",
              "      .colab-df-generate:hover {\n",
              "        background-color: #E2EBFA;\n",
              "        box-shadow: 0px 1px 2px rgba(60, 64, 67, 0.3), 0px 1px 3px 1px rgba(60, 64, 67, 0.15);\n",
              "        fill: #174EA6;\n",
              "      }\n",
              "\n",
              "      [theme=dark] .colab-df-generate {\n",
              "        background-color: #3B4455;\n",
              "        fill: #D2E3FC;\n",
              "      }\n",
              "\n",
              "      [theme=dark] .colab-df-generate:hover {\n",
              "        background-color: #434B5C;\n",
              "        box-shadow: 0px 1px 3px 1px rgba(0, 0, 0, 0.15);\n",
              "        filter: drop-shadow(0px 1px 2px rgba(0, 0, 0, 0.3));\n",
              "        fill: #FFFFFF;\n",
              "      }\n",
              "    </style>\n",
              "    <button class=\"colab-df-generate\" onclick=\"generateWithVariable('data1')\"\n",
              "            title=\"Generate code using this dataframe.\"\n",
              "            style=\"display:none;\">\n",
              "\n",
              "  <svg xmlns=\"http://www.w3.org/2000/svg\" height=\"24px\"viewBox=\"0 0 24 24\"\n",
              "       width=\"24px\">\n",
              "    <path d=\"M7,19H8.4L18.45,9,17,7.55,7,17.6ZM5,21V16.75L18.45,3.32a2,2,0,0,1,2.83,0l1.4,1.43a1.91,1.91,0,0,1,.58,1.4,1.91,1.91,0,0,1-.58,1.4L9.25,21ZM18.45,9,17,7.55Zm-12,3A5.31,5.31,0,0,0,4.9,8.1,5.31,5.31,0,0,0,1,6.5,5.31,5.31,0,0,0,4.9,4.9,5.31,5.31,0,0,0,6.5,1,5.31,5.31,0,0,0,8.1,4.9,5.31,5.31,0,0,0,12,6.5,5.46,5.46,0,0,0,6.5,12Z\"/>\n",
              "  </svg>\n",
              "    </button>\n",
              "    <script>\n",
              "      (() => {\n",
              "      const buttonEl =\n",
              "        document.querySelector('#id_b5047f15-70b4-4ff5-874c-d1c86e6fc9f0 button.colab-df-generate');\n",
              "      buttonEl.style.display =\n",
              "        google.colab.kernel.accessAllowed ? 'block' : 'none';\n",
              "\n",
              "      buttonEl.onclick = () => {\n",
              "        google.colab.notebook.generateWithVariable('data1');\n",
              "      }\n",
              "      })();\n",
              "    </script>\n",
              "  </div>\n",
              "\n",
              "    </div>\n",
              "  </div>\n"
            ],
            "application/vnd.google.colaboratory.intrinsic+json": {
              "type": "dataframe",
              "variable_name": "data1",
              "summary": "{\n  \"name\": \"data1\",\n  \"rows\": 4800,\n  \"fields\": [\n    {\n      \"column\": \"Unnamed: 0.1\",\n      \"properties\": {\n        \"dtype\": \"number\",\n        \"std\": 1385,\n        \"min\": 0,\n        \"max\": 4799,\n        \"num_unique_values\": 4800,\n        \"samples\": [\n          596,\n          3370,\n          3048\n        ],\n        \"semantic_type\": \"\",\n        \"description\": \"\"\n      }\n    },\n    {\n      \"column\": \"Unnamed: 0\",\n      \"properties\": {\n        \"dtype\": \"number\",\n        \"std\": 1385,\n        \"min\": 0,\n        \"max\": 4799,\n        \"num_unique_values\": 4800,\n        \"samples\": [\n          596,\n          3370,\n          3048\n        ],\n        \"semantic_type\": \"\",\n        \"description\": \"\"\n      }\n    },\n    {\n      \"column\": \"Baslik\",\n      \"properties\": {\n        \"dtype\": \"string\",\n        \"num_unique_values\": 4087,\n        \"samples\": [\n          \"Konyaspor'un R\\u0131za \\u00c7al\\u0131mbay'\\u0131 g\\u00f6nderme sebebi: \\\"Sosyal de\\u011filsin!\\\"\",\n          \"Fenerbah\\u00e7e'de en az maa\\u015f alan isim Volkan Demirel!\",\n          \"S\\u00f6rloth'un babas\\u0131ndan Trabzonspor taraftar\\u0131na mesaj\"\n        ],\n        \"semantic_type\": \"\",\n        \"description\": \"\"\n      }\n    },\n    {\n      \"column\": \"Ozet\",\n      \"properties\": {\n        \"dtype\": \"string\",\n        \"num_unique_values\": 4096,\n        \"samples\": [\n          \"Trabzonspor deplasman\\u0131nda s\\u00fcrpriz bir galibiyete imza atan Demir Grup Sivasspor Teknik Direkt\\u00f6r\\u00fc Samet Aybaba, bu ma\\u00e7 hakk\\u0131ndaki duygular\\u0131n\\u0131 FutbolArena'ya anlatt\\u0131.\",\n          \"Bursaspor'da \\u00fcst \\u00fcste al\\u0131nan k\\u00f6t\\u00fc sonu\\u00e7lar nedeniyle Paul Le Guen'in koltu\\u011fu tart\\u0131\\u015f\\u0131l\\u0131r hale geldi. Bursaspor'da Paul Le Guen d\\u00f6nemi bitecek mi? Bursaspor Ba\\u015fkan\\u0131 Ali Ay'\\u0131n Paul Le Guen karar\\u0131? Paul Le Guen istifa edecek mi? Detaylar haberimizde...\",\n          \"Galatasaray, Mauro Icardi'nin maliyetini a\\u00e7\\u0131klad\\u0131.\"\n        ],\n        \"semantic_type\": \"\",\n        \"description\": \"\"\n      }\n    },\n    {\n      \"column\": \"Kategori\",\n      \"properties\": {\n        \"dtype\": \"category\",\n        \"num_unique_values\": 4,\n        \"samples\": [\n          \"Transfer Haberleri\",\n          \"S\\u00fcper Lig\",\n          \"Ozel Haber\"\n        ],\n        \"semantic_type\": \"\",\n        \"description\": \"\"\n      }\n    },\n    {\n      \"column\": \"Link\",\n      \"properties\": {\n        \"dtype\": \"string\",\n        \"num_unique_values\": 4098,\n        \"samples\": [\n          \"https://www.futbolarena.com/galatasaray/okan-burukun-dikkat-cektigi-detay-393456h/\",\n          \"https://www.futbolarena.com/kayserispor/kayserispora-yilmaz-uckandan-anlamli-ziyaret-ve-onemli-aciklamalar-355406h/\",\n          \"https://www.futbolarena.com/besiktas/besiktas-vagner-love-transferini-bitiriyor-338987h/\"\n        ],\n        \"semantic_type\": \"\",\n        \"description\": \"\"\n      }\n    },\n    {\n      \"column\": \"Icerik\",\n      \"properties\": {\n        \"dtype\": \"string\",\n        \"num_unique_values\": 4131,\n        \"samples\": [\n          \"Galatasaray\\nFutbol Haberleri\\nS\\u00fcper Lig\\nGalatasaray\\nGalatasaray Transfer Haberleri\\nSacha Boey\\u2019dan Arsenal yan\\u0131t\\u0131: \\u2019Hedefim Premier Lig\\u2019\\nSacha Boey'dan Arsenal yan\\u0131t\\u0131: \\\"Hedefim Premier Lig\\\"\\n18 Haziran 2023, Pazar 16:31\\nPAYLA\\u015e\\nGalatasarayl\\u0131 Sacha Boey, \\\"Arsenal'\\u0131n ilgisi \\u00e7ok sevindirici, hedefim Premier Lig. Bakal\\u0131m neler olacak.\\\" a\\u00e7\\u0131klamas\\u0131n\\u0131 yapt\\u0131.\\nFutbolArena D\\u0131\\u015f Haberler - Galatasaray'\\u0131n Frans\\u0131z sa\\u011f beki Sacha Boey, sar\\u0131 k\\u0131rm\\u0131z\\u0131l\\u0131 tak\\u0131mdaki gelece\\u011fi hakk\\u0131nda konu\\u015ftu. Fransa bas\\u0131n\\u0131ndan So Foot'a r\\u00f6portaj veren Sacha Boey, Arsenal'\\u0131n ilgisine kay\\u0131ts\\u0131z kalamayaca\\u011f\\u0131n\\u0131 belirtti.\\n\\nSACHA BOEY'UN A\\u00c7IKLAMALARI:\\n\\\"Hayat\\u0131mda ilk kez bu kadar \\u00e7ok sevgi g\\u00f6rd\\u00fcm. Kar\\u015f\\u0131l\\u0131\\u011f\\u0131nda her \\u015feyinizi vermek zorunda hissediyorsunuz. Galatasaray \\u00e7ok b\\u00fcy\\u00fck bir kul\\u00fcp, bu y\\u00fczden kendimi \\u015fansl\\u0131 hissediyorum. Bu zevki ba\\u015fka yerde bulamazs\\u0131n\\u0131z.\\\"\\n\\n\\\"ARSENAL \\u0130LE ANILIYORSUN. AYRILACAK MISIN?\\\"\\n\\n\\\"Galatasaray'day\\u0131m ancak daha b\\u00fcy\\u00fck hedeflerim var. Beni anlayacaklar\\u0131n\\u0131 ve buna sayg\\u0131 duyacaklar\\u0131n\\u0131 d\\u00fc\\u015f\\u00fcn\\u00fcyorum. Arsenal'\\u0131n ilgisi \\u00e7ok sevindirici, hedefim Premier Lig. Bakal\\u0131m neler olacak.\\\"\\n\\n\\\"FAT\\u0130H TER\\u0130M'\\u0130N G\\u0130D\\u0130\\u015e\\u0130NE \\u00dcZ\\u00dcLM\\u00dc\\u015eT\\u00dcM\\\"\\n\\n\\\"Beni \\u0130stanbul'a getiren Fatih Terim'in gidi\\u015fine \\u00fcz\\u00fclm\\u00fc\\u015ft\\u00fcm. Bana duydu\\u011fu g\\u00fcveni ona geri verememi\\u015f gibi hissettim. Torrent ile i\\u015fler y\\u00fcr\\u00fcmedi \\u00e7\\u00fcnk\\u00fc bizden Guardiola'n\\u0131n Manchester City'si gibi oynamam\\u0131z\\u0131 istedi. Buna uygun kadromuz yoktu.\\\" \\n\\n\\\"FENERBAH\\u00c7E PE\\u015e\\u0130M\\u0130Z\\u0130 BIRAKMADI\\\"\\n\\n\\\"Bu sezon ise Fenerbah\\u00e7e, arka arkaya 14 galibiyet ald\\u0131\\u011f\\u0131m\\u0131z d\\u00f6nemde bile pe\\u015fimizdeydi. Ben art\\u0131k \\u00e7\\u0131ld\\u0131r\\u0131yordum. Neyse ki derbilerde fark yaratt\\u0131k ve \\u015fampiyon olduk.\\\"\\n\\nARKADA\\u015eINI GET\\u0130R 50 TL B\\u0130LYONPUAN AL!\\nArsenal\\nSacha Boey\\nGalatasaray\\nGalatasaray\\nErden Timur: \\\"Her \\u015fey a\\u00e7\\u0131klans\\u0131n\\\"\",\n          \"Be\\u015fikta\\u015f\\nFutbol Haberleri\\nS\\u00fcper Lig\\nBe\\u015fikta\\u015f\\nBe\\u015fikta\\u015f ve Roma Talisca\\u2019n\\u0131n transferi i\\u00e7in g\\u00f6r\\u00fc\\u015ft\\u00fc\\nBe\\u015fikta\\u015f ve Roma Talisca'n\\u0131n transferi i\\u00e7in g\\u00f6r\\u00fc\\u015ft\\u00fc\\n15 May\\u0131s 2018, Sal\\u0131 00:04\\nPAYLA\\u015e\\n00:00 / 00:00\\nBe\\u015fikta\\u015f y\\u00f6netimi Talisca'n\\u0131n Roma'ya transferi i\\u00e7in \\u0130talyan kul\\u00fcb\\u00fcn\\u00fcn yetkilileriyle bir araya geldi. Siyah beyazl\\u0131lar Talisca'n\\u0131n opsiyon maddesini kulland\\u0131ktan sonra, Brezilyal\\u0131 y\\u0131ld\\u0131z\\u0131 Roma'ya satman\\u0131n pe\\u015finde. \\nFutbolArena \\u00d6zel - Be\\u015fikta\\u015f'ta yeni sezonun transfer \\u00e7al\\u0131\\u015fmalar\\u0131 devam ediyor. Be\\u015fikta\\u015f y\\u00f6netimi, Anderson Talisca'n\\u0131n bonservisini ald\\u0131ktan sonra bu oyuncuyu Roma'ya satmak i\\u00e7in \\u0130talyan kul\\u00fcb\\u00fc yetkileri ile bir araya geldi. Siyah-beyazl\\u0131 kul\\u00fcp, Talisca'n\\u0131n bonservisini 31 May\\u0131s'a kadar 21 milyon Euro \\u00f6deyip alma hakk\\u0131na sahip.\\n\\nBe\\u015fikta\\u015f Talisca'n\\u0131n bonservisini alacak m\\u0131?\\n\\nRoma Kul\\u00fcb\\u00fc yetkilileri de ge\\u00e7ti\\u011fimiz haftalarda bu oyuncunun transferi i\\u00e7in Portekiz Kul\\u00fcb\\u00fc yetkilileri ile bir araya gelmi\\u015fti. Benfica Kul\\u00fcb\\u00fc'n\\u00fcn Roma'dan Talisca i\\u00e7in 40 milyon Euro civar\\u0131nda bir bonservis bedeli talep etti\\u011fi Portekiz medyas\\u0131 taraf\\u0131ndan yaz\\u0131lm\\u0131\\u015ft\\u0131.\\n\\nTalisca'n\\u0131n transferinde son durum\\n\\nSiyah-beyazl\\u0131 kul\\u00fcp, Roma Kul\\u00fcb\\u00fc yetkilileri ile anla\\u015ft\\u0131ktan sonra opsiyon hakk\\u0131n\\u0131 kullan\\u0131p Talisca'y\\u0131 renklerine ba\\u011flayacak. Sonras\\u0131nda da Talisca'y\\u0131 Roma'ya satarak kasas\\u0131na belirli bir miktarda para koymay\\u0131 hedefliyor. Asba\\u015fkan Umut G\\u00fcner ve Futbol \\u0130dari Direkt\\u00f6r\\u00fc Ali Naibi, bug\\u00fcn Roma'da Talisca i\\u00e7in baz\\u0131 pazarl\\u0131klarda bulunmu\\u015ftu.\\n\\nTalisca Be\\u015fikta\\u015f'ta ka\\u00e7 gol att\\u0131?\\n\\nTalisca bu sezon Be\\u015fikta\\u015f formas\\u0131yla S\\u00fcper lig'de 32 ma\\u00e7ta 13 gol atakren, 4 asist yapt\\u0131. Brezilyal\\u0131 y\\u0131ld\\u0131z \\u015eampiyonlar Ligi'nde 8 ma\\u00e7ta 4 gol kaydederken, toplamda ise siyah beyazl\\u0131 formayla bu sezon 46 ma\\u00e7ta 19 gol at\\u0131p, 5 asist yapt\\u0131\\n\\nSiyah Beyazl\\u0131 tak\\u0131mla ilgili t\\u00fcm geli\\u015fmelere Be\\u015fikta\\u015f Haberleri sayfas\\u0131ndan ula\\u015fabilirsiniz. \\n\\nARKADA\\u015eINI GET\\u0130R 50 TL B\\u0130LYONPUAN AL!\\nBe\\u015fikta\\u015f\\nS\\u00fcper Lig\\nAnderson Talisca\\nBe\\u015fikta\\u015f\\nBe\\u015fikta\\u015f 0-1 Galatasaray ma\\u00e7 \\u00f6zeti ve gol\\u00fc (\\u0130ZLE)\",\n          \"Be\\u015fikta\\u015f\\nFutbol Haberleri\\nS\\u00fcper Lig\\nBe\\u015fikta\\u015f\\nBe\\u015fikta\\u015f Transfer Haberleri\\nManchester United & Weghorst transferinde Be\\u015fikta\\u015f\\u2019\\u0131n \\u015fart\\u0131 ve kazanc\\u0131\\nManchester United & Weghorst transferinde Be\\u015fikta\\u015f'\\u0131n \\u015fart\\u0131 ve kazanc\\u0131\\n10 Ocak 2023, Sal\\u0131 23:09\\nPAYLA\\u015e\\nFabrizio Romano'nun haberine g\\u00f6re Be\\u015fikta\\u015f, Weghorst'un yerini dolduraca\\u011f\\u0131 oyuncuyu bulabilirse Hollandal\\u0131 golc\\u00fcn\\u00fcn Manchester United'a gidi\\u015fine izin verecek.\\nFutbolArena - Manchester United, Wout Weghorst transferinde ciddi ad\\u0131mlar atmaya devam ediyor. Be\\u015fikta\\u015f cephesi Wout Weghorst'un ayr\\u0131l\\u0131\\u011f\\u0131na y\\u00f6nelik transfer g\\u00f6r\\u00fc\\u015fmelerinde \\u00f6nlemlerini ald\\u0131.\\n\\nBE\\u015e\\u0130KTA\\u015e 3 M\\u0130LYON EURO KAZANACAK\\n\\u00dcnl\\u00fc muhabir Fabrizio Romano'nun haberine g\\u00f6re Manchester United, Wout Weghorst transferinde prensip anla\\u015fmas\\u0131na vard\\u0131.\\n\\nTransfer ger\\u00e7ekle\\u015firse Be\\u015fikta\\u015f anla\\u015fmadan yakla\\u015f\\u0131k 3 milyon euro elde edecek. Tek \\u015fart\\u0131 olan siyah beyazl\\u0131 kul\\u00fcp, Weghorst'un yerini dolduraca\\u011f\\u0131 oyuncuyu bulabilirse anla\\u015fmay\\u0131 onaylayacak.\\n\\n\\u015eENOL G\\u00dcNE\\u015e NELER DEM\\u0130\\u015eT\\u0130?\\n\\n\\\"Weghorst bizim i\\u00e7in \\u00f6nemli bir oyuncu. Oyuna katk\\u0131 yap\\u0131yor, gol at\\u0131yor, att\\u0131rmaya yard\\u0131mc\\u0131 oluyor. Veda etmesi i\\u00e7in seyirciye veda etmesi yetmiyor. Kul\\u00fcple de konu\\u015fmas\\u0131 gerekiyor. B\\u00f6yle bir geli\\u015fme duydum ama net de\\u011fil. Transfer ekonomik, idari ve teknikdir. Ekonomik ve idari olarak oyuncunun iste\\u011fi, kul\\u00fcb\\u00fcn iste\\u011fi hepsinin \\u00f6rt\\u00fc\\u015fmesi laz\\u0131m. \\u0130yi oyuncunun gitmesini istemem.\\\"\\n\\nBe\\u015fikta\\u015f Haberleri FutbolArena'da!\\n\\nARKADA\\u015eINI GET\\u0130R 50 TL B\\u0130LYONPUAN AL!\\nBe\\u015fikta\\u015f\\nWout Weghorst\\nManchester United\\nBe\\u015fikta\\u015f\\nBe\\u015fikta\\u015f 0-1 Galatasaray ma\\u00e7 \\u00f6zeti ve gol\\u00fc (\\u0130ZLE)\"\n        ],\n        \"semantic_type\": \"\",\n        \"description\": \"\"\n      }\n    }\n  ]\n}"
            }
          },
          "metadata": {},
          "execution_count": 6
        }
      ]
    },
    {
      "cell_type": "code",
      "source": [
        "data2"
      ],
      "metadata": {
        "colab": {
          "base_uri": "https://localhost:8080/",
          "height": 615
        },
        "id": "62Zo0pC4yMQ4",
        "outputId": "f7934a78-a877-4ed5-f989-13b08231d00e"
      },
      "execution_count": null,
      "outputs": [
        {
          "output_type": "execute_result",
          "data": {
            "text/plain": [
              "      Unnamed: 0                                             Baslik  \\\n",
              "0              0  Juventus'a \"mali işlemlerde usulsüzlük\" soruşt...   \n",
              "1              1    Allegri açıkladı! Ronaldo, Juventus'tan ayrıldı   \n",
              "2              2  Hakan Çalhanoğlu'dan Inter ile ilk maçında 1 g...   \n",
              "3              3  Dortmund, Merih Demiral'ı istiyor! Juventus'un...   \n",
              "4              4  Zeki Çelik'e transferde Inter ve Fiorentina ka...   \n",
              "...          ...                                                ...   \n",
              "3037        3037  Bybit Türkiye Kullanıcılarına Özel Çekilebilir...   \n",
              "3038        3038  Türk taraftarların %65'i kendini 'fanatik' ola...   \n",
              "3039        3039  Mertens'in forma numarası 76 farklı ülkeden ta...   \n",
              "3040        3040  Göztepe'de Yasin Öztekin'in forma numarasını t...   \n",
              "3041        3041  Türkiye'nin en büyük taraftarlık anketi sonuçl...   \n",
              "\n",
              "                                                   Ozet   Kategori  \\\n",
              "0     İtalyan mali polis ekipleri, kulübün Torino ve...    Serie A   \n",
              "1     Juventus Teknik Direktörü Allegri, Cristiano R...    Serie A   \n",
              "2     Hakan Çalhanoğlu, Inter formasıyla İtalya Seri...    Serie A   \n",
              "3     Borussia Dortmund, Merih Demiral için Juventus...    Serie A   \n",
              "4     İtalya basınında yer bulan habere göre Inter v...    Serie A   \n",
              "...                                                 ...        ...   \n",
              "3037  Yeni nesil kripto para borsası Bybit; birbirin...  Fan Token   \n",
              "3038  Socios.com Türkiye'de bugüne kadar yapılmış en...  Fan Token   \n",
              "3039  Galatasaray'ın yeni transferi Dries Mertens'in...  Fan Token   \n",
              "3040  Göztepe'de Yasin Öztekin'in forma numarasını t...  Fan Token   \n",
              "3041  Dünyanın en büyük taraftar etkileşim platformu...  Fan Token   \n",
              "\n",
              "                                                   Link  \\\n",
              "0     https://www.futbolarena.com/juventus/juventusa...   \n",
              "1     https://www.futbolarena.com/juventus/allegri-a...   \n",
              "2     https://www.futbolarena.com/inter/hakan-calhan...   \n",
              "3     https://www.futbolarena.com/juventus/dortmund-...   \n",
              "4     https://www.futbolarena.com/inter/zeki-celike-...   \n",
              "...                                                 ...   \n",
              "3037  https://www.futbolarena.com/bybit-turkiye-kull...   \n",
              "3038  https://www.futbolarena.com/turk-taraftarlarin...   \n",
              "3039  https://www.futbolarena.com/mertensin-forma-nu...   \n",
              "3040  https://www.futbolarena.com/goztepede-yasin-oz...   \n",
              "3041  https://www.futbolarena.com/turkiyenin-en-buyu...   \n",
              "\n",
              "                                                 Icerik  \n",
              "0     Juventus\\nFutbol Haberleri\\nSerie A\\nJuventus\\...  \n",
              "1     Juventus\\nFutbol Haberleri\\nSerie A\\nJuventus\\...  \n",
              "2     Inter\\nFutbol Haberleri\\nSerie A\\nInter\\nHakan...  \n",
              "3     Juventus\\nFutbol Haberleri\\nSerie A\\nJuventus\\...  \n",
              "4     Inter\\nFutbol Haberleri\\nSerie A\\nInter\\nZeki ...  \n",
              "...                                                 ...  \n",
              "3037  Bybit Türkiye Kullanıcılarına Özel Çekilebilir...  \n",
              "3038  Türk taraftarların %65'i kendini 'fanatik' ola...  \n",
              "3039  Mertens'in forma numarası 76 farklı ülkeden ta...  \n",
              "3040  Göztepe'de Yasin Öztekin'in forma numarasını t...  \n",
              "3041  Türkiye'nin en büyük taraftarlık anketi sonuçl...  \n",
              "\n",
              "[3042 rows x 6 columns]"
            ],
            "text/html": [
              "\n",
              "  <div id=\"df-136aac3d-bca3-4da1-bca6-b6e46aa8d9a9\" class=\"colab-df-container\">\n",
              "    <div>\n",
              "<style scoped>\n",
              "    .dataframe tbody tr th:only-of-type {\n",
              "        vertical-align: middle;\n",
              "    }\n",
              "\n",
              "    .dataframe tbody tr th {\n",
              "        vertical-align: top;\n",
              "    }\n",
              "\n",
              "    .dataframe thead th {\n",
              "        text-align: right;\n",
              "    }\n",
              "</style>\n",
              "<table border=\"1\" class=\"dataframe\">\n",
              "  <thead>\n",
              "    <tr style=\"text-align: right;\">\n",
              "      <th></th>\n",
              "      <th>Unnamed: 0</th>\n",
              "      <th>Baslik</th>\n",
              "      <th>Ozet</th>\n",
              "      <th>Kategori</th>\n",
              "      <th>Link</th>\n",
              "      <th>Icerik</th>\n",
              "    </tr>\n",
              "  </thead>\n",
              "  <tbody>\n",
              "    <tr>\n",
              "      <th>0</th>\n",
              "      <td>0</td>\n",
              "      <td>Juventus'a \"mali işlemlerde usulsüzlük\" soruşt...</td>\n",
              "      <td>İtalyan mali polis ekipleri, kulübün Torino ve...</td>\n",
              "      <td>Serie A</td>\n",
              "      <td>https://www.futbolarena.com/juventus/juventusa...</td>\n",
              "      <td>Juventus\\nFutbol Haberleri\\nSerie A\\nJuventus\\...</td>\n",
              "    </tr>\n",
              "    <tr>\n",
              "      <th>1</th>\n",
              "      <td>1</td>\n",
              "      <td>Allegri açıkladı! Ronaldo, Juventus'tan ayrıldı</td>\n",
              "      <td>Juventus Teknik Direktörü Allegri, Cristiano R...</td>\n",
              "      <td>Serie A</td>\n",
              "      <td>https://www.futbolarena.com/juventus/allegri-a...</td>\n",
              "      <td>Juventus\\nFutbol Haberleri\\nSerie A\\nJuventus\\...</td>\n",
              "    </tr>\n",
              "    <tr>\n",
              "      <th>2</th>\n",
              "      <td>2</td>\n",
              "      <td>Hakan Çalhanoğlu'dan Inter ile ilk maçında 1 g...</td>\n",
              "      <td>Hakan Çalhanoğlu, Inter formasıyla İtalya Seri...</td>\n",
              "      <td>Serie A</td>\n",
              "      <td>https://www.futbolarena.com/inter/hakan-calhan...</td>\n",
              "      <td>Inter\\nFutbol Haberleri\\nSerie A\\nInter\\nHakan...</td>\n",
              "    </tr>\n",
              "    <tr>\n",
              "      <th>3</th>\n",
              "      <td>3</td>\n",
              "      <td>Dortmund, Merih Demiral'ı istiyor! Juventus'un...</td>\n",
              "      <td>Borussia Dortmund, Merih Demiral için Juventus...</td>\n",
              "      <td>Serie A</td>\n",
              "      <td>https://www.futbolarena.com/juventus/dortmund-...</td>\n",
              "      <td>Juventus\\nFutbol Haberleri\\nSerie A\\nJuventus\\...</td>\n",
              "    </tr>\n",
              "    <tr>\n",
              "      <th>4</th>\n",
              "      <td>4</td>\n",
              "      <td>Zeki Çelik'e transferde Inter ve Fiorentina ka...</td>\n",
              "      <td>İtalya basınında yer bulan habere göre Inter v...</td>\n",
              "      <td>Serie A</td>\n",
              "      <td>https://www.futbolarena.com/inter/zeki-celike-...</td>\n",
              "      <td>Inter\\nFutbol Haberleri\\nSerie A\\nInter\\nZeki ...</td>\n",
              "    </tr>\n",
              "    <tr>\n",
              "      <th>...</th>\n",
              "      <td>...</td>\n",
              "      <td>...</td>\n",
              "      <td>...</td>\n",
              "      <td>...</td>\n",
              "      <td>...</td>\n",
              "      <td>...</td>\n",
              "    </tr>\n",
              "    <tr>\n",
              "      <th>3037</th>\n",
              "      <td>3037</td>\n",
              "      <td>Bybit Türkiye Kullanıcılarına Özel Çekilebilir...</td>\n",
              "      <td>Yeni nesil kripto para borsası Bybit; birbirin...</td>\n",
              "      <td>Fan Token</td>\n",
              "      <td>https://www.futbolarena.com/bybit-turkiye-kull...</td>\n",
              "      <td>Bybit Türkiye Kullanıcılarına Özel Çekilebilir...</td>\n",
              "    </tr>\n",
              "    <tr>\n",
              "      <th>3038</th>\n",
              "      <td>3038</td>\n",
              "      <td>Türk taraftarların %65'i kendini 'fanatik' ola...</td>\n",
              "      <td>Socios.com Türkiye'de bugüne kadar yapılmış en...</td>\n",
              "      <td>Fan Token</td>\n",
              "      <td>https://www.futbolarena.com/turk-taraftarlarin...</td>\n",
              "      <td>Türk taraftarların %65'i kendini 'fanatik' ola...</td>\n",
              "    </tr>\n",
              "    <tr>\n",
              "      <th>3039</th>\n",
              "      <td>3039</td>\n",
              "      <td>Mertens'in forma numarası 76 farklı ülkeden ta...</td>\n",
              "      <td>Galatasaray'ın yeni transferi Dries Mertens'in...</td>\n",
              "      <td>Fan Token</td>\n",
              "      <td>https://www.futbolarena.com/mertensin-forma-nu...</td>\n",
              "      <td>Mertens'in forma numarası 76 farklı ülkeden ta...</td>\n",
              "    </tr>\n",
              "    <tr>\n",
              "      <th>3040</th>\n",
              "      <td>3040</td>\n",
              "      <td>Göztepe'de Yasin Öztekin'in forma numarasını t...</td>\n",
              "      <td>Göztepe'de Yasin Öztekin'in forma numarasını t...</td>\n",
              "      <td>Fan Token</td>\n",
              "      <td>https://www.futbolarena.com/goztepede-yasin-oz...</td>\n",
              "      <td>Göztepe'de Yasin Öztekin'in forma numarasını t...</td>\n",
              "    </tr>\n",
              "    <tr>\n",
              "      <th>3041</th>\n",
              "      <td>3041</td>\n",
              "      <td>Türkiye'nin en büyük taraftarlık anketi sonuçl...</td>\n",
              "      <td>Dünyanın en büyük taraftar etkileşim platformu...</td>\n",
              "      <td>Fan Token</td>\n",
              "      <td>https://www.futbolarena.com/turkiyenin-en-buyu...</td>\n",
              "      <td>Türkiye'nin en büyük taraftarlık anketi sonuçl...</td>\n",
              "    </tr>\n",
              "  </tbody>\n",
              "</table>\n",
              "<p>3042 rows × 6 columns</p>\n",
              "</div>\n",
              "    <div class=\"colab-df-buttons\">\n",
              "\n",
              "  <div class=\"colab-df-container\">\n",
              "    <button class=\"colab-df-convert\" onclick=\"convertToInteractive('df-136aac3d-bca3-4da1-bca6-b6e46aa8d9a9')\"\n",
              "            title=\"Convert this dataframe to an interactive table.\"\n",
              "            style=\"display:none;\">\n",
              "\n",
              "  <svg xmlns=\"http://www.w3.org/2000/svg\" height=\"24px\" viewBox=\"0 -960 960 960\">\n",
              "    <path d=\"M120-120v-720h720v720H120Zm60-500h600v-160H180v160Zm220 220h160v-160H400v160Zm0 220h160v-160H400v160ZM180-400h160v-160H180v160Zm440 0h160v-160H620v160ZM180-180h160v-160H180v160Zm440 0h160v-160H620v160Z\"/>\n",
              "  </svg>\n",
              "    </button>\n",
              "\n",
              "  <style>\n",
              "    .colab-df-container {\n",
              "      display:flex;\n",
              "      gap: 12px;\n",
              "    }\n",
              "\n",
              "    .colab-df-convert {\n",
              "      background-color: #E8F0FE;\n",
              "      border: none;\n",
              "      border-radius: 50%;\n",
              "      cursor: pointer;\n",
              "      display: none;\n",
              "      fill: #1967D2;\n",
              "      height: 32px;\n",
              "      padding: 0 0 0 0;\n",
              "      width: 32px;\n",
              "    }\n",
              "\n",
              "    .colab-df-convert:hover {\n",
              "      background-color: #E2EBFA;\n",
              "      box-shadow: 0px 1px 2px rgba(60, 64, 67, 0.3), 0px 1px 3px 1px rgba(60, 64, 67, 0.15);\n",
              "      fill: #174EA6;\n",
              "    }\n",
              "\n",
              "    .colab-df-buttons div {\n",
              "      margin-bottom: 4px;\n",
              "    }\n",
              "\n",
              "    [theme=dark] .colab-df-convert {\n",
              "      background-color: #3B4455;\n",
              "      fill: #D2E3FC;\n",
              "    }\n",
              "\n",
              "    [theme=dark] .colab-df-convert:hover {\n",
              "      background-color: #434B5C;\n",
              "      box-shadow: 0px 1px 3px 1px rgba(0, 0, 0, 0.15);\n",
              "      filter: drop-shadow(0px 1px 2px rgba(0, 0, 0, 0.3));\n",
              "      fill: #FFFFFF;\n",
              "    }\n",
              "  </style>\n",
              "\n",
              "    <script>\n",
              "      const buttonEl =\n",
              "        document.querySelector('#df-136aac3d-bca3-4da1-bca6-b6e46aa8d9a9 button.colab-df-convert');\n",
              "      buttonEl.style.display =\n",
              "        google.colab.kernel.accessAllowed ? 'block' : 'none';\n",
              "\n",
              "      async function convertToInteractive(key) {\n",
              "        const element = document.querySelector('#df-136aac3d-bca3-4da1-bca6-b6e46aa8d9a9');\n",
              "        const dataTable =\n",
              "          await google.colab.kernel.invokeFunction('convertToInteractive',\n",
              "                                                    [key], {});\n",
              "        if (!dataTable) return;\n",
              "\n",
              "        const docLinkHtml = 'Like what you see? Visit the ' +\n",
              "          '<a target=\"_blank\" href=https://colab.research.google.com/notebooks/data_table.ipynb>data table notebook</a>'\n",
              "          + ' to learn more about interactive tables.';\n",
              "        element.innerHTML = '';\n",
              "        dataTable['output_type'] = 'display_data';\n",
              "        await google.colab.output.renderOutput(dataTable, element);\n",
              "        const docLink = document.createElement('div');\n",
              "        docLink.innerHTML = docLinkHtml;\n",
              "        element.appendChild(docLink);\n",
              "      }\n",
              "    </script>\n",
              "  </div>\n",
              "\n",
              "\n",
              "<div id=\"df-d70c8ebb-026a-4a4b-b34a-5a1f1332218d\">\n",
              "  <button class=\"colab-df-quickchart\" onclick=\"quickchart('df-d70c8ebb-026a-4a4b-b34a-5a1f1332218d')\"\n",
              "            title=\"Suggest charts\"\n",
              "            style=\"display:none;\">\n",
              "\n",
              "<svg xmlns=\"http://www.w3.org/2000/svg\" height=\"24px\"viewBox=\"0 0 24 24\"\n",
              "     width=\"24px\">\n",
              "    <g>\n",
              "        <path d=\"M19 3H5c-1.1 0-2 .9-2 2v14c0 1.1.9 2 2 2h14c1.1 0 2-.9 2-2V5c0-1.1-.9-2-2-2zM9 17H7v-7h2v7zm4 0h-2V7h2v10zm4 0h-2v-4h2v4z\"/>\n",
              "    </g>\n",
              "</svg>\n",
              "  </button>\n",
              "\n",
              "<style>\n",
              "  .colab-df-quickchart {\n",
              "      --bg-color: #E8F0FE;\n",
              "      --fill-color: #1967D2;\n",
              "      --hover-bg-color: #E2EBFA;\n",
              "      --hover-fill-color: #174EA6;\n",
              "      --disabled-fill-color: #AAA;\n",
              "      --disabled-bg-color: #DDD;\n",
              "  }\n",
              "\n",
              "  [theme=dark] .colab-df-quickchart {\n",
              "      --bg-color: #3B4455;\n",
              "      --fill-color: #D2E3FC;\n",
              "      --hover-bg-color: #434B5C;\n",
              "      --hover-fill-color: #FFFFFF;\n",
              "      --disabled-bg-color: #3B4455;\n",
              "      --disabled-fill-color: #666;\n",
              "  }\n",
              "\n",
              "  .colab-df-quickchart {\n",
              "    background-color: var(--bg-color);\n",
              "    border: none;\n",
              "    border-radius: 50%;\n",
              "    cursor: pointer;\n",
              "    display: none;\n",
              "    fill: var(--fill-color);\n",
              "    height: 32px;\n",
              "    padding: 0;\n",
              "    width: 32px;\n",
              "  }\n",
              "\n",
              "  .colab-df-quickchart:hover {\n",
              "    background-color: var(--hover-bg-color);\n",
              "    box-shadow: 0 1px 2px rgba(60, 64, 67, 0.3), 0 1px 3px 1px rgba(60, 64, 67, 0.15);\n",
              "    fill: var(--button-hover-fill-color);\n",
              "  }\n",
              "\n",
              "  .colab-df-quickchart-complete:disabled,\n",
              "  .colab-df-quickchart-complete:disabled:hover {\n",
              "    background-color: var(--disabled-bg-color);\n",
              "    fill: var(--disabled-fill-color);\n",
              "    box-shadow: none;\n",
              "  }\n",
              "\n",
              "  .colab-df-spinner {\n",
              "    border: 2px solid var(--fill-color);\n",
              "    border-color: transparent;\n",
              "    border-bottom-color: var(--fill-color);\n",
              "    animation:\n",
              "      spin 1s steps(1) infinite;\n",
              "  }\n",
              "\n",
              "  @keyframes spin {\n",
              "    0% {\n",
              "      border-color: transparent;\n",
              "      border-bottom-color: var(--fill-color);\n",
              "      border-left-color: var(--fill-color);\n",
              "    }\n",
              "    20% {\n",
              "      border-color: transparent;\n",
              "      border-left-color: var(--fill-color);\n",
              "      border-top-color: var(--fill-color);\n",
              "    }\n",
              "    30% {\n",
              "      border-color: transparent;\n",
              "      border-left-color: var(--fill-color);\n",
              "      border-top-color: var(--fill-color);\n",
              "      border-right-color: var(--fill-color);\n",
              "    }\n",
              "    40% {\n",
              "      border-color: transparent;\n",
              "      border-right-color: var(--fill-color);\n",
              "      border-top-color: var(--fill-color);\n",
              "    }\n",
              "    60% {\n",
              "      border-color: transparent;\n",
              "      border-right-color: var(--fill-color);\n",
              "    }\n",
              "    80% {\n",
              "      border-color: transparent;\n",
              "      border-right-color: var(--fill-color);\n",
              "      border-bottom-color: var(--fill-color);\n",
              "    }\n",
              "    90% {\n",
              "      border-color: transparent;\n",
              "      border-bottom-color: var(--fill-color);\n",
              "    }\n",
              "  }\n",
              "</style>\n",
              "\n",
              "  <script>\n",
              "    async function quickchart(key) {\n",
              "      const quickchartButtonEl =\n",
              "        document.querySelector('#' + key + ' button');\n",
              "      quickchartButtonEl.disabled = true;  // To prevent multiple clicks.\n",
              "      quickchartButtonEl.classList.add('colab-df-spinner');\n",
              "      try {\n",
              "        const charts = await google.colab.kernel.invokeFunction(\n",
              "            'suggestCharts', [key], {});\n",
              "      } catch (error) {\n",
              "        console.error('Error during call to suggestCharts:', error);\n",
              "      }\n",
              "      quickchartButtonEl.classList.remove('colab-df-spinner');\n",
              "      quickchartButtonEl.classList.add('colab-df-quickchart-complete');\n",
              "    }\n",
              "    (() => {\n",
              "      let quickchartButtonEl =\n",
              "        document.querySelector('#df-d70c8ebb-026a-4a4b-b34a-5a1f1332218d button');\n",
              "      quickchartButtonEl.style.display =\n",
              "        google.colab.kernel.accessAllowed ? 'block' : 'none';\n",
              "    })();\n",
              "  </script>\n",
              "</div>\n",
              "\n",
              "  <div id=\"id_44ae84fe-3be3-4aaf-bd9d-5281a55c4917\">\n",
              "    <style>\n",
              "      .colab-df-generate {\n",
              "        background-color: #E8F0FE;\n",
              "        border: none;\n",
              "        border-radius: 50%;\n",
              "        cursor: pointer;\n",
              "        display: none;\n",
              "        fill: #1967D2;\n",
              "        height: 32px;\n",
              "        padding: 0 0 0 0;\n",
              "        width: 32px;\n",
              "      }\n",
              "\n",
              "      .colab-df-generate:hover {\n",
              "        background-color: #E2EBFA;\n",
              "        box-shadow: 0px 1px 2px rgba(60, 64, 67, 0.3), 0px 1px 3px 1px rgba(60, 64, 67, 0.15);\n",
              "        fill: #174EA6;\n",
              "      }\n",
              "\n",
              "      [theme=dark] .colab-df-generate {\n",
              "        background-color: #3B4455;\n",
              "        fill: #D2E3FC;\n",
              "      }\n",
              "\n",
              "      [theme=dark] .colab-df-generate:hover {\n",
              "        background-color: #434B5C;\n",
              "        box-shadow: 0px 1px 3px 1px rgba(0, 0, 0, 0.15);\n",
              "        filter: drop-shadow(0px 1px 2px rgba(0, 0, 0, 0.3));\n",
              "        fill: #FFFFFF;\n",
              "      }\n",
              "    </style>\n",
              "    <button class=\"colab-df-generate\" onclick=\"generateWithVariable('data2')\"\n",
              "            title=\"Generate code using this dataframe.\"\n",
              "            style=\"display:none;\">\n",
              "\n",
              "  <svg xmlns=\"http://www.w3.org/2000/svg\" height=\"24px\"viewBox=\"0 0 24 24\"\n",
              "       width=\"24px\">\n",
              "    <path d=\"M7,19H8.4L18.45,9,17,7.55,7,17.6ZM5,21V16.75L18.45,3.32a2,2,0,0,1,2.83,0l1.4,1.43a1.91,1.91,0,0,1,.58,1.4,1.91,1.91,0,0,1-.58,1.4L9.25,21ZM18.45,9,17,7.55Zm-12,3A5.31,5.31,0,0,0,4.9,8.1,5.31,5.31,0,0,0,1,6.5,5.31,5.31,0,0,0,4.9,4.9,5.31,5.31,0,0,0,6.5,1,5.31,5.31,0,0,0,8.1,4.9,5.31,5.31,0,0,0,12,6.5,5.46,5.46,0,0,0,6.5,12Z\"/>\n",
              "  </svg>\n",
              "    </button>\n",
              "    <script>\n",
              "      (() => {\n",
              "      const buttonEl =\n",
              "        document.querySelector('#id_44ae84fe-3be3-4aaf-bd9d-5281a55c4917 button.colab-df-generate');\n",
              "      buttonEl.style.display =\n",
              "        google.colab.kernel.accessAllowed ? 'block' : 'none';\n",
              "\n",
              "      buttonEl.onclick = () => {\n",
              "        google.colab.notebook.generateWithVariable('data2');\n",
              "      }\n",
              "      })();\n",
              "    </script>\n",
              "  </div>\n",
              "\n",
              "    </div>\n",
              "  </div>\n"
            ],
            "application/vnd.google.colaboratory.intrinsic+json": {
              "type": "dataframe",
              "variable_name": "data2",
              "summary": "{\n  \"name\": \"data2\",\n  \"rows\": 3042,\n  \"fields\": [\n    {\n      \"column\": \"Unnamed: 0\",\n      \"properties\": {\n        \"dtype\": \"number\",\n        \"std\": 878,\n        \"min\": 0,\n        \"max\": 3041,\n        \"num_unique_values\": 3042,\n        \"samples\": [\n          298,\n          2791,\n          139\n        ],\n        \"semantic_type\": \"\",\n        \"description\": \"\"\n      }\n    },\n    {\n      \"column\": \"Baslik\",\n      \"properties\": {\n        \"dtype\": \"string\",\n        \"num_unique_values\": 2991,\n        \"samples\": [\n          \"\\u015eampiyonlar Ligi'nin \\u0130stanbul finali i\\u00e7in \\u0130ngiltere'den yeni hamle\",\n          \"Jorge Jesus: \\\"\\u015eimdi s\\u0131ra liderlikte!\\\"\",\n          \"Monaco Caen canl\\u0131 skor, ma\\u00e7 sonucu - Ma\\u00e7 hangi kanalda?\"\n        ],\n        \"semantic_type\": \"\",\n        \"description\": \"\"\n      }\n    },\n    {\n      \"column\": \"Ozet\",\n      \"properties\": {\n        \"dtype\": \"string\",\n        \"num_unique_values\": 2997,\n        \"samples\": [\n          \"PSV Eindhoven'\\u0131n Teknik Direkt\\u00f6r\\u00fc Roger Schmidt, Galatasaray ma\\u00e7\\u0131 \\u00f6ncesi Fenerbah\\u00e7e sorusuna yan\\u0131t verdi.\",\n          \"Fransa Ligue 1'de ak\\u0131llara durgunluk veren bir olay ya\\u015fand\\u0131.\",\n          \"Cengiz \\u00dcnder'in tak\\u0131m\\u0131 Roma'da teknik direkt\\u00f6r Di Francesco'nun g\\u00f6revine son verildi.\\u00a0\"\n        ],\n        \"semantic_type\": \"\",\n        \"description\": \"\"\n      }\n    },\n    {\n      \"column\": \"Kategori\",\n      \"properties\": {\n        \"dtype\": \"category\",\n        \"num_unique_values\": 6,\n        \"samples\": [\n          \"Serie A\",\n          \"Fransa Lig 1\",\n          \"Fan Token\"\n        ],\n        \"semantic_type\": \"\",\n        \"description\": \"\"\n      }\n    },\n    {\n      \"column\": \"Link\",\n      \"properties\": {\n        \"dtype\": \"string\",\n        \"num_unique_values\": 3006,\n        \"samples\": [\n          \"https://www.futbolarena.com/neymar-sikayetci-rakipler-cok-sert-giriyor-339039h/\",\n          \"https://www.futbolarena.com/neymardan-real-madrid-transfer-aciklamasi-geldi-356996h/\",\n          \"https://www.futbolarena.com/besiktas/wolverhampton-40-besiktas-mac-ozeti-ve-golleri-izle-376908h/\"\n        ],\n        \"semantic_type\": \"\",\n        \"description\": \"\"\n      }\n    },\n    {\n      \"column\": \"Icerik\",\n      \"properties\": {\n        \"dtype\": \"string\",\n        \"num_unique_values\": 3006,\n        \"samples\": [\n          \"Neymar \\u015fikayet\\u00e7i! \\\"Rakipler \\u00e7ok sert giriyor.\\\"\\n25 Ocak 2018, Per\\u015fembe 00:26\\nPAYLA\\u015e\\nPSG'nin y\\u0131ld\\u0131z futbolcusu Neymar, Fransa Ligi'nde oynanan futboldan \\u015fikayet\\u00e7i. \\nFutbolArena D\\u0131\\u015f Haberler - PSG'nin rekor \\u00fccretle transfer etti\\u011fi Neymar, Fransa Ligi'ndeki futboldan rahats\\u0131z. Zaman zaman ayr\\u0131lmak istedi\\u011fi ve yeniden La Liga'ya d\\u00f6nmeyi hedefledi\\u011fi iddia edilen Brezilyal\\u0131 y\\u0131ld\\u0131z bu kez ligdeki sert futboldan rahats\\u0131z. \\n\\nPSG'e transfer oldu\\u011fu g\\u00fcnden bu yana bir\\u00e7ok konuda g\\u00fcndem olan Neymar'\\u0131n bu kez rakiplerin kendisine s\\u00fcrekli olarak sert girmesinden \\u015fikayet\\u00e7i. Frans\\u0131z bas\\u0131n\\u0131nda RMC Sport'un haberine g\\u00f6re, PSG'e transfer oldu\\u011fu g\\u00fcnden bu yana ligdeki futboldan dert yanan Neymar'\\u0131n daha \\u00f6nce Lique 1'in La Liga kadar heyecanl\\u0131 bir lig olmad\\u0131\\u011f\\u0131ndan sitem etti\\u011fi ve bu yz\\u00fcden PSG'e transfer oldu\\u011fu i\\u00e7in pi\\u015fman oldu\\u011fu \\u00f6ne s\\u00fcr\\u00fclm\\u00fc\\u015ft\\u00fc. \\nBU KEZ SERT G\\u0130R\\u0130LMES\\u0130NDEN \\u015e\\u0130KAYET\\u00c7\\u0130\\n\\nNeymar'\\u0131n ise bu kez Fransa Lig 1 ma\\u00e7lar\\u0131nda rakiplerinin kendisine \\u00e7ok sert girmesinden \\u015fikayet\\u00e7i. Ligdeki sert futboldan veryans\\u0131n eden Neymar'\\u0131n, \\\"Rakipler bana kas\\u0131tl\\u0131 olarak sert m\\u00fcdahalelerde bulunuyor ve hakemler de buna izin veriyor. Bu durumu hakemlere ilettim. Daha dikkatli olmal\\u0131lar.\\\" dedi\\u011fi kaydedildi. \\n\\nNeymar PSG'de ka\\u00e7 gol att\\u0131?\\n\\nNeymar bu sezon PSG formas\\u0131yla ligde 15 ma\\u00e7ta 15 gol att\\u0131 ve 12 asist yapt\\u0131. \\u015eampiyonlar Ligi'nde ise 6 ma\\u00e7ta 6 gol at\\u0131p, 4 asist kaydeden Brezilyal\\u0131 y\\u0131ld\\u0131z toplamda 24 gol, 16 asistlik performans sergiledi. \\n\\nFransa Lig 1 Haberleri FutbolArena'da!\\n\\nARKADA\\u015eINI GET\\u0130R 50 TL B\\u0130LYONPUAN AL!\\nPSG\\nNeymar\\nParis Saint-Germain\\nLionel Messi\\u2019ye PSG Fan Token ile \\u00f6deme yap\\u0131lacak\",\n          \"Neymar'dan Real Madrid transfer a\\u00e7\\u0131klamas\\u0131 geldi\\n27 A\\u011fustos 2018, Pazartesi 19:19\\nPAYLA\\u015e\\n00:00 / 00:00\\nNeymar, Real Madrid'e transfer olaca\\u011f\\u0131 y\\u00f6n\\u00fcndeki s\\u00f6ylentiler hakk\\u0131nda a\\u00e7\\u0131klamalarda bulundu. \\nFutbolArena D\\u0131\\u015f Haberler - PSG'nin y\\u0131ld\\u0131z futbolcusu Neymar, uzun s\\u00fcredir hakk\\u0131nda konu\\u015fulan Real Madrid'e transfer olaca\\u011f\\u0131 y\\u00f6n\\u00fcndeki s\\u00f6ylentilere dair a\\u00e7\\u0131klamada bulundu. \\n\\nBarcelona'dan eski tak\\u0131m arkada\\u015flar\\u0131n\\u0131 ziyaret etmek i\\u00e7in \\u0130spanya'ya gelen ve Katalan ekibinin antrenman\\u0131na kat\\u0131lan Brezilyal\\u0131 futbolcu, bas\\u0131n mensuplar\\u0131n\\u0131n sorular\\u0131n\\u0131 yan\\u0131tlad\\u0131. \\n\\\"PSG'DE KALACA\\u011eIM\\\"\\n\\nNeymar bas\\u0131n mensuplar\\u0131dan gelen Real Madrid'e transfer olup olmayaca\\u011f\\u0131 y\\u00f6n\\u00fcndeki soruya, \\\"Real Madrid mi? PSG ile devam eden s\\u00f6zle\\u015fmem var. Paris'te kalaca\\u011f\\u0131m. Barcelona'dan eski tak\\u0131m arkada\\u015flar\\u0131m\\u0131 g\\u00f6rmek i\\u00e7in \\u0130spanya'ya geldim.\\\" yan\\u0131t\\u0131n\\u0131 verdi. \\n\\nNeymar PSG'de ka\\u00e7 gol att\\u0131?\\n\\nNeymar, PSG formas\\u0131yla bu sezon Fransa Lig 1'de oynad\\u0131\\u011f\\u0131 3 ma\\u00e7ta 3 gol att\\u0131 ve 1 asist yapt\\u0131. Y\\u0131ld\\u0131z futbolcu toplamda oynad\\u0131\\u011f\\u0131 4 ma\\u00e7ta ise 3 gol, 1 asistlik performans sergiledi. \\n\\nTransfer Haberleri FutbolArena'da!\\n\\nARKADA\\u015eINI GET\\u0130R 50 TL B\\u0130LYONPUAN AL!\\nPSG\\nNeymar\\nReal Madrid\\nParis Saint-Germain\\nLionel Messi\\u2019ye PSG Fan Token ile \\u00f6deme yap\\u0131lacak\",\n          \"Be\\u015fikta\\u015f\\nFutbol Haberleri\\nUefa Avrupa Ligi\\nBe\\u015fikta\\u015f\\nWolverhampton 4-0 Be\\u015fikta\\u015f ma\\u00e7 \\u00f6zeti ve golleri (\\u0130ZLE)\\nWolverhampton 4-0 Be\\u015fikta\\u015f ma\\u00e7 \\u00f6zeti ve golleri (\\u0130ZLE)\\n13 Aral\\u0131k 2019, Cuma 00:53\\nPAYLA\\u015e\\nBe\\u015fikta\\u015f, \\u0130ngiltere deplasman\\u0131nda Wolverhampton'a 4-0 yenildi. Siyah beyazl\\u0131lar UEFA Avrupa Ligi grubunu sonuncu s\\u0131rada bitirdi. Wolverhampton 4-0 Be\\u015fikta\\u015f ma\\u00e7 \\u00f6zeti ve golleri izle i\\u00e7in haberimize g\\u00f6z atabilirsiniz.\\nFutbolArena - Be\\u015fikta\\u015f, UEFA Avrupa Ligi grup etab\\u0131 son ma\\u00e7\\u0131nda Wolverhampton'a 4-0 yenildi. Be\\u015fikta\\u015f bu sonucun ard\\u0131ndan UEFA Avrupa Ligi grubunu son s\\u0131rada bitirdi. Be\\u015fikta\\u015f teknik direkt\\u00f6r\\u00fc Abdullah Avc\\u0131, bu ma\\u00e7ta yedek ve gen\\u00e7 a\\u011f\\u0131rl\\u0131kl\\u0131 bir kadro sahaya s\\u00fcrd\\u00fc. Wolverhampton 4-0 Be\\u015fikta\\u015f ma\\u00e7 \\u00f6zeti ve golleri izle i\\u00e7in haberimize g\\u00f6z atabilirsiniz.\\n Wolverhampton - Be\\u015fikta\\u015f ma\\u00e7 \\u00f6zeti izle\\n\\n1' \\u0130ngiltere'de ilk d\\u00fcd\\u00fck \\u00e7ald\\u0131 ve Wolverhampton - Be\\u015fikta\\u015f ma\\u00e7\\u0131 ba\\u015flad\\u0131.\\n\\n18' Wolves'te Cutrone topu Be\\u015fikta\\u015f a\\u011flar\\u0131na g\\u00f6nderdi ancak \\u00f6ncesinde pozisyonun ofsayt oldu\\u011fu tespit edildi.\\n21' Wolves frikik kazand\\u0131. Neves'in serbest vuru\\u015funu gen\\u00e7 kaleci Utku kontrol etti.\\n\\n30' Wolverhampton - Be\\u015fikta\\u015f ma\\u00e7\\u0131 d\\u00fc\\u015f\\u00fck tempoda ge\\u00e7iyor.\\n\\n32' Ceza sahas\\u0131 d\\u0131\\u015f\\u0131 sol \\u00e7apraz\\u0131nda topla bulu\\u015fan Rebocho'nun yerden sert yapt\\u0131\\u011f\\u0131 vuru\\u015fta me\\u015fin yuvarlak uzak direk taraf\\u0131ndan d\\u0131\\u015far\\u0131 gitti.\\n\\n42' Ceza yay\\u0131 \\u00f6n\\u00fcnde topla bulu\\u015fan Neves'in \\u015futunda me\\u015fin yuvarlak \\u00fcstten auta gitti.\\n\\nDEVRE | Wolverhampton 0-0 Be\\u015fikta\\u015f\\n\\n57' Wolves'te az \\u00f6nce oyuna giren Jota, kafa gol\\u00fcyle tak\\u0131m\\u0131n\\u0131 Be\\u015fikta\\u015f kar\\u015f\\u0131s\\u0131nda \\u00f6ne ge\\u00e7irdi. 1-0\\n\\n63' Wolves ikinci gol\\u00fc att\\u0131. Dendocker'in direkten d\\u00f6nen \\u015futunu Jota a\\u011flarla bulu\\u015fturdu. 2-0\\n\\n67' Wolves \\u00fc\\u00e7\\u00fcnc\\u00fc gol\\u00fc buldu. Leander Dendoncker kornerden gelen topu kafayla a\\u011flara g\\u00f6nderdi. 3-0\\n\\n68' Wolves'te Jota hat-trick yapt\\u0131. Be\\u015fikta\\u015f sadece 12 dakika i\\u00e7in 4 gole engel olamad\\u0131. 4-0\\n\\n72' Kerem sa\\u011f kanattan ortalad\\u0131 Umut'un dokunu\\u015funda top auta gitti.\\n\\nMA\\u00c7 SONUCU | Wolverhampton 4-0 Be\\u015fikta\\u015f\\n\\nBE\\u0130N SPORTS MA\\u00c7 \\u00d6ZETLER\\u0130 \\u0130\\u00c7\\u0130N TIKLAYIN\\n Wolverhampton - Be\\u015fikta\\u015f ma\\u00e7\\u0131 ilk 11'ler\\n\\nBe\\u015fikta\\u015f'ta Karius, G\\u00f6khan G\\u00f6n\\u00fcl, Vida, Caner Erkin, Atiba, Adem Ljajic ve Burak Y\\u0131lmaz dinlendirilme ama\\u00e7l\\u0131 kadroya al\\u0131nmad\\u0131. Douglas, Dorukhan, Victor Ruiz, Kartal Y\\u0131lmaz ve N'Koudou ise sakatl\\u0131klar\\u0131 nedeniyle kadroda yer almad\\u0131.\\n\\nWolverhampton ilk 11'i: Ruddy, Coady, Bennett, Kilman, Buur, Dendoncker, Neves, Moutinho, Vinagre, Cutrone, Pedro Neto\\n\\nBe\\u015fikta\\u015f ilk 11'i: Utku, Kerem Kalafat, Necip Uysal, Erdo\\u011fan Kaya, Rebocho, Erdem Se\\u00e7gin, O\\u011fuzhan, Lens, G\\u00fcven Yal\\u00e7\\u0131n, Tyler Boyd, Umut Nayir\\n\\nSon dakika Be\\u015fikta\\u015f Haberleri FutbolArena'da!\\n\\n\\nARKADA\\u015eINI GET\\u0130R 50 TL B\\u0130LYONPUAN AL!\\nBe\\u015fikta\\u015f\\nWolverhampton\\nUEFA Avrupa Ligi\\nwolves be\\u015fikta\\u015f ma\\u00e7 \\u00f6zeti\\nBe\\u015fikta\\u015f\\nBe\\u015fikta\\u015f 0-1 Galatasaray ma\\u00e7 \\u00f6zeti ve gol\\u00fc (\\u0130ZLE)\"\n        ],\n        \"semantic_type\": \"\",\n        \"description\": \"\"\n      }\n    }\n  ]\n}"
            }
          },
          "metadata": {},
          "execution_count": 7
        }
      ]
    },
    {
      "cell_type": "code",
      "source": [
        "haberler_DataFrame = pd.DataFrame({\"Baslik\":[],\"Ozet\":[],\"Kategori\":[],\"Link\":[],\"Icerik\":[]})"
      ],
      "metadata": {
        "id": "efEGfwcgyMxc"
      },
      "execution_count": null,
      "outputs": []
    },
    {
      "cell_type": "code",
      "source": [
        "haberler_DataFrame = pd.concat([haberler_DataFrame,data1], ignore_index=True)\n",
        "haberler_DataFrame = pd.concat([haberler_DataFrame,data2], ignore_index=True)\n",
        "haberler_DataFrame = pd.concat([haberler_DataFrame,data], ignore_index=True)"
      ],
      "metadata": {
        "id": "KGU5VgT0yqay"
      },
      "execution_count": null,
      "outputs": []
    },
    {
      "cell_type": "code",
      "source": [
        "haberler_DataFrame"
      ],
      "metadata": {
        "colab": {
          "base_uri": "https://localhost:8080/",
          "height": 615
        },
        "id": "5HrITHyyy2JE",
        "outputId": "89c7be89-d5fc-4240-a51a-b0e76dbb3e5f"
      },
      "execution_count": null,
      "outputs": [
        {
          "output_type": "execute_result",
          "data": {
            "text/plain": [
              "                                                  Baslik  \\\n",
              "0      \"Trabzonspor'un cezası CAS'tan dönebilir\" Emin...   \n",
              "1      Cenk Tosun FutbolArena'ya konuştu: 'Beşiktaş v...   \n",
              "2      Acun Ilıcalı mı satın alıyor? Başkan FutbolAre...   \n",
              "3      Galatasaray Caner Erkin için beklemede! Kritik...   \n",
              "4      Kayserispor cephesi: \"Bu ortamda ligler nasıl ...   \n",
              "...                                                  ...   \n",
              "11437            İlkay Gündoğan Sterling'e elini öptürdü   \n",
              "11438  Tottenham 1-3 Manchester City maç özeti ve gol...   \n",
              "11439            Wolverhampton Wanderers, Premier Lig'de   \n",
              "11440  Muhammed Salah, İngiltere Premier Lig rekorunu...   \n",
              "11441      Tottenham-Manchester City canlı şifresiz izle   \n",
              "\n",
              "                                                    Ozet     Kategori  \\\n",
              "0      Spor Hukukçusu Avukat Emin Özkurt, Trabzonspor...   Ozel Haber   \n",
              "1      Cenk Tosun Premier Lig'de Türkiye'nin en öneml...   Ozel Haber   \n",
              "2      Fortuna Sittard Başkanı Işıtan Gün, Acun Ilıca...   Ozel Haber   \n",
              "3      Galatasaray, Caner Erkin için beklemede. Beşik...   Ozel Haber   \n",
              "4      Kayserispor yönetimi liglerin yeniden oynanma ...   Ozel Haber   \n",
              "...                                                  ...          ...   \n",
              "11437  Manchester City'nin Türk asıllı Alman yıldızı ...  Premier Lig   \n",
              "11438  Manchester City, Tottenham'ı 3-1 mağlup etti. ...  Premier Lig   \n",
              "11439  Wolverhampton Wanderers 2011-2012 sezonunda kü...  Premier Lig   \n",
              "11440  İngiltere Premier Lig'de Liverpool, sahasında ...  Premier Lig   \n",
              "11441  Tottenham-Manchester City karşı karşıya geliyo...  Premier Lig   \n",
              "\n",
              "                                                    Link  \\\n",
              "0      https://www.futbolarena.com/trabzonspor/trabzo...   \n",
              "1      https://www.futbolarena.com/besiktas/cenk-tosu...   \n",
              "2      https://www.futbolarena.com/acun-ilicali-mi-sa...   \n",
              "3      https://www.futbolarena.com/besiktas/galatasar...   \n",
              "4      https://www.futbolarena.com/kayserispor/kayser...   \n",
              "...                                                  ...   \n",
              "11437  https://www.futbolarena.com/manchester-city/il...   \n",
              "11438  https://www.futbolarena.com/tottenham/tottenha...   \n",
              "11439  https://www.futbolarena.com/wolverhampton-wand...   \n",
              "11440  https://www.futbolarena.com/liverpool/muhammed...   \n",
              "11441  https://www.futbolarena.com/tottenham/tottenha...   \n",
              "\n",
              "                                                  Icerik  Unnamed: 0.1  \\\n",
              "0      Trabzonspor\\nFutbol Haberleri\\nSüper Lig\\nTrab...           0.0   \n",
              "1      Beşiktaş\\nFutbol Haberleri\\nSüper Lig\\nBeşikta...           1.0   \n",
              "2      Acun Ilıcalı mı satın alıyor? Başkan FutbolAre...           2.0   \n",
              "3      Beşiktaş\\nFutbol Haberleri\\nSüper Lig\\nBeşikta...           3.0   \n",
              "4      Kayserispor\\nFutbol Haberleri\\nSüper Lig\\nKays...           4.0   \n",
              "...                                                  ...           ...   \n",
              "11437  Manchester City\\nFutbol Haberleri\\nPremier Lig...           NaN   \n",
              "11438  Tottenham\\nFutbol Haberleri\\nPremier Lig\\nTott...           NaN   \n",
              "11439  Wolverhampton Wanderers, Premier Lig'de\\n14 Ni...           NaN   \n",
              "11440  Liverpool\\nFutbol Haberleri\\nPremier Lig\\nLive...           NaN   \n",
              "11441  Tottenham\\nFutbol Haberleri\\nPremier Lig\\nTott...           NaN   \n",
              "\n",
              "       Unnamed: 0  \n",
              "0             0.0  \n",
              "1             1.0  \n",
              "2             2.0  \n",
              "3             3.0  \n",
              "4             4.0  \n",
              "...           ...  \n",
              "11437      3595.0  \n",
              "11438      3596.0  \n",
              "11439      3597.0  \n",
              "11440      3598.0  \n",
              "11441      3599.0  \n",
              "\n",
              "[11442 rows x 7 columns]"
            ],
            "text/html": [
              "\n",
              "  <div id=\"df-643241f2-600d-47fc-af17-3ba4bcf93383\" class=\"colab-df-container\">\n",
              "    <div>\n",
              "<style scoped>\n",
              "    .dataframe tbody tr th:only-of-type {\n",
              "        vertical-align: middle;\n",
              "    }\n",
              "\n",
              "    .dataframe tbody tr th {\n",
              "        vertical-align: top;\n",
              "    }\n",
              "\n",
              "    .dataframe thead th {\n",
              "        text-align: right;\n",
              "    }\n",
              "</style>\n",
              "<table border=\"1\" class=\"dataframe\">\n",
              "  <thead>\n",
              "    <tr style=\"text-align: right;\">\n",
              "      <th></th>\n",
              "      <th>Baslik</th>\n",
              "      <th>Ozet</th>\n",
              "      <th>Kategori</th>\n",
              "      <th>Link</th>\n",
              "      <th>Icerik</th>\n",
              "      <th>Unnamed: 0.1</th>\n",
              "      <th>Unnamed: 0</th>\n",
              "    </tr>\n",
              "  </thead>\n",
              "  <tbody>\n",
              "    <tr>\n",
              "      <th>0</th>\n",
              "      <td>\"Trabzonspor'un cezası CAS'tan dönebilir\" Emin...</td>\n",
              "      <td>Spor Hukukçusu Avukat Emin Özkurt, Trabzonspor...</td>\n",
              "      <td>Ozel Haber</td>\n",
              "      <td>https://www.futbolarena.com/trabzonspor/trabzo...</td>\n",
              "      <td>Trabzonspor\\nFutbol Haberleri\\nSüper Lig\\nTrab...</td>\n",
              "      <td>0.0</td>\n",
              "      <td>0.0</td>\n",
              "    </tr>\n",
              "    <tr>\n",
              "      <th>1</th>\n",
              "      <td>Cenk Tosun FutbolArena'ya konuştu: 'Beşiktaş v...</td>\n",
              "      <td>Cenk Tosun Premier Lig'de Türkiye'nin en öneml...</td>\n",
              "      <td>Ozel Haber</td>\n",
              "      <td>https://www.futbolarena.com/besiktas/cenk-tosu...</td>\n",
              "      <td>Beşiktaş\\nFutbol Haberleri\\nSüper Lig\\nBeşikta...</td>\n",
              "      <td>1.0</td>\n",
              "      <td>1.0</td>\n",
              "    </tr>\n",
              "    <tr>\n",
              "      <th>2</th>\n",
              "      <td>Acun Ilıcalı mı satın alıyor? Başkan FutbolAre...</td>\n",
              "      <td>Fortuna Sittard Başkanı Işıtan Gün, Acun Ilıca...</td>\n",
              "      <td>Ozel Haber</td>\n",
              "      <td>https://www.futbolarena.com/acun-ilicali-mi-sa...</td>\n",
              "      <td>Acun Ilıcalı mı satın alıyor? Başkan FutbolAre...</td>\n",
              "      <td>2.0</td>\n",
              "      <td>2.0</td>\n",
              "    </tr>\n",
              "    <tr>\n",
              "      <th>3</th>\n",
              "      <td>Galatasaray Caner Erkin için beklemede! Kritik...</td>\n",
              "      <td>Galatasaray, Caner Erkin için beklemede. Beşik...</td>\n",
              "      <td>Ozel Haber</td>\n",
              "      <td>https://www.futbolarena.com/besiktas/galatasar...</td>\n",
              "      <td>Beşiktaş\\nFutbol Haberleri\\nSüper Lig\\nBeşikta...</td>\n",
              "      <td>3.0</td>\n",
              "      <td>3.0</td>\n",
              "    </tr>\n",
              "    <tr>\n",
              "      <th>4</th>\n",
              "      <td>Kayserispor cephesi: \"Bu ortamda ligler nasıl ...</td>\n",
              "      <td>Kayserispor yönetimi liglerin yeniden oynanma ...</td>\n",
              "      <td>Ozel Haber</td>\n",
              "      <td>https://www.futbolarena.com/kayserispor/kayser...</td>\n",
              "      <td>Kayserispor\\nFutbol Haberleri\\nSüper Lig\\nKays...</td>\n",
              "      <td>4.0</td>\n",
              "      <td>4.0</td>\n",
              "    </tr>\n",
              "    <tr>\n",
              "      <th>...</th>\n",
              "      <td>...</td>\n",
              "      <td>...</td>\n",
              "      <td>...</td>\n",
              "      <td>...</td>\n",
              "      <td>...</td>\n",
              "      <td>...</td>\n",
              "      <td>...</td>\n",
              "    </tr>\n",
              "    <tr>\n",
              "      <th>11437</th>\n",
              "      <td>İlkay Gündoğan Sterling'e elini öptürdü</td>\n",
              "      <td>Manchester City'nin Türk asıllı Alman yıldızı ...</td>\n",
              "      <td>Premier Lig</td>\n",
              "      <td>https://www.futbolarena.com/manchester-city/il...</td>\n",
              "      <td>Manchester City\\nFutbol Haberleri\\nPremier Lig...</td>\n",
              "      <td>NaN</td>\n",
              "      <td>3595.0</td>\n",
              "    </tr>\n",
              "    <tr>\n",
              "      <th>11438</th>\n",
              "      <td>Tottenham 1-3 Manchester City maç özeti ve gol...</td>\n",
              "      <td>Manchester City, Tottenham'ı 3-1 mağlup etti. ...</td>\n",
              "      <td>Premier Lig</td>\n",
              "      <td>https://www.futbolarena.com/tottenham/tottenha...</td>\n",
              "      <td>Tottenham\\nFutbol Haberleri\\nPremier Lig\\nTott...</td>\n",
              "      <td>NaN</td>\n",
              "      <td>3596.0</td>\n",
              "    </tr>\n",
              "    <tr>\n",
              "      <th>11439</th>\n",
              "      <td>Wolverhampton Wanderers, Premier Lig'de</td>\n",
              "      <td>Wolverhampton Wanderers 2011-2012 sezonunda kü...</td>\n",
              "      <td>Premier Lig</td>\n",
              "      <td>https://www.futbolarena.com/wolverhampton-wand...</td>\n",
              "      <td>Wolverhampton Wanderers, Premier Lig'de\\n14 Ni...</td>\n",
              "      <td>NaN</td>\n",
              "      <td>3597.0</td>\n",
              "    </tr>\n",
              "    <tr>\n",
              "      <th>11440</th>\n",
              "      <td>Muhammed Salah, İngiltere Premier Lig rekorunu...</td>\n",
              "      <td>İngiltere Premier Lig'de Liverpool, sahasında ...</td>\n",
              "      <td>Premier Lig</td>\n",
              "      <td>https://www.futbolarena.com/liverpool/muhammed...</td>\n",
              "      <td>Liverpool\\nFutbol Haberleri\\nPremier Lig\\nLive...</td>\n",
              "      <td>NaN</td>\n",
              "      <td>3598.0</td>\n",
              "    </tr>\n",
              "    <tr>\n",
              "      <th>11441</th>\n",
              "      <td>Tottenham-Manchester City canlı şifresiz izle</td>\n",
              "      <td>Tottenham-Manchester City karşı karşıya geliyo...</td>\n",
              "      <td>Premier Lig</td>\n",
              "      <td>https://www.futbolarena.com/tottenham/tottenha...</td>\n",
              "      <td>Tottenham\\nFutbol Haberleri\\nPremier Lig\\nTott...</td>\n",
              "      <td>NaN</td>\n",
              "      <td>3599.0</td>\n",
              "    </tr>\n",
              "  </tbody>\n",
              "</table>\n",
              "<p>11442 rows × 7 columns</p>\n",
              "</div>\n",
              "    <div class=\"colab-df-buttons\">\n",
              "\n",
              "  <div class=\"colab-df-container\">\n",
              "    <button class=\"colab-df-convert\" onclick=\"convertToInteractive('df-643241f2-600d-47fc-af17-3ba4bcf93383')\"\n",
              "            title=\"Convert this dataframe to an interactive table.\"\n",
              "            style=\"display:none;\">\n",
              "\n",
              "  <svg xmlns=\"http://www.w3.org/2000/svg\" height=\"24px\" viewBox=\"0 -960 960 960\">\n",
              "    <path d=\"M120-120v-720h720v720H120Zm60-500h600v-160H180v160Zm220 220h160v-160H400v160Zm0 220h160v-160H400v160ZM180-400h160v-160H180v160Zm440 0h160v-160H620v160ZM180-180h160v-160H180v160Zm440 0h160v-160H620v160Z\"/>\n",
              "  </svg>\n",
              "    </button>\n",
              "\n",
              "  <style>\n",
              "    .colab-df-container {\n",
              "      display:flex;\n",
              "      gap: 12px;\n",
              "    }\n",
              "\n",
              "    .colab-df-convert {\n",
              "      background-color: #E8F0FE;\n",
              "      border: none;\n",
              "      border-radius: 50%;\n",
              "      cursor: pointer;\n",
              "      display: none;\n",
              "      fill: #1967D2;\n",
              "      height: 32px;\n",
              "      padding: 0 0 0 0;\n",
              "      width: 32px;\n",
              "    }\n",
              "\n",
              "    .colab-df-convert:hover {\n",
              "      background-color: #E2EBFA;\n",
              "      box-shadow: 0px 1px 2px rgba(60, 64, 67, 0.3), 0px 1px 3px 1px rgba(60, 64, 67, 0.15);\n",
              "      fill: #174EA6;\n",
              "    }\n",
              "\n",
              "    .colab-df-buttons div {\n",
              "      margin-bottom: 4px;\n",
              "    }\n",
              "\n",
              "    [theme=dark] .colab-df-convert {\n",
              "      background-color: #3B4455;\n",
              "      fill: #D2E3FC;\n",
              "    }\n",
              "\n",
              "    [theme=dark] .colab-df-convert:hover {\n",
              "      background-color: #434B5C;\n",
              "      box-shadow: 0px 1px 3px 1px rgba(0, 0, 0, 0.15);\n",
              "      filter: drop-shadow(0px 1px 2px rgba(0, 0, 0, 0.3));\n",
              "      fill: #FFFFFF;\n",
              "    }\n",
              "  </style>\n",
              "\n",
              "    <script>\n",
              "      const buttonEl =\n",
              "        document.querySelector('#df-643241f2-600d-47fc-af17-3ba4bcf93383 button.colab-df-convert');\n",
              "      buttonEl.style.display =\n",
              "        google.colab.kernel.accessAllowed ? 'block' : 'none';\n",
              "\n",
              "      async function convertToInteractive(key) {\n",
              "        const element = document.querySelector('#df-643241f2-600d-47fc-af17-3ba4bcf93383');\n",
              "        const dataTable =\n",
              "          await google.colab.kernel.invokeFunction('convertToInteractive',\n",
              "                                                    [key], {});\n",
              "        if (!dataTable) return;\n",
              "\n",
              "        const docLinkHtml = 'Like what you see? Visit the ' +\n",
              "          '<a target=\"_blank\" href=https://colab.research.google.com/notebooks/data_table.ipynb>data table notebook</a>'\n",
              "          + ' to learn more about interactive tables.';\n",
              "        element.innerHTML = '';\n",
              "        dataTable['output_type'] = 'display_data';\n",
              "        await google.colab.output.renderOutput(dataTable, element);\n",
              "        const docLink = document.createElement('div');\n",
              "        docLink.innerHTML = docLinkHtml;\n",
              "        element.appendChild(docLink);\n",
              "      }\n",
              "    </script>\n",
              "  </div>\n",
              "\n",
              "\n",
              "<div id=\"df-0631af33-0b0e-4ff2-9e3b-1e529d9a7e56\">\n",
              "  <button class=\"colab-df-quickchart\" onclick=\"quickchart('df-0631af33-0b0e-4ff2-9e3b-1e529d9a7e56')\"\n",
              "            title=\"Suggest charts\"\n",
              "            style=\"display:none;\">\n",
              "\n",
              "<svg xmlns=\"http://www.w3.org/2000/svg\" height=\"24px\"viewBox=\"0 0 24 24\"\n",
              "     width=\"24px\">\n",
              "    <g>\n",
              "        <path d=\"M19 3H5c-1.1 0-2 .9-2 2v14c0 1.1.9 2 2 2h14c1.1 0 2-.9 2-2V5c0-1.1-.9-2-2-2zM9 17H7v-7h2v7zm4 0h-2V7h2v10zm4 0h-2v-4h2v4z\"/>\n",
              "    </g>\n",
              "</svg>\n",
              "  </button>\n",
              "\n",
              "<style>\n",
              "  .colab-df-quickchart {\n",
              "      --bg-color: #E8F0FE;\n",
              "      --fill-color: #1967D2;\n",
              "      --hover-bg-color: #E2EBFA;\n",
              "      --hover-fill-color: #174EA6;\n",
              "      --disabled-fill-color: #AAA;\n",
              "      --disabled-bg-color: #DDD;\n",
              "  }\n",
              "\n",
              "  [theme=dark] .colab-df-quickchart {\n",
              "      --bg-color: #3B4455;\n",
              "      --fill-color: #D2E3FC;\n",
              "      --hover-bg-color: #434B5C;\n",
              "      --hover-fill-color: #FFFFFF;\n",
              "      --disabled-bg-color: #3B4455;\n",
              "      --disabled-fill-color: #666;\n",
              "  }\n",
              "\n",
              "  .colab-df-quickchart {\n",
              "    background-color: var(--bg-color);\n",
              "    border: none;\n",
              "    border-radius: 50%;\n",
              "    cursor: pointer;\n",
              "    display: none;\n",
              "    fill: var(--fill-color);\n",
              "    height: 32px;\n",
              "    padding: 0;\n",
              "    width: 32px;\n",
              "  }\n",
              "\n",
              "  .colab-df-quickchart:hover {\n",
              "    background-color: var(--hover-bg-color);\n",
              "    box-shadow: 0 1px 2px rgba(60, 64, 67, 0.3), 0 1px 3px 1px rgba(60, 64, 67, 0.15);\n",
              "    fill: var(--button-hover-fill-color);\n",
              "  }\n",
              "\n",
              "  .colab-df-quickchart-complete:disabled,\n",
              "  .colab-df-quickchart-complete:disabled:hover {\n",
              "    background-color: var(--disabled-bg-color);\n",
              "    fill: var(--disabled-fill-color);\n",
              "    box-shadow: none;\n",
              "  }\n",
              "\n",
              "  .colab-df-spinner {\n",
              "    border: 2px solid var(--fill-color);\n",
              "    border-color: transparent;\n",
              "    border-bottom-color: var(--fill-color);\n",
              "    animation:\n",
              "      spin 1s steps(1) infinite;\n",
              "  }\n",
              "\n",
              "  @keyframes spin {\n",
              "    0% {\n",
              "      border-color: transparent;\n",
              "      border-bottom-color: var(--fill-color);\n",
              "      border-left-color: var(--fill-color);\n",
              "    }\n",
              "    20% {\n",
              "      border-color: transparent;\n",
              "      border-left-color: var(--fill-color);\n",
              "      border-top-color: var(--fill-color);\n",
              "    }\n",
              "    30% {\n",
              "      border-color: transparent;\n",
              "      border-left-color: var(--fill-color);\n",
              "      border-top-color: var(--fill-color);\n",
              "      border-right-color: var(--fill-color);\n",
              "    }\n",
              "    40% {\n",
              "      border-color: transparent;\n",
              "      border-right-color: var(--fill-color);\n",
              "      border-top-color: var(--fill-color);\n",
              "    }\n",
              "    60% {\n",
              "      border-color: transparent;\n",
              "      border-right-color: var(--fill-color);\n",
              "    }\n",
              "    80% {\n",
              "      border-color: transparent;\n",
              "      border-right-color: var(--fill-color);\n",
              "      border-bottom-color: var(--fill-color);\n",
              "    }\n",
              "    90% {\n",
              "      border-color: transparent;\n",
              "      border-bottom-color: var(--fill-color);\n",
              "    }\n",
              "  }\n",
              "</style>\n",
              "\n",
              "  <script>\n",
              "    async function quickchart(key) {\n",
              "      const quickchartButtonEl =\n",
              "        document.querySelector('#' + key + ' button');\n",
              "      quickchartButtonEl.disabled = true;  // To prevent multiple clicks.\n",
              "      quickchartButtonEl.classList.add('colab-df-spinner');\n",
              "      try {\n",
              "        const charts = await google.colab.kernel.invokeFunction(\n",
              "            'suggestCharts', [key], {});\n",
              "      } catch (error) {\n",
              "        console.error('Error during call to suggestCharts:', error);\n",
              "      }\n",
              "      quickchartButtonEl.classList.remove('colab-df-spinner');\n",
              "      quickchartButtonEl.classList.add('colab-df-quickchart-complete');\n",
              "    }\n",
              "    (() => {\n",
              "      let quickchartButtonEl =\n",
              "        document.querySelector('#df-0631af33-0b0e-4ff2-9e3b-1e529d9a7e56 button');\n",
              "      quickchartButtonEl.style.display =\n",
              "        google.colab.kernel.accessAllowed ? 'block' : 'none';\n",
              "    })();\n",
              "  </script>\n",
              "</div>\n",
              "\n",
              "  <div id=\"id_b4aa91b0-66b6-4dbc-a437-4645bd69706b\">\n",
              "    <style>\n",
              "      .colab-df-generate {\n",
              "        background-color: #E8F0FE;\n",
              "        border: none;\n",
              "        border-radius: 50%;\n",
              "        cursor: pointer;\n",
              "        display: none;\n",
              "        fill: #1967D2;\n",
              "        height: 32px;\n",
              "        padding: 0 0 0 0;\n",
              "        width: 32px;\n",
              "      }\n",
              "\n",
              "      .colab-df-generate:hover {\n",
              "        background-color: #E2EBFA;\n",
              "        box-shadow: 0px 1px 2px rgba(60, 64, 67, 0.3), 0px 1px 3px 1px rgba(60, 64, 67, 0.15);\n",
              "        fill: #174EA6;\n",
              "      }\n",
              "\n",
              "      [theme=dark] .colab-df-generate {\n",
              "        background-color: #3B4455;\n",
              "        fill: #D2E3FC;\n",
              "      }\n",
              "\n",
              "      [theme=dark] .colab-df-generate:hover {\n",
              "        background-color: #434B5C;\n",
              "        box-shadow: 0px 1px 3px 1px rgba(0, 0, 0, 0.15);\n",
              "        filter: drop-shadow(0px 1px 2px rgba(0, 0, 0, 0.3));\n",
              "        fill: #FFFFFF;\n",
              "      }\n",
              "    </style>\n",
              "    <button class=\"colab-df-generate\" onclick=\"generateWithVariable('haberler_DataFrame')\"\n",
              "            title=\"Generate code using this dataframe.\"\n",
              "            style=\"display:none;\">\n",
              "\n",
              "  <svg xmlns=\"http://www.w3.org/2000/svg\" height=\"24px\"viewBox=\"0 0 24 24\"\n",
              "       width=\"24px\">\n",
              "    <path d=\"M7,19H8.4L18.45,9,17,7.55,7,17.6ZM5,21V16.75L18.45,3.32a2,2,0,0,1,2.83,0l1.4,1.43a1.91,1.91,0,0,1,.58,1.4,1.91,1.91,0,0,1-.58,1.4L9.25,21ZM18.45,9,17,7.55Zm-12,3A5.31,5.31,0,0,0,4.9,8.1,5.31,5.31,0,0,0,1,6.5,5.31,5.31,0,0,0,4.9,4.9,5.31,5.31,0,0,0,6.5,1,5.31,5.31,0,0,0,8.1,4.9,5.31,5.31,0,0,0,12,6.5,5.46,5.46,0,0,0,6.5,12Z\"/>\n",
              "  </svg>\n",
              "    </button>\n",
              "    <script>\n",
              "      (() => {\n",
              "      const buttonEl =\n",
              "        document.querySelector('#id_b4aa91b0-66b6-4dbc-a437-4645bd69706b button.colab-df-generate');\n",
              "      buttonEl.style.display =\n",
              "        google.colab.kernel.accessAllowed ? 'block' : 'none';\n",
              "\n",
              "      buttonEl.onclick = () => {\n",
              "        google.colab.notebook.generateWithVariable('haberler_DataFrame');\n",
              "      }\n",
              "      })();\n",
              "    </script>\n",
              "  </div>\n",
              "\n",
              "    </div>\n",
              "  </div>\n"
            ],
            "application/vnd.google.colaboratory.intrinsic+json": {
              "type": "dataframe",
              "variable_name": "haberler_DataFrame",
              "summary": "{\n  \"name\": \"haberler_DataFrame\",\n  \"rows\": 11442,\n  \"fields\": [\n    {\n      \"column\": \"Baslik\",\n      \"properties\": {\n        \"dtype\": \"string\",\n        \"num_unique_values\": 9846,\n        \"samples\": [\n          \"Alt\\u0131nordu \\u00c7a\\u011flar S\\u00f6y\\u00fcnc\\u00fc'n\\u00fcn Leicester City'ye transferinden ne kadar alacak?\",\n          \"Yerry Mina'n\\u0131n Everton'a transferi son a\\u015famaya geldi\",\n          \"Fenerbah\\u00e7eli oyuncu Sarp Akkaya, FutbolArena'ya konu\\u015ftu\"\n        ],\n        \"semantic_type\": \"\",\n        \"description\": \"\"\n      }\n    },\n    {\n      \"column\": \"Ozet\",\n      \"properties\": {\n        \"dtype\": \"string\",\n        \"num_unique_values\": 9860,\n        \"samples\": [\n          \"PSG, UEFA \\u015eampiyonlar Ligi'nde Real Madrid'i 1-0 yendi. PSG-Real Madrid ma\\u00e7 \\u00f6zeti bilgisi haberimizde.\",\n          \"Galatasaray'da ba\\u015far\\u0131l\\u0131 file bek\\u00e7isi \\u0130smail \\u00c7ipe'nin performans\\u0131 2. kaleci transferini ask\\u0131ya ald\\u0131rd\\u0131.\",\n          \"Everton, Sam Allardyce ile yollar\\u0131n ayr\\u0131ld\\u0131\\u011f\\u0131n\\u0131 resmen a\\u00e7\\u0131klad\\u0131. \\u0130ngiliz ekibinde Sam Allardyce d\\u00f6nemi sona erdi.\"\n        ],\n        \"semantic_type\": \"\",\n        \"description\": \"\"\n      }\n    },\n    {\n      \"column\": \"Kategori\",\n      \"properties\": {\n        \"dtype\": \"category\",\n        \"num_unique_values\": 16,\n        \"samples\": [\n          \"Ozel Haber\",\n          \"Transfer Haberleri\",\n          \"Fransa Lig 1\"\n        ],\n        \"semantic_type\": \"\",\n        \"description\": \"\"\n      }\n    },\n    {\n      \"column\": \"Link\",\n      \"properties\": {\n        \"dtype\": \"string\",\n        \"num_unique_values\": 9879,\n        \"samples\": [\n          \"https://www.futbolarena.com/monaco/monaco-lyon-maci-saat-kacta-hangi-kanalda-iddaa-canli-skor-339026h/\",\n          \"https://www.futbolarena.com/fenerbahce/fb-transfer-fenerbahcenin-gozdesi-yerry-mina-evertonda-354192h/\",\n          \"https://www.futbolarena.com/bayern-munih/schalke-bayern-munih-canli-skor-mac-sonucu-mac-hangi-kanalda-328195h/\"\n        ],\n        \"semantic_type\": \"\",\n        \"description\": \"\"\n      }\n    },\n    {\n      \"column\": \"Icerik\",\n      \"properties\": {\n        \"dtype\": \"string\",\n        \"num_unique_values\": 9915,\n        \"samples\": [\n          \"Willian kul\\u00fcp ar\\u0131yor\\n30 Temmuz 2021, Cuma 17:36\\nPAYLA\\u015e\\nArsenal'de g\\u00f6zden \\u00e7\\u0131kar\\u0131lan Willian, Suudi Arabistan'da Al Ahli kul\\u00fcb\\u00fcnden gelen teklifi d\\u00fc\\u015f\\u00fcnmek i\\u00e7in s\\u00fcre istedi. \\nFutbolArena D\\u0131\\u015f Haberler - Arsenal'de Willian g\\u00f6zden \\u00e7\\u0131kar\\u0131ld\\u0131. \\u0130ngiliz ekibinde yeni sezonda kadroda d\\u00fc\\u015f\\u00fcn\\u00fclmeyen Willian, menajerine kul\\u00fcp bulmas\\u0131 i\\u00e7in talimat verdi. \\n\\n\\u00d6te yandan Willian'a gelen ilk teklifin Suudi Arabistan'dan oldu\\u011fu \\u00f6\\u011frenildi. Al Ahli kul\\u00fcb\\u00fc y\\u0131ld\\u0131z futbolcuya 2025 y\\u0131l\\u0131na kadar s\\u00f6zle\\u015fme teklif etti. Willian ise d\\u00fc\\u015f\\u00fcnmek i\\u00e7in s\\u00fcre isterken, oyuncu ayn\\u0131 zamanda Avrupa'dan gelen teklifleri de de\\u011ferlendirmek istiyor. \\nWillian ge\\u00e7ti\\u011fimiz sezon Arsenal formas\\u0131yla ligde oynad\\u0131\\u011f\\u0131 25 ma\\u00e7ta 1 gol att\\u0131 ve 5 asist yapt\\u0131. \\n\\nTransfer Haberleri FutbolArena'da!\\n\\nARKADA\\u015eINI GET\\u0130R 50 TL B\\u0130LYONPUAN AL!\\nArsenal\\nWillian\\nUEFA Ba\\u015fkan\\u0131 Ceferin: \\\"Suudi Arabistan beni korkutmuyor\\\"\",\n          \"Real Madrid\\nFutbol Haberleri\\nLa Liga\\nReal Madrid\\nReal Madrid\\u2019in Mbappe i\\u00e7in \\u00e7\\u0131lg\\u0131n teklifi aylar sonra ortaya \\u00e7\\u0131kt\\u0131\\nReal Madrid'in Mbappe i\\u00e7in \\u00e7\\u0131lg\\u0131n teklifi aylar sonra ortaya \\u00e7\\u0131kt\\u0131\\n07 Kas\\u0131m 2018, \\u00c7ar\\u015famba 19:29\\nPAYLA\\u015e\\n00:00 / 00:00\\nReal Madrid'in PSG'den sonra Monaco'ya yapt\\u0131\\u011f\\u0131 Mbappe teklifi aylar sonra Football Leaks belgeleriyle ortaya \\u00e7\\u0131kt\\u0131.\\nFutbolArena D\\u0131\\u015f Haberler - Football Leaks belgeleri Avrupa futbolunu sallamaya devam ediyor. Son olarak Real Madrid'in Kylian Mbappe i\\u00e7in Monaco ile yapt\\u0131\\u011f\\u0131 \\u00e7\\u0131lg\\u0131n transfer pazarl\\u0131\\u011f\\u0131 g\\u00fcny\\u00fcz\\u00fcne \\u00e7\\u0131kt\\u0131.\\n Mbappe, Real Madrid'e neden transfer olmad\\u0131?\\n\\n180 milyon Euro bonservis bedeliyle ge\\u00e7en sezon Monaco'dan Paris Saint Germain'e transfer olan Mbappe, Real Madrid'in de kap\\u0131s\\u0131ndan d\\u00f6nd\\u00fc.\\n\\nFransa bas\\u0131n\\u0131ndan Mediapart sitesinin haberine g\\u00f6re Monaco'nun teklifinden sonra devreye giren Real Madrid, Kylian Mbappe i\\u00e7in vergilerle beraber tam 214 milyon Euro \\u00f6nerdi. Ancak Monaco'nun 34 milyon Euro'luk vergiden \\u00e7ekinmesi ve Mbappe'nin PSG'ye s\\u0131cak bakmas\\u0131ndan dolay\\u0131 Real Madrid'in t\\u00fcm \\u00e7abalar\\u0131na ra\\u011fmen bu transfer yatt\\u0131.\\n\\nDaha y\\u00fcksek bir teklif sunmas\\u0131n\\u0131n yan\\u0131 s\\u0131ra Kylian Mbappe'yi PSG'ye kapt\\u0131ran Real Madrid, bu geli\\u015fmeden sonra farkl\\u0131 alternatiflere y\\u00f6neldi.\\n\\nMBAPPE PSG'DE CO\\u015eTU\\n\\n2018 D\\u00fcnya Kupas\\u0131'nda 7 ma\\u00e7ta 4 gol kaydeden Mbappe, bu sezon PSG formas\\u0131yla 15 ma\\u00e7ta 14 gol att\\u0131. 19 ya\\u015f\\u0131nda muhte\\u015fem performaslar ortaya koyan Mbappe, bu futboluyla Real Madrid yetkililerini de \\u00fczm\\u00fc\\u015fe benziyor. Football Leaks belgelerinde ortaya \\u00e7\\u0131kacak ba\\u015fka ger\\u00e7ekler futbol kamuoyunda merakla bekleniyor.\\n\\nSon dakika D\\u00fcnyadan Futbol Haberleri FutbolArena'da!\\n\\nARKADA\\u015eINI GET\\u0130R 50 TL B\\u0130LYONPUAN AL!\\nPSG\\nReal Madrid\\nKylian Mbappe\\nParis Saint Germain\\nReal Madrid\\nReal Madrid 3-1 Barcelona ma\\u00e7 \\u00f6zeti ve golleri (\\u0130ZLE)\\nAvrupa\\u2019dan Futbol Haberleri (27 Nisan 2020)\",\n          \"Galatasaray\\nFutbol Haberleri\\nS\\u00fcper Lig\\nGalatasaray\\nGalatasaray\\u2019da Fatih Terim ile Belhanda aras\\u0131nda transfer zirvesi\\nGalatasaray'da Fatih Terim ile Belhanda aras\\u0131nda transfer zirvesi\\n15 Ocak 2019, Sal\\u0131 18:32\\nPAYLA\\u015e\\n00:00 / 00:00\\nGalatasaray teknik direkt\\u00f6r\\u00fc Fatih Terim, Al Ittihad tak\\u0131m\\u0131na transferi g\\u00fcndemde olan Younes Belhanda ile g\\u00f6r\\u00fc\\u015fecek.\\nFutbolArena \\u00d6zel - Belhanda - Al Ittihad transferinde s\\u0131cak geli\\u015fmeler ya\\u015fan\\u0131yor. Galatasaray'da teknik direkt\\u00f6r Fatih Terim, oyuncusu Younes Belhanda ile son kez g\\u00f6r\\u00fc\\u015f\\u00fcp durumunu masaya yat\\u0131raca\\u011f\\u0131 \\u00f6\\u011frenildi.\\n Galatasaray Belhanda'y\\u0131 satacak m\\u0131?\\n\\nTecr\\u00fcbeli teknik adam Belhanda ile transferi hakk\\u0131nda konu\\u015fup kalmas\\u0131n\\u0131 isteyecek. Belhanda, 'gitme' d\\u00fc\\u015f\\u00fcncesinden vazge\\u00e7erse sezon sonuna kadar Galatasaray'da kalacak. Ancak Belhanda'n\\u0131n, 'gitmek istiyorum' \\u00e7\\u0131k\\u0131\\u015f\\u0131n\\u0131 k\\u0131saca ayr\\u0131l\\u0131k ad\\u0131na bu tavr\\u0131n\\u0131 s\\u00fcrd\\u00fcrmesi halinde 'Gitmek isteyen oyuncuyu tak\\u0131mda tutman\\u0131n bir faydas\\u0131 olmaz. Katk\\u0131 sa\\u011flamaz' d\\u00fc\\u015f\\u00fcncesinde olan Fatih Terim, Fasl\\u0131 oyuncu karar\\u0131ndan d\\u00f6nmezse bu transfere izin verecek.\\n Belhanda kimdir, ka\\u00e7 ya\\u015f\\u0131nda? Belhanda transfermarkt\\n\\nKariyerine Montpellier altyap\\u0131s\\u0131nda ba\\u015flayan Belhanda, s\\u0131ras\\u0131yla Dinamo Kiev, Schalke, Nice ve Galatasaray formalar\\u0131 giydi. Sar\\u0131 k\\u0131rm\\u0131z\\u0131l\\u0131 kul\\u00fcple 2021 y\\u0131l\\u0131na kadar s\\u00f6zle\\u015fmesi bulunan Belhanda, bu sezon 15 resmi ma\\u00e7ta forma giydi ve 5 asist yapt\\u0131.\\n\\nSar\\u0131 K\\u0131rm\\u0131z\\u0131l\\u0131 tak\\u0131mla ilgili t\\u00fcm geli\\u015fmelere Galatasaray Haberleri sayfas\\u0131ndan ula\\u015fabilirsiniz. \\n\\nARKADA\\u015eINI GET\\u0130R 50 TL B\\u0130LYONPUAN AL!\\nAl Ittihad\\nGalatasaray\\nFatih Terim\\nYounes Belhanda\\nGalatasaray\\nErden Timur: \\\"Her \\u015fey a\\u00e7\\u0131klans\\u0131n\\\"\"\n        ],\n        \"semantic_type\": \"\",\n        \"description\": \"\"\n      }\n    },\n    {\n      \"column\": \"Unnamed: 0.1\",\n      \"properties\": {\n        \"dtype\": \"number\",\n        \"std\": 1385.7849761056007,\n        \"min\": 0.0,\n        \"max\": 4799.0,\n        \"num_unique_values\": 4800,\n        \"samples\": [\n          596.0,\n          3370.0,\n          3048.0\n        ],\n        \"semantic_type\": \"\",\n        \"description\": \"\"\n      }\n    },\n    {\n      \"column\": \"Unnamed: 0\",\n      \"properties\": {\n        \"dtype\": \"number\",\n        \"std\": 1220.9032871648649,\n        \"min\": 0.0,\n        \"max\": 4799.0,\n        \"num_unique_values\": 4800,\n        \"samples\": [\n          596.0,\n          3370.0,\n          3048.0\n        ],\n        \"semantic_type\": \"\",\n        \"description\": \"\"\n      }\n    }\n  ]\n}"
            }
          },
          "metadata": {},
          "execution_count": 12
        }
      ]
    },
    {
      "cell_type": "code",
      "source": [
        "haberler_DataFrame.drop(\"Unnamed: 0\",axis=1,inplace=True)\n",
        "haberler_DataFrame.drop(\"Unnamed: 0.1\",axis=1,inplace=True)"
      ],
      "metadata": {
        "id": "eDwy-7YDy5tx"
      },
      "execution_count": null,
      "outputs": []
    },
    {
      "cell_type": "code",
      "source": [
        "haberler_DataFrame"
      ],
      "metadata": {
        "colab": {
          "base_uri": "https://localhost:8080/",
          "height": 597
        },
        "id": "R6ERXA-cy79x",
        "outputId": "de23d2de-424b-4308-c752-c5be43b91b6d"
      },
      "execution_count": null,
      "outputs": [
        {
          "output_type": "execute_result",
          "data": {
            "text/plain": [
              "                                                  Baslik  \\\n",
              "0      \"Trabzonspor'un cezası CAS'tan dönebilir\" Emin...   \n",
              "1      Cenk Tosun FutbolArena'ya konuştu: 'Beşiktaş v...   \n",
              "2      Acun Ilıcalı mı satın alıyor? Başkan FutbolAre...   \n",
              "3      Galatasaray Caner Erkin için beklemede! Kritik...   \n",
              "4      Kayserispor cephesi: \"Bu ortamda ligler nasıl ...   \n",
              "...                                                  ...   \n",
              "11437            İlkay Gündoğan Sterling'e elini öptürdü   \n",
              "11438  Tottenham 1-3 Manchester City maç özeti ve gol...   \n",
              "11439            Wolverhampton Wanderers, Premier Lig'de   \n",
              "11440  Muhammed Salah, İngiltere Premier Lig rekorunu...   \n",
              "11441      Tottenham-Manchester City canlı şifresiz izle   \n",
              "\n",
              "                                                    Ozet     Kategori  \\\n",
              "0      Spor Hukukçusu Avukat Emin Özkurt, Trabzonspor...   Ozel Haber   \n",
              "1      Cenk Tosun Premier Lig'de Türkiye'nin en öneml...   Ozel Haber   \n",
              "2      Fortuna Sittard Başkanı Işıtan Gün, Acun Ilıca...   Ozel Haber   \n",
              "3      Galatasaray, Caner Erkin için beklemede. Beşik...   Ozel Haber   \n",
              "4      Kayserispor yönetimi liglerin yeniden oynanma ...   Ozel Haber   \n",
              "...                                                  ...          ...   \n",
              "11437  Manchester City'nin Türk asıllı Alman yıldızı ...  Premier Lig   \n",
              "11438  Manchester City, Tottenham'ı 3-1 mağlup etti. ...  Premier Lig   \n",
              "11439  Wolverhampton Wanderers 2011-2012 sezonunda kü...  Premier Lig   \n",
              "11440  İngiltere Premier Lig'de Liverpool, sahasında ...  Premier Lig   \n",
              "11441  Tottenham-Manchester City karşı karşıya geliyo...  Premier Lig   \n",
              "\n",
              "                                                    Link  \\\n",
              "0      https://www.futbolarena.com/trabzonspor/trabzo...   \n",
              "1      https://www.futbolarena.com/besiktas/cenk-tosu...   \n",
              "2      https://www.futbolarena.com/acun-ilicali-mi-sa...   \n",
              "3      https://www.futbolarena.com/besiktas/galatasar...   \n",
              "4      https://www.futbolarena.com/kayserispor/kayser...   \n",
              "...                                                  ...   \n",
              "11437  https://www.futbolarena.com/manchester-city/il...   \n",
              "11438  https://www.futbolarena.com/tottenham/tottenha...   \n",
              "11439  https://www.futbolarena.com/wolverhampton-wand...   \n",
              "11440  https://www.futbolarena.com/liverpool/muhammed...   \n",
              "11441  https://www.futbolarena.com/tottenham/tottenha...   \n",
              "\n",
              "                                                  Icerik  \n",
              "0      Trabzonspor\\nFutbol Haberleri\\nSüper Lig\\nTrab...  \n",
              "1      Beşiktaş\\nFutbol Haberleri\\nSüper Lig\\nBeşikta...  \n",
              "2      Acun Ilıcalı mı satın alıyor? Başkan FutbolAre...  \n",
              "3      Beşiktaş\\nFutbol Haberleri\\nSüper Lig\\nBeşikta...  \n",
              "4      Kayserispor\\nFutbol Haberleri\\nSüper Lig\\nKays...  \n",
              "...                                                  ...  \n",
              "11437  Manchester City\\nFutbol Haberleri\\nPremier Lig...  \n",
              "11438  Tottenham\\nFutbol Haberleri\\nPremier Lig\\nTott...  \n",
              "11439  Wolverhampton Wanderers, Premier Lig'de\\n14 Ni...  \n",
              "11440  Liverpool\\nFutbol Haberleri\\nPremier Lig\\nLive...  \n",
              "11441  Tottenham\\nFutbol Haberleri\\nPremier Lig\\nTott...  \n",
              "\n",
              "[11442 rows x 5 columns]"
            ],
            "text/html": [
              "\n",
              "  <div id=\"df-e9fbf0fc-7de6-4392-810e-9ea377c1d9dc\" class=\"colab-df-container\">\n",
              "    <div>\n",
              "<style scoped>\n",
              "    .dataframe tbody tr th:only-of-type {\n",
              "        vertical-align: middle;\n",
              "    }\n",
              "\n",
              "    .dataframe tbody tr th {\n",
              "        vertical-align: top;\n",
              "    }\n",
              "\n",
              "    .dataframe thead th {\n",
              "        text-align: right;\n",
              "    }\n",
              "</style>\n",
              "<table border=\"1\" class=\"dataframe\">\n",
              "  <thead>\n",
              "    <tr style=\"text-align: right;\">\n",
              "      <th></th>\n",
              "      <th>Baslik</th>\n",
              "      <th>Ozet</th>\n",
              "      <th>Kategori</th>\n",
              "      <th>Link</th>\n",
              "      <th>Icerik</th>\n",
              "    </tr>\n",
              "  </thead>\n",
              "  <tbody>\n",
              "    <tr>\n",
              "      <th>0</th>\n",
              "      <td>\"Trabzonspor'un cezası CAS'tan dönebilir\" Emin...</td>\n",
              "      <td>Spor Hukukçusu Avukat Emin Özkurt, Trabzonspor...</td>\n",
              "      <td>Ozel Haber</td>\n",
              "      <td>https://www.futbolarena.com/trabzonspor/trabzo...</td>\n",
              "      <td>Trabzonspor\\nFutbol Haberleri\\nSüper Lig\\nTrab...</td>\n",
              "    </tr>\n",
              "    <tr>\n",
              "      <th>1</th>\n",
              "      <td>Cenk Tosun FutbolArena'ya konuştu: 'Beşiktaş v...</td>\n",
              "      <td>Cenk Tosun Premier Lig'de Türkiye'nin en öneml...</td>\n",
              "      <td>Ozel Haber</td>\n",
              "      <td>https://www.futbolarena.com/besiktas/cenk-tosu...</td>\n",
              "      <td>Beşiktaş\\nFutbol Haberleri\\nSüper Lig\\nBeşikta...</td>\n",
              "    </tr>\n",
              "    <tr>\n",
              "      <th>2</th>\n",
              "      <td>Acun Ilıcalı mı satın alıyor? Başkan FutbolAre...</td>\n",
              "      <td>Fortuna Sittard Başkanı Işıtan Gün, Acun Ilıca...</td>\n",
              "      <td>Ozel Haber</td>\n",
              "      <td>https://www.futbolarena.com/acun-ilicali-mi-sa...</td>\n",
              "      <td>Acun Ilıcalı mı satın alıyor? Başkan FutbolAre...</td>\n",
              "    </tr>\n",
              "    <tr>\n",
              "      <th>3</th>\n",
              "      <td>Galatasaray Caner Erkin için beklemede! Kritik...</td>\n",
              "      <td>Galatasaray, Caner Erkin için beklemede. Beşik...</td>\n",
              "      <td>Ozel Haber</td>\n",
              "      <td>https://www.futbolarena.com/besiktas/galatasar...</td>\n",
              "      <td>Beşiktaş\\nFutbol Haberleri\\nSüper Lig\\nBeşikta...</td>\n",
              "    </tr>\n",
              "    <tr>\n",
              "      <th>4</th>\n",
              "      <td>Kayserispor cephesi: \"Bu ortamda ligler nasıl ...</td>\n",
              "      <td>Kayserispor yönetimi liglerin yeniden oynanma ...</td>\n",
              "      <td>Ozel Haber</td>\n",
              "      <td>https://www.futbolarena.com/kayserispor/kayser...</td>\n",
              "      <td>Kayserispor\\nFutbol Haberleri\\nSüper Lig\\nKays...</td>\n",
              "    </tr>\n",
              "    <tr>\n",
              "      <th>...</th>\n",
              "      <td>...</td>\n",
              "      <td>...</td>\n",
              "      <td>...</td>\n",
              "      <td>...</td>\n",
              "      <td>...</td>\n",
              "    </tr>\n",
              "    <tr>\n",
              "      <th>11437</th>\n",
              "      <td>İlkay Gündoğan Sterling'e elini öptürdü</td>\n",
              "      <td>Manchester City'nin Türk asıllı Alman yıldızı ...</td>\n",
              "      <td>Premier Lig</td>\n",
              "      <td>https://www.futbolarena.com/manchester-city/il...</td>\n",
              "      <td>Manchester City\\nFutbol Haberleri\\nPremier Lig...</td>\n",
              "    </tr>\n",
              "    <tr>\n",
              "      <th>11438</th>\n",
              "      <td>Tottenham 1-3 Manchester City maç özeti ve gol...</td>\n",
              "      <td>Manchester City, Tottenham'ı 3-1 mağlup etti. ...</td>\n",
              "      <td>Premier Lig</td>\n",
              "      <td>https://www.futbolarena.com/tottenham/tottenha...</td>\n",
              "      <td>Tottenham\\nFutbol Haberleri\\nPremier Lig\\nTott...</td>\n",
              "    </tr>\n",
              "    <tr>\n",
              "      <th>11439</th>\n",
              "      <td>Wolverhampton Wanderers, Premier Lig'de</td>\n",
              "      <td>Wolverhampton Wanderers 2011-2012 sezonunda kü...</td>\n",
              "      <td>Premier Lig</td>\n",
              "      <td>https://www.futbolarena.com/wolverhampton-wand...</td>\n",
              "      <td>Wolverhampton Wanderers, Premier Lig'de\\n14 Ni...</td>\n",
              "    </tr>\n",
              "    <tr>\n",
              "      <th>11440</th>\n",
              "      <td>Muhammed Salah, İngiltere Premier Lig rekorunu...</td>\n",
              "      <td>İngiltere Premier Lig'de Liverpool, sahasında ...</td>\n",
              "      <td>Premier Lig</td>\n",
              "      <td>https://www.futbolarena.com/liverpool/muhammed...</td>\n",
              "      <td>Liverpool\\nFutbol Haberleri\\nPremier Lig\\nLive...</td>\n",
              "    </tr>\n",
              "    <tr>\n",
              "      <th>11441</th>\n",
              "      <td>Tottenham-Manchester City canlı şifresiz izle</td>\n",
              "      <td>Tottenham-Manchester City karşı karşıya geliyo...</td>\n",
              "      <td>Premier Lig</td>\n",
              "      <td>https://www.futbolarena.com/tottenham/tottenha...</td>\n",
              "      <td>Tottenham\\nFutbol Haberleri\\nPremier Lig\\nTott...</td>\n",
              "    </tr>\n",
              "  </tbody>\n",
              "</table>\n",
              "<p>11442 rows × 5 columns</p>\n",
              "</div>\n",
              "    <div class=\"colab-df-buttons\">\n",
              "\n",
              "  <div class=\"colab-df-container\">\n",
              "    <button class=\"colab-df-convert\" onclick=\"convertToInteractive('df-e9fbf0fc-7de6-4392-810e-9ea377c1d9dc')\"\n",
              "            title=\"Convert this dataframe to an interactive table.\"\n",
              "            style=\"display:none;\">\n",
              "\n",
              "  <svg xmlns=\"http://www.w3.org/2000/svg\" height=\"24px\" viewBox=\"0 -960 960 960\">\n",
              "    <path d=\"M120-120v-720h720v720H120Zm60-500h600v-160H180v160Zm220 220h160v-160H400v160Zm0 220h160v-160H400v160ZM180-400h160v-160H180v160Zm440 0h160v-160H620v160ZM180-180h160v-160H180v160Zm440 0h160v-160H620v160Z\"/>\n",
              "  </svg>\n",
              "    </button>\n",
              "\n",
              "  <style>\n",
              "    .colab-df-container {\n",
              "      display:flex;\n",
              "      gap: 12px;\n",
              "    }\n",
              "\n",
              "    .colab-df-convert {\n",
              "      background-color: #E8F0FE;\n",
              "      border: none;\n",
              "      border-radius: 50%;\n",
              "      cursor: pointer;\n",
              "      display: none;\n",
              "      fill: #1967D2;\n",
              "      height: 32px;\n",
              "      padding: 0 0 0 0;\n",
              "      width: 32px;\n",
              "    }\n",
              "\n",
              "    .colab-df-convert:hover {\n",
              "      background-color: #E2EBFA;\n",
              "      box-shadow: 0px 1px 2px rgba(60, 64, 67, 0.3), 0px 1px 3px 1px rgba(60, 64, 67, 0.15);\n",
              "      fill: #174EA6;\n",
              "    }\n",
              "\n",
              "    .colab-df-buttons div {\n",
              "      margin-bottom: 4px;\n",
              "    }\n",
              "\n",
              "    [theme=dark] .colab-df-convert {\n",
              "      background-color: #3B4455;\n",
              "      fill: #D2E3FC;\n",
              "    }\n",
              "\n",
              "    [theme=dark] .colab-df-convert:hover {\n",
              "      background-color: #434B5C;\n",
              "      box-shadow: 0px 1px 3px 1px rgba(0, 0, 0, 0.15);\n",
              "      filter: drop-shadow(0px 1px 2px rgba(0, 0, 0, 0.3));\n",
              "      fill: #FFFFFF;\n",
              "    }\n",
              "  </style>\n",
              "\n",
              "    <script>\n",
              "      const buttonEl =\n",
              "        document.querySelector('#df-e9fbf0fc-7de6-4392-810e-9ea377c1d9dc button.colab-df-convert');\n",
              "      buttonEl.style.display =\n",
              "        google.colab.kernel.accessAllowed ? 'block' : 'none';\n",
              "\n",
              "      async function convertToInteractive(key) {\n",
              "        const element = document.querySelector('#df-e9fbf0fc-7de6-4392-810e-9ea377c1d9dc');\n",
              "        const dataTable =\n",
              "          await google.colab.kernel.invokeFunction('convertToInteractive',\n",
              "                                                    [key], {});\n",
              "        if (!dataTable) return;\n",
              "\n",
              "        const docLinkHtml = 'Like what you see? Visit the ' +\n",
              "          '<a target=\"_blank\" href=https://colab.research.google.com/notebooks/data_table.ipynb>data table notebook</a>'\n",
              "          + ' to learn more about interactive tables.';\n",
              "        element.innerHTML = '';\n",
              "        dataTable['output_type'] = 'display_data';\n",
              "        await google.colab.output.renderOutput(dataTable, element);\n",
              "        const docLink = document.createElement('div');\n",
              "        docLink.innerHTML = docLinkHtml;\n",
              "        element.appendChild(docLink);\n",
              "      }\n",
              "    </script>\n",
              "  </div>\n",
              "\n",
              "\n",
              "<div id=\"df-9d8f86d8-70a1-4ecd-a9c5-6f4322d2e9df\">\n",
              "  <button class=\"colab-df-quickchart\" onclick=\"quickchart('df-9d8f86d8-70a1-4ecd-a9c5-6f4322d2e9df')\"\n",
              "            title=\"Suggest charts\"\n",
              "            style=\"display:none;\">\n",
              "\n",
              "<svg xmlns=\"http://www.w3.org/2000/svg\" height=\"24px\"viewBox=\"0 0 24 24\"\n",
              "     width=\"24px\">\n",
              "    <g>\n",
              "        <path d=\"M19 3H5c-1.1 0-2 .9-2 2v14c0 1.1.9 2 2 2h14c1.1 0 2-.9 2-2V5c0-1.1-.9-2-2-2zM9 17H7v-7h2v7zm4 0h-2V7h2v10zm4 0h-2v-4h2v4z\"/>\n",
              "    </g>\n",
              "</svg>\n",
              "  </button>\n",
              "\n",
              "<style>\n",
              "  .colab-df-quickchart {\n",
              "      --bg-color: #E8F0FE;\n",
              "      --fill-color: #1967D2;\n",
              "      --hover-bg-color: #E2EBFA;\n",
              "      --hover-fill-color: #174EA6;\n",
              "      --disabled-fill-color: #AAA;\n",
              "      --disabled-bg-color: #DDD;\n",
              "  }\n",
              "\n",
              "  [theme=dark] .colab-df-quickchart {\n",
              "      --bg-color: #3B4455;\n",
              "      --fill-color: #D2E3FC;\n",
              "      --hover-bg-color: #434B5C;\n",
              "      --hover-fill-color: #FFFFFF;\n",
              "      --disabled-bg-color: #3B4455;\n",
              "      --disabled-fill-color: #666;\n",
              "  }\n",
              "\n",
              "  .colab-df-quickchart {\n",
              "    background-color: var(--bg-color);\n",
              "    border: none;\n",
              "    border-radius: 50%;\n",
              "    cursor: pointer;\n",
              "    display: none;\n",
              "    fill: var(--fill-color);\n",
              "    height: 32px;\n",
              "    padding: 0;\n",
              "    width: 32px;\n",
              "  }\n",
              "\n",
              "  .colab-df-quickchart:hover {\n",
              "    background-color: var(--hover-bg-color);\n",
              "    box-shadow: 0 1px 2px rgba(60, 64, 67, 0.3), 0 1px 3px 1px rgba(60, 64, 67, 0.15);\n",
              "    fill: var(--button-hover-fill-color);\n",
              "  }\n",
              "\n",
              "  .colab-df-quickchart-complete:disabled,\n",
              "  .colab-df-quickchart-complete:disabled:hover {\n",
              "    background-color: var(--disabled-bg-color);\n",
              "    fill: var(--disabled-fill-color);\n",
              "    box-shadow: none;\n",
              "  }\n",
              "\n",
              "  .colab-df-spinner {\n",
              "    border: 2px solid var(--fill-color);\n",
              "    border-color: transparent;\n",
              "    border-bottom-color: var(--fill-color);\n",
              "    animation:\n",
              "      spin 1s steps(1) infinite;\n",
              "  }\n",
              "\n",
              "  @keyframes spin {\n",
              "    0% {\n",
              "      border-color: transparent;\n",
              "      border-bottom-color: var(--fill-color);\n",
              "      border-left-color: var(--fill-color);\n",
              "    }\n",
              "    20% {\n",
              "      border-color: transparent;\n",
              "      border-left-color: var(--fill-color);\n",
              "      border-top-color: var(--fill-color);\n",
              "    }\n",
              "    30% {\n",
              "      border-color: transparent;\n",
              "      border-left-color: var(--fill-color);\n",
              "      border-top-color: var(--fill-color);\n",
              "      border-right-color: var(--fill-color);\n",
              "    }\n",
              "    40% {\n",
              "      border-color: transparent;\n",
              "      border-right-color: var(--fill-color);\n",
              "      border-top-color: var(--fill-color);\n",
              "    }\n",
              "    60% {\n",
              "      border-color: transparent;\n",
              "      border-right-color: var(--fill-color);\n",
              "    }\n",
              "    80% {\n",
              "      border-color: transparent;\n",
              "      border-right-color: var(--fill-color);\n",
              "      border-bottom-color: var(--fill-color);\n",
              "    }\n",
              "    90% {\n",
              "      border-color: transparent;\n",
              "      border-bottom-color: var(--fill-color);\n",
              "    }\n",
              "  }\n",
              "</style>\n",
              "\n",
              "  <script>\n",
              "    async function quickchart(key) {\n",
              "      const quickchartButtonEl =\n",
              "        document.querySelector('#' + key + ' button');\n",
              "      quickchartButtonEl.disabled = true;  // To prevent multiple clicks.\n",
              "      quickchartButtonEl.classList.add('colab-df-spinner');\n",
              "      try {\n",
              "        const charts = await google.colab.kernel.invokeFunction(\n",
              "            'suggestCharts', [key], {});\n",
              "      } catch (error) {\n",
              "        console.error('Error during call to suggestCharts:', error);\n",
              "      }\n",
              "      quickchartButtonEl.classList.remove('colab-df-spinner');\n",
              "      quickchartButtonEl.classList.add('colab-df-quickchart-complete');\n",
              "    }\n",
              "    (() => {\n",
              "      let quickchartButtonEl =\n",
              "        document.querySelector('#df-9d8f86d8-70a1-4ecd-a9c5-6f4322d2e9df button');\n",
              "      quickchartButtonEl.style.display =\n",
              "        google.colab.kernel.accessAllowed ? 'block' : 'none';\n",
              "    })();\n",
              "  </script>\n",
              "</div>\n",
              "\n",
              "  <div id=\"id_2aee43ba-9483-4406-a14f-e4d6cf74df4c\">\n",
              "    <style>\n",
              "      .colab-df-generate {\n",
              "        background-color: #E8F0FE;\n",
              "        border: none;\n",
              "        border-radius: 50%;\n",
              "        cursor: pointer;\n",
              "        display: none;\n",
              "        fill: #1967D2;\n",
              "        height: 32px;\n",
              "        padding: 0 0 0 0;\n",
              "        width: 32px;\n",
              "      }\n",
              "\n",
              "      .colab-df-generate:hover {\n",
              "        background-color: #E2EBFA;\n",
              "        box-shadow: 0px 1px 2px rgba(60, 64, 67, 0.3), 0px 1px 3px 1px rgba(60, 64, 67, 0.15);\n",
              "        fill: #174EA6;\n",
              "      }\n",
              "\n",
              "      [theme=dark] .colab-df-generate {\n",
              "        background-color: #3B4455;\n",
              "        fill: #D2E3FC;\n",
              "      }\n",
              "\n",
              "      [theme=dark] .colab-df-generate:hover {\n",
              "        background-color: #434B5C;\n",
              "        box-shadow: 0px 1px 3px 1px rgba(0, 0, 0, 0.15);\n",
              "        filter: drop-shadow(0px 1px 2px rgba(0, 0, 0, 0.3));\n",
              "        fill: #FFFFFF;\n",
              "      }\n",
              "    </style>\n",
              "    <button class=\"colab-df-generate\" onclick=\"generateWithVariable('haberler_DataFrame')\"\n",
              "            title=\"Generate code using this dataframe.\"\n",
              "            style=\"display:none;\">\n",
              "\n",
              "  <svg xmlns=\"http://www.w3.org/2000/svg\" height=\"24px\"viewBox=\"0 0 24 24\"\n",
              "       width=\"24px\">\n",
              "    <path d=\"M7,19H8.4L18.45,9,17,7.55,7,17.6ZM5,21V16.75L18.45,3.32a2,2,0,0,1,2.83,0l1.4,1.43a1.91,1.91,0,0,1,.58,1.4,1.91,1.91,0,0,1-.58,1.4L9.25,21ZM18.45,9,17,7.55Zm-12,3A5.31,5.31,0,0,0,4.9,8.1,5.31,5.31,0,0,0,1,6.5,5.31,5.31,0,0,0,4.9,4.9,5.31,5.31,0,0,0,6.5,1,5.31,5.31,0,0,0,8.1,4.9,5.31,5.31,0,0,0,12,6.5,5.46,5.46,0,0,0,6.5,12Z\"/>\n",
              "  </svg>\n",
              "    </button>\n",
              "    <script>\n",
              "      (() => {\n",
              "      const buttonEl =\n",
              "        document.querySelector('#id_2aee43ba-9483-4406-a14f-e4d6cf74df4c button.colab-df-generate');\n",
              "      buttonEl.style.display =\n",
              "        google.colab.kernel.accessAllowed ? 'block' : 'none';\n",
              "\n",
              "      buttonEl.onclick = () => {\n",
              "        google.colab.notebook.generateWithVariable('haberler_DataFrame');\n",
              "      }\n",
              "      })();\n",
              "    </script>\n",
              "  </div>\n",
              "\n",
              "    </div>\n",
              "  </div>\n"
            ],
            "application/vnd.google.colaboratory.intrinsic+json": {
              "type": "dataframe",
              "variable_name": "haberler_DataFrame",
              "summary": "{\n  \"name\": \"haberler_DataFrame\",\n  \"rows\": 11442,\n  \"fields\": [\n    {\n      \"column\": \"Baslik\",\n      \"properties\": {\n        \"dtype\": \"string\",\n        \"num_unique_values\": 9846,\n        \"samples\": [\n          \"Alt\\u0131nordu \\u00c7a\\u011flar S\\u00f6y\\u00fcnc\\u00fc'n\\u00fcn Leicester City'ye transferinden ne kadar alacak?\",\n          \"Yerry Mina'n\\u0131n Everton'a transferi son a\\u015famaya geldi\",\n          \"Fenerbah\\u00e7eli oyuncu Sarp Akkaya, FutbolArena'ya konu\\u015ftu\"\n        ],\n        \"semantic_type\": \"\",\n        \"description\": \"\"\n      }\n    },\n    {\n      \"column\": \"Ozet\",\n      \"properties\": {\n        \"dtype\": \"string\",\n        \"num_unique_values\": 9860,\n        \"samples\": [\n          \"PSG, UEFA \\u015eampiyonlar Ligi'nde Real Madrid'i 1-0 yendi. PSG-Real Madrid ma\\u00e7 \\u00f6zeti bilgisi haberimizde.\",\n          \"Galatasaray'da ba\\u015far\\u0131l\\u0131 file bek\\u00e7isi \\u0130smail \\u00c7ipe'nin performans\\u0131 2. kaleci transferini ask\\u0131ya ald\\u0131rd\\u0131.\",\n          \"Everton, Sam Allardyce ile yollar\\u0131n ayr\\u0131ld\\u0131\\u011f\\u0131n\\u0131 resmen a\\u00e7\\u0131klad\\u0131. \\u0130ngiliz ekibinde Sam Allardyce d\\u00f6nemi sona erdi.\"\n        ],\n        \"semantic_type\": \"\",\n        \"description\": \"\"\n      }\n    },\n    {\n      \"column\": \"Kategori\",\n      \"properties\": {\n        \"dtype\": \"category\",\n        \"num_unique_values\": 16,\n        \"samples\": [\n          \"Ozel Haber\",\n          \"Transfer Haberleri\",\n          \"Fransa Lig 1\"\n        ],\n        \"semantic_type\": \"\",\n        \"description\": \"\"\n      }\n    },\n    {\n      \"column\": \"Link\",\n      \"properties\": {\n        \"dtype\": \"string\",\n        \"num_unique_values\": 9879,\n        \"samples\": [\n          \"https://www.futbolarena.com/monaco/monaco-lyon-maci-saat-kacta-hangi-kanalda-iddaa-canli-skor-339026h/\",\n          \"https://www.futbolarena.com/fenerbahce/fb-transfer-fenerbahcenin-gozdesi-yerry-mina-evertonda-354192h/\",\n          \"https://www.futbolarena.com/bayern-munih/schalke-bayern-munih-canli-skor-mac-sonucu-mac-hangi-kanalda-328195h/\"\n        ],\n        \"semantic_type\": \"\",\n        \"description\": \"\"\n      }\n    },\n    {\n      \"column\": \"Icerik\",\n      \"properties\": {\n        \"dtype\": \"string\",\n        \"num_unique_values\": 9915,\n        \"samples\": [\n          \"Willian kul\\u00fcp ar\\u0131yor\\n30 Temmuz 2021, Cuma 17:36\\nPAYLA\\u015e\\nArsenal'de g\\u00f6zden \\u00e7\\u0131kar\\u0131lan Willian, Suudi Arabistan'da Al Ahli kul\\u00fcb\\u00fcnden gelen teklifi d\\u00fc\\u015f\\u00fcnmek i\\u00e7in s\\u00fcre istedi. \\nFutbolArena D\\u0131\\u015f Haberler - Arsenal'de Willian g\\u00f6zden \\u00e7\\u0131kar\\u0131ld\\u0131. \\u0130ngiliz ekibinde yeni sezonda kadroda d\\u00fc\\u015f\\u00fcn\\u00fclmeyen Willian, menajerine kul\\u00fcp bulmas\\u0131 i\\u00e7in talimat verdi. \\n\\n\\u00d6te yandan Willian'a gelen ilk teklifin Suudi Arabistan'dan oldu\\u011fu \\u00f6\\u011frenildi. Al Ahli kul\\u00fcb\\u00fc y\\u0131ld\\u0131z futbolcuya 2025 y\\u0131l\\u0131na kadar s\\u00f6zle\\u015fme teklif etti. Willian ise d\\u00fc\\u015f\\u00fcnmek i\\u00e7in s\\u00fcre isterken, oyuncu ayn\\u0131 zamanda Avrupa'dan gelen teklifleri de de\\u011ferlendirmek istiyor. \\nWillian ge\\u00e7ti\\u011fimiz sezon Arsenal formas\\u0131yla ligde oynad\\u0131\\u011f\\u0131 25 ma\\u00e7ta 1 gol att\\u0131 ve 5 asist yapt\\u0131. \\n\\nTransfer Haberleri FutbolArena'da!\\n\\nARKADA\\u015eINI GET\\u0130R 50 TL B\\u0130LYONPUAN AL!\\nArsenal\\nWillian\\nUEFA Ba\\u015fkan\\u0131 Ceferin: \\\"Suudi Arabistan beni korkutmuyor\\\"\",\n          \"Real Madrid\\nFutbol Haberleri\\nLa Liga\\nReal Madrid\\nReal Madrid\\u2019in Mbappe i\\u00e7in \\u00e7\\u0131lg\\u0131n teklifi aylar sonra ortaya \\u00e7\\u0131kt\\u0131\\nReal Madrid'in Mbappe i\\u00e7in \\u00e7\\u0131lg\\u0131n teklifi aylar sonra ortaya \\u00e7\\u0131kt\\u0131\\n07 Kas\\u0131m 2018, \\u00c7ar\\u015famba 19:29\\nPAYLA\\u015e\\n00:00 / 00:00\\nReal Madrid'in PSG'den sonra Monaco'ya yapt\\u0131\\u011f\\u0131 Mbappe teklifi aylar sonra Football Leaks belgeleriyle ortaya \\u00e7\\u0131kt\\u0131.\\nFutbolArena D\\u0131\\u015f Haberler - Football Leaks belgeleri Avrupa futbolunu sallamaya devam ediyor. Son olarak Real Madrid'in Kylian Mbappe i\\u00e7in Monaco ile yapt\\u0131\\u011f\\u0131 \\u00e7\\u0131lg\\u0131n transfer pazarl\\u0131\\u011f\\u0131 g\\u00fcny\\u00fcz\\u00fcne \\u00e7\\u0131kt\\u0131.\\n Mbappe, Real Madrid'e neden transfer olmad\\u0131?\\n\\n180 milyon Euro bonservis bedeliyle ge\\u00e7en sezon Monaco'dan Paris Saint Germain'e transfer olan Mbappe, Real Madrid'in de kap\\u0131s\\u0131ndan d\\u00f6nd\\u00fc.\\n\\nFransa bas\\u0131n\\u0131ndan Mediapart sitesinin haberine g\\u00f6re Monaco'nun teklifinden sonra devreye giren Real Madrid, Kylian Mbappe i\\u00e7in vergilerle beraber tam 214 milyon Euro \\u00f6nerdi. Ancak Monaco'nun 34 milyon Euro'luk vergiden \\u00e7ekinmesi ve Mbappe'nin PSG'ye s\\u0131cak bakmas\\u0131ndan dolay\\u0131 Real Madrid'in t\\u00fcm \\u00e7abalar\\u0131na ra\\u011fmen bu transfer yatt\\u0131.\\n\\nDaha y\\u00fcksek bir teklif sunmas\\u0131n\\u0131n yan\\u0131 s\\u0131ra Kylian Mbappe'yi PSG'ye kapt\\u0131ran Real Madrid, bu geli\\u015fmeden sonra farkl\\u0131 alternatiflere y\\u00f6neldi.\\n\\nMBAPPE PSG'DE CO\\u015eTU\\n\\n2018 D\\u00fcnya Kupas\\u0131'nda 7 ma\\u00e7ta 4 gol kaydeden Mbappe, bu sezon PSG formas\\u0131yla 15 ma\\u00e7ta 14 gol att\\u0131. 19 ya\\u015f\\u0131nda muhte\\u015fem performaslar ortaya koyan Mbappe, bu futboluyla Real Madrid yetkililerini de \\u00fczm\\u00fc\\u015fe benziyor. Football Leaks belgelerinde ortaya \\u00e7\\u0131kacak ba\\u015fka ger\\u00e7ekler futbol kamuoyunda merakla bekleniyor.\\n\\nSon dakika D\\u00fcnyadan Futbol Haberleri FutbolArena'da!\\n\\nARKADA\\u015eINI GET\\u0130R 50 TL B\\u0130LYONPUAN AL!\\nPSG\\nReal Madrid\\nKylian Mbappe\\nParis Saint Germain\\nReal Madrid\\nReal Madrid 3-1 Barcelona ma\\u00e7 \\u00f6zeti ve golleri (\\u0130ZLE)\\nAvrupa\\u2019dan Futbol Haberleri (27 Nisan 2020)\",\n          \"Galatasaray\\nFutbol Haberleri\\nS\\u00fcper Lig\\nGalatasaray\\nGalatasaray\\u2019da Fatih Terim ile Belhanda aras\\u0131nda transfer zirvesi\\nGalatasaray'da Fatih Terim ile Belhanda aras\\u0131nda transfer zirvesi\\n15 Ocak 2019, Sal\\u0131 18:32\\nPAYLA\\u015e\\n00:00 / 00:00\\nGalatasaray teknik direkt\\u00f6r\\u00fc Fatih Terim, Al Ittihad tak\\u0131m\\u0131na transferi g\\u00fcndemde olan Younes Belhanda ile g\\u00f6r\\u00fc\\u015fecek.\\nFutbolArena \\u00d6zel - Belhanda - Al Ittihad transferinde s\\u0131cak geli\\u015fmeler ya\\u015fan\\u0131yor. Galatasaray'da teknik direkt\\u00f6r Fatih Terim, oyuncusu Younes Belhanda ile son kez g\\u00f6r\\u00fc\\u015f\\u00fcp durumunu masaya yat\\u0131raca\\u011f\\u0131 \\u00f6\\u011frenildi.\\n Galatasaray Belhanda'y\\u0131 satacak m\\u0131?\\n\\nTecr\\u00fcbeli teknik adam Belhanda ile transferi hakk\\u0131nda konu\\u015fup kalmas\\u0131n\\u0131 isteyecek. Belhanda, 'gitme' d\\u00fc\\u015f\\u00fcncesinden vazge\\u00e7erse sezon sonuna kadar Galatasaray'da kalacak. Ancak Belhanda'n\\u0131n, 'gitmek istiyorum' \\u00e7\\u0131k\\u0131\\u015f\\u0131n\\u0131 k\\u0131saca ayr\\u0131l\\u0131k ad\\u0131na bu tavr\\u0131n\\u0131 s\\u00fcrd\\u00fcrmesi halinde 'Gitmek isteyen oyuncuyu tak\\u0131mda tutman\\u0131n bir faydas\\u0131 olmaz. Katk\\u0131 sa\\u011flamaz' d\\u00fc\\u015f\\u00fcncesinde olan Fatih Terim, Fasl\\u0131 oyuncu karar\\u0131ndan d\\u00f6nmezse bu transfere izin verecek.\\n Belhanda kimdir, ka\\u00e7 ya\\u015f\\u0131nda? Belhanda transfermarkt\\n\\nKariyerine Montpellier altyap\\u0131s\\u0131nda ba\\u015flayan Belhanda, s\\u0131ras\\u0131yla Dinamo Kiev, Schalke, Nice ve Galatasaray formalar\\u0131 giydi. Sar\\u0131 k\\u0131rm\\u0131z\\u0131l\\u0131 kul\\u00fcple 2021 y\\u0131l\\u0131na kadar s\\u00f6zle\\u015fmesi bulunan Belhanda, bu sezon 15 resmi ma\\u00e7ta forma giydi ve 5 asist yapt\\u0131.\\n\\nSar\\u0131 K\\u0131rm\\u0131z\\u0131l\\u0131 tak\\u0131mla ilgili t\\u00fcm geli\\u015fmelere Galatasaray Haberleri sayfas\\u0131ndan ula\\u015fabilirsiniz. \\n\\nARKADA\\u015eINI GET\\u0130R 50 TL B\\u0130LYONPUAN AL!\\nAl Ittihad\\nGalatasaray\\nFatih Terim\\nYounes Belhanda\\nGalatasaray\\nErden Timur: \\\"Her \\u015fey a\\u00e7\\u0131klans\\u0131n\\\"\"\n        ],\n        \"semantic_type\": \"\",\n        \"description\": \"\"\n      }\n    }\n  ]\n}"
            }
          },
          "metadata": {},
          "execution_count": 14
        }
      ]
    },
    {
      "cell_type": "code",
      "source": [
        "yol = \"Tum-Veri-Seti-Spor-Yeni-Nisan2024-10.csv\""
      ],
      "metadata": {
        "id": "2qPgSEFjzFAb"
      },
      "execution_count": null,
      "outputs": []
    },
    {
      "cell_type": "code",
      "source": [
        "haberler_DataFrame.to_csv(yol)"
      ],
      "metadata": {
        "id": "iohi6LI7zK71"
      },
      "execution_count": null,
      "outputs": []
    },
    {
      "cell_type": "code",
      "source": [
        "tum_haber = pd.read_csv(yol)"
      ],
      "metadata": {
        "id": "8wf1CKRZzMsQ"
      },
      "execution_count": null,
      "outputs": []
    },
    {
      "cell_type": "code",
      "source": [
        "tum_haber"
      ],
      "metadata": {
        "id": "-T_WxU-UzOYN",
        "outputId": "ad875212-c21d-4c01-e2e2-c970a3494880",
        "colab": {
          "base_uri": "https://localhost:8080/",
          "height": 615
        }
      },
      "execution_count": null,
      "outputs": [
        {
          "output_type": "execute_result",
          "data": {
            "text/plain": [
              "       Unnamed: 0                                             Baslik  \\\n",
              "0               0  \"Trabzonspor'un cezası CAS'tan dönebilir\" Emin...   \n",
              "1               1  Cenk Tosun FutbolArena'ya konuştu: 'Beşiktaş v...   \n",
              "2               2  Acun Ilıcalı mı satın alıyor? Başkan FutbolAre...   \n",
              "3               3  Galatasaray Caner Erkin için beklemede! Kritik...   \n",
              "4               4  Kayserispor cephesi: \"Bu ortamda ligler nasıl ...   \n",
              "...           ...                                                ...   \n",
              "11437       11437            İlkay Gündoğan Sterling'e elini öptürdü   \n",
              "11438       11438  Tottenham 1-3 Manchester City maç özeti ve gol...   \n",
              "11439       11439            Wolverhampton Wanderers, Premier Lig'de   \n",
              "11440       11440  Muhammed Salah, İngiltere Premier Lig rekorunu...   \n",
              "11441       11441      Tottenham-Manchester City canlı şifresiz izle   \n",
              "\n",
              "                                                    Ozet     Kategori  \\\n",
              "0      Spor Hukukçusu Avukat Emin Özkurt, Trabzonspor...   Ozel Haber   \n",
              "1      Cenk Tosun Premier Lig'de Türkiye'nin en öneml...   Ozel Haber   \n",
              "2      Fortuna Sittard Başkanı Işıtan Gün, Acun Ilıca...   Ozel Haber   \n",
              "3      Galatasaray, Caner Erkin için beklemede. Beşik...   Ozel Haber   \n",
              "4      Kayserispor yönetimi liglerin yeniden oynanma ...   Ozel Haber   \n",
              "...                                                  ...          ...   \n",
              "11437  Manchester City'nin Türk asıllı Alman yıldızı ...  Premier Lig   \n",
              "11438  Manchester City, Tottenham'ı 3-1 mağlup etti. ...  Premier Lig   \n",
              "11439  Wolverhampton Wanderers 2011-2012 sezonunda kü...  Premier Lig   \n",
              "11440  İngiltere Premier Lig'de Liverpool, sahasında ...  Premier Lig   \n",
              "11441  Tottenham-Manchester City karşı karşıya geliyo...  Premier Lig   \n",
              "\n",
              "                                                    Link  \\\n",
              "0      https://www.futbolarena.com/trabzonspor/trabzo...   \n",
              "1      https://www.futbolarena.com/besiktas/cenk-tosu...   \n",
              "2      https://www.futbolarena.com/acun-ilicali-mi-sa...   \n",
              "3      https://www.futbolarena.com/besiktas/galatasar...   \n",
              "4      https://www.futbolarena.com/kayserispor/kayser...   \n",
              "...                                                  ...   \n",
              "11437  https://www.futbolarena.com/manchester-city/il...   \n",
              "11438  https://www.futbolarena.com/tottenham/tottenha...   \n",
              "11439  https://www.futbolarena.com/wolverhampton-wand...   \n",
              "11440  https://www.futbolarena.com/liverpool/muhammed...   \n",
              "11441  https://www.futbolarena.com/tottenham/tottenha...   \n",
              "\n",
              "                                                  Icerik  \n",
              "0      Trabzonspor\\nFutbol Haberleri\\nSüper Lig\\nTrab...  \n",
              "1      Beşiktaş\\nFutbol Haberleri\\nSüper Lig\\nBeşikta...  \n",
              "2      Acun Ilıcalı mı satın alıyor? Başkan FutbolAre...  \n",
              "3      Beşiktaş\\nFutbol Haberleri\\nSüper Lig\\nBeşikta...  \n",
              "4      Kayserispor\\nFutbol Haberleri\\nSüper Lig\\nKays...  \n",
              "...                                                  ...  \n",
              "11437  Manchester City\\nFutbol Haberleri\\nPremier Lig...  \n",
              "11438  Tottenham\\nFutbol Haberleri\\nPremier Lig\\nTott...  \n",
              "11439  Wolverhampton Wanderers, Premier Lig'de\\n14 Ni...  \n",
              "11440  Liverpool\\nFutbol Haberleri\\nPremier Lig\\nLive...  \n",
              "11441  Tottenham\\nFutbol Haberleri\\nPremier Lig\\nTott...  \n",
              "\n",
              "[11442 rows x 6 columns]"
            ],
            "text/html": [
              "\n",
              "  <div id=\"df-f3d82d76-dfd3-42de-a38e-3e375b1d03be\" class=\"colab-df-container\">\n",
              "    <div>\n",
              "<style scoped>\n",
              "    .dataframe tbody tr th:only-of-type {\n",
              "        vertical-align: middle;\n",
              "    }\n",
              "\n",
              "    .dataframe tbody tr th {\n",
              "        vertical-align: top;\n",
              "    }\n",
              "\n",
              "    .dataframe thead th {\n",
              "        text-align: right;\n",
              "    }\n",
              "</style>\n",
              "<table border=\"1\" class=\"dataframe\">\n",
              "  <thead>\n",
              "    <tr style=\"text-align: right;\">\n",
              "      <th></th>\n",
              "      <th>Unnamed: 0</th>\n",
              "      <th>Baslik</th>\n",
              "      <th>Ozet</th>\n",
              "      <th>Kategori</th>\n",
              "      <th>Link</th>\n",
              "      <th>Icerik</th>\n",
              "    </tr>\n",
              "  </thead>\n",
              "  <tbody>\n",
              "    <tr>\n",
              "      <th>0</th>\n",
              "      <td>0</td>\n",
              "      <td>\"Trabzonspor'un cezası CAS'tan dönebilir\" Emin...</td>\n",
              "      <td>Spor Hukukçusu Avukat Emin Özkurt, Trabzonspor...</td>\n",
              "      <td>Ozel Haber</td>\n",
              "      <td>https://www.futbolarena.com/trabzonspor/trabzo...</td>\n",
              "      <td>Trabzonspor\\nFutbol Haberleri\\nSüper Lig\\nTrab...</td>\n",
              "    </tr>\n",
              "    <tr>\n",
              "      <th>1</th>\n",
              "      <td>1</td>\n",
              "      <td>Cenk Tosun FutbolArena'ya konuştu: 'Beşiktaş v...</td>\n",
              "      <td>Cenk Tosun Premier Lig'de Türkiye'nin en öneml...</td>\n",
              "      <td>Ozel Haber</td>\n",
              "      <td>https://www.futbolarena.com/besiktas/cenk-tosu...</td>\n",
              "      <td>Beşiktaş\\nFutbol Haberleri\\nSüper Lig\\nBeşikta...</td>\n",
              "    </tr>\n",
              "    <tr>\n",
              "      <th>2</th>\n",
              "      <td>2</td>\n",
              "      <td>Acun Ilıcalı mı satın alıyor? Başkan FutbolAre...</td>\n",
              "      <td>Fortuna Sittard Başkanı Işıtan Gün, Acun Ilıca...</td>\n",
              "      <td>Ozel Haber</td>\n",
              "      <td>https://www.futbolarena.com/acun-ilicali-mi-sa...</td>\n",
              "      <td>Acun Ilıcalı mı satın alıyor? Başkan FutbolAre...</td>\n",
              "    </tr>\n",
              "    <tr>\n",
              "      <th>3</th>\n",
              "      <td>3</td>\n",
              "      <td>Galatasaray Caner Erkin için beklemede! Kritik...</td>\n",
              "      <td>Galatasaray, Caner Erkin için beklemede. Beşik...</td>\n",
              "      <td>Ozel Haber</td>\n",
              "      <td>https://www.futbolarena.com/besiktas/galatasar...</td>\n",
              "      <td>Beşiktaş\\nFutbol Haberleri\\nSüper Lig\\nBeşikta...</td>\n",
              "    </tr>\n",
              "    <tr>\n",
              "      <th>4</th>\n",
              "      <td>4</td>\n",
              "      <td>Kayserispor cephesi: \"Bu ortamda ligler nasıl ...</td>\n",
              "      <td>Kayserispor yönetimi liglerin yeniden oynanma ...</td>\n",
              "      <td>Ozel Haber</td>\n",
              "      <td>https://www.futbolarena.com/kayserispor/kayser...</td>\n",
              "      <td>Kayserispor\\nFutbol Haberleri\\nSüper Lig\\nKays...</td>\n",
              "    </tr>\n",
              "    <tr>\n",
              "      <th>...</th>\n",
              "      <td>...</td>\n",
              "      <td>...</td>\n",
              "      <td>...</td>\n",
              "      <td>...</td>\n",
              "      <td>...</td>\n",
              "      <td>...</td>\n",
              "    </tr>\n",
              "    <tr>\n",
              "      <th>11437</th>\n",
              "      <td>11437</td>\n",
              "      <td>İlkay Gündoğan Sterling'e elini öptürdü</td>\n",
              "      <td>Manchester City'nin Türk asıllı Alman yıldızı ...</td>\n",
              "      <td>Premier Lig</td>\n",
              "      <td>https://www.futbolarena.com/manchester-city/il...</td>\n",
              "      <td>Manchester City\\nFutbol Haberleri\\nPremier Lig...</td>\n",
              "    </tr>\n",
              "    <tr>\n",
              "      <th>11438</th>\n",
              "      <td>11438</td>\n",
              "      <td>Tottenham 1-3 Manchester City maç özeti ve gol...</td>\n",
              "      <td>Manchester City, Tottenham'ı 3-1 mağlup etti. ...</td>\n",
              "      <td>Premier Lig</td>\n",
              "      <td>https://www.futbolarena.com/tottenham/tottenha...</td>\n",
              "      <td>Tottenham\\nFutbol Haberleri\\nPremier Lig\\nTott...</td>\n",
              "    </tr>\n",
              "    <tr>\n",
              "      <th>11439</th>\n",
              "      <td>11439</td>\n",
              "      <td>Wolverhampton Wanderers, Premier Lig'de</td>\n",
              "      <td>Wolverhampton Wanderers 2011-2012 sezonunda kü...</td>\n",
              "      <td>Premier Lig</td>\n",
              "      <td>https://www.futbolarena.com/wolverhampton-wand...</td>\n",
              "      <td>Wolverhampton Wanderers, Premier Lig'de\\n14 Ni...</td>\n",
              "    </tr>\n",
              "    <tr>\n",
              "      <th>11440</th>\n",
              "      <td>11440</td>\n",
              "      <td>Muhammed Salah, İngiltere Premier Lig rekorunu...</td>\n",
              "      <td>İngiltere Premier Lig'de Liverpool, sahasında ...</td>\n",
              "      <td>Premier Lig</td>\n",
              "      <td>https://www.futbolarena.com/liverpool/muhammed...</td>\n",
              "      <td>Liverpool\\nFutbol Haberleri\\nPremier Lig\\nLive...</td>\n",
              "    </tr>\n",
              "    <tr>\n",
              "      <th>11441</th>\n",
              "      <td>11441</td>\n",
              "      <td>Tottenham-Manchester City canlı şifresiz izle</td>\n",
              "      <td>Tottenham-Manchester City karşı karşıya geliyo...</td>\n",
              "      <td>Premier Lig</td>\n",
              "      <td>https://www.futbolarena.com/tottenham/tottenha...</td>\n",
              "      <td>Tottenham\\nFutbol Haberleri\\nPremier Lig\\nTott...</td>\n",
              "    </tr>\n",
              "  </tbody>\n",
              "</table>\n",
              "<p>11442 rows × 6 columns</p>\n",
              "</div>\n",
              "    <div class=\"colab-df-buttons\">\n",
              "\n",
              "  <div class=\"colab-df-container\">\n",
              "    <button class=\"colab-df-convert\" onclick=\"convertToInteractive('df-f3d82d76-dfd3-42de-a38e-3e375b1d03be')\"\n",
              "            title=\"Convert this dataframe to an interactive table.\"\n",
              "            style=\"display:none;\">\n",
              "\n",
              "  <svg xmlns=\"http://www.w3.org/2000/svg\" height=\"24px\" viewBox=\"0 -960 960 960\">\n",
              "    <path d=\"M120-120v-720h720v720H120Zm60-500h600v-160H180v160Zm220 220h160v-160H400v160Zm0 220h160v-160H400v160ZM180-400h160v-160H180v160Zm440 0h160v-160H620v160ZM180-180h160v-160H180v160Zm440 0h160v-160H620v160Z\"/>\n",
              "  </svg>\n",
              "    </button>\n",
              "\n",
              "  <style>\n",
              "    .colab-df-container {\n",
              "      display:flex;\n",
              "      gap: 12px;\n",
              "    }\n",
              "\n",
              "    .colab-df-convert {\n",
              "      background-color: #E8F0FE;\n",
              "      border: none;\n",
              "      border-radius: 50%;\n",
              "      cursor: pointer;\n",
              "      display: none;\n",
              "      fill: #1967D2;\n",
              "      height: 32px;\n",
              "      padding: 0 0 0 0;\n",
              "      width: 32px;\n",
              "    }\n",
              "\n",
              "    .colab-df-convert:hover {\n",
              "      background-color: #E2EBFA;\n",
              "      box-shadow: 0px 1px 2px rgba(60, 64, 67, 0.3), 0px 1px 3px 1px rgba(60, 64, 67, 0.15);\n",
              "      fill: #174EA6;\n",
              "    }\n",
              "\n",
              "    .colab-df-buttons div {\n",
              "      margin-bottom: 4px;\n",
              "    }\n",
              "\n",
              "    [theme=dark] .colab-df-convert {\n",
              "      background-color: #3B4455;\n",
              "      fill: #D2E3FC;\n",
              "    }\n",
              "\n",
              "    [theme=dark] .colab-df-convert:hover {\n",
              "      background-color: #434B5C;\n",
              "      box-shadow: 0px 1px 3px 1px rgba(0, 0, 0, 0.15);\n",
              "      filter: drop-shadow(0px 1px 2px rgba(0, 0, 0, 0.3));\n",
              "      fill: #FFFFFF;\n",
              "    }\n",
              "  </style>\n",
              "\n",
              "    <script>\n",
              "      const buttonEl =\n",
              "        document.querySelector('#df-f3d82d76-dfd3-42de-a38e-3e375b1d03be button.colab-df-convert');\n",
              "      buttonEl.style.display =\n",
              "        google.colab.kernel.accessAllowed ? 'block' : 'none';\n",
              "\n",
              "      async function convertToInteractive(key) {\n",
              "        const element = document.querySelector('#df-f3d82d76-dfd3-42de-a38e-3e375b1d03be');\n",
              "        const dataTable =\n",
              "          await google.colab.kernel.invokeFunction('convertToInteractive',\n",
              "                                                    [key], {});\n",
              "        if (!dataTable) return;\n",
              "\n",
              "        const docLinkHtml = 'Like what you see? Visit the ' +\n",
              "          '<a target=\"_blank\" href=https://colab.research.google.com/notebooks/data_table.ipynb>data table notebook</a>'\n",
              "          + ' to learn more about interactive tables.';\n",
              "        element.innerHTML = '';\n",
              "        dataTable['output_type'] = 'display_data';\n",
              "        await google.colab.output.renderOutput(dataTable, element);\n",
              "        const docLink = document.createElement('div');\n",
              "        docLink.innerHTML = docLinkHtml;\n",
              "        element.appendChild(docLink);\n",
              "      }\n",
              "    </script>\n",
              "  </div>\n",
              "\n",
              "\n",
              "<div id=\"df-e813b49f-25a7-4de9-861e-3b07311ef0e8\">\n",
              "  <button class=\"colab-df-quickchart\" onclick=\"quickchart('df-e813b49f-25a7-4de9-861e-3b07311ef0e8')\"\n",
              "            title=\"Suggest charts\"\n",
              "            style=\"display:none;\">\n",
              "\n",
              "<svg xmlns=\"http://www.w3.org/2000/svg\" height=\"24px\"viewBox=\"0 0 24 24\"\n",
              "     width=\"24px\">\n",
              "    <g>\n",
              "        <path d=\"M19 3H5c-1.1 0-2 .9-2 2v14c0 1.1.9 2 2 2h14c1.1 0 2-.9 2-2V5c0-1.1-.9-2-2-2zM9 17H7v-7h2v7zm4 0h-2V7h2v10zm4 0h-2v-4h2v4z\"/>\n",
              "    </g>\n",
              "</svg>\n",
              "  </button>\n",
              "\n",
              "<style>\n",
              "  .colab-df-quickchart {\n",
              "      --bg-color: #E8F0FE;\n",
              "      --fill-color: #1967D2;\n",
              "      --hover-bg-color: #E2EBFA;\n",
              "      --hover-fill-color: #174EA6;\n",
              "      --disabled-fill-color: #AAA;\n",
              "      --disabled-bg-color: #DDD;\n",
              "  }\n",
              "\n",
              "  [theme=dark] .colab-df-quickchart {\n",
              "      --bg-color: #3B4455;\n",
              "      --fill-color: #D2E3FC;\n",
              "      --hover-bg-color: #434B5C;\n",
              "      --hover-fill-color: #FFFFFF;\n",
              "      --disabled-bg-color: #3B4455;\n",
              "      --disabled-fill-color: #666;\n",
              "  }\n",
              "\n",
              "  .colab-df-quickchart {\n",
              "    background-color: var(--bg-color);\n",
              "    border: none;\n",
              "    border-radius: 50%;\n",
              "    cursor: pointer;\n",
              "    display: none;\n",
              "    fill: var(--fill-color);\n",
              "    height: 32px;\n",
              "    padding: 0;\n",
              "    width: 32px;\n",
              "  }\n",
              "\n",
              "  .colab-df-quickchart:hover {\n",
              "    background-color: var(--hover-bg-color);\n",
              "    box-shadow: 0 1px 2px rgba(60, 64, 67, 0.3), 0 1px 3px 1px rgba(60, 64, 67, 0.15);\n",
              "    fill: var(--button-hover-fill-color);\n",
              "  }\n",
              "\n",
              "  .colab-df-quickchart-complete:disabled,\n",
              "  .colab-df-quickchart-complete:disabled:hover {\n",
              "    background-color: var(--disabled-bg-color);\n",
              "    fill: var(--disabled-fill-color);\n",
              "    box-shadow: none;\n",
              "  }\n",
              "\n",
              "  .colab-df-spinner {\n",
              "    border: 2px solid var(--fill-color);\n",
              "    border-color: transparent;\n",
              "    border-bottom-color: var(--fill-color);\n",
              "    animation:\n",
              "      spin 1s steps(1) infinite;\n",
              "  }\n",
              "\n",
              "  @keyframes spin {\n",
              "    0% {\n",
              "      border-color: transparent;\n",
              "      border-bottom-color: var(--fill-color);\n",
              "      border-left-color: var(--fill-color);\n",
              "    }\n",
              "    20% {\n",
              "      border-color: transparent;\n",
              "      border-left-color: var(--fill-color);\n",
              "      border-top-color: var(--fill-color);\n",
              "    }\n",
              "    30% {\n",
              "      border-color: transparent;\n",
              "      border-left-color: var(--fill-color);\n",
              "      border-top-color: var(--fill-color);\n",
              "      border-right-color: var(--fill-color);\n",
              "    }\n",
              "    40% {\n",
              "      border-color: transparent;\n",
              "      border-right-color: var(--fill-color);\n",
              "      border-top-color: var(--fill-color);\n",
              "    }\n",
              "    60% {\n",
              "      border-color: transparent;\n",
              "      border-right-color: var(--fill-color);\n",
              "    }\n",
              "    80% {\n",
              "      border-color: transparent;\n",
              "      border-right-color: var(--fill-color);\n",
              "      border-bottom-color: var(--fill-color);\n",
              "    }\n",
              "    90% {\n",
              "      border-color: transparent;\n",
              "      border-bottom-color: var(--fill-color);\n",
              "    }\n",
              "  }\n",
              "</style>\n",
              "\n",
              "  <script>\n",
              "    async function quickchart(key) {\n",
              "      const quickchartButtonEl =\n",
              "        document.querySelector('#' + key + ' button');\n",
              "      quickchartButtonEl.disabled = true;  // To prevent multiple clicks.\n",
              "      quickchartButtonEl.classList.add('colab-df-spinner');\n",
              "      try {\n",
              "        const charts = await google.colab.kernel.invokeFunction(\n",
              "            'suggestCharts', [key], {});\n",
              "      } catch (error) {\n",
              "        console.error('Error during call to suggestCharts:', error);\n",
              "      }\n",
              "      quickchartButtonEl.classList.remove('colab-df-spinner');\n",
              "      quickchartButtonEl.classList.add('colab-df-quickchart-complete');\n",
              "    }\n",
              "    (() => {\n",
              "      let quickchartButtonEl =\n",
              "        document.querySelector('#df-e813b49f-25a7-4de9-861e-3b07311ef0e8 button');\n",
              "      quickchartButtonEl.style.display =\n",
              "        google.colab.kernel.accessAllowed ? 'block' : 'none';\n",
              "    })();\n",
              "  </script>\n",
              "</div>\n",
              "\n",
              "  <div id=\"id_6d2ba162-f6eb-46de-8e39-1e4725fe976a\">\n",
              "    <style>\n",
              "      .colab-df-generate {\n",
              "        background-color: #E8F0FE;\n",
              "        border: none;\n",
              "        border-radius: 50%;\n",
              "        cursor: pointer;\n",
              "        display: none;\n",
              "        fill: #1967D2;\n",
              "        height: 32px;\n",
              "        padding: 0 0 0 0;\n",
              "        width: 32px;\n",
              "      }\n",
              "\n",
              "      .colab-df-generate:hover {\n",
              "        background-color: #E2EBFA;\n",
              "        box-shadow: 0px 1px 2px rgba(60, 64, 67, 0.3), 0px 1px 3px 1px rgba(60, 64, 67, 0.15);\n",
              "        fill: #174EA6;\n",
              "      }\n",
              "\n",
              "      [theme=dark] .colab-df-generate {\n",
              "        background-color: #3B4455;\n",
              "        fill: #D2E3FC;\n",
              "      }\n",
              "\n",
              "      [theme=dark] .colab-df-generate:hover {\n",
              "        background-color: #434B5C;\n",
              "        box-shadow: 0px 1px 3px 1px rgba(0, 0, 0, 0.15);\n",
              "        filter: drop-shadow(0px 1px 2px rgba(0, 0, 0, 0.3));\n",
              "        fill: #FFFFFF;\n",
              "      }\n",
              "    </style>\n",
              "    <button class=\"colab-df-generate\" onclick=\"generateWithVariable('tum_haber')\"\n",
              "            title=\"Generate code using this dataframe.\"\n",
              "            style=\"display:none;\">\n",
              "\n",
              "  <svg xmlns=\"http://www.w3.org/2000/svg\" height=\"24px\"viewBox=\"0 0 24 24\"\n",
              "       width=\"24px\">\n",
              "    <path d=\"M7,19H8.4L18.45,9,17,7.55,7,17.6ZM5,21V16.75L18.45,3.32a2,2,0,0,1,2.83,0l1.4,1.43a1.91,1.91,0,0,1,.58,1.4,1.91,1.91,0,0,1-.58,1.4L9.25,21ZM18.45,9,17,7.55Zm-12,3A5.31,5.31,0,0,0,4.9,8.1,5.31,5.31,0,0,0,1,6.5,5.31,5.31,0,0,0,4.9,4.9,5.31,5.31,0,0,0,6.5,1,5.31,5.31,0,0,0,8.1,4.9,5.31,5.31,0,0,0,12,6.5,5.46,5.46,0,0,0,6.5,12Z\"/>\n",
              "  </svg>\n",
              "    </button>\n",
              "    <script>\n",
              "      (() => {\n",
              "      const buttonEl =\n",
              "        document.querySelector('#id_6d2ba162-f6eb-46de-8e39-1e4725fe976a button.colab-df-generate');\n",
              "      buttonEl.style.display =\n",
              "        google.colab.kernel.accessAllowed ? 'block' : 'none';\n",
              "\n",
              "      buttonEl.onclick = () => {\n",
              "        google.colab.notebook.generateWithVariable('tum_haber');\n",
              "      }\n",
              "      })();\n",
              "    </script>\n",
              "  </div>\n",
              "\n",
              "    </div>\n",
              "  </div>\n"
            ],
            "application/vnd.google.colaboratory.intrinsic+json": {
              "type": "dataframe",
              "variable_name": "tum_haber",
              "summary": "{\n  \"name\": \"tum_haber\",\n  \"rows\": 11442,\n  \"fields\": [\n    {\n      \"column\": \"Unnamed: 0\",\n      \"properties\": {\n        \"dtype\": \"number\",\n        \"std\": 3303,\n        \"min\": 0,\n        \"max\": 11441,\n        \"num_unique_values\": 11442,\n        \"samples\": [\n          7847,\n          5773,\n          4894\n        ],\n        \"semantic_type\": \"\",\n        \"description\": \"\"\n      }\n    },\n    {\n      \"column\": \"Baslik\",\n      \"properties\": {\n        \"dtype\": \"string\",\n        \"num_unique_values\": 9846,\n        \"samples\": [\n          \"Alt\\u0131nordu \\u00c7a\\u011flar S\\u00f6y\\u00fcnc\\u00fc'n\\u00fcn Leicester City'ye transferinden ne kadar alacak?\",\n          \"Yerry Mina'n\\u0131n Everton'a transferi son a\\u015famaya geldi\",\n          \"Fenerbah\\u00e7eli oyuncu Sarp Akkaya, FutbolArena'ya konu\\u015ftu\"\n        ],\n        \"semantic_type\": \"\",\n        \"description\": \"\"\n      }\n    },\n    {\n      \"column\": \"Ozet\",\n      \"properties\": {\n        \"dtype\": \"string\",\n        \"num_unique_values\": 9860,\n        \"samples\": [\n          \"PSG, UEFA \\u015eampiyonlar Ligi'nde Real Madrid'i 1-0 yendi. PSG-Real Madrid ma\\u00e7 \\u00f6zeti bilgisi haberimizde.\",\n          \"Galatasaray'da ba\\u015far\\u0131l\\u0131 file bek\\u00e7isi \\u0130smail \\u00c7ipe'nin performans\\u0131 2. kaleci transferini ask\\u0131ya ald\\u0131rd\\u0131.\",\n          \"Everton, Sam Allardyce ile yollar\\u0131n ayr\\u0131ld\\u0131\\u011f\\u0131n\\u0131 resmen a\\u00e7\\u0131klad\\u0131. \\u0130ngiliz ekibinde Sam Allardyce d\\u00f6nemi sona erdi.\"\n        ],\n        \"semantic_type\": \"\",\n        \"description\": \"\"\n      }\n    },\n    {\n      \"column\": \"Kategori\",\n      \"properties\": {\n        \"dtype\": \"category\",\n        \"num_unique_values\": 16,\n        \"samples\": [\n          \"Ozel Haber\",\n          \"Transfer Haberleri\",\n          \"Fransa Lig 1\"\n        ],\n        \"semantic_type\": \"\",\n        \"description\": \"\"\n      }\n    },\n    {\n      \"column\": \"Link\",\n      \"properties\": {\n        \"dtype\": \"string\",\n        \"num_unique_values\": 9879,\n        \"samples\": [\n          \"https://www.futbolarena.com/monaco/monaco-lyon-maci-saat-kacta-hangi-kanalda-iddaa-canli-skor-339026h/\",\n          \"https://www.futbolarena.com/fenerbahce/fb-transfer-fenerbahcenin-gozdesi-yerry-mina-evertonda-354192h/\",\n          \"https://www.futbolarena.com/bayern-munih/schalke-bayern-munih-canli-skor-mac-sonucu-mac-hangi-kanalda-328195h/\"\n        ],\n        \"semantic_type\": \"\",\n        \"description\": \"\"\n      }\n    },\n    {\n      \"column\": \"Icerik\",\n      \"properties\": {\n        \"dtype\": \"string\",\n        \"num_unique_values\": 9915,\n        \"samples\": [\n          \"Willian kul\\u00fcp ar\\u0131yor\\n30 Temmuz 2021, Cuma 17:36\\nPAYLA\\u015e\\nArsenal'de g\\u00f6zden \\u00e7\\u0131kar\\u0131lan Willian, Suudi Arabistan'da Al Ahli kul\\u00fcb\\u00fcnden gelen teklifi d\\u00fc\\u015f\\u00fcnmek i\\u00e7in s\\u00fcre istedi. \\nFutbolArena D\\u0131\\u015f Haberler - Arsenal'de Willian g\\u00f6zden \\u00e7\\u0131kar\\u0131ld\\u0131. \\u0130ngiliz ekibinde yeni sezonda kadroda d\\u00fc\\u015f\\u00fcn\\u00fclmeyen Willian, menajerine kul\\u00fcp bulmas\\u0131 i\\u00e7in talimat verdi. \\n\\n\\u00d6te yandan Willian'a gelen ilk teklifin Suudi Arabistan'dan oldu\\u011fu \\u00f6\\u011frenildi. Al Ahli kul\\u00fcb\\u00fc y\\u0131ld\\u0131z futbolcuya 2025 y\\u0131l\\u0131na kadar s\\u00f6zle\\u015fme teklif etti. Willian ise d\\u00fc\\u015f\\u00fcnmek i\\u00e7in s\\u00fcre isterken, oyuncu ayn\\u0131 zamanda Avrupa'dan gelen teklifleri de de\\u011ferlendirmek istiyor. \\nWillian ge\\u00e7ti\\u011fimiz sezon Arsenal formas\\u0131yla ligde oynad\\u0131\\u011f\\u0131 25 ma\\u00e7ta 1 gol att\\u0131 ve 5 asist yapt\\u0131. \\n\\nTransfer Haberleri FutbolArena'da!\\n\\nARKADA\\u015eINI GET\\u0130R 50 TL B\\u0130LYONPUAN AL!\\nArsenal\\nWillian\\nUEFA Ba\\u015fkan\\u0131 Ceferin: \\\"Suudi Arabistan beni korkutmuyor\\\"\",\n          \"Real Madrid\\nFutbol Haberleri\\nLa Liga\\nReal Madrid\\nReal Madrid\\u2019in Mbappe i\\u00e7in \\u00e7\\u0131lg\\u0131n teklifi aylar sonra ortaya \\u00e7\\u0131kt\\u0131\\nReal Madrid'in Mbappe i\\u00e7in \\u00e7\\u0131lg\\u0131n teklifi aylar sonra ortaya \\u00e7\\u0131kt\\u0131\\n07 Kas\\u0131m 2018, \\u00c7ar\\u015famba 19:29\\nPAYLA\\u015e\\n00:00 / 00:00\\nReal Madrid'in PSG'den sonra Monaco'ya yapt\\u0131\\u011f\\u0131 Mbappe teklifi aylar sonra Football Leaks belgeleriyle ortaya \\u00e7\\u0131kt\\u0131.\\nFutbolArena D\\u0131\\u015f Haberler - Football Leaks belgeleri Avrupa futbolunu sallamaya devam ediyor. Son olarak Real Madrid'in Kylian Mbappe i\\u00e7in Monaco ile yapt\\u0131\\u011f\\u0131 \\u00e7\\u0131lg\\u0131n transfer pazarl\\u0131\\u011f\\u0131 g\\u00fcny\\u00fcz\\u00fcne \\u00e7\\u0131kt\\u0131.\\n Mbappe, Real Madrid'e neden transfer olmad\\u0131?\\n\\n180 milyon Euro bonservis bedeliyle ge\\u00e7en sezon Monaco'dan Paris Saint Germain'e transfer olan Mbappe, Real Madrid'in de kap\\u0131s\\u0131ndan d\\u00f6nd\\u00fc.\\n\\nFransa bas\\u0131n\\u0131ndan Mediapart sitesinin haberine g\\u00f6re Monaco'nun teklifinden sonra devreye giren Real Madrid, Kylian Mbappe i\\u00e7in vergilerle beraber tam 214 milyon Euro \\u00f6nerdi. Ancak Monaco'nun 34 milyon Euro'luk vergiden \\u00e7ekinmesi ve Mbappe'nin PSG'ye s\\u0131cak bakmas\\u0131ndan dolay\\u0131 Real Madrid'in t\\u00fcm \\u00e7abalar\\u0131na ra\\u011fmen bu transfer yatt\\u0131.\\n\\nDaha y\\u00fcksek bir teklif sunmas\\u0131n\\u0131n yan\\u0131 s\\u0131ra Kylian Mbappe'yi PSG'ye kapt\\u0131ran Real Madrid, bu geli\\u015fmeden sonra farkl\\u0131 alternatiflere y\\u00f6neldi.\\n\\nMBAPPE PSG'DE CO\\u015eTU\\n\\n2018 D\\u00fcnya Kupas\\u0131'nda 7 ma\\u00e7ta 4 gol kaydeden Mbappe, bu sezon PSG formas\\u0131yla 15 ma\\u00e7ta 14 gol att\\u0131. 19 ya\\u015f\\u0131nda muhte\\u015fem performaslar ortaya koyan Mbappe, bu futboluyla Real Madrid yetkililerini de \\u00fczm\\u00fc\\u015fe benziyor. Football Leaks belgelerinde ortaya \\u00e7\\u0131kacak ba\\u015fka ger\\u00e7ekler futbol kamuoyunda merakla bekleniyor.\\n\\nSon dakika D\\u00fcnyadan Futbol Haberleri FutbolArena'da!\\n\\nARKADA\\u015eINI GET\\u0130R 50 TL B\\u0130LYONPUAN AL!\\nPSG\\nReal Madrid\\nKylian Mbappe\\nParis Saint Germain\\nReal Madrid\\nReal Madrid 3-1 Barcelona ma\\u00e7 \\u00f6zeti ve golleri (\\u0130ZLE)\\nAvrupa\\u2019dan Futbol Haberleri (27 Nisan 2020)\",\n          \"Galatasaray\\nFutbol Haberleri\\nS\\u00fcper Lig\\nGalatasaray\\nGalatasaray\\u2019da Fatih Terim ile Belhanda aras\\u0131nda transfer zirvesi\\nGalatasaray'da Fatih Terim ile Belhanda aras\\u0131nda transfer zirvesi\\n15 Ocak 2019, Sal\\u0131 18:32\\nPAYLA\\u015e\\n00:00 / 00:00\\nGalatasaray teknik direkt\\u00f6r\\u00fc Fatih Terim, Al Ittihad tak\\u0131m\\u0131na transferi g\\u00fcndemde olan Younes Belhanda ile g\\u00f6r\\u00fc\\u015fecek.\\nFutbolArena \\u00d6zel - Belhanda - Al Ittihad transferinde s\\u0131cak geli\\u015fmeler ya\\u015fan\\u0131yor. Galatasaray'da teknik direkt\\u00f6r Fatih Terim, oyuncusu Younes Belhanda ile son kez g\\u00f6r\\u00fc\\u015f\\u00fcp durumunu masaya yat\\u0131raca\\u011f\\u0131 \\u00f6\\u011frenildi.\\n Galatasaray Belhanda'y\\u0131 satacak m\\u0131?\\n\\nTecr\\u00fcbeli teknik adam Belhanda ile transferi hakk\\u0131nda konu\\u015fup kalmas\\u0131n\\u0131 isteyecek. Belhanda, 'gitme' d\\u00fc\\u015f\\u00fcncesinden vazge\\u00e7erse sezon sonuna kadar Galatasaray'da kalacak. Ancak Belhanda'n\\u0131n, 'gitmek istiyorum' \\u00e7\\u0131k\\u0131\\u015f\\u0131n\\u0131 k\\u0131saca ayr\\u0131l\\u0131k ad\\u0131na bu tavr\\u0131n\\u0131 s\\u00fcrd\\u00fcrmesi halinde 'Gitmek isteyen oyuncuyu tak\\u0131mda tutman\\u0131n bir faydas\\u0131 olmaz. Katk\\u0131 sa\\u011flamaz' d\\u00fc\\u015f\\u00fcncesinde olan Fatih Terim, Fasl\\u0131 oyuncu karar\\u0131ndan d\\u00f6nmezse bu transfere izin verecek.\\n Belhanda kimdir, ka\\u00e7 ya\\u015f\\u0131nda? Belhanda transfermarkt\\n\\nKariyerine Montpellier altyap\\u0131s\\u0131nda ba\\u015flayan Belhanda, s\\u0131ras\\u0131yla Dinamo Kiev, Schalke, Nice ve Galatasaray formalar\\u0131 giydi. Sar\\u0131 k\\u0131rm\\u0131z\\u0131l\\u0131 kul\\u00fcple 2021 y\\u0131l\\u0131na kadar s\\u00f6zle\\u015fmesi bulunan Belhanda, bu sezon 15 resmi ma\\u00e7ta forma giydi ve 5 asist yapt\\u0131.\\n\\nSar\\u0131 K\\u0131rm\\u0131z\\u0131l\\u0131 tak\\u0131mla ilgili t\\u00fcm geli\\u015fmelere Galatasaray Haberleri sayfas\\u0131ndan ula\\u015fabilirsiniz. \\n\\nARKADA\\u015eINI GET\\u0130R 50 TL B\\u0130LYONPUAN AL!\\nAl Ittihad\\nGalatasaray\\nFatih Terim\\nYounes Belhanda\\nGalatasaray\\nErden Timur: \\\"Her \\u015fey a\\u00e7\\u0131klans\\u0131n\\\"\"\n        ],\n        \"semantic_type\": \"\",\n        \"description\": \"\"\n      }\n    }\n  ]\n}"
            }
          },
          "metadata": {},
          "execution_count": 18
        }
      ]
    }
  ]
}