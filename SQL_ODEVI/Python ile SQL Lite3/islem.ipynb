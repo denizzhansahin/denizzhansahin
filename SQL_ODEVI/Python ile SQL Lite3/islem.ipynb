{
 "cells": [
  {
   "cell_type": "code",
   "execution_count": 2,
   "metadata": {},
   "outputs": [],
   "source": [
    "import sqlite3\n",
    "\n",
    "#baglanma veya oluşturma\n",
    "isim_db = input(\"Veritabanı ismi yaz :\")\n",
    "vt = sqlite3.connect(str(isim_db)+\".sqlite3\")\n",
    "#imleç oluştur\n",
    "im = vt.cursor()"
   ]
  },
  {
   "cell_type": "code",
   "execution_count": 6,
   "metadata": {},
   "outputs": [
    {
     "data": {
      "text/plain": [
       "<sqlite3.Cursor at 0x7fced4b8a650>"
      ]
     },
     "execution_count": 6,
     "metadata": {},
     "output_type": "execute_result"
    }
   ],
   "source": [
    "#tablo oluştur\n",
    "tablo_sql = \"\"\"CREATE TABLE kisisel_bilgilerim (isim TEXT, soyisim TEXT,telno,adres VARCHAR,bolum VARCHAR,Id INTEGER PRIMARY KEY AUTOINCREMENT)\"\"\"\n",
    "im.execute(tablo_sql)"
   ]
  },
  {
   "cell_type": "code",
   "execution_count": 52,
   "metadata": {},
   "outputs": [
    {
     "name": "stdout",
     "output_type": "stream",
     "text": [
      "[]\n"
     ]
    }
   ],
   "source": [
    "#tablo göster\n",
    "tablo_sql_goster = 'SELECT * FROM kisisel_bilgilerim'\n",
    "im.execute(tablo_sql_goster)\n",
    "deger=im.fetchall()\n",
    "print(deger)"
   ]
  },
  {
   "cell_type": "code",
   "execution_count": null,
   "metadata": {},
   "outputs": [],
   "source": [
    "#deger ekle\n",
    "for i in range(1):\n",
    "    \"\"\"\n",
    "    isim = input(\"İsim yaz\")\n",
    "    soyisim = input(\"Soyisim yaz\")\n",
    "    telno = int(input(\"Telno yaz\"))\n",
    "    adres = input(\"Adres yaz\")\n",
    "    bolum = input(\"Bolum yaz\")\n",
    "    \"\"\"  \n",
    "    \n",
    "    isim = \"deniz\"\n",
    "    soyisim = \"sahin\"\n",
    "    telno = \"45235432\"\n",
    "    adres = \"yozgat\"\n",
    "    bolum = \"bilgisayar\"\n",
    "    id = 12\n",
    "    \n",
    "    veriler = [(isim,soyisim,telno,adres,bolum,id)]\n",
    "    \n",
    "    for veri in veriler:\n",
    "        im.execute(\"\"\"INSERT INTO kisisel_bilgilerim VALUES(?, ?, ?, ?, ?,?)\"\"\", veri)"
   ]
  },
  {
   "cell_type": "code",
   "execution_count": 39,
   "metadata": {},
   "outputs": [],
   "source": [
    "#deger guncelle - soyad\n",
    "ne = input(\"Guncellenecek sütun seç\")\n",
    "\n",
    "if(ne==\"soyisim\"):\n",
    "    def soyisim_update():\n",
    "        deger = int(input(\"hangi id guncellenecek\"))\n",
    "        g= input(\"yeni soyad\")\n",
    "\n",
    "        def soyisim_guncelle(task):\n",
    "            sql = ''' UPDATE kisisel_bilgilerim\n",
    "                    SET soyisim = ? \n",
    "                    WHERE id = ?'''\n",
    "            \n",
    "            im.execute(sql, task)\n",
    "            \n",
    "\n",
    "        soyisim_guncelle((g,deger))\n",
    "    soyisim_update()\n",
    "if(ne==\"isim\"):\n",
    "    def isim_update():\n",
    "        deger = int(input(\"hangi id guncellenecek\"))\n",
    "        g= input(\"yeni isim\")\n",
    "\n",
    "        def isim_guncelle(task):\n",
    "            sql = ''' UPDATE kisisel_bilgilerim\n",
    "                    SET isim = ? \n",
    "                    WHERE id = ?'''\n",
    "            \n",
    "            im.execute(sql, task)\n",
    "            \n",
    "\n",
    "        isim_guncelle((g,deger))\n",
    "    isim_update()\n",
    "\n",
    "if(ne==\"telno\"):\n",
    "    def tel_update():\n",
    "        deger = int(input(\"hangi id guncellenecek\"))\n",
    "        g= input(\"yeni telno\")\n",
    "\n",
    "        def tel_guncelle(task):\n",
    "            sql = ''' UPDATE kisisel_bilgilerim\n",
    "                    SET telno = ? \n",
    "                    WHERE id = ?'''\n",
    "            \n",
    "            im.execute(sql, task)\n",
    "            \n",
    "\n",
    "        tel_guncelle((g,deger))\n",
    "    tel_update()\n",
    "\n",
    "if(ne==\"adres\"):\n",
    "    def adres_update():\n",
    "        deger = int(input(\"hangi id guncellenecek\"))\n",
    "        g= input(\"yeni adres\")\n",
    "\n",
    "        def adres_guncelle(task):\n",
    "            sql = ''' UPDATE kisisel_bilgilerim\n",
    "                    SET adres = ? \n",
    "                    WHERE id = ?'''\n",
    "            \n",
    "            im.execute(sql, task)\n",
    "            \n",
    "\n",
    "        adres_guncelle((g,deger))\n",
    "    adres_update()\n",
    "\n",
    "if(ne==\"bolum\"):\n",
    "    def bolum_update():\n",
    "        deger = int(input(\"hangi id guncellenecek\"))\n",
    "        g= input(\"yeni bolum\")\n",
    "\n",
    "        def bolum_guncelle(task):\n",
    "            sql = ''' UPDATE kisisel_bilgilerim\n",
    "                    SET bolum = ? \n",
    "                    WHERE id = ?'''\n",
    "            \n",
    "            im.execute(sql, task)\n",
    "            \n",
    "\n",
    "        bolum_guncelle((g,deger))\n",
    "    bolum_update()"
   ]
  },
  {
   "cell_type": "code",
   "execution_count": 51,
   "metadata": {},
   "outputs": [],
   "source": [
    "#silme\n",
    "\n",
    "ne = (input(\"Ne yapılacak?\"))\n",
    "\n",
    "if(ne==\"sil\"):\n",
    "    def sil():\n",
    "        deger = int(input(\"hangi id silinecek\"))\n",
    "\n",
    "        def silme(task):\n",
    "            sql = ''' DELETE FROM kisisel_bilgilerim \n",
    "                    WHERE id = ?'''\n",
    "            \n",
    "            im.execute(sql, task)\n",
    "            \n",
    "\n",
    "        silme((deger,))\n",
    "    sil()"
   ]
  },
  {
   "cell_type": "code",
   "execution_count": 3,
   "metadata": {},
   "outputs": [],
   "source": [
    "#kaydet\n",
    "vt = sqlite3.connect(':memory:DenizhanVeriTabani')"
   ]
  }
 ],
 "metadata": {
  "kernelspec": {
   "display_name": "Python 3",
   "language": "python",
   "name": "python3"
  },
  "language_info": {
   "codemirror_mode": {
    "name": "ipython",
    "version": 3
   },
   "file_extension": ".py",
   "mimetype": "text/x-python",
   "name": "python",
   "nbconvert_exporter": "python",
   "pygments_lexer": "ipython3",
   "version": "3.9.2"
  },
  "orig_nbformat": 4,
  "vscode": {
   "interpreter": {
    "hash": "916dbcbb3f70747c44a77c7bcd40155683ae19c65e1c03b4aa3499c5328201f1"
   }
  }
 },
 "nbformat": 4,
 "nbformat_minor": 2
}
